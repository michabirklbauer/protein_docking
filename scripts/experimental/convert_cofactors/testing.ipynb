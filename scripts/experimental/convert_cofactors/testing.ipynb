{
 "cells": [
  {
   "cell_type": "code",
   "execution_count": 1,
   "id": "tamil-stability",
   "metadata": {},
   "outputs": [],
   "source": [
    "import json\n",
    "import warnings\n",
    "import numpy as np\n",
    "import pandas as pd\n",
    "import traceback as tb\n",
    "from rdkit import Chem\n",
    "from biopandas.pdb import PandasPdb\n",
    "from matplotlib import pyplot as plt\n",
    "from sklearn.model_selection import train_test_split\n",
    "from plip.structure.preparation import PDBComplex\n",
    "from plip.basic.config import biolip_list"
   ]
  },
  {
   "cell_type": "code",
   "execution_count": 2,
   "id": "efficient-season",
   "metadata": {},
   "outputs": [],
   "source": [
    "mol = PDBComplex()\n",
    "mol.load_pdb(\"2C67.pdb\")\n",
    "for ligand in mol.ligands:\n",
    "    mol.characterize_complex(ligand)"
   ]
  },
  {
   "cell_type": "code",
   "execution_count": 3,
   "id": "handed-pension",
   "metadata": {},
   "outputs": [],
   "source": [
    "e_Salt_Bridges = []\n",
    "e_Hydrogen_Bonds = []\n",
    "e_Pi_Stacking = []\n",
    "e_Pi_Cation_Interactions = []\n",
    "e_Hydrophobic_Contacts = []\n",
    "e_Halogen_Bonds = []\n",
    "e_Water_Bridges = []\n",
    "e_Metal_Complexes = []\n",
    "\n",
    "for key in mol.interaction_sets:\n",
    "    iHet_ID, iChain, iPosition = key.split(\":\")\n",
    "    # discard suspicious ligands\n",
    "    # e.g. see -> https://github.com/pharmai/plip/blob/master/plip/basic/config.py\n",
    "    if iHet_ID.strip().upper() in biolip_list:\n",
    "        continue\n",
    "    # discard uninteressted chains\n",
    "    if iChain != \"A\":\n",
    "        continue\n",
    "    interaction = mol.interaction_sets[key]\n",
    "\n",
    "    # get interaction residues where an interaction is with the ligand (e.g. cofactor) -> restype == \"LIG\"\n",
    "    # SALT BRIDGES\n",
    "    tmp_salt_bridges = interaction.saltbridge_lneg + interaction.saltbridge_pneg\n",
    "    Salt_Bridges = [''.join([str(i.restype), str(i.resnr), str(i.reschain)]) for i in tmp_salt_bridges if i.restype == \"LIG\"]\n",
    "    e_Salt_Bridges = e_Salt_Bridges + Salt_Bridges\n",
    "    # HYDROGEN BONDS\n",
    "    tmp_h_bonds = interaction.hbonds_pdon + interaction.hbonds_ldon\n",
    "    Hydrogen_Bonds = [''.join([str(i.restype), str(i.resnr), str(i.reschain)]) for i in tmp_h_bonds if i.restype == \"LIG\"]\n",
    "    e_Hydrogen_Bonds = e_Hydrogen_Bonds + Hydrogen_Bonds\n",
    "    # PI STACKING\n",
    "    Pi_Stacking = [''.join([str(i.restype), str(i.resnr), str(i.reschain)]) for i in interaction.pistacking if i.restype == \"LIG\"]\n",
    "    e_Pi_Stacking = e_Pi_Stacking + Pi_Stacking\n",
    "    # PI CATION INTERACTION\n",
    "    tmp_pication = interaction.pication_laro + interaction.pication_paro\n",
    "    Pi_Cation_Interactions = [''.join([str(i.restype), str(i.resnr), str(i.reschain)]) for i in tmp_pication if i.restype == \"LIG\"]\n",
    "    e_Pi_Cation_Interactions = e_Pi_Cation_Interactions + Pi_Cation_Interactions\n",
    "    # HYDROPHOBIC CONTACTS\n",
    "    Hydrophobic_Contacts = [''.join([str(i.restype), str(i.resnr), str(i.reschain)]) for i in interaction.hydrophobic_contacts if i.restype == \"LIG\"]\n",
    "    e_Hydrophobic_Contacts = e_Hydrophobic_Contacts + Hydrophobic_Contacts\n",
    "    # HALOGEN BONDS\n",
    "    Halogen_Bonds = [''.join([str(i.restype), str(i.resnr), str(i.reschain)]) for i in interaction.halogen_bonds if i.restype == \"LIG\"]\n",
    "    e_Halogen_Bonds = e_Halogen_Bonds + Halogen_Bonds\n",
    "    # WATER BRIDGES\n",
    "    Water_Bridges = [''.join([str(i.restype), str(i.resnr), str(i.reschain)]) for i in interaction.water_bridges if i.restype == \"LIG\"]\n",
    "    e_Water_Bridges = e_Water_Bridges + Water_Bridges\n",
    "    # METAL COMPLEXES\n",
    "    Metal_Complexes = [''.join([str(i.restype), str(i.resnr), str(i.reschain)]) for i in interaction.metal_complexes if i.restype == \"LIG\"]\n",
    "    e_Metal_Complexes = e_Metal_Complexes + Metal_Complexes"
   ]
  },
  {
   "cell_type": "code",
   "execution_count": 4,
   "id": "outstanding-slope",
   "metadata": {},
   "outputs": [
    {
     "data": {
      "text/plain": [
       "[]"
      ]
     },
     "execution_count": 4,
     "metadata": {},
     "output_type": "execute_result"
    }
   ],
   "source": [
    "e_Salt_Bridges"
   ]
  },
  {
   "cell_type": "code",
   "execution_count": 5,
   "id": "angry-occasion",
   "metadata": {},
   "outputs": [
    {
     "data": {
      "text/plain": [
       "[]"
      ]
     },
     "execution_count": 5,
     "metadata": {},
     "output_type": "execute_result"
    }
   ],
   "source": [
    "e_Hydrogen_Bonds"
   ]
  },
  {
   "cell_type": "code",
   "execution_count": 6,
   "id": "dangerous-nursery",
   "metadata": {},
   "outputs": [
    {
     "data": {
      "text/plain": [
       "[]"
      ]
     },
     "execution_count": 6,
     "metadata": {},
     "output_type": "execute_result"
    }
   ],
   "source": [
    "e_Pi_Stacking"
   ]
  },
  {
   "cell_type": "code",
   "execution_count": 7,
   "id": "favorite-august",
   "metadata": {},
   "outputs": [
    {
     "data": {
      "text/plain": [
       "[]"
      ]
     },
     "execution_count": 7,
     "metadata": {},
     "output_type": "execute_result"
    }
   ],
   "source": [
    "e_Pi_Cation_Interactions"
   ]
  },
  {
   "cell_type": "code",
   "execution_count": 8,
   "id": "fitted-northern",
   "metadata": {},
   "outputs": [
    {
     "data": {
      "text/plain": [
       "[]"
      ]
     },
     "execution_count": 8,
     "metadata": {},
     "output_type": "execute_result"
    }
   ],
   "source": [
    "e_Hydrophobic_Contacts"
   ]
  },
  {
   "cell_type": "code",
   "execution_count": 9,
   "id": "acquired-concern",
   "metadata": {},
   "outputs": [
    {
     "data": {
      "text/plain": [
       "[]"
      ]
     },
     "execution_count": 9,
     "metadata": {},
     "output_type": "execute_result"
    }
   ],
   "source": [
    "e_Halogen_Bonds"
   ]
  },
  {
   "cell_type": "code",
   "execution_count": 10,
   "id": "impaired-donor",
   "metadata": {},
   "outputs": [
    {
     "data": {
      "text/plain": [
       "[]"
      ]
     },
     "execution_count": 10,
     "metadata": {},
     "output_type": "execute_result"
    }
   ],
   "source": [
    "e_Water_Bridges"
   ]
  },
  {
   "cell_type": "code",
   "execution_count": 11,
   "id": "fifth-nature",
   "metadata": {},
   "outputs": [
    {
     "data": {
      "text/plain": [
       "[]"
      ]
     },
     "execution_count": 11,
     "metadata": {},
     "output_type": "execute_result"
    }
   ],
   "source": [
    "e_Metal_Complexes"
   ]
  },
  {
   "cell_type": "code",
   "execution_count": null,
   "id": "better-output",
   "metadata": {},
   "outputs": [],
   "source": []
  }
 ],
 "metadata": {
  "kernelspec": {
   "display_name": "Python 3",
   "language": "python",
   "name": "python3"
  },
  "language_info": {
   "codemirror_mode": {
    "name": "ipython",
    "version": 3
   },
   "file_extension": ".py",
   "mimetype": "text/x-python",
   "name": "python",
   "nbconvert_exporter": "python",
   "pygments_lexer": "ipython3",
   "version": "3.8.8"
  }
 },
 "nbformat": 4,
 "nbformat_minor": 5
}
