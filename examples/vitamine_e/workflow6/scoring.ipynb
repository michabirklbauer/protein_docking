{
 "cells": [
  {
   "cell_type": "markdown",
   "id": "cutting-trinity",
   "metadata": {},
   "source": [
    "## **SCORING - Vitamin E: Workflow6**\n",
    "#### **Micha Birklbauer 2021-08-01**"
   ]
  },
  {
   "cell_type": "code",
   "execution_count": 1,
   "id": "rocky-creation",
   "metadata": {},
   "outputs": [
    {
     "data": {
      "text/plain": [
       "'scoring.py'"
      ]
     },
     "execution_count": 1,
     "metadata": {},
     "output_type": "execute_result"
    }
   ],
   "source": [
    "import os\n",
    "from shutil import copyfile\n",
    "copyfile(\"../../../scripts/python/scoring.py\", \"scoring.py\")"
   ]
  },
  {
   "cell_type": "code",
   "execution_count": 2,
   "id": "level-aquatic",
   "metadata": {},
   "outputs": [],
   "source": [
    "import pandas as pd\n",
    "from scoring import *"
   ]
  },
  {
   "cell_type": "markdown",
   "id": "satisfactory-zambia",
   "metadata": {},
   "source": [
    "#### **Load data:**"
   ]
  },
  {
   "cell_type": "code",
   "execution_count": 3,
   "id": "mechanical-strategy",
   "metadata": {},
   "outputs": [],
   "source": [
    "data_train = pd.read_csv(\"data_train.csv\")\n",
    "data_val = pd.read_csv(\"data_val.csv\")\n",
    "data_test = pd.read_csv(\"data_test.csv\")\n",
    "features = pd.read_csv(\"features.csv\")"
   ]
  },
  {
   "cell_type": "code",
   "execution_count": 4,
   "id": "ahead-roommate",
   "metadata": {},
   "outputs": [],
   "source": [
    "# data_train.info()"
   ]
  },
  {
   "cell_type": "code",
   "execution_count": 5,
   "id": "departmental-safety",
   "metadata": {},
   "outputs": [
    {
     "data": {
      "text/html": [
       "<div>\n",
       "<style scoped>\n",
       "    .dataframe tbody tr th:only-of-type {\n",
       "        vertical-align: middle;\n",
       "    }\n",
       "\n",
       "    .dataframe tbody tr th {\n",
       "        vertical-align: top;\n",
       "    }\n",
       "\n",
       "    .dataframe thead th {\n",
       "        text-align: right;\n",
       "    }\n",
       "</style>\n",
       "<table border=\"1\" class=\"dataframe\">\n",
       "  <thead>\n",
       "    <tr style=\"text-align: right;\">\n",
       "      <th></th>\n",
       "      <th>INDEX</th>\n",
       "      <th>NAME</th>\n",
       "      <th>Hydrogen_Bond:VAL389B</th>\n",
       "      <th>Hydrophobic_Interaction:HIS390B</th>\n",
       "      <th>Salt_Bridge:LYS140B</th>\n",
       "      <th>Hydrogen_Bond:PRO98B</th>\n",
       "      <th>Hydrophobic_Interaction:HIS130B</th>\n",
       "      <th>Halogen_Bond:ARG138B</th>\n",
       "      <th>Hydrophobic_Interaction:ARG165B</th>\n",
       "      <th>Hydrogen_Bond:ALA388B</th>\n",
       "      <th>...</th>\n",
       "      <th>Salt_Bridge:HIS624B</th>\n",
       "      <th>Salt_Bridge:GLU134B</th>\n",
       "      <th>Salt_Bridge:ASP166B</th>\n",
       "      <th>Hydrophobic_Interaction:GLN141B</th>\n",
       "      <th>Hydrogen_Bond:GLU70B</th>\n",
       "      <th>Hydrogen_Bond:ARG101B</th>\n",
       "      <th>Hydrophobic_Interaction:ALA388B</th>\n",
       "      <th>Hydrophobic_Interaction:VAL107B</th>\n",
       "      <th>Hydrophobic_Interaction:GLU108B</th>\n",
       "      <th>LABEL</th>\n",
       "    </tr>\n",
       "  </thead>\n",
       "  <tbody>\n",
       "    <tr>\n",
       "      <th>0</th>\n",
       "      <td>1</td>\n",
       "      <td>101|VitaminE_allmin_active|sdf|101</td>\n",
       "      <td>0</td>\n",
       "      <td>0</td>\n",
       "      <td>0</td>\n",
       "      <td>0</td>\n",
       "      <td>1</td>\n",
       "      <td>0</td>\n",
       "      <td>0</td>\n",
       "      <td>1</td>\n",
       "      <td>...</td>\n",
       "      <td>1</td>\n",
       "      <td>0</td>\n",
       "      <td>0</td>\n",
       "      <td>0</td>\n",
       "      <td>0</td>\n",
       "      <td>0</td>\n",
       "      <td>1</td>\n",
       "      <td>0</td>\n",
       "      <td>0</td>\n",
       "      <td>active</td>\n",
       "    </tr>\n",
       "    <tr>\n",
       "      <th>1</th>\n",
       "      <td>2</td>\n",
       "      <td>111|VitaminE_allmin_decoy|sdf|111</td>\n",
       "      <td>0</td>\n",
       "      <td>0</td>\n",
       "      <td>0</td>\n",
       "      <td>0</td>\n",
       "      <td>1</td>\n",
       "      <td>0</td>\n",
       "      <td>0</td>\n",
       "      <td>0</td>\n",
       "      <td>...</td>\n",
       "      <td>0</td>\n",
       "      <td>0</td>\n",
       "      <td>0</td>\n",
       "      <td>1</td>\n",
       "      <td>0</td>\n",
       "      <td>2</td>\n",
       "      <td>0</td>\n",
       "      <td>0</td>\n",
       "      <td>0</td>\n",
       "      <td>inactive</td>\n",
       "    </tr>\n",
       "    <tr>\n",
       "      <th>2</th>\n",
       "      <td>3</td>\n",
       "      <td>19|VitaminE_allmin_active|sdf|19</td>\n",
       "      <td>0</td>\n",
       "      <td>0</td>\n",
       "      <td>0</td>\n",
       "      <td>0</td>\n",
       "      <td>1</td>\n",
       "      <td>0</td>\n",
       "      <td>0</td>\n",
       "      <td>0</td>\n",
       "      <td>...</td>\n",
       "      <td>0</td>\n",
       "      <td>0</td>\n",
       "      <td>0</td>\n",
       "      <td>0</td>\n",
       "      <td>0</td>\n",
       "      <td>0</td>\n",
       "      <td>1</td>\n",
       "      <td>0</td>\n",
       "      <td>0</td>\n",
       "      <td>active</td>\n",
       "    </tr>\n",
       "    <tr>\n",
       "      <th>3</th>\n",
       "      <td>4</td>\n",
       "      <td>54|VitaminE_allmin_decoy|sdf|54</td>\n",
       "      <td>0</td>\n",
       "      <td>0</td>\n",
       "      <td>0</td>\n",
       "      <td>0</td>\n",
       "      <td>0</td>\n",
       "      <td>0</td>\n",
       "      <td>0</td>\n",
       "      <td>0</td>\n",
       "      <td>...</td>\n",
       "      <td>0</td>\n",
       "      <td>2</td>\n",
       "      <td>2</td>\n",
       "      <td>0</td>\n",
       "      <td>0</td>\n",
       "      <td>3</td>\n",
       "      <td>0</td>\n",
       "      <td>1</td>\n",
       "      <td>0</td>\n",
       "      <td>inactive</td>\n",
       "    </tr>\n",
       "    <tr>\n",
       "      <th>4</th>\n",
       "      <td>5</td>\n",
       "      <td>98|VitaminE_allmin_decoy|sdf|98</td>\n",
       "      <td>0</td>\n",
       "      <td>0</td>\n",
       "      <td>0</td>\n",
       "      <td>0</td>\n",
       "      <td>0</td>\n",
       "      <td>0</td>\n",
       "      <td>0</td>\n",
       "      <td>1</td>\n",
       "      <td>...</td>\n",
       "      <td>1</td>\n",
       "      <td>0</td>\n",
       "      <td>0</td>\n",
       "      <td>0</td>\n",
       "      <td>0</td>\n",
       "      <td>0</td>\n",
       "      <td>1</td>\n",
       "      <td>0</td>\n",
       "      <td>1</td>\n",
       "      <td>inactive</td>\n",
       "    </tr>\n",
       "    <tr>\n",
       "      <th>...</th>\n",
       "      <td>...</td>\n",
       "      <td>...</td>\n",
       "      <td>...</td>\n",
       "      <td>...</td>\n",
       "      <td>...</td>\n",
       "      <td>...</td>\n",
       "      <td>...</td>\n",
       "      <td>...</td>\n",
       "      <td>...</td>\n",
       "      <td>...</td>\n",
       "      <td>...</td>\n",
       "      <td>...</td>\n",
       "      <td>...</td>\n",
       "      <td>...</td>\n",
       "      <td>...</td>\n",
       "      <td>...</td>\n",
       "      <td>...</td>\n",
       "      <td>...</td>\n",
       "      <td>...</td>\n",
       "      <td>...</td>\n",
       "      <td>...</td>\n",
       "    </tr>\n",
       "    <tr>\n",
       "      <th>84</th>\n",
       "      <td>85</td>\n",
       "      <td>171|VitaminE_allmin_active|sdf|171</td>\n",
       "      <td>0</td>\n",
       "      <td>0</td>\n",
       "      <td>0</td>\n",
       "      <td>0</td>\n",
       "      <td>0</td>\n",
       "      <td>0</td>\n",
       "      <td>0</td>\n",
       "      <td>0</td>\n",
       "      <td>...</td>\n",
       "      <td>0</td>\n",
       "      <td>0</td>\n",
       "      <td>0</td>\n",
       "      <td>1</td>\n",
       "      <td>0</td>\n",
       "      <td>0</td>\n",
       "      <td>1</td>\n",
       "      <td>0</td>\n",
       "      <td>0</td>\n",
       "      <td>active</td>\n",
       "    </tr>\n",
       "    <tr>\n",
       "      <th>85</th>\n",
       "      <td>86</td>\n",
       "      <td>103|VitaminE_allmin_active|sdf|103</td>\n",
       "      <td>0</td>\n",
       "      <td>0</td>\n",
       "      <td>0</td>\n",
       "      <td>0</td>\n",
       "      <td>0</td>\n",
       "      <td>0</td>\n",
       "      <td>0</td>\n",
       "      <td>0</td>\n",
       "      <td>...</td>\n",
       "      <td>0</td>\n",
       "      <td>0</td>\n",
       "      <td>0</td>\n",
       "      <td>0</td>\n",
       "      <td>0</td>\n",
       "      <td>1</td>\n",
       "      <td>0</td>\n",
       "      <td>1</td>\n",
       "      <td>0</td>\n",
       "      <td>active</td>\n",
       "    </tr>\n",
       "    <tr>\n",
       "      <th>86</th>\n",
       "      <td>87</td>\n",
       "      <td>118|VitaminE_allmin_active|sdf|118</td>\n",
       "      <td>0</td>\n",
       "      <td>0</td>\n",
       "      <td>0</td>\n",
       "      <td>0</td>\n",
       "      <td>0</td>\n",
       "      <td>0</td>\n",
       "      <td>0</td>\n",
       "      <td>1</td>\n",
       "      <td>...</td>\n",
       "      <td>0</td>\n",
       "      <td>0</td>\n",
       "      <td>0</td>\n",
       "      <td>1</td>\n",
       "      <td>0</td>\n",
       "      <td>0</td>\n",
       "      <td>1</td>\n",
       "      <td>1</td>\n",
       "      <td>0</td>\n",
       "      <td>active</td>\n",
       "    </tr>\n",
       "    <tr>\n",
       "      <th>87</th>\n",
       "      <td>88</td>\n",
       "      <td>106|VitaminE_allmin_decoy|sdf|106</td>\n",
       "      <td>0</td>\n",
       "      <td>0</td>\n",
       "      <td>0</td>\n",
       "      <td>0</td>\n",
       "      <td>0</td>\n",
       "      <td>0</td>\n",
       "      <td>0</td>\n",
       "      <td>0</td>\n",
       "      <td>...</td>\n",
       "      <td>0</td>\n",
       "      <td>0</td>\n",
       "      <td>0</td>\n",
       "      <td>0</td>\n",
       "      <td>0</td>\n",
       "      <td>1</td>\n",
       "      <td>0</td>\n",
       "      <td>0</td>\n",
       "      <td>0</td>\n",
       "      <td>inactive</td>\n",
       "    </tr>\n",
       "    <tr>\n",
       "      <th>88</th>\n",
       "      <td>89</td>\n",
       "      <td>128|VitaminE_allmin_decoy|sdf|128</td>\n",
       "      <td>0</td>\n",
       "      <td>0</td>\n",
       "      <td>0</td>\n",
       "      <td>0</td>\n",
       "      <td>0</td>\n",
       "      <td>0</td>\n",
       "      <td>0</td>\n",
       "      <td>0</td>\n",
       "      <td>...</td>\n",
       "      <td>0</td>\n",
       "      <td>0</td>\n",
       "      <td>0</td>\n",
       "      <td>0</td>\n",
       "      <td>0</td>\n",
       "      <td>1</td>\n",
       "      <td>0</td>\n",
       "      <td>0</td>\n",
       "      <td>0</td>\n",
       "      <td>inactive</td>\n",
       "    </tr>\n",
       "  </tbody>\n",
       "</table>\n",
       "<p>89 rows × 91 columns</p>\n",
       "</div>"
      ],
      "text/plain": [
       "    INDEX                                NAME  Hydrogen_Bond:VAL389B  \\\n",
       "0       1  101|VitaminE_allmin_active|sdf|101                      0   \n",
       "1       2   111|VitaminE_allmin_decoy|sdf|111                      0   \n",
       "2       3    19|VitaminE_allmin_active|sdf|19                      0   \n",
       "3       4     54|VitaminE_allmin_decoy|sdf|54                      0   \n",
       "4       5     98|VitaminE_allmin_decoy|sdf|98                      0   \n",
       "..    ...                                 ...                    ...   \n",
       "84     85  171|VitaminE_allmin_active|sdf|171                      0   \n",
       "85     86  103|VitaminE_allmin_active|sdf|103                      0   \n",
       "86     87  118|VitaminE_allmin_active|sdf|118                      0   \n",
       "87     88   106|VitaminE_allmin_decoy|sdf|106                      0   \n",
       "88     89   128|VitaminE_allmin_decoy|sdf|128                      0   \n",
       "\n",
       "    Hydrophobic_Interaction:HIS390B  Salt_Bridge:LYS140B  \\\n",
       "0                                 0                    0   \n",
       "1                                 0                    0   \n",
       "2                                 0                    0   \n",
       "3                                 0                    0   \n",
       "4                                 0                    0   \n",
       "..                              ...                  ...   \n",
       "84                                0                    0   \n",
       "85                                0                    0   \n",
       "86                                0                    0   \n",
       "87                                0                    0   \n",
       "88                                0                    0   \n",
       "\n",
       "    Hydrogen_Bond:PRO98B  Hydrophobic_Interaction:HIS130B  \\\n",
       "0                      0                                1   \n",
       "1                      0                                1   \n",
       "2                      0                                1   \n",
       "3                      0                                0   \n",
       "4                      0                                0   \n",
       "..                   ...                              ...   \n",
       "84                     0                                0   \n",
       "85                     0                                0   \n",
       "86                     0                                0   \n",
       "87                     0                                0   \n",
       "88                     0                                0   \n",
       "\n",
       "    Halogen_Bond:ARG138B  Hydrophobic_Interaction:ARG165B  \\\n",
       "0                      0                                0   \n",
       "1                      0                                0   \n",
       "2                      0                                0   \n",
       "3                      0                                0   \n",
       "4                      0                                0   \n",
       "..                   ...                              ...   \n",
       "84                     0                                0   \n",
       "85                     0                                0   \n",
       "86                     0                                0   \n",
       "87                     0                                0   \n",
       "88                     0                                0   \n",
       "\n",
       "    Hydrogen_Bond:ALA388B  ...  Salt_Bridge:HIS624B  Salt_Bridge:GLU134B  \\\n",
       "0                       1  ...                    1                    0   \n",
       "1                       0  ...                    0                    0   \n",
       "2                       0  ...                    0                    0   \n",
       "3                       0  ...                    0                    2   \n",
       "4                       1  ...                    1                    0   \n",
       "..                    ...  ...                  ...                  ...   \n",
       "84                      0  ...                    0                    0   \n",
       "85                      0  ...                    0                    0   \n",
       "86                      1  ...                    0                    0   \n",
       "87                      0  ...                    0                    0   \n",
       "88                      0  ...                    0                    0   \n",
       "\n",
       "    Salt_Bridge:ASP166B  Hydrophobic_Interaction:GLN141B  \\\n",
       "0                     0                                0   \n",
       "1                     0                                1   \n",
       "2                     0                                0   \n",
       "3                     2                                0   \n",
       "4                     0                                0   \n",
       "..                  ...                              ...   \n",
       "84                    0                                1   \n",
       "85                    0                                0   \n",
       "86                    0                                1   \n",
       "87                    0                                0   \n",
       "88                    0                                0   \n",
       "\n",
       "    Hydrogen_Bond:GLU70B  Hydrogen_Bond:ARG101B  \\\n",
       "0                      0                      0   \n",
       "1                      0                      2   \n",
       "2                      0                      0   \n",
       "3                      0                      3   \n",
       "4                      0                      0   \n",
       "..                   ...                    ...   \n",
       "84                     0                      0   \n",
       "85                     0                      1   \n",
       "86                     0                      0   \n",
       "87                     0                      1   \n",
       "88                     0                      1   \n",
       "\n",
       "    Hydrophobic_Interaction:ALA388B  Hydrophobic_Interaction:VAL107B  \\\n",
       "0                                 1                                0   \n",
       "1                                 0                                0   \n",
       "2                                 1                                0   \n",
       "3                                 0                                1   \n",
       "4                                 1                                0   \n",
       "..                              ...                              ...   \n",
       "84                                1                                0   \n",
       "85                                0                                1   \n",
       "86                                1                                1   \n",
       "87                                0                                0   \n",
       "88                                0                                0   \n",
       "\n",
       "    Hydrophobic_Interaction:GLU108B     LABEL  \n",
       "0                                 0    active  \n",
       "1                                 0  inactive  \n",
       "2                                 0    active  \n",
       "3                                 0  inactive  \n",
       "4                                 1  inactive  \n",
       "..                              ...       ...  \n",
       "84                                0    active  \n",
       "85                                0    active  \n",
       "86                                0    active  \n",
       "87                                0  inactive  \n",
       "88                                0  inactive  \n",
       "\n",
       "[89 rows x 91 columns]"
      ]
     },
     "execution_count": 5,
     "metadata": {},
     "output_type": "execute_result"
    }
   ],
   "source": [
    "data_train"
   ]
  },
  {
   "cell_type": "code",
   "execution_count": 6,
   "id": "frank-newark",
   "metadata": {},
   "outputs": [
    {
     "name": "stdout",
     "output_type": "stream",
     "text": [
      "Training dataset shape & Nr. of actives:\n",
      "(89, 91) 62\n"
     ]
    }
   ],
   "source": [
    "print(\"Training dataset shape & Nr. of actives:\")\n",
    "print(data_train.shape, len(data_train.loc[data_train[\"LABEL\"] == \"active\"]))"
   ]
  },
  {
   "cell_type": "code",
   "execution_count": 7,
   "id": "bulgarian-softball",
   "metadata": {},
   "outputs": [
    {
     "name": "stdout",
     "output_type": "stream",
     "text": [
      "Validation dataset shape & Nr. of actives:\n",
      "(23, 91) 15\n"
     ]
    }
   ],
   "source": [
    "print(\"Validation dataset shape & Nr. of actives:\")\n",
    "print(data_val.shape, len(data_val.loc[data_val[\"LABEL\"] == \"active\"]))"
   ]
  },
  {
   "cell_type": "code",
   "execution_count": 8,
   "id": "eleven-bryan",
   "metadata": {},
   "outputs": [
    {
     "name": "stdout",
     "output_type": "stream",
     "text": [
      "Test dataset shape & Nr. of actives:\n",
      "(29, 91) 20\n"
     ]
    }
   ],
   "source": [
    "print(\"Test dataset shape & Nr. of actives:\")\n",
    "print(data_test.shape, len(data_test.loc[data_test[\"LABEL\"] == \"active\"]))"
   ]
  },
  {
   "cell_type": "code",
   "execution_count": 9,
   "id": "annual-donna",
   "metadata": {},
   "outputs": [
    {
     "data": {
      "text/html": [
       "<div>\n",
       "<style scoped>\n",
       "    .dataframe tbody tr th:only-of-type {\n",
       "        vertical-align: middle;\n",
       "    }\n",
       "\n",
       "    .dataframe tbody tr th {\n",
       "        vertical-align: top;\n",
       "    }\n",
       "\n",
       "    .dataframe thead th {\n",
       "        text-align: right;\n",
       "    }\n",
       "</style>\n",
       "<table border=\"1\" class=\"dataframe\">\n",
       "  <thead>\n",
       "    <tr style=\"text-align: right;\">\n",
       "      <th></th>\n",
       "      <th>INDEX</th>\n",
       "      <th>INTERACTION</th>\n",
       "      <th>DIFFERENCE</th>\n",
       "      <th>ACTIVE_FREQUENCY</th>\n",
       "      <th>INACTIVE_FREQUENCY</th>\n",
       "    </tr>\n",
       "  </thead>\n",
       "  <tbody>\n",
       "    <tr>\n",
       "      <th>0</th>\n",
       "      <td>1</td>\n",
       "      <td>Hydrogen_Bond:ARG138B</td>\n",
       "      <td>0.368578</td>\n",
       "      <td>0.112903</td>\n",
       "      <td>0.481481</td>\n",
       "    </tr>\n",
       "    <tr>\n",
       "      <th>1</th>\n",
       "      <td>2</td>\n",
       "      <td>Hydrophobic_Interaction:LYS133B</td>\n",
       "      <td>0.195938</td>\n",
       "      <td>0.677419</td>\n",
       "      <td>0.481481</td>\n",
       "    </tr>\n",
       "    <tr>\n",
       "      <th>2</th>\n",
       "      <td>3</td>\n",
       "      <td>Hydrophobic_Interaction:PRO164B</td>\n",
       "      <td>0.158303</td>\n",
       "      <td>0.306452</td>\n",
       "      <td>0.148148</td>\n",
       "    </tr>\n",
       "    <tr>\n",
       "      <th>3</th>\n",
       "      <td>4</td>\n",
       "      <td>Hydrogen_Bond:ASP166B</td>\n",
       "      <td>0.155317</td>\n",
       "      <td>0.451613</td>\n",
       "      <td>0.296296</td>\n",
       "    </tr>\n",
       "    <tr>\n",
       "      <th>4</th>\n",
       "      <td>5</td>\n",
       "      <td>Hydrophobic_Interaction:VAL107B</td>\n",
       "      <td>0.149343</td>\n",
       "      <td>0.741935</td>\n",
       "      <td>0.592593</td>\n",
       "    </tr>\n",
       "    <tr>\n",
       "      <th>...</th>\n",
       "      <td>...</td>\n",
       "      <td>...</td>\n",
       "      <td>...</td>\n",
       "      <td>...</td>\n",
       "      <td>...</td>\n",
       "    </tr>\n",
       "    <tr>\n",
       "      <th>83</th>\n",
       "      <td>84</td>\n",
       "      <td>Hydrogen_Bond:ASP113B</td>\n",
       "      <td>0.004779</td>\n",
       "      <td>0.032258</td>\n",
       "      <td>0.037037</td>\n",
       "    </tr>\n",
       "    <tr>\n",
       "      <th>84</th>\n",
       "      <td>85</td>\n",
       "      <td>Hydrophobic_Interaction:PHE393B</td>\n",
       "      <td>0.004779</td>\n",
       "      <td>0.032258</td>\n",
       "      <td>0.037037</td>\n",
       "    </tr>\n",
       "    <tr>\n",
       "      <th>85</th>\n",
       "      <td>86</td>\n",
       "      <td>Salt_Bridge:LYS394B</td>\n",
       "      <td>0.004779</td>\n",
       "      <td>0.032258</td>\n",
       "      <td>0.037037</td>\n",
       "    </tr>\n",
       "    <tr>\n",
       "      <th>86</th>\n",
       "      <td>87</td>\n",
       "      <td>Hydrogen_Bond:ARG101B</td>\n",
       "      <td>0.004779</td>\n",
       "      <td>1.032258</td>\n",
       "      <td>1.037037</td>\n",
       "    </tr>\n",
       "    <tr>\n",
       "      <th>87</th>\n",
       "      <td>88</td>\n",
       "      <td>Hydrogen_Bond:HIS130B</td>\n",
       "      <td>0.001195</td>\n",
       "      <td>0.258065</td>\n",
       "      <td>0.259259</td>\n",
       "    </tr>\n",
       "  </tbody>\n",
       "</table>\n",
       "<p>88 rows × 5 columns</p>\n",
       "</div>"
      ],
      "text/plain": [
       "    INDEX                      INTERACTION  DIFFERENCE  ACTIVE_FREQUENCY  \\\n",
       "0       1            Hydrogen_Bond:ARG138B    0.368578          0.112903   \n",
       "1       2  Hydrophobic_Interaction:LYS133B    0.195938          0.677419   \n",
       "2       3  Hydrophobic_Interaction:PRO164B    0.158303          0.306452   \n",
       "3       4            Hydrogen_Bond:ASP166B    0.155317          0.451613   \n",
       "4       5  Hydrophobic_Interaction:VAL107B    0.149343          0.741935   \n",
       "..    ...                              ...         ...               ...   \n",
       "83     84            Hydrogen_Bond:ASP113B    0.004779          0.032258   \n",
       "84     85  Hydrophobic_Interaction:PHE393B    0.004779          0.032258   \n",
       "85     86              Salt_Bridge:LYS394B    0.004779          0.032258   \n",
       "86     87            Hydrogen_Bond:ARG101B    0.004779          1.032258   \n",
       "87     88            Hydrogen_Bond:HIS130B    0.001195          0.258065   \n",
       "\n",
       "    INACTIVE_FREQUENCY  \n",
       "0             0.481481  \n",
       "1             0.481481  \n",
       "2             0.148148  \n",
       "3             0.296296  \n",
       "4             0.592593  \n",
       "..                 ...  \n",
       "83            0.037037  \n",
       "84            0.037037  \n",
       "85            0.037037  \n",
       "86            1.037037  \n",
       "87            0.259259  \n",
       "\n",
       "[88 rows x 5 columns]"
      ]
     },
     "execution_count": 9,
     "metadata": {},
     "output_type": "execute_result"
    }
   ],
   "source": [
    "features"
   ]
  },
  {
   "cell_type": "markdown",
   "id": "sharp-reporter",
   "metadata": {},
   "source": [
    "#### **Extract relevant features:**"
   ]
  },
  {
   "cell_type": "code",
   "execution_count": 10,
   "id": "bulgarian-gnome",
   "metadata": {},
   "outputs": [
    {
     "data": {
      "text/html": [
       "<div>\n",
       "<style scoped>\n",
       "    .dataframe tbody tr th:only-of-type {\n",
       "        vertical-align: middle;\n",
       "    }\n",
       "\n",
       "    .dataframe tbody tr th {\n",
       "        vertical-align: top;\n",
       "    }\n",
       "\n",
       "    .dataframe thead th {\n",
       "        text-align: right;\n",
       "    }\n",
       "</style>\n",
       "<table border=\"1\" class=\"dataframe\">\n",
       "  <thead>\n",
       "    <tr style=\"text-align: right;\">\n",
       "      <th></th>\n",
       "      <th>INDEX</th>\n",
       "      <th>INTERACTION</th>\n",
       "      <th>DIFFERENCE</th>\n",
       "      <th>ACTIVE_FREQUENCY</th>\n",
       "      <th>INACTIVE_FREQUENCY</th>\n",
       "    </tr>\n",
       "  </thead>\n",
       "  <tbody>\n",
       "    <tr>\n",
       "      <th>0</th>\n",
       "      <td>1</td>\n",
       "      <td>Hydrogen_Bond:ARG138B</td>\n",
       "      <td>0.368578</td>\n",
       "      <td>0.112903</td>\n",
       "      <td>0.481481</td>\n",
       "    </tr>\n",
       "    <tr>\n",
       "      <th>1</th>\n",
       "      <td>2</td>\n",
       "      <td>Hydrophobic_Interaction:LYS133B</td>\n",
       "      <td>0.195938</td>\n",
       "      <td>0.677419</td>\n",
       "      <td>0.481481</td>\n",
       "    </tr>\n",
       "    <tr>\n",
       "      <th>2</th>\n",
       "      <td>3</td>\n",
       "      <td>Hydrophobic_Interaction:PRO164B</td>\n",
       "      <td>0.158303</td>\n",
       "      <td>0.306452</td>\n",
       "      <td>0.148148</td>\n",
       "    </tr>\n",
       "    <tr>\n",
       "      <th>3</th>\n",
       "      <td>4</td>\n",
       "      <td>Hydrogen_Bond:ASP166B</td>\n",
       "      <td>0.155317</td>\n",
       "      <td>0.451613</td>\n",
       "      <td>0.296296</td>\n",
       "    </tr>\n",
       "    <tr>\n",
       "      <th>4</th>\n",
       "      <td>5</td>\n",
       "      <td>Hydrophobic_Interaction:VAL107B</td>\n",
       "      <td>0.149343</td>\n",
       "      <td>0.741935</td>\n",
       "      <td>0.592593</td>\n",
       "    </tr>\n",
       "    <tr>\n",
       "      <th>5</th>\n",
       "      <td>6</td>\n",
       "      <td>Pi-Cation_Interaction:ARG101B</td>\n",
       "      <td>0.139785</td>\n",
       "      <td>0.193548</td>\n",
       "      <td>0.333333</td>\n",
       "    </tr>\n",
       "    <tr>\n",
       "      <th>6</th>\n",
       "      <td>7</td>\n",
       "      <td>Hydrophobic_Interaction:ARG112B</td>\n",
       "      <td>0.118877</td>\n",
       "      <td>0.177419</td>\n",
       "      <td>0.296296</td>\n",
       "    </tr>\n",
       "    <tr>\n",
       "      <th>9</th>\n",
       "      <td>10</td>\n",
       "      <td>Hydrophobic_Interaction:LEU111B</td>\n",
       "      <td>0.105137</td>\n",
       "      <td>0.290323</td>\n",
       "      <td>0.185185</td>\n",
       "    </tr>\n",
       "    <tr>\n",
       "      <th>10</th>\n",
       "      <td>11</td>\n",
       "      <td>Hydrophobic_Interaction:LEU66B</td>\n",
       "      <td>0.097372</td>\n",
       "      <td>0.467742</td>\n",
       "      <td>0.370370</td>\n",
       "    </tr>\n",
       "    <tr>\n",
       "      <th>12</th>\n",
       "      <td>13</td>\n",
       "      <td>Hydrophobic_Interaction:GLN129B</td>\n",
       "      <td>0.086022</td>\n",
       "      <td>0.419355</td>\n",
       "      <td>0.333333</td>\n",
       "    </tr>\n",
       "    <tr>\n",
       "      <th>15</th>\n",
       "      <td>16</td>\n",
       "      <td>Hydrophobic_Interaction:VAL109B</td>\n",
       "      <td>0.077658</td>\n",
       "      <td>0.225806</td>\n",
       "      <td>0.148148</td>\n",
       "    </tr>\n",
       "    <tr>\n",
       "      <th>16</th>\n",
       "      <td>17</td>\n",
       "      <td>Hydrophobic_Interaction:GLU108B</td>\n",
       "      <td>0.075269</td>\n",
       "      <td>0.258065</td>\n",
       "      <td>0.333333</td>\n",
       "    </tr>\n",
       "    <tr>\n",
       "      <th>19</th>\n",
       "      <td>20</td>\n",
       "      <td>Hydrogen_Bond:THR137B</td>\n",
       "      <td>0.072282</td>\n",
       "      <td>0.112903</td>\n",
       "      <td>0.185185</td>\n",
       "    </tr>\n",
       "    <tr>\n",
       "      <th>21</th>\n",
       "      <td>22</td>\n",
       "      <td>Hydrogen_Bond:LYS394B</td>\n",
       "      <td>0.066308</td>\n",
       "      <td>0.177419</td>\n",
       "      <td>0.111111</td>\n",
       "    </tr>\n",
       "    <tr>\n",
       "      <th>23</th>\n",
       "      <td>24</td>\n",
       "      <td>Hydrophobic_Interaction:VAL110B</td>\n",
       "      <td>0.063919</td>\n",
       "      <td>0.693548</td>\n",
       "      <td>0.629630</td>\n",
       "    </tr>\n",
       "    <tr>\n",
       "      <th>25</th>\n",
       "      <td>26</td>\n",
       "      <td>Hydrophobic_Interaction:GLU134B</td>\n",
       "      <td>0.060932</td>\n",
       "      <td>0.838710</td>\n",
       "      <td>0.777778</td>\n",
       "    </tr>\n",
       "    <tr>\n",
       "      <th>26</th>\n",
       "      <td>27</td>\n",
       "      <td>Hydrophobic_Interaction:ARG138B</td>\n",
       "      <td>0.056153</td>\n",
       "      <td>0.129032</td>\n",
       "      <td>0.185185</td>\n",
       "    </tr>\n",
       "    <tr>\n",
       "      <th>27</th>\n",
       "      <td>28</td>\n",
       "      <td>Hydrogen_Bond:GLU108B</td>\n",
       "      <td>0.051971</td>\n",
       "      <td>0.274194</td>\n",
       "      <td>0.222222</td>\n",
       "    </tr>\n",
       "  </tbody>\n",
       "</table>\n",
       "</div>"
      ],
      "text/plain": [
       "    INDEX                      INTERACTION  DIFFERENCE  ACTIVE_FREQUENCY  \\\n",
       "0       1            Hydrogen_Bond:ARG138B    0.368578          0.112903   \n",
       "1       2  Hydrophobic_Interaction:LYS133B    0.195938          0.677419   \n",
       "2       3  Hydrophobic_Interaction:PRO164B    0.158303          0.306452   \n",
       "3       4            Hydrogen_Bond:ASP166B    0.155317          0.451613   \n",
       "4       5  Hydrophobic_Interaction:VAL107B    0.149343          0.741935   \n",
       "5       6    Pi-Cation_Interaction:ARG101B    0.139785          0.193548   \n",
       "6       7  Hydrophobic_Interaction:ARG112B    0.118877          0.177419   \n",
       "9      10  Hydrophobic_Interaction:LEU111B    0.105137          0.290323   \n",
       "10     11   Hydrophobic_Interaction:LEU66B    0.097372          0.467742   \n",
       "12     13  Hydrophobic_Interaction:GLN129B    0.086022          0.419355   \n",
       "15     16  Hydrophobic_Interaction:VAL109B    0.077658          0.225806   \n",
       "16     17  Hydrophobic_Interaction:GLU108B    0.075269          0.258065   \n",
       "19     20            Hydrogen_Bond:THR137B    0.072282          0.112903   \n",
       "21     22            Hydrogen_Bond:LYS394B    0.066308          0.177419   \n",
       "23     24  Hydrophobic_Interaction:VAL110B    0.063919          0.693548   \n",
       "25     26  Hydrophobic_Interaction:GLU134B    0.060932          0.838710   \n",
       "26     27  Hydrophobic_Interaction:ARG138B    0.056153          0.129032   \n",
       "27     28            Hydrogen_Bond:GLU108B    0.051971          0.274194   \n",
       "\n",
       "    INACTIVE_FREQUENCY  \n",
       "0             0.481481  \n",
       "1             0.481481  \n",
       "2             0.148148  \n",
       "3             0.296296  \n",
       "4             0.592593  \n",
       "5             0.333333  \n",
       "6             0.296296  \n",
       "9             0.185185  \n",
       "10            0.370370  \n",
       "12            0.333333  \n",
       "15            0.148148  \n",
       "16            0.333333  \n",
       "19            0.185185  \n",
       "21            0.111111  \n",
       "23            0.629630  \n",
       "25            0.777778  \n",
       "26            0.185185  \n",
       "27            0.222222  "
      ]
     },
     "execution_count": 10,
     "metadata": {},
     "output_type": "execute_result"
    }
   ],
   "source": [
    "features_filtered = get_relevant_features(features)\n",
    "features_filtered"
   ]
  },
  {
   "cell_type": "code",
   "execution_count": 11,
   "id": "adopted-burke",
   "metadata": {},
   "outputs": [],
   "source": [
    "# some error checking -- should print nothing\n",
    "for item in features_filtered[\"INTERACTION\"].to_list():\n",
    "    if item not in data_train.columns.to_list():\n",
    "        print(item)"
   ]
  },
  {
   "cell_type": "markdown",
   "id": "assigned-criticism",
   "metadata": {},
   "source": [
    "#### **Get positive features (e.g. features that have a positive impact on activeness) and negative features:**"
   ]
  },
  {
   "cell_type": "code",
   "execution_count": 12,
   "id": "plastic-picture",
   "metadata": {},
   "outputs": [],
   "source": [
    "positives, negatives = get_feature_impact(features_filtered)"
   ]
  },
  {
   "cell_type": "code",
   "execution_count": 13,
   "id": "animal-baseball",
   "metadata": {},
   "outputs": [
    {
     "data": {
      "text/plain": [
       "['Hydrophobic_Interaction:LYS133B',\n",
       " 'Hydrophobic_Interaction:PRO164B',\n",
       " 'Hydrogen_Bond:ASP166B',\n",
       " 'Hydrophobic_Interaction:VAL107B',\n",
       " 'Hydrophobic_Interaction:LEU111B',\n",
       " 'Hydrophobic_Interaction:LEU66B',\n",
       " 'Hydrophobic_Interaction:GLN129B',\n",
       " 'Hydrophobic_Interaction:VAL109B',\n",
       " 'Hydrogen_Bond:LYS394B',\n",
       " 'Hydrophobic_Interaction:VAL110B',\n",
       " 'Hydrophobic_Interaction:GLU134B',\n",
       " 'Hydrogen_Bond:GLU108B']"
      ]
     },
     "execution_count": 13,
     "metadata": {},
     "output_type": "execute_result"
    }
   ],
   "source": [
    "positives"
   ]
  },
  {
   "cell_type": "code",
   "execution_count": 14,
   "id": "correct-immunology",
   "metadata": {},
   "outputs": [
    {
     "data": {
      "text/plain": [
       "['Hydrogen_Bond:ARG138B',\n",
       " 'Pi-Cation_Interaction:ARG101B',\n",
       " 'Hydrophobic_Interaction:ARG112B',\n",
       " 'Hydrophobic_Interaction:GLU108B',\n",
       " 'Hydrogen_Bond:THR137B',\n",
       " 'Hydrophobic_Interaction:ARG138B']"
      ]
     },
     "execution_count": 14,
     "metadata": {},
     "output_type": "execute_result"
    }
   ],
   "source": [
    "negatives"
   ]
  },
  {
   "cell_type": "markdown",
   "id": "guided-distinction",
   "metadata": {},
   "source": [
    "#### **Score Compounds with different strategies & save results:**"
   ]
  },
  {
   "cell_type": "code",
   "execution_count": 15,
   "id": "sexual-savannah",
   "metadata": {},
   "outputs": [],
   "source": [
    "# make data copies\n",
    "train_result_strat1 = data_train.copy()\n",
    "train_result_strat2 = data_train.copy()\n",
    "train_result_strat3 = data_train.copy()\n",
    "train_result_strat4 = data_train.copy()\n",
    "# calculate scores\n",
    "train_result_strat1[\"SCORE\"] = train_result_strat1.apply(lambda x: score(x, positives, negatives, \"+\"), axis = 1)\n",
    "train_result_strat2[\"SCORE\"] = train_result_strat2.apply(lambda x: score(x, positives, negatives, \"++\"), axis = 1)\n",
    "train_result_strat3[\"SCORE\"] = train_result_strat3.apply(lambda x: score(x, positives, negatives, \"+-\"), axis = 1)\n",
    "train_result_strat4[\"SCORE\"] = train_result_strat4.apply(lambda x: score(x, positives, negatives, \"++--\"), axis = 1)\n",
    "# sort data\n",
    "train_result_strat1_sorted = train_result_strat1.sort_values(by = \"SCORE\", ascending = False)\n",
    "train_result_strat2_sorted = train_result_strat2.sort_values(by = \"SCORE\", ascending = False)\n",
    "train_result_strat3_sorted = train_result_strat3.sort_values(by = \"SCORE\", ascending = False)\n",
    "train_result_strat4_sorted = train_result_strat4.sort_values(by = \"SCORE\", ascending = False)\n",
    "# save data\n",
    "# train_result_strat1_sorted.to_csv(\"train_scores1.csv\")\n",
    "# train_result_strat2_sorted.to_csv(\"train_scores2.csv\")\n",
    "# train_result_strat3_sorted.to_csv(\"train_scores3.csv\")\n",
    "# train_result_strat4_sorted.to_csv(\"train_scores4.csv\")"
   ]
  },
  {
   "cell_type": "markdown",
   "id": "outer-participation",
   "metadata": {},
   "source": [
    "#### **Find best cutoff value and print metrics:**"
   ]
  },
  {
   "cell_type": "markdown",
   "id": "liquid-precipitation",
   "metadata": {},
   "source": [
    "*cutoff/accuracy for different strategies:*"
   ]
  },
  {
   "cell_type": "code",
   "execution_count": 16,
   "id": "scenic-boutique",
   "metadata": {},
   "outputs": [
    {
     "name": "stdout",
     "output_type": "stream",
     "text": [
      "Strategy 1:  [4, 0.6966292134831461] \n",
      "Strategy 2:  [4, 0.7078651685393258] \n",
      "Strategy 3:  [2, 0.7303370786516854] \n",
      "Strategy 4:  [0, 0.7303370786516854]\n"
     ]
    }
   ],
   "source": [
    "print(\n",
    "\"Strategy 1: \",\n",
    "get_cutoff(train_result_strat1[\"LABEL\"].to_list(), train_result_strat1[\"SCORE\"].to_list()),\n",
    "\"\\nStrategy 2: \",\n",
    "get_cutoff(train_result_strat2[\"LABEL\"].to_list(), train_result_strat2[\"SCORE\"].to_list()),\n",
    "\"\\nStrategy 3: \",\n",
    "get_cutoff(train_result_strat3[\"LABEL\"].to_list(), train_result_strat3[\"SCORE\"].to_list()),\n",
    "\"\\nStrategy 4: \",\n",
    "get_cutoff(train_result_strat4[\"LABEL\"].to_list(), train_result_strat4[\"SCORE\"].to_list())\n",
    ")"
   ]
  },
  {
   "cell_type": "markdown",
   "id": "diagnostic-shock",
   "metadata": {},
   "source": [
    "*accuracy for best cutoff:*"
   ]
  },
  {
   "cell_type": "code",
   "execution_count": 17,
   "id": "meaningful-hunter",
   "metadata": {},
   "outputs": [
    {
     "name": "stdout",
     "output_type": "stream",
     "text": [
      "Strategy 1:  0.6966292134831461 \n",
      "Strategy 2:  0.7078651685393258 \n",
      "Strategy 3:  0.7303370786516854 \n",
      "Strategy 4:  0.7303370786516854\n"
     ]
    }
   ],
   "source": [
    "print(\n",
    "\"Strategy 1: \",\n",
    "test_cutoff(train_result_strat1[\"LABEL\"].to_list(), train_result_strat1[\"SCORE\"].to_list(), 4, \"accuracy\"),\n",
    "\"\\nStrategy 2: \",\n",
    "test_cutoff(train_result_strat2[\"LABEL\"].to_list(), train_result_strat2[\"SCORE\"].to_list(), 4, \"accuracy\"),\n",
    "\"\\nStrategy 3: \",\n",
    "test_cutoff(train_result_strat3[\"LABEL\"].to_list(), train_result_strat3[\"SCORE\"].to_list(), 2, \"accuracy\"),\n",
    "\"\\nStrategy 4: \",\n",
    "test_cutoff(train_result_strat4[\"LABEL\"].to_list(), train_result_strat4[\"SCORE\"].to_list(), 0, \"accuracy\")\n",
    ")"
   ]
  },
  {
   "cell_type": "markdown",
   "id": "silver-turkey",
   "metadata": {},
   "source": [
    "*false positive rate for best cutoff:*"
   ]
  },
  {
   "cell_type": "code",
   "execution_count": 18,
   "id": "eastern-synthetic",
   "metadata": {},
   "outputs": [
    {
     "name": "stdout",
     "output_type": "stream",
     "text": [
      "Strategy 1:  0.7777777777777778 \n",
      "Strategy 2:  0.7777777777777778 \n",
      "Strategy 3:  0.7407407407407407 \n",
      "Strategy 4:  0.8518518518518519\n"
     ]
    }
   ],
   "source": [
    "print(\n",
    "\"Strategy 1: \",\n",
    "test_cutoff(train_result_strat1[\"LABEL\"].to_list(), train_result_strat1[\"SCORE\"].to_list(), 4, \"fpr\"),\n",
    "\"\\nStrategy 2: \",\n",
    "test_cutoff(train_result_strat2[\"LABEL\"].to_list(), train_result_strat2[\"SCORE\"].to_list(), 4, \"fpr\"),\n",
    "\"\\nStrategy 3: \",\n",
    "test_cutoff(train_result_strat3[\"LABEL\"].to_list(), train_result_strat3[\"SCORE\"].to_list(), 2, \"fpr\"),\n",
    "\"\\nStrategy 4: \",\n",
    "test_cutoff(train_result_strat4[\"LABEL\"].to_list(), train_result_strat4[\"SCORE\"].to_list(), 0, \"fpr\")\n",
    ")"
   ]
  },
  {
   "cell_type": "markdown",
   "id": "arctic-parts",
   "metadata": {},
   "source": [
    "#### **Calculate validation and test results:**"
   ]
  },
  {
   "cell_type": "code",
   "execution_count": 19,
   "id": "hollywood-petroleum",
   "metadata": {},
   "outputs": [],
   "source": [
    "# make data copies\n",
    "val_result_strat1 = data_val.copy()\n",
    "val_result_strat2 = data_val.copy()\n",
    "val_result_strat3 = data_val.copy()\n",
    "val_result_strat4 = data_val.copy()\n",
    "# calculate scores\n",
    "val_result_strat1[\"SCORE\"] = val_result_strat1.apply(lambda x: score(x, positives, negatives, \"+\"), axis = 1)\n",
    "val_result_strat2[\"SCORE\"] = val_result_strat2.apply(lambda x: score(x, positives, negatives, \"++\"), axis = 1)\n",
    "val_result_strat3[\"SCORE\"] = val_result_strat3.apply(lambda x: score(x, positives, negatives, \"+-\"), axis = 1)\n",
    "val_result_strat4[\"SCORE\"] = val_result_strat4.apply(lambda x: score(x, positives, negatives, \"++--\"), axis = 1)\n",
    "# sort data\n",
    "val_result_strat1_sorted = val_result_strat1.sort_values(by = \"SCORE\", ascending = False)\n",
    "val_result_strat2_sorted = val_result_strat2.sort_values(by = \"SCORE\", ascending = False)\n",
    "val_result_strat3_sorted = val_result_strat3.sort_values(by = \"SCORE\", ascending = False)\n",
    "val_result_strat4_sorted = val_result_strat4.sort_values(by = \"SCORE\", ascending = False)"
   ]
  },
  {
   "cell_type": "code",
   "execution_count": 20,
   "id": "trying-steal",
   "metadata": {},
   "outputs": [],
   "source": [
    "# make data copies\n",
    "test_result_strat1 = data_test.copy()\n",
    "test_result_strat2 = data_test.copy()\n",
    "test_result_strat3 = data_test.copy()\n",
    "test_result_strat4 = data_test.copy()\n",
    "# calculate scores\n",
    "test_result_strat1[\"SCORE\"] = test_result_strat1.apply(lambda x: score(x, positives, negatives, \"+\"), axis = 1)\n",
    "test_result_strat2[\"SCORE\"] = test_result_strat2.apply(lambda x: score(x, positives, negatives, \"++\"), axis = 1)\n",
    "test_result_strat3[\"SCORE\"] = test_result_strat3.apply(lambda x: score(x, positives, negatives, \"+-\"), axis = 1)\n",
    "test_result_strat4[\"SCORE\"] = test_result_strat4.apply(lambda x: score(x, positives, negatives, \"++--\"), axis = 1)\n",
    "# sort data\n",
    "test_result_strat1_sorted = test_result_strat1.sort_values(by = \"SCORE\", ascending = False)\n",
    "test_result_strat2_sorted = test_result_strat2.sort_values(by = \"SCORE\", ascending = False)\n",
    "test_result_strat3_sorted = test_result_strat3.sort_values(by = \"SCORE\", ascending = False)\n",
    "test_result_strat4_sorted = test_result_strat4.sort_values(by = \"SCORE\", ascending = False)"
   ]
  },
  {
   "cell_type": "markdown",
   "id": "structural-bradley",
   "metadata": {},
   "source": [
    "#### **Quality metrics for training and validation data:**"
   ]
  },
  {
   "cell_type": "markdown",
   "id": "progressive-nudist",
   "metadata": {},
   "source": [
    "*training data:*"
   ]
  },
  {
   "cell_type": "code",
   "execution_count": 21,
   "id": "suspected-furniture",
   "metadata": {},
   "outputs": [
    {
     "name": "stdout",
     "output_type": "stream",
     "text": [
      "Strategy 1:  {'ACC': 0.6966292134831461, 'FPR': 0.7777777777777778, 'AUC': 0.7037037037037037, 'Ya': 0.7272727272727273, 'EF': 1.0439882697947214, 'REF': 90.3225806451613} \n",
      "Strategy 2:  {'ACC': 0.7078651685393258, 'FPR': 0.7777777777777778, 'AUC': 0.7249103942652331, 'Ya': 0.7307692307692307, 'EF': 1.0490074441687345, 'REF': 91.93548387096774} \n",
      "Strategy 3:  {'ACC': 0.7303370786516854, 'FPR': 0.7407407407407407, 'AUC': 0.7258064516129032, 'Ya': 0.7435897435897436, 'EF': 1.0674110835401158, 'REF': 93.54838709677419} \n",
      "Strategy 4:  {'ACC': 0.7303370786516854, 'FPR': 0.8518518518518519, 'AUC': 0.7329749103942651, 'Ya': 0.7261904761904762, 'EF': 1.0424347158218126, 'REF': 98.38709677419355}\n"
     ]
    }
   ],
   "source": [
    "print(\n",
    "\"Strategy 1: \",\n",
    "get_metrics(train_result_strat1, 4, pretty_print = True),\n",
    "\"\\nStrategy 2: \",\n",
    "get_metrics(train_result_strat2, 4, pretty_print = True),\n",
    "\"\\nStrategy 3: \",\n",
    "get_metrics(train_result_strat3, 2, pretty_print = True),\n",
    "\"\\nStrategy 4: \",\n",
    "get_metrics(train_result_strat4, 0, pretty_print = True)\n",
    ")"
   ]
  },
  {
   "cell_type": "code",
   "execution_count": 22,
   "id": "virgin-electronics",
   "metadata": {},
   "outputs": [
    {
     "data": {
      "image/png": "[encoded data removed]",
      "text/plain": [
       "<Figure size 720x720 with 2 Axes>"
      ]
     },
     "metadata": {
      "needs_background": "light"
     },
     "output_type": "display_data"
    }
   ],
   "source": [
    "plot_confusion_matrix(get_metrics(train_result_strat4, 0)[\"CM\"], classes = [0, 1], filename = \"results/CM_train_strat4.png\");"
   ]
  },
  {
   "cell_type": "code",
   "execution_count": 23,
   "id": "typical-installation",
   "metadata": {},
   "outputs": [
    {
     "data": {
      "image/png": "[encoded data removed]",
      "text/plain": [
       "<Figure size 720x720 with 1 Axes>"
      ]
     },
     "metadata": {
      "needs_background": "light"
     },
     "output_type": "display_data"
    }
   ],
   "source": [
    "roc = get_metrics(train_result_strat4, 0)[\"ROC\"]\n",
    "plot_ROC_curve(roc[\"fpr\"], roc[\"tpr\"], filename = \"results/ROC_train_strat4.png\");"
   ]
  },
  {
   "cell_type": "markdown",
   "id": "alone-terry",
   "metadata": {},
   "source": [
    "*validation data:*"
   ]
  },
  {
   "cell_type": "code",
   "execution_count": 24,
   "id": "recorded-brook",
   "metadata": {},
   "outputs": [
    {
     "name": "stdout",
     "output_type": "stream",
     "text": [
      "Strategy 1:  {'ACC': 0.7391304347826086, 'FPR': 0.625, 'AUC': 0.7791666666666667, 'Ya': 0.7368421052631579, 'EF': 1.1298245614035087, 'REF': 93.33333333333333} \n",
      "Strategy 2:  {'ACC': 0.7391304347826086, 'FPR': 0.625, 'AUC': 0.7583333333333333, 'Ya': 0.7368421052631579, 'EF': 1.1298245614035087, 'REF': 93.33333333333333} \n",
      "Strategy 3:  {'ACC': 0.7391304347826086, 'FPR': 0.375, 'AUC': 0.8458333333333334, 'Ya': 0.8, 'EF': 1.2266666666666668, 'REF': 80.0} \n",
      "Strategy 4:  {'ACC': 0.7391304347826086, 'FPR': 0.75, 'AUC': 0.8208333333333333, 'Ya': 0.7142857142857143, 'EF': 1.0952380952380953, 'REF': 100.0}\n"
     ]
    }
   ],
   "source": [
    "print(\n",
    "\"Strategy 1: \",\n",
    "get_metrics(val_result_strat1, 4, pretty_print = True),\n",
    "\"\\nStrategy 2: \",\n",
    "get_metrics(val_result_strat2, 4, pretty_print = True),\n",
    "\"\\nStrategy 3: \",\n",
    "get_metrics(val_result_strat3, 2, pretty_print = True),\n",
    "\"\\nStrategy 4: \",\n",
    "get_metrics(val_result_strat4, 0, pretty_print = True)\n",
    ")"
   ]
  },
  {
   "cell_type": "code",
   "execution_count": 25,
   "id": "cardiac-bradley",
   "metadata": {},
   "outputs": [
    {
     "data": {
      "image/png": "[encoded data removed]",
      "text/plain": [
       "<Figure size 720x720 with 2 Axes>"
      ]
     },
     "metadata": {
      "needs_background": "light"
     },
     "output_type": "display_data"
    }
   ],
   "source": [
    "plot_confusion_matrix(get_metrics(val_result_strat4, 0)[\"CM\"], classes = [0, 1], filename = \"results/CM_val_strat4.png\");"
   ]
  },
  {
   "cell_type": "code",
   "execution_count": 26,
   "id": "portable-assistant",
   "metadata": {},
   "outputs": [
    {
     "data": {
      "image/png": "[encoded data removed]",
      "text/plain": [
       "<Figure size 720x720 with 1 Axes>"
      ]
     },
     "metadata": {
      "needs_background": "light"
     },
     "output_type": "display_data"
    }
   ],
   "source": [
    "roc = get_metrics(val_result_strat4, 0)[\"ROC\"]\n",
    "plot_ROC_curve(roc[\"fpr\"], roc[\"tpr\"], filename = \"results/ROC_val_strat4.png\");"
   ]
  },
  {
   "cell_type": "markdown",
   "id": "forward-oliver",
   "metadata": {},
   "source": [
    "*test data:*"
   ]
  },
  {
   "cell_type": "code",
   "execution_count": 27,
   "id": "potential-thriller",
   "metadata": {},
   "outputs": [
    {
     "name": "stdout",
     "output_type": "stream",
     "text": [
      "Strategy 1:  {'ACC': 0.6206896551724138, 'FPR': 0.8888888888888888, 'AUC': 0.4888888888888889, 'Ya': 0.68, 'EF': 0.986, 'REF': 85.0} \n",
      "Strategy 2:  {'ACC': 0.6206896551724138, 'FPR': 0.8888888888888888, 'AUC': 0.5111111111111111, 'Ya': 0.68, 'EF': 0.986, 'REF': 85.0} \n",
      "Strategy 3:  {'ACC': 0.5862068965517241, 'FPR': 0.7777777777777778, 'AUC': 0.5444444444444445, 'Ya': 0.6818181818181818, 'EF': 0.9886363636363635, 'REF': 75.0} \n",
      "Strategy 4:  {'ACC': 0.6896551724137931, 'FPR': 0.8888888888888888, 'AUC': 0.5694444444444444, 'Ya': 0.7037037037037037, 'EF': 1.0203703703703704, 'REF': 95.0}\n"
     ]
    }
   ],
   "source": [
    "print(\n",
    "\"Strategy 1: \",\n",
    "get_metrics(test_result_strat1, 4, pretty_print = True),\n",
    "\"\\nStrategy 2: \",\n",
    "get_metrics(test_result_strat2, 4, pretty_print = True),\n",
    "\"\\nStrategy 3: \",\n",
    "get_metrics(test_result_strat3, 2, pretty_print = True),\n",
    "\"\\nStrategy 4: \",\n",
    "get_metrics(test_result_strat4, 0, pretty_print = True)\n",
    ")"
   ]
  },
  {
   "cell_type": "code",
   "execution_count": 28,
   "id": "plain-length",
   "metadata": {},
   "outputs": [
    {
     "data": {
      "image/png": "[encoded data removed]",
      "text/plain": [
       "<Figure size 720x720 with 2 Axes>"
      ]
     },
     "metadata": {
      "needs_background": "light"
     },
     "output_type": "display_data"
    }
   ],
   "source": [
    "plot_confusion_matrix(get_metrics(test_result_strat4, 0)[\"CM\"], classes = [0, 1], filename = \"results/CM_test_strat4.png\");"
   ]
  },
  {
   "cell_type": "code",
   "execution_count": 29,
   "id": "dependent-black",
   "metadata": {},
   "outputs": [
    {
     "data": {
      "image/png": "[encoded data removed]",
      "text/plain": [
       "<Figure size 720x720 with 1 Axes>"
      ]
     },
     "metadata": {
      "needs_background": "light"
     },
     "output_type": "display_data"
    }
   ],
   "source": [
    "roc = get_metrics(test_result_strat4, 0)[\"ROC\"]\n",
    "plot_ROC_curve(roc[\"fpr\"], roc[\"tpr\"], filename = \"results/ROC_test_strat4.png\");"
   ]
  },
  {
   "cell_type": "markdown",
   "id": "damaged-husband",
   "metadata": {},
   "source": [
    "#### **Clean up:**"
   ]
  },
  {
   "cell_type": "code",
   "execution_count": 30,
   "id": "excess-affair",
   "metadata": {},
   "outputs": [],
   "source": [
    "os.remove(\"scoring.py\")"
   ]
  },
  {
   "cell_type": "code",
   "execution_count": null,
   "id": "residential-feature",
   "metadata": {},
   "outputs": [],
   "source": []
  }
 ],
 "metadata": {
  "kernelspec": {
   "display_name": "Python 3",
   "language": "python",
   "name": "python3"
  },
  "language_info": {
   "codemirror_mode": {
    "name": "ipython",
    "version": 3
   },
   "file_extension": ".py",
   "mimetype": "text/x-python",
   "name": "python",
   "nbconvert_exporter": "python",
   "pygments_lexer": "ipython3",
   "version": "3.8.8"
  }
 },
 "nbformat": 4,
 "nbformat_minor": 5
}
