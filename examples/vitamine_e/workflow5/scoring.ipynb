{
 "cells": [
  {
   "cell_type": "markdown",
   "id": "sunrise-stretch",
   "metadata": {},
   "source": [
    "## **SCORING - Cyclooxygenase-1**\n",
    "#### **Micha Birklbauer 2021-07-14**"
   ]
  },
  {
   "cell_type": "code",
   "execution_count": 1,
   "id": "passing-shape",
   "metadata": {},
   "outputs": [
    {
     "data": {
      "text/plain": [
       "'scoring.py'"
      ]
     },
     "execution_count": 1,
     "metadata": {},
     "output_type": "execute_result"
    }
   ],
   "source": [
    "import os\n",
    "from shutil import copyfile\n",
    "copyfile(\"../../../scripts/python/scoring.py\", \"scoring.py\")"
   ]
  },
  {
   "cell_type": "code",
   "execution_count": 2,
   "id": "minor-eugene",
   "metadata": {},
   "outputs": [],
   "source": [
    "import pandas as pd\n",
    "from scoring import *"
   ]
  },
  {
   "cell_type": "markdown",
   "id": "vertical-acquisition",
   "metadata": {},
   "source": [
    "#### **Load data:**"
   ]
  },
  {
   "cell_type": "code",
   "execution_count": 3,
   "id": "fiscal-centre",
   "metadata": {},
   "outputs": [],
   "source": [
    "data_train = pd.read_csv(\"data_train.csv\")\n",
    "data_val = pd.read_csv(\"data_val.csv\")\n",
    "data_test = pd.read_csv(\"data_test.csv\")\n",
    "features = pd.read_csv(\"features.csv\")"
   ]
  },
  {
   "cell_type": "code",
   "execution_count": 4,
   "id": "extensive-freedom",
   "metadata": {},
   "outputs": [],
   "source": [
    "# data_train.info()"
   ]
  },
  {
   "cell_type": "code",
   "execution_count": 5,
   "id": "careful-dinner",
   "metadata": {},
   "outputs": [
    {
     "data": {
      "text/html": [
       "<div>\n",
       "<style scoped>\n",
       "    .dataframe tbody tr th:only-of-type {\n",
       "        vertical-align: middle;\n",
       "    }\n",
       "\n",
       "    .dataframe tbody tr th {\n",
       "        vertical-align: top;\n",
       "    }\n",
       "\n",
       "    .dataframe thead th {\n",
       "        text-align: right;\n",
       "    }\n",
       "</style>\n",
       "<table border=\"1\" class=\"dataframe\">\n",
       "  <thead>\n",
       "    <tr style=\"text-align: right;\">\n",
       "      <th></th>\n",
       "      <th>INDEX</th>\n",
       "      <th>NAME</th>\n",
       "      <th>Hydrogen_Bond:ALA527A</th>\n",
       "      <th>Halogen_Bond:ASP110A</th>\n",
       "      <th>Hydrophobic_Interaction:ILE345A</th>\n",
       "      <th>Hydrophobic_Interaction:TYR466A</th>\n",
       "      <th>Hydrogen_Bond:GLU520A</th>\n",
       "      <th>Hydrogen_Bond:VAL116A</th>\n",
       "      <th>Pi-Stacking:PHE205A</th>\n",
       "      <th>Hydrophobic_Interaction:LEU115A</th>\n",
       "      <th>...</th>\n",
       "      <th>Hydrophobic_Interaction:PRO86A</th>\n",
       "      <th>Hydrogen_Bond:TYR348A</th>\n",
       "      <th>Halogen_Bond:TYR355A</th>\n",
       "      <th>Hydrophobic_Interaction:PHE201A</th>\n",
       "      <th>Hydrophobic_Interaction:PRO363A</th>\n",
       "      <th>Hydrogen_Bond:GLN351A</th>\n",
       "      <th>Hydrogen_Bond:SER353A</th>\n",
       "      <th>Water_Bridge:PRO86A</th>\n",
       "      <th>Halogen_Bond:LEU112A</th>\n",
       "      <th>LABEL</th>\n",
       "    </tr>\n",
       "  </thead>\n",
       "  <tbody>\n",
       "    <tr>\n",
       "      <th>0</th>\n",
       "      <td>1</td>\n",
       "      <td>CHEMBL314337|COX1_actives_final_part2|sdf|163</td>\n",
       "      <td>0</td>\n",
       "      <td>0</td>\n",
       "      <td>0</td>\n",
       "      <td>0</td>\n",
       "      <td>0</td>\n",
       "      <td>0</td>\n",
       "      <td>0</td>\n",
       "      <td>1</td>\n",
       "      <td>...</td>\n",
       "      <td>1</td>\n",
       "      <td>0</td>\n",
       "      <td>0</td>\n",
       "      <td>0</td>\n",
       "      <td>0</td>\n",
       "      <td>0</td>\n",
       "      <td>0</td>\n",
       "      <td>0</td>\n",
       "      <td>0</td>\n",
       "      <td>active</td>\n",
       "    </tr>\n",
       "    <tr>\n",
       "      <th>1</th>\n",
       "      <td>2</td>\n",
       "      <td>CHEMBL305971|COX1_actives_final_part2|sdf|13</td>\n",
       "      <td>0</td>\n",
       "      <td>0</td>\n",
       "      <td>0</td>\n",
       "      <td>0</td>\n",
       "      <td>0</td>\n",
       "      <td>0</td>\n",
       "      <td>0</td>\n",
       "      <td>0</td>\n",
       "      <td>...</td>\n",
       "      <td>1</td>\n",
       "      <td>0</td>\n",
       "      <td>0</td>\n",
       "      <td>0</td>\n",
       "      <td>0</td>\n",
       "      <td>0</td>\n",
       "      <td>0</td>\n",
       "      <td>0</td>\n",
       "      <td>0</td>\n",
       "      <td>active</td>\n",
       "    </tr>\n",
       "    <tr>\n",
       "      <th>2</th>\n",
       "      <td>3</td>\n",
       "      <td>ZINC00705195|decoys_final|sdf|51</td>\n",
       "      <td>0</td>\n",
       "      <td>0</td>\n",
       "      <td>0</td>\n",
       "      <td>1</td>\n",
       "      <td>1</td>\n",
       "      <td>0</td>\n",
       "      <td>0</td>\n",
       "      <td>0</td>\n",
       "      <td>...</td>\n",
       "      <td>1</td>\n",
       "      <td>0</td>\n",
       "      <td>0</td>\n",
       "      <td>0</td>\n",
       "      <td>0</td>\n",
       "      <td>0</td>\n",
       "      <td>0</td>\n",
       "      <td>0</td>\n",
       "      <td>0</td>\n",
       "      <td>inactive</td>\n",
       "    </tr>\n",
       "    <tr>\n",
       "      <th>3</th>\n",
       "      <td>4</td>\n",
       "      <td>ZINC17088576|decoys_final|sdf|59</td>\n",
       "      <td>0</td>\n",
       "      <td>0</td>\n",
       "      <td>0</td>\n",
       "      <td>0</td>\n",
       "      <td>1</td>\n",
       "      <td>0</td>\n",
       "      <td>0</td>\n",
       "      <td>0</td>\n",
       "      <td>...</td>\n",
       "      <td>1</td>\n",
       "      <td>0</td>\n",
       "      <td>0</td>\n",
       "      <td>0</td>\n",
       "      <td>0</td>\n",
       "      <td>0</td>\n",
       "      <td>0</td>\n",
       "      <td>0</td>\n",
       "      <td>0</td>\n",
       "      <td>inactive</td>\n",
       "    </tr>\n",
       "    <tr>\n",
       "      <th>4</th>\n",
       "      <td>5</td>\n",
       "      <td>ZINC06204226|decoys_final|sdf|97</td>\n",
       "      <td>1</td>\n",
       "      <td>0</td>\n",
       "      <td>0</td>\n",
       "      <td>0</td>\n",
       "      <td>0</td>\n",
       "      <td>0</td>\n",
       "      <td>0</td>\n",
       "      <td>0</td>\n",
       "      <td>...</td>\n",
       "      <td>1</td>\n",
       "      <td>0</td>\n",
       "      <td>0</td>\n",
       "      <td>0</td>\n",
       "      <td>0</td>\n",
       "      <td>0</td>\n",
       "      <td>0</td>\n",
       "      <td>0</td>\n",
       "      <td>0</td>\n",
       "      <td>inactive</td>\n",
       "    </tr>\n",
       "    <tr>\n",
       "      <th>...</th>\n",
       "      <td>...</td>\n",
       "      <td>...</td>\n",
       "      <td>...</td>\n",
       "      <td>...</td>\n",
       "      <td>...</td>\n",
       "      <td>...</td>\n",
       "      <td>...</td>\n",
       "      <td>...</td>\n",
       "      <td>...</td>\n",
       "      <td>...</td>\n",
       "      <td>...</td>\n",
       "      <td>...</td>\n",
       "      <td>...</td>\n",
       "      <td>...</td>\n",
       "      <td>...</td>\n",
       "      <td>...</td>\n",
       "      <td>...</td>\n",
       "      <td>...</td>\n",
       "      <td>...</td>\n",
       "      <td>...</td>\n",
       "      <td>...</td>\n",
       "    </tr>\n",
       "    <tr>\n",
       "      <th>785</th>\n",
       "      <td>786</td>\n",
       "      <td>ZINC38665047|decoys_final|sdf|175</td>\n",
       "      <td>0</td>\n",
       "      <td>0</td>\n",
       "      <td>0</td>\n",
       "      <td>0</td>\n",
       "      <td>0</td>\n",
       "      <td>0</td>\n",
       "      <td>0</td>\n",
       "      <td>0</td>\n",
       "      <td>...</td>\n",
       "      <td>0</td>\n",
       "      <td>0</td>\n",
       "      <td>0</td>\n",
       "      <td>0</td>\n",
       "      <td>0</td>\n",
       "      <td>0</td>\n",
       "      <td>0</td>\n",
       "      <td>0</td>\n",
       "      <td>0</td>\n",
       "      <td>inactive</td>\n",
       "    </tr>\n",
       "    <tr>\n",
       "      <th>786</th>\n",
       "      <td>787</td>\n",
       "      <td>ZINC44154481|decoys_final|sdf|183</td>\n",
       "      <td>0</td>\n",
       "      <td>0</td>\n",
       "      <td>0</td>\n",
       "      <td>0</td>\n",
       "      <td>0</td>\n",
       "      <td>0</td>\n",
       "      <td>0</td>\n",
       "      <td>0</td>\n",
       "      <td>...</td>\n",
       "      <td>0</td>\n",
       "      <td>0</td>\n",
       "      <td>0</td>\n",
       "      <td>0</td>\n",
       "      <td>0</td>\n",
       "      <td>0</td>\n",
       "      <td>0</td>\n",
       "      <td>1</td>\n",
       "      <td>0</td>\n",
       "      <td>inactive</td>\n",
       "    </tr>\n",
       "    <tr>\n",
       "      <th>787</th>\n",
       "      <td>788</td>\n",
       "      <td>ZINC49252929|decoys_final|sdf|187</td>\n",
       "      <td>0</td>\n",
       "      <td>0</td>\n",
       "      <td>0</td>\n",
       "      <td>0</td>\n",
       "      <td>0</td>\n",
       "      <td>0</td>\n",
       "      <td>0</td>\n",
       "      <td>0</td>\n",
       "      <td>...</td>\n",
       "      <td>0</td>\n",
       "      <td>0</td>\n",
       "      <td>0</td>\n",
       "      <td>0</td>\n",
       "      <td>0</td>\n",
       "      <td>0</td>\n",
       "      <td>0</td>\n",
       "      <td>0</td>\n",
       "      <td>0</td>\n",
       "      <td>inactive</td>\n",
       "    </tr>\n",
       "    <tr>\n",
       "      <th>788</th>\n",
       "      <td>789</td>\n",
       "      <td>CHEMBL260944|actives_final|sdf|76</td>\n",
       "      <td>0</td>\n",
       "      <td>0</td>\n",
       "      <td>0</td>\n",
       "      <td>0</td>\n",
       "      <td>0</td>\n",
       "      <td>0</td>\n",
       "      <td>0</td>\n",
       "      <td>0</td>\n",
       "      <td>...</td>\n",
       "      <td>1</td>\n",
       "      <td>0</td>\n",
       "      <td>0</td>\n",
       "      <td>0</td>\n",
       "      <td>0</td>\n",
       "      <td>0</td>\n",
       "      <td>0</td>\n",
       "      <td>0</td>\n",
       "      <td>0</td>\n",
       "      <td>active</td>\n",
       "    </tr>\n",
       "    <tr>\n",
       "      <th>789</th>\n",
       "      <td>790</td>\n",
       "      <td>CHEMBL260944|COX1_actives_final_part2|sdf|76</td>\n",
       "      <td>0</td>\n",
       "      <td>0</td>\n",
       "      <td>0</td>\n",
       "      <td>0</td>\n",
       "      <td>0</td>\n",
       "      <td>0</td>\n",
       "      <td>0</td>\n",
       "      <td>0</td>\n",
       "      <td>...</td>\n",
       "      <td>1</td>\n",
       "      <td>0</td>\n",
       "      <td>0</td>\n",
       "      <td>0</td>\n",
       "      <td>0</td>\n",
       "      <td>0</td>\n",
       "      <td>0</td>\n",
       "      <td>0</td>\n",
       "      <td>0</td>\n",
       "      <td>active</td>\n",
       "    </tr>\n",
       "  </tbody>\n",
       "</table>\n",
       "<p>790 rows × 211 columns</p>\n",
       "</div>"
      ],
      "text/plain": [
       "     INDEX                                           NAME  \\\n",
       "0        1  CHEMBL314337|COX1_actives_final_part2|sdf|163   \n",
       "1        2   CHEMBL305971|COX1_actives_final_part2|sdf|13   \n",
       "2        3               ZINC00705195|decoys_final|sdf|51   \n",
       "3        4               ZINC17088576|decoys_final|sdf|59   \n",
       "4        5               ZINC06204226|decoys_final|sdf|97   \n",
       "..     ...                                            ...   \n",
       "785    786              ZINC38665047|decoys_final|sdf|175   \n",
       "786    787              ZINC44154481|decoys_final|sdf|183   \n",
       "787    788              ZINC49252929|decoys_final|sdf|187   \n",
       "788    789              CHEMBL260944|actives_final|sdf|76   \n",
       "789    790   CHEMBL260944|COX1_actives_final_part2|sdf|76   \n",
       "\n",
       "     Hydrogen_Bond:ALA527A  Halogen_Bond:ASP110A  \\\n",
       "0                        0                     0   \n",
       "1                        0                     0   \n",
       "2                        0                     0   \n",
       "3                        0                     0   \n",
       "4                        1                     0   \n",
       "..                     ...                   ...   \n",
       "785                      0                     0   \n",
       "786                      0                     0   \n",
       "787                      0                     0   \n",
       "788                      0                     0   \n",
       "789                      0                     0   \n",
       "\n",
       "     Hydrophobic_Interaction:ILE345A  Hydrophobic_Interaction:TYR466A  \\\n",
       "0                                  0                                0   \n",
       "1                                  0                                0   \n",
       "2                                  0                                1   \n",
       "3                                  0                                0   \n",
       "4                                  0                                0   \n",
       "..                               ...                              ...   \n",
       "785                                0                                0   \n",
       "786                                0                                0   \n",
       "787                                0                                0   \n",
       "788                                0                                0   \n",
       "789                                0                                0   \n",
       "\n",
       "     Hydrogen_Bond:GLU520A  Hydrogen_Bond:VAL116A  Pi-Stacking:PHE205A  \\\n",
       "0                        0                      0                    0   \n",
       "1                        0                      0                    0   \n",
       "2                        1                      0                    0   \n",
       "3                        1                      0                    0   \n",
       "4                        0                      0                    0   \n",
       "..                     ...                    ...                  ...   \n",
       "785                      0                      0                    0   \n",
       "786                      0                      0                    0   \n",
       "787                      0                      0                    0   \n",
       "788                      0                      0                    0   \n",
       "789                      0                      0                    0   \n",
       "\n",
       "     Hydrophobic_Interaction:LEU115A  ...  Hydrophobic_Interaction:PRO86A  \\\n",
       "0                                  1  ...                               1   \n",
       "1                                  0  ...                               1   \n",
       "2                                  0  ...                               1   \n",
       "3                                  0  ...                               1   \n",
       "4                                  0  ...                               1   \n",
       "..                               ...  ...                             ...   \n",
       "785                                0  ...                               0   \n",
       "786                                0  ...                               0   \n",
       "787                                0  ...                               0   \n",
       "788                                0  ...                               1   \n",
       "789                                0  ...                               1   \n",
       "\n",
       "     Hydrogen_Bond:TYR348A  Halogen_Bond:TYR355A  \\\n",
       "0                        0                     0   \n",
       "1                        0                     0   \n",
       "2                        0                     0   \n",
       "3                        0                     0   \n",
       "4                        0                     0   \n",
       "..                     ...                   ...   \n",
       "785                      0                     0   \n",
       "786                      0                     0   \n",
       "787                      0                     0   \n",
       "788                      0                     0   \n",
       "789                      0                     0   \n",
       "\n",
       "     Hydrophobic_Interaction:PHE201A  Hydrophobic_Interaction:PRO363A  \\\n",
       "0                                  0                                0   \n",
       "1                                  0                                0   \n",
       "2                                  0                                0   \n",
       "3                                  0                                0   \n",
       "4                                  0                                0   \n",
       "..                               ...                              ...   \n",
       "785                                0                                0   \n",
       "786                                0                                0   \n",
       "787                                0                                0   \n",
       "788                                0                                0   \n",
       "789                                0                                0   \n",
       "\n",
       "     Hydrogen_Bond:GLN351A  Hydrogen_Bond:SER353A  Water_Bridge:PRO86A  \\\n",
       "0                        0                      0                    0   \n",
       "1                        0                      0                    0   \n",
       "2                        0                      0                    0   \n",
       "3                        0                      0                    0   \n",
       "4                        0                      0                    0   \n",
       "..                     ...                    ...                  ...   \n",
       "785                      0                      0                    0   \n",
       "786                      0                      0                    1   \n",
       "787                      0                      0                    0   \n",
       "788                      0                      0                    0   \n",
       "789                      0                      0                    0   \n",
       "\n",
       "     Halogen_Bond:LEU112A     LABEL  \n",
       "0                       0    active  \n",
       "1                       0    active  \n",
       "2                       0  inactive  \n",
       "3                       0  inactive  \n",
       "4                       0  inactive  \n",
       "..                    ...       ...  \n",
       "785                     0  inactive  \n",
       "786                     0  inactive  \n",
       "787                     0  inactive  \n",
       "788                     0    active  \n",
       "789                     0    active  \n",
       "\n",
       "[790 rows x 211 columns]"
      ]
     },
     "execution_count": 5,
     "metadata": {},
     "output_type": "execute_result"
    }
   ],
   "source": [
    "data_train"
   ]
  },
  {
   "cell_type": "code",
   "execution_count": 6,
   "id": "republican-microwave",
   "metadata": {},
   "outputs": [
    {
     "name": "stdout",
     "output_type": "stream",
     "text": [
      "Training dataset shape & Nr. of actives:\n",
      "(790, 211) 223\n"
     ]
    }
   ],
   "source": [
    "print(\"Training dataset shape & Nr. of actives:\")\n",
    "print(data_train.shape, len(data_train.loc[data_train[\"LABEL\"] == \"active\"]))"
   ]
  },
  {
   "cell_type": "code",
   "execution_count": 7,
   "id": "pressed-consistency",
   "metadata": {},
   "outputs": [
    {
     "name": "stdout",
     "output_type": "stream",
     "text": [
      "Validation dataset shape & Nr. of actives:\n",
      "(198, 211) 60\n"
     ]
    }
   ],
   "source": [
    "print(\"Validation dataset shape & Nr. of actives:\")\n",
    "print(data_val.shape, len(data_val.loc[data_val[\"LABEL\"] == \"active\"]))"
   ]
  },
  {
   "cell_type": "code",
   "execution_count": 8,
   "id": "removable-destiny",
   "metadata": {},
   "outputs": [
    {
     "name": "stdout",
     "output_type": "stream",
     "text": [
      "Test dataset shape & Nr. of actives:\n",
      "(248, 211) 74\n"
     ]
    }
   ],
   "source": [
    "print(\"Test dataset shape & Nr. of actives:\")\n",
    "print(data_test.shape, len(data_test.loc[data_test[\"LABEL\"] == \"active\"]))"
   ]
  },
  {
   "cell_type": "code",
   "execution_count": 9,
   "id": "danish-connecticut",
   "metadata": {},
   "outputs": [
    {
     "data": {
      "text/html": [
       "<div>\n",
       "<style scoped>\n",
       "    .dataframe tbody tr th:only-of-type {\n",
       "        vertical-align: middle;\n",
       "    }\n",
       "\n",
       "    .dataframe tbody tr th {\n",
       "        vertical-align: top;\n",
       "    }\n",
       "\n",
       "    .dataframe thead th {\n",
       "        text-align: right;\n",
       "    }\n",
       "</style>\n",
       "<table border=\"1\" class=\"dataframe\">\n",
       "  <thead>\n",
       "    <tr style=\"text-align: right;\">\n",
       "      <th></th>\n",
       "      <th>INDEX</th>\n",
       "      <th>INTERACTION</th>\n",
       "      <th>DIFFERENCE</th>\n",
       "      <th>ACTIVE_FREQUENCY</th>\n",
       "      <th>INACTIVE_FREQUENCY</th>\n",
       "    </tr>\n",
       "  </thead>\n",
       "  <tbody>\n",
       "    <tr>\n",
       "      <th>0</th>\n",
       "      <td>1</td>\n",
       "      <td>Pi-Cation_Interaction:ARG120A</td>\n",
       "      <td>0.251920</td>\n",
       "      <td>0.825112</td>\n",
       "      <td>0.573192</td>\n",
       "    </tr>\n",
       "    <tr>\n",
       "      <th>1</th>\n",
       "      <td>2</td>\n",
       "      <td>Water_Bridge:TYR355A</td>\n",
       "      <td>0.165421</td>\n",
       "      <td>0.390135</td>\n",
       "      <td>0.555556</td>\n",
       "    </tr>\n",
       "    <tr>\n",
       "      <th>2</th>\n",
       "      <td>3</td>\n",
       "      <td>Hydrogen_Bond:ARG120A</td>\n",
       "      <td>0.107528</td>\n",
       "      <td>0.950673</td>\n",
       "      <td>1.058201</td>\n",
       "    </tr>\n",
       "    <tr>\n",
       "      <th>3</th>\n",
       "      <td>4</td>\n",
       "      <td>Hydrophobic_Interaction:VAL119A</td>\n",
       "      <td>0.105172</td>\n",
       "      <td>0.434978</td>\n",
       "      <td>0.329806</td>\n",
       "    </tr>\n",
       "    <tr>\n",
       "      <th>4</th>\n",
       "      <td>5</td>\n",
       "      <td>Hydrophobic_Interaction:ILE523A</td>\n",
       "      <td>0.099113</td>\n",
       "      <td>0.452915</td>\n",
       "      <td>0.552028</td>\n",
       "    </tr>\n",
       "    <tr>\n",
       "      <th>...</th>\n",
       "      <td>...</td>\n",
       "      <td>...</td>\n",
       "      <td>...</td>\n",
       "      <td>...</td>\n",
       "      <td>...</td>\n",
       "    </tr>\n",
       "    <tr>\n",
       "      <th>203</th>\n",
       "      <td>204</td>\n",
       "      <td>Hydrophobic_Interaction:PHE470A</td>\n",
       "      <td>0.000506</td>\n",
       "      <td>0.022422</td>\n",
       "      <td>0.022928</td>\n",
       "    </tr>\n",
       "    <tr>\n",
       "      <th>204</th>\n",
       "      <td>205</td>\n",
       "      <td>Hydrophobic_Interaction:MET113A</td>\n",
       "      <td>0.000451</td>\n",
       "      <td>0.026906</td>\n",
       "      <td>0.026455</td>\n",
       "    </tr>\n",
       "    <tr>\n",
       "      <th>205</th>\n",
       "      <td>206</td>\n",
       "      <td>Hydrophobic_Interaction:MET525A</td>\n",
       "      <td>0.000150</td>\n",
       "      <td>0.008969</td>\n",
       "      <td>0.008818</td>\n",
       "    </tr>\n",
       "    <tr>\n",
       "      <th>206</th>\n",
       "      <td>207</td>\n",
       "      <td>Hydrophobic_Interaction:VAL228A</td>\n",
       "      <td>0.000150</td>\n",
       "      <td>0.008969</td>\n",
       "      <td>0.008818</td>\n",
       "    </tr>\n",
       "    <tr>\n",
       "      <th>207</th>\n",
       "      <td>208</td>\n",
       "      <td>Water_Bridge:TYR348A</td>\n",
       "      <td>0.000150</td>\n",
       "      <td>0.008969</td>\n",
       "      <td>0.008818</td>\n",
       "    </tr>\n",
       "  </tbody>\n",
       "</table>\n",
       "<p>208 rows × 5 columns</p>\n",
       "</div>"
      ],
      "text/plain": [
       "     INDEX                      INTERACTION  DIFFERENCE  ACTIVE_FREQUENCY  \\\n",
       "0        1    Pi-Cation_Interaction:ARG120A    0.251920          0.825112   \n",
       "1        2             Water_Bridge:TYR355A    0.165421          0.390135   \n",
       "2        3            Hydrogen_Bond:ARG120A    0.107528          0.950673   \n",
       "3        4  Hydrophobic_Interaction:VAL119A    0.105172          0.434978   \n",
       "4        5  Hydrophobic_Interaction:ILE523A    0.099113          0.452915   \n",
       "..     ...                              ...         ...               ...   \n",
       "203    204  Hydrophobic_Interaction:PHE470A    0.000506          0.022422   \n",
       "204    205  Hydrophobic_Interaction:MET113A    0.000451          0.026906   \n",
       "205    206  Hydrophobic_Interaction:MET525A    0.000150          0.008969   \n",
       "206    207  Hydrophobic_Interaction:VAL228A    0.000150          0.008969   \n",
       "207    208             Water_Bridge:TYR348A    0.000150          0.008969   \n",
       "\n",
       "     INACTIVE_FREQUENCY  \n",
       "0              0.573192  \n",
       "1              0.555556  \n",
       "2              1.058201  \n",
       "3              0.329806  \n",
       "4              0.552028  \n",
       "..                  ...  \n",
       "203            0.022928  \n",
       "204            0.026455  \n",
       "205            0.008818  \n",
       "206            0.008818  \n",
       "207            0.008818  \n",
       "\n",
       "[208 rows x 5 columns]"
      ]
     },
     "execution_count": 9,
     "metadata": {},
     "output_type": "execute_result"
    }
   ],
   "source": [
    "features"
   ]
  },
  {
   "cell_type": "markdown",
   "id": "moderate-ireland",
   "metadata": {},
   "source": [
    "#### **Extract relevant features:**"
   ]
  },
  {
   "cell_type": "code",
   "execution_count": 10,
   "id": "unlimited-audience",
   "metadata": {},
   "outputs": [
    {
     "data": {
      "text/html": [
       "<div>\n",
       "<style scoped>\n",
       "    .dataframe tbody tr th:only-of-type {\n",
       "        vertical-align: middle;\n",
       "    }\n",
       "\n",
       "    .dataframe tbody tr th {\n",
       "        vertical-align: top;\n",
       "    }\n",
       "\n",
       "    .dataframe thead th {\n",
       "        text-align: right;\n",
       "    }\n",
       "</style>\n",
       "<table border=\"1\" class=\"dataframe\">\n",
       "  <thead>\n",
       "    <tr style=\"text-align: right;\">\n",
       "      <th></th>\n",
       "      <th>INDEX</th>\n",
       "      <th>INTERACTION</th>\n",
       "      <th>DIFFERENCE</th>\n",
       "      <th>ACTIVE_FREQUENCY</th>\n",
       "      <th>INACTIVE_FREQUENCY</th>\n",
       "    </tr>\n",
       "  </thead>\n",
       "  <tbody>\n",
       "    <tr>\n",
       "      <th>0</th>\n",
       "      <td>1</td>\n",
       "      <td>Pi-Cation_Interaction:ARG120A</td>\n",
       "      <td>0.251920</td>\n",
       "      <td>0.825112</td>\n",
       "      <td>0.573192</td>\n",
       "    </tr>\n",
       "    <tr>\n",
       "      <th>1</th>\n",
       "      <td>2</td>\n",
       "      <td>Water_Bridge:TYR355A</td>\n",
       "      <td>0.165421</td>\n",
       "      <td>0.390135</td>\n",
       "      <td>0.555556</td>\n",
       "    </tr>\n",
       "    <tr>\n",
       "      <th>2</th>\n",
       "      <td>3</td>\n",
       "      <td>Hydrogen_Bond:ARG120A</td>\n",
       "      <td>0.107528</td>\n",
       "      <td>0.950673</td>\n",
       "      <td>1.058201</td>\n",
       "    </tr>\n",
       "    <tr>\n",
       "      <th>3</th>\n",
       "      <td>4</td>\n",
       "      <td>Hydrophobic_Interaction:VAL119A</td>\n",
       "      <td>0.105172</td>\n",
       "      <td>0.434978</td>\n",
       "      <td>0.329806</td>\n",
       "    </tr>\n",
       "    <tr>\n",
       "      <th>4</th>\n",
       "      <td>5</td>\n",
       "      <td>Hydrophobic_Interaction:ILE523A</td>\n",
       "      <td>0.099113</td>\n",
       "      <td>0.452915</td>\n",
       "      <td>0.552028</td>\n",
       "    </tr>\n",
       "    <tr>\n",
       "      <th>5</th>\n",
       "      <td>6</td>\n",
       "      <td>Hydrophobic_Interaction:LEU357A</td>\n",
       "      <td>0.073180</td>\n",
       "      <td>0.367713</td>\n",
       "      <td>0.294533</td>\n",
       "    </tr>\n",
       "    <tr>\n",
       "      <th>6</th>\n",
       "      <td>7</td>\n",
       "      <td>Hydrophobic_Interaction:LEU93A</td>\n",
       "      <td>0.069210</td>\n",
       "      <td>0.762332</td>\n",
       "      <td>0.693122</td>\n",
       "    </tr>\n",
       "    <tr>\n",
       "      <th>7</th>\n",
       "      <td>8</td>\n",
       "      <td>Hydrophobic_Interaction:GLU520A</td>\n",
       "      <td>0.054334</td>\n",
       "      <td>0.125561</td>\n",
       "      <td>0.179894</td>\n",
       "    </tr>\n",
       "    <tr>\n",
       "      <th>8</th>\n",
       "      <td>9</td>\n",
       "      <td>Hydrophobic_Interaction:VAL116A</td>\n",
       "      <td>0.053843</td>\n",
       "      <td>0.739910</td>\n",
       "      <td>0.686067</td>\n",
       "    </tr>\n",
       "    <tr>\n",
       "      <th>9</th>\n",
       "      <td>10</td>\n",
       "      <td>Hydrophobic_Interaction:HIS90A</td>\n",
       "      <td>0.050276</td>\n",
       "      <td>0.367713</td>\n",
       "      <td>0.417989</td>\n",
       "    </tr>\n",
       "  </tbody>\n",
       "</table>\n",
       "</div>"
      ],
      "text/plain": [
       "   INDEX                      INTERACTION  DIFFERENCE  ACTIVE_FREQUENCY  \\\n",
       "0      1    Pi-Cation_Interaction:ARG120A    0.251920          0.825112   \n",
       "1      2             Water_Bridge:TYR355A    0.165421          0.390135   \n",
       "2      3            Hydrogen_Bond:ARG120A    0.107528          0.950673   \n",
       "3      4  Hydrophobic_Interaction:VAL119A    0.105172          0.434978   \n",
       "4      5  Hydrophobic_Interaction:ILE523A    0.099113          0.452915   \n",
       "5      6  Hydrophobic_Interaction:LEU357A    0.073180          0.367713   \n",
       "6      7   Hydrophobic_Interaction:LEU93A    0.069210          0.762332   \n",
       "7      8  Hydrophobic_Interaction:GLU520A    0.054334          0.125561   \n",
       "8      9  Hydrophobic_Interaction:VAL116A    0.053843          0.739910   \n",
       "9     10   Hydrophobic_Interaction:HIS90A    0.050276          0.367713   \n",
       "\n",
       "   INACTIVE_FREQUENCY  \n",
       "0            0.573192  \n",
       "1            0.555556  \n",
       "2            1.058201  \n",
       "3            0.329806  \n",
       "4            0.552028  \n",
       "5            0.294533  \n",
       "6            0.693122  \n",
       "7            0.179894  \n",
       "8            0.686067  \n",
       "9            0.417989  "
      ]
     },
     "execution_count": 10,
     "metadata": {},
     "output_type": "execute_result"
    }
   ],
   "source": [
    "features_filtered = get_relevant_features(features)\n",
    "features_filtered"
   ]
  },
  {
   "cell_type": "code",
   "execution_count": 11,
   "id": "individual-click",
   "metadata": {},
   "outputs": [],
   "source": [
    "# some error checking -- should print nothing\n",
    "for item in features_filtered[\"INTERACTION\"].to_list():\n",
    "    if item not in data_train.columns.to_list():\n",
    "        print(item)"
   ]
  },
  {
   "cell_type": "markdown",
   "id": "alien-macedonia",
   "metadata": {},
   "source": [
    "#### **Get positive features (e.g. features that have a positive impact on activeness) and negative features:**"
   ]
  },
  {
   "cell_type": "code",
   "execution_count": 12,
   "id": "detected-winner",
   "metadata": {},
   "outputs": [],
   "source": [
    "positives, negatives = get_feature_impact(features_filtered)"
   ]
  },
  {
   "cell_type": "code",
   "execution_count": 13,
   "id": "turned-smooth",
   "metadata": {},
   "outputs": [
    {
     "data": {
      "text/plain": [
       "['Pi-Cation_Interaction:ARG120A',\n",
       " 'Hydrophobic_Interaction:VAL119A',\n",
       " 'Hydrophobic_Interaction:LEU357A',\n",
       " 'Hydrophobic_Interaction:LEU93A',\n",
       " 'Hydrophobic_Interaction:VAL116A']"
      ]
     },
     "execution_count": 13,
     "metadata": {},
     "output_type": "execute_result"
    }
   ],
   "source": [
    "positives"
   ]
  },
  {
   "cell_type": "code",
   "execution_count": 14,
   "id": "laughing-bulletin",
   "metadata": {},
   "outputs": [
    {
     "data": {
      "text/plain": [
       "['Water_Bridge:TYR355A',\n",
       " 'Hydrogen_Bond:ARG120A',\n",
       " 'Hydrophobic_Interaction:ILE523A',\n",
       " 'Hydrophobic_Interaction:GLU520A',\n",
       " 'Hydrophobic_Interaction:HIS90A']"
      ]
     },
     "execution_count": 14,
     "metadata": {},
     "output_type": "execute_result"
    }
   ],
   "source": [
    "negatives"
   ]
  },
  {
   "cell_type": "markdown",
   "id": "polyphonic-buffer",
   "metadata": {},
   "source": [
    "#### **Score Compounds with different strategies & save results:**"
   ]
  },
  {
   "cell_type": "code",
   "execution_count": 15,
   "id": "auburn-specific",
   "metadata": {},
   "outputs": [],
   "source": [
    "# make data copies\n",
    "train_result_strat1 = data_train.copy()\n",
    "train_result_strat2 = data_train.copy()\n",
    "train_result_strat3 = data_train.copy()\n",
    "train_result_strat4 = data_train.copy()\n",
    "# calculate scores\n",
    "train_result_strat1[\"SCORE\"] = train_result_strat1.apply(lambda x: score(x, positives, negatives, \"+\"), axis = 1)\n",
    "train_result_strat2[\"SCORE\"] = train_result_strat2.apply(lambda x: score(x, positives, negatives, \"++\"), axis = 1)\n",
    "train_result_strat3[\"SCORE\"] = train_result_strat3.apply(lambda x: score(x, positives, negatives, \"+-\"), axis = 1)\n",
    "train_result_strat4[\"SCORE\"] = train_result_strat4.apply(lambda x: score(x, positives, negatives, \"++--\"), axis = 1)\n",
    "# sort data\n",
    "train_result_strat1_sorted = train_result_strat1.sort_values(by = \"SCORE\", ascending = False)\n",
    "train_result_strat2_sorted = train_result_strat2.sort_values(by = \"SCORE\", ascending = False)\n",
    "train_result_strat3_sorted = train_result_strat3.sort_values(by = \"SCORE\", ascending = False)\n",
    "train_result_strat4_sorted = train_result_strat4.sort_values(by = \"SCORE\", ascending = False)\n",
    "# save data\n",
    "# train_result_strat1_sorted.to_csv(\"train_scores1.csv\")\n",
    "# train_result_strat2_sorted.to_csv(\"train_scores2.csv\")\n",
    "# train_result_strat3_sorted.to_csv(\"train_scores3.csv\")\n",
    "# train_result_strat4_sorted.to_csv(\"train_scores4.csv\")"
   ]
  },
  {
   "cell_type": "markdown",
   "id": "closing-butterfly",
   "metadata": {},
   "source": [
    "#### **Find best cutoff value and print metrics:**"
   ]
  },
  {
   "cell_type": "markdown",
   "id": "prescription-words",
   "metadata": {},
   "source": [
    "*cutoff/accuracy for different strategies:*"
   ]
  },
  {
   "cell_type": "code",
   "execution_count": 16,
   "id": "removable-georgia",
   "metadata": {},
   "outputs": [
    {
     "name": "stdout",
     "output_type": "stream",
     "text": [
      "Strategy 1:  [5, 0.7189873417721518] \n",
      "Strategy 2:  [5, 0.7164556962025317] \n",
      "Strategy 3:  [4, 0.7227848101265822] \n",
      "Strategy 4:  [4, 0.7240506329113924]\n"
     ]
    }
   ],
   "source": [
    "print(\n",
    "\"Strategy 1: \",\n",
    "get_cutoff(train_result_strat1[\"LABEL\"].to_list(), train_result_strat1[\"SCORE\"].to_list()),\n",
    "\"\\nStrategy 2: \",\n",
    "get_cutoff(train_result_strat2[\"LABEL\"].to_list(), train_result_strat2[\"SCORE\"].to_list()),\n",
    "\"\\nStrategy 3: \",\n",
    "get_cutoff(train_result_strat3[\"LABEL\"].to_list(), train_result_strat3[\"SCORE\"].to_list()),\n",
    "\"\\nStrategy 4: \",\n",
    "get_cutoff(train_result_strat4[\"LABEL\"].to_list(), train_result_strat4[\"SCORE\"].to_list())\n",
    ")"
   ]
  },
  {
   "cell_type": "markdown",
   "id": "polar-toronto",
   "metadata": {},
   "source": [
    "*accuracy for best cutoff:*"
   ]
  },
  {
   "cell_type": "code",
   "execution_count": 17,
   "id": "surgical-disorder",
   "metadata": {},
   "outputs": [
    {
     "name": "stdout",
     "output_type": "stream",
     "text": [
      "Strategy 1:  0.7189873417721518 \n",
      "Strategy 2:  0.7164556962025317 \n",
      "Strategy 3:  0.7227848101265822 \n",
      "Strategy 4:  0.7240506329113924\n"
     ]
    }
   ],
   "source": [
    "print(\n",
    "\"Strategy 1: \",\n",
    "test_cutoff(train_result_strat1[\"LABEL\"].to_list(), train_result_strat1[\"SCORE\"].to_list(), 5, \"accuracy\"),\n",
    "\"\\nStrategy 2: \",\n",
    "test_cutoff(train_result_strat2[\"LABEL\"].to_list(), train_result_strat2[\"SCORE\"].to_list(), 5, \"accuracy\"),\n",
    "\"\\nStrategy 3: \",\n",
    "test_cutoff(train_result_strat3[\"LABEL\"].to_list(), train_result_strat3[\"SCORE\"].to_list(), 4, \"accuracy\"),\n",
    "\"\\nStrategy 4: \",\n",
    "test_cutoff(train_result_strat4[\"LABEL\"].to_list(), train_result_strat4[\"SCORE\"].to_list(), 4, \"accuracy\")\n",
    ")"
   ]
  },
  {
   "cell_type": "markdown",
   "id": "recognized-switch",
   "metadata": {},
   "source": [
    "*false positive rate for best cutoff:*"
   ]
  },
  {
   "cell_type": "code",
   "execution_count": 18,
   "id": "central-edmonton",
   "metadata": {},
   "outputs": [
    {
     "name": "stdout",
     "output_type": "stream",
     "text": [
      "Strategy 1:  0.037037037037037035 \n",
      "Strategy 2:  0.06172839506172839 \n",
      "Strategy 3:  0.024691358024691357 \n",
      "Strategy 4:  0.031746031746031744\n"
     ]
    }
   ],
   "source": [
    "print(\n",
    "\"Strategy 1: \",\n",
    "test_cutoff(train_result_strat1[\"LABEL\"].to_list(), train_result_strat1[\"SCORE\"].to_list(), 5, \"fpr\"),\n",
    "\"\\nStrategy 2: \",\n",
    "test_cutoff(train_result_strat2[\"LABEL\"].to_list(), train_result_strat2[\"SCORE\"].to_list(), 5, \"fpr\"),\n",
    "\"\\nStrategy 3: \",\n",
    "test_cutoff(train_result_strat3[\"LABEL\"].to_list(), train_result_strat3[\"SCORE\"].to_list(), 4, \"fpr\"),\n",
    "\"\\nStrategy 4: \",\n",
    "test_cutoff(train_result_strat4[\"LABEL\"].to_list(), train_result_strat4[\"SCORE\"].to_list(), 4, \"fpr\")\n",
    ")"
   ]
  },
  {
   "cell_type": "markdown",
   "id": "interpreted-syndication",
   "metadata": {},
   "source": [
    "#### **Calculate validation and test results:**"
   ]
  },
  {
   "cell_type": "code",
   "execution_count": 19,
   "id": "clear-hunter",
   "metadata": {},
   "outputs": [],
   "source": [
    "# make data copies\n",
    "val_result_strat1 = data_val.copy()\n",
    "val_result_strat2 = data_val.copy()\n",
    "val_result_strat3 = data_val.copy()\n",
    "val_result_strat4 = data_val.copy()\n",
    "# calculate scores\n",
    "val_result_strat1[\"SCORE\"] = val_result_strat1.apply(lambda x: score(x, positives, negatives, \"+\"), axis = 1)\n",
    "val_result_strat2[\"SCORE\"] = val_result_strat2.apply(lambda x: score(x, positives, negatives, \"++\"), axis = 1)\n",
    "val_result_strat3[\"SCORE\"] = val_result_strat3.apply(lambda x: score(x, positives, negatives, \"+-\"), axis = 1)\n",
    "val_result_strat4[\"SCORE\"] = val_result_strat4.apply(lambda x: score(x, positives, negatives, \"++--\"), axis = 1)\n",
    "# sort data\n",
    "val_result_strat1_sorted = val_result_strat1.sort_values(by = \"SCORE\", ascending = False)\n",
    "val_result_strat2_sorted = val_result_strat2.sort_values(by = \"SCORE\", ascending = False)\n",
    "val_result_strat3_sorted = val_result_strat3.sort_values(by = \"SCORE\", ascending = False)\n",
    "val_result_strat4_sorted = val_result_strat4.sort_values(by = \"SCORE\", ascending = False)"
   ]
  },
  {
   "cell_type": "code",
   "execution_count": 20,
   "id": "authentic-microwave",
   "metadata": {},
   "outputs": [],
   "source": [
    "# make data copies\n",
    "test_result_strat1 = data_test.copy()\n",
    "test_result_strat2 = data_test.copy()\n",
    "test_result_strat3 = data_test.copy()\n",
    "test_result_strat4 = data_test.copy()\n",
    "# calculate scores\n",
    "test_result_strat1[\"SCORE\"] = test_result_strat1.apply(lambda x: score(x, positives, negatives, \"+\"), axis = 1)\n",
    "test_result_strat2[\"SCORE\"] = test_result_strat2.apply(lambda x: score(x, positives, negatives, \"++\"), axis = 1)\n",
    "test_result_strat3[\"SCORE\"] = test_result_strat3.apply(lambda x: score(x, positives, negatives, \"+-\"), axis = 1)\n",
    "test_result_strat4[\"SCORE\"] = test_result_strat4.apply(lambda x: score(x, positives, negatives, \"++--\"), axis = 1)\n",
    "# sort data\n",
    "test_result_strat1_sorted = test_result_strat1.sort_values(by = \"SCORE\", ascending = False)\n",
    "test_result_strat2_sorted = test_result_strat2.sort_values(by = \"SCORE\", ascending = False)\n",
    "test_result_strat3_sorted = test_result_strat3.sort_values(by = \"SCORE\", ascending = False)\n",
    "test_result_strat4_sorted = test_result_strat4.sort_values(by = \"SCORE\", ascending = False)"
   ]
  },
  {
   "cell_type": "markdown",
   "id": "protecting-newsletter",
   "metadata": {},
   "source": [
    "#### **Quality metrics for training and validation data:**"
   ]
  },
  {
   "cell_type": "markdown",
   "id": "suffering-techno",
   "metadata": {},
   "source": [
    "*training data:*"
   ]
  },
  {
   "cell_type": "code",
   "execution_count": 21,
   "id": "fitted-rhythm",
   "metadata": {},
   "outputs": [
    {
     "name": "stdout",
     "output_type": "stream",
     "text": [
      "Strategy 1:  {'ACC': 0.7189873417721518, 'FPR': 0.037037037037037035, 'AUC': 0.6070380651845526, 'Ya': 0.5116279069767442, 'EF': 1.8124934821149234, 'REF': 51.16279069767442} \n",
      "Strategy 2:  {'ACC': 0.7164556962025317, 'FPR': 0.06172839506172839, 'AUC': 0.6156468234196186, 'Ya': 0.4927536231884058, 'EF': 1.745629427438747, 'REF': 49.27536231884058} \n",
      "Strategy 3:  {'ACC': 0.7227848101265822, 'FPR': 0.024691358024691357, 'AUC': 0.6347150054175466, 'Ya': 0.5625, 'EF': 1.9927130044843049, 'REF': 56.25} \n",
      "Strategy 4:  {'ACC': 0.7240506329113924, 'FPR': 0.031746031746031744, 'AUC': 0.6369769299515189, 'Ya': 0.5609756097560976, 'EF': 1.98731269823909, 'REF': 56.09756097560975}\n"
     ]
    }
   ],
   "source": [
    "print(\n",
    "\"Strategy 1: \",\n",
    "get_metrics(train_result_strat1, 5, pretty_print = True),\n",
    "\"\\nStrategy 2: \",\n",
    "get_metrics(train_result_strat2, 5, pretty_print = True),\n",
    "\"\\nStrategy 3: \",\n",
    "get_metrics(train_result_strat3, 4, pretty_print = True),\n",
    "\"\\nStrategy 4: \",\n",
    "get_metrics(train_result_strat4, 4, pretty_print = True)\n",
    ")"
   ]
  },
  {
   "cell_type": "code",
   "execution_count": 22,
   "id": "living-hotel",
   "metadata": {},
   "outputs": [
    {
     "data": {
      "image/png": "[encoded data removed]",
      "text/plain": [
       "<Figure size 720x720 with 2 Axes>"
      ]
     },
     "metadata": {
      "needs_background": "light"
     },
     "output_type": "display_data"
    }
   ],
   "source": [
    "plot_confusion_matrix(get_metrics(train_result_strat4, 4)[\"CM\"], classes = [0, 1], filename = \"results/CM_train_strat4.png\");"
   ]
  },
  {
   "cell_type": "code",
   "execution_count": 23,
   "id": "anticipated-charger",
   "metadata": {},
   "outputs": [
    {
     "data": {
      "image/png": "[encoded data removed]",
      "text/plain": [
       "<Figure size 720x720 with 1 Axes>"
      ]
     },
     "metadata": {
      "needs_background": "light"
     },
     "output_type": "display_data"
    }
   ],
   "source": [
    "roc = get_metrics(train_result_strat4, 4)[\"ROC\"]\n",
    "plot_ROC_curve(roc[\"fpr\"], roc[\"tpr\"], filename = \"results/ROC_train_strat4.png\");"
   ]
  },
  {
   "cell_type": "markdown",
   "id": "located-bachelor",
   "metadata": {},
   "source": [
    "*validation data:*"
   ]
  },
  {
   "cell_type": "code",
   "execution_count": 24,
   "id": "foster-aggregate",
   "metadata": {},
   "outputs": [
    {
     "name": "stdout",
     "output_type": "stream",
     "text": [
      "Strategy 1:  {'ACC': 0.702020202020202, 'FPR': 0.007246376811594203, 'AUC': 0.5214371980676329, 'Ya': 0.6666666666666666, 'EF': 2.1999999999999997, 'REF': 66.66666666666667} \n",
      "Strategy 2:  {'ACC': 0.6868686868686869, 'FPR': 0.043478260869565216, 'AUC': 0.5344202898550725, 'Ya': 0.4, 'EF': 1.32, 'REF': 40.0} \n",
      "Strategy 3:  {'ACC': 0.7171717171717171, 'FPR': 0.014492753623188406, 'AUC': 0.6126811594202899, 'Ya': 0.75, 'EF': 2.475, 'REF': 75.0} \n",
      "Strategy 4:  {'ACC': 0.696969696969697, 'FPR': 0.043478260869565216, 'AUC': 0.6361111111111111, 'Ya': 0.5, 'EF': 1.65, 'REF': 50.0}\n"
     ]
    }
   ],
   "source": [
    "print(\n",
    "\"Strategy 1: \",\n",
    "get_metrics(val_result_strat1, 5, pretty_print = True),\n",
    "\"\\nStrategy 2: \",\n",
    "get_metrics(val_result_strat2, 5, pretty_print = True),\n",
    "\"\\nStrategy 3: \",\n",
    "get_metrics(val_result_strat3, 4, pretty_print = True),\n",
    "\"\\nStrategy 4: \",\n",
    "get_metrics(val_result_strat4, 4, pretty_print = True)\n",
    ")"
   ]
  },
  {
   "cell_type": "code",
   "execution_count": 25,
   "id": "annual-australian",
   "metadata": {},
   "outputs": [
    {
     "data": {
      "image/png": "[encoded data removed]",
      "text/plain": [
       "<Figure size 720x720 with 2 Axes>"
      ]
     },
     "metadata": {
      "needs_background": "light"
     },
     "output_type": "display_data"
    }
   ],
   "source": [
    "plot_confusion_matrix(get_metrics(val_result_strat4, 4)[\"CM\"], classes = [0, 1], filename = \"results/CM_val_strat4.png\");"
   ]
  },
  {
   "cell_type": "code",
   "execution_count": 26,
   "id": "interested-roommate",
   "metadata": {},
   "outputs": [
    {
     "data": {
      "image/png": "[encoded data removed]",
      "text/plain": [
       "<Figure size 720x720 with 1 Axes>"
      ]
     },
     "metadata": {
      "needs_background": "light"
     },
     "output_type": "display_data"
    }
   ],
   "source": [
    "roc = get_metrics(val_result_strat4, 4)[\"ROC\"]\n",
    "plot_ROC_curve(roc[\"fpr\"], roc[\"tpr\"], filename = \"results/ROC_val_strat4.png\");"
   ]
  },
  {
   "cell_type": "markdown",
   "id": "continent-irrigation",
   "metadata": {},
   "source": [
    "*test data:*"
   ]
  },
  {
   "cell_type": "code",
   "execution_count": 27,
   "id": "green-standing",
   "metadata": {},
   "outputs": [
    {
     "name": "stdout",
     "output_type": "stream",
     "text": [
      "Strategy 1:  {'ACC': 0.7016129032258065, 'FPR': 0.06321839080459771, 'AUC': 0.669812053432743, 'Ya': 0.5, 'EF': 1.6756756756756757, 'REF': 50.0} \n",
      "Strategy 2:  {'ACC': 0.7096774193548387, 'FPR': 0.09195402298850575, 'AUC': 0.6798695246971109, 'Ya': 0.5294117647058824, 'EF': 1.7742448330683624, 'REF': 52.94117647058823} \n",
      "Strategy 3:  {'ACC': 0.7016129032258065, 'FPR': 0.034482758620689655, 'AUC': 0.6725302889095992, 'Ya': 0.5, 'EF': 1.6756756756756757, 'REF': 50.0} \n",
      "Strategy 4:  {'ACC': 0.7137096774193549, 'FPR': 0.034482758620689655, 'AUC': 0.6619291705498602, 'Ya': 0.6, 'EF': 2.0108108108108107, 'REF': 60.0}\n"
     ]
    }
   ],
   "source": [
    "print(\n",
    "\"Strategy 1: \",\n",
    "get_metrics(test_result_strat1, 5, pretty_print = True),\n",
    "\"\\nStrategy 2: \",\n",
    "get_metrics(test_result_strat2, 5, pretty_print = True),\n",
    "\"\\nStrategy 3: \",\n",
    "get_metrics(test_result_strat3, 4, pretty_print = True),\n",
    "\"\\nStrategy 4: \",\n",
    "get_metrics(test_result_strat4, 4, pretty_print = True)\n",
    ")"
   ]
  },
  {
   "cell_type": "code",
   "execution_count": 28,
   "id": "attempted-vault",
   "metadata": {},
   "outputs": [
    {
     "data": {
      "image/png": "[encoded data removed]",
      "text/plain": [
       "<Figure size 720x720 with 2 Axes>"
      ]
     },
     "metadata": {
      "needs_background": "light"
     },
     "output_type": "display_data"
    }
   ],
   "source": [
    "plot_confusion_matrix(get_metrics(test_result_strat4, 4)[\"CM\"], classes = [0, 1], filename = \"results/CM_test_strat4.png\");"
   ]
  },
  {
   "cell_type": "code",
   "execution_count": 29,
   "id": "internal-density",
   "metadata": {},
   "outputs": [
    {
     "data": {
      "image/png": "[encoded data removed]",
      "text/plain": [
       "<Figure size 720x720 with 1 Axes>"
      ]
     },
     "metadata": {
      "needs_background": "light"
     },
     "output_type": "display_data"
    }
   ],
   "source": [
    "roc = get_metrics(test_result_strat4, 4)[\"ROC\"]\n",
    "plot_ROC_curve(roc[\"fpr\"], roc[\"tpr\"], filename = \"results/ROC_test_strat4.png\");"
   ]
  },
  {
   "cell_type": "markdown",
   "id": "taken-union",
   "metadata": {},
   "source": [
    "#### **Clean up:**"
   ]
  },
  {
   "cell_type": "code",
   "execution_count": 30,
   "id": "interior-contents",
   "metadata": {},
   "outputs": [],
   "source": [
    "os.remove(\"scoring.py\")"
   ]
  },
  {
   "cell_type": "code",
   "execution_count": null,
   "id": "tested-affiliation",
   "metadata": {},
   "outputs": [],
   "source": []
  }
 ],
 "metadata": {
  "kernelspec": {
   "display_name": "Python 3",
   "language": "python",
   "name": "python3"
  },
  "language_info": {
   "codemirror_mode": {
    "name": "ipython",
    "version": 3
   },
   "file_extension": ".py",
   "mimetype": "text/x-python",
   "name": "python",
   "nbconvert_exporter": "python",
   "pygments_lexer": "ipython3",
   "version": "3.8.8"
  }
 },
 "nbformat": 4,
 "nbformat_minor": 5
}
