{
 "cells": [
  {
   "cell_type": "markdown",
   "id": "miniature-moderator",
   "metadata": {},
   "source": [
    "## **SCORING - Vitamin E: Workflow 6.1**\n",
    "#### **Micha Birklbauer 2021-08-11**"
   ]
  },
  {
   "cell_type": "code",
   "execution_count": 1,
   "id": "approved-calendar",
   "metadata": {},
   "outputs": [
    {
     "data": {
      "text/plain": [
       "'scoring.py'"
      ]
     },
     "execution_count": 1,
     "metadata": {},
     "output_type": "execute_result"
    }
   ],
   "source": [
    "import os\n",
    "from shutil import copyfile\n",
    "from itertools import islice\n",
    "copyfile(\"../../../scripts/python/scoring.py\", \"scoring.py\")"
   ]
  },
  {
   "cell_type": "code",
   "execution_count": 2,
   "id": "trying-buyer",
   "metadata": {},
   "outputs": [],
   "source": [
    "import pandas as pd\n",
    "from scoring import *"
   ]
  },
  {
   "cell_type": "markdown",
   "id": "supreme-bowling",
   "metadata": {},
   "source": [
    "#### **Load data:**"
   ]
  },
  {
   "cell_type": "code",
   "execution_count": 3,
   "id": "incoming-corpus",
   "metadata": {},
   "outputs": [],
   "source": [
    "data_train = pd.read_csv(\"data_train.csv\")\n",
    "data_val = pd.read_csv(\"data_val.csv\")\n",
    "data_test = pd.read_csv(\"data_test.csv\")\n",
    "features = pd.read_csv(\"features.csv\")"
   ]
  },
  {
   "cell_type": "code",
   "execution_count": 4,
   "id": "vietnamese-andorra",
   "metadata": {},
   "outputs": [],
   "source": [
    "# data_train.info()"
   ]
  },
  {
   "cell_type": "code",
   "execution_count": 5,
   "id": "following-musical",
   "metadata": {},
   "outputs": [
    {
     "data": {
      "text/html": [
       "<div>\n",
       "<style scoped>\n",
       "    .dataframe tbody tr th:only-of-type {\n",
       "        vertical-align: middle;\n",
       "    }\n",
       "\n",
       "    .dataframe tbody tr th {\n",
       "        vertical-align: top;\n",
       "    }\n",
       "\n",
       "    .dataframe thead th {\n",
       "        text-align: right;\n",
       "    }\n",
       "</style>\n",
       "<table border=\"1\" class=\"dataframe\">\n",
       "  <thead>\n",
       "    <tr style=\"text-align: right;\">\n",
       "      <th></th>\n",
       "      <th>INDEX</th>\n",
       "      <th>NAME</th>\n",
       "      <th>Hydrogen_Bond:TRP102B</th>\n",
       "      <th>Hydrogen_Bond:LYS394B</th>\n",
       "      <th>Hydrophobic_Interaction:LEU111B</th>\n",
       "      <th>Hydrogen_Bond:ASP166B</th>\n",
       "      <th>Halogen_Bond:TRP102B</th>\n",
       "      <th>Hydrophobic_Interaction:ASP106B</th>\n",
       "      <th>Salt_Bridge:HIS125B</th>\n",
       "      <th>Hydrophobic_Interaction:PRO164B</th>\n",
       "      <th>...</th>\n",
       "      <th>Salt_Bridge:ARG68B</th>\n",
       "      <th>Pi-Cation_Interaction:LYS140B</th>\n",
       "      <th>Salt_Bridge:HIS130B</th>\n",
       "      <th>Hydrogen_Bond:VAL389B</th>\n",
       "      <th>Hydrophobic_Interaction:HIS130B</th>\n",
       "      <th>Hydrogen_Bond:ARG101B</th>\n",
       "      <th>Hydrogen_Bond:HIS130B</th>\n",
       "      <th>Hydrogen_Bond:LYS140B</th>\n",
       "      <th>Hydrogen_Bond:CYS99B</th>\n",
       "      <th>LABEL</th>\n",
       "    </tr>\n",
       "  </thead>\n",
       "  <tbody>\n",
       "    <tr>\n",
       "      <th>0</th>\n",
       "      <td>1</td>\n",
       "      <td>28|VitaminE_allmin_active|sdf|28</td>\n",
       "      <td>0</td>\n",
       "      <td>0</td>\n",
       "      <td>0</td>\n",
       "      <td>2</td>\n",
       "      <td>0</td>\n",
       "      <td>0</td>\n",
       "      <td>0</td>\n",
       "      <td>0</td>\n",
       "      <td>...</td>\n",
       "      <td>0</td>\n",
       "      <td>0</td>\n",
       "      <td>0</td>\n",
       "      <td>0</td>\n",
       "      <td>0</td>\n",
       "      <td>1</td>\n",
       "      <td>0</td>\n",
       "      <td>0</td>\n",
       "      <td>0</td>\n",
       "      <td>active</td>\n",
       "    </tr>\n",
       "    <tr>\n",
       "      <th>1</th>\n",
       "      <td>2</td>\n",
       "      <td>101|VitaminE_allmin_active|sdf|101</td>\n",
       "      <td>0</td>\n",
       "      <td>2</td>\n",
       "      <td>1</td>\n",
       "      <td>0</td>\n",
       "      <td>0</td>\n",
       "      <td>0</td>\n",
       "      <td>0</td>\n",
       "      <td>0</td>\n",
       "      <td>...</td>\n",
       "      <td>1</td>\n",
       "      <td>0</td>\n",
       "      <td>0</td>\n",
       "      <td>0</td>\n",
       "      <td>1</td>\n",
       "      <td>0</td>\n",
       "      <td>1</td>\n",
       "      <td>0</td>\n",
       "      <td>0</td>\n",
       "      <td>active</td>\n",
       "    </tr>\n",
       "    <tr>\n",
       "      <th>2</th>\n",
       "      <td>3</td>\n",
       "      <td>111|VitaminE_allmin_decoy|sdf|111</td>\n",
       "      <td>0</td>\n",
       "      <td>0</td>\n",
       "      <td>0</td>\n",
       "      <td>1</td>\n",
       "      <td>1</td>\n",
       "      <td>0</td>\n",
       "      <td>0</td>\n",
       "      <td>0</td>\n",
       "      <td>...</td>\n",
       "      <td>1</td>\n",
       "      <td>0</td>\n",
       "      <td>0</td>\n",
       "      <td>0</td>\n",
       "      <td>1</td>\n",
       "      <td>2</td>\n",
       "      <td>0</td>\n",
       "      <td>0</td>\n",
       "      <td>0</td>\n",
       "      <td>inactive</td>\n",
       "    </tr>\n",
       "    <tr>\n",
       "      <th>3</th>\n",
       "      <td>4</td>\n",
       "      <td>54|VitaminE_allmin_decoy|sdf|54</td>\n",
       "      <td>0</td>\n",
       "      <td>0</td>\n",
       "      <td>0</td>\n",
       "      <td>0</td>\n",
       "      <td>0</td>\n",
       "      <td>0</td>\n",
       "      <td>0</td>\n",
       "      <td>0</td>\n",
       "      <td>...</td>\n",
       "      <td>0</td>\n",
       "      <td>0</td>\n",
       "      <td>0</td>\n",
       "      <td>0</td>\n",
       "      <td>0</td>\n",
       "      <td>3</td>\n",
       "      <td>0</td>\n",
       "      <td>0</td>\n",
       "      <td>0</td>\n",
       "      <td>inactive</td>\n",
       "    </tr>\n",
       "    <tr>\n",
       "      <th>4</th>\n",
       "      <td>5</td>\n",
       "      <td>110|VitaminE_allmin_active|sdf|110</td>\n",
       "      <td>0</td>\n",
       "      <td>1</td>\n",
       "      <td>0</td>\n",
       "      <td>0</td>\n",
       "      <td>0</td>\n",
       "      <td>0</td>\n",
       "      <td>0</td>\n",
       "      <td>0</td>\n",
       "      <td>...</td>\n",
       "      <td>0</td>\n",
       "      <td>0</td>\n",
       "      <td>0</td>\n",
       "      <td>0</td>\n",
       "      <td>0</td>\n",
       "      <td>1</td>\n",
       "      <td>1</td>\n",
       "      <td>0</td>\n",
       "      <td>0</td>\n",
       "      <td>active</td>\n",
       "    </tr>\n",
       "    <tr>\n",
       "      <th>...</th>\n",
       "      <td>...</td>\n",
       "      <td>...</td>\n",
       "      <td>...</td>\n",
       "      <td>...</td>\n",
       "      <td>...</td>\n",
       "      <td>...</td>\n",
       "      <td>...</td>\n",
       "      <td>...</td>\n",
       "      <td>...</td>\n",
       "      <td>...</td>\n",
       "      <td>...</td>\n",
       "      <td>...</td>\n",
       "      <td>...</td>\n",
       "      <td>...</td>\n",
       "      <td>...</td>\n",
       "      <td>...</td>\n",
       "      <td>...</td>\n",
       "      <td>...</td>\n",
       "      <td>...</td>\n",
       "      <td>...</td>\n",
       "      <td>...</td>\n",
       "    </tr>\n",
       "    <tr>\n",
       "      <th>76</th>\n",
       "      <td>77</td>\n",
       "      <td>82|VitaminE_allmin_active|sdf|82</td>\n",
       "      <td>0</td>\n",
       "      <td>1</td>\n",
       "      <td>1</td>\n",
       "      <td>0</td>\n",
       "      <td>0</td>\n",
       "      <td>0</td>\n",
       "      <td>0</td>\n",
       "      <td>0</td>\n",
       "      <td>...</td>\n",
       "      <td>0</td>\n",
       "      <td>1</td>\n",
       "      <td>0</td>\n",
       "      <td>0</td>\n",
       "      <td>0</td>\n",
       "      <td>0</td>\n",
       "      <td>0</td>\n",
       "      <td>0</td>\n",
       "      <td>0</td>\n",
       "      <td>active</td>\n",
       "    </tr>\n",
       "    <tr>\n",
       "      <th>77</th>\n",
       "      <td>78</td>\n",
       "      <td>103|VitaminE_allmin_active|sdf|103</td>\n",
       "      <td>0</td>\n",
       "      <td>0</td>\n",
       "      <td>0</td>\n",
       "      <td>0</td>\n",
       "      <td>0</td>\n",
       "      <td>0</td>\n",
       "      <td>0</td>\n",
       "      <td>0</td>\n",
       "      <td>...</td>\n",
       "      <td>0</td>\n",
       "      <td>0</td>\n",
       "      <td>0</td>\n",
       "      <td>0</td>\n",
       "      <td>0</td>\n",
       "      <td>1</td>\n",
       "      <td>0</td>\n",
       "      <td>0</td>\n",
       "      <td>0</td>\n",
       "      <td>active</td>\n",
       "    </tr>\n",
       "    <tr>\n",
       "      <th>78</th>\n",
       "      <td>79</td>\n",
       "      <td>105|VitaminE_allmin_decoy|sdf|105</td>\n",
       "      <td>0</td>\n",
       "      <td>0</td>\n",
       "      <td>0</td>\n",
       "      <td>0</td>\n",
       "      <td>0</td>\n",
       "      <td>0</td>\n",
       "      <td>0</td>\n",
       "      <td>0</td>\n",
       "      <td>...</td>\n",
       "      <td>0</td>\n",
       "      <td>0</td>\n",
       "      <td>0</td>\n",
       "      <td>0</td>\n",
       "      <td>0</td>\n",
       "      <td>2</td>\n",
       "      <td>0</td>\n",
       "      <td>0</td>\n",
       "      <td>0</td>\n",
       "      <td>inactive</td>\n",
       "    </tr>\n",
       "    <tr>\n",
       "      <th>79</th>\n",
       "      <td>80</td>\n",
       "      <td>114|VitaminE_allmin_active|sdf|114</td>\n",
       "      <td>0</td>\n",
       "      <td>0</td>\n",
       "      <td>0</td>\n",
       "      <td>0</td>\n",
       "      <td>0</td>\n",
       "      <td>0</td>\n",
       "      <td>0</td>\n",
       "      <td>1</td>\n",
       "      <td>...</td>\n",
       "      <td>0</td>\n",
       "      <td>0</td>\n",
       "      <td>0</td>\n",
       "      <td>0</td>\n",
       "      <td>0</td>\n",
       "      <td>1</td>\n",
       "      <td>0</td>\n",
       "      <td>0</td>\n",
       "      <td>0</td>\n",
       "      <td>active</td>\n",
       "    </tr>\n",
       "    <tr>\n",
       "      <th>80</th>\n",
       "      <td>81</td>\n",
       "      <td>128|VitaminE_allmin_decoy|sdf|128</td>\n",
       "      <td>0</td>\n",
       "      <td>0</td>\n",
       "      <td>0</td>\n",
       "      <td>0</td>\n",
       "      <td>0</td>\n",
       "      <td>0</td>\n",
       "      <td>0</td>\n",
       "      <td>0</td>\n",
       "      <td>...</td>\n",
       "      <td>0</td>\n",
       "      <td>0</td>\n",
       "      <td>0</td>\n",
       "      <td>0</td>\n",
       "      <td>0</td>\n",
       "      <td>1</td>\n",
       "      <td>0</td>\n",
       "      <td>0</td>\n",
       "      <td>0</td>\n",
       "      <td>inactive</td>\n",
       "    </tr>\n",
       "  </tbody>\n",
       "</table>\n",
       "<p>81 rows × 88 columns</p>\n",
       "</div>"
      ],
      "text/plain": [
       "    INDEX                                NAME  Hydrogen_Bond:TRP102B  \\\n",
       "0       1    28|VitaminE_allmin_active|sdf|28                      0   \n",
       "1       2  101|VitaminE_allmin_active|sdf|101                      0   \n",
       "2       3   111|VitaminE_allmin_decoy|sdf|111                      0   \n",
       "3       4     54|VitaminE_allmin_decoy|sdf|54                      0   \n",
       "4       5  110|VitaminE_allmin_active|sdf|110                      0   \n",
       "..    ...                                 ...                    ...   \n",
       "76     77    82|VitaminE_allmin_active|sdf|82                      0   \n",
       "77     78  103|VitaminE_allmin_active|sdf|103                      0   \n",
       "78     79   105|VitaminE_allmin_decoy|sdf|105                      0   \n",
       "79     80  114|VitaminE_allmin_active|sdf|114                      0   \n",
       "80     81   128|VitaminE_allmin_decoy|sdf|128                      0   \n",
       "\n",
       "    Hydrogen_Bond:LYS394B  Hydrophobic_Interaction:LEU111B  \\\n",
       "0                       0                                0   \n",
       "1                       2                                1   \n",
       "2                       0                                0   \n",
       "3                       0                                0   \n",
       "4                       1                                0   \n",
       "..                    ...                              ...   \n",
       "76                      1                                1   \n",
       "77                      0                                0   \n",
       "78                      0                                0   \n",
       "79                      0                                0   \n",
       "80                      0                                0   \n",
       "\n",
       "    Hydrogen_Bond:ASP166B  Halogen_Bond:TRP102B  \\\n",
       "0                       2                     0   \n",
       "1                       0                     0   \n",
       "2                       1                     1   \n",
       "3                       0                     0   \n",
       "4                       0                     0   \n",
       "..                    ...                   ...   \n",
       "76                      0                     0   \n",
       "77                      0                     0   \n",
       "78                      0                     0   \n",
       "79                      0                     0   \n",
       "80                      0                     0   \n",
       "\n",
       "    Hydrophobic_Interaction:ASP106B  Salt_Bridge:HIS125B  \\\n",
       "0                                 0                    0   \n",
       "1                                 0                    0   \n",
       "2                                 0                    0   \n",
       "3                                 0                    0   \n",
       "4                                 0                    0   \n",
       "..                              ...                  ...   \n",
       "76                                0                    0   \n",
       "77                                0                    0   \n",
       "78                                0                    0   \n",
       "79                                0                    0   \n",
       "80                                0                    0   \n",
       "\n",
       "    Hydrophobic_Interaction:PRO164B  ...  Salt_Bridge:ARG68B  \\\n",
       "0                                 0  ...                   0   \n",
       "1                                 0  ...                   1   \n",
       "2                                 0  ...                   1   \n",
       "3                                 0  ...                   0   \n",
       "4                                 0  ...                   0   \n",
       "..                              ...  ...                 ...   \n",
       "76                                0  ...                   0   \n",
       "77                                0  ...                   0   \n",
       "78                                0  ...                   0   \n",
       "79                                1  ...                   0   \n",
       "80                                0  ...                   0   \n",
       "\n",
       "    Pi-Cation_Interaction:LYS140B  Salt_Bridge:HIS130B  Hydrogen_Bond:VAL389B  \\\n",
       "0                               0                    0                      0   \n",
       "1                               0                    0                      0   \n",
       "2                               0                    0                      0   \n",
       "3                               0                    0                      0   \n",
       "4                               0                    0                      0   \n",
       "..                            ...                  ...                    ...   \n",
       "76                              1                    0                      0   \n",
       "77                              0                    0                      0   \n",
       "78                              0                    0                      0   \n",
       "79                              0                    0                      0   \n",
       "80                              0                    0                      0   \n",
       "\n",
       "    Hydrophobic_Interaction:HIS130B  Hydrogen_Bond:ARG101B  \\\n",
       "0                                 0                      1   \n",
       "1                                 1                      0   \n",
       "2                                 1                      2   \n",
       "3                                 0                      3   \n",
       "4                                 0                      1   \n",
       "..                              ...                    ...   \n",
       "76                                0                      0   \n",
       "77                                0                      1   \n",
       "78                                0                      2   \n",
       "79                                0                      1   \n",
       "80                                0                      1   \n",
       "\n",
       "    Hydrogen_Bond:HIS130B  Hydrogen_Bond:LYS140B  Hydrogen_Bond:CYS99B  \\\n",
       "0                       0                      0                     0   \n",
       "1                       1                      0                     0   \n",
       "2                       0                      0                     0   \n",
       "3                       0                      0                     0   \n",
       "4                       1                      0                     0   \n",
       "..                    ...                    ...                   ...   \n",
       "76                      0                      0                     0   \n",
       "77                      0                      0                     0   \n",
       "78                      0                      0                     0   \n",
       "79                      0                      0                     0   \n",
       "80                      0                      0                     0   \n",
       "\n",
       "       LABEL  \n",
       "0     active  \n",
       "1     active  \n",
       "2   inactive  \n",
       "3   inactive  \n",
       "4     active  \n",
       "..       ...  \n",
       "76    active  \n",
       "77    active  \n",
       "78  inactive  \n",
       "79    active  \n",
       "80  inactive  \n",
       "\n",
       "[81 rows x 88 columns]"
      ]
     },
     "execution_count": 5,
     "metadata": {},
     "output_type": "execute_result"
    }
   ],
   "source": [
    "data_train"
   ]
  },
  {
   "cell_type": "code",
   "execution_count": 6,
   "id": "worst-organization",
   "metadata": {},
   "outputs": [
    {
     "name": "stdout",
     "output_type": "stream",
     "text": [
      "Training dataset shape & Nr. of actives:\n",
      "(81, 88) 56\n"
     ]
    }
   ],
   "source": [
    "print(\"Training dataset shape & Nr. of actives:\")\n",
    "print(data_train.shape, len(data_train.loc[data_train[\"LABEL\"] == \"active\"]))"
   ]
  },
  {
   "cell_type": "code",
   "execution_count": 7,
   "id": "geographic-heath",
   "metadata": {},
   "outputs": [
    {
     "name": "stdout",
     "output_type": "stream",
     "text": [
      "Validation dataset shape & Nr. of actives:\n",
      "(21, 88) 9\n"
     ]
    }
   ],
   "source": [
    "print(\"Validation dataset shape & Nr. of actives:\")\n",
    "print(data_val.shape, len(data_val.loc[data_val[\"LABEL\"] == \"active\"]))"
   ]
  },
  {
   "cell_type": "code",
   "execution_count": 8,
   "id": "equivalent-myanmar",
   "metadata": {},
   "outputs": [
    {
     "name": "stdout",
     "output_type": "stream",
     "text": [
      "Test dataset shape & Nr. of actives:\n",
      "(26, 88) 16\n"
     ]
    }
   ],
   "source": [
    "print(\"Test dataset shape & Nr. of actives:\")\n",
    "print(data_test.shape, len(data_test.loc[data_test[\"LABEL\"] == \"active\"]))"
   ]
  },
  {
   "cell_type": "code",
   "execution_count": 9,
   "id": "homeless-mediterranean",
   "metadata": {},
   "outputs": [
    {
     "data": {
      "text/html": [
       "<div>\n",
       "<style scoped>\n",
       "    .dataframe tbody tr th:only-of-type {\n",
       "        vertical-align: middle;\n",
       "    }\n",
       "\n",
       "    .dataframe tbody tr th {\n",
       "        vertical-align: top;\n",
       "    }\n",
       "\n",
       "    .dataframe thead th {\n",
       "        text-align: right;\n",
       "    }\n",
       "</style>\n",
       "<table border=\"1\" class=\"dataframe\">\n",
       "  <thead>\n",
       "    <tr style=\"text-align: right;\">\n",
       "      <th></th>\n",
       "      <th>INDEX</th>\n",
       "      <th>INTERACTION</th>\n",
       "      <th>DIFFERENCE</th>\n",
       "      <th>ACTIVE_FREQUENCY</th>\n",
       "      <th>INACTIVE_FREQUENCY</th>\n",
       "    </tr>\n",
       "  </thead>\n",
       "  <tbody>\n",
       "    <tr>\n",
       "      <th>0</th>\n",
       "      <td>1</td>\n",
       "      <td>Hydrogen_Bond:ARG138B</td>\n",
       "      <td>0.403571</td>\n",
       "      <td>0.196429</td>\n",
       "      <td>0.60</td>\n",
       "    </tr>\n",
       "    <tr>\n",
       "      <th>1</th>\n",
       "      <td>2</td>\n",
       "      <td>Hydrophobic_Interaction:LEU66B</td>\n",
       "      <td>0.385000</td>\n",
       "      <td>0.625000</td>\n",
       "      <td>0.24</td>\n",
       "    </tr>\n",
       "    <tr>\n",
       "      <th>2</th>\n",
       "      <td>3</td>\n",
       "      <td>Hydrophobic_Interaction:GLN129B</td>\n",
       "      <td>0.300000</td>\n",
       "      <td>0.500000</td>\n",
       "      <td>0.20</td>\n",
       "    </tr>\n",
       "    <tr>\n",
       "      <th>3</th>\n",
       "      <td>4</td>\n",
       "      <td>Hydrophobic_Interaction:ALA388B</td>\n",
       "      <td>0.270000</td>\n",
       "      <td>0.250000</td>\n",
       "      <td>0.52</td>\n",
       "    </tr>\n",
       "    <tr>\n",
       "      <th>4</th>\n",
       "      <td>5</td>\n",
       "      <td>Pi-Cation_Interaction:ARG101B</td>\n",
       "      <td>0.261429</td>\n",
       "      <td>0.178571</td>\n",
       "      <td>0.44</td>\n",
       "    </tr>\n",
       "    <tr>\n",
       "      <th>...</th>\n",
       "      <td>...</td>\n",
       "      <td>...</td>\n",
       "      <td>...</td>\n",
       "      <td>...</td>\n",
       "      <td>...</td>\n",
       "    </tr>\n",
       "    <tr>\n",
       "      <th>80</th>\n",
       "      <td>81</td>\n",
       "      <td>Hydrogen_Bond:HIS125B</td>\n",
       "      <td>0.004286</td>\n",
       "      <td>0.035714</td>\n",
       "      <td>0.04</td>\n",
       "    </tr>\n",
       "    <tr>\n",
       "      <th>81</th>\n",
       "      <td>82</td>\n",
       "      <td>Hydrophobic_Interaction:VAL29B</td>\n",
       "      <td>0.004286</td>\n",
       "      <td>0.035714</td>\n",
       "      <td>0.04</td>\n",
       "    </tr>\n",
       "    <tr>\n",
       "      <th>82</th>\n",
       "      <td>83</td>\n",
       "      <td>Pi-Cation_Interaction:LYS133B</td>\n",
       "      <td>0.004286</td>\n",
       "      <td>0.035714</td>\n",
       "      <td>0.04</td>\n",
       "    </tr>\n",
       "    <tr>\n",
       "      <th>83</th>\n",
       "      <td>84</td>\n",
       "      <td>Hydrogen_Bond:ALA388B</td>\n",
       "      <td>0.004286</td>\n",
       "      <td>0.035714</td>\n",
       "      <td>0.04</td>\n",
       "    </tr>\n",
       "    <tr>\n",
       "      <th>84</th>\n",
       "      <td>85</td>\n",
       "      <td>Hydrogen_Bond:ASP113B</td>\n",
       "      <td>0.004286</td>\n",
       "      <td>0.035714</td>\n",
       "      <td>0.04</td>\n",
       "    </tr>\n",
       "  </tbody>\n",
       "</table>\n",
       "<p>85 rows × 5 columns</p>\n",
       "</div>"
      ],
      "text/plain": [
       "    INDEX                      INTERACTION  DIFFERENCE  ACTIVE_FREQUENCY  \\\n",
       "0       1            Hydrogen_Bond:ARG138B    0.403571          0.196429   \n",
       "1       2   Hydrophobic_Interaction:LEU66B    0.385000          0.625000   \n",
       "2       3  Hydrophobic_Interaction:GLN129B    0.300000          0.500000   \n",
       "3       4  Hydrophobic_Interaction:ALA388B    0.270000          0.250000   \n",
       "4       5    Pi-Cation_Interaction:ARG101B    0.261429          0.178571   \n",
       "..    ...                              ...         ...               ...   \n",
       "80     81            Hydrogen_Bond:HIS125B    0.004286          0.035714   \n",
       "81     82   Hydrophobic_Interaction:VAL29B    0.004286          0.035714   \n",
       "82     83    Pi-Cation_Interaction:LYS133B    0.004286          0.035714   \n",
       "83     84            Hydrogen_Bond:ALA388B    0.004286          0.035714   \n",
       "84     85            Hydrogen_Bond:ASP113B    0.004286          0.035714   \n",
       "\n",
       "    INACTIVE_FREQUENCY  \n",
       "0                 0.60  \n",
       "1                 0.24  \n",
       "2                 0.20  \n",
       "3                 0.52  \n",
       "4                 0.44  \n",
       "..                 ...  \n",
       "80                0.04  \n",
       "81                0.04  \n",
       "82                0.04  \n",
       "83                0.04  \n",
       "84                0.04  \n",
       "\n",
       "[85 rows x 5 columns]"
      ]
     },
     "execution_count": 9,
     "metadata": {},
     "output_type": "execute_result"
    }
   ],
   "source": [
    "features"
   ]
  },
  {
   "cell_type": "markdown",
   "id": "reflected-organ",
   "metadata": {},
   "source": [
    "#### **Extract relevant features:**"
   ]
  },
  {
   "cell_type": "code",
   "execution_count": 10,
   "id": "remarkable-charger",
   "metadata": {},
   "outputs": [],
   "source": [
    "optimized_values = get_optimized_feature_thresholds(features, data_train)"
   ]
  },
  {
   "cell_type": "code",
   "execution_count": 11,
   "id": "arranged-young",
   "metadata": {},
   "outputs": [
    {
     "name": "stdout",
     "output_type": "stream",
     "text": [
      "Key: 0.0, 0.0, 0.0: strat1 Accuracy: 0.8641975308641975\n",
      "Key: 0.0, 0.0, 0.0: strat3 Accuracy: 0.8641975308641975\n",
      "Key: 0.0, 0.0, 0.0: strat2 Accuracy: 0.8518518518518519\n",
      "Key: 0.0, 0.05, 0.0: strat1 Accuracy: 0.8518518518518519\n",
      "Key: 0.0, 0.0, 0.0: strat4 Accuracy: 0.8395061728395061\n"
     ]
    }
   ],
   "source": [
    "for item in islice(optimized_values[\"ACC\"].items(), 5):\n",
    "    print('Key: {} Accuracy: {}'.format(item[0], item[1]))"
   ]
  },
  {
   "cell_type": "code",
   "execution_count": 12,
   "id": "ranking-isaac",
   "metadata": {},
   "outputs": [
    {
     "name": "stdout",
     "output_type": "stream",
     "text": [
      "Key: 0.0, 0.0, 0.0: strat4 Area under the ROC curve: 0.8942857142857142\n",
      "Key: 0.0, 0.0, 0.0: strat2 Area under the ROC curve: 0.8814285714285715\n",
      "Key: 0.0, 0.0, 0.0: strat3 Area under the ROC curve: 0.8810714285714286\n",
      "Key: 0.0, 0.0, 0.0: strat1 Area under the ROC curve: 0.8674999999999999\n",
      "Key: 0.0, 0.05, 0.0: strat2 Area under the ROC curve: 0.8639285714285714\n"
     ]
    }
   ],
   "source": [
    "for item in islice(optimized_values[\"AUC\"].items(), 5):\n",
    "    print('Key: {} Area under the ROC curve: {}'.format(item[0], item[1]))"
   ]
  },
  {
   "cell_type": "code",
   "execution_count": 13,
   "id": "bacterial-institute",
   "metadata": {},
   "outputs": [],
   "source": [
    "optimized_values_val = get_optimized_feature_thresholds(features, data_train, data_val)"
   ]
  },
  {
   "cell_type": "code",
   "execution_count": 14,
   "id": "relevant-charm",
   "metadata": {},
   "outputs": [
    {
     "name": "stdout",
     "output_type": "stream",
     "text": [
      "Key: 0.0, 0.15000000000000002, 0.0: strat4 Accuracy: 0.7142857142857143\n",
      "Key: 0.0, 0.15000000000000002, 0.05: strat4 Accuracy: 0.7142857142857143\n",
      "Key: 0.0, 0.2, 0.0: strat2 Accuracy: 0.7142857142857143\n",
      "Key: 0.0, 0.2, 0.0: strat3 Accuracy: 0.7142857142857143\n",
      "Key: 0.0, 0.2, 0.0: strat4 Accuracy: 0.7142857142857143\n"
     ]
    }
   ],
   "source": [
    "for item in islice(optimized_values_val[\"ACC\"].items(), 5):\n",
    "    print('Key: {} Accuracy: {}'.format(item[0], item[1]))"
   ]
  },
  {
   "cell_type": "code",
   "execution_count": 15,
   "id": "boolean-brass",
   "metadata": {},
   "outputs": [
    {
     "name": "stdout",
     "output_type": "stream",
     "text": [
      "Key: 0.05, 0.0, 0.55: strat3 Area under the ROC curve: 0.6712962962962963\n",
      "Key: 0.05, 0.05, 0.55: strat3 Area under the ROC curve: 0.6712962962962963\n",
      "Key: 0.05, 0.1, 0.55: strat3 Area under the ROC curve: 0.6712962962962963\n",
      "Key: 0.05, 0.15000000000000002, 0.55: strat3 Area under the ROC curve: 0.6712962962962963\n",
      "Key: 0.1, 0.0, 0.55: strat3 Area under the ROC curve: 0.6712962962962963\n"
     ]
    }
   ],
   "source": [
    "for item in islice(optimized_values_val[\"AUC\"].items(), 5):\n",
    "    print('Key: {} Area under the ROC curve: {}'.format(item[0], item[1]))"
   ]
  },
  {
   "cell_type": "code",
   "execution_count": 16,
   "id": "statistical-covering",
   "metadata": {},
   "outputs": [
    {
     "data": {
      "text/html": [
       "<div>\n",
       "<style scoped>\n",
       "    .dataframe tbody tr th:only-of-type {\n",
       "        vertical-align: middle;\n",
       "    }\n",
       "\n",
       "    .dataframe tbody tr th {\n",
       "        vertical-align: top;\n",
       "    }\n",
       "\n",
       "    .dataframe thead th {\n",
       "        text-align: right;\n",
       "    }\n",
       "</style>\n",
       "<table border=\"1\" class=\"dataframe\">\n",
       "  <thead>\n",
       "    <tr style=\"text-align: right;\">\n",
       "      <th></th>\n",
       "      <th>INDEX</th>\n",
       "      <th>INTERACTION</th>\n",
       "      <th>DIFFERENCE</th>\n",
       "      <th>ACTIVE_FREQUENCY</th>\n",
       "      <th>INACTIVE_FREQUENCY</th>\n",
       "    </tr>\n",
       "  </thead>\n",
       "  <tbody>\n",
       "    <tr>\n",
       "      <th>1</th>\n",
       "      <td>2</td>\n",
       "      <td>Hydrophobic_Interaction:LEU66B</td>\n",
       "      <td>0.385000</td>\n",
       "      <td>0.625000</td>\n",
       "      <td>0.24</td>\n",
       "    </tr>\n",
       "    <tr>\n",
       "      <th>2</th>\n",
       "      <td>3</td>\n",
       "      <td>Hydrophobic_Interaction:GLN129B</td>\n",
       "      <td>0.300000</td>\n",
       "      <td>0.500000</td>\n",
       "      <td>0.20</td>\n",
       "    </tr>\n",
       "    <tr>\n",
       "      <th>3</th>\n",
       "      <td>4</td>\n",
       "      <td>Hydrophobic_Interaction:ALA388B</td>\n",
       "      <td>0.270000</td>\n",
       "      <td>0.250000</td>\n",
       "      <td>0.52</td>\n",
       "    </tr>\n",
       "    <tr>\n",
       "      <th>5</th>\n",
       "      <td>6</td>\n",
       "      <td>Hydrophobic_Interaction:HIS130B</td>\n",
       "      <td>0.260000</td>\n",
       "      <td>0.500000</td>\n",
       "      <td>0.24</td>\n",
       "    </tr>\n",
       "    <tr>\n",
       "      <th>6</th>\n",
       "      <td>7</td>\n",
       "      <td>Hydrophobic_Interaction:PRO164B</td>\n",
       "      <td>0.245714</td>\n",
       "      <td>0.285714</td>\n",
       "      <td>0.04</td>\n",
       "    </tr>\n",
       "    <tr>\n",
       "      <th>8</th>\n",
       "      <td>9</td>\n",
       "      <td>Hydrophobic_Interaction:GLU108B</td>\n",
       "      <td>0.185714</td>\n",
       "      <td>0.214286</td>\n",
       "      <td>0.40</td>\n",
       "    </tr>\n",
       "    <tr>\n",
       "      <th>10</th>\n",
       "      <td>11</td>\n",
       "      <td>Hydrophobic_Interaction:GLN141B</td>\n",
       "      <td>0.162143</td>\n",
       "      <td>0.482143</td>\n",
       "      <td>0.32</td>\n",
       "    </tr>\n",
       "    <tr>\n",
       "      <th>11</th>\n",
       "      <td>12</td>\n",
       "      <td>Hydrophobic_Interaction:ILE126B</td>\n",
       "      <td>0.161429</td>\n",
       "      <td>0.321429</td>\n",
       "      <td>0.16</td>\n",
       "    </tr>\n",
       "    <tr>\n",
       "      <th>13</th>\n",
       "      <td>14</td>\n",
       "      <td>Hydrogen_Bond:ARG68B</td>\n",
       "      <td>0.152143</td>\n",
       "      <td>0.232143</td>\n",
       "      <td>0.08</td>\n",
       "    </tr>\n",
       "    <tr>\n",
       "      <th>14</th>\n",
       "      <td>15</td>\n",
       "      <td>Hydrophobic_Interaction:VAL107B</td>\n",
       "      <td>0.150000</td>\n",
       "      <td>0.750000</td>\n",
       "      <td>0.60</td>\n",
       "    </tr>\n",
       "    <tr>\n",
       "      <th>15</th>\n",
       "      <td>16</td>\n",
       "      <td>Hydrogen_Bond:ARG165B</td>\n",
       "      <td>0.147857</td>\n",
       "      <td>0.267857</td>\n",
       "      <td>0.12</td>\n",
       "    </tr>\n",
       "    <tr>\n",
       "      <th>16</th>\n",
       "      <td>17</td>\n",
       "      <td>Hydrogen_Bond:ARG101B</td>\n",
       "      <td>0.147143</td>\n",
       "      <td>0.892857</td>\n",
       "      <td>1.04</td>\n",
       "    </tr>\n",
       "    <tr>\n",
       "      <th>17</th>\n",
       "      <td>18</td>\n",
       "      <td>Hydrogen_Bond:ASP166B</td>\n",
       "      <td>0.130714</td>\n",
       "      <td>0.410714</td>\n",
       "      <td>0.28</td>\n",
       "    </tr>\n",
       "    <tr>\n",
       "      <th>23</th>\n",
       "      <td>24</td>\n",
       "      <td>Hydrophobic_Interaction:LYS133B</td>\n",
       "      <td>0.114286</td>\n",
       "      <td>0.714286</td>\n",
       "      <td>0.60</td>\n",
       "    </tr>\n",
       "    <tr>\n",
       "      <th>26</th>\n",
       "      <td>27</td>\n",
       "      <td>Hydrogen_Bond:GLU108B</td>\n",
       "      <td>0.103571</td>\n",
       "      <td>0.303571</td>\n",
       "      <td>0.20</td>\n",
       "    </tr>\n",
       "    <tr>\n",
       "      <th>39</th>\n",
       "      <td>40</td>\n",
       "      <td>Hydrophobic_Interaction:TYR142B</td>\n",
       "      <td>0.072143</td>\n",
       "      <td>0.232143</td>\n",
       "      <td>0.16</td>\n",
       "    </tr>\n",
       "    <tr>\n",
       "      <th>40</th>\n",
       "      <td>41</td>\n",
       "      <td>Hydrophobic_Interaction:VAL109B</td>\n",
       "      <td>0.072143</td>\n",
       "      <td>0.232143</td>\n",
       "      <td>0.16</td>\n",
       "    </tr>\n",
       "    <tr>\n",
       "      <th>45</th>\n",
       "      <td>46</td>\n",
       "      <td>Hydrophobic_Interaction:THR137B</td>\n",
       "      <td>0.051429</td>\n",
       "      <td>0.428571</td>\n",
       "      <td>0.48</td>\n",
       "    </tr>\n",
       "    <tr>\n",
       "      <th>46</th>\n",
       "      <td>47</td>\n",
       "      <td>Hydrogen_Bond:LYS394B</td>\n",
       "      <td>0.050000</td>\n",
       "      <td>0.250000</td>\n",
       "      <td>0.20</td>\n",
       "    </tr>\n",
       "    <tr>\n",
       "      <th>76</th>\n",
       "      <td>77</td>\n",
       "      <td>Hydrophobic_Interaction:VAL110B</td>\n",
       "      <td>0.015000</td>\n",
       "      <td>0.625000</td>\n",
       "      <td>0.64</td>\n",
       "    </tr>\n",
       "    <tr>\n",
       "      <th>77</th>\n",
       "      <td>78</td>\n",
       "      <td>Hydrophobic_Interaction:GLU134B</td>\n",
       "      <td>0.014286</td>\n",
       "      <td>0.785714</td>\n",
       "      <td>0.80</td>\n",
       "    </tr>\n",
       "  </tbody>\n",
       "</table>\n",
       "</div>"
      ],
      "text/plain": [
       "    INDEX                      INTERACTION  DIFFERENCE  ACTIVE_FREQUENCY  \\\n",
       "1       2   Hydrophobic_Interaction:LEU66B    0.385000          0.625000   \n",
       "2       3  Hydrophobic_Interaction:GLN129B    0.300000          0.500000   \n",
       "3       4  Hydrophobic_Interaction:ALA388B    0.270000          0.250000   \n",
       "5       6  Hydrophobic_Interaction:HIS130B    0.260000          0.500000   \n",
       "6       7  Hydrophobic_Interaction:PRO164B    0.245714          0.285714   \n",
       "8       9  Hydrophobic_Interaction:GLU108B    0.185714          0.214286   \n",
       "10     11  Hydrophobic_Interaction:GLN141B    0.162143          0.482143   \n",
       "11     12  Hydrophobic_Interaction:ILE126B    0.161429          0.321429   \n",
       "13     14             Hydrogen_Bond:ARG68B    0.152143          0.232143   \n",
       "14     15  Hydrophobic_Interaction:VAL107B    0.150000          0.750000   \n",
       "15     16            Hydrogen_Bond:ARG165B    0.147857          0.267857   \n",
       "16     17            Hydrogen_Bond:ARG101B    0.147143          0.892857   \n",
       "17     18            Hydrogen_Bond:ASP166B    0.130714          0.410714   \n",
       "23     24  Hydrophobic_Interaction:LYS133B    0.114286          0.714286   \n",
       "26     27            Hydrogen_Bond:GLU108B    0.103571          0.303571   \n",
       "39     40  Hydrophobic_Interaction:TYR142B    0.072143          0.232143   \n",
       "40     41  Hydrophobic_Interaction:VAL109B    0.072143          0.232143   \n",
       "45     46  Hydrophobic_Interaction:THR137B    0.051429          0.428571   \n",
       "46     47            Hydrogen_Bond:LYS394B    0.050000          0.250000   \n",
       "76     77  Hydrophobic_Interaction:VAL110B    0.015000          0.625000   \n",
       "77     78  Hydrophobic_Interaction:GLU134B    0.014286          0.785714   \n",
       "\n",
       "    INACTIVE_FREQUENCY  \n",
       "1                 0.24  \n",
       "2                 0.20  \n",
       "3                 0.52  \n",
       "5                 0.24  \n",
       "6                 0.04  \n",
       "8                 0.40  \n",
       "10                0.32  \n",
       "11                0.16  \n",
       "13                0.08  \n",
       "14                0.60  \n",
       "15                0.12  \n",
       "16                1.04  \n",
       "17                0.28  \n",
       "23                0.60  \n",
       "26                0.20  \n",
       "39                0.16  \n",
       "40                0.16  \n",
       "45                0.48  \n",
       "46                0.20  \n",
       "76                0.64  \n",
       "77                0.80  "
      ]
     },
     "execution_count": 16,
     "metadata": {},
     "output_type": "execute_result"
    }
   ],
   "source": [
    "features_filtered = get_relevant_features(features, 0.0, 0.2, 0.0)\n",
    "features_filtered"
   ]
  },
  {
   "cell_type": "code",
   "execution_count": 17,
   "id": "adaptive-nowhere",
   "metadata": {},
   "outputs": [],
   "source": [
    "# some error checking -- should print nothing\n",
    "for item in features_filtered[\"INTERACTION\"].to_list():\n",
    "    if item not in data_train.columns.to_list():\n",
    "        print(item)"
   ]
  },
  {
   "cell_type": "markdown",
   "id": "continental-globe",
   "metadata": {},
   "source": [
    "#### **Get positive features (e.g. features that have a positive impact on activeness) and negative features:**"
   ]
  },
  {
   "cell_type": "code",
   "execution_count": 18,
   "id": "helpful-olympus",
   "metadata": {},
   "outputs": [],
   "source": [
    "positives, negatives = get_feature_impact(features_filtered)"
   ]
  },
  {
   "cell_type": "code",
   "execution_count": 19,
   "id": "decimal-rebecca",
   "metadata": {},
   "outputs": [
    {
     "data": {
      "text/plain": [
       "['Hydrophobic_Interaction:LEU66B',\n",
       " 'Hydrophobic_Interaction:GLN129B',\n",
       " 'Hydrophobic_Interaction:HIS130B',\n",
       " 'Hydrophobic_Interaction:PRO164B',\n",
       " 'Hydrophobic_Interaction:GLN141B',\n",
       " 'Hydrophobic_Interaction:ILE126B',\n",
       " 'Hydrogen_Bond:ARG68B',\n",
       " 'Hydrophobic_Interaction:VAL107B',\n",
       " 'Hydrogen_Bond:ARG165B',\n",
       " 'Hydrogen_Bond:ASP166B',\n",
       " 'Hydrophobic_Interaction:LYS133B',\n",
       " 'Hydrogen_Bond:GLU108B',\n",
       " 'Hydrophobic_Interaction:TYR142B',\n",
       " 'Hydrophobic_Interaction:VAL109B',\n",
       " 'Hydrogen_Bond:LYS394B']"
      ]
     },
     "execution_count": 19,
     "metadata": {},
     "output_type": "execute_result"
    }
   ],
   "source": [
    "positives"
   ]
  },
  {
   "cell_type": "code",
   "execution_count": 20,
   "id": "developing-orchestra",
   "metadata": {},
   "outputs": [
    {
     "data": {
      "text/plain": [
       "['Hydrophobic_Interaction:ALA388B',\n",
       " 'Hydrophobic_Interaction:GLU108B',\n",
       " 'Hydrogen_Bond:ARG101B',\n",
       " 'Hydrophobic_Interaction:THR137B',\n",
       " 'Hydrophobic_Interaction:VAL110B',\n",
       " 'Hydrophobic_Interaction:GLU134B']"
      ]
     },
     "execution_count": 20,
     "metadata": {},
     "output_type": "execute_result"
    }
   ],
   "source": [
    "negatives"
   ]
  },
  {
   "cell_type": "markdown",
   "id": "occupied-brake",
   "metadata": {},
   "source": [
    "#### **Score Compounds with different strategies & save results:**"
   ]
  },
  {
   "cell_type": "code",
   "execution_count": 21,
   "id": "dying-albany",
   "metadata": {},
   "outputs": [],
   "source": [
    "save = False\n",
    "\n",
    "# make data copies\n",
    "train_result_strat1 = data_train.copy()\n",
    "train_result_strat2 = data_train.copy()\n",
    "train_result_strat3 = data_train.copy()\n",
    "train_result_strat4 = data_train.copy()\n",
    "# calculate scores\n",
    "train_result_strat1[\"SCORE\"] = train_result_strat1.apply(lambda x: score(x, positives, negatives, \"+\"), axis = 1)\n",
    "train_result_strat2[\"SCORE\"] = train_result_strat2.apply(lambda x: score(x, positives, negatives, \"++\"), axis = 1)\n",
    "train_result_strat3[\"SCORE\"] = train_result_strat3.apply(lambda x: score(x, positives, negatives, \"+-\"), axis = 1)\n",
    "train_result_strat4[\"SCORE\"] = train_result_strat4.apply(lambda x: score(x, positives, negatives, \"++--\"), axis = 1)\n",
    "# sort data\n",
    "train_result_strat1_sorted = train_result_strat1.sort_values(by = \"SCORE\", ascending = False)\n",
    "train_result_strat2_sorted = train_result_strat2.sort_values(by = \"SCORE\", ascending = False)\n",
    "train_result_strat3_sorted = train_result_strat3.sort_values(by = \"SCORE\", ascending = False)\n",
    "train_result_strat4_sorted = train_result_strat4.sort_values(by = \"SCORE\", ascending = False)\n",
    "# save data\n",
    "if save:\n",
    "    train_result_strat1_sorted.to_csv(\"train_scores1.csv\")\n",
    "    train_result_strat2_sorted.to_csv(\"train_scores2.csv\")\n",
    "    train_result_strat3_sorted.to_csv(\"train_scores3.csv\")\n",
    "    train_result_strat4_sorted.to_csv(\"train_scores4.csv\")"
   ]
  },
  {
   "cell_type": "markdown",
   "id": "leading-tract",
   "metadata": {},
   "source": [
    "#### **Find best cutoff value and print metrics:**"
   ]
  },
  {
   "cell_type": "markdown",
   "id": "opposed-patrick",
   "metadata": {},
   "source": [
    "*cutoff/accuracy for different strategies:*"
   ]
  },
  {
   "cell_type": "code",
   "execution_count": 22,
   "id": "innovative-listening",
   "metadata": {},
   "outputs": [
    {
     "name": "stdout",
     "output_type": "stream",
     "text": [
      "Strategy 1:  [4, 0.8024691358024691] \n",
      "Strategy 2:  [4, 0.8024691358024691] \n",
      "Strategy 3:  [0, 0.7777777777777778] \n",
      "Strategy 4:  [0, 0.7654320987654321]\n"
     ]
    }
   ],
   "source": [
    "print(\n",
    "\"Strategy 1: \",\n",
    "get_cutoff(train_result_strat1[\"LABEL\"].to_list(), train_result_strat1[\"SCORE\"].to_list()),\n",
    "\"\\nStrategy 2: \",\n",
    "get_cutoff(train_result_strat2[\"LABEL\"].to_list(), train_result_strat2[\"SCORE\"].to_list()),\n",
    "\"\\nStrategy 3: \",\n",
    "get_cutoff(train_result_strat3[\"LABEL\"].to_list(), train_result_strat3[\"SCORE\"].to_list()),\n",
    "\"\\nStrategy 4: \",\n",
    "get_cutoff(train_result_strat4[\"LABEL\"].to_list(), train_result_strat4[\"SCORE\"].to_list())\n",
    ")"
   ]
  },
  {
   "cell_type": "markdown",
   "id": "numerous-infection",
   "metadata": {},
   "source": [
    "*accuracy for best cutoff:*"
   ]
  },
  {
   "cell_type": "code",
   "execution_count": 23,
   "id": "mobile-occasions",
   "metadata": {},
   "outputs": [
    {
     "name": "stdout",
     "output_type": "stream",
     "text": [
      "Strategy 1:  0.8024691358024691 \n",
      "Strategy 2:  0.8024691358024691 \n",
      "Strategy 3:  0.7777777777777778 \n",
      "Strategy 4:  0.7654320987654321\n"
     ]
    }
   ],
   "source": [
    "print(\n",
    "\"Strategy 1: \",\n",
    "test_cutoff(train_result_strat1[\"LABEL\"].to_list(), train_result_strat1[\"SCORE\"].to_list(), 4, \"accuracy\"),\n",
    "\"\\nStrategy 2: \",\n",
    "test_cutoff(train_result_strat2[\"LABEL\"].to_list(), train_result_strat2[\"SCORE\"].to_list(), 4, \"accuracy\"),\n",
    "\"\\nStrategy 3: \",\n",
    "test_cutoff(train_result_strat3[\"LABEL\"].to_list(), train_result_strat3[\"SCORE\"].to_list(), 0, \"accuracy\"),\n",
    "\"\\nStrategy 4: \",\n",
    "test_cutoff(train_result_strat4[\"LABEL\"].to_list(), train_result_strat4[\"SCORE\"].to_list(), 0, \"accuracy\")\n",
    ")"
   ]
  },
  {
   "cell_type": "markdown",
   "id": "generic-privacy",
   "metadata": {},
   "source": [
    "*false positive rate for best cutoff:*"
   ]
  },
  {
   "cell_type": "code",
   "execution_count": 24,
   "id": "invisible-interest",
   "metadata": {},
   "outputs": [
    {
     "name": "stdout",
     "output_type": "stream",
     "text": [
      "Strategy 1:  0.36 \n",
      "Strategy 2:  0.4 \n",
      "Strategy 3:  0.48 \n",
      "Strategy 4:  0.48\n"
     ]
    }
   ],
   "source": [
    "print(\n",
    "\"Strategy 1: \",\n",
    "test_cutoff(train_result_strat1[\"LABEL\"].to_list(), train_result_strat1[\"SCORE\"].to_list(), 4, \"fpr\"),\n",
    "\"\\nStrategy 2: \",\n",
    "test_cutoff(train_result_strat2[\"LABEL\"].to_list(), train_result_strat2[\"SCORE\"].to_list(), 4, \"fpr\"),\n",
    "\"\\nStrategy 3: \",\n",
    "test_cutoff(train_result_strat3[\"LABEL\"].to_list(), train_result_strat3[\"SCORE\"].to_list(), 0, \"fpr\"),\n",
    "\"\\nStrategy 4: \",\n",
    "test_cutoff(train_result_strat4[\"LABEL\"].to_list(), train_result_strat4[\"SCORE\"].to_list(), 0, \"fpr\")\n",
    ")"
   ]
  },
  {
   "cell_type": "markdown",
   "id": "nominated-anchor",
   "metadata": {},
   "source": [
    "#### **Calculate validation and test results:**"
   ]
  },
  {
   "cell_type": "code",
   "execution_count": 25,
   "id": "french-expense",
   "metadata": {},
   "outputs": [],
   "source": [
    "# make data copies\n",
    "val_result_strat1 = data_val.copy()\n",
    "val_result_strat2 = data_val.copy()\n",
    "val_result_strat3 = data_val.copy()\n",
    "val_result_strat4 = data_val.copy()\n",
    "# calculate scores\n",
    "val_result_strat1[\"SCORE\"] = val_result_strat1.apply(lambda x: score(x, positives, negatives, \"+\"), axis = 1)\n",
    "val_result_strat2[\"SCORE\"] = val_result_strat2.apply(lambda x: score(x, positives, negatives, \"++\"), axis = 1)\n",
    "val_result_strat3[\"SCORE\"] = val_result_strat3.apply(lambda x: score(x, positives, negatives, \"+-\"), axis = 1)\n",
    "val_result_strat4[\"SCORE\"] = val_result_strat4.apply(lambda x: score(x, positives, negatives, \"++--\"), axis = 1)\n",
    "# sort data\n",
    "val_result_strat1_sorted = val_result_strat1.sort_values(by = \"SCORE\", ascending = False)\n",
    "val_result_strat2_sorted = val_result_strat2.sort_values(by = \"SCORE\", ascending = False)\n",
    "val_result_strat3_sorted = val_result_strat3.sort_values(by = \"SCORE\", ascending = False)\n",
    "val_result_strat4_sorted = val_result_strat4.sort_values(by = \"SCORE\", ascending = False)"
   ]
  },
  {
   "cell_type": "code",
   "execution_count": 26,
   "id": "ahead-blade",
   "metadata": {},
   "outputs": [],
   "source": [
    "# make data copies\n",
    "test_result_strat1 = data_test.copy()\n",
    "test_result_strat2 = data_test.copy()\n",
    "test_result_strat3 = data_test.copy()\n",
    "test_result_strat4 = data_test.copy()\n",
    "# calculate scores\n",
    "test_result_strat1[\"SCORE\"] = test_result_strat1.apply(lambda x: score(x, positives, negatives, \"+\"), axis = 1)\n",
    "test_result_strat2[\"SCORE\"] = test_result_strat2.apply(lambda x: score(x, positives, negatives, \"++\"), axis = 1)\n",
    "test_result_strat3[\"SCORE\"] = test_result_strat3.apply(lambda x: score(x, positives, negatives, \"+-\"), axis = 1)\n",
    "test_result_strat4[\"SCORE\"] = test_result_strat4.apply(lambda x: score(x, positives, negatives, \"++--\"), axis = 1)\n",
    "# sort data\n",
    "test_result_strat1_sorted = test_result_strat1.sort_values(by = \"SCORE\", ascending = False)\n",
    "test_result_strat2_sorted = test_result_strat2.sort_values(by = \"SCORE\", ascending = False)\n",
    "test_result_strat3_sorted = test_result_strat3.sort_values(by = \"SCORE\", ascending = False)\n",
    "test_result_strat4_sorted = test_result_strat4.sort_values(by = \"SCORE\", ascending = False)"
   ]
  },
  {
   "cell_type": "markdown",
   "id": "completed-large",
   "metadata": {},
   "source": [
    "#### **Quality metrics for training and validation data:**"
   ]
  },
  {
   "cell_type": "markdown",
   "id": "skilled-japanese",
   "metadata": {},
   "source": [
    "*training data:*"
   ]
  },
  {
   "cell_type": "code",
   "execution_count": 27,
   "id": "transparent-local",
   "metadata": {},
   "outputs": [
    {
     "name": "stdout",
     "output_type": "stream",
     "text": [
      "Strategy 1:  {'ACC': 0.8024691358024691, 'FPR': 0.36, 'AUC': 0.7614285714285713, 'Ya': 0.8448275862068966, 'EF': 1.2219827586206897, 'REF': 87.5} \n",
      "Strategy 2:  {'ACC': 0.8024691358024691, 'FPR': 0.4, 'AUC': 0.7767857142857142, 'Ya': 0.8333333333333334, 'EF': 1.205357142857143, 'REF': 89.28571428571429} \n",
      "Strategy 3:  {'ACC': 0.7777777777777778, 'FPR': 0.48, 'AUC': 0.7535714285714286, 'Ya': 0.8064516129032258, 'EF': 1.1664746543778801, 'REF': 89.28571428571429} \n",
      "Strategy 4:  {'ACC': 0.7654320987654321, 'FPR': 0.48, 'AUC': 0.7889285714285714, 'Ya': 0.8032786885245902, 'EF': 1.1618852459016393, 'REF': 87.5}\n"
     ]
    }
   ],
   "source": [
    "print(\n",
    "\"Strategy 1: \",\n",
    "get_metrics(train_result_strat1, 4, pretty_print = True),\n",
    "\"\\nStrategy 2: \",\n",
    "get_metrics(train_result_strat2, 4, pretty_print = True),\n",
    "\"\\nStrategy 3: \",\n",
    "get_metrics(train_result_strat3, 0, pretty_print = True),\n",
    "\"\\nStrategy 4: \",\n",
    "get_metrics(train_result_strat4, 0, pretty_print = True)\n",
    ")"
   ]
  },
  {
   "cell_type": "code",
   "execution_count": 28,
   "id": "surgical-apache",
   "metadata": {},
   "outputs": [
    {
     "data": {
      "image/png": "[encoded data removed]",
      "text/plain": [
       "<Figure size 720x720 with 2 Axes>"
      ]
     },
     "metadata": {
      "needs_background": "light"
     },
     "output_type": "display_data"
    }
   ],
   "source": [
    "plot_confusion_matrix(get_metrics(train_result_strat2, 4)[\"CM\"], classes = [0, 1], filename = \"results/CM_train_strat2.png\");"
   ]
  },
  {
   "cell_type": "code",
   "execution_count": 29,
   "id": "waiting-combining",
   "metadata": {},
   "outputs": [
    {
     "data": {
      "image/png": "[encoded data removed]",
      "text/plain": [
       "<Figure size 720x720 with 1 Axes>"
      ]
     },
     "metadata": {
      "needs_background": "light"
     },
     "output_type": "display_data"
    }
   ],
   "source": [
    "roc = get_metrics(train_result_strat2, 4)[\"ROC\"]\n",
    "plot_ROC_curve(roc[\"fpr\"], roc[\"tpr\"], filename = \"results/ROC_train_strat2.png\");"
   ]
  },
  {
   "cell_type": "markdown",
   "id": "parliamentary-choir",
   "metadata": {},
   "source": [
    "*validation data:*"
   ]
  },
  {
   "cell_type": "code",
   "execution_count": 30,
   "id": "adolescent-reset",
   "metadata": {},
   "outputs": [
    {
     "name": "stdout",
     "output_type": "stream",
     "text": [
      "Strategy 1:  {'ACC': 0.6190476190476191, 'FPR': 0.4166666666666667, 'AUC': 0.5462962962962963, 'Ya': 0.5454545454545454, 'EF': 1.2727272727272727, 'REF': 66.66666666666667} \n",
      "Strategy 2:  {'ACC': 0.7142857142857143, 'FPR': 0.4166666666666667, 'AUC': 0.5648148148148149, 'Ya': 0.6153846153846154, 'EF': 1.4358974358974361, 'REF': 88.88888888888889} \n",
      "Strategy 3:  {'ACC': 0.7142857142857143, 'FPR': 0.4166666666666667, 'AUC': 0.5740740740740741, 'Ya': 0.6153846153846154, 'EF': 1.4358974358974361, 'REF': 88.88888888888889} \n",
      "Strategy 4:  {'ACC': 0.7142857142857143, 'FPR': 0.4166666666666667, 'AUC': 0.5509259259259258, 'Ya': 0.6153846153846154, 'EF': 1.4358974358974361, 'REF': 88.88888888888889}\n"
     ]
    }
   ],
   "source": [
    "print(\n",
    "\"Strategy 1: \",\n",
    "get_metrics(val_result_strat1, 4, pretty_print = True),\n",
    "\"\\nStrategy 2: \",\n",
    "get_metrics(val_result_strat2, 4, pretty_print = True),\n",
    "\"\\nStrategy 3: \",\n",
    "get_metrics(val_result_strat3, 0, pretty_print = True),\n",
    "\"\\nStrategy 4: \",\n",
    "get_metrics(val_result_strat4, 0, pretty_print = True)\n",
    ")"
   ]
  },
  {
   "cell_type": "code",
   "execution_count": 31,
   "id": "urban-cruise",
   "metadata": {},
   "outputs": [
    {
     "data": {
      "image/png": "[encoded data removed]",
      "text/plain": [
       "<Figure size 720x720 with 2 Axes>"
      ]
     },
     "metadata": {
      "needs_background": "light"
     },
     "output_type": "display_data"
    }
   ],
   "source": [
    "plot_confusion_matrix(get_metrics(val_result_strat2, 4)[\"CM\"], classes = [0, 1], filename = \"results/CM_val_strat2.png\");"
   ]
  },
  {
   "cell_type": "code",
   "execution_count": 32,
   "id": "explicit-shield",
   "metadata": {},
   "outputs": [
    {
     "data": {
      "image/png": "[encoded data removed]",
      "text/plain": [
       "<Figure size 720x720 with 1 Axes>"
      ]
     },
     "metadata": {
      "needs_background": "light"
     },
     "output_type": "display_data"
    }
   ],
   "source": [
    "roc = get_metrics(val_result_strat2, 4)[\"ROC\"]\n",
    "plot_ROC_curve(roc[\"fpr\"], roc[\"tpr\"], filename = \"results/ROC_val_strat2.png\");"
   ]
  },
  {
   "cell_type": "markdown",
   "id": "careful-graham",
   "metadata": {},
   "source": [
    "*test data:*"
   ]
  },
  {
   "cell_type": "code",
   "execution_count": 33,
   "id": "touched-prefix",
   "metadata": {},
   "outputs": [
    {
     "name": "stdout",
     "output_type": "stream",
     "text": [
      "Strategy 1:  {'ACC': 0.46153846153846156, 'FPR': 0.9, 'AUC': 0.48750000000000004, 'Ya': 0.55, 'EF': 0.89375, 'REF': 68.75} \n",
      "Strategy 2:  {'ACC': 0.5, 'FPR': 0.9, 'AUC': 0.49375, 'Ya': 0.5714285714285714, 'EF': 0.9285714285714285, 'REF': 75.0} \n",
      "Strategy 3:  {'ACC': 0.5, 'FPR': 1.0, 'AUC': 0.4625, 'Ya': 0.5652173913043478, 'EF': 0.9184782608695651, 'REF': 81.25} \n",
      "Strategy 4:  {'ACC': 0.5, 'FPR': 1.0, 'AUC': 0.46249999999999997, 'Ya': 0.5652173913043478, 'EF': 0.9184782608695651, 'REF': 81.25}\n"
     ]
    }
   ],
   "source": [
    "print(\n",
    "\"Strategy 1: \",\n",
    "get_metrics(test_result_strat1, 4, pretty_print = True),\n",
    "\"\\nStrategy 2: \",\n",
    "get_metrics(test_result_strat2, 4, pretty_print = True),\n",
    "\"\\nStrategy 3: \",\n",
    "get_metrics(test_result_strat3, 0, pretty_print = True),\n",
    "\"\\nStrategy 4: \",\n",
    "get_metrics(test_result_strat4, 0, pretty_print = True)\n",
    ")"
   ]
  },
  {
   "cell_type": "code",
   "execution_count": 34,
   "id": "critical-proposition",
   "metadata": {},
   "outputs": [
    {
     "data": {
      "image/png": "[encoded data removed]",
      "text/plain": [
       "<Figure size 720x720 with 2 Axes>"
      ]
     },
     "metadata": {
      "needs_background": "light"
     },
     "output_type": "display_data"
    }
   ],
   "source": [
    "plot_confusion_matrix(get_metrics(test_result_strat2, 4)[\"CM\"], classes = [0, 1], filename = \"results/CM_test_strat2.png\");"
   ]
  },
  {
   "cell_type": "code",
   "execution_count": 35,
   "id": "conditional-gravity",
   "metadata": {},
   "outputs": [
    {
     "data": {
      "image/png": "[encoded data removed]",
      "text/plain": [
       "<Figure size 720x720 with 1 Axes>"
      ]
     },
     "metadata": {
      "needs_background": "light"
     },
     "output_type": "display_data"
    }
   ],
   "source": [
    "roc = get_metrics(test_result_strat2, 4)[\"ROC\"]\n",
    "plot_ROC_curve(roc[\"fpr\"], roc[\"tpr\"], filename = \"results/ROC_test_strat2.png\");"
   ]
  },
  {
   "cell_type": "markdown",
   "id": "arabic-island",
   "metadata": {},
   "source": [
    "#### **Clean up:**"
   ]
  },
  {
   "cell_type": "code",
   "execution_count": 36,
   "id": "defined-spring",
   "metadata": {},
   "outputs": [],
   "source": [
    "os.remove(\"scoring.py\")"
   ]
  },
  {
   "cell_type": "code",
   "execution_count": null,
   "id": "alpha-fourth",
   "metadata": {},
   "outputs": [],
   "source": []
  }
 ],
 "metadata": {
  "kernelspec": {
   "display_name": "Python 3",
   "language": "python",
   "name": "python3"
  },
  "language_info": {
   "codemirror_mode": {
    "name": "ipython",
    "version": 3
   },
   "file_extension": ".py",
   "mimetype": "text/x-python",
   "name": "python",
   "nbconvert_exporter": "python",
   "pygments_lexer": "ipython3",
   "version": "3.8.8"
  }
 },
 "nbformat": 4,
 "nbformat_minor": 5
}
