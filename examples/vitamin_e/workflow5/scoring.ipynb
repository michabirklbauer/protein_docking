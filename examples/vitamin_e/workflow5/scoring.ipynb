{
 "cells": [
  {
   "cell_type": "markdown",
   "id": "higher-daughter",
   "metadata": {},
   "source": [
    "## **SCORING - Vitamin E: Workflow5**\n",
    "#### **Micha Birklbauer 2021-08-02**"
   ]
  },
  {
   "cell_type": "code",
   "execution_count": 1,
   "id": "beginning-appraisal",
   "metadata": {},
   "outputs": [
    {
     "data": {
      "text/plain": [
       "'scoring.py'"
      ]
     },
     "execution_count": 1,
     "metadata": {},
     "output_type": "execute_result"
    }
   ],
   "source": [
    "import os\n",
    "from shutil import copyfile\n",
    "copyfile(\"../../../scripts/python/scoring.py\", \"scoring.py\")"
   ]
  },
  {
   "cell_type": "code",
   "execution_count": 2,
   "id": "subject-transformation",
   "metadata": {},
   "outputs": [],
   "source": [
    "import pandas as pd\n",
    "from scoring import *"
   ]
  },
  {
   "cell_type": "markdown",
   "id": "neutral-delaware",
   "metadata": {},
   "source": [
    "#### **Load data:**"
   ]
  },
  {
   "cell_type": "code",
   "execution_count": 3,
   "id": "connected-throw",
   "metadata": {},
   "outputs": [],
   "source": [
    "data_train = pd.read_csv(\"data_train.csv\")\n",
    "data_val = pd.read_csv(\"data_val.csv\")\n",
    "data_test = pd.read_csv(\"data_test.csv\")\n",
    "features = pd.read_csv(\"features.csv\")"
   ]
  },
  {
   "cell_type": "code",
   "execution_count": 4,
   "id": "radical-mobile",
   "metadata": {},
   "outputs": [],
   "source": [
    "# data_train.info()"
   ]
  },
  {
   "cell_type": "code",
   "execution_count": 5,
   "id": "efficient-scott",
   "metadata": {},
   "outputs": [
    {
     "data": {
      "text/html": [
       "<div>\n",
       "<style scoped>\n",
       "    .dataframe tbody tr th:only-of-type {\n",
       "        vertical-align: middle;\n",
       "    }\n",
       "\n",
       "    .dataframe tbody tr th {\n",
       "        vertical-align: top;\n",
       "    }\n",
       "\n",
       "    .dataframe thead th {\n",
       "        text-align: right;\n",
       "    }\n",
       "</style>\n",
       "<table border=\"1\" class=\"dataframe\">\n",
       "  <thead>\n",
       "    <tr style=\"text-align: right;\">\n",
       "      <th></th>\n",
       "      <th>INDEX</th>\n",
       "      <th>NAME</th>\n",
       "      <th>Hydrophobic_Interaction:LYS73B</th>\n",
       "      <th>Hydrogen_Bond:SER14B</th>\n",
       "      <th>Hydrophobic_Interaction:HIS17B</th>\n",
       "      <th>Hydrogen_Bond:ARG143B</th>\n",
       "      <th>Hydrogen_Bond:HIS160B</th>\n",
       "      <th>Hydrophobic_Interaction:VAL175B</th>\n",
       "      <th>Hydrogen_Bond:ARG101B</th>\n",
       "      <th>Hydrophobic_Interaction:ASP162B</th>\n",
       "      <th>...</th>\n",
       "      <th>Hydrogen_Bond:ASP156B</th>\n",
       "      <th>Salt_Bridge:LYS161B</th>\n",
       "      <th>Hydrophobic_Interaction:ARG143B</th>\n",
       "      <th>Pi-Cation_Interaction:ARG101B</th>\n",
       "      <th>Hydrophobic_Interaction:ARG101B</th>\n",
       "      <th>Salt_Bridge:LYS140B</th>\n",
       "      <th>Hydrophobic_Interaction:ALA157B</th>\n",
       "      <th>Hydrogen_Bond:LYS161B</th>\n",
       "      <th>Hydrophobic_Interaction:ASP166B</th>\n",
       "      <th>LABEL</th>\n",
       "    </tr>\n",
       "  </thead>\n",
       "  <tbody>\n",
       "    <tr>\n",
       "      <th>0</th>\n",
       "      <td>1</td>\n",
       "      <td>28|VitaminE_allmin_active|sdf|28</td>\n",
       "      <td>0</td>\n",
       "      <td>0</td>\n",
       "      <td>0</td>\n",
       "      <td>1</td>\n",
       "      <td>0</td>\n",
       "      <td>0</td>\n",
       "      <td>1</td>\n",
       "      <td>0</td>\n",
       "      <td>...</td>\n",
       "      <td>0</td>\n",
       "      <td>0</td>\n",
       "      <td>0</td>\n",
       "      <td>0</td>\n",
       "      <td>0</td>\n",
       "      <td>0</td>\n",
       "      <td>0</td>\n",
       "      <td>0</td>\n",
       "      <td>0</td>\n",
       "      <td>active</td>\n",
       "    </tr>\n",
       "    <tr>\n",
       "      <th>1</th>\n",
       "      <td>2</td>\n",
       "      <td>169|VitaminE_allmin_decoy|sdf|169</td>\n",
       "      <td>0</td>\n",
       "      <td>0</td>\n",
       "      <td>0</td>\n",
       "      <td>2</td>\n",
       "      <td>0</td>\n",
       "      <td>0</td>\n",
       "      <td>0</td>\n",
       "      <td>0</td>\n",
       "      <td>...</td>\n",
       "      <td>0</td>\n",
       "      <td>0</td>\n",
       "      <td>0</td>\n",
       "      <td>1</td>\n",
       "      <td>0</td>\n",
       "      <td>0</td>\n",
       "      <td>0</td>\n",
       "      <td>0</td>\n",
       "      <td>0</td>\n",
       "      <td>inactive</td>\n",
       "    </tr>\n",
       "    <tr>\n",
       "      <th>2</th>\n",
       "      <td>3</td>\n",
       "      <td>19|VitaminE_allmin_active|sdf|19</td>\n",
       "      <td>0</td>\n",
       "      <td>0</td>\n",
       "      <td>0</td>\n",
       "      <td>0</td>\n",
       "      <td>0</td>\n",
       "      <td>0</td>\n",
       "      <td>0</td>\n",
       "      <td>0</td>\n",
       "      <td>...</td>\n",
       "      <td>0</td>\n",
       "      <td>0</td>\n",
       "      <td>0</td>\n",
       "      <td>0</td>\n",
       "      <td>0</td>\n",
       "      <td>0</td>\n",
       "      <td>0</td>\n",
       "      <td>0</td>\n",
       "      <td>0</td>\n",
       "      <td>active</td>\n",
       "    </tr>\n",
       "    <tr>\n",
       "      <th>3</th>\n",
       "      <td>4</td>\n",
       "      <td>37|VitaminE_allmin_active|sdf|37</td>\n",
       "      <td>0</td>\n",
       "      <td>0</td>\n",
       "      <td>0</td>\n",
       "      <td>1</td>\n",
       "      <td>0</td>\n",
       "      <td>0</td>\n",
       "      <td>2</td>\n",
       "      <td>1</td>\n",
       "      <td>...</td>\n",
       "      <td>1</td>\n",
       "      <td>0</td>\n",
       "      <td>0</td>\n",
       "      <td>0</td>\n",
       "      <td>0</td>\n",
       "      <td>0</td>\n",
       "      <td>0</td>\n",
       "      <td>0</td>\n",
       "      <td>0</td>\n",
       "      <td>active</td>\n",
       "    </tr>\n",
       "    <tr>\n",
       "      <th>4</th>\n",
       "      <td>5</td>\n",
       "      <td>124|VitaminE_allmin_active|sdf|124</td>\n",
       "      <td>0</td>\n",
       "      <td>0</td>\n",
       "      <td>0</td>\n",
       "      <td>1</td>\n",
       "      <td>0</td>\n",
       "      <td>0</td>\n",
       "      <td>0</td>\n",
       "      <td>0</td>\n",
       "      <td>...</td>\n",
       "      <td>0</td>\n",
       "      <td>0</td>\n",
       "      <td>0</td>\n",
       "      <td>1</td>\n",
       "      <td>0</td>\n",
       "      <td>0</td>\n",
       "      <td>0</td>\n",
       "      <td>0</td>\n",
       "      <td>0</td>\n",
       "      <td>active</td>\n",
       "    </tr>\n",
       "    <tr>\n",
       "      <th>...</th>\n",
       "      <td>...</td>\n",
       "      <td>...</td>\n",
       "      <td>...</td>\n",
       "      <td>...</td>\n",
       "      <td>...</td>\n",
       "      <td>...</td>\n",
       "      <td>...</td>\n",
       "      <td>...</td>\n",
       "      <td>...</td>\n",
       "      <td>...</td>\n",
       "      <td>...</td>\n",
       "      <td>...</td>\n",
       "      <td>...</td>\n",
       "      <td>...</td>\n",
       "      <td>...</td>\n",
       "      <td>...</td>\n",
       "      <td>...</td>\n",
       "      <td>...</td>\n",
       "      <td>...</td>\n",
       "      <td>...</td>\n",
       "      <td>...</td>\n",
       "    </tr>\n",
       "    <tr>\n",
       "      <th>84</th>\n",
       "      <td>85</td>\n",
       "      <td>8|VitaminE_allmin_active|sdf|8</td>\n",
       "      <td>0</td>\n",
       "      <td>0</td>\n",
       "      <td>0</td>\n",
       "      <td>0</td>\n",
       "      <td>0</td>\n",
       "      <td>1</td>\n",
       "      <td>0</td>\n",
       "      <td>0</td>\n",
       "      <td>...</td>\n",
       "      <td>0</td>\n",
       "      <td>0</td>\n",
       "      <td>0</td>\n",
       "      <td>0</td>\n",
       "      <td>0</td>\n",
       "      <td>0</td>\n",
       "      <td>0</td>\n",
       "      <td>0</td>\n",
       "      <td>0</td>\n",
       "      <td>active</td>\n",
       "    </tr>\n",
       "    <tr>\n",
       "      <th>85</th>\n",
       "      <td>86</td>\n",
       "      <td>14|VitaminE_allmin_active|sdf|14</td>\n",
       "      <td>0</td>\n",
       "      <td>0</td>\n",
       "      <td>0</td>\n",
       "      <td>0</td>\n",
       "      <td>0</td>\n",
       "      <td>0</td>\n",
       "      <td>2</td>\n",
       "      <td>1</td>\n",
       "      <td>...</td>\n",
       "      <td>0</td>\n",
       "      <td>0</td>\n",
       "      <td>0</td>\n",
       "      <td>0</td>\n",
       "      <td>0</td>\n",
       "      <td>0</td>\n",
       "      <td>0</td>\n",
       "      <td>0</td>\n",
       "      <td>0</td>\n",
       "      <td>active</td>\n",
       "    </tr>\n",
       "    <tr>\n",
       "      <th>86</th>\n",
       "      <td>87</td>\n",
       "      <td>55|VitaminE_allmin_decoy|sdf|55</td>\n",
       "      <td>0</td>\n",
       "      <td>0</td>\n",
       "      <td>0</td>\n",
       "      <td>0</td>\n",
       "      <td>0</td>\n",
       "      <td>0</td>\n",
       "      <td>0</td>\n",
       "      <td>0</td>\n",
       "      <td>...</td>\n",
       "      <td>0</td>\n",
       "      <td>0</td>\n",
       "      <td>0</td>\n",
       "      <td>0</td>\n",
       "      <td>0</td>\n",
       "      <td>0</td>\n",
       "      <td>0</td>\n",
       "      <td>0</td>\n",
       "      <td>0</td>\n",
       "      <td>inactive</td>\n",
       "    </tr>\n",
       "    <tr>\n",
       "      <th>87</th>\n",
       "      <td>88</td>\n",
       "      <td>130|VitaminE_allmin_active|sdf|130</td>\n",
       "      <td>0</td>\n",
       "      <td>0</td>\n",
       "      <td>0</td>\n",
       "      <td>0</td>\n",
       "      <td>0</td>\n",
       "      <td>0</td>\n",
       "      <td>0</td>\n",
       "      <td>0</td>\n",
       "      <td>...</td>\n",
       "      <td>0</td>\n",
       "      <td>0</td>\n",
       "      <td>0</td>\n",
       "      <td>0</td>\n",
       "      <td>0</td>\n",
       "      <td>0</td>\n",
       "      <td>0</td>\n",
       "      <td>0</td>\n",
       "      <td>0</td>\n",
       "      <td>active</td>\n",
       "    </tr>\n",
       "    <tr>\n",
       "      <th>88</th>\n",
       "      <td>89</td>\n",
       "      <td>46|VitaminE_allmin_active|sdf|46</td>\n",
       "      <td>0</td>\n",
       "      <td>0</td>\n",
       "      <td>0</td>\n",
       "      <td>1</td>\n",
       "      <td>0</td>\n",
       "      <td>0</td>\n",
       "      <td>0</td>\n",
       "      <td>0</td>\n",
       "      <td>...</td>\n",
       "      <td>0</td>\n",
       "      <td>0</td>\n",
       "      <td>0</td>\n",
       "      <td>0</td>\n",
       "      <td>0</td>\n",
       "      <td>0</td>\n",
       "      <td>0</td>\n",
       "      <td>0</td>\n",
       "      <td>0</td>\n",
       "      <td>active</td>\n",
       "    </tr>\n",
       "  </tbody>\n",
       "</table>\n",
       "<p>89 rows × 114 columns</p>\n",
       "</div>"
      ],
      "text/plain": [
       "    INDEX                                NAME  Hydrophobic_Interaction:LYS73B  \\\n",
       "0       1    28|VitaminE_allmin_active|sdf|28                               0   \n",
       "1       2   169|VitaminE_allmin_decoy|sdf|169                               0   \n",
       "2       3    19|VitaminE_allmin_active|sdf|19                               0   \n",
       "3       4    37|VitaminE_allmin_active|sdf|37                               0   \n",
       "4       5  124|VitaminE_allmin_active|sdf|124                               0   \n",
       "..    ...                                 ...                             ...   \n",
       "84     85      8|VitaminE_allmin_active|sdf|8                               0   \n",
       "85     86    14|VitaminE_allmin_active|sdf|14                               0   \n",
       "86     87     55|VitaminE_allmin_decoy|sdf|55                               0   \n",
       "87     88  130|VitaminE_allmin_active|sdf|130                               0   \n",
       "88     89    46|VitaminE_allmin_active|sdf|46                               0   \n",
       "\n",
       "    Hydrogen_Bond:SER14B  Hydrophobic_Interaction:HIS17B  \\\n",
       "0                      0                               0   \n",
       "1                      0                               0   \n",
       "2                      0                               0   \n",
       "3                      0                               0   \n",
       "4                      0                               0   \n",
       "..                   ...                             ...   \n",
       "84                     0                               0   \n",
       "85                     0                               0   \n",
       "86                     0                               0   \n",
       "87                     0                               0   \n",
       "88                     0                               0   \n",
       "\n",
       "    Hydrogen_Bond:ARG143B  Hydrogen_Bond:HIS160B  \\\n",
       "0                       1                      0   \n",
       "1                       2                      0   \n",
       "2                       0                      0   \n",
       "3                       1                      0   \n",
       "4                       1                      0   \n",
       "..                    ...                    ...   \n",
       "84                      0                      0   \n",
       "85                      0                      0   \n",
       "86                      0                      0   \n",
       "87                      0                      0   \n",
       "88                      1                      0   \n",
       "\n",
       "    Hydrophobic_Interaction:VAL175B  Hydrogen_Bond:ARG101B  \\\n",
       "0                                 0                      1   \n",
       "1                                 0                      0   \n",
       "2                                 0                      0   \n",
       "3                                 0                      2   \n",
       "4                                 0                      0   \n",
       "..                              ...                    ...   \n",
       "84                                1                      0   \n",
       "85                                0                      2   \n",
       "86                                0                      0   \n",
       "87                                0                      0   \n",
       "88                                0                      0   \n",
       "\n",
       "    Hydrophobic_Interaction:ASP162B  ...  Hydrogen_Bond:ASP156B  \\\n",
       "0                                 0  ...                      0   \n",
       "1                                 0  ...                      0   \n",
       "2                                 0  ...                      0   \n",
       "3                                 1  ...                      1   \n",
       "4                                 0  ...                      0   \n",
       "..                              ...  ...                    ...   \n",
       "84                                0  ...                      0   \n",
       "85                                1  ...                      0   \n",
       "86                                0  ...                      0   \n",
       "87                                0  ...                      0   \n",
       "88                                0  ...                      0   \n",
       "\n",
       "    Salt_Bridge:LYS161B  Hydrophobic_Interaction:ARG143B  \\\n",
       "0                     0                                0   \n",
       "1                     0                                0   \n",
       "2                     0                                0   \n",
       "3                     0                                0   \n",
       "4                     0                                0   \n",
       "..                  ...                              ...   \n",
       "84                    0                                0   \n",
       "85                    0                                0   \n",
       "86                    0                                0   \n",
       "87                    0                                0   \n",
       "88                    0                                0   \n",
       "\n",
       "    Pi-Cation_Interaction:ARG101B  Hydrophobic_Interaction:ARG101B  \\\n",
       "0                               0                                0   \n",
       "1                               1                                0   \n",
       "2                               0                                0   \n",
       "3                               0                                0   \n",
       "4                               1                                0   \n",
       "..                            ...                              ...   \n",
       "84                              0                                0   \n",
       "85                              0                                0   \n",
       "86                              0                                0   \n",
       "87                              0                                0   \n",
       "88                              0                                0   \n",
       "\n",
       "    Salt_Bridge:LYS140B  Hydrophobic_Interaction:ALA157B  \\\n",
       "0                     0                                0   \n",
       "1                     0                                0   \n",
       "2                     0                                0   \n",
       "3                     0                                0   \n",
       "4                     0                                0   \n",
       "..                  ...                              ...   \n",
       "84                    0                                0   \n",
       "85                    0                                0   \n",
       "86                    0                                0   \n",
       "87                    0                                0   \n",
       "88                    0                                0   \n",
       "\n",
       "    Hydrogen_Bond:LYS161B  Hydrophobic_Interaction:ASP166B     LABEL  \n",
       "0                       0                                0    active  \n",
       "1                       0                                0  inactive  \n",
       "2                       0                                0    active  \n",
       "3                       0                                0    active  \n",
       "4                       0                                0    active  \n",
       "..                    ...                              ...       ...  \n",
       "84                      0                                0    active  \n",
       "85                      0                                0    active  \n",
       "86                      0                                0  inactive  \n",
       "87                      0                                0    active  \n",
       "88                      0                                0    active  \n",
       "\n",
       "[89 rows x 114 columns]"
      ]
     },
     "execution_count": 5,
     "metadata": {},
     "output_type": "execute_result"
    }
   ],
   "source": [
    "data_train"
   ]
  },
  {
   "cell_type": "code",
   "execution_count": 6,
   "id": "prescribed-narrow",
   "metadata": {},
   "outputs": [
    {
     "name": "stdout",
     "output_type": "stream",
     "text": [
      "Training dataset shape & Nr. of actives:\n",
      "(89, 114) 63\n"
     ]
    }
   ],
   "source": [
    "print(\"Training dataset shape & Nr. of actives:\")\n",
    "print(data_train.shape, len(data_train.loc[data_train[\"LABEL\"] == \"active\"]))"
   ]
  },
  {
   "cell_type": "code",
   "execution_count": 7,
   "id": "hazardous-recall",
   "metadata": {},
   "outputs": [
    {
     "name": "stdout",
     "output_type": "stream",
     "text": [
      "Validation dataset shape & Nr. of actives:\n",
      "(23, 114) 15\n"
     ]
    }
   ],
   "source": [
    "print(\"Validation dataset shape & Nr. of actives:\")\n",
    "print(data_val.shape, len(data_val.loc[data_val[\"LABEL\"] == \"active\"]))"
   ]
  },
  {
   "cell_type": "code",
   "execution_count": 8,
   "id": "corresponding-colleague",
   "metadata": {},
   "outputs": [
    {
     "name": "stdout",
     "output_type": "stream",
     "text": [
      "Test dataset shape & Nr. of actives:\n",
      "(29, 114) 19\n"
     ]
    }
   ],
   "source": [
    "print(\"Test dataset shape & Nr. of actives:\")\n",
    "print(data_test.shape, len(data_test.loc[data_test[\"LABEL\"] == \"active\"]))"
   ]
  },
  {
   "cell_type": "code",
   "execution_count": 9,
   "id": "local-internship",
   "metadata": {},
   "outputs": [
    {
     "data": {
      "text/html": [
       "<div>\n",
       "<style scoped>\n",
       "    .dataframe tbody tr th:only-of-type {\n",
       "        vertical-align: middle;\n",
       "    }\n",
       "\n",
       "    .dataframe tbody tr th {\n",
       "        vertical-align: top;\n",
       "    }\n",
       "\n",
       "    .dataframe thead th {\n",
       "        text-align: right;\n",
       "    }\n",
       "</style>\n",
       "<table border=\"1\" class=\"dataframe\">\n",
       "  <thead>\n",
       "    <tr style=\"text-align: right;\">\n",
       "      <th></th>\n",
       "      <th>INDEX</th>\n",
       "      <th>INTERACTION</th>\n",
       "      <th>DIFFERENCE</th>\n",
       "      <th>ACTIVE_FREQUENCY</th>\n",
       "      <th>INACTIVE_FREQUENCY</th>\n",
       "    </tr>\n",
       "  </thead>\n",
       "  <tbody>\n",
       "    <tr>\n",
       "      <th>0</th>\n",
       "      <td>1</td>\n",
       "      <td>Salt_Bridge:ARG101B</td>\n",
       "      <td>0.151404</td>\n",
       "      <td>0.079365</td>\n",
       "      <td>0.230769</td>\n",
       "    </tr>\n",
       "    <tr>\n",
       "      <th>1</th>\n",
       "      <td>2</td>\n",
       "      <td>Hydrophobic_Interaction:LYS161B</td>\n",
       "      <td>0.148962</td>\n",
       "      <td>0.158730</td>\n",
       "      <td>0.307692</td>\n",
       "    </tr>\n",
       "    <tr>\n",
       "      <th>2</th>\n",
       "      <td>3</td>\n",
       "      <td>Hydrophobic_Interaction:VAL107B</td>\n",
       "      <td>0.145910</td>\n",
       "      <td>0.507937</td>\n",
       "      <td>0.653846</td>\n",
       "    </tr>\n",
       "    <tr>\n",
       "      <th>3</th>\n",
       "      <td>4</td>\n",
       "      <td>Hydrogen_Bond:GLN141B</td>\n",
       "      <td>0.133089</td>\n",
       "      <td>0.174603</td>\n",
       "      <td>0.307692</td>\n",
       "    </tr>\n",
       "    <tr>\n",
       "      <th>4</th>\n",
       "      <td>5</td>\n",
       "      <td>Hydrogen_Bond:LYS158B</td>\n",
       "      <td>0.126984</td>\n",
       "      <td>0.126984</td>\n",
       "      <td>0.000000</td>\n",
       "    </tr>\n",
       "    <tr>\n",
       "      <th>...</th>\n",
       "      <td>...</td>\n",
       "      <td>...</td>\n",
       "      <td>...</td>\n",
       "      <td>...</td>\n",
       "      <td>...</td>\n",
       "    </tr>\n",
       "    <tr>\n",
       "      <th>106</th>\n",
       "      <td>107</td>\n",
       "      <td>Hydrophobic_Interaction:TYR100B</td>\n",
       "      <td>0.006716</td>\n",
       "      <td>0.031746</td>\n",
       "      <td>0.038462</td>\n",
       "    </tr>\n",
       "    <tr>\n",
       "      <th>107</th>\n",
       "      <td>108</td>\n",
       "      <td>Pi-Cation_Interaction:ARG165B</td>\n",
       "      <td>0.006716</td>\n",
       "      <td>0.031746</td>\n",
       "      <td>0.038462</td>\n",
       "    </tr>\n",
       "    <tr>\n",
       "      <th>108</th>\n",
       "      <td>109</td>\n",
       "      <td>Pi-Stacking:TRP102B</td>\n",
       "      <td>0.006716</td>\n",
       "      <td>0.031746</td>\n",
       "      <td>0.038462</td>\n",
       "    </tr>\n",
       "    <tr>\n",
       "      <th>109</th>\n",
       "      <td>110</td>\n",
       "      <td>Hydrophobic_Interaction:THR137B</td>\n",
       "      <td>0.006716</td>\n",
       "      <td>0.031746</td>\n",
       "      <td>0.038462</td>\n",
       "    </tr>\n",
       "    <tr>\n",
       "      <th>110</th>\n",
       "      <td>111</td>\n",
       "      <td>Hydrophobic_Interaction:GLN168B</td>\n",
       "      <td>0.002442</td>\n",
       "      <td>0.079365</td>\n",
       "      <td>0.076923</td>\n",
       "    </tr>\n",
       "  </tbody>\n",
       "</table>\n",
       "<p>111 rows × 5 columns</p>\n",
       "</div>"
      ],
      "text/plain": [
       "     INDEX                      INTERACTION  DIFFERENCE  ACTIVE_FREQUENCY  \\\n",
       "0        1              Salt_Bridge:ARG101B    0.151404          0.079365   \n",
       "1        2  Hydrophobic_Interaction:LYS161B    0.148962          0.158730   \n",
       "2        3  Hydrophobic_Interaction:VAL107B    0.145910          0.507937   \n",
       "3        4            Hydrogen_Bond:GLN141B    0.133089          0.174603   \n",
       "4        5            Hydrogen_Bond:LYS158B    0.126984          0.126984   \n",
       "..     ...                              ...         ...               ...   \n",
       "106    107  Hydrophobic_Interaction:TYR100B    0.006716          0.031746   \n",
       "107    108    Pi-Cation_Interaction:ARG165B    0.006716          0.031746   \n",
       "108    109              Pi-Stacking:TRP102B    0.006716          0.031746   \n",
       "109    110  Hydrophobic_Interaction:THR137B    0.006716          0.031746   \n",
       "110    111  Hydrophobic_Interaction:GLN168B    0.002442          0.079365   \n",
       "\n",
       "     INACTIVE_FREQUENCY  \n",
       "0              0.230769  \n",
       "1              0.307692  \n",
       "2              0.653846  \n",
       "3              0.307692  \n",
       "4              0.000000  \n",
       "..                  ...  \n",
       "106            0.038462  \n",
       "107            0.038462  \n",
       "108            0.038462  \n",
       "109            0.038462  \n",
       "110            0.076923  \n",
       "\n",
       "[111 rows x 5 columns]"
      ]
     },
     "execution_count": 9,
     "metadata": {},
     "output_type": "execute_result"
    }
   ],
   "source": [
    "features"
   ]
  },
  {
   "cell_type": "markdown",
   "id": "convenient-birth",
   "metadata": {},
   "source": [
    "#### **Extract relevant features:**"
   ]
  },
  {
   "cell_type": "code",
   "execution_count": 10,
   "id": "informative-prediction",
   "metadata": {},
   "outputs": [
    {
     "data": {
      "text/html": [
       "<div>\n",
       "<style scoped>\n",
       "    .dataframe tbody tr th:only-of-type {\n",
       "        vertical-align: middle;\n",
       "    }\n",
       "\n",
       "    .dataframe tbody tr th {\n",
       "        vertical-align: top;\n",
       "    }\n",
       "\n",
       "    .dataframe thead th {\n",
       "        text-align: right;\n",
       "    }\n",
       "</style>\n",
       "<table border=\"1\" class=\"dataframe\">\n",
       "  <thead>\n",
       "    <tr style=\"text-align: right;\">\n",
       "      <th></th>\n",
       "      <th>INDEX</th>\n",
       "      <th>INTERACTION</th>\n",
       "      <th>DIFFERENCE</th>\n",
       "      <th>ACTIVE_FREQUENCY</th>\n",
       "      <th>INACTIVE_FREQUENCY</th>\n",
       "    </tr>\n",
       "  </thead>\n",
       "  <tbody>\n",
       "    <tr>\n",
       "      <th>1</th>\n",
       "      <td>2</td>\n",
       "      <td>Hydrophobic_Interaction:LYS161B</td>\n",
       "      <td>0.148962</td>\n",
       "      <td>0.158730</td>\n",
       "      <td>0.307692</td>\n",
       "    </tr>\n",
       "    <tr>\n",
       "      <th>2</th>\n",
       "      <td>3</td>\n",
       "      <td>Hydrophobic_Interaction:VAL107B</td>\n",
       "      <td>0.145910</td>\n",
       "      <td>0.507937</td>\n",
       "      <td>0.653846</td>\n",
       "    </tr>\n",
       "    <tr>\n",
       "      <th>3</th>\n",
       "      <td>4</td>\n",
       "      <td>Hydrogen_Bond:GLN141B</td>\n",
       "      <td>0.133089</td>\n",
       "      <td>0.174603</td>\n",
       "      <td>0.307692</td>\n",
       "    </tr>\n",
       "    <tr>\n",
       "      <th>6</th>\n",
       "      <td>7</td>\n",
       "      <td>Hydrogen_Bond:THR137B</td>\n",
       "      <td>0.121490</td>\n",
       "      <td>0.301587</td>\n",
       "      <td>0.423077</td>\n",
       "    </tr>\n",
       "    <tr>\n",
       "      <th>8</th>\n",
       "      <td>9</td>\n",
       "      <td>Hydrogen_Bond:ASP162B</td>\n",
       "      <td>0.109280</td>\n",
       "      <td>0.301587</td>\n",
       "      <td>0.192308</td>\n",
       "    </tr>\n",
       "    <tr>\n",
       "      <th>10</th>\n",
       "      <td>11</td>\n",
       "      <td>Hydrophobic_Interaction:ARG138B</td>\n",
       "      <td>0.103785</td>\n",
       "      <td>0.126984</td>\n",
       "      <td>0.230769</td>\n",
       "    </tr>\n",
       "    <tr>\n",
       "      <th>14</th>\n",
       "      <td>15</td>\n",
       "      <td>Hydrogen_Bond:ASP166B</td>\n",
       "      <td>0.092186</td>\n",
       "      <td>0.253968</td>\n",
       "      <td>0.346154</td>\n",
       "    </tr>\n",
       "    <tr>\n",
       "      <th>22</th>\n",
       "      <td>23</td>\n",
       "      <td>Hydrophobic_Interaction:ARG165B</td>\n",
       "      <td>0.064713</td>\n",
       "      <td>0.603175</td>\n",
       "      <td>0.538462</td>\n",
       "    </tr>\n",
       "    <tr>\n",
       "      <th>23</th>\n",
       "      <td>24</td>\n",
       "      <td>Hydrogen_Bond:ARG165B</td>\n",
       "      <td>0.064103</td>\n",
       "      <td>0.333333</td>\n",
       "      <td>0.269231</td>\n",
       "    </tr>\n",
       "    <tr>\n",
       "      <th>25</th>\n",
       "      <td>26</td>\n",
       "      <td>Hydrogen_Bond:ARG101B</td>\n",
       "      <td>0.059829</td>\n",
       "      <td>0.555556</td>\n",
       "      <td>0.615385</td>\n",
       "    </tr>\n",
       "    <tr>\n",
       "      <th>26</th>\n",
       "      <td>27</td>\n",
       "      <td>Hydrophobic_Interaction:TYR142B</td>\n",
       "      <td>0.051282</td>\n",
       "      <td>0.333333</td>\n",
       "      <td>0.384615</td>\n",
       "    </tr>\n",
       "    <tr>\n",
       "      <th>27</th>\n",
       "      <td>28</td>\n",
       "      <td>Hydrogen_Bond:ARG138B</td>\n",
       "      <td>0.050672</td>\n",
       "      <td>0.396825</td>\n",
       "      <td>0.346154</td>\n",
       "    </tr>\n",
       "  </tbody>\n",
       "</table>\n",
       "</div>"
      ],
      "text/plain": [
       "    INDEX                      INTERACTION  DIFFERENCE  ACTIVE_FREQUENCY  \\\n",
       "1       2  Hydrophobic_Interaction:LYS161B    0.148962          0.158730   \n",
       "2       3  Hydrophobic_Interaction:VAL107B    0.145910          0.507937   \n",
       "3       4            Hydrogen_Bond:GLN141B    0.133089          0.174603   \n",
       "6       7            Hydrogen_Bond:THR137B    0.121490          0.301587   \n",
       "8       9            Hydrogen_Bond:ASP162B    0.109280          0.301587   \n",
       "10     11  Hydrophobic_Interaction:ARG138B    0.103785          0.126984   \n",
       "14     15            Hydrogen_Bond:ASP166B    0.092186          0.253968   \n",
       "22     23  Hydrophobic_Interaction:ARG165B    0.064713          0.603175   \n",
       "23     24            Hydrogen_Bond:ARG165B    0.064103          0.333333   \n",
       "25     26            Hydrogen_Bond:ARG101B    0.059829          0.555556   \n",
       "26     27  Hydrophobic_Interaction:TYR142B    0.051282          0.333333   \n",
       "27     28            Hydrogen_Bond:ARG138B    0.050672          0.396825   \n",
       "\n",
       "    INACTIVE_FREQUENCY  \n",
       "1             0.307692  \n",
       "2             0.653846  \n",
       "3             0.307692  \n",
       "6             0.423077  \n",
       "8             0.192308  \n",
       "10            0.230769  \n",
       "14            0.346154  \n",
       "22            0.538462  \n",
       "23            0.269231  \n",
       "25            0.615385  \n",
       "26            0.384615  \n",
       "27            0.346154  "
      ]
     },
     "execution_count": 10,
     "metadata": {},
     "output_type": "execute_result"
    }
   ],
   "source": [
    "features_filtered = get_relevant_features(features)\n",
    "features_filtered"
   ]
  },
  {
   "cell_type": "code",
   "execution_count": 11,
   "id": "minus-blind",
   "metadata": {},
   "outputs": [],
   "source": [
    "# some error checking -- should print nothing\n",
    "for item in features_filtered[\"INTERACTION\"].to_list():\n",
    "    if item not in data_train.columns.to_list():\n",
    "        print(item)"
   ]
  },
  {
   "cell_type": "markdown",
   "id": "norwegian-kidney",
   "metadata": {},
   "source": [
    "#### **Get positive features (e.g. features that have a positive impact on activeness) and negative features:**"
   ]
  },
  {
   "cell_type": "code",
   "execution_count": 12,
   "id": "prime-sally",
   "metadata": {},
   "outputs": [],
   "source": [
    "positives, negatives = get_feature_impact(features_filtered)"
   ]
  },
  {
   "cell_type": "code",
   "execution_count": 13,
   "id": "pursuant-immigration",
   "metadata": {},
   "outputs": [
    {
     "data": {
      "text/plain": [
       "['Hydrogen_Bond:ASP162B',\n",
       " 'Hydrophobic_Interaction:ARG165B',\n",
       " 'Hydrogen_Bond:ARG165B',\n",
       " 'Hydrogen_Bond:ARG138B']"
      ]
     },
     "execution_count": 13,
     "metadata": {},
     "output_type": "execute_result"
    }
   ],
   "source": [
    "positives"
   ]
  },
  {
   "cell_type": "code",
   "execution_count": 14,
   "id": "certain-turkey",
   "metadata": {},
   "outputs": [
    {
     "data": {
      "text/plain": [
       "['Hydrophobic_Interaction:LYS161B',\n",
       " 'Hydrophobic_Interaction:VAL107B',\n",
       " 'Hydrogen_Bond:GLN141B',\n",
       " 'Hydrogen_Bond:THR137B',\n",
       " 'Hydrophobic_Interaction:ARG138B',\n",
       " 'Hydrogen_Bond:ASP166B',\n",
       " 'Hydrogen_Bond:ARG101B',\n",
       " 'Hydrophobic_Interaction:TYR142B']"
      ]
     },
     "execution_count": 14,
     "metadata": {},
     "output_type": "execute_result"
    }
   ],
   "source": [
    "negatives"
   ]
  },
  {
   "cell_type": "markdown",
   "id": "relevant-preference",
   "metadata": {},
   "source": [
    "#### **Score Compounds with different strategies & save results:**"
   ]
  },
  {
   "cell_type": "code",
   "execution_count": 15,
   "id": "measured-depth",
   "metadata": {},
   "outputs": [],
   "source": [
    "# make data copies\n",
    "train_result_strat1 = data_train.copy()\n",
    "train_result_strat2 = data_train.copy()\n",
    "train_result_strat3 = data_train.copy()\n",
    "train_result_strat4 = data_train.copy()\n",
    "# calculate scores\n",
    "train_result_strat1[\"SCORE\"] = train_result_strat1.apply(lambda x: score(x, positives, negatives, \"+\"), axis = 1)\n",
    "train_result_strat2[\"SCORE\"] = train_result_strat2.apply(lambda x: score(x, positives, negatives, \"++\"), axis = 1)\n",
    "train_result_strat3[\"SCORE\"] = train_result_strat3.apply(lambda x: score(x, positives, negatives, \"+-\"), axis = 1)\n",
    "train_result_strat4[\"SCORE\"] = train_result_strat4.apply(lambda x: score(x, positives, negatives, \"++--\"), axis = 1)\n",
    "# sort data\n",
    "train_result_strat1_sorted = train_result_strat1.sort_values(by = \"SCORE\", ascending = False)\n",
    "train_result_strat2_sorted = train_result_strat2.sort_values(by = \"SCORE\", ascending = False)\n",
    "train_result_strat3_sorted = train_result_strat3.sort_values(by = \"SCORE\", ascending = False)\n",
    "train_result_strat4_sorted = train_result_strat4.sort_values(by = \"SCORE\", ascending = False)\n",
    "# save data\n",
    "# train_result_strat1_sorted.to_csv(\"train_scores1.csv\")\n",
    "# train_result_strat2_sorted.to_csv(\"train_scores2.csv\")\n",
    "# train_result_strat3_sorted.to_csv(\"train_scores3.csv\")\n",
    "# train_result_strat4_sorted.to_csv(\"train_scores4.csv\")"
   ]
  },
  {
   "cell_type": "markdown",
   "id": "grand-civilization",
   "metadata": {},
   "source": [
    "#### **Find best cutoff value and print metrics:**"
   ]
  },
  {
   "cell_type": "markdown",
   "id": "hundred-headquarters",
   "metadata": {},
   "source": [
    "*cutoff/accuracy for different strategies:*"
   ]
  },
  {
   "cell_type": "code",
   "execution_count": 16,
   "id": "photographic-mason",
   "metadata": {},
   "outputs": [
    {
     "name": "stdout",
     "output_type": "stream",
     "text": [
      "Strategy 1:  [0, 0.7078651685393258] \n",
      "Strategy 2:  [0, 0.7078651685393258] \n",
      "Strategy 3:  [-3, 0.7078651685393258] \n",
      "Strategy 4:  [-3, 0.7415730337078652]\n"
     ]
    }
   ],
   "source": [
    "print(\n",
    "\"Strategy 1: \",\n",
    "get_cutoff(train_result_strat1[\"LABEL\"].to_list(), train_result_strat1[\"SCORE\"].to_list()),\n",
    "\"\\nStrategy 2: \",\n",
    "get_cutoff(train_result_strat2[\"LABEL\"].to_list(), train_result_strat2[\"SCORE\"].to_list()),\n",
    "\"\\nStrategy 3: \",\n",
    "get_cutoff(train_result_strat3[\"LABEL\"].to_list(), train_result_strat3[\"SCORE\"].to_list()),\n",
    "\"\\nStrategy 4: \",\n",
    "get_cutoff(train_result_strat4[\"LABEL\"].to_list(), train_result_strat4[\"SCORE\"].to_list())\n",
    ")"
   ]
  },
  {
   "cell_type": "markdown",
   "id": "printable-aruba",
   "metadata": {},
   "source": [
    "*accuracy for best cutoff:*"
   ]
  },
  {
   "cell_type": "code",
   "execution_count": 17,
   "id": "sized-dakota",
   "metadata": {},
   "outputs": [
    {
     "name": "stdout",
     "output_type": "stream",
     "text": [
      "Strategy 1:  0.7078651685393258 \n",
      "Strategy 2:  0.7078651685393258 \n",
      "Strategy 3:  0.7078651685393258 \n",
      "Strategy 4:  0.7415730337078652\n"
     ]
    }
   ],
   "source": [
    "print(\n",
    "\"Strategy 1: \",\n",
    "test_cutoff(train_result_strat1[\"LABEL\"].to_list(), train_result_strat1[\"SCORE\"].to_list(), 0, \"accuracy\"),\n",
    "\"\\nStrategy 2: \",\n",
    "test_cutoff(train_result_strat2[\"LABEL\"].to_list(), train_result_strat2[\"SCORE\"].to_list(), 0, \"accuracy\"),\n",
    "\"\\nStrategy 3: \",\n",
    "test_cutoff(train_result_strat3[\"LABEL\"].to_list(), train_result_strat3[\"SCORE\"].to_list(), -3, \"accuracy\"),\n",
    "\"\\nStrategy 4: \",\n",
    "test_cutoff(train_result_strat4[\"LABEL\"].to_list(), train_result_strat4[\"SCORE\"].to_list(), -3, \"accuracy\")\n",
    ")"
   ]
  },
  {
   "cell_type": "markdown",
   "id": "binding-convergence",
   "metadata": {},
   "source": [
    "*false positive rate for best cutoff:*"
   ]
  },
  {
   "cell_type": "code",
   "execution_count": 18,
   "id": "italic-detroit",
   "metadata": {},
   "outputs": [
    {
     "name": "stdout",
     "output_type": "stream",
     "text": [
      "Strategy 1:  1.0 \n",
      "Strategy 2:  1.0 \n",
      "Strategy 3:  0.9615384615384616 \n",
      "Strategy 4:  0.8076923076923077\n"
     ]
    }
   ],
   "source": [
    "print(\n",
    "\"Strategy 1: \",\n",
    "test_cutoff(train_result_strat1[\"LABEL\"].to_list(), train_result_strat1[\"SCORE\"].to_list(), 0, \"fpr\"),\n",
    "\"\\nStrategy 2: \",\n",
    "test_cutoff(train_result_strat2[\"LABEL\"].to_list(), train_result_strat2[\"SCORE\"].to_list(), 0, \"fpr\"),\n",
    "\"\\nStrategy 3: \",\n",
    "test_cutoff(train_result_strat3[\"LABEL\"].to_list(), train_result_strat3[\"SCORE\"].to_list(), -3, \"fpr\"),\n",
    "\"\\nStrategy 4: \",\n",
    "test_cutoff(train_result_strat4[\"LABEL\"].to_list(), train_result_strat4[\"SCORE\"].to_list(), -3, \"fpr\")\n",
    ")"
   ]
  },
  {
   "cell_type": "markdown",
   "id": "circular-separation",
   "metadata": {},
   "source": [
    "#### **Calculate validation and test results:**"
   ]
  },
  {
   "cell_type": "code",
   "execution_count": 19,
   "id": "worthy-tragedy",
   "metadata": {},
   "outputs": [],
   "source": [
    "# make data copies\n",
    "val_result_strat1 = data_val.copy()\n",
    "val_result_strat2 = data_val.copy()\n",
    "val_result_strat3 = data_val.copy()\n",
    "val_result_strat4 = data_val.copy()\n",
    "# calculate scores\n",
    "val_result_strat1[\"SCORE\"] = val_result_strat1.apply(lambda x: score(x, positives, negatives, \"+\"), axis = 1)\n",
    "val_result_strat2[\"SCORE\"] = val_result_strat2.apply(lambda x: score(x, positives, negatives, \"++\"), axis = 1)\n",
    "val_result_strat3[\"SCORE\"] = val_result_strat3.apply(lambda x: score(x, positives, negatives, \"+-\"), axis = 1)\n",
    "val_result_strat4[\"SCORE\"] = val_result_strat4.apply(lambda x: score(x, positives, negatives, \"++--\"), axis = 1)\n",
    "# sort data\n",
    "val_result_strat1_sorted = val_result_strat1.sort_values(by = \"SCORE\", ascending = False)\n",
    "val_result_strat2_sorted = val_result_strat2.sort_values(by = \"SCORE\", ascending = False)\n",
    "val_result_strat3_sorted = val_result_strat3.sort_values(by = \"SCORE\", ascending = False)\n",
    "val_result_strat4_sorted = val_result_strat4.sort_values(by = \"SCORE\", ascending = False)"
   ]
  },
  {
   "cell_type": "code",
   "execution_count": 20,
   "id": "sustained-trunk",
   "metadata": {},
   "outputs": [],
   "source": [
    "# make data copies\n",
    "test_result_strat1 = data_test.copy()\n",
    "test_result_strat2 = data_test.copy()\n",
    "test_result_strat3 = data_test.copy()\n",
    "test_result_strat4 = data_test.copy()\n",
    "# calculate scores\n",
    "test_result_strat1[\"SCORE\"] = test_result_strat1.apply(lambda x: score(x, positives, negatives, \"+\"), axis = 1)\n",
    "test_result_strat2[\"SCORE\"] = test_result_strat2.apply(lambda x: score(x, positives, negatives, \"++\"), axis = 1)\n",
    "test_result_strat3[\"SCORE\"] = test_result_strat3.apply(lambda x: score(x, positives, negatives, \"+-\"), axis = 1)\n",
    "test_result_strat4[\"SCORE\"] = test_result_strat4.apply(lambda x: score(x, positives, negatives, \"++--\"), axis = 1)\n",
    "# sort data\n",
    "test_result_strat1_sorted = test_result_strat1.sort_values(by = \"SCORE\", ascending = False)\n",
    "test_result_strat2_sorted = test_result_strat2.sort_values(by = \"SCORE\", ascending = False)\n",
    "test_result_strat3_sorted = test_result_strat3.sort_values(by = \"SCORE\", ascending = False)\n",
    "test_result_strat4_sorted = test_result_strat4.sort_values(by = \"SCORE\", ascending = False)"
   ]
  },
  {
   "cell_type": "markdown",
   "id": "experienced-applicant",
   "metadata": {},
   "source": [
    "#### **Quality metrics for training and validation data:**"
   ]
  },
  {
   "cell_type": "markdown",
   "id": "surgical-spain",
   "metadata": {},
   "source": [
    "*training data:*"
   ]
  },
  {
   "cell_type": "code",
   "execution_count": 21,
   "id": "lightweight-dutch",
   "metadata": {},
   "outputs": [
    {
     "name": "stdout",
     "output_type": "stream",
     "text": [
      "Strategy 1:  {'ACC': 0.7078651685393258, 'FPR': 1.0, 'AUC': 0.5421245421245421, 'Ya': 0.7078651685393258, 'EF': 1.0, 'REF': 100.0} \n",
      "Strategy 2:  {'ACC': 0.7078651685393258, 'FPR': 1.0, 'AUC': 0.5833333333333334, 'Ya': 0.7078651685393258, 'EF': 1.0, 'REF': 100.0} \n",
      "Strategy 3:  {'ACC': 0.7078651685393258, 'FPR': 0.9615384615384616, 'AUC': 0.6639194139194139, 'Ya': 0.7126436781609196, 'EF': 1.0067505929574896, 'REF': 98.41269841269842} \n",
      "Strategy 4:  {'ACC': 0.7415730337078652, 'FPR': 0.8076923076923077, 'AUC': 0.6916971916971918, 'Ya': 0.7439024390243902, 'EF': 1.050909794812234, 'REF': 96.82539682539682}\n"
     ]
    }
   ],
   "source": [
    "print(\n",
    "\"Strategy 1: \",\n",
    "get_metrics(train_result_strat1, 0, pretty_print = True),\n",
    "\"\\nStrategy 2: \",\n",
    "get_metrics(train_result_strat2, 0, pretty_print = True),\n",
    "\"\\nStrategy 3: \",\n",
    "get_metrics(train_result_strat3, -3, pretty_print = True),\n",
    "\"\\nStrategy 4: \",\n",
    "get_metrics(train_result_strat4, -3, pretty_print = True)\n",
    ")"
   ]
  },
  {
   "cell_type": "code",
   "execution_count": 22,
   "id": "powered-grenada",
   "metadata": {},
   "outputs": [
    {
     "data": {
      "image/png": "[encoded data removed]",
      "text/plain": [
       "<Figure size 720x720 with 2 Axes>"
      ]
     },
     "metadata": {
      "needs_background": "light"
     },
     "output_type": "display_data"
    }
   ],
   "source": [
    "plot_confusion_matrix(get_metrics(train_result_strat4, -3)[\"CM\"], classes = [0, 1], filename = \"results/CM_train_strat4.png\");"
   ]
  },
  {
   "cell_type": "code",
   "execution_count": 23,
   "id": "occupational-player",
   "metadata": {},
   "outputs": [
    {
     "data": {
      "image/png": "[encoded data removed]",
      "text/plain": [
       "<Figure size 720x720 with 1 Axes>"
      ]
     },
     "metadata": {
      "needs_background": "light"
     },
     "output_type": "display_data"
    }
   ],
   "source": [
    "roc = get_metrics(train_result_strat4, -3)[\"ROC\"]\n",
    "plot_ROC_curve(roc[\"fpr\"], roc[\"tpr\"], filename = \"results/ROC_train_strat4.png\");"
   ]
  },
  {
   "cell_type": "markdown",
   "id": "whole-secret",
   "metadata": {},
   "source": [
    "*validation data:*"
   ]
  },
  {
   "cell_type": "code",
   "execution_count": 24,
   "id": "chubby-navigation",
   "metadata": {},
   "outputs": [
    {
     "name": "stdout",
     "output_type": "stream",
     "text": [
      "Strategy 1:  {'ACC': 0.6521739130434783, 'FPR': 1.0, 'AUC': 0.48333333333333334, 'Ya': 0.6521739130434783, 'EF': 1.0, 'REF': 100.0} \n",
      "Strategy 2:  {'ACC': 0.6521739130434783, 'FPR': 1.0, 'AUC': 0.5041666666666667, 'Ya': 0.6521739130434783, 'EF': 1.0, 'REF': 100.0} \n",
      "Strategy 3:  {'ACC': 0.6086956521739131, 'FPR': 1.0, 'AUC': 0.6375, 'Ya': 0.6363636363636364, 'EF': 0.9757575757575757, 'REF': 93.33333333333333} \n",
      "Strategy 4:  {'ACC': 0.6086956521739131, 'FPR': 1.0, 'AUC': 0.5958333333333333, 'Ya': 0.6363636363636364, 'EF': 0.9757575757575757, 'REF': 93.33333333333333}\n"
     ]
    }
   ],
   "source": [
    "print(\n",
    "\"Strategy 1: \",\n",
    "get_metrics(val_result_strat1, 0, pretty_print = True),\n",
    "\"\\nStrategy 2: \",\n",
    "get_metrics(val_result_strat2, 0, pretty_print = True),\n",
    "\"\\nStrategy 3: \",\n",
    "get_metrics(val_result_strat3, -3, pretty_print = True),\n",
    "\"\\nStrategy 4: \",\n",
    "get_metrics(val_result_strat4, -3, pretty_print = True)\n",
    ")"
   ]
  },
  {
   "cell_type": "code",
   "execution_count": 25,
   "id": "likely-correction",
   "metadata": {},
   "outputs": [
    {
     "data": {
      "image/png": "[encoded data removed]",
      "text/plain": [
       "<Figure size 720x720 with 2 Axes>"
      ]
     },
     "metadata": {
      "needs_background": "light"
     },
     "output_type": "display_data"
    }
   ],
   "source": [
    "plot_confusion_matrix(get_metrics(val_result_strat4, -3)[\"CM\"], classes = [0, 1], filename = \"results/CM_val_strat4.png\");"
   ]
  },
  {
   "cell_type": "code",
   "execution_count": 26,
   "id": "flexible-jason",
   "metadata": {},
   "outputs": [
    {
     "data": {
      "image/png": "[encoded data removed]",
      "text/plain": [
       "<Figure size 720x720 with 1 Axes>"
      ]
     },
     "metadata": {
      "needs_background": "light"
     },
     "output_type": "display_data"
    }
   ],
   "source": [
    "roc = get_metrics(val_result_strat4, -3)[\"ROC\"]\n",
    "plot_ROC_curve(roc[\"fpr\"], roc[\"tpr\"], filename = \"results/ROC_val_strat4.png\");"
   ]
  },
  {
   "cell_type": "markdown",
   "id": "intermediate-flexibility",
   "metadata": {},
   "source": [
    "*test data:*"
   ]
  },
  {
   "cell_type": "code",
   "execution_count": 27,
   "id": "foster-copper",
   "metadata": {},
   "outputs": [
    {
     "name": "stdout",
     "output_type": "stream",
     "text": [
      "Strategy 1:  {'ACC': 0.6551724137931034, 'FPR': 1.0, 'AUC': 0.5631578947368421, 'Ya': 0.6551724137931034, 'EF': 1.0, 'REF': 100.0} \n",
      "Strategy 2:  {'ACC': 0.6551724137931034, 'FPR': 1.0, 'AUC': 0.5684210526315789, 'Ya': 0.6551724137931034, 'EF': 1.0, 'REF': 100.0} \n",
      "Strategy 3:  {'ACC': 0.6206896551724138, 'FPR': 1.0, 'AUC': 0.5473684210526315, 'Ya': 0.6428571428571429, 'EF': 0.9812030075187971, 'REF': 94.73684210526316} \n",
      "Strategy 4:  {'ACC': 0.6206896551724138, 'FPR': 1.0, 'AUC': 0.5421052631578946, 'Ya': 0.6428571428571429, 'EF': 0.9812030075187971, 'REF': 94.73684210526316}\n"
     ]
    }
   ],
   "source": [
    "print(\n",
    "\"Strategy 1: \",\n",
    "get_metrics(test_result_strat1, 0, pretty_print = True),\n",
    "\"\\nStrategy 2: \",\n",
    "get_metrics(test_result_strat2, 0, pretty_print = True),\n",
    "\"\\nStrategy 3: \",\n",
    "get_metrics(test_result_strat3, -3, pretty_print = True),\n",
    "\"\\nStrategy 4: \",\n",
    "get_metrics(test_result_strat4, -3, pretty_print = True)\n",
    ")"
   ]
  },
  {
   "cell_type": "code",
   "execution_count": 28,
   "id": "cooperative-dinner",
   "metadata": {},
   "outputs": [
    {
     "data": {
      "image/png": "[encoded data removed]",
      "text/plain": [
       "<Figure size 720x720 with 2 Axes>"
      ]
     },
     "metadata": {
      "needs_background": "light"
     },
     "output_type": "display_data"
    }
   ],
   "source": [
    "plot_confusion_matrix(get_metrics(test_result_strat4, -3)[\"CM\"], classes = [0, 1], filename = \"results/CM_test_strat4.png\");"
   ]
  },
  {
   "cell_type": "code",
   "execution_count": 29,
   "id": "confirmed-guinea",
   "metadata": {},
   "outputs": [
    {
     "data": {
      "image/png": "[encoded data removed]",
      "text/plain": [
       "<Figure size 720x720 with 1 Axes>"
      ]
     },
     "metadata": {
      "needs_background": "light"
     },
     "output_type": "display_data"
    }
   ],
   "source": [
    "roc = get_metrics(test_result_strat4, -3)[\"ROC\"]\n",
    "plot_ROC_curve(roc[\"fpr\"], roc[\"tpr\"], filename = \"results/ROC_test_strat4.png\");"
   ]
  },
  {
   "cell_type": "markdown",
   "id": "associate-magnet",
   "metadata": {},
   "source": [
    "#### **Clean up:**"
   ]
  },
  {
   "cell_type": "code",
   "execution_count": 30,
   "id": "unlimited-apartment",
   "metadata": {},
   "outputs": [],
   "source": [
    "os.remove(\"scoring.py\")"
   ]
  },
  {
   "cell_type": "code",
   "execution_count": null,
   "id": "stainless-performance",
   "metadata": {},
   "outputs": [],
   "source": []
  }
 ],
 "metadata": {
  "kernelspec": {
   "display_name": "Python 3",
   "language": "python",
   "name": "python3"
  },
  "language_info": {
   "codemirror_mode": {
    "name": "ipython",
    "version": 3
   },
   "file_extension": ".py",
   "mimetype": "text/x-python",
   "name": "python",
   "nbconvert_exporter": "python",
   "pygments_lexer": "ipython3",
   "version": "3.8.8"
  }
 },
 "nbformat": 4,
 "nbformat_minor": 5
}
