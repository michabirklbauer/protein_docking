{
 "cells": [
  {
   "cell_type": "markdown",
   "id": "continuous-convert",
   "metadata": {},
   "source": [
    "## **SCORING - Vitamin E: Workflow 5 (No Optimization)**\n",
    "#### **Micha Birklbauer 2021-08-11**"
   ]
  },
  {
   "cell_type": "code",
   "execution_count": 1,
   "id": "acknowledged-illinois",
   "metadata": {},
   "outputs": [
    {
     "data": {
      "text/plain": [
       "'scoring.py'"
      ]
     },
     "execution_count": 1,
     "metadata": {},
     "output_type": "execute_result"
    }
   ],
   "source": [
    "import os\n",
    "from shutil import copyfile\n",
    "from itertools import islice\n",
    "copyfile(\"../../../scripts/python/scoring.py\", \"scoring.py\")"
   ]
  },
  {
   "cell_type": "code",
   "execution_count": 2,
   "id": "stock-motivation",
   "metadata": {},
   "outputs": [],
   "source": [
    "import pandas as pd\n",
    "from scoring import *"
   ]
  },
  {
   "cell_type": "markdown",
   "id": "registered-singing",
   "metadata": {},
   "source": [
    "#### **Load data:**"
   ]
  },
  {
   "cell_type": "code",
   "execution_count": 3,
   "id": "vocational-johns",
   "metadata": {},
   "outputs": [],
   "source": [
    "data_train = pd.read_csv(\"data_train.csv\")\n",
    "data_val = pd.read_csv(\"data_val.csv\")\n",
    "data_test = pd.read_csv(\"data_test.csv\")\n",
    "features = pd.read_csv(\"features.csv\")"
   ]
  },
  {
   "cell_type": "code",
   "execution_count": 4,
   "id": "swedish-butter",
   "metadata": {},
   "outputs": [],
   "source": [
    "# data_train.info()"
   ]
  },
  {
   "cell_type": "code",
   "execution_count": 5,
   "id": "charged-watts",
   "metadata": {},
   "outputs": [
    {
     "data": {
      "text/html": [
       "<div>\n",
       "<style scoped>\n",
       "    .dataframe tbody tr th:only-of-type {\n",
       "        vertical-align: middle;\n",
       "    }\n",
       "\n",
       "    .dataframe tbody tr th {\n",
       "        vertical-align: top;\n",
       "    }\n",
       "\n",
       "    .dataframe thead th {\n",
       "        text-align: right;\n",
       "    }\n",
       "</style>\n",
       "<table border=\"1\" class=\"dataframe\">\n",
       "  <thead>\n",
       "    <tr style=\"text-align: right;\">\n",
       "      <th></th>\n",
       "      <th>INDEX</th>\n",
       "      <th>NAME</th>\n",
       "      <th>Hydrogen_Bond:ASP162B</th>\n",
       "      <th>Hydrophobic_Interaction:TYR142B</th>\n",
       "      <th>Pi-Cation_Interaction:LYS140B</th>\n",
       "      <th>Hydrophobic_Interaction:TYR383B</th>\n",
       "      <th>Salt_Bridge:LYS140B</th>\n",
       "      <th>Hydrophobic_Interaction:GLN168B</th>\n",
       "      <th>Hydrogen_Bond:TYR142B</th>\n",
       "      <th>Hydrophobic_Interaction:ARG138B</th>\n",
       "      <th>...</th>\n",
       "      <th>Hydrophobic_Interaction:ASP166B</th>\n",
       "      <th>Hydrophobic_Interaction:ALA157B</th>\n",
       "      <th>Hydrogen_Bond:ASP79B</th>\n",
       "      <th>Hydrogen_Bond:ASP106B</th>\n",
       "      <th>Pi-Cation_Interaction:ARG143B</th>\n",
       "      <th>Hydrophobic_Interaction:GLU134B</th>\n",
       "      <th>Salt_Bridge:LYS161B</th>\n",
       "      <th>Hydrophobic_Interaction:GLU172B</th>\n",
       "      <th>Salt_Bridge:ARG143B</th>\n",
       "      <th>LABEL</th>\n",
       "    </tr>\n",
       "  </thead>\n",
       "  <tbody>\n",
       "    <tr>\n",
       "      <th>0</th>\n",
       "      <td>1</td>\n",
       "      <td>28|VitaminE_allmin_active|sdf|28</td>\n",
       "      <td>0</td>\n",
       "      <td>1</td>\n",
       "      <td>0</td>\n",
       "      <td>0</td>\n",
       "      <td>0</td>\n",
       "      <td>0</td>\n",
       "      <td>0</td>\n",
       "      <td>1</td>\n",
       "      <td>...</td>\n",
       "      <td>0</td>\n",
       "      <td>0</td>\n",
       "      <td>0</td>\n",
       "      <td>0</td>\n",
       "      <td>0</td>\n",
       "      <td>0</td>\n",
       "      <td>0</td>\n",
       "      <td>0</td>\n",
       "      <td>0</td>\n",
       "      <td>active</td>\n",
       "    </tr>\n",
       "    <tr>\n",
       "      <th>1</th>\n",
       "      <td>2</td>\n",
       "      <td>36|VitaminE_allmin_active|sdf|36</td>\n",
       "      <td>0</td>\n",
       "      <td>0</td>\n",
       "      <td>0</td>\n",
       "      <td>0</td>\n",
       "      <td>0</td>\n",
       "      <td>0</td>\n",
       "      <td>0</td>\n",
       "      <td>0</td>\n",
       "      <td>...</td>\n",
       "      <td>0</td>\n",
       "      <td>0</td>\n",
       "      <td>0</td>\n",
       "      <td>1</td>\n",
       "      <td>0</td>\n",
       "      <td>0</td>\n",
       "      <td>0</td>\n",
       "      <td>0</td>\n",
       "      <td>0</td>\n",
       "      <td>active</td>\n",
       "    </tr>\n",
       "    <tr>\n",
       "      <th>2</th>\n",
       "      <td>3</td>\n",
       "      <td>31|VitaminE_allmin_active|sdf|31</td>\n",
       "      <td>1</td>\n",
       "      <td>0</td>\n",
       "      <td>0</td>\n",
       "      <td>0</td>\n",
       "      <td>0</td>\n",
       "      <td>0</td>\n",
       "      <td>0</td>\n",
       "      <td>0</td>\n",
       "      <td>...</td>\n",
       "      <td>0</td>\n",
       "      <td>0</td>\n",
       "      <td>0</td>\n",
       "      <td>1</td>\n",
       "      <td>0</td>\n",
       "      <td>0</td>\n",
       "      <td>0</td>\n",
       "      <td>0</td>\n",
       "      <td>0</td>\n",
       "      <td>active</td>\n",
       "    </tr>\n",
       "    <tr>\n",
       "      <th>3</th>\n",
       "      <td>4</td>\n",
       "      <td>37|VitaminE_allmin_active|sdf|37</td>\n",
       "      <td>2</td>\n",
       "      <td>0</td>\n",
       "      <td>0</td>\n",
       "      <td>0</td>\n",
       "      <td>0</td>\n",
       "      <td>0</td>\n",
       "      <td>0</td>\n",
       "      <td>0</td>\n",
       "      <td>...</td>\n",
       "      <td>0</td>\n",
       "      <td>0</td>\n",
       "      <td>0</td>\n",
       "      <td>0</td>\n",
       "      <td>0</td>\n",
       "      <td>0</td>\n",
       "      <td>0</td>\n",
       "      <td>0</td>\n",
       "      <td>0</td>\n",
       "      <td>active</td>\n",
       "    </tr>\n",
       "    <tr>\n",
       "      <th>4</th>\n",
       "      <td>5</td>\n",
       "      <td>124|VitaminE_allmin_active|sdf|124</td>\n",
       "      <td>0</td>\n",
       "      <td>1</td>\n",
       "      <td>0</td>\n",
       "      <td>0</td>\n",
       "      <td>0</td>\n",
       "      <td>0</td>\n",
       "      <td>0</td>\n",
       "      <td>0</td>\n",
       "      <td>...</td>\n",
       "      <td>0</td>\n",
       "      <td>0</td>\n",
       "      <td>0</td>\n",
       "      <td>0</td>\n",
       "      <td>0</td>\n",
       "      <td>0</td>\n",
       "      <td>0</td>\n",
       "      <td>0</td>\n",
       "      <td>0</td>\n",
       "      <td>active</td>\n",
       "    </tr>\n",
       "    <tr>\n",
       "      <th>...</th>\n",
       "      <td>...</td>\n",
       "      <td>...</td>\n",
       "      <td>...</td>\n",
       "      <td>...</td>\n",
       "      <td>...</td>\n",
       "      <td>...</td>\n",
       "      <td>...</td>\n",
       "      <td>...</td>\n",
       "      <td>...</td>\n",
       "      <td>...</td>\n",
       "      <td>...</td>\n",
       "      <td>...</td>\n",
       "      <td>...</td>\n",
       "      <td>...</td>\n",
       "      <td>...</td>\n",
       "      <td>...</td>\n",
       "      <td>...</td>\n",
       "      <td>...</td>\n",
       "      <td>...</td>\n",
       "      <td>...</td>\n",
       "      <td>...</td>\n",
       "    </tr>\n",
       "    <tr>\n",
       "      <th>84</th>\n",
       "      <td>85</td>\n",
       "      <td>103|VitaminE_allmin_active|sdf|103</td>\n",
       "      <td>0</td>\n",
       "      <td>0</td>\n",
       "      <td>0</td>\n",
       "      <td>0</td>\n",
       "      <td>0</td>\n",
       "      <td>0</td>\n",
       "      <td>0</td>\n",
       "      <td>0</td>\n",
       "      <td>...</td>\n",
       "      <td>0</td>\n",
       "      <td>0</td>\n",
       "      <td>0</td>\n",
       "      <td>0</td>\n",
       "      <td>0</td>\n",
       "      <td>0</td>\n",
       "      <td>0</td>\n",
       "      <td>0</td>\n",
       "      <td>0</td>\n",
       "      <td>active</td>\n",
       "    </tr>\n",
       "    <tr>\n",
       "      <th>85</th>\n",
       "      <td>86</td>\n",
       "      <td>8|VitaminE_allmin_active|sdf|8</td>\n",
       "      <td>0</td>\n",
       "      <td>0</td>\n",
       "      <td>0</td>\n",
       "      <td>0</td>\n",
       "      <td>0</td>\n",
       "      <td>0</td>\n",
       "      <td>0</td>\n",
       "      <td>0</td>\n",
       "      <td>...</td>\n",
       "      <td>0</td>\n",
       "      <td>0</td>\n",
       "      <td>0</td>\n",
       "      <td>0</td>\n",
       "      <td>0</td>\n",
       "      <td>0</td>\n",
       "      <td>0</td>\n",
       "      <td>0</td>\n",
       "      <td>0</td>\n",
       "      <td>active</td>\n",
       "    </tr>\n",
       "    <tr>\n",
       "      <th>86</th>\n",
       "      <td>87</td>\n",
       "      <td>14|VitaminE_allmin_active|sdf|14</td>\n",
       "      <td>0</td>\n",
       "      <td>0</td>\n",
       "      <td>0</td>\n",
       "      <td>0</td>\n",
       "      <td>0</td>\n",
       "      <td>0</td>\n",
       "      <td>0</td>\n",
       "      <td>0</td>\n",
       "      <td>...</td>\n",
       "      <td>0</td>\n",
       "      <td>0</td>\n",
       "      <td>0</td>\n",
       "      <td>0</td>\n",
       "      <td>0</td>\n",
       "      <td>0</td>\n",
       "      <td>0</td>\n",
       "      <td>0</td>\n",
       "      <td>0</td>\n",
       "      <td>active</td>\n",
       "    </tr>\n",
       "    <tr>\n",
       "      <th>87</th>\n",
       "      <td>88</td>\n",
       "      <td>130|VitaminE_allmin_active|sdf|130</td>\n",
       "      <td>2</td>\n",
       "      <td>0</td>\n",
       "      <td>0</td>\n",
       "      <td>0</td>\n",
       "      <td>0</td>\n",
       "      <td>0</td>\n",
       "      <td>0</td>\n",
       "      <td>0</td>\n",
       "      <td>...</td>\n",
       "      <td>0</td>\n",
       "      <td>0</td>\n",
       "      <td>0</td>\n",
       "      <td>0</td>\n",
       "      <td>0</td>\n",
       "      <td>0</td>\n",
       "      <td>0</td>\n",
       "      <td>0</td>\n",
       "      <td>0</td>\n",
       "      <td>active</td>\n",
       "    </tr>\n",
       "    <tr>\n",
       "      <th>88</th>\n",
       "      <td>89</td>\n",
       "      <td>46|VitaminE_allmin_active|sdf|46</td>\n",
       "      <td>0</td>\n",
       "      <td>0</td>\n",
       "      <td>0</td>\n",
       "      <td>0</td>\n",
       "      <td>0</td>\n",
       "      <td>0</td>\n",
       "      <td>0</td>\n",
       "      <td>0</td>\n",
       "      <td>...</td>\n",
       "      <td>0</td>\n",
       "      <td>0</td>\n",
       "      <td>0</td>\n",
       "      <td>0</td>\n",
       "      <td>1</td>\n",
       "      <td>0</td>\n",
       "      <td>0</td>\n",
       "      <td>0</td>\n",
       "      <td>0</td>\n",
       "      <td>active</td>\n",
       "    </tr>\n",
       "  </tbody>\n",
       "</table>\n",
       "<p>89 rows × 103 columns</p>\n",
       "</div>"
      ],
      "text/plain": [
       "    INDEX                                NAME  Hydrogen_Bond:ASP162B  \\\n",
       "0       1    28|VitaminE_allmin_active|sdf|28                      0   \n",
       "1       2    36|VitaminE_allmin_active|sdf|36                      0   \n",
       "2       3    31|VitaminE_allmin_active|sdf|31                      1   \n",
       "3       4    37|VitaminE_allmin_active|sdf|37                      2   \n",
       "4       5  124|VitaminE_allmin_active|sdf|124                      0   \n",
       "..    ...                                 ...                    ...   \n",
       "84     85  103|VitaminE_allmin_active|sdf|103                      0   \n",
       "85     86      8|VitaminE_allmin_active|sdf|8                      0   \n",
       "86     87    14|VitaminE_allmin_active|sdf|14                      0   \n",
       "87     88  130|VitaminE_allmin_active|sdf|130                      2   \n",
       "88     89    46|VitaminE_allmin_active|sdf|46                      0   \n",
       "\n",
       "    Hydrophobic_Interaction:TYR142B  Pi-Cation_Interaction:LYS140B  \\\n",
       "0                                 1                              0   \n",
       "1                                 0                              0   \n",
       "2                                 0                              0   \n",
       "3                                 0                              0   \n",
       "4                                 1                              0   \n",
       "..                              ...                            ...   \n",
       "84                                0                              0   \n",
       "85                                0                              0   \n",
       "86                                0                              0   \n",
       "87                                0                              0   \n",
       "88                                0                              0   \n",
       "\n",
       "    Hydrophobic_Interaction:TYR383B  Salt_Bridge:LYS140B  \\\n",
       "0                                 0                    0   \n",
       "1                                 0                    0   \n",
       "2                                 0                    0   \n",
       "3                                 0                    0   \n",
       "4                                 0                    0   \n",
       "..                              ...                  ...   \n",
       "84                                0                    0   \n",
       "85                                0                    0   \n",
       "86                                0                    0   \n",
       "87                                0                    0   \n",
       "88                                0                    0   \n",
       "\n",
       "    Hydrophobic_Interaction:GLN168B  Hydrogen_Bond:TYR142B  \\\n",
       "0                                 0                      0   \n",
       "1                                 0                      0   \n",
       "2                                 0                      0   \n",
       "3                                 0                      0   \n",
       "4                                 0                      0   \n",
       "..                              ...                    ...   \n",
       "84                                0                      0   \n",
       "85                                0                      0   \n",
       "86                                0                      0   \n",
       "87                                0                      0   \n",
       "88                                0                      0   \n",
       "\n",
       "    Hydrophobic_Interaction:ARG138B  ...  Hydrophobic_Interaction:ASP166B  \\\n",
       "0                                 1  ...                                0   \n",
       "1                                 0  ...                                0   \n",
       "2                                 0  ...                                0   \n",
       "3                                 0  ...                                0   \n",
       "4                                 0  ...                                0   \n",
       "..                              ...  ...                              ...   \n",
       "84                                0  ...                                0   \n",
       "85                                0  ...                                0   \n",
       "86                                0  ...                                0   \n",
       "87                                0  ...                                0   \n",
       "88                                0  ...                                0   \n",
       "\n",
       "    Hydrophobic_Interaction:ALA157B  Hydrogen_Bond:ASP79B  \\\n",
       "0                                 0                     0   \n",
       "1                                 0                     0   \n",
       "2                                 0                     0   \n",
       "3                                 0                     0   \n",
       "4                                 0                     0   \n",
       "..                              ...                   ...   \n",
       "84                                0                     0   \n",
       "85                                0                     0   \n",
       "86                                0                     0   \n",
       "87                                0                     0   \n",
       "88                                0                     0   \n",
       "\n",
       "    Hydrogen_Bond:ASP106B  Pi-Cation_Interaction:ARG143B  \\\n",
       "0                       0                              0   \n",
       "1                       1                              0   \n",
       "2                       1                              0   \n",
       "3                       0                              0   \n",
       "4                       0                              0   \n",
       "..                    ...                            ...   \n",
       "84                      0                              0   \n",
       "85                      0                              0   \n",
       "86                      0                              0   \n",
       "87                      0                              0   \n",
       "88                      0                              1   \n",
       "\n",
       "    Hydrophobic_Interaction:GLU134B  Salt_Bridge:LYS161B  \\\n",
       "0                                 0                    0   \n",
       "1                                 0                    0   \n",
       "2                                 0                    0   \n",
       "3                                 0                    0   \n",
       "4                                 0                    0   \n",
       "..                              ...                  ...   \n",
       "84                                0                    0   \n",
       "85                                0                    0   \n",
       "86                                0                    0   \n",
       "87                                0                    0   \n",
       "88                                0                    0   \n",
       "\n",
       "    Hydrophobic_Interaction:GLU172B  Salt_Bridge:ARG143B   LABEL  \n",
       "0                                 0                    0  active  \n",
       "1                                 0                    0  active  \n",
       "2                                 0                    0  active  \n",
       "3                                 0                    0  active  \n",
       "4                                 0                    0  active  \n",
       "..                              ...                  ...     ...  \n",
       "84                                0                    0  active  \n",
       "85                                0                    0  active  \n",
       "86                                0                    0  active  \n",
       "87                                0                    0  active  \n",
       "88                                0                    0  active  \n",
       "\n",
       "[89 rows x 103 columns]"
      ]
     },
     "execution_count": 5,
     "metadata": {},
     "output_type": "execute_result"
    }
   ],
   "source": [
    "data_train"
   ]
  },
  {
   "cell_type": "code",
   "execution_count": 6,
   "id": "approved-drive",
   "metadata": {},
   "outputs": [
    {
     "name": "stdout",
     "output_type": "stream",
     "text": [
      "Training dataset shape & Nr. of actives:\n",
      "(89, 103) 60\n"
     ]
    }
   ],
   "source": [
    "print(\"Training dataset shape & Nr. of actives:\")\n",
    "print(data_train.shape, len(data_train.loc[data_train[\"LABEL\"] == \"active\"]))"
   ]
  },
  {
   "cell_type": "code",
   "execution_count": 7,
   "id": "dominican-hydrogen",
   "metadata": {},
   "outputs": [
    {
     "name": "stdout",
     "output_type": "stream",
     "text": [
      "Validation dataset shape & Nr. of actives:\n",
      "(23, 103) 16\n"
     ]
    }
   ],
   "source": [
    "print(\"Validation dataset shape & Nr. of actives:\")\n",
    "print(data_val.shape, len(data_val.loc[data_val[\"LABEL\"] == \"active\"]))"
   ]
  },
  {
   "cell_type": "code",
   "execution_count": 8,
   "id": "stylish-friday",
   "metadata": {},
   "outputs": [
    {
     "name": "stdout",
     "output_type": "stream",
     "text": [
      "Test dataset shape & Nr. of actives:\n",
      "(29, 103) 18\n"
     ]
    }
   ],
   "source": [
    "print(\"Test dataset shape & Nr. of actives:\")\n",
    "print(data_test.shape, len(data_test.loc[data_test[\"LABEL\"] == \"active\"]))"
   ]
  },
  {
   "cell_type": "code",
   "execution_count": 9,
   "id": "rough-display",
   "metadata": {},
   "outputs": [
    {
     "data": {
      "text/html": [
       "<div>\n",
       "<style scoped>\n",
       "    .dataframe tbody tr th:only-of-type {\n",
       "        vertical-align: middle;\n",
       "    }\n",
       "\n",
       "    .dataframe tbody tr th {\n",
       "        vertical-align: top;\n",
       "    }\n",
       "\n",
       "    .dataframe thead th {\n",
       "        text-align: right;\n",
       "    }\n",
       "</style>\n",
       "<table border=\"1\" class=\"dataframe\">\n",
       "  <thead>\n",
       "    <tr style=\"text-align: right;\">\n",
       "      <th></th>\n",
       "      <th>INDEX</th>\n",
       "      <th>INTERACTION</th>\n",
       "      <th>DIFFERENCE</th>\n",
       "      <th>ACTIVE_FREQUENCY</th>\n",
       "      <th>INACTIVE_FREQUENCY</th>\n",
       "    </tr>\n",
       "  </thead>\n",
       "  <tbody>\n",
       "    <tr>\n",
       "      <th>0</th>\n",
       "      <td>1</td>\n",
       "      <td>Hydrogen_Bond:ARG138B</td>\n",
       "      <td>0.381034</td>\n",
       "      <td>0.450000</td>\n",
       "      <td>0.068966</td>\n",
       "    </tr>\n",
       "    <tr>\n",
       "      <th>1</th>\n",
       "      <td>2</td>\n",
       "      <td>Hydrogen_Bond:ARG165B</td>\n",
       "      <td>0.182759</td>\n",
       "      <td>0.300000</td>\n",
       "      <td>0.482759</td>\n",
       "    </tr>\n",
       "    <tr>\n",
       "      <th>2</th>\n",
       "      <td>3</td>\n",
       "      <td>Hydrophobic_Interaction:VAL107B</td>\n",
       "      <td>0.167241</td>\n",
       "      <td>0.650000</td>\n",
       "      <td>0.482759</td>\n",
       "    </tr>\n",
       "    <tr>\n",
       "      <th>3</th>\n",
       "      <td>4</td>\n",
       "      <td>Hydrogen_Bond:LYS161B</td>\n",
       "      <td>0.158046</td>\n",
       "      <td>0.083333</td>\n",
       "      <td>0.241379</td>\n",
       "    </tr>\n",
       "    <tr>\n",
       "      <th>4</th>\n",
       "      <td>5</td>\n",
       "      <td>Hydrogen_Bond:ARG143B</td>\n",
       "      <td>0.157471</td>\n",
       "      <td>0.433333</td>\n",
       "      <td>0.275862</td>\n",
       "    </tr>\n",
       "    <tr>\n",
       "      <th>...</th>\n",
       "      <td>...</td>\n",
       "      <td>...</td>\n",
       "      <td>...</td>\n",
       "      <td>...</td>\n",
       "      <td>...</td>\n",
       "    </tr>\n",
       "    <tr>\n",
       "      <th>95</th>\n",
       "      <td>96</td>\n",
       "      <td>Hydrophobic_Interaction:ASP106B</td>\n",
       "      <td>0.010920</td>\n",
       "      <td>0.183333</td>\n",
       "      <td>0.172414</td>\n",
       "    </tr>\n",
       "    <tr>\n",
       "      <th>96</th>\n",
       "      <td>97</td>\n",
       "      <td>Hydrophobic_Interaction:LYS140B</td>\n",
       "      <td>0.002299</td>\n",
       "      <td>0.066667</td>\n",
       "      <td>0.068966</td>\n",
       "    </tr>\n",
       "    <tr>\n",
       "      <th>97</th>\n",
       "      <td>98</td>\n",
       "      <td>Hydrophobic_Interaction:TYR383B</td>\n",
       "      <td>0.001149</td>\n",
       "      <td>0.033333</td>\n",
       "      <td>0.034483</td>\n",
       "    </tr>\n",
       "    <tr>\n",
       "      <th>98</th>\n",
       "      <td>99</td>\n",
       "      <td>Hydrophobic_Interaction:PHE393B</td>\n",
       "      <td>0.001149</td>\n",
       "      <td>0.033333</td>\n",
       "      <td>0.034483</td>\n",
       "    </tr>\n",
       "    <tr>\n",
       "      <th>99</th>\n",
       "      <td>100</td>\n",
       "      <td>Hydrogen_Bond:GLN168B</td>\n",
       "      <td>0.001149</td>\n",
       "      <td>0.033333</td>\n",
       "      <td>0.034483</td>\n",
       "    </tr>\n",
       "  </tbody>\n",
       "</table>\n",
       "<p>100 rows × 5 columns</p>\n",
       "</div>"
      ],
      "text/plain": [
       "    INDEX                      INTERACTION  DIFFERENCE  ACTIVE_FREQUENCY  \\\n",
       "0       1            Hydrogen_Bond:ARG138B    0.381034          0.450000   \n",
       "1       2            Hydrogen_Bond:ARG165B    0.182759          0.300000   \n",
       "2       3  Hydrophobic_Interaction:VAL107B    0.167241          0.650000   \n",
       "3       4            Hydrogen_Bond:LYS161B    0.158046          0.083333   \n",
       "4       5            Hydrogen_Bond:ARG143B    0.157471          0.433333   \n",
       "..    ...                              ...         ...               ...   \n",
       "95     96  Hydrophobic_Interaction:ASP106B    0.010920          0.183333   \n",
       "96     97  Hydrophobic_Interaction:LYS140B    0.002299          0.066667   \n",
       "97     98  Hydrophobic_Interaction:TYR383B    0.001149          0.033333   \n",
       "98     99  Hydrophobic_Interaction:PHE393B    0.001149          0.033333   \n",
       "99    100            Hydrogen_Bond:GLN168B    0.001149          0.033333   \n",
       "\n",
       "    INACTIVE_FREQUENCY  \n",
       "0             0.068966  \n",
       "1             0.482759  \n",
       "2             0.482759  \n",
       "3             0.241379  \n",
       "4             0.275862  \n",
       "..                 ...  \n",
       "95            0.172414  \n",
       "96            0.068966  \n",
       "97            0.034483  \n",
       "98            0.034483  \n",
       "99            0.034483  \n",
       "\n",
       "[100 rows x 5 columns]"
      ]
     },
     "execution_count": 9,
     "metadata": {},
     "output_type": "execute_result"
    }
   ],
   "source": [
    "features"
   ]
  },
  {
   "cell_type": "markdown",
   "id": "wicked-requirement",
   "metadata": {},
   "source": [
    "#### **Extract relevant features:**"
   ]
  },
  {
   "cell_type": "code",
   "execution_count": 10,
   "id": "polish-steal",
   "metadata": {},
   "outputs": [
    {
     "data": {
      "text/html": [
       "<div>\n",
       "<style scoped>\n",
       "    .dataframe tbody tr th:only-of-type {\n",
       "        vertical-align: middle;\n",
       "    }\n",
       "\n",
       "    .dataframe tbody tr th {\n",
       "        vertical-align: top;\n",
       "    }\n",
       "\n",
       "    .dataframe thead th {\n",
       "        text-align: right;\n",
       "    }\n",
       "</style>\n",
       "<table border=\"1\" class=\"dataframe\">\n",
       "  <thead>\n",
       "    <tr style=\"text-align: right;\">\n",
       "      <th></th>\n",
       "      <th>INDEX</th>\n",
       "      <th>INTERACTION</th>\n",
       "      <th>DIFFERENCE</th>\n",
       "      <th>ACTIVE_FREQUENCY</th>\n",
       "      <th>INACTIVE_FREQUENCY</th>\n",
       "    </tr>\n",
       "  </thead>\n",
       "  <tbody>\n",
       "    <tr>\n",
       "      <th>0</th>\n",
       "      <td>1</td>\n",
       "      <td>Hydrogen_Bond:ARG138B</td>\n",
       "      <td>0.381034</td>\n",
       "      <td>0.450000</td>\n",
       "      <td>0.068966</td>\n",
       "    </tr>\n",
       "    <tr>\n",
       "      <th>1</th>\n",
       "      <td>2</td>\n",
       "      <td>Hydrogen_Bond:ARG165B</td>\n",
       "      <td>0.182759</td>\n",
       "      <td>0.300000</td>\n",
       "      <td>0.482759</td>\n",
       "    </tr>\n",
       "    <tr>\n",
       "      <th>2</th>\n",
       "      <td>3</td>\n",
       "      <td>Hydrophobic_Interaction:VAL107B</td>\n",
       "      <td>0.167241</td>\n",
       "      <td>0.650000</td>\n",
       "      <td>0.482759</td>\n",
       "    </tr>\n",
       "    <tr>\n",
       "      <th>3</th>\n",
       "      <td>4</td>\n",
       "      <td>Hydrogen_Bond:LYS161B</td>\n",
       "      <td>0.158046</td>\n",
       "      <td>0.083333</td>\n",
       "      <td>0.241379</td>\n",
       "    </tr>\n",
       "    <tr>\n",
       "      <th>4</th>\n",
       "      <td>5</td>\n",
       "      <td>Hydrogen_Bond:ARG143B</td>\n",
       "      <td>0.157471</td>\n",
       "      <td>0.433333</td>\n",
       "      <td>0.275862</td>\n",
       "    </tr>\n",
       "    <tr>\n",
       "      <th>...</th>\n",
       "      <td>...</td>\n",
       "      <td>...</td>\n",
       "      <td>...</td>\n",
       "      <td>...</td>\n",
       "      <td>...</td>\n",
       "    </tr>\n",
       "    <tr>\n",
       "      <th>95</th>\n",
       "      <td>96</td>\n",
       "      <td>Hydrophobic_Interaction:ASP106B</td>\n",
       "      <td>0.010920</td>\n",
       "      <td>0.183333</td>\n",
       "      <td>0.172414</td>\n",
       "    </tr>\n",
       "    <tr>\n",
       "      <th>96</th>\n",
       "      <td>97</td>\n",
       "      <td>Hydrophobic_Interaction:LYS140B</td>\n",
       "      <td>0.002299</td>\n",
       "      <td>0.066667</td>\n",
       "      <td>0.068966</td>\n",
       "    </tr>\n",
       "    <tr>\n",
       "      <th>97</th>\n",
       "      <td>98</td>\n",
       "      <td>Hydrophobic_Interaction:TYR383B</td>\n",
       "      <td>0.001149</td>\n",
       "      <td>0.033333</td>\n",
       "      <td>0.034483</td>\n",
       "    </tr>\n",
       "    <tr>\n",
       "      <th>98</th>\n",
       "      <td>99</td>\n",
       "      <td>Hydrophobic_Interaction:PHE393B</td>\n",
       "      <td>0.001149</td>\n",
       "      <td>0.033333</td>\n",
       "      <td>0.034483</td>\n",
       "    </tr>\n",
       "    <tr>\n",
       "      <th>99</th>\n",
       "      <td>100</td>\n",
       "      <td>Hydrogen_Bond:GLN168B</td>\n",
       "      <td>0.001149</td>\n",
       "      <td>0.033333</td>\n",
       "      <td>0.034483</td>\n",
       "    </tr>\n",
       "  </tbody>\n",
       "</table>\n",
       "<p>100 rows × 5 columns</p>\n",
       "</div>"
      ],
      "text/plain": [
       "    INDEX                      INTERACTION  DIFFERENCE  ACTIVE_FREQUENCY  \\\n",
       "0       1            Hydrogen_Bond:ARG138B    0.381034          0.450000   \n",
       "1       2            Hydrogen_Bond:ARG165B    0.182759          0.300000   \n",
       "2       3  Hydrophobic_Interaction:VAL107B    0.167241          0.650000   \n",
       "3       4            Hydrogen_Bond:LYS161B    0.158046          0.083333   \n",
       "4       5            Hydrogen_Bond:ARG143B    0.157471          0.433333   \n",
       "..    ...                              ...         ...               ...   \n",
       "95     96  Hydrophobic_Interaction:ASP106B    0.010920          0.183333   \n",
       "96     97  Hydrophobic_Interaction:LYS140B    0.002299          0.066667   \n",
       "97     98  Hydrophobic_Interaction:TYR383B    0.001149          0.033333   \n",
       "98     99  Hydrophobic_Interaction:PHE393B    0.001149          0.033333   \n",
       "99    100            Hydrogen_Bond:GLN168B    0.001149          0.033333   \n",
       "\n",
       "    INACTIVE_FREQUENCY  \n",
       "0             0.068966  \n",
       "1             0.482759  \n",
       "2             0.482759  \n",
       "3             0.241379  \n",
       "4             0.275862  \n",
       "..                 ...  \n",
       "95            0.172414  \n",
       "96            0.068966  \n",
       "97            0.034483  \n",
       "98            0.034483  \n",
       "99            0.034483  \n",
       "\n",
       "[100 rows x 5 columns]"
      ]
     },
     "execution_count": 10,
     "metadata": {},
     "output_type": "execute_result"
    }
   ],
   "source": [
    "features_filtered = get_relevant_features(features, 0.0, 0.0, 0.0)\n",
    "features_filtered"
   ]
  },
  {
   "cell_type": "code",
   "execution_count": 11,
   "id": "reduced-sussex",
   "metadata": {},
   "outputs": [],
   "source": [
    "# some error checking -- should print nothing\n",
    "for item in features_filtered[\"INTERACTION\"].to_list():\n",
    "    if item not in data_train.columns.to_list():\n",
    "        print(item)"
   ]
  },
  {
   "cell_type": "markdown",
   "id": "diverse-express",
   "metadata": {},
   "source": [
    "#### **Get positive features (e.g. features that have a positive impact on activeness) and negative features:**"
   ]
  },
  {
   "cell_type": "code",
   "execution_count": 12,
   "id": "civic-composite",
   "metadata": {},
   "outputs": [],
   "source": [
    "positives, negatives = get_feature_impact(features_filtered)"
   ]
  },
  {
   "cell_type": "code",
   "execution_count": 13,
   "id": "selected-display",
   "metadata": {},
   "outputs": [
    {
     "data": {
      "text/plain": [
       "['Hydrogen_Bond:ARG138B',\n",
       " 'Hydrophobic_Interaction:VAL107B',\n",
       " 'Hydrogen_Bond:ARG143B',\n",
       " 'Pi-Cation_Interaction:ARG101B',\n",
       " 'Hydrogen_Bond:ASP162B',\n",
       " 'Hydrogen_Bond:LYS158B',\n",
       " 'Hydrogen_Bond:THR137B',\n",
       " 'Hydrophobic_Interaction:THR104B',\n",
       " 'Hydrophobic_Interaction:PRO164B',\n",
       " 'Hydrophobic_Interaction:LEU615B',\n",
       " 'Hydrophobic_Interaction:ARG138B',\n",
       " 'Hydrogen_Bond:GLU134B',\n",
       " 'Salt_Bridge:ARG138B',\n",
       " 'Salt_Bridge:ASP166B',\n",
       " 'Hydrophobic_Interaction:PHE402B',\n",
       " 'Hydrogen_Bond:ASN77B',\n",
       " 'Pi-Cation_Interaction:LYS158B',\n",
       " 'Hydrophobic_Interaction:TYR81B',\n",
       " 'Hydrophobic_Interaction:VAL397B',\n",
       " 'Hydrophobic_Interaction:ARG401B',\n",
       " 'Hydrogen_Bond:ASP156B',\n",
       " 'Hydrophobic_Interaction:ASP162B',\n",
       " 'Hydrophobic_Interaction:THR137B',\n",
       " 'Hydrophobic_Interaction:VAL175B',\n",
       " 'Hydrogen_Bond:SER14B',\n",
       " 'Pi-Cation_Interaction:LYS161B',\n",
       " 'Hydrophobic_Interaction:PRO621B',\n",
       " 'Hydrophobic_Interaction:GLN611B',\n",
       " 'Hydrogen_Bond:LYS71B',\n",
       " 'Hydrophobic_Interaction:ASN613B',\n",
       " 'Hydrophobic_Interaction:ALA672B',\n",
       " 'Hydrogen_Bond:VAL110B',\n",
       " 'Hydrophobic_Interaction:GLU622B',\n",
       " 'Pi-Stacking:PHE402B',\n",
       " 'Pi-Cation_Interaction:ARG143B',\n",
       " 'Pi-Cation_Interaction:LYS140B',\n",
       " 'Salt_Bridge:LYS140B',\n",
       " 'Hydrogen_Bond:TYR142B',\n",
       " 'Salt_Bridge:LYS83B',\n",
       " 'Hydrogen_Bond:LYS173B',\n",
       " 'Hydrogen_Bond:GLN15B',\n",
       " 'Hydrogen_Bond:ASN613B',\n",
       " 'Hydrogen_Bond:GLY105B',\n",
       " 'Hydrophobic_Interaction:ARG101B',\n",
       " 'Salt_Bridge:HIS17B',\n",
       " 'Hydrogen_Bond:GLU622B',\n",
       " 'Hydrophobic_Interaction:ASP79B',\n",
       " 'Hydrophobic_Interaction:PHE169B',\n",
       " 'Hydrogen_Bond:VAL397B',\n",
       " 'Hydrogen_Bond:ASP79B',\n",
       " 'Hydrogen_Bond:HIS130B',\n",
       " 'Hydrophobic_Interaction:ASP166B',\n",
       " 'Hydrophobic_Interaction:TRP102B',\n",
       " 'Hydrophobic_Interaction:ASP106B']"
      ]
     },
     "execution_count": 13,
     "metadata": {},
     "output_type": "execute_result"
    }
   ],
   "source": [
    "positives"
   ]
  },
  {
   "cell_type": "code",
   "execution_count": 14,
   "id": "nervous-nature",
   "metadata": {},
   "outputs": [
    {
     "data": {
      "text/plain": [
       "['Hydrogen_Bond:ARG165B',\n",
       " 'Hydrogen_Bond:LYS161B',\n",
       " 'Hydrogen_Bond:ARG101B',\n",
       " 'Salt_Bridge:ASP162B',\n",
       " 'Hydrophobic_Interaction:TYR142B',\n",
       " 'Halogen_Bond:THR137B',\n",
       " 'Hydrogen_Bond:ASP166B',\n",
       " 'Hydrophobic_Interaction:GLN141B',\n",
       " 'Salt_Bridge:ARG101B',\n",
       " 'Hydrophobic_Interaction:GLN168B',\n",
       " 'Hydrophobic_Interaction:LYS161B',\n",
       " 'Salt_Bridge:LYS161B',\n",
       " 'Halogen_Bond:ARG165B',\n",
       " 'Hydrogen_Bond:HIS160B',\n",
       " 'Hydrophobic_Interaction:LYS173B',\n",
       " 'Hydrophobic_Interaction:LYS158B',\n",
       " 'Hydrogen_Bond:GLN141B',\n",
       " 'Hydrophobic_Interaction:ARG165B',\n",
       " 'Salt_Bridge:ARG143B',\n",
       " 'Hydrophobic_Interaction:GLU172B',\n",
       " 'Hydrogen_Bond:ASP106B',\n",
       " 'Hydrophobic_Interaction:HIS17B',\n",
       " 'Hydrogen_Bond:GLU172B',\n",
       " 'Hydrophobic_Interaction:GLU134B',\n",
       " 'Hydrophobic_Interaction:ARG143B',\n",
       " 'Salt_Bridge:ARG165B',\n",
       " 'Salt_Bridge:LYS158B',\n",
       " 'Pi-Stacking:TRP102B',\n",
       " 'Salt_Bridge:ASP156B',\n",
       " 'Hydrogen_Bond:LEU163B',\n",
       " 'Halogen_Bond:GLU412B',\n",
       " 'Hydrogen_Bond:GLU412B',\n",
       " 'Hydrophobic_Interaction:HIS160B',\n",
       " 'Hydrogen_Bond:HIS624B',\n",
       " 'Hydrophobic_Interaction:VAL109B',\n",
       " 'Halogen_Bond:LYS161B',\n",
       " 'Pi-Cation_Interaction:ARG165B',\n",
       " 'Hydrophobic_Interaction:TYR100B',\n",
       " 'Hydrogen_Bond:TYR383B',\n",
       " 'Hydrogen_Bond:TRP102B',\n",
       " 'Hydrogen_Bond:LYS140B',\n",
       " 'Hydrophobic_Interaction:ALA157B',\n",
       " 'Hydrophobic_Interaction:LYS140B',\n",
       " 'Hydrophobic_Interaction:TYR383B',\n",
       " 'Hydrophobic_Interaction:PHE393B',\n",
       " 'Hydrogen_Bond:GLN168B']"
      ]
     },
     "execution_count": 14,
     "metadata": {},
     "output_type": "execute_result"
    }
   ],
   "source": [
    "negatives"
   ]
  },
  {
   "cell_type": "markdown",
   "id": "dutch-biotechnology",
   "metadata": {},
   "source": [
    "#### **Score Compounds with different strategies & save results:**"
   ]
  },
  {
   "cell_type": "code",
   "execution_count": 15,
   "id": "composite-porcelain",
   "metadata": {},
   "outputs": [],
   "source": [
    "save = False\n",
    "\n",
    "# make data copies\n",
    "train_result_strat1 = data_train.copy()\n",
    "train_result_strat2 = data_train.copy()\n",
    "train_result_strat3 = data_train.copy()\n",
    "train_result_strat4 = data_train.copy()\n",
    "# calculate scores\n",
    "train_result_strat1[\"SCORE\"] = train_result_strat1.apply(lambda x: score(x, positives, negatives, \"+\"), axis = 1)\n",
    "train_result_strat2[\"SCORE\"] = train_result_strat2.apply(lambda x: score(x, positives, negatives, \"++\"), axis = 1)\n",
    "train_result_strat3[\"SCORE\"] = train_result_strat3.apply(lambda x: score(x, positives, negatives, \"+-\"), axis = 1)\n",
    "train_result_strat4[\"SCORE\"] = train_result_strat4.apply(lambda x: score(x, positives, negatives, \"++--\"), axis = 1)\n",
    "# sort data\n",
    "train_result_strat1_sorted = train_result_strat1.sort_values(by = \"SCORE\", ascending = False)\n",
    "train_result_strat2_sorted = train_result_strat2.sort_values(by = \"SCORE\", ascending = False)\n",
    "train_result_strat3_sorted = train_result_strat3.sort_values(by = \"SCORE\", ascending = False)\n",
    "train_result_strat4_sorted = train_result_strat4.sort_values(by = \"SCORE\", ascending = False)\n",
    "# save data\n",
    "if save:\n",
    "    train_result_strat1_sorted.to_csv(\"train_scores1.csv\")\n",
    "    train_result_strat2_sorted.to_csv(\"train_scores2.csv\")\n",
    "    train_result_strat3_sorted.to_csv(\"train_scores3.csv\")\n",
    "    train_result_strat4_sorted.to_csv(\"train_scores4.csv\")"
   ]
  },
  {
   "cell_type": "markdown",
   "id": "green-programming",
   "metadata": {},
   "source": [
    "#### **Find best cutoff value and print metrics:**"
   ]
  },
  {
   "cell_type": "markdown",
   "id": "hollywood-distribution",
   "metadata": {},
   "source": [
    "*cutoff/accuracy for different strategies:*"
   ]
  },
  {
   "cell_type": "code",
   "execution_count": 16,
   "id": "hollow-dominican",
   "metadata": {},
   "outputs": [
    {
     "name": "stdout",
     "output_type": "stream",
     "text": [
      "Strategy 1:  [5, 0.8314606741573034] \n",
      "Strategy 2:  [5, 0.797752808988764] \n",
      "Strategy 3:  [0, 0.8314606741573034] \n",
      "Strategy 4:  [-1, 0.8202247191011236]\n"
     ]
    }
   ],
   "source": [
    "print(\n",
    "\"Strategy 1: \",\n",
    "get_cutoff(train_result_strat1[\"LABEL\"].to_list(), train_result_strat1[\"SCORE\"].to_list()),\n",
    "\"\\nStrategy 2: \",\n",
    "get_cutoff(train_result_strat2[\"LABEL\"].to_list(), train_result_strat2[\"SCORE\"].to_list()),\n",
    "\"\\nStrategy 3: \",\n",
    "get_cutoff(train_result_strat3[\"LABEL\"].to_list(), train_result_strat3[\"SCORE\"].to_list()),\n",
    "\"\\nStrategy 4: \",\n",
    "get_cutoff(train_result_strat4[\"LABEL\"].to_list(), train_result_strat4[\"SCORE\"].to_list())\n",
    ")"
   ]
  },
  {
   "cell_type": "markdown",
   "id": "uniform-support",
   "metadata": {},
   "source": [
    "*accuracy for best cutoff:*"
   ]
  },
  {
   "cell_type": "code",
   "execution_count": 17,
   "id": "labeled-velvet",
   "metadata": {},
   "outputs": [
    {
     "name": "stdout",
     "output_type": "stream",
     "text": [
      "Strategy 1:  0.8314606741573034 \n",
      "Strategy 2:  0.797752808988764 \n",
      "Strategy 3:  0.8314606741573034 \n",
      "Strategy 4:  0.8202247191011236\n"
     ]
    }
   ],
   "source": [
    "print(\n",
    "\"Strategy 1: \",\n",
    "test_cutoff(train_result_strat1[\"LABEL\"].to_list(), train_result_strat1[\"SCORE\"].to_list(), 5, \"accuracy\"),\n",
    "\"\\nStrategy 2: \",\n",
    "test_cutoff(train_result_strat2[\"LABEL\"].to_list(), train_result_strat2[\"SCORE\"].to_list(), 5, \"accuracy\"),\n",
    "\"\\nStrategy 3: \",\n",
    "test_cutoff(train_result_strat3[\"LABEL\"].to_list(), train_result_strat3[\"SCORE\"].to_list(), 0, \"accuracy\"),\n",
    "\"\\nStrategy 4: \",\n",
    "test_cutoff(train_result_strat4[\"LABEL\"].to_list(), train_result_strat4[\"SCORE\"].to_list(), -1, \"accuracy\")\n",
    ")"
   ]
  },
  {
   "cell_type": "markdown",
   "id": "searching-toronto",
   "metadata": {},
   "source": [
    "*false positive rate for best cutoff:*"
   ]
  },
  {
   "cell_type": "code",
   "execution_count": 18,
   "id": "streaming-tuner",
   "metadata": {},
   "outputs": [
    {
     "name": "stdout",
     "output_type": "stream",
     "text": [
      "Strategy 1:  0.13793103448275862 \n",
      "Strategy 2:  0.27586206896551724 \n",
      "Strategy 3:  0.1724137931034483 \n",
      "Strategy 4:  0.27586206896551724\n"
     ]
    }
   ],
   "source": [
    "print(\n",
    "\"Strategy 1: \",\n",
    "test_cutoff(train_result_strat1[\"LABEL\"].to_list(), train_result_strat1[\"SCORE\"].to_list(), 5, \"fpr\"),\n",
    "\"\\nStrategy 2: \",\n",
    "test_cutoff(train_result_strat2[\"LABEL\"].to_list(), train_result_strat2[\"SCORE\"].to_list(), 5, \"fpr\"),\n",
    "\"\\nStrategy 3: \",\n",
    "test_cutoff(train_result_strat3[\"LABEL\"].to_list(), train_result_strat3[\"SCORE\"].to_list(), 0, \"fpr\"),\n",
    "\"\\nStrategy 4: \",\n",
    "test_cutoff(train_result_strat4[\"LABEL\"].to_list(), train_result_strat4[\"SCORE\"].to_list(), -1, \"fpr\")\n",
    ")"
   ]
  },
  {
   "cell_type": "markdown",
   "id": "amino-mobile",
   "metadata": {},
   "source": [
    "#### **Calculate validation and test results:**"
   ]
  },
  {
   "cell_type": "code",
   "execution_count": 19,
   "id": "representative-camera",
   "metadata": {},
   "outputs": [],
   "source": [
    "# make data copies\n",
    "val_result_strat1 = data_val.copy()\n",
    "val_result_strat2 = data_val.copy()\n",
    "val_result_strat3 = data_val.copy()\n",
    "val_result_strat4 = data_val.copy()\n",
    "# calculate scores\n",
    "val_result_strat1[\"SCORE\"] = val_result_strat1.apply(lambda x: score(x, positives, negatives, \"+\"), axis = 1)\n",
    "val_result_strat2[\"SCORE\"] = val_result_strat2.apply(lambda x: score(x, positives, negatives, \"++\"), axis = 1)\n",
    "val_result_strat3[\"SCORE\"] = val_result_strat3.apply(lambda x: score(x, positives, negatives, \"+-\"), axis = 1)\n",
    "val_result_strat4[\"SCORE\"] = val_result_strat4.apply(lambda x: score(x, positives, negatives, \"++--\"), axis = 1)\n",
    "# sort data\n",
    "val_result_strat1_sorted = val_result_strat1.sort_values(by = \"SCORE\", ascending = False)\n",
    "val_result_strat2_sorted = val_result_strat2.sort_values(by = \"SCORE\", ascending = False)\n",
    "val_result_strat3_sorted = val_result_strat3.sort_values(by = \"SCORE\", ascending = False)\n",
    "val_result_strat4_sorted = val_result_strat4.sort_values(by = \"SCORE\", ascending = False)"
   ]
  },
  {
   "cell_type": "code",
   "execution_count": 20,
   "id": "controlling-confidentiality",
   "metadata": {},
   "outputs": [],
   "source": [
    "# make data copies\n",
    "test_result_strat1 = data_test.copy()\n",
    "test_result_strat2 = data_test.copy()\n",
    "test_result_strat3 = data_test.copy()\n",
    "test_result_strat4 = data_test.copy()\n",
    "# calculate scores\n",
    "test_result_strat1[\"SCORE\"] = test_result_strat1.apply(lambda x: score(x, positives, negatives, \"+\"), axis = 1)\n",
    "test_result_strat2[\"SCORE\"] = test_result_strat2.apply(lambda x: score(x, positives, negatives, \"++\"), axis = 1)\n",
    "test_result_strat3[\"SCORE\"] = test_result_strat3.apply(lambda x: score(x, positives, negatives, \"+-\"), axis = 1)\n",
    "test_result_strat4[\"SCORE\"] = test_result_strat4.apply(lambda x: score(x, positives, negatives, \"++--\"), axis = 1)\n",
    "# sort data\n",
    "test_result_strat1_sorted = test_result_strat1.sort_values(by = \"SCORE\", ascending = False)\n",
    "test_result_strat2_sorted = test_result_strat2.sort_values(by = \"SCORE\", ascending = False)\n",
    "test_result_strat3_sorted = test_result_strat3.sort_values(by = \"SCORE\", ascending = False)\n",
    "test_result_strat4_sorted = test_result_strat4.sort_values(by = \"SCORE\", ascending = False)"
   ]
  },
  {
   "cell_type": "markdown",
   "id": "complex-pathology",
   "metadata": {},
   "source": [
    "#### **Quality metrics for training and validation data:**"
   ]
  },
  {
   "cell_type": "markdown",
   "id": "entertaining-dylan",
   "metadata": {},
   "source": [
    "*training data:*"
   ]
  },
  {
   "cell_type": "code",
   "execution_count": 21,
   "id": "limiting-commercial",
   "metadata": {},
   "outputs": [
    {
     "name": "stdout",
     "output_type": "stream",
     "text": [
      "Strategy 1:  {'ACC': 0.8314606741573034, 'FPR': 0.13793103448275862, 'AUC': 0.8870689655172413, 'Ya': 0.9245283018867925, 'EF': 1.3713836477987422, 'REF': 92.45283018867924} \n",
      "Strategy 2:  {'ACC': 0.797752808988764, 'FPR': 0.27586206896551724, 'AUC': 0.8695402298850574, 'Ya': 0.8620689655172413, 'EF': 1.278735632183908, 'REF': 86.20689655172414} \n",
      "Strategy 3:  {'ACC': 0.8314606741573034, 'FPR': 0.1724137931034483, 'AUC': 0.8994252873563219, 'Ya': 0.9090909090909091, 'EF': 1.3484848484848484, 'REF': 90.9090909090909} \n",
      "Strategy 4:  {'ACC': 0.8202247191011236, 'FPR': 0.27586206896551724, 'AUC': 0.8870689655172415, 'Ya': 0.8666666666666667, 'EF': 1.2855555555555556, 'REF': 86.66666666666667}\n"
     ]
    }
   ],
   "source": [
    "print(\n",
    "\"Strategy 1: \",\n",
    "get_metrics(train_result_strat1, 5, pretty_print = True),\n",
    "\"\\nStrategy 2: \",\n",
    "get_metrics(train_result_strat2, 5, pretty_print = True),\n",
    "\"\\nStrategy 3: \",\n",
    "get_metrics(train_result_strat3, 0, pretty_print = True),\n",
    "\"\\nStrategy 4: \",\n",
    "get_metrics(train_result_strat4, -1, pretty_print = True)\n",
    ")"
   ]
  },
  {
   "cell_type": "code",
   "execution_count": 22,
   "id": "protected-affiliate",
   "metadata": {},
   "outputs": [
    {
     "data": {
      "image/png": "[encoded data removed]",
      "text/plain": [
       "<Figure size 720x720 with 2 Axes>"
      ]
     },
     "metadata": {
      "needs_background": "light"
     },
     "output_type": "display_data"
    }
   ],
   "source": [
    "plot_confusion_matrix(get_metrics(train_result_strat1, 5)[\"CM\"], classes = [0, 1]);"
   ]
  },
  {
   "cell_type": "code",
   "execution_count": 23,
   "id": "raised-brake",
   "metadata": {},
   "outputs": [
    {
     "data": {
      "image/png": "[encoded data removed]",
      "text/plain": [
       "<Figure size 720x720 with 1 Axes>"
      ]
     },
     "metadata": {
      "needs_background": "light"
     },
     "output_type": "display_data"
    }
   ],
   "source": [
    "roc = get_metrics(train_result_strat1, 5)[\"ROC\"]\n",
    "plot_ROC_curve(roc[\"fpr\"], roc[\"tpr\"]);"
   ]
  },
  {
   "cell_type": "markdown",
   "id": "bright-atmosphere",
   "metadata": {},
   "source": [
    "*validation data:*"
   ]
  },
  {
   "cell_type": "code",
   "execution_count": 24,
   "id": "champion-palmer",
   "metadata": {},
   "outputs": [
    {
     "name": "stdout",
     "output_type": "stream",
     "text": [
      "Strategy 1:  {'ACC': 0.2608695652173913, 'FPR': 0.5714285714285714, 'AUC': 0.41517857142857145, 'Ya': 0.42857142857142855, 'EF': 0.6160714285714286, 'REF': 42.857142857142854} \n",
      "Strategy 2:  {'ACC': 0.2608695652173913, 'FPR': 0.5714285714285714, 'AUC': 0.4241071428571429, 'Ya': 0.42857142857142855, 'EF': 0.6160714285714286, 'REF': 42.857142857142854} \n",
      "Strategy 3:  {'ACC': 0.43478260869565216, 'FPR': 0.5714285714285714, 'AUC': 0.44196428571428575, 'Ya': 0.6363636363636364, 'EF': 0.9147727272727273, 'REF': 63.63636363636363} \n",
      "Strategy 4:  {'ACC': 0.4782608695652174, 'FPR': 0.5714285714285714, 'AUC': 0.44642857142857145, 'Ya': 0.6666666666666666, 'EF': 0.9583333333333333, 'REF': 66.66666666666667}\n"
     ]
    }
   ],
   "source": [
    "print(\n",
    "\"Strategy 1: \",\n",
    "get_metrics(val_result_strat1, 5, pretty_print = True),\n",
    "\"\\nStrategy 2: \",\n",
    "get_metrics(val_result_strat2, 5, pretty_print = True),\n",
    "\"\\nStrategy 3: \",\n",
    "get_metrics(val_result_strat3, 0, pretty_print = True),\n",
    "\"\\nStrategy 4: \",\n",
    "get_metrics(val_result_strat4, -1, pretty_print = True)\n",
    ")"
   ]
  },
  {
   "cell_type": "code",
   "execution_count": 25,
   "id": "inside-array",
   "metadata": {},
   "outputs": [
    {
     "data": {
      "image/png": "[encoded data removed]",
      "text/plain": [
       "<Figure size 720x720 with 2 Axes>"
      ]
     },
     "metadata": {
      "needs_background": "light"
     },
     "output_type": "display_data"
    }
   ],
   "source": [
    "plot_confusion_matrix(get_metrics(val_result_strat1, 5)[\"CM\"], classes = [0, 1]);"
   ]
  },
  {
   "cell_type": "code",
   "execution_count": 26,
   "id": "imposed-complaint",
   "metadata": {},
   "outputs": [
    {
     "data": {
      "image/png": "[encoded data removed]",
      "text/plain": [
       "<Figure size 720x720 with 1 Axes>"
      ]
     },
     "metadata": {
      "needs_background": "light"
     },
     "output_type": "display_data"
    }
   ],
   "source": [
    "roc = get_metrics(val_result_strat1, 5)[\"ROC\"]\n",
    "plot_ROC_curve(roc[\"fpr\"], roc[\"tpr\"]);"
   ]
  },
  {
   "cell_type": "markdown",
   "id": "altered-voltage",
   "metadata": {},
   "source": [
    "*test data:*"
   ]
  },
  {
   "cell_type": "code",
   "execution_count": 27,
   "id": "indian-karen",
   "metadata": {},
   "outputs": [
    {
     "name": "stdout",
     "output_type": "stream",
     "text": [
      "Strategy 1:  {'ACC': 0.5172413793103449, 'FPR': 0.45454545454545453, 'AUC': 0.43686868686868685, 'Ya': 0.6428571428571429, 'EF': 1.0357142857142858, 'REF': 64.28571428571429} \n",
      "Strategy 2:  {'ACC': 0.4827586206896552, 'FPR': 0.5454545454545454, 'AUC': 0.4444444444444444, 'Ya': 0.6, 'EF': 0.9666666666666666, 'REF': 60.0} \n",
      "Strategy 3:  {'ACC': 0.4827586206896552, 'FPR': 0.7272727272727273, 'AUC': 0.4090909090909091, 'Ya': 0.5789473684210527, 'EF': 0.9327485380116959, 'REF': 61.111111111111114} \n",
      "Strategy 4:  {'ACC': 0.5172413793103449, 'FPR': 0.7272727272727273, 'AUC': 0.4015151515151515, 'Ya': 0.6, 'EF': 0.9666666666666666, 'REF': 66.66666666666667}\n"
     ]
    }
   ],
   "source": [
    "print(\n",
    "\"Strategy 1: \",\n",
    "get_metrics(test_result_strat1, 5, pretty_print = True),\n",
    "\"\\nStrategy 2: \",\n",
    "get_metrics(test_result_strat2, 5, pretty_print = True),\n",
    "\"\\nStrategy 3: \",\n",
    "get_metrics(test_result_strat3, 0, pretty_print = True),\n",
    "\"\\nStrategy 4: \",\n",
    "get_metrics(test_result_strat4, -1, pretty_print = True)\n",
    ")"
   ]
  },
  {
   "cell_type": "code",
   "execution_count": 28,
   "id": "focused-uganda",
   "metadata": {},
   "outputs": [
    {
     "data": {
      "image/png": "[encoded data removed]",
      "text/plain": [
       "<Figure size 720x720 with 2 Axes>"
      ]
     },
     "metadata": {
      "needs_background": "light"
     },
     "output_type": "display_data"
    }
   ],
   "source": [
    "plot_confusion_matrix(get_metrics(test_result_strat1, 5)[\"CM\"], classes = [0, 1]);"
   ]
  },
  {
   "cell_type": "code",
   "execution_count": 29,
   "id": "growing-symbol",
   "metadata": {},
   "outputs": [
    {
     "data": {
      "image/png": "[encoded data removed]",
      "text/plain": [
       "<Figure size 720x720 with 1 Axes>"
      ]
     },
     "metadata": {
      "needs_background": "light"
     },
     "output_type": "display_data"
    }
   ],
   "source": [
    "roc = get_metrics(test_result_strat1, 5)[\"ROC\"]\n",
    "plot_ROC_curve(roc[\"fpr\"], roc[\"tpr\"]);"
   ]
  },
  {
   "cell_type": "markdown",
   "id": "portuguese-klein",
   "metadata": {},
   "source": [
    "#### **Clean up:**"
   ]
  },
  {
   "cell_type": "code",
   "execution_count": 30,
   "id": "certain-moisture",
   "metadata": {},
   "outputs": [],
   "source": [
    "os.remove(\"scoring.py\")"
   ]
  },
  {
   "cell_type": "code",
   "execution_count": null,
   "id": "functional-layout",
   "metadata": {},
   "outputs": [],
   "source": []
  }
 ],
 "metadata": {
  "kernelspec": {
   "display_name": "Python 3",
   "language": "python",
   "name": "python3"
  },
  "language_info": {
   "codemirror_mode": {
    "name": "ipython",
    "version": 3
   },
   "file_extension": ".py",
   "mimetype": "text/x-python",
   "name": "python",
   "nbconvert_exporter": "python",
   "pygments_lexer": "ipython3",
   "version": "3.8.8"
  }
 },
 "nbformat": 4,
 "nbformat_minor": 5
}
