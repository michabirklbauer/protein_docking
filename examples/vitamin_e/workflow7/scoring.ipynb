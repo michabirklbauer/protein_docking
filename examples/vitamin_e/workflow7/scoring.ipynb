{
 "cells": [
  {
   "cell_type": "markdown",
   "id": "intensive-testing",
   "metadata": {},
   "source": [
    "## **SCORING - Vitamin E: Workflow7**\n",
    "#### **Micha Birklbauer 2021-08-02**"
   ]
  },
  {
   "cell_type": "code",
   "execution_count": 1,
   "id": "toxic-pollution",
   "metadata": {},
   "outputs": [
    {
     "data": {
      "text/plain": [
       "'scoring.py'"
      ]
     },
     "execution_count": 1,
     "metadata": {},
     "output_type": "execute_result"
    }
   ],
   "source": [
    "import os\n",
    "from shutil import copyfile\n",
    "copyfile(\"../../../scripts/python/scoring.py\", \"scoring.py\")"
   ]
  },
  {
   "cell_type": "code",
   "execution_count": 2,
   "id": "middle-mills",
   "metadata": {},
   "outputs": [],
   "source": [
    "import pandas as pd\n",
    "from scoring import *"
   ]
  },
  {
   "cell_type": "markdown",
   "id": "olympic-shower",
   "metadata": {},
   "source": [
    "#### **Load data:**"
   ]
  },
  {
   "cell_type": "code",
   "execution_count": 3,
   "id": "viral-airplane",
   "metadata": {},
   "outputs": [],
   "source": [
    "data_train = pd.read_csv(\"data_train.csv\")\n",
    "data_val = pd.read_csv(\"data_val.csv\")\n",
    "data_test = pd.read_csv(\"data_test.csv\")\n",
    "features = pd.read_csv(\"features.csv\")"
   ]
  },
  {
   "cell_type": "code",
   "execution_count": 4,
   "id": "parallel-baseline",
   "metadata": {},
   "outputs": [],
   "source": [
    "# data_train.info()"
   ]
  },
  {
   "cell_type": "code",
   "execution_count": 5,
   "id": "satisfied-tracy",
   "metadata": {},
   "outputs": [
    {
     "data": {
      "text/html": [
       "<div>\n",
       "<style scoped>\n",
       "    .dataframe tbody tr th:only-of-type {\n",
       "        vertical-align: middle;\n",
       "    }\n",
       "\n",
       "    .dataframe tbody tr th {\n",
       "        vertical-align: top;\n",
       "    }\n",
       "\n",
       "    .dataframe thead th {\n",
       "        text-align: right;\n",
       "    }\n",
       "</style>\n",
       "<table border=\"1\" class=\"dataframe\">\n",
       "  <thead>\n",
       "    <tr style=\"text-align: right;\">\n",
       "      <th></th>\n",
       "      <th>INDEX</th>\n",
       "      <th>NAME</th>\n",
       "      <th>Hydrogen_Bond:GLN129B</th>\n",
       "      <th>Hydrophobic_Interaction:VAL397B</th>\n",
       "      <th>Hydrophobic_Interaction:ASP170B</th>\n",
       "      <th>Hydrophobic_Interaction:ALA388B</th>\n",
       "      <th>Hydrogen_Bond:PHE169B</th>\n",
       "      <th>Pi-Stacking:HIS130B</th>\n",
       "      <th>Salt_Bridge:LYS133B</th>\n",
       "      <th>Hydrophobic_Interaction:GLN611B</th>\n",
       "      <th>...</th>\n",
       "      <th>Hydrogen_Bond:GLU134B</th>\n",
       "      <th>Hydrogen_Bond:ASP170B</th>\n",
       "      <th>Hydrophobic_Interaction:VAL107B</th>\n",
       "      <th>Hydrogen_Bond:ARG165B</th>\n",
       "      <th>Salt_Bridge:ARG138B</th>\n",
       "      <th>Hydrogen_Bond:THR137B</th>\n",
       "      <th>Hydrophobic_Interaction:PHE169B</th>\n",
       "      <th>Salt_Bridge:ARG68B</th>\n",
       "      <th>Hydrogen_Bond:GLN15B</th>\n",
       "      <th>LABEL</th>\n",
       "    </tr>\n",
       "  </thead>\n",
       "  <tbody>\n",
       "    <tr>\n",
       "      <th>0</th>\n",
       "      <td>1</td>\n",
       "      <td>28|VitaminE_allmin_active|sdf|28</td>\n",
       "      <td>0</td>\n",
       "      <td>1</td>\n",
       "      <td>0</td>\n",
       "      <td>0</td>\n",
       "      <td>0</td>\n",
       "      <td>0</td>\n",
       "      <td>0</td>\n",
       "      <td>0</td>\n",
       "      <td>...</td>\n",
       "      <td>0</td>\n",
       "      <td>1</td>\n",
       "      <td>1</td>\n",
       "      <td>0</td>\n",
       "      <td>0</td>\n",
       "      <td>1</td>\n",
       "      <td>0</td>\n",
       "      <td>0</td>\n",
       "      <td>1</td>\n",
       "      <td>active</td>\n",
       "    </tr>\n",
       "    <tr>\n",
       "      <th>1</th>\n",
       "      <td>2</td>\n",
       "      <td>124|VitaminE_allmin_active|sdf|124</td>\n",
       "      <td>0</td>\n",
       "      <td>1</td>\n",
       "      <td>0</td>\n",
       "      <td>1</td>\n",
       "      <td>0</td>\n",
       "      <td>0</td>\n",
       "      <td>0</td>\n",
       "      <td>0</td>\n",
       "      <td>...</td>\n",
       "      <td>1</td>\n",
       "      <td>0</td>\n",
       "      <td>0</td>\n",
       "      <td>0</td>\n",
       "      <td>0</td>\n",
       "      <td>1</td>\n",
       "      <td>0</td>\n",
       "      <td>0</td>\n",
       "      <td>0</td>\n",
       "      <td>active</td>\n",
       "    </tr>\n",
       "    <tr>\n",
       "      <th>2</th>\n",
       "      <td>3</td>\n",
       "      <td>47|VitaminE_allmin_active|sdf|47</td>\n",
       "      <td>0</td>\n",
       "      <td>0</td>\n",
       "      <td>0</td>\n",
       "      <td>1</td>\n",
       "      <td>0</td>\n",
       "      <td>0</td>\n",
       "      <td>0</td>\n",
       "      <td>0</td>\n",
       "      <td>...</td>\n",
       "      <td>0</td>\n",
       "      <td>1</td>\n",
       "      <td>0</td>\n",
       "      <td>0</td>\n",
       "      <td>0</td>\n",
       "      <td>0</td>\n",
       "      <td>0</td>\n",
       "      <td>0</td>\n",
       "      <td>0</td>\n",
       "      <td>active</td>\n",
       "    </tr>\n",
       "    <tr>\n",
       "      <th>3</th>\n",
       "      <td>4</td>\n",
       "      <td>49|VitaminE_allmin_active|sdf|49</td>\n",
       "      <td>0</td>\n",
       "      <td>1</td>\n",
       "      <td>0</td>\n",
       "      <td>1</td>\n",
       "      <td>1</td>\n",
       "      <td>0</td>\n",
       "      <td>0</td>\n",
       "      <td>0</td>\n",
       "      <td>...</td>\n",
       "      <td>0</td>\n",
       "      <td>1</td>\n",
       "      <td>0</td>\n",
       "      <td>0</td>\n",
       "      <td>0</td>\n",
       "      <td>0</td>\n",
       "      <td>0</td>\n",
       "      <td>0</td>\n",
       "      <td>1</td>\n",
       "      <td>active</td>\n",
       "    </tr>\n",
       "    <tr>\n",
       "      <th>4</th>\n",
       "      <td>5</td>\n",
       "      <td>63|VitaminE_allmin_decoy|sdf|63</td>\n",
       "      <td>0</td>\n",
       "      <td>1</td>\n",
       "      <td>0</td>\n",
       "      <td>0</td>\n",
       "      <td>0</td>\n",
       "      <td>0</td>\n",
       "      <td>0</td>\n",
       "      <td>0</td>\n",
       "      <td>...</td>\n",
       "      <td>0</td>\n",
       "      <td>1</td>\n",
       "      <td>0</td>\n",
       "      <td>0</td>\n",
       "      <td>0</td>\n",
       "      <td>0</td>\n",
       "      <td>0</td>\n",
       "      <td>0</td>\n",
       "      <td>1</td>\n",
       "      <td>inactive</td>\n",
       "    </tr>\n",
       "    <tr>\n",
       "      <th>...</th>\n",
       "      <td>...</td>\n",
       "      <td>...</td>\n",
       "      <td>...</td>\n",
       "      <td>...</td>\n",
       "      <td>...</td>\n",
       "      <td>...</td>\n",
       "      <td>...</td>\n",
       "      <td>...</td>\n",
       "      <td>...</td>\n",
       "      <td>...</td>\n",
       "      <td>...</td>\n",
       "      <td>...</td>\n",
       "      <td>...</td>\n",
       "      <td>...</td>\n",
       "      <td>...</td>\n",
       "      <td>...</td>\n",
       "      <td>...</td>\n",
       "      <td>...</td>\n",
       "      <td>...</td>\n",
       "      <td>...</td>\n",
       "      <td>...</td>\n",
       "    </tr>\n",
       "    <tr>\n",
       "      <th>84</th>\n",
       "      <td>85</td>\n",
       "      <td>40|VitaminE_allmin_active|sdf|40</td>\n",
       "      <td>0</td>\n",
       "      <td>0</td>\n",
       "      <td>0</td>\n",
       "      <td>0</td>\n",
       "      <td>0</td>\n",
       "      <td>0</td>\n",
       "      <td>0</td>\n",
       "      <td>0</td>\n",
       "      <td>...</td>\n",
       "      <td>0</td>\n",
       "      <td>0</td>\n",
       "      <td>1</td>\n",
       "      <td>0</td>\n",
       "      <td>0</td>\n",
       "      <td>0</td>\n",
       "      <td>0</td>\n",
       "      <td>0</td>\n",
       "      <td>0</td>\n",
       "      <td>active</td>\n",
       "    </tr>\n",
       "    <tr>\n",
       "      <th>85</th>\n",
       "      <td>86</td>\n",
       "      <td>68|VitaminE_allmin_decoy|sdf|68</td>\n",
       "      <td>0</td>\n",
       "      <td>0</td>\n",
       "      <td>0</td>\n",
       "      <td>0</td>\n",
       "      <td>0</td>\n",
       "      <td>0</td>\n",
       "      <td>0</td>\n",
       "      <td>0</td>\n",
       "      <td>...</td>\n",
       "      <td>0</td>\n",
       "      <td>0</td>\n",
       "      <td>1</td>\n",
       "      <td>0</td>\n",
       "      <td>0</td>\n",
       "      <td>0</td>\n",
       "      <td>0</td>\n",
       "      <td>0</td>\n",
       "      <td>0</td>\n",
       "      <td>inactive</td>\n",
       "    </tr>\n",
       "    <tr>\n",
       "      <th>86</th>\n",
       "      <td>87</td>\n",
       "      <td>103|VitaminE_allmin_active|sdf|103</td>\n",
       "      <td>0</td>\n",
       "      <td>0</td>\n",
       "      <td>0</td>\n",
       "      <td>0</td>\n",
       "      <td>0</td>\n",
       "      <td>0</td>\n",
       "      <td>0</td>\n",
       "      <td>0</td>\n",
       "      <td>...</td>\n",
       "      <td>0</td>\n",
       "      <td>0</td>\n",
       "      <td>1</td>\n",
       "      <td>0</td>\n",
       "      <td>0</td>\n",
       "      <td>0</td>\n",
       "      <td>0</td>\n",
       "      <td>0</td>\n",
       "      <td>0</td>\n",
       "      <td>active</td>\n",
       "    </tr>\n",
       "    <tr>\n",
       "      <th>87</th>\n",
       "      <td>88</td>\n",
       "      <td>127|VitaminE_allmin_active|sdf|127</td>\n",
       "      <td>0</td>\n",
       "      <td>0</td>\n",
       "      <td>0</td>\n",
       "      <td>0</td>\n",
       "      <td>0</td>\n",
       "      <td>0</td>\n",
       "      <td>0</td>\n",
       "      <td>0</td>\n",
       "      <td>...</td>\n",
       "      <td>1</td>\n",
       "      <td>0</td>\n",
       "      <td>1</td>\n",
       "      <td>0</td>\n",
       "      <td>0</td>\n",
       "      <td>0</td>\n",
       "      <td>0</td>\n",
       "      <td>0</td>\n",
       "      <td>0</td>\n",
       "      <td>active</td>\n",
       "    </tr>\n",
       "    <tr>\n",
       "      <th>88</th>\n",
       "      <td>89</td>\n",
       "      <td>70|VitaminE_allmin_decoy|sdf|70</td>\n",
       "      <td>0</td>\n",
       "      <td>0</td>\n",
       "      <td>0</td>\n",
       "      <td>0</td>\n",
       "      <td>0</td>\n",
       "      <td>0</td>\n",
       "      <td>0</td>\n",
       "      <td>0</td>\n",
       "      <td>...</td>\n",
       "      <td>0</td>\n",
       "      <td>0</td>\n",
       "      <td>1</td>\n",
       "      <td>0</td>\n",
       "      <td>0</td>\n",
       "      <td>0</td>\n",
       "      <td>0</td>\n",
       "      <td>0</td>\n",
       "      <td>0</td>\n",
       "      <td>inactive</td>\n",
       "    </tr>\n",
       "  </tbody>\n",
       "</table>\n",
       "<p>89 rows × 120 columns</p>\n",
       "</div>"
      ],
      "text/plain": [
       "    INDEX                                NAME  Hydrogen_Bond:GLN129B  \\\n",
       "0       1    28|VitaminE_allmin_active|sdf|28                      0   \n",
       "1       2  124|VitaminE_allmin_active|sdf|124                      0   \n",
       "2       3    47|VitaminE_allmin_active|sdf|47                      0   \n",
       "3       4    49|VitaminE_allmin_active|sdf|49                      0   \n",
       "4       5     63|VitaminE_allmin_decoy|sdf|63                      0   \n",
       "..    ...                                 ...                    ...   \n",
       "84     85    40|VitaminE_allmin_active|sdf|40                      0   \n",
       "85     86     68|VitaminE_allmin_decoy|sdf|68                      0   \n",
       "86     87  103|VitaminE_allmin_active|sdf|103                      0   \n",
       "87     88  127|VitaminE_allmin_active|sdf|127                      0   \n",
       "88     89     70|VitaminE_allmin_decoy|sdf|70                      0   \n",
       "\n",
       "    Hydrophobic_Interaction:VAL397B  Hydrophobic_Interaction:ASP170B  \\\n",
       "0                                 1                                0   \n",
       "1                                 1                                0   \n",
       "2                                 0                                0   \n",
       "3                                 1                                0   \n",
       "4                                 1                                0   \n",
       "..                              ...                              ...   \n",
       "84                                0                                0   \n",
       "85                                0                                0   \n",
       "86                                0                                0   \n",
       "87                                0                                0   \n",
       "88                                0                                0   \n",
       "\n",
       "    Hydrophobic_Interaction:ALA388B  Hydrogen_Bond:PHE169B  \\\n",
       "0                                 0                      0   \n",
       "1                                 1                      0   \n",
       "2                                 1                      0   \n",
       "3                                 1                      1   \n",
       "4                                 0                      0   \n",
       "..                              ...                    ...   \n",
       "84                                0                      0   \n",
       "85                                0                      0   \n",
       "86                                0                      0   \n",
       "87                                0                      0   \n",
       "88                                0                      0   \n",
       "\n",
       "    Pi-Stacking:HIS130B  Salt_Bridge:LYS133B  Hydrophobic_Interaction:GLN611B  \\\n",
       "0                     0                    0                                0   \n",
       "1                     0                    0                                0   \n",
       "2                     0                    0                                0   \n",
       "3                     0                    0                                0   \n",
       "4                     0                    0                                0   \n",
       "..                  ...                  ...                              ...   \n",
       "84                    0                    0                                0   \n",
       "85                    0                    0                                0   \n",
       "86                    0                    0                                0   \n",
       "87                    0                    0                                0   \n",
       "88                    0                    0                                0   \n",
       "\n",
       "    ...  Hydrogen_Bond:GLU134B  Hydrogen_Bond:ASP170B  \\\n",
       "0   ...                      0                      1   \n",
       "1   ...                      1                      0   \n",
       "2   ...                      0                      1   \n",
       "3   ...                      0                      1   \n",
       "4   ...                      0                      1   \n",
       "..  ...                    ...                    ...   \n",
       "84  ...                      0                      0   \n",
       "85  ...                      0                      0   \n",
       "86  ...                      0                      0   \n",
       "87  ...                      1                      0   \n",
       "88  ...                      0                      0   \n",
       "\n",
       "    Hydrophobic_Interaction:VAL107B  Hydrogen_Bond:ARG165B  \\\n",
       "0                                 1                      0   \n",
       "1                                 0                      0   \n",
       "2                                 0                      0   \n",
       "3                                 0                      0   \n",
       "4                                 0                      0   \n",
       "..                              ...                    ...   \n",
       "84                                1                      0   \n",
       "85                                1                      0   \n",
       "86                                1                      0   \n",
       "87                                1                      0   \n",
       "88                                1                      0   \n",
       "\n",
       "    Salt_Bridge:ARG138B  Hydrogen_Bond:THR137B  \\\n",
       "0                     0                      1   \n",
       "1                     0                      1   \n",
       "2                     0                      0   \n",
       "3                     0                      0   \n",
       "4                     0                      0   \n",
       "..                  ...                    ...   \n",
       "84                    0                      0   \n",
       "85                    0                      0   \n",
       "86                    0                      0   \n",
       "87                    0                      0   \n",
       "88                    0                      0   \n",
       "\n",
       "    Hydrophobic_Interaction:PHE169B  Salt_Bridge:ARG68B  Hydrogen_Bond:GLN15B  \\\n",
       "0                                 0                   0                     1   \n",
       "1                                 0                   0                     0   \n",
       "2                                 0                   0                     0   \n",
       "3                                 0                   0                     1   \n",
       "4                                 0                   0                     1   \n",
       "..                              ...                 ...                   ...   \n",
       "84                                0                   0                     0   \n",
       "85                                0                   0                     0   \n",
       "86                                0                   0                     0   \n",
       "87                                0                   0                     0   \n",
       "88                                0                   0                     0   \n",
       "\n",
       "       LABEL  \n",
       "0     active  \n",
       "1     active  \n",
       "2     active  \n",
       "3     active  \n",
       "4   inactive  \n",
       "..       ...  \n",
       "84    active  \n",
       "85  inactive  \n",
       "86    active  \n",
       "87    active  \n",
       "88  inactive  \n",
       "\n",
       "[89 rows x 120 columns]"
      ]
     },
     "execution_count": 5,
     "metadata": {},
     "output_type": "execute_result"
    }
   ],
   "source": [
    "data_train"
   ]
  },
  {
   "cell_type": "code",
   "execution_count": 6,
   "id": "dress-excerpt",
   "metadata": {},
   "outputs": [
    {
     "name": "stdout",
     "output_type": "stream",
     "text": [
      "Training dataset shape & Nr. of actives:\n",
      "(89, 120) 62\n"
     ]
    }
   ],
   "source": [
    "print(\"Training dataset shape & Nr. of actives:\")\n",
    "print(data_train.shape, len(data_train.loc[data_train[\"LABEL\"] == \"active\"]))"
   ]
  },
  {
   "cell_type": "code",
   "execution_count": 7,
   "id": "australian-apparel",
   "metadata": {},
   "outputs": [
    {
     "name": "stdout",
     "output_type": "stream",
     "text": [
      "Validation dataset shape & Nr. of actives:\n",
      "(23, 120) 16\n"
     ]
    }
   ],
   "source": [
    "print(\"Validation dataset shape & Nr. of actives:\")\n",
    "print(data_val.shape, len(data_val.loc[data_val[\"LABEL\"] == \"active\"]))"
   ]
  },
  {
   "cell_type": "code",
   "execution_count": 8,
   "id": "judicial-marker",
   "metadata": {},
   "outputs": [
    {
     "name": "stdout",
     "output_type": "stream",
     "text": [
      "Test dataset shape & Nr. of actives:\n",
      "(29, 120) 19\n"
     ]
    }
   ],
   "source": [
    "print(\"Test dataset shape & Nr. of actives:\")\n",
    "print(data_test.shape, len(data_test.loc[data_test[\"LABEL\"] == \"active\"]))"
   ]
  },
  {
   "cell_type": "code",
   "execution_count": 9,
   "id": "western-emperor",
   "metadata": {},
   "outputs": [
    {
     "data": {
      "text/html": [
       "<div>\n",
       "<style scoped>\n",
       "    .dataframe tbody tr th:only-of-type {\n",
       "        vertical-align: middle;\n",
       "    }\n",
       "\n",
       "    .dataframe tbody tr th {\n",
       "        vertical-align: top;\n",
       "    }\n",
       "\n",
       "    .dataframe thead th {\n",
       "        text-align: right;\n",
       "    }\n",
       "</style>\n",
       "<table border=\"1\" class=\"dataframe\">\n",
       "  <thead>\n",
       "    <tr style=\"text-align: right;\">\n",
       "      <th></th>\n",
       "      <th>INDEX</th>\n",
       "      <th>INTERACTION</th>\n",
       "      <th>DIFFERENCE</th>\n",
       "      <th>ACTIVE_FREQUENCY</th>\n",
       "      <th>INACTIVE_FREQUENCY</th>\n",
       "    </tr>\n",
       "  </thead>\n",
       "  <tbody>\n",
       "    <tr>\n",
       "      <th>0</th>\n",
       "      <td>1</td>\n",
       "      <td>Hydrophobic_Interaction:PHE393B</td>\n",
       "      <td>0.267025</td>\n",
       "      <td>0.177419</td>\n",
       "      <td>0.444444</td>\n",
       "    </tr>\n",
       "    <tr>\n",
       "      <th>1</th>\n",
       "      <td>2</td>\n",
       "      <td>Hydrophobic_Interaction:ARG101B</td>\n",
       "      <td>0.246117</td>\n",
       "      <td>0.161290</td>\n",
       "      <td>0.407407</td>\n",
       "    </tr>\n",
       "    <tr>\n",
       "      <th>2</th>\n",
       "      <td>3</td>\n",
       "      <td>Hydrogen_Bond:GLN15B</td>\n",
       "      <td>0.213859</td>\n",
       "      <td>0.193548</td>\n",
       "      <td>0.407407</td>\n",
       "    </tr>\n",
       "    <tr>\n",
       "      <th>3</th>\n",
       "      <td>4</td>\n",
       "      <td>Hydrogen_Bond:VAL110B</td>\n",
       "      <td>0.188172</td>\n",
       "      <td>0.854839</td>\n",
       "      <td>0.666667</td>\n",
       "    </tr>\n",
       "    <tr>\n",
       "      <th>4</th>\n",
       "      <td>5</td>\n",
       "      <td>Hydrogen_Bond:GLU134B</td>\n",
       "      <td>0.185783</td>\n",
       "      <td>0.370968</td>\n",
       "      <td>0.185185</td>\n",
       "    </tr>\n",
       "    <tr>\n",
       "      <th>...</th>\n",
       "      <td>...</td>\n",
       "      <td>...</td>\n",
       "      <td>...</td>\n",
       "      <td>...</td>\n",
       "      <td>...</td>\n",
       "    </tr>\n",
       "    <tr>\n",
       "      <th>112</th>\n",
       "      <td>113</td>\n",
       "      <td>Hydrogen_Bond:ASP106B</td>\n",
       "      <td>0.004779</td>\n",
       "      <td>0.032258</td>\n",
       "      <td>0.037037</td>\n",
       "    </tr>\n",
       "    <tr>\n",
       "      <th>113</th>\n",
       "      <td>114</td>\n",
       "      <td>Pi-Stacking:PHE402B</td>\n",
       "      <td>0.004779</td>\n",
       "      <td>0.032258</td>\n",
       "      <td>0.037037</td>\n",
       "    </tr>\n",
       "    <tr>\n",
       "      <th>114</th>\n",
       "      <td>115</td>\n",
       "      <td>Hydrogen_Bond:ARG165B</td>\n",
       "      <td>0.004779</td>\n",
       "      <td>0.032258</td>\n",
       "      <td>0.037037</td>\n",
       "    </tr>\n",
       "    <tr>\n",
       "      <th>115</th>\n",
       "      <td>116</td>\n",
       "      <td>Hydrogen_Bond:THR137B</td>\n",
       "      <td>0.004779</td>\n",
       "      <td>0.032258</td>\n",
       "      <td>0.037037</td>\n",
       "    </tr>\n",
       "    <tr>\n",
       "      <th>116</th>\n",
       "      <td>117</td>\n",
       "      <td>Hydrophobic_Interaction:GLU134B</td>\n",
       "      <td>0.000597</td>\n",
       "      <td>0.370968</td>\n",
       "      <td>0.370370</td>\n",
       "    </tr>\n",
       "  </tbody>\n",
       "</table>\n",
       "<p>117 rows × 5 columns</p>\n",
       "</div>"
      ],
      "text/plain": [
       "     INDEX                      INTERACTION  DIFFERENCE  ACTIVE_FREQUENCY  \\\n",
       "0        1  Hydrophobic_Interaction:PHE393B    0.267025          0.177419   \n",
       "1        2  Hydrophobic_Interaction:ARG101B    0.246117          0.161290   \n",
       "2        3             Hydrogen_Bond:GLN15B    0.213859          0.193548   \n",
       "3        4            Hydrogen_Bond:VAL110B    0.188172          0.854839   \n",
       "4        5            Hydrogen_Bond:GLU134B    0.185783          0.370968   \n",
       "..     ...                              ...         ...               ...   \n",
       "112    113            Hydrogen_Bond:ASP106B    0.004779          0.032258   \n",
       "113    114              Pi-Stacking:PHE402B    0.004779          0.032258   \n",
       "114    115            Hydrogen_Bond:ARG165B    0.004779          0.032258   \n",
       "115    116            Hydrogen_Bond:THR137B    0.004779          0.032258   \n",
       "116    117  Hydrophobic_Interaction:GLU134B    0.000597          0.370968   \n",
       "\n",
       "     INACTIVE_FREQUENCY  \n",
       "0              0.444444  \n",
       "1              0.407407  \n",
       "2              0.407407  \n",
       "3              0.666667  \n",
       "4              0.185185  \n",
       "..                  ...  \n",
       "112            0.037037  \n",
       "113            0.037037  \n",
       "114            0.037037  \n",
       "115            0.037037  \n",
       "116            0.370370  \n",
       "\n",
       "[117 rows x 5 columns]"
      ]
     },
     "execution_count": 9,
     "metadata": {},
     "output_type": "execute_result"
    }
   ],
   "source": [
    "features"
   ]
  },
  {
   "cell_type": "markdown",
   "id": "tired-smile",
   "metadata": {},
   "source": [
    "#### **Extract relevant features:**"
   ]
  },
  {
   "cell_type": "code",
   "execution_count": 10,
   "id": "sacred-pennsylvania",
   "metadata": {},
   "outputs": [
    {
     "data": {
      "text/html": [
       "<div>\n",
       "<style scoped>\n",
       "    .dataframe tbody tr th:only-of-type {\n",
       "        vertical-align: middle;\n",
       "    }\n",
       "\n",
       "    .dataframe tbody tr th {\n",
       "        vertical-align: top;\n",
       "    }\n",
       "\n",
       "    .dataframe thead th {\n",
       "        text-align: right;\n",
       "    }\n",
       "</style>\n",
       "<table border=\"1\" class=\"dataframe\">\n",
       "  <thead>\n",
       "    <tr style=\"text-align: right;\">\n",
       "      <th></th>\n",
       "      <th>INDEX</th>\n",
       "      <th>INTERACTION</th>\n",
       "      <th>DIFFERENCE</th>\n",
       "      <th>ACTIVE_FREQUENCY</th>\n",
       "      <th>INACTIVE_FREQUENCY</th>\n",
       "    </tr>\n",
       "  </thead>\n",
       "  <tbody>\n",
       "    <tr>\n",
       "      <th>0</th>\n",
       "      <td>1</td>\n",
       "      <td>Hydrophobic_Interaction:PHE393B</td>\n",
       "      <td>0.267025</td>\n",
       "      <td>0.177419</td>\n",
       "      <td>0.444444</td>\n",
       "    </tr>\n",
       "    <tr>\n",
       "      <th>1</th>\n",
       "      <td>2</td>\n",
       "      <td>Hydrophobic_Interaction:ARG101B</td>\n",
       "      <td>0.246117</td>\n",
       "      <td>0.161290</td>\n",
       "      <td>0.407407</td>\n",
       "    </tr>\n",
       "    <tr>\n",
       "      <th>2</th>\n",
       "      <td>3</td>\n",
       "      <td>Hydrogen_Bond:GLN15B</td>\n",
       "      <td>0.213859</td>\n",
       "      <td>0.193548</td>\n",
       "      <td>0.407407</td>\n",
       "    </tr>\n",
       "    <tr>\n",
       "      <th>3</th>\n",
       "      <td>4</td>\n",
       "      <td>Hydrogen_Bond:VAL110B</td>\n",
       "      <td>0.188172</td>\n",
       "      <td>0.854839</td>\n",
       "      <td>0.666667</td>\n",
       "    </tr>\n",
       "    <tr>\n",
       "      <th>4</th>\n",
       "      <td>5</td>\n",
       "      <td>Hydrogen_Bond:GLU134B</td>\n",
       "      <td>0.185783</td>\n",
       "      <td>0.370968</td>\n",
       "      <td>0.185185</td>\n",
       "    </tr>\n",
       "    <tr>\n",
       "      <th>5</th>\n",
       "      <td>6</td>\n",
       "      <td>Hydrogen_Bond:GLU108B</td>\n",
       "      <td>0.181004</td>\n",
       "      <td>0.403226</td>\n",
       "      <td>0.222222</td>\n",
       "    </tr>\n",
       "    <tr>\n",
       "      <th>6</th>\n",
       "      <td>7</td>\n",
       "      <td>Hydrophobic_Interaction:TYR383B</td>\n",
       "      <td>0.172043</td>\n",
       "      <td>0.161290</td>\n",
       "      <td>0.333333</td>\n",
       "    </tr>\n",
       "    <tr>\n",
       "      <th>7</th>\n",
       "      <td>8</td>\n",
       "      <td>Hydrophobic_Interaction:VAL397B</td>\n",
       "      <td>0.167264</td>\n",
       "      <td>0.129032</td>\n",
       "      <td>0.296296</td>\n",
       "    </tr>\n",
       "    <tr>\n",
       "      <th>8</th>\n",
       "      <td>9</td>\n",
       "      <td>Hydrophobic_Interaction:GLN141B</td>\n",
       "      <td>0.167264</td>\n",
       "      <td>0.129032</td>\n",
       "      <td>0.296296</td>\n",
       "    </tr>\n",
       "    <tr>\n",
       "      <th>9</th>\n",
       "      <td>10</td>\n",
       "      <td>Hydrophobic_Interaction:ASP166B</td>\n",
       "      <td>0.167264</td>\n",
       "      <td>0.129032</td>\n",
       "      <td>0.296296</td>\n",
       "    </tr>\n",
       "    <tr>\n",
       "      <th>10</th>\n",
       "      <td>11</td>\n",
       "      <td>Hydrophobic_Interaction:LYS133B</td>\n",
       "      <td>0.150538</td>\n",
       "      <td>0.483871</td>\n",
       "      <td>0.333333</td>\n",
       "    </tr>\n",
       "    <tr>\n",
       "      <th>11</th>\n",
       "      <td>12</td>\n",
       "      <td>Hydrogen_Bond:ASP170B</td>\n",
       "      <td>0.146953</td>\n",
       "      <td>0.258065</td>\n",
       "      <td>0.111111</td>\n",
       "    </tr>\n",
       "    <tr>\n",
       "      <th>15</th>\n",
       "      <td>16</td>\n",
       "      <td>Hydrogen_Bond:ARG101B</td>\n",
       "      <td>0.111708</td>\n",
       "      <td>0.629032</td>\n",
       "      <td>0.740741</td>\n",
       "    </tr>\n",
       "    <tr>\n",
       "      <th>16</th>\n",
       "      <td>17</td>\n",
       "      <td>Hydrogen_Bond:TRP102B</td>\n",
       "      <td>0.105735</td>\n",
       "      <td>0.338710</td>\n",
       "      <td>0.444444</td>\n",
       "    </tr>\n",
       "    <tr>\n",
       "      <th>25</th>\n",
       "      <td>26</td>\n",
       "      <td>Hydrophobic_Interaction:ALA388B</td>\n",
       "      <td>0.093787</td>\n",
       "      <td>0.241935</td>\n",
       "      <td>0.148148</td>\n",
       "    </tr>\n",
       "    <tr>\n",
       "      <th>26</th>\n",
       "      <td>27</td>\n",
       "      <td>Hydrophobic_Interaction:GLU108B</td>\n",
       "      <td>0.090800</td>\n",
       "      <td>0.387097</td>\n",
       "      <td>0.296296</td>\n",
       "    </tr>\n",
       "    <tr>\n",
       "      <th>27</th>\n",
       "      <td>28</td>\n",
       "      <td>Hydrophobic_Interaction:THR137B</td>\n",
       "      <td>0.090800</td>\n",
       "      <td>0.387097</td>\n",
       "      <td>0.296296</td>\n",
       "    </tr>\n",
       "    <tr>\n",
       "      <th>37</th>\n",
       "      <td>38</td>\n",
       "      <td>Hydrophobic_Interaction:VAL107B</td>\n",
       "      <td>0.071685</td>\n",
       "      <td>0.516129</td>\n",
       "      <td>0.444444</td>\n",
       "    </tr>\n",
       "    <tr>\n",
       "      <th>40</th>\n",
       "      <td>41</td>\n",
       "      <td>Salt_Bridge:HIS130B</td>\n",
       "      <td>0.061529</td>\n",
       "      <td>0.209677</td>\n",
       "      <td>0.148148</td>\n",
       "    </tr>\n",
       "    <tr>\n",
       "      <th>44</th>\n",
       "      <td>45</td>\n",
       "      <td>Hydrophobic_Interaction:LEU111B</td>\n",
       "      <td>0.050179</td>\n",
       "      <td>0.161290</td>\n",
       "      <td>0.111111</td>\n",
       "    </tr>\n",
       "  </tbody>\n",
       "</table>\n",
       "</div>"
      ],
      "text/plain": [
       "    INDEX                      INTERACTION  DIFFERENCE  ACTIVE_FREQUENCY  \\\n",
       "0       1  Hydrophobic_Interaction:PHE393B    0.267025          0.177419   \n",
       "1       2  Hydrophobic_Interaction:ARG101B    0.246117          0.161290   \n",
       "2       3             Hydrogen_Bond:GLN15B    0.213859          0.193548   \n",
       "3       4            Hydrogen_Bond:VAL110B    0.188172          0.854839   \n",
       "4       5            Hydrogen_Bond:GLU134B    0.185783          0.370968   \n",
       "5       6            Hydrogen_Bond:GLU108B    0.181004          0.403226   \n",
       "6       7  Hydrophobic_Interaction:TYR383B    0.172043          0.161290   \n",
       "7       8  Hydrophobic_Interaction:VAL397B    0.167264          0.129032   \n",
       "8       9  Hydrophobic_Interaction:GLN141B    0.167264          0.129032   \n",
       "9      10  Hydrophobic_Interaction:ASP166B    0.167264          0.129032   \n",
       "10     11  Hydrophobic_Interaction:LYS133B    0.150538          0.483871   \n",
       "11     12            Hydrogen_Bond:ASP170B    0.146953          0.258065   \n",
       "15     16            Hydrogen_Bond:ARG101B    0.111708          0.629032   \n",
       "16     17            Hydrogen_Bond:TRP102B    0.105735          0.338710   \n",
       "25     26  Hydrophobic_Interaction:ALA388B    0.093787          0.241935   \n",
       "26     27  Hydrophobic_Interaction:GLU108B    0.090800          0.387097   \n",
       "27     28  Hydrophobic_Interaction:THR137B    0.090800          0.387097   \n",
       "37     38  Hydrophobic_Interaction:VAL107B    0.071685          0.516129   \n",
       "40     41              Salt_Bridge:HIS130B    0.061529          0.209677   \n",
       "44     45  Hydrophobic_Interaction:LEU111B    0.050179          0.161290   \n",
       "\n",
       "    INACTIVE_FREQUENCY  \n",
       "0             0.444444  \n",
       "1             0.407407  \n",
       "2             0.407407  \n",
       "3             0.666667  \n",
       "4             0.185185  \n",
       "5             0.222222  \n",
       "6             0.333333  \n",
       "7             0.296296  \n",
       "8             0.296296  \n",
       "9             0.296296  \n",
       "10            0.333333  \n",
       "11            0.111111  \n",
       "15            0.740741  \n",
       "16            0.444444  \n",
       "25            0.148148  \n",
       "26            0.296296  \n",
       "27            0.296296  \n",
       "37            0.444444  \n",
       "40            0.148148  \n",
       "44            0.111111  "
      ]
     },
     "execution_count": 10,
     "metadata": {},
     "output_type": "execute_result"
    }
   ],
   "source": [
    "features_filtered = get_relevant_features(features)\n",
    "features_filtered"
   ]
  },
  {
   "cell_type": "code",
   "execution_count": 11,
   "id": "relevant-cincinnati",
   "metadata": {},
   "outputs": [],
   "source": [
    "# some error checking -- should print nothing\n",
    "for item in features_filtered[\"INTERACTION\"].to_list():\n",
    "    if item not in data_train.columns.to_list():\n",
    "        print(item)"
   ]
  },
  {
   "cell_type": "markdown",
   "id": "hazardous-deposit",
   "metadata": {},
   "source": [
    "#### **Get positive features (e.g. features that have a positive impact on activeness) and negative features:**"
   ]
  },
  {
   "cell_type": "code",
   "execution_count": 12,
   "id": "indoor-amendment",
   "metadata": {},
   "outputs": [],
   "source": [
    "positives, negatives = get_feature_impact(features_filtered)"
   ]
  },
  {
   "cell_type": "code",
   "execution_count": 13,
   "id": "reduced-heart",
   "metadata": {},
   "outputs": [
    {
     "data": {
      "text/plain": [
       "['Hydrogen_Bond:VAL110B',\n",
       " 'Hydrogen_Bond:GLU134B',\n",
       " 'Hydrogen_Bond:GLU108B',\n",
       " 'Hydrophobic_Interaction:LYS133B',\n",
       " 'Hydrogen_Bond:ASP170B',\n",
       " 'Hydrophobic_Interaction:ALA388B',\n",
       " 'Hydrophobic_Interaction:GLU108B',\n",
       " 'Hydrophobic_Interaction:THR137B',\n",
       " 'Hydrophobic_Interaction:VAL107B',\n",
       " 'Salt_Bridge:HIS130B',\n",
       " 'Hydrophobic_Interaction:LEU111B']"
      ]
     },
     "execution_count": 13,
     "metadata": {},
     "output_type": "execute_result"
    }
   ],
   "source": [
    "positives"
   ]
  },
  {
   "cell_type": "code",
   "execution_count": 14,
   "id": "valid-palestine",
   "metadata": {},
   "outputs": [
    {
     "data": {
      "text/plain": [
       "['Hydrophobic_Interaction:PHE393B',\n",
       " 'Hydrophobic_Interaction:ARG101B',\n",
       " 'Hydrogen_Bond:GLN15B',\n",
       " 'Hydrophobic_Interaction:TYR383B',\n",
       " 'Hydrophobic_Interaction:VAL397B',\n",
       " 'Hydrophobic_Interaction:GLN141B',\n",
       " 'Hydrophobic_Interaction:ASP166B',\n",
       " 'Hydrogen_Bond:ARG101B',\n",
       " 'Hydrogen_Bond:TRP102B']"
      ]
     },
     "execution_count": 14,
     "metadata": {},
     "output_type": "execute_result"
    }
   ],
   "source": [
    "negatives"
   ]
  },
  {
   "cell_type": "markdown",
   "id": "under-walter",
   "metadata": {},
   "source": [
    "#### **Score Compounds with different strategies & save results:**"
   ]
  },
  {
   "cell_type": "code",
   "execution_count": 15,
   "id": "collaborative-thong",
   "metadata": {},
   "outputs": [],
   "source": [
    "# make data copies\n",
    "train_result_strat1 = data_train.copy()\n",
    "train_result_strat2 = data_train.copy()\n",
    "train_result_strat3 = data_train.copy()\n",
    "train_result_strat4 = data_train.copy()\n",
    "# calculate scores\n",
    "train_result_strat1[\"SCORE\"] = train_result_strat1.apply(lambda x: score(x, positives, negatives, \"+\"), axis = 1)\n",
    "train_result_strat2[\"SCORE\"] = train_result_strat2.apply(lambda x: score(x, positives, negatives, \"++\"), axis = 1)\n",
    "train_result_strat3[\"SCORE\"] = train_result_strat3.apply(lambda x: score(x, positives, negatives, \"+-\"), axis = 1)\n",
    "train_result_strat4[\"SCORE\"] = train_result_strat4.apply(lambda x: score(x, positives, negatives, \"++--\"), axis = 1)\n",
    "# sort data\n",
    "train_result_strat1_sorted = train_result_strat1.sort_values(by = \"SCORE\", ascending = False)\n",
    "train_result_strat2_sorted = train_result_strat2.sort_values(by = \"SCORE\", ascending = False)\n",
    "train_result_strat3_sorted = train_result_strat3.sort_values(by = \"SCORE\", ascending = False)\n",
    "train_result_strat4_sorted = train_result_strat4.sort_values(by = \"SCORE\", ascending = False)\n",
    "# save data\n",
    "# train_result_strat1_sorted.to_csv(\"train_scores1.csv\")\n",
    "# train_result_strat2_sorted.to_csv(\"train_scores2.csv\")\n",
    "# train_result_strat3_sorted.to_csv(\"train_scores3.csv\")\n",
    "# train_result_strat4_sorted.to_csv(\"train_scores4.csv\")"
   ]
  },
  {
   "cell_type": "markdown",
   "id": "adaptive-documentation",
   "metadata": {},
   "source": [
    "#### **Find best cutoff value and print metrics:**"
   ]
  },
  {
   "cell_type": "markdown",
   "id": "spare-devon",
   "metadata": {},
   "source": [
    "*cutoff/accuracy for different strategies:*"
   ]
  },
  {
   "cell_type": "code",
   "execution_count": 16,
   "id": "civil-advice",
   "metadata": {},
   "outputs": [
    {
     "name": "stdout",
     "output_type": "stream",
     "text": [
      "Strategy 1:  [0, 0.6966292134831461] \n",
      "Strategy 2:  [0, 0.6966292134831461] \n",
      "Strategy 3:  [-3, 0.7528089887640449] \n",
      "Strategy 4:  [-4, 0.7528089887640449]\n"
     ]
    }
   ],
   "source": [
    "print(\n",
    "\"Strategy 1: \",\n",
    "get_cutoff(train_result_strat1[\"LABEL\"].to_list(), train_result_strat1[\"SCORE\"].to_list()),\n",
    "\"\\nStrategy 2: \",\n",
    "get_cutoff(train_result_strat2[\"LABEL\"].to_list(), train_result_strat2[\"SCORE\"].to_list()),\n",
    "\"\\nStrategy 3: \",\n",
    "get_cutoff(train_result_strat3[\"LABEL\"].to_list(), train_result_strat3[\"SCORE\"].to_list()),\n",
    "\"\\nStrategy 4: \",\n",
    "get_cutoff(train_result_strat4[\"LABEL\"].to_list(), train_result_strat4[\"SCORE\"].to_list())\n",
    ")"
   ]
  },
  {
   "cell_type": "markdown",
   "id": "herbal-clerk",
   "metadata": {},
   "source": [
    "*accuracy for best cutoff:*"
   ]
  },
  {
   "cell_type": "code",
   "execution_count": 17,
   "id": "upset-campaign",
   "metadata": {},
   "outputs": [
    {
     "name": "stdout",
     "output_type": "stream",
     "text": [
      "Strategy 1:  0.6966292134831461 \n",
      "Strategy 2:  0.6966292134831461 \n",
      "Strategy 3:  0.7528089887640449 \n",
      "Strategy 4:  0.7528089887640449\n"
     ]
    }
   ],
   "source": [
    "print(\n",
    "\"Strategy 1: \",\n",
    "test_cutoff(train_result_strat1[\"LABEL\"].to_list(), train_result_strat1[\"SCORE\"].to_list(), 0, \"accuracy\"),\n",
    "\"\\nStrategy 2: \",\n",
    "test_cutoff(train_result_strat2[\"LABEL\"].to_list(), train_result_strat2[\"SCORE\"].to_list(), 0, \"accuracy\"),\n",
    "\"\\nStrategy 3: \",\n",
    "test_cutoff(train_result_strat3[\"LABEL\"].to_list(), train_result_strat3[\"SCORE\"].to_list(), -3, \"accuracy\"),\n",
    "\"\\nStrategy 4: \",\n",
    "test_cutoff(train_result_strat4[\"LABEL\"].to_list(), train_result_strat4[\"SCORE\"].to_list(), -4, \"accuracy\")\n",
    ")"
   ]
  },
  {
   "cell_type": "markdown",
   "id": "ultimate-ballot",
   "metadata": {},
   "source": [
    "*false positive rate for best cutoff:*"
   ]
  },
  {
   "cell_type": "code",
   "execution_count": 18,
   "id": "stretch-windows",
   "metadata": {},
   "outputs": [
    {
     "name": "stdout",
     "output_type": "stream",
     "text": [
      "Strategy 1:  1.0 \n",
      "Strategy 2:  1.0 \n",
      "Strategy 3:  0.7037037037037037 \n",
      "Strategy 4:  0.7777777777777778\n"
     ]
    }
   ],
   "source": [
    "print(\n",
    "\"Strategy 1: \",\n",
    "test_cutoff(train_result_strat1[\"LABEL\"].to_list(), train_result_strat1[\"SCORE\"].to_list(), 0, \"fpr\"),\n",
    "\"\\nStrategy 2: \",\n",
    "test_cutoff(train_result_strat2[\"LABEL\"].to_list(), train_result_strat2[\"SCORE\"].to_list(), 0, \"fpr\"),\n",
    "\"\\nStrategy 3: \",\n",
    "test_cutoff(train_result_strat3[\"LABEL\"].to_list(), train_result_strat3[\"SCORE\"].to_list(), -3, \"fpr\"),\n",
    "\"\\nStrategy 4: \",\n",
    "test_cutoff(train_result_strat4[\"LABEL\"].to_list(), train_result_strat4[\"SCORE\"].to_list(), -4, \"fpr\")\n",
    ")"
   ]
  },
  {
   "cell_type": "markdown",
   "id": "devoted-allocation",
   "metadata": {},
   "source": [
    "#### **Calculate validation and test results:**"
   ]
  },
  {
   "cell_type": "code",
   "execution_count": 19,
   "id": "direct-bolivia",
   "metadata": {},
   "outputs": [],
   "source": [
    "# make data copies\n",
    "val_result_strat1 = data_val.copy()\n",
    "val_result_strat2 = data_val.copy()\n",
    "val_result_strat3 = data_val.copy()\n",
    "val_result_strat4 = data_val.copy()\n",
    "# calculate scores\n",
    "val_result_strat1[\"SCORE\"] = val_result_strat1.apply(lambda x: score(x, positives, negatives, \"+\"), axis = 1)\n",
    "val_result_strat2[\"SCORE\"] = val_result_strat2.apply(lambda x: score(x, positives, negatives, \"++\"), axis = 1)\n",
    "val_result_strat3[\"SCORE\"] = val_result_strat3.apply(lambda x: score(x, positives, negatives, \"+-\"), axis = 1)\n",
    "val_result_strat4[\"SCORE\"] = val_result_strat4.apply(lambda x: score(x, positives, negatives, \"++--\"), axis = 1)\n",
    "# sort data\n",
    "val_result_strat1_sorted = val_result_strat1.sort_values(by = \"SCORE\", ascending = False)\n",
    "val_result_strat2_sorted = val_result_strat2.sort_values(by = \"SCORE\", ascending = False)\n",
    "val_result_strat3_sorted = val_result_strat3.sort_values(by = \"SCORE\", ascending = False)\n",
    "val_result_strat4_sorted = val_result_strat4.sort_values(by = \"SCORE\", ascending = False)"
   ]
  },
  {
   "cell_type": "code",
   "execution_count": 20,
   "id": "cheap-contact",
   "metadata": {},
   "outputs": [],
   "source": [
    "# make data copies\n",
    "test_result_strat1 = data_test.copy()\n",
    "test_result_strat2 = data_test.copy()\n",
    "test_result_strat3 = data_test.copy()\n",
    "test_result_strat4 = data_test.copy()\n",
    "# calculate scores\n",
    "test_result_strat1[\"SCORE\"] = test_result_strat1.apply(lambda x: score(x, positives, negatives, \"+\"), axis = 1)\n",
    "test_result_strat2[\"SCORE\"] = test_result_strat2.apply(lambda x: score(x, positives, negatives, \"++\"), axis = 1)\n",
    "test_result_strat3[\"SCORE\"] = test_result_strat3.apply(lambda x: score(x, positives, negatives, \"+-\"), axis = 1)\n",
    "test_result_strat4[\"SCORE\"] = test_result_strat4.apply(lambda x: score(x, positives, negatives, \"++--\"), axis = 1)\n",
    "# sort data\n",
    "test_result_strat1_sorted = test_result_strat1.sort_values(by = \"SCORE\", ascending = False)\n",
    "test_result_strat2_sorted = test_result_strat2.sort_values(by = \"SCORE\", ascending = False)\n",
    "test_result_strat3_sorted = test_result_strat3.sort_values(by = \"SCORE\", ascending = False)\n",
    "test_result_strat4_sorted = test_result_strat4.sort_values(by = \"SCORE\", ascending = False)"
   ]
  },
  {
   "cell_type": "markdown",
   "id": "rubber-major",
   "metadata": {},
   "source": [
    "#### **Quality metrics for training and validation data:**"
   ]
  },
  {
   "cell_type": "markdown",
   "id": "ancient-faculty",
   "metadata": {},
   "source": [
    "*training data:*"
   ]
  },
  {
   "cell_type": "code",
   "execution_count": 21,
   "id": "charged-sullivan",
   "metadata": {},
   "outputs": [
    {
     "name": "stdout",
     "output_type": "stream",
     "text": [
      "Strategy 1:  {'ACC': 0.6966292134831461, 'FPR': 1.0, 'AUC': 0.6624850657108721, 'Ya': 0.6966292134831461, 'EF': 1.0, 'REF': 100.0} \n",
      "Strategy 2:  {'ACC': 0.6966292134831461, 'FPR': 1.0, 'AUC': 0.6708482676224612, 'Ya': 0.6966292134831461, 'EF': 1.0, 'REF': 100.0} \n",
      "Strategy 3:  {'ACC': 0.7528089887640449, 'FPR': 0.7037037037037037, 'AUC': 0.6941457586618878, 'Ya': 0.7564102564102564, 'EF': 1.085814722911497, 'REF': 95.16129032258064} \n",
      "Strategy 4:  {'ACC': 0.7528089887640449, 'FPR': 0.7777777777777778, 'AUC': 0.7090800477897252, 'Ya': 0.7439024390243902, 'EF': 1.0678599527930763, 'REF': 98.38709677419355}\n"
     ]
    }
   ],
   "source": [
    "print(\n",
    "\"Strategy 1: \",\n",
    "get_metrics(train_result_strat1, 0, pretty_print = True),\n",
    "\"\\nStrategy 2: \",\n",
    "get_metrics(train_result_strat2, 0, pretty_print = True),\n",
    "\"\\nStrategy 3: \",\n",
    "get_metrics(train_result_strat3, -3, pretty_print = True),\n",
    "\"\\nStrategy 4: \",\n",
    "get_metrics(train_result_strat4, -4, pretty_print = True)\n",
    ")"
   ]
  },
  {
   "cell_type": "code",
   "execution_count": 22,
   "id": "another-brook",
   "metadata": {},
   "outputs": [
    {
     "data": {
      "image/png": "[encoded data removed]",
      "text/plain": [
       "<Figure size 720x720 with 2 Axes>"
      ]
     },
     "metadata": {
      "needs_background": "light"
     },
     "output_type": "display_data"
    }
   ],
   "source": [
    "plot_confusion_matrix(get_metrics(train_result_strat4, -4)[\"CM\"], classes = [0, 1], filename = \"results/CM_train_strat4.png\");"
   ]
  },
  {
   "cell_type": "code",
   "execution_count": 23,
   "id": "younger-consultancy",
   "metadata": {},
   "outputs": [
    {
     "data": {
      "image/png": "[encoded data removed]",
      "text/plain": [
       "<Figure size 720x720 with 1 Axes>"
      ]
     },
     "metadata": {
      "needs_background": "light"
     },
     "output_type": "display_data"
    }
   ],
   "source": [
    "roc = get_metrics(train_result_strat4, -4)[\"ROC\"]\n",
    "plot_ROC_curve(roc[\"fpr\"], roc[\"tpr\"], filename = \"results/ROC_train_strat4.png\");"
   ]
  },
  {
   "cell_type": "markdown",
   "id": "agreed-ideal",
   "metadata": {},
   "source": [
    "*validation data:*"
   ]
  },
  {
   "cell_type": "code",
   "execution_count": 24,
   "id": "filled-native",
   "metadata": {},
   "outputs": [
    {
     "name": "stdout",
     "output_type": "stream",
     "text": [
      "Strategy 1:  {'ACC': 0.6956521739130435, 'FPR': 1.0, 'AUC': 0.5892857142857142, 'Ya': 0.6956521739130435, 'EF': 1.0, 'REF': 100.0} \n",
      "Strategy 2:  {'ACC': 0.6956521739130435, 'FPR': 1.0, 'AUC': 0.59375, 'Ya': 0.6956521739130435, 'EF': 1.0, 'REF': 100.0} \n",
      "Strategy 3:  {'ACC': 0.782608695652174, 'FPR': 0.7142857142857143, 'AUC': 0.6830357142857143, 'Ya': 0.7619047619047619, 'EF': 1.0952380952380951, 'REF': 100.0} \n",
      "Strategy 4:  {'ACC': 0.7391304347826086, 'FPR': 0.8571428571428571, 'AUC': 0.6696428571428572, 'Ya': 0.7272727272727273, 'EF': 1.0454545454545454, 'REF': 100.0}\n"
     ]
    }
   ],
   "source": [
    "print(\n",
    "\"Strategy 1: \",\n",
    "get_metrics(val_result_strat1, 0, pretty_print = True),\n",
    "\"\\nStrategy 2: \",\n",
    "get_metrics(val_result_strat2, 0, pretty_print = True),\n",
    "\"\\nStrategy 3: \",\n",
    "get_metrics(val_result_strat3, -3, pretty_print = True),\n",
    "\"\\nStrategy 4: \",\n",
    "get_metrics(val_result_strat4, -4, pretty_print = True)\n",
    ")"
   ]
  },
  {
   "cell_type": "code",
   "execution_count": 25,
   "id": "floppy-checklist",
   "metadata": {},
   "outputs": [
    {
     "data": {
      "image/png": "[encoded data removed]",
      "text/plain": [
       "<Figure size 720x720 with 2 Axes>"
      ]
     },
     "metadata": {
      "needs_background": "light"
     },
     "output_type": "display_data"
    }
   ],
   "source": [
    "plot_confusion_matrix(get_metrics(val_result_strat4, -4)[\"CM\"], classes = [0, 1], filename = \"results/CM_val_strat4.png\");"
   ]
  },
  {
   "cell_type": "code",
   "execution_count": 26,
   "id": "measured-arabic",
   "metadata": {},
   "outputs": [
    {
     "data": {
      "image/png": "[encoded data removed]",
      "text/plain": [
       "<Figure size 720x720 with 1 Axes>"
      ]
     },
     "metadata": {
      "needs_background": "light"
     },
     "output_type": "display_data"
    }
   ],
   "source": [
    "roc = get_metrics(val_result_strat4, -4)[\"ROC\"]\n",
    "plot_ROC_curve(roc[\"fpr\"], roc[\"tpr\"], filename = \"results/ROC_val_strat4.png\");"
   ]
  },
  {
   "cell_type": "markdown",
   "id": "studied-maple",
   "metadata": {},
   "source": [
    "*test data:*"
   ]
  },
  {
   "cell_type": "code",
   "execution_count": 27,
   "id": "domestic-bleeding",
   "metadata": {},
   "outputs": [
    {
     "name": "stdout",
     "output_type": "stream",
     "text": [
      "Strategy 1:  {'ACC': 0.6551724137931034, 'FPR': 1.0, 'AUC': 0.6210526315789473, 'Ya': 0.6551724137931034, 'EF': 1.0, 'REF': 100.0} \n",
      "Strategy 2:  {'ACC': 0.6551724137931034, 'FPR': 1.0, 'AUC': 0.6184210526315789, 'Ya': 0.6551724137931034, 'EF': 1.0, 'REF': 100.0} \n",
      "Strategy 3:  {'ACC': 0.5517241379310345, 'FPR': 1.0, 'AUC': 0.531578947368421, 'Ya': 0.6153846153846154, 'EF': 0.9392712550607288, 'REF': 84.21052631578948} \n",
      "Strategy 4:  {'ACC': 0.5862068965517241, 'FPR': 1.0, 'AUC': 0.5263157894736843, 'Ya': 0.6296296296296297, 'EF': 0.9610136452241717, 'REF': 89.47368421052632}\n"
     ]
    }
   ],
   "source": [
    "print(\n",
    "\"Strategy 1: \",\n",
    "get_metrics(test_result_strat1, 0, pretty_print = True),\n",
    "\"\\nStrategy 2: \",\n",
    "get_metrics(test_result_strat2, 0, pretty_print = True),\n",
    "\"\\nStrategy 3: \",\n",
    "get_metrics(test_result_strat3, -3, pretty_print = True),\n",
    "\"\\nStrategy 4: \",\n",
    "get_metrics(test_result_strat4, -4, pretty_print = True)\n",
    ")"
   ]
  },
  {
   "cell_type": "code",
   "execution_count": 28,
   "id": "tribal-meaning",
   "metadata": {},
   "outputs": [
    {
     "data": {
      "image/png": "[encoded data removed]",
      "text/plain": [
       "<Figure size 720x720 with 2 Axes>"
      ]
     },
     "metadata": {
      "needs_background": "light"
     },
     "output_type": "display_data"
    }
   ],
   "source": [
    "plot_confusion_matrix(get_metrics(test_result_strat4, -4)[\"CM\"], classes = [0, 1], filename = \"results/CM_test_strat4.png\");"
   ]
  },
  {
   "cell_type": "code",
   "execution_count": 29,
   "id": "medieval-crystal",
   "metadata": {},
   "outputs": [
    {
     "data": {
      "image/png": "[encoded data removed]",
      "text/plain": [
       "<Figure size 720x720 with 1 Axes>"
      ]
     },
     "metadata": {
      "needs_background": "light"
     },
     "output_type": "display_data"
    }
   ],
   "source": [
    "roc = get_metrics(test_result_strat4, -4)[\"ROC\"]\n",
    "plot_ROC_curve(roc[\"fpr\"], roc[\"tpr\"], filename = \"results/ROC_test_strat4.png\");"
   ]
  },
  {
   "cell_type": "markdown",
   "id": "julian-yukon",
   "metadata": {},
   "source": [
    "#### **Clean up:**"
   ]
  },
  {
   "cell_type": "code",
   "execution_count": 30,
   "id": "crazy-belize",
   "metadata": {},
   "outputs": [],
   "source": [
    "os.remove(\"scoring.py\")"
   ]
  },
  {
   "cell_type": "code",
   "execution_count": null,
   "id": "wired-winning",
   "metadata": {},
   "outputs": [],
   "source": []
  }
 ],
 "metadata": {
  "kernelspec": {
   "display_name": "Python 3",
   "language": "python",
   "name": "python3"
  },
  "language_info": {
   "codemirror_mode": {
    "name": "ipython",
    "version": 3
   },
   "file_extension": ".py",
   "mimetype": "text/x-python",
   "name": "python",
   "nbconvert_exporter": "python",
   "pygments_lexer": "ipython3",
   "version": "3.8.8"
  }
 },
 "nbformat": 4,
 "nbformat_minor": 5
}
