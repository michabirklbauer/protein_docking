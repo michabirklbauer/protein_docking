{
 "cells": [
  {
   "cell_type": "markdown",
   "id": "comfortable-controversy",
   "metadata": {},
   "source": [
    "## **SCORING - Vitamin E: Workflow 7**\n",
    "#### **Micha Birklbauer 2021-08-11**"
   ]
  },
  {
   "cell_type": "code",
   "execution_count": 1,
   "id": "guilty-visitor",
   "metadata": {},
   "outputs": [
    {
     "data": {
      "text/plain": [
       "'scoring.py'"
      ]
     },
     "execution_count": 1,
     "metadata": {},
     "output_type": "execute_result"
    }
   ],
   "source": [
    "import os\n",
    "from shutil import copyfile\n",
    "from itertools import islice\n",
    "copyfile(\"../../../scripts/python/scoring.py\", \"scoring.py\")"
   ]
  },
  {
   "cell_type": "code",
   "execution_count": 2,
   "id": "billion-saskatchewan",
   "metadata": {},
   "outputs": [],
   "source": [
    "import pandas as pd\n",
    "from scoring import *"
   ]
  },
  {
   "cell_type": "markdown",
   "id": "radio-heaven",
   "metadata": {},
   "source": [
    "#### **Load data:**"
   ]
  },
  {
   "cell_type": "code",
   "execution_count": 3,
   "id": "abandoned-seafood",
   "metadata": {},
   "outputs": [],
   "source": [
    "data_train = pd.read_csv(\"data_train.csv\")\n",
    "data_val = pd.read_csv(\"data_val.csv\")\n",
    "data_test = pd.read_csv(\"data_test.csv\")\n",
    "features = pd.read_csv(\"features.csv\")"
   ]
  },
  {
   "cell_type": "code",
   "execution_count": 4,
   "id": "beautiful-accent",
   "metadata": {},
   "outputs": [],
   "source": [
    "# data_train.info()"
   ]
  },
  {
   "cell_type": "code",
   "execution_count": 5,
   "id": "signed-minority",
   "metadata": {},
   "outputs": [
    {
     "data": {
      "text/html": [
       "<div>\n",
       "<style scoped>\n",
       "    .dataframe tbody tr th:only-of-type {\n",
       "        vertical-align: middle;\n",
       "    }\n",
       "\n",
       "    .dataframe tbody tr th {\n",
       "        vertical-align: top;\n",
       "    }\n",
       "\n",
       "    .dataframe thead th {\n",
       "        text-align: right;\n",
       "    }\n",
       "</style>\n",
       "<table border=\"1\" class=\"dataframe\">\n",
       "  <thead>\n",
       "    <tr style=\"text-align: right;\">\n",
       "      <th></th>\n",
       "      <th>INDEX</th>\n",
       "      <th>NAME</th>\n",
       "      <th>Hydrogen_Bond:HIS130B</th>\n",
       "      <th>Salt_Bridge:GLU622B</th>\n",
       "      <th>Hydrogen_Bond:GLU108B</th>\n",
       "      <th>Hydrophobic_Interaction:ARG112B</th>\n",
       "      <th>Hydrogen_Bond:ARG47B</th>\n",
       "      <th>Hydrogen_Bond:ASP166B</th>\n",
       "      <th>Salt_Bridge:ARG401B</th>\n",
       "      <th>Hydrophobic_Interaction:GLU108B</th>\n",
       "      <th>...</th>\n",
       "      <th>Hydrophobic_Interaction:LYS83B</th>\n",
       "      <th>Hydrogen_Bond:TRP102B</th>\n",
       "      <th>Hydrophobic_Interaction:GLU16B</th>\n",
       "      <th>Hydrophobic_Interaction:LEU111B</th>\n",
       "      <th>Hydrophobic_Interaction:ALA388B</th>\n",
       "      <th>Hydrophobic_Interaction:TYR100B</th>\n",
       "      <th>Salt_Bridge:ASP166B</th>\n",
       "      <th>Hydrophobic_Interaction:VAL110B</th>\n",
       "      <th>Hydrophobic_Interaction:VAL397B</th>\n",
       "      <th>LABEL</th>\n",
       "    </tr>\n",
       "  </thead>\n",
       "  <tbody>\n",
       "    <tr>\n",
       "      <th>0</th>\n",
       "      <td>1</td>\n",
       "      <td>124|VitaminE_allmin_active|sdf|124</td>\n",
       "      <td>1</td>\n",
       "      <td>0</td>\n",
       "      <td>0</td>\n",
       "      <td>0</td>\n",
       "      <td>0</td>\n",
       "      <td>0</td>\n",
       "      <td>0</td>\n",
       "      <td>0</td>\n",
       "      <td>...</td>\n",
       "      <td>0</td>\n",
       "      <td>1</td>\n",
       "      <td>0</td>\n",
       "      <td>1</td>\n",
       "      <td>1</td>\n",
       "      <td>1</td>\n",
       "      <td>0</td>\n",
       "      <td>0</td>\n",
       "      <td>1</td>\n",
       "      <td>active</td>\n",
       "    </tr>\n",
       "    <tr>\n",
       "      <th>1</th>\n",
       "      <td>2</td>\n",
       "      <td>47|VitaminE_allmin_active|sdf|47</td>\n",
       "      <td>1</td>\n",
       "      <td>0</td>\n",
       "      <td>0</td>\n",
       "      <td>0</td>\n",
       "      <td>0</td>\n",
       "      <td>0</td>\n",
       "      <td>0</td>\n",
       "      <td>0</td>\n",
       "      <td>...</td>\n",
       "      <td>0</td>\n",
       "      <td>1</td>\n",
       "      <td>0</td>\n",
       "      <td>0</td>\n",
       "      <td>1</td>\n",
       "      <td>0</td>\n",
       "      <td>0</td>\n",
       "      <td>1</td>\n",
       "      <td>0</td>\n",
       "      <td>active</td>\n",
       "    </tr>\n",
       "    <tr>\n",
       "      <th>2</th>\n",
       "      <td>3</td>\n",
       "      <td>49|VitaminE_allmin_active|sdf|49</td>\n",
       "      <td>0</td>\n",
       "      <td>0</td>\n",
       "      <td>1</td>\n",
       "      <td>0</td>\n",
       "      <td>0</td>\n",
       "      <td>0</td>\n",
       "      <td>0</td>\n",
       "      <td>0</td>\n",
       "      <td>...</td>\n",
       "      <td>0</td>\n",
       "      <td>1</td>\n",
       "      <td>0</td>\n",
       "      <td>1</td>\n",
       "      <td>1</td>\n",
       "      <td>0</td>\n",
       "      <td>0</td>\n",
       "      <td>1</td>\n",
       "      <td>1</td>\n",
       "      <td>active</td>\n",
       "    </tr>\n",
       "    <tr>\n",
       "      <th>3</th>\n",
       "      <td>4</td>\n",
       "      <td>63|VitaminE_allmin_decoy|sdf|63</td>\n",
       "      <td>0</td>\n",
       "      <td>0</td>\n",
       "      <td>0</td>\n",
       "      <td>0</td>\n",
       "      <td>0</td>\n",
       "      <td>1</td>\n",
       "      <td>0</td>\n",
       "      <td>0</td>\n",
       "      <td>...</td>\n",
       "      <td>0</td>\n",
       "      <td>1</td>\n",
       "      <td>0</td>\n",
       "      <td>0</td>\n",
       "      <td>0</td>\n",
       "      <td>0</td>\n",
       "      <td>0</td>\n",
       "      <td>1</td>\n",
       "      <td>1</td>\n",
       "      <td>inactive</td>\n",
       "    </tr>\n",
       "    <tr>\n",
       "      <th>4</th>\n",
       "      <td>5</td>\n",
       "      <td>123|VitaminE_allmin_active|sdf|123</td>\n",
       "      <td>0</td>\n",
       "      <td>0</td>\n",
       "      <td>0</td>\n",
       "      <td>0</td>\n",
       "      <td>0</td>\n",
       "      <td>0</td>\n",
       "      <td>0</td>\n",
       "      <td>0</td>\n",
       "      <td>...</td>\n",
       "      <td>0</td>\n",
       "      <td>1</td>\n",
       "      <td>0</td>\n",
       "      <td>1</td>\n",
       "      <td>1</td>\n",
       "      <td>0</td>\n",
       "      <td>0</td>\n",
       "      <td>0</td>\n",
       "      <td>1</td>\n",
       "      <td>active</td>\n",
       "    </tr>\n",
       "    <tr>\n",
       "      <th>...</th>\n",
       "      <td>...</td>\n",
       "      <td>...</td>\n",
       "      <td>...</td>\n",
       "      <td>...</td>\n",
       "      <td>...</td>\n",
       "      <td>...</td>\n",
       "      <td>...</td>\n",
       "      <td>...</td>\n",
       "      <td>...</td>\n",
       "      <td>...</td>\n",
       "      <td>...</td>\n",
       "      <td>...</td>\n",
       "      <td>...</td>\n",
       "      <td>...</td>\n",
       "      <td>...</td>\n",
       "      <td>...</td>\n",
       "      <td>...</td>\n",
       "      <td>...</td>\n",
       "      <td>...</td>\n",
       "      <td>...</td>\n",
       "      <td>...</td>\n",
       "    </tr>\n",
       "    <tr>\n",
       "      <th>84</th>\n",
       "      <td>85</td>\n",
       "      <td>103|VitaminE_allmin_active|sdf|103</td>\n",
       "      <td>0</td>\n",
       "      <td>0</td>\n",
       "      <td>1</td>\n",
       "      <td>0</td>\n",
       "      <td>0</td>\n",
       "      <td>0</td>\n",
       "      <td>0</td>\n",
       "      <td>0</td>\n",
       "      <td>...</td>\n",
       "      <td>0</td>\n",
       "      <td>0</td>\n",
       "      <td>0</td>\n",
       "      <td>0</td>\n",
       "      <td>0</td>\n",
       "      <td>0</td>\n",
       "      <td>0</td>\n",
       "      <td>1</td>\n",
       "      <td>0</td>\n",
       "      <td>active</td>\n",
       "    </tr>\n",
       "    <tr>\n",
       "      <th>85</th>\n",
       "      <td>86</td>\n",
       "      <td>108|VitaminE_allmin_decoy|sdf|108</td>\n",
       "      <td>0</td>\n",
       "      <td>0</td>\n",
       "      <td>3</td>\n",
       "      <td>0</td>\n",
       "      <td>0</td>\n",
       "      <td>0</td>\n",
       "      <td>0</td>\n",
       "      <td>1</td>\n",
       "      <td>...</td>\n",
       "      <td>0</td>\n",
       "      <td>0</td>\n",
       "      <td>0</td>\n",
       "      <td>0</td>\n",
       "      <td>0</td>\n",
       "      <td>0</td>\n",
       "      <td>0</td>\n",
       "      <td>1</td>\n",
       "      <td>0</td>\n",
       "      <td>inactive</td>\n",
       "    </tr>\n",
       "    <tr>\n",
       "      <th>86</th>\n",
       "      <td>87</td>\n",
       "      <td>127|VitaminE_allmin_active|sdf|127</td>\n",
       "      <td>0</td>\n",
       "      <td>0</td>\n",
       "      <td>0</td>\n",
       "      <td>0</td>\n",
       "      <td>0</td>\n",
       "      <td>0</td>\n",
       "      <td>0</td>\n",
       "      <td>1</td>\n",
       "      <td>...</td>\n",
       "      <td>0</td>\n",
       "      <td>0</td>\n",
       "      <td>0</td>\n",
       "      <td>0</td>\n",
       "      <td>0</td>\n",
       "      <td>0</td>\n",
       "      <td>0</td>\n",
       "      <td>0</td>\n",
       "      <td>0</td>\n",
       "      <td>active</td>\n",
       "    </tr>\n",
       "    <tr>\n",
       "      <th>87</th>\n",
       "      <td>88</td>\n",
       "      <td>67|VitaminE_allmin_decoy|sdf|67</td>\n",
       "      <td>0</td>\n",
       "      <td>0</td>\n",
       "      <td>0</td>\n",
       "      <td>0</td>\n",
       "      <td>0</td>\n",
       "      <td>0</td>\n",
       "      <td>0</td>\n",
       "      <td>1</td>\n",
       "      <td>...</td>\n",
       "      <td>0</td>\n",
       "      <td>0</td>\n",
       "      <td>0</td>\n",
       "      <td>0</td>\n",
       "      <td>0</td>\n",
       "      <td>0</td>\n",
       "      <td>0</td>\n",
       "      <td>1</td>\n",
       "      <td>0</td>\n",
       "      <td>inactive</td>\n",
       "    </tr>\n",
       "    <tr>\n",
       "      <th>88</th>\n",
       "      <td>89</td>\n",
       "      <td>70|VitaminE_allmin_decoy|sdf|70</td>\n",
       "      <td>0</td>\n",
       "      <td>0</td>\n",
       "      <td>0</td>\n",
       "      <td>0</td>\n",
       "      <td>0</td>\n",
       "      <td>0</td>\n",
       "      <td>0</td>\n",
       "      <td>1</td>\n",
       "      <td>...</td>\n",
       "      <td>0</td>\n",
       "      <td>0</td>\n",
       "      <td>0</td>\n",
       "      <td>0</td>\n",
       "      <td>0</td>\n",
       "      <td>0</td>\n",
       "      <td>0</td>\n",
       "      <td>1</td>\n",
       "      <td>0</td>\n",
       "      <td>inactive</td>\n",
       "    </tr>\n",
       "  </tbody>\n",
       "</table>\n",
       "<p>89 rows × 121 columns</p>\n",
       "</div>"
      ],
      "text/plain": [
       "    INDEX                                NAME  Hydrogen_Bond:HIS130B  \\\n",
       "0       1  124|VitaminE_allmin_active|sdf|124                      1   \n",
       "1       2    47|VitaminE_allmin_active|sdf|47                      1   \n",
       "2       3    49|VitaminE_allmin_active|sdf|49                      0   \n",
       "3       4     63|VitaminE_allmin_decoy|sdf|63                      0   \n",
       "4       5  123|VitaminE_allmin_active|sdf|123                      0   \n",
       "..    ...                                 ...                    ...   \n",
       "84     85  103|VitaminE_allmin_active|sdf|103                      0   \n",
       "85     86   108|VitaminE_allmin_decoy|sdf|108                      0   \n",
       "86     87  127|VitaminE_allmin_active|sdf|127                      0   \n",
       "87     88     67|VitaminE_allmin_decoy|sdf|67                      0   \n",
       "88     89     70|VitaminE_allmin_decoy|sdf|70                      0   \n",
       "\n",
       "    Salt_Bridge:GLU622B  Hydrogen_Bond:GLU108B  \\\n",
       "0                     0                      0   \n",
       "1                     0                      0   \n",
       "2                     0                      1   \n",
       "3                     0                      0   \n",
       "4                     0                      0   \n",
       "..                  ...                    ...   \n",
       "84                    0                      1   \n",
       "85                    0                      3   \n",
       "86                    0                      0   \n",
       "87                    0                      0   \n",
       "88                    0                      0   \n",
       "\n",
       "    Hydrophobic_Interaction:ARG112B  Hydrogen_Bond:ARG47B  \\\n",
       "0                                 0                     0   \n",
       "1                                 0                     0   \n",
       "2                                 0                     0   \n",
       "3                                 0                     0   \n",
       "4                                 0                     0   \n",
       "..                              ...                   ...   \n",
       "84                                0                     0   \n",
       "85                                0                     0   \n",
       "86                                0                     0   \n",
       "87                                0                     0   \n",
       "88                                0                     0   \n",
       "\n",
       "    Hydrogen_Bond:ASP166B  Salt_Bridge:ARG401B  \\\n",
       "0                       0                    0   \n",
       "1                       0                    0   \n",
       "2                       0                    0   \n",
       "3                       1                    0   \n",
       "4                       0                    0   \n",
       "..                    ...                  ...   \n",
       "84                      0                    0   \n",
       "85                      0                    0   \n",
       "86                      0                    0   \n",
       "87                      0                    0   \n",
       "88                      0                    0   \n",
       "\n",
       "    Hydrophobic_Interaction:GLU108B  ...  Hydrophobic_Interaction:LYS83B  \\\n",
       "0                                 0  ...                               0   \n",
       "1                                 0  ...                               0   \n",
       "2                                 0  ...                               0   \n",
       "3                                 0  ...                               0   \n",
       "4                                 0  ...                               0   \n",
       "..                              ...  ...                             ...   \n",
       "84                                0  ...                               0   \n",
       "85                                1  ...                               0   \n",
       "86                                1  ...                               0   \n",
       "87                                1  ...                               0   \n",
       "88                                1  ...                               0   \n",
       "\n",
       "    Hydrogen_Bond:TRP102B  Hydrophobic_Interaction:GLU16B  \\\n",
       "0                       1                               0   \n",
       "1                       1                               0   \n",
       "2                       1                               0   \n",
       "3                       1                               0   \n",
       "4                       1                               0   \n",
       "..                    ...                             ...   \n",
       "84                      0                               0   \n",
       "85                      0                               0   \n",
       "86                      0                               0   \n",
       "87                      0                               0   \n",
       "88                      0                               0   \n",
       "\n",
       "    Hydrophobic_Interaction:LEU111B  Hydrophobic_Interaction:ALA388B  \\\n",
       "0                                 1                                1   \n",
       "1                                 0                                1   \n",
       "2                                 1                                1   \n",
       "3                                 0                                0   \n",
       "4                                 1                                1   \n",
       "..                              ...                              ...   \n",
       "84                                0                                0   \n",
       "85                                0                                0   \n",
       "86                                0                                0   \n",
       "87                                0                                0   \n",
       "88                                0                                0   \n",
       "\n",
       "    Hydrophobic_Interaction:TYR100B  Salt_Bridge:ASP166B  \\\n",
       "0                                 1                    0   \n",
       "1                                 0                    0   \n",
       "2                                 0                    0   \n",
       "3                                 0                    0   \n",
       "4                                 0                    0   \n",
       "..                              ...                  ...   \n",
       "84                                0                    0   \n",
       "85                                0                    0   \n",
       "86                                0                    0   \n",
       "87                                0                    0   \n",
       "88                                0                    0   \n",
       "\n",
       "    Hydrophobic_Interaction:VAL110B  Hydrophobic_Interaction:VAL397B     LABEL  \n",
       "0                                 0                                1    active  \n",
       "1                                 1                                0    active  \n",
       "2                                 1                                1    active  \n",
       "3                                 1                                1  inactive  \n",
       "4                                 0                                1    active  \n",
       "..                              ...                              ...       ...  \n",
       "84                                1                                0    active  \n",
       "85                                1                                0  inactive  \n",
       "86                                0                                0    active  \n",
       "87                                1                                0  inactive  \n",
       "88                                1                                0  inactive  \n",
       "\n",
       "[89 rows x 121 columns]"
      ]
     },
     "execution_count": 5,
     "metadata": {},
     "output_type": "execute_result"
    }
   ],
   "source": [
    "data_train"
   ]
  },
  {
   "cell_type": "code",
   "execution_count": 6,
   "id": "academic-walter",
   "metadata": {},
   "outputs": [
    {
     "name": "stdout",
     "output_type": "stream",
     "text": [
      "Training dataset shape & Nr. of actives:\n",
      "(89, 121) 59\n"
     ]
    }
   ],
   "source": [
    "print(\"Training dataset shape & Nr. of actives:\")\n",
    "print(data_train.shape, len(data_train.loc[data_train[\"LABEL\"] == \"active\"]))"
   ]
  },
  {
   "cell_type": "code",
   "execution_count": 7,
   "id": "downtown-inspiration",
   "metadata": {},
   "outputs": [
    {
     "name": "stdout",
     "output_type": "stream",
     "text": [
      "Validation dataset shape & Nr. of actives:\n",
      "(23, 121) 16\n"
     ]
    }
   ],
   "source": [
    "print(\"Validation dataset shape & Nr. of actives:\")\n",
    "print(data_val.shape, len(data_val.loc[data_val[\"LABEL\"] == \"active\"]))"
   ]
  },
  {
   "cell_type": "code",
   "execution_count": 8,
   "id": "certain-onion",
   "metadata": {},
   "outputs": [
    {
     "name": "stdout",
     "output_type": "stream",
     "text": [
      "Test dataset shape & Nr. of actives:\n",
      "(29, 121) 19\n"
     ]
    }
   ],
   "source": [
    "print(\"Test dataset shape & Nr. of actives:\")\n",
    "print(data_test.shape, len(data_test.loc[data_test[\"LABEL\"] == \"active\"]))"
   ]
  },
  {
   "cell_type": "code",
   "execution_count": 9,
   "id": "allied-omega",
   "metadata": {},
   "outputs": [
    {
     "data": {
      "text/html": [
       "<div>\n",
       "<style scoped>\n",
       "    .dataframe tbody tr th:only-of-type {\n",
       "        vertical-align: middle;\n",
       "    }\n",
       "\n",
       "    .dataframe tbody tr th {\n",
       "        vertical-align: top;\n",
       "    }\n",
       "\n",
       "    .dataframe thead th {\n",
       "        text-align: right;\n",
       "    }\n",
       "</style>\n",
       "<table border=\"1\" class=\"dataframe\">\n",
       "  <thead>\n",
       "    <tr style=\"text-align: right;\">\n",
       "      <th></th>\n",
       "      <th>INDEX</th>\n",
       "      <th>INTERACTION</th>\n",
       "      <th>DIFFERENCE</th>\n",
       "      <th>ACTIVE_FREQUENCY</th>\n",
       "      <th>INACTIVE_FREQUENCY</th>\n",
       "    </tr>\n",
       "  </thead>\n",
       "  <tbody>\n",
       "    <tr>\n",
       "      <th>0</th>\n",
       "      <td>1</td>\n",
       "      <td>Hydrogen_Bond:VAL110B</td>\n",
       "      <td>0.314689</td>\n",
       "      <td>0.881356</td>\n",
       "      <td>0.566667</td>\n",
       "    </tr>\n",
       "    <tr>\n",
       "      <th>1</th>\n",
       "      <td>2</td>\n",
       "      <td>Hydrogen_Bond:GLN15B</td>\n",
       "      <td>0.313559</td>\n",
       "      <td>0.186441</td>\n",
       "      <td>0.500000</td>\n",
       "    </tr>\n",
       "    <tr>\n",
       "      <th>2</th>\n",
       "      <td>3</td>\n",
       "      <td>Hydrophobic_Interaction:PHE393B</td>\n",
       "      <td>0.214124</td>\n",
       "      <td>0.152542</td>\n",
       "      <td>0.366667</td>\n",
       "    </tr>\n",
       "    <tr>\n",
       "      <th>3</th>\n",
       "      <td>4</td>\n",
       "      <td>Hydrogen_Bond:TRP102B</td>\n",
       "      <td>0.211864</td>\n",
       "      <td>0.288136</td>\n",
       "      <td>0.500000</td>\n",
       "    </tr>\n",
       "    <tr>\n",
       "      <th>4</th>\n",
       "      <td>5</td>\n",
       "      <td>Hydrogen_Bond:GLU134B</td>\n",
       "      <td>0.189266</td>\n",
       "      <td>0.355932</td>\n",
       "      <td>0.166667</td>\n",
       "    </tr>\n",
       "    <tr>\n",
       "      <th>...</th>\n",
       "      <td>...</td>\n",
       "      <td>...</td>\n",
       "      <td>...</td>\n",
       "      <td>...</td>\n",
       "      <td>...</td>\n",
       "    </tr>\n",
       "    <tr>\n",
       "      <th>113</th>\n",
       "      <td>114</td>\n",
       "      <td>Hydrophobic_Interaction:GLN129B</td>\n",
       "      <td>0.001695</td>\n",
       "      <td>0.101695</td>\n",
       "      <td>0.100000</td>\n",
       "    </tr>\n",
       "    <tr>\n",
       "      <th>114</th>\n",
       "      <td>115</td>\n",
       "      <td>Hydrogen_Bond:GLN129B</td>\n",
       "      <td>0.000565</td>\n",
       "      <td>0.033898</td>\n",
       "      <td>0.033333</td>\n",
       "    </tr>\n",
       "    <tr>\n",
       "      <th>115</th>\n",
       "      <td>116</td>\n",
       "      <td>Hydrogen_Bond:LYS83B</td>\n",
       "      <td>0.000565</td>\n",
       "      <td>0.033898</td>\n",
       "      <td>0.033333</td>\n",
       "    </tr>\n",
       "    <tr>\n",
       "      <th>116</th>\n",
       "      <td>117</td>\n",
       "      <td>Hydrogen_Bond:ASP106B</td>\n",
       "      <td>0.000565</td>\n",
       "      <td>0.033898</td>\n",
       "      <td>0.033333</td>\n",
       "    </tr>\n",
       "    <tr>\n",
       "      <th>117</th>\n",
       "      <td>118</td>\n",
       "      <td>Pi-Cation_Interaction:LYS83B</td>\n",
       "      <td>0.000565</td>\n",
       "      <td>0.033898</td>\n",
       "      <td>0.033333</td>\n",
       "    </tr>\n",
       "  </tbody>\n",
       "</table>\n",
       "<p>118 rows × 5 columns</p>\n",
       "</div>"
      ],
      "text/plain": [
       "     INDEX                      INTERACTION  DIFFERENCE  ACTIVE_FREQUENCY  \\\n",
       "0        1            Hydrogen_Bond:VAL110B    0.314689          0.881356   \n",
       "1        2             Hydrogen_Bond:GLN15B    0.313559          0.186441   \n",
       "2        3  Hydrophobic_Interaction:PHE393B    0.214124          0.152542   \n",
       "3        4            Hydrogen_Bond:TRP102B    0.211864          0.288136   \n",
       "4        5            Hydrogen_Bond:GLU134B    0.189266          0.355932   \n",
       "..     ...                              ...         ...               ...   \n",
       "113    114  Hydrophobic_Interaction:GLN129B    0.001695          0.101695   \n",
       "114    115            Hydrogen_Bond:GLN129B    0.000565          0.033898   \n",
       "115    116             Hydrogen_Bond:LYS83B    0.000565          0.033898   \n",
       "116    117            Hydrogen_Bond:ASP106B    0.000565          0.033898   \n",
       "117    118     Pi-Cation_Interaction:LYS83B    0.000565          0.033898   \n",
       "\n",
       "     INACTIVE_FREQUENCY  \n",
       "0              0.566667  \n",
       "1              0.500000  \n",
       "2              0.366667  \n",
       "3              0.500000  \n",
       "4              0.166667  \n",
       "..                  ...  \n",
       "113            0.100000  \n",
       "114            0.033333  \n",
       "115            0.033333  \n",
       "116            0.033333  \n",
       "117            0.033333  \n",
       "\n",
       "[118 rows x 5 columns]"
      ]
     },
     "execution_count": 9,
     "metadata": {},
     "output_type": "execute_result"
    }
   ],
   "source": [
    "features"
   ]
  },
  {
   "cell_type": "markdown",
   "id": "serial-measure",
   "metadata": {},
   "source": [
    "#### **Extract relevant features:**"
   ]
  },
  {
   "cell_type": "code",
   "execution_count": 10,
   "id": "opened-wilderness",
   "metadata": {},
   "outputs": [],
   "source": [
    "optimized_values = get_optimized_feature_thresholds(features, data_train)"
   ]
  },
  {
   "cell_type": "code",
   "execution_count": 11,
   "id": "clear-embassy",
   "metadata": {},
   "outputs": [
    {
     "name": "stdout",
     "output_type": "stream",
     "text": [
      "Key: 0.0, 0.0, 0.0: strat3 Accuracy: 0.797752808988764\n",
      "Key: 0.0, 0.0, 0.0: strat4 Accuracy: 0.797752808988764\n",
      "Key: 0.0, 0.0, 0.1: strat3 Accuracy: 0.797752808988764\n",
      "Key: 0.0, 0.0, 0.1: strat4 Accuracy: 0.797752808988764\n",
      "Key: 0.05, 0.0, 0.0: strat3 Accuracy: 0.797752808988764\n"
     ]
    }
   ],
   "source": [
    "for item in islice(optimized_values[\"ACC\"].items(), 5):\n",
    "    print('Key: {} Accuracy: {}'.format(item[0], item[1]))"
   ]
  },
  {
   "cell_type": "code",
   "execution_count": 12,
   "id": "primary-explorer",
   "metadata": {},
   "outputs": [
    {
     "name": "stdout",
     "output_type": "stream",
     "text": [
      "Key: 0.0, 0.0, 0.0: strat1 Area under the ROC curve: 0.8468926553672317\n",
      "Key: 0.0, 0.0, 0.0: strat2 Area under the ROC curve: 0.8353107344632769\n",
      "Key: 0.0, 0.0, 0.0: strat3 Area under the ROC curve: 0.823728813559322\n",
      "Key: 0.0, 0.0, 0.0: strat4 Area under the ROC curve: 0.8146892655367232\n",
      "Key: 0.0, 0.05, 0.0: strat1 Area under the ROC curve: 0.8121468926553673\n"
     ]
    }
   ],
   "source": [
    "for item in islice(optimized_values[\"AUC\"].items(), 5):\n",
    "    print('Key: {} Area under the ROC curve: {}'.format(item[0], item[1]))"
   ]
  },
  {
   "cell_type": "code",
   "execution_count": 13,
   "id": "alive-essex",
   "metadata": {},
   "outputs": [],
   "source": [
    "optimized_values_val = get_optimized_feature_thresholds(features, data_train, data_val)"
   ]
  },
  {
   "cell_type": "code",
   "execution_count": 14,
   "id": "virgin-notebook",
   "metadata": {},
   "outputs": [
    {
     "name": "stdout",
     "output_type": "stream",
     "text": [
      "Key: 0.0, 0.05, 0.0: strat4 Accuracy: 0.782608695652174\n",
      "Key: 0.0, 0.0, 0.05: strat3 Accuracy: 0.7391304347826086\n",
      "Key: 0.0, 0.0, 0.05: strat4 Accuracy: 0.7391304347826086\n",
      "Key: 0.0, 0.0, 0.1: strat3 Accuracy: 0.7391304347826086\n",
      "Key: 0.0, 0.0, 0.1: strat4 Accuracy: 0.7391304347826086\n"
     ]
    }
   ],
   "source": [
    "for item in islice(optimized_values_val[\"ACC\"].items(), 5):\n",
    "    print('Key: {} Accuracy: {}'.format(item[0], item[1]))"
   ]
  },
  {
   "cell_type": "code",
   "execution_count": 15,
   "id": "interpreted-subject",
   "metadata": {},
   "outputs": [
    {
     "name": "stdout",
     "output_type": "stream",
     "text": [
      "Key: 0.0, 0.0, 0.0: strat4 Area under the ROC curve: 0.7366071428571429\n",
      "Key: 0.0, 0.0, 0.0: strat3 Area under the ROC curve: 0.7366071428571428\n",
      "Key: 0.0, 0.05, 0.0: strat4 Area under the ROC curve: 0.6830357142857143\n",
      "Key: 0.0, 0.05, 0.0: strat3 Area under the ROC curve: 0.6785714285714286\n",
      "Key: 0.05, 0.0, 0.0: strat3 Area under the ROC curve: 0.6741071428571428\n"
     ]
    }
   ],
   "source": [
    "for item in islice(optimized_values_val[\"AUC\"].items(), 5):\n",
    "    print('Key: {} Area under the ROC curve: {}'.format(item[0], item[1]))"
   ]
  },
  {
   "cell_type": "code",
   "execution_count": 16,
   "id": "pretty-accused",
   "metadata": {},
   "outputs": [
    {
     "data": {
      "text/html": [
       "<div>\n",
       "<style scoped>\n",
       "    .dataframe tbody tr th:only-of-type {\n",
       "        vertical-align: middle;\n",
       "    }\n",
       "\n",
       "    .dataframe tbody tr th {\n",
       "        vertical-align: top;\n",
       "    }\n",
       "\n",
       "    .dataframe thead th {\n",
       "        text-align: right;\n",
       "    }\n",
       "</style>\n",
       "<table border=\"1\" class=\"dataframe\">\n",
       "  <thead>\n",
       "    <tr style=\"text-align: right;\">\n",
       "      <th></th>\n",
       "      <th>INDEX</th>\n",
       "      <th>INTERACTION</th>\n",
       "      <th>DIFFERENCE</th>\n",
       "      <th>ACTIVE_FREQUENCY</th>\n",
       "      <th>INACTIVE_FREQUENCY</th>\n",
       "    </tr>\n",
       "  </thead>\n",
       "  <tbody>\n",
       "    <tr>\n",
       "      <th>0</th>\n",
       "      <td>1</td>\n",
       "      <td>Hydrogen_Bond:VAL110B</td>\n",
       "      <td>0.314689</td>\n",
       "      <td>0.881356</td>\n",
       "      <td>0.566667</td>\n",
       "    </tr>\n",
       "    <tr>\n",
       "      <th>1</th>\n",
       "      <td>2</td>\n",
       "      <td>Hydrogen_Bond:GLN15B</td>\n",
       "      <td>0.313559</td>\n",
       "      <td>0.186441</td>\n",
       "      <td>0.500000</td>\n",
       "    </tr>\n",
       "    <tr>\n",
       "      <th>2</th>\n",
       "      <td>3</td>\n",
       "      <td>Hydrophobic_Interaction:PHE393B</td>\n",
       "      <td>0.214124</td>\n",
       "      <td>0.152542</td>\n",
       "      <td>0.366667</td>\n",
       "    </tr>\n",
       "    <tr>\n",
       "      <th>3</th>\n",
       "      <td>4</td>\n",
       "      <td>Hydrogen_Bond:TRP102B</td>\n",
       "      <td>0.211864</td>\n",
       "      <td>0.288136</td>\n",
       "      <td>0.500000</td>\n",
       "    </tr>\n",
       "    <tr>\n",
       "      <th>4</th>\n",
       "      <td>5</td>\n",
       "      <td>Hydrogen_Bond:GLU134B</td>\n",
       "      <td>0.189266</td>\n",
       "      <td>0.355932</td>\n",
       "      <td>0.166667</td>\n",
       "    </tr>\n",
       "    <tr>\n",
       "      <th>...</th>\n",
       "      <td>...</td>\n",
       "      <td>...</td>\n",
       "      <td>...</td>\n",
       "      <td>...</td>\n",
       "      <td>...</td>\n",
       "    </tr>\n",
       "    <tr>\n",
       "      <th>109</th>\n",
       "      <td>110</td>\n",
       "      <td>Hydrophobic_Interaction:LEU615B</td>\n",
       "      <td>0.013559</td>\n",
       "      <td>0.186441</td>\n",
       "      <td>0.200000</td>\n",
       "    </tr>\n",
       "    <tr>\n",
       "      <th>110</th>\n",
       "      <td>111</td>\n",
       "      <td>Hydrophobic_Interaction:ARG401B</td>\n",
       "      <td>0.012994</td>\n",
       "      <td>0.220339</td>\n",
       "      <td>0.233333</td>\n",
       "    </tr>\n",
       "    <tr>\n",
       "      <th>111</th>\n",
       "      <td>112</td>\n",
       "      <td>Hydrophobic_Interaction:PHE402B</td>\n",
       "      <td>0.006215</td>\n",
       "      <td>0.372881</td>\n",
       "      <td>0.366667</td>\n",
       "    </tr>\n",
       "    <tr>\n",
       "      <th>112</th>\n",
       "      <td>113</td>\n",
       "      <td>Hydrophobic_Interaction:GLU134B</td>\n",
       "      <td>0.005650</td>\n",
       "      <td>0.338983</td>\n",
       "      <td>0.333333</td>\n",
       "    </tr>\n",
       "    <tr>\n",
       "      <th>113</th>\n",
       "      <td>114</td>\n",
       "      <td>Hydrophobic_Interaction:GLN129B</td>\n",
       "      <td>0.001695</td>\n",
       "      <td>0.101695</td>\n",
       "      <td>0.100000</td>\n",
       "    </tr>\n",
       "  </tbody>\n",
       "</table>\n",
       "<p>61 rows × 5 columns</p>\n",
       "</div>"
      ],
      "text/plain": [
       "     INDEX                      INTERACTION  DIFFERENCE  ACTIVE_FREQUENCY  \\\n",
       "0        1            Hydrogen_Bond:VAL110B    0.314689          0.881356   \n",
       "1        2             Hydrogen_Bond:GLN15B    0.313559          0.186441   \n",
       "2        3  Hydrophobic_Interaction:PHE393B    0.214124          0.152542   \n",
       "3        4            Hydrogen_Bond:TRP102B    0.211864          0.288136   \n",
       "4        5            Hydrogen_Bond:GLU134B    0.189266          0.355932   \n",
       "..     ...                              ...         ...               ...   \n",
       "109    110  Hydrophobic_Interaction:LEU615B    0.013559          0.186441   \n",
       "110    111  Hydrophobic_Interaction:ARG401B    0.012994          0.220339   \n",
       "111    112  Hydrophobic_Interaction:PHE402B    0.006215          0.372881   \n",
       "112    113  Hydrophobic_Interaction:GLU134B    0.005650          0.338983   \n",
       "113    114  Hydrophobic_Interaction:GLN129B    0.001695          0.101695   \n",
       "\n",
       "     INACTIVE_FREQUENCY  \n",
       "0              0.566667  \n",
       "1              0.500000  \n",
       "2              0.366667  \n",
       "3              0.500000  \n",
       "4              0.166667  \n",
       "..                  ...  \n",
       "109            0.200000  \n",
       "110            0.233333  \n",
       "111            0.366667  \n",
       "112            0.333333  \n",
       "113            0.100000  \n",
       "\n",
       "[61 rows x 5 columns]"
      ]
     },
     "execution_count": 16,
     "metadata": {},
     "output_type": "execute_result"
    }
   ],
   "source": [
    "features_filtered = get_relevant_features(features, 0.0, 0.05, 0.0)\n",
    "features_filtered"
   ]
  },
  {
   "cell_type": "code",
   "execution_count": 17,
   "id": "weird-habitat",
   "metadata": {},
   "outputs": [],
   "source": [
    "# some error checking -- should print nothing\n",
    "for item in features_filtered[\"INTERACTION\"].to_list():\n",
    "    if item not in data_train.columns.to_list():\n",
    "        print(item)"
   ]
  },
  {
   "cell_type": "markdown",
   "id": "sublime-devil",
   "metadata": {},
   "source": [
    "#### **Get positive features (e.g. features that have a positive impact on activeness) and negative features:**"
   ]
  },
  {
   "cell_type": "code",
   "execution_count": 18,
   "id": "welsh-concentrate",
   "metadata": {},
   "outputs": [],
   "source": [
    "positives, negatives = get_feature_impact(features_filtered)"
   ]
  },
  {
   "cell_type": "code",
   "execution_count": 19,
   "id": "small-medicaid",
   "metadata": {},
   "outputs": [
    {
     "data": {
      "text/plain": [
       "['Hydrogen_Bond:VAL110B',\n",
       " 'Hydrogen_Bond:GLU134B',\n",
       " 'Hydrophobic_Interaction:THR137B',\n",
       " 'Pi-Cation_Interaction:HIS130B',\n",
       " 'Hydrogen_Bond:GLU108B',\n",
       " 'Hydrophobic_Interaction:LYS133B',\n",
       " 'Hydrogen_Bond:HIS130B',\n",
       " 'Hydrogen_Bond:ASP170B',\n",
       " 'Hydrophobic_Interaction:VAL110B',\n",
       " 'Hydrophobic_Interaction:GLU108B',\n",
       " 'Hydrophobic_Interaction:ALA388B',\n",
       " 'Hydrophobic_Interaction:GLU70B',\n",
       " 'Hydrogen_Bond:TYR100B',\n",
       " 'Hydrophobic_Interaction:PHE169B',\n",
       " 'Hydrogen_Bond:ARG101B',\n",
       " 'Hydrophobic_Interaction:ASP170B',\n",
       " 'Hydrophobic_Interaction:LEU111B',\n",
       " 'Salt_Bridge:ARG401B',\n",
       " 'Hydrophobic_Interaction:VAL107B',\n",
       " 'Hydrogen_Bond:TYR383B',\n",
       " 'Hydrophobic_Interaction:ASN613B',\n",
       " 'Hydrophobic_Interaction:GLN611B',\n",
       " 'Hydrophobic_Interaction:VAL175B',\n",
       " 'Hydrophobic_Interaction:LYS83B',\n",
       " 'Hydrogen_Bond:LYS37B',\n",
       " 'Hydrogen_Bond:LYS140B',\n",
       " 'Salt_Bridge:HIS130B',\n",
       " 'Hydrophobic_Interaction:GLU622B',\n",
       " 'Hydrophobic_Interaction:LEU66B',\n",
       " 'Hydrophobic_Interaction:TYR100B',\n",
       " 'Hydrophobic_Interaction:ARG112B',\n",
       " 'Salt_Bridge:ASP170B',\n",
       " 'Hydrophobic_Interaction:VAL109B',\n",
       " 'Hydrophobic_Interaction:GLU16B',\n",
       " 'Hydrophobic_Interaction:PHE402B',\n",
       " 'Hydrophobic_Interaction:GLU134B',\n",
       " 'Hydrophobic_Interaction:GLN129B']"
      ]
     },
     "execution_count": 19,
     "metadata": {},
     "output_type": "execute_result"
    }
   ],
   "source": [
    "positives"
   ]
  },
  {
   "cell_type": "code",
   "execution_count": 20,
   "id": "literary-fishing",
   "metadata": {},
   "outputs": [
    {
     "data": {
      "text/plain": [
       "['Hydrogen_Bond:GLN15B',\n",
       " 'Hydrophobic_Interaction:PHE393B',\n",
       " 'Hydrogen_Bond:TRP102B',\n",
       " 'Hydrogen_Bond:TYR81B',\n",
       " 'Hydrophobic_Interaction:PRO621B',\n",
       " 'Hydrophobic_Interaction:ARG138B',\n",
       " 'Hydrophobic_Interaction:GLN141B',\n",
       " 'Hydrogen_Bond:GLU622B',\n",
       " 'Hydrophobic_Interaction:VAL397B',\n",
       " 'Hydrophobic_Interaction:ARG101B',\n",
       " 'Hydrophobic_Interaction:TYR142B',\n",
       " 'Hydrophobic_Interaction:TYR383B',\n",
       " 'Hydrophobic_Interaction:ASP166B',\n",
       " 'Hydrogen_Bond:THR137B',\n",
       " 'Hydrophobic_Interaction:TYR81B',\n",
       " 'Hydrophobic_Interaction:GLN15B',\n",
       " 'Hydrogen_Bond:ARG401B',\n",
       " 'Hydrogen_Bond:ASP166B',\n",
       " 'Hydrophobic_Interaction:TRP102B',\n",
       " 'Salt_Bridge:ARG101B',\n",
       " 'Hydrogen_Bond:GLN168B',\n",
       " 'Pi-Cation_Interaction:ARG101B',\n",
       " 'Hydrophobic_Interaction:LEU615B',\n",
       " 'Hydrophobic_Interaction:ARG401B']"
      ]
     },
     "execution_count": 20,
     "metadata": {},
     "output_type": "execute_result"
    }
   ],
   "source": [
    "negatives"
   ]
  },
  {
   "cell_type": "markdown",
   "id": "starting-computer",
   "metadata": {},
   "source": [
    "#### **Score Compounds with different strategies & save results:**"
   ]
  },
  {
   "cell_type": "code",
   "execution_count": 21,
   "id": "monetary-winner",
   "metadata": {},
   "outputs": [],
   "source": [
    "save = False\n",
    "\n",
    "# make data copies\n",
    "train_result_strat1 = data_train.copy()\n",
    "train_result_strat2 = data_train.copy()\n",
    "train_result_strat3 = data_train.copy()\n",
    "train_result_strat4 = data_train.copy()\n",
    "# calculate scores\n",
    "train_result_strat1[\"SCORE\"] = train_result_strat1.apply(lambda x: score(x, positives, negatives, \"+\"), axis = 1)\n",
    "train_result_strat2[\"SCORE\"] = train_result_strat2.apply(lambda x: score(x, positives, negatives, \"++\"), axis = 1)\n",
    "train_result_strat3[\"SCORE\"] = train_result_strat3.apply(lambda x: score(x, positives, negatives, \"+-\"), axis = 1)\n",
    "train_result_strat4[\"SCORE\"] = train_result_strat4.apply(lambda x: score(x, positives, negatives, \"++--\"), axis = 1)\n",
    "# sort data\n",
    "train_result_strat1_sorted = train_result_strat1.sort_values(by = \"SCORE\", ascending = False)\n",
    "train_result_strat2_sorted = train_result_strat2.sort_values(by = \"SCORE\", ascending = False)\n",
    "train_result_strat3_sorted = train_result_strat3.sort_values(by = \"SCORE\", ascending = False)\n",
    "train_result_strat4_sorted = train_result_strat4.sort_values(by = \"SCORE\", ascending = False)\n",
    "# save data\n",
    "if save:\n",
    "    train_result_strat1_sorted.to_csv(\"train_scores1.csv\")\n",
    "    train_result_strat2_sorted.to_csv(\"train_scores2.csv\")\n",
    "    train_result_strat3_sorted.to_csv(\"train_scores3.csv\")\n",
    "    train_result_strat4_sorted.to_csv(\"train_scores4.csv\")"
   ]
  },
  {
   "cell_type": "markdown",
   "id": "headed-receiver",
   "metadata": {},
   "source": [
    "#### **Find best cutoff value and print metrics:**"
   ]
  },
  {
   "cell_type": "markdown",
   "id": "expensive-toddler",
   "metadata": {},
   "source": [
    "*cutoff/accuracy for different strategies:*"
   ]
  },
  {
   "cell_type": "code",
   "execution_count": 22,
   "id": "naked-forth",
   "metadata": {},
   "outputs": [
    {
     "name": "stdout",
     "output_type": "stream",
     "text": [
      "Strategy 1:  [5, 0.7528089887640449] \n",
      "Strategy 2:  [5, 0.7640449438202247] \n",
      "Strategy 3:  [-3, 0.7865168539325843] \n",
      "Strategy 4:  [-3, 0.7865168539325843]\n"
     ]
    }
   ],
   "source": [
    "print(\n",
    "\"Strategy 1: \",\n",
    "get_cutoff(train_result_strat1[\"LABEL\"].to_list(), train_result_strat1[\"SCORE\"].to_list()),\n",
    "\"\\nStrategy 2: \",\n",
    "get_cutoff(train_result_strat2[\"LABEL\"].to_list(), train_result_strat2[\"SCORE\"].to_list()),\n",
    "\"\\nStrategy 3: \",\n",
    "get_cutoff(train_result_strat3[\"LABEL\"].to_list(), train_result_strat3[\"SCORE\"].to_list()),\n",
    "\"\\nStrategy 4: \",\n",
    "get_cutoff(train_result_strat4[\"LABEL\"].to_list(), train_result_strat4[\"SCORE\"].to_list())\n",
    ")"
   ]
  },
  {
   "cell_type": "markdown",
   "id": "worst-premium",
   "metadata": {},
   "source": [
    "*accuracy for best cutoff:*"
   ]
  },
  {
   "cell_type": "code",
   "execution_count": 23,
   "id": "actual-boston",
   "metadata": {},
   "outputs": [
    {
     "name": "stdout",
     "output_type": "stream",
     "text": [
      "Strategy 1:  0.7528089887640449 \n",
      "Strategy 2:  0.7640449438202247 \n",
      "Strategy 3:  0.7865168539325843 \n",
      "Strategy 4:  0.7865168539325843\n"
     ]
    }
   ],
   "source": [
    "print(\n",
    "\"Strategy 1: \",\n",
    "test_cutoff(train_result_strat1[\"LABEL\"].to_list(), train_result_strat1[\"SCORE\"].to_list(), 5, \"accuracy\"),\n",
    "\"\\nStrategy 2: \",\n",
    "test_cutoff(train_result_strat2[\"LABEL\"].to_list(), train_result_strat2[\"SCORE\"].to_list(), 5, \"accuracy\"),\n",
    "\"\\nStrategy 3: \",\n",
    "test_cutoff(train_result_strat3[\"LABEL\"].to_list(), train_result_strat3[\"SCORE\"].to_list(), -3, \"accuracy\"),\n",
    "\"\\nStrategy 4: \",\n",
    "test_cutoff(train_result_strat4[\"LABEL\"].to_list(), train_result_strat4[\"SCORE\"].to_list(), -3, \"accuracy\")\n",
    ")"
   ]
  },
  {
   "cell_type": "markdown",
   "id": "sitting-football",
   "metadata": {},
   "source": [
    "*false positive rate for best cutoff:*"
   ]
  },
  {
   "cell_type": "code",
   "execution_count": 24,
   "id": "dramatic-sympathy",
   "metadata": {},
   "outputs": [
    {
     "name": "stdout",
     "output_type": "stream",
     "text": [
      "Strategy 1:  0.6333333333333333 \n",
      "Strategy 2:  0.6333333333333333 \n",
      "Strategy 3:  0.6 \n",
      "Strategy 4:  0.6\n"
     ]
    }
   ],
   "source": [
    "print(\n",
    "\"Strategy 1: \",\n",
    "test_cutoff(train_result_strat1[\"LABEL\"].to_list(), train_result_strat1[\"SCORE\"].to_list(), 5, \"fpr\"),\n",
    "\"\\nStrategy 2: \",\n",
    "test_cutoff(train_result_strat2[\"LABEL\"].to_list(), train_result_strat2[\"SCORE\"].to_list(), 5, \"fpr\"),\n",
    "\"\\nStrategy 3: \",\n",
    "test_cutoff(train_result_strat3[\"LABEL\"].to_list(), train_result_strat3[\"SCORE\"].to_list(), -3, \"fpr\"),\n",
    "\"\\nStrategy 4: \",\n",
    "test_cutoff(train_result_strat4[\"LABEL\"].to_list(), train_result_strat4[\"SCORE\"].to_list(), -3, \"fpr\")\n",
    ")"
   ]
  },
  {
   "cell_type": "markdown",
   "id": "serious-citation",
   "metadata": {},
   "source": [
    "#### **Calculate validation and test results:**"
   ]
  },
  {
   "cell_type": "code",
   "execution_count": 25,
   "id": "boxed-parallel",
   "metadata": {},
   "outputs": [],
   "source": [
    "# make data copies\n",
    "val_result_strat1 = data_val.copy()\n",
    "val_result_strat2 = data_val.copy()\n",
    "val_result_strat3 = data_val.copy()\n",
    "val_result_strat4 = data_val.copy()\n",
    "# calculate scores\n",
    "val_result_strat1[\"SCORE\"] = val_result_strat1.apply(lambda x: score(x, positives, negatives, \"+\"), axis = 1)\n",
    "val_result_strat2[\"SCORE\"] = val_result_strat2.apply(lambda x: score(x, positives, negatives, \"++\"), axis = 1)\n",
    "val_result_strat3[\"SCORE\"] = val_result_strat3.apply(lambda x: score(x, positives, negatives, \"+-\"), axis = 1)\n",
    "val_result_strat4[\"SCORE\"] = val_result_strat4.apply(lambda x: score(x, positives, negatives, \"++--\"), axis = 1)\n",
    "# sort data\n",
    "val_result_strat1_sorted = val_result_strat1.sort_values(by = \"SCORE\", ascending = False)\n",
    "val_result_strat2_sorted = val_result_strat2.sort_values(by = \"SCORE\", ascending = False)\n",
    "val_result_strat3_sorted = val_result_strat3.sort_values(by = \"SCORE\", ascending = False)\n",
    "val_result_strat4_sorted = val_result_strat4.sort_values(by = \"SCORE\", ascending = False)"
   ]
  },
  {
   "cell_type": "code",
   "execution_count": 26,
   "id": "operating-abortion",
   "metadata": {},
   "outputs": [],
   "source": [
    "# make data copies\n",
    "test_result_strat1 = data_test.copy()\n",
    "test_result_strat2 = data_test.copy()\n",
    "test_result_strat3 = data_test.copy()\n",
    "test_result_strat4 = data_test.copy()\n",
    "# calculate scores\n",
    "test_result_strat1[\"SCORE\"] = test_result_strat1.apply(lambda x: score(x, positives, negatives, \"+\"), axis = 1)\n",
    "test_result_strat2[\"SCORE\"] = test_result_strat2.apply(lambda x: score(x, positives, negatives, \"++\"), axis = 1)\n",
    "test_result_strat3[\"SCORE\"] = test_result_strat3.apply(lambda x: score(x, positives, negatives, \"+-\"), axis = 1)\n",
    "test_result_strat4[\"SCORE\"] = test_result_strat4.apply(lambda x: score(x, positives, negatives, \"++--\"), axis = 1)\n",
    "# sort data\n",
    "test_result_strat1_sorted = test_result_strat1.sort_values(by = \"SCORE\", ascending = False)\n",
    "test_result_strat2_sorted = test_result_strat2.sort_values(by = \"SCORE\", ascending = False)\n",
    "test_result_strat3_sorted = test_result_strat3.sort_values(by = \"SCORE\", ascending = False)\n",
    "test_result_strat4_sorted = test_result_strat4.sort_values(by = \"SCORE\", ascending = False)"
   ]
  },
  {
   "cell_type": "markdown",
   "id": "complicated-nudist",
   "metadata": {},
   "source": [
    "#### **Quality metrics for training and validation data:**"
   ]
  },
  {
   "cell_type": "markdown",
   "id": "consolidated-hamburg",
   "metadata": {},
   "source": [
    "*training data:*"
   ]
  },
  {
   "cell_type": "code",
   "execution_count": 27,
   "id": "explicit-marshall",
   "metadata": {},
   "outputs": [
    {
     "name": "stdout",
     "output_type": "stream",
     "text": [
      "Strategy 1:  {'ACC': 0.7528089887640449, 'FPR': 0.6333333333333333, 'AUC': 0.8121468926553673, 'Ya': 0.7466666666666667, 'EF': 1.1263276836158194, 'REF': 94.91525423728814} \n",
      "Strategy 2:  {'ACC': 0.7640449438202247, 'FPR': 0.6333333333333333, 'AUC': 0.8002824858757063, 'Ya': 0.75, 'EF': 1.13135593220339, 'REF': 96.61016949152543} \n",
      "Strategy 3:  {'ACC': 0.7865168539325843, 'FPR': 0.6, 'AUC': 0.7728813559322034, 'Ya': 0.7631578947368421, 'EF': 1.1512042818911687, 'REF': 98.30508474576271} \n",
      "Strategy 4:  {'ACC': 0.7865168539325843, 'FPR': 0.6, 'AUC': 0.7607344632768361, 'Ya': 0.7631578947368421, 'EF': 1.1512042818911687, 'REF': 98.30508474576271}\n"
     ]
    }
   ],
   "source": [
    "print(\n",
    "\"Strategy 1: \",\n",
    "get_metrics(train_result_strat1, 5, pretty_print = True),\n",
    "\"\\nStrategy 2: \",\n",
    "get_metrics(train_result_strat2, 5, pretty_print = True),\n",
    "\"\\nStrategy 3: \",\n",
    "get_metrics(train_result_strat3, -3, pretty_print = True),\n",
    "\"\\nStrategy 4: \",\n",
    "get_metrics(train_result_strat4, -3, pretty_print = True)\n",
    ")"
   ]
  },
  {
   "cell_type": "code",
   "execution_count": 28,
   "id": "technical-dayton",
   "metadata": {},
   "outputs": [
    {
     "data": {
      "image/png": "[encoded data removed]",
      "text/plain": [
       "<Figure size 720x720 with 2 Axes>"
      ]
     },
     "metadata": {
      "needs_background": "light"
     },
     "output_type": "display_data"
    }
   ],
   "source": [
    "plot_confusion_matrix(get_metrics(train_result_strat4, -3)[\"CM\"], classes = [0, 1], filename = \"results/CM_train_strat4.png\");"
   ]
  },
  {
   "cell_type": "code",
   "execution_count": 29,
   "id": "dutch-hammer",
   "metadata": {},
   "outputs": [
    {
     "data": {
      "image/png": "[encoded data removed]",
      "text/plain": [
       "<Figure size 720x720 with 1 Axes>"
      ]
     },
     "metadata": {
      "needs_background": "light"
     },
     "output_type": "display_data"
    }
   ],
   "source": [
    "roc = get_metrics(train_result_strat4, -3)[\"ROC\"]\n",
    "plot_ROC_curve(roc[\"fpr\"], roc[\"tpr\"], filename = \"results/ROC_train_strat4.png\");"
   ]
  },
  {
   "cell_type": "markdown",
   "id": "historic-nicaragua",
   "metadata": {},
   "source": [
    "*validation data:*"
   ]
  },
  {
   "cell_type": "code",
   "execution_count": 30,
   "id": "finite-german",
   "metadata": {},
   "outputs": [
    {
     "name": "stdout",
     "output_type": "stream",
     "text": [
      "Strategy 1:  {'ACC': 0.6521739130434783, 'FPR': 0.7142857142857143, 'AUC': 0.59375, 'Ya': 0.7222222222222222, 'EF': 1.0381944444444444, 'REF': 81.25} \n",
      "Strategy 2:  {'ACC': 0.6521739130434783, 'FPR': 0.7142857142857143, 'AUC': 0.6026785714285714, 'Ya': 0.7222222222222222, 'EF': 1.0381944444444444, 'REF': 81.25} \n",
      "Strategy 3:  {'ACC': 0.7391304347826086, 'FPR': 0.7142857142857143, 'AUC': 0.6785714285714286, 'Ya': 0.75, 'EF': 1.078125, 'REF': 93.75} \n",
      "Strategy 4:  {'ACC': 0.782608695652174, 'FPR': 0.7142857142857143, 'AUC': 0.6830357142857143, 'Ya': 0.7619047619047619, 'EF': 1.0952380952380951, 'REF': 100.0}\n"
     ]
    }
   ],
   "source": [
    "print(\n",
    "\"Strategy 1: \",\n",
    "get_metrics(val_result_strat1, 5, pretty_print = True),\n",
    "\"\\nStrategy 2: \",\n",
    "get_metrics(val_result_strat2, 5, pretty_print = True),\n",
    "\"\\nStrategy 3: \",\n",
    "get_metrics(val_result_strat3, -3, pretty_print = True),\n",
    "\"\\nStrategy 4: \",\n",
    "get_metrics(val_result_strat4, -3, pretty_print = True)\n",
    ")"
   ]
  },
  {
   "cell_type": "code",
   "execution_count": 31,
   "id": "manual-paragraph",
   "metadata": {},
   "outputs": [
    {
     "data": {
      "image/png": "[encoded data removed]",
      "text/plain": [
       "<Figure size 720x720 with 2 Axes>"
      ]
     },
     "metadata": {
      "needs_background": "light"
     },
     "output_type": "display_data"
    }
   ],
   "source": [
    "plot_confusion_matrix(get_metrics(val_result_strat4, -3)[\"CM\"], classes = [0, 1], filename = \"results/CM_val_strat4.png\");"
   ]
  },
  {
   "cell_type": "code",
   "execution_count": 32,
   "id": "thirty-colorado",
   "metadata": {},
   "outputs": [
    {
     "data": {
      "image/png": "[encoded data removed]",
      "text/plain": [
       "<Figure size 720x720 with 1 Axes>"
      ]
     },
     "metadata": {
      "needs_background": "light"
     },
     "output_type": "display_data"
    }
   ],
   "source": [
    "roc = get_metrics(val_result_strat4, -3)[\"ROC\"]\n",
    "plot_ROC_curve(roc[\"fpr\"], roc[\"tpr\"], filename = \"results/ROC_val_strat4.png\");"
   ]
  },
  {
   "cell_type": "markdown",
   "id": "champion-relations",
   "metadata": {},
   "source": [
    "*test data:*"
   ]
  },
  {
   "cell_type": "code",
   "execution_count": 33,
   "id": "improved-danish",
   "metadata": {},
   "outputs": [
    {
     "name": "stdout",
     "output_type": "stream",
     "text": [
      "Strategy 1:  {'ACC': 0.6206896551724138, 'FPR': 0.8, 'AUC': 0.47894736842105257, 'Ya': 0.6666666666666666, 'EF': 1.0175438596491229, 'REF': 84.21052631578948} \n",
      "Strategy 2:  {'ACC': 0.6206896551724138, 'FPR': 0.8, 'AUC': 0.5236842105263159, 'Ya': 0.6666666666666666, 'EF': 1.0175438596491229, 'REF': 84.21052631578948} \n",
      "Strategy 3:  {'ACC': 0.6551724137931034, 'FPR': 0.8, 'AUC': 0.4921052631578947, 'Ya': 0.68, 'EF': 1.0378947368421054, 'REF': 89.47368421052632} \n",
      "Strategy 4:  {'ACC': 0.6551724137931034, 'FPR': 0.8, 'AUC': 0.5052631578947369, 'Ya': 0.68, 'EF': 1.0378947368421054, 'REF': 89.47368421052632}\n"
     ]
    }
   ],
   "source": [
    "print(\n",
    "\"Strategy 1: \",\n",
    "get_metrics(test_result_strat1, 5, pretty_print = True),\n",
    "\"\\nStrategy 2: \",\n",
    "get_metrics(test_result_strat2, 5, pretty_print = True),\n",
    "\"\\nStrategy 3: \",\n",
    "get_metrics(test_result_strat3, -3, pretty_print = True),\n",
    "\"\\nStrategy 4: \",\n",
    "get_metrics(test_result_strat4, -3, pretty_print = True)\n",
    ")"
   ]
  },
  {
   "cell_type": "code",
   "execution_count": 34,
   "id": "verified-adobe",
   "metadata": {},
   "outputs": [
    {
     "data": {
      "image/png": "[encoded data removed]",
      "text/plain": [
       "<Figure size 720x720 with 2 Axes>"
      ]
     },
     "metadata": {
      "needs_background": "light"
     },
     "output_type": "display_data"
    }
   ],
   "source": [
    "plot_confusion_matrix(get_metrics(test_result_strat4, -3)[\"CM\"], classes = [0, 1], filename = \"results/CM_test_strat4.png\");"
   ]
  },
  {
   "cell_type": "code",
   "execution_count": 35,
   "id": "friendly-acquisition",
   "metadata": {},
   "outputs": [
    {
     "data": {
      "image/png": "[encoded data removed]",
      "text/plain": [
       "<Figure size 720x720 with 1 Axes>"
      ]
     },
     "metadata": {
      "needs_background": "light"
     },
     "output_type": "display_data"
    }
   ],
   "source": [
    "roc = get_metrics(test_result_strat4, -3)[\"ROC\"]\n",
    "plot_ROC_curve(roc[\"fpr\"], roc[\"tpr\"], filename = \"results/ROC_test_strat4.png\");"
   ]
  },
  {
   "cell_type": "markdown",
   "id": "arctic-perfume",
   "metadata": {},
   "source": [
    "#### **Clean up:**"
   ]
  },
  {
   "cell_type": "code",
   "execution_count": 36,
   "id": "fourth-complexity",
   "metadata": {},
   "outputs": [],
   "source": [
    "os.remove(\"scoring.py\")"
   ]
  },
  {
   "cell_type": "code",
   "execution_count": null,
   "id": "leading-triple",
   "metadata": {},
   "outputs": [],
   "source": []
  }
 ],
 "metadata": {
  "kernelspec": {
   "display_name": "Python 3",
   "language": "python",
   "name": "python3"
  },
  "language_info": {
   "codemirror_mode": {
    "name": "ipython",
    "version": 3
   },
   "file_extension": ".py",
   "mimetype": "text/x-python",
   "name": "python",
   "nbconvert_exporter": "python",
   "pygments_lexer": "ipython3",
   "version": "3.8.8"
  }
 },
 "nbformat": 4,
 "nbformat_minor": 5
}
