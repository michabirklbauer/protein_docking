{
 "cells": [
  {
   "cell_type": "markdown",
   "id": "bronze-progress",
   "metadata": {},
   "source": [
    "## **SCORING - Vitamin E: Workflow 6.1 with decoys**\n",
    "#### **Micha Birklbauer 2021-08-17**"
   ]
  },
  {
   "cell_type": "code",
   "execution_count": 1,
   "id": "sized-satin",
   "metadata": {},
   "outputs": [
    {
     "data": {
      "text/plain": [
       "'scoring.py'"
      ]
     },
     "execution_count": 1,
     "metadata": {},
     "output_type": "execute_result"
    }
   ],
   "source": [
    "import os\n",
    "from shutil import copyfile\n",
    "from itertools import islice\n",
    "copyfile(\"../../../scripts/python/scoring.py\", \"scoring.py\")"
   ]
  },
  {
   "cell_type": "code",
   "execution_count": 2,
   "id": "vanilla-calibration",
   "metadata": {},
   "outputs": [],
   "source": [
    "import pandas as pd\n",
    "from scoring import *"
   ]
  },
  {
   "cell_type": "markdown",
   "id": "hollywood-figure",
   "metadata": {},
   "source": [
    "#### **Load data:**"
   ]
  },
  {
   "cell_type": "code",
   "execution_count": 3,
   "id": "understood-michael",
   "metadata": {},
   "outputs": [],
   "source": [
    "data_train = pd.read_csv(\"data_train.csv\")\n",
    "data_val = pd.read_csv(\"data_val.csv\")\n",
    "data_test = pd.read_csv(\"data_test.csv\")\n",
    "features = pd.read_csv(\"features.csv\")"
   ]
  },
  {
   "cell_type": "code",
   "execution_count": 4,
   "id": "designing-tampa",
   "metadata": {},
   "outputs": [],
   "source": [
    "# data_train.info()"
   ]
  },
  {
   "cell_type": "code",
   "execution_count": 5,
   "id": "aware-adolescent",
   "metadata": {},
   "outputs": [
    {
     "data": {
      "text/html": [
       "<div>\n",
       "<style scoped>\n",
       "    .dataframe tbody tr th:only-of-type {\n",
       "        vertical-align: middle;\n",
       "    }\n",
       "\n",
       "    .dataframe tbody tr th {\n",
       "        vertical-align: top;\n",
       "    }\n",
       "\n",
       "    .dataframe thead th {\n",
       "        text-align: right;\n",
       "    }\n",
       "</style>\n",
       "<table border=\"1\" class=\"dataframe\">\n",
       "  <thead>\n",
       "    <tr style=\"text-align: right;\">\n",
       "      <th></th>\n",
       "      <th>INDEX</th>\n",
       "      <th>NAME</th>\n",
       "      <th>Halogen_Bond:ILE126B</th>\n",
       "      <th>Hydrogen_Bond:TYR383B</th>\n",
       "      <th>Hydrogen_Bond:CYS99B</th>\n",
       "      <th>Hydrophobic_Interaction:ASP166B</th>\n",
       "      <th>Hydrogen_Bond:HIS130B</th>\n",
       "      <th>Hydrophobic_Interaction:LEU135B</th>\n",
       "      <th>Hydrogen_Bond:GLY105B</th>\n",
       "      <th>Hydrophobic_Interaction:LEU66B</th>\n",
       "      <th>...</th>\n",
       "      <th>Halogen_Bond:HIS624B</th>\n",
       "      <th>Hydrophobic_Interaction:LYS133B</th>\n",
       "      <th>Salt_Bridge:LYS133B</th>\n",
       "      <th>Halogen_Bond:TYR100B</th>\n",
       "      <th>Pi-Cation_Interaction:ARG138B</th>\n",
       "      <th>Hydrophobic_Interaction:HIS130B</th>\n",
       "      <th>Hydrophobic_Interaction:ILE167B</th>\n",
       "      <th>Hydrophobic_Interaction:ARG112B</th>\n",
       "      <th>Hydrophobic_Interaction:ILE126B</th>\n",
       "      <th>LABEL</th>\n",
       "    </tr>\n",
       "  </thead>\n",
       "  <tbody>\n",
       "    <tr>\n",
       "      <th>0</th>\n",
       "      <td>1</td>\n",
       "      <td>CHEMBL1669722|chembl5lox_decoys|sdf|342</td>\n",
       "      <td>0</td>\n",
       "      <td>1</td>\n",
       "      <td>0</td>\n",
       "      <td>0</td>\n",
       "      <td>0</td>\n",
       "      <td>1</td>\n",
       "      <td>0</td>\n",
       "      <td>1</td>\n",
       "      <td>...</td>\n",
       "      <td>0</td>\n",
       "      <td>0</td>\n",
       "      <td>0</td>\n",
       "      <td>0</td>\n",
       "      <td>0</td>\n",
       "      <td>1</td>\n",
       "      <td>0</td>\n",
       "      <td>1</td>\n",
       "      <td>0</td>\n",
       "      <td>inactive</td>\n",
       "    </tr>\n",
       "    <tr>\n",
       "      <th>1</th>\n",
       "      <td>2</td>\n",
       "      <td>CHEMBL525954|chembl5lox_decoys|sdf|177</td>\n",
       "      <td>0</td>\n",
       "      <td>0</td>\n",
       "      <td>0</td>\n",
       "      <td>0</td>\n",
       "      <td>0</td>\n",
       "      <td>0</td>\n",
       "      <td>0</td>\n",
       "      <td>0</td>\n",
       "      <td>...</td>\n",
       "      <td>0</td>\n",
       "      <td>0</td>\n",
       "      <td>0</td>\n",
       "      <td>0</td>\n",
       "      <td>0</td>\n",
       "      <td>0</td>\n",
       "      <td>0</td>\n",
       "      <td>0</td>\n",
       "      <td>0</td>\n",
       "      <td>inactive</td>\n",
       "    </tr>\n",
       "    <tr>\n",
       "      <th>2</th>\n",
       "      <td>3</td>\n",
       "      <td>CHEMBL3040216|chembl5lox_decoys|sdf|485</td>\n",
       "      <td>0</td>\n",
       "      <td>1</td>\n",
       "      <td>1</td>\n",
       "      <td>1</td>\n",
       "      <td>0</td>\n",
       "      <td>0</td>\n",
       "      <td>0</td>\n",
       "      <td>0</td>\n",
       "      <td>...</td>\n",
       "      <td>0</td>\n",
       "      <td>0</td>\n",
       "      <td>0</td>\n",
       "      <td>0</td>\n",
       "      <td>0</td>\n",
       "      <td>0</td>\n",
       "      <td>1</td>\n",
       "      <td>1</td>\n",
       "      <td>0</td>\n",
       "      <td>inactive</td>\n",
       "    </tr>\n",
       "    <tr>\n",
       "      <th>3</th>\n",
       "      <td>4</td>\n",
       "      <td>CHEMBL502202|chembl5lox_decoys|sdf|162</td>\n",
       "      <td>0</td>\n",
       "      <td>1</td>\n",
       "      <td>1</td>\n",
       "      <td>1</td>\n",
       "      <td>2</td>\n",
       "      <td>0</td>\n",
       "      <td>0</td>\n",
       "      <td>0</td>\n",
       "      <td>...</td>\n",
       "      <td>0</td>\n",
       "      <td>1</td>\n",
       "      <td>0</td>\n",
       "      <td>0</td>\n",
       "      <td>0</td>\n",
       "      <td>1</td>\n",
       "      <td>0</td>\n",
       "      <td>0</td>\n",
       "      <td>0</td>\n",
       "      <td>inactive</td>\n",
       "    </tr>\n",
       "    <tr>\n",
       "      <th>4</th>\n",
       "      <td>5</td>\n",
       "      <td>CHEMBL4525644|chembl5lox_decoys|sdf|146</td>\n",
       "      <td>1</td>\n",
       "      <td>0</td>\n",
       "      <td>0</td>\n",
       "      <td>0</td>\n",
       "      <td>1</td>\n",
       "      <td>0</td>\n",
       "      <td>0</td>\n",
       "      <td>0</td>\n",
       "      <td>...</td>\n",
       "      <td>0</td>\n",
       "      <td>1</td>\n",
       "      <td>0</td>\n",
       "      <td>0</td>\n",
       "      <td>1</td>\n",
       "      <td>1</td>\n",
       "      <td>0</td>\n",
       "      <td>0</td>\n",
       "      <td>0</td>\n",
       "      <td>inactive</td>\n",
       "    </tr>\n",
       "    <tr>\n",
       "      <th>...</th>\n",
       "      <td>...</td>\n",
       "      <td>...</td>\n",
       "      <td>...</td>\n",
       "      <td>...</td>\n",
       "      <td>...</td>\n",
       "      <td>...</td>\n",
       "      <td>...</td>\n",
       "      <td>...</td>\n",
       "      <td>...</td>\n",
       "      <td>...</td>\n",
       "      <td>...</td>\n",
       "      <td>...</td>\n",
       "      <td>...</td>\n",
       "      <td>...</td>\n",
       "      <td>...</td>\n",
       "      <td>...</td>\n",
       "      <td>...</td>\n",
       "      <td>...</td>\n",
       "      <td>...</td>\n",
       "      <td>...</td>\n",
       "      <td>...</td>\n",
       "    </tr>\n",
       "    <tr>\n",
       "      <th>475</th>\n",
       "      <td>476</td>\n",
       "      <td>CHEMBL2008956|chembl5lox_decoys|sdf|419</td>\n",
       "      <td>0</td>\n",
       "      <td>0</td>\n",
       "      <td>0</td>\n",
       "      <td>0</td>\n",
       "      <td>0</td>\n",
       "      <td>0</td>\n",
       "      <td>0</td>\n",
       "      <td>0</td>\n",
       "      <td>...</td>\n",
       "      <td>0</td>\n",
       "      <td>0</td>\n",
       "      <td>0</td>\n",
       "      <td>0</td>\n",
       "      <td>0</td>\n",
       "      <td>0</td>\n",
       "      <td>0</td>\n",
       "      <td>0</td>\n",
       "      <td>0</td>\n",
       "      <td>inactive</td>\n",
       "    </tr>\n",
       "    <tr>\n",
       "      <th>476</th>\n",
       "      <td>477</td>\n",
       "      <td>CHEMBL2001795|chembl5lox_decoys|sdf|429</td>\n",
       "      <td>0</td>\n",
       "      <td>0</td>\n",
       "      <td>0</td>\n",
       "      <td>0</td>\n",
       "      <td>0</td>\n",
       "      <td>0</td>\n",
       "      <td>0</td>\n",
       "      <td>0</td>\n",
       "      <td>...</td>\n",
       "      <td>0</td>\n",
       "      <td>0</td>\n",
       "      <td>0</td>\n",
       "      <td>0</td>\n",
       "      <td>0</td>\n",
       "      <td>0</td>\n",
       "      <td>0</td>\n",
       "      <td>0</td>\n",
       "      <td>0</td>\n",
       "      <td>inactive</td>\n",
       "    </tr>\n",
       "    <tr>\n",
       "      <th>477</th>\n",
       "      <td>478</td>\n",
       "      <td>CHEMBL232741|chembl5lox_decoys|sdf|82</td>\n",
       "      <td>0</td>\n",
       "      <td>0</td>\n",
       "      <td>0</td>\n",
       "      <td>1</td>\n",
       "      <td>0</td>\n",
       "      <td>0</td>\n",
       "      <td>0</td>\n",
       "      <td>0</td>\n",
       "      <td>...</td>\n",
       "      <td>0</td>\n",
       "      <td>0</td>\n",
       "      <td>0</td>\n",
       "      <td>0</td>\n",
       "      <td>0</td>\n",
       "      <td>0</td>\n",
       "      <td>0</td>\n",
       "      <td>0</td>\n",
       "      <td>0</td>\n",
       "      <td>inactive</td>\n",
       "    </tr>\n",
       "    <tr>\n",
       "      <th>478</th>\n",
       "      <td>479</td>\n",
       "      <td>CHEMBL1990186|chembl5lox_decoys|sdf|431</td>\n",
       "      <td>0</td>\n",
       "      <td>0</td>\n",
       "      <td>0</td>\n",
       "      <td>0</td>\n",
       "      <td>0</td>\n",
       "      <td>0</td>\n",
       "      <td>0</td>\n",
       "      <td>0</td>\n",
       "      <td>...</td>\n",
       "      <td>0</td>\n",
       "      <td>0</td>\n",
       "      <td>0</td>\n",
       "      <td>0</td>\n",
       "      <td>0</td>\n",
       "      <td>0</td>\n",
       "      <td>0</td>\n",
       "      <td>0</td>\n",
       "      <td>0</td>\n",
       "      <td>inactive</td>\n",
       "    </tr>\n",
       "    <tr>\n",
       "      <th>479</th>\n",
       "      <td>480</td>\n",
       "      <td>CHEMBL3275137|chembl5lox_decoys|sdf|524</td>\n",
       "      <td>0</td>\n",
       "      <td>0</td>\n",
       "      <td>0</td>\n",
       "      <td>0</td>\n",
       "      <td>0</td>\n",
       "      <td>0</td>\n",
       "      <td>0</td>\n",
       "      <td>0</td>\n",
       "      <td>...</td>\n",
       "      <td>0</td>\n",
       "      <td>0</td>\n",
       "      <td>0</td>\n",
       "      <td>0</td>\n",
       "      <td>1</td>\n",
       "      <td>0</td>\n",
       "      <td>0</td>\n",
       "      <td>0</td>\n",
       "      <td>0</td>\n",
       "      <td>inactive</td>\n",
       "    </tr>\n",
       "  </tbody>\n",
       "</table>\n",
       "<p>480 rows × 143 columns</p>\n",
       "</div>"
      ],
      "text/plain": [
       "     INDEX                                     NAME  Halogen_Bond:ILE126B  \\\n",
       "0        1  CHEMBL1669722|chembl5lox_decoys|sdf|342                     0   \n",
       "1        2   CHEMBL525954|chembl5lox_decoys|sdf|177                     0   \n",
       "2        3  CHEMBL3040216|chembl5lox_decoys|sdf|485                     0   \n",
       "3        4   CHEMBL502202|chembl5lox_decoys|sdf|162                     0   \n",
       "4        5  CHEMBL4525644|chembl5lox_decoys|sdf|146                     1   \n",
       "..     ...                                      ...                   ...   \n",
       "475    476  CHEMBL2008956|chembl5lox_decoys|sdf|419                     0   \n",
       "476    477  CHEMBL2001795|chembl5lox_decoys|sdf|429                     0   \n",
       "477    478    CHEMBL232741|chembl5lox_decoys|sdf|82                     0   \n",
       "478    479  CHEMBL1990186|chembl5lox_decoys|sdf|431                     0   \n",
       "479    480  CHEMBL3275137|chembl5lox_decoys|sdf|524                     0   \n",
       "\n",
       "     Hydrogen_Bond:TYR383B  Hydrogen_Bond:CYS99B  \\\n",
       "0                        1                     0   \n",
       "1                        0                     0   \n",
       "2                        1                     1   \n",
       "3                        1                     1   \n",
       "4                        0                     0   \n",
       "..                     ...                   ...   \n",
       "475                      0                     0   \n",
       "476                      0                     0   \n",
       "477                      0                     0   \n",
       "478                      0                     0   \n",
       "479                      0                     0   \n",
       "\n",
       "     Hydrophobic_Interaction:ASP166B  Hydrogen_Bond:HIS130B  \\\n",
       "0                                  0                      0   \n",
       "1                                  0                      0   \n",
       "2                                  1                      0   \n",
       "3                                  1                      2   \n",
       "4                                  0                      1   \n",
       "..                               ...                    ...   \n",
       "475                                0                      0   \n",
       "476                                0                      0   \n",
       "477                                1                      0   \n",
       "478                                0                      0   \n",
       "479                                0                      0   \n",
       "\n",
       "     Hydrophobic_Interaction:LEU135B  Hydrogen_Bond:GLY105B  \\\n",
       "0                                  1                      0   \n",
       "1                                  0                      0   \n",
       "2                                  0                      0   \n",
       "3                                  0                      0   \n",
       "4                                  0                      0   \n",
       "..                               ...                    ...   \n",
       "475                                0                      0   \n",
       "476                                0                      0   \n",
       "477                                0                      0   \n",
       "478                                0                      0   \n",
       "479                                0                      0   \n",
       "\n",
       "     Hydrophobic_Interaction:LEU66B  ...  Halogen_Bond:HIS624B  \\\n",
       "0                                 1  ...                     0   \n",
       "1                                 0  ...                     0   \n",
       "2                                 0  ...                     0   \n",
       "3                                 0  ...                     0   \n",
       "4                                 0  ...                     0   \n",
       "..                              ...  ...                   ...   \n",
       "475                               0  ...                     0   \n",
       "476                               0  ...                     0   \n",
       "477                               0  ...                     0   \n",
       "478                               0  ...                     0   \n",
       "479                               0  ...                     0   \n",
       "\n",
       "     Hydrophobic_Interaction:LYS133B  Salt_Bridge:LYS133B  \\\n",
       "0                                  0                    0   \n",
       "1                                  0                    0   \n",
       "2                                  0                    0   \n",
       "3                                  1                    0   \n",
       "4                                  1                    0   \n",
       "..                               ...                  ...   \n",
       "475                                0                    0   \n",
       "476                                0                    0   \n",
       "477                                0                    0   \n",
       "478                                0                    0   \n",
       "479                                0                    0   \n",
       "\n",
       "     Halogen_Bond:TYR100B  Pi-Cation_Interaction:ARG138B  \\\n",
       "0                       0                              0   \n",
       "1                       0                              0   \n",
       "2                       0                              0   \n",
       "3                       0                              0   \n",
       "4                       0                              1   \n",
       "..                    ...                            ...   \n",
       "475                     0                              0   \n",
       "476                     0                              0   \n",
       "477                     0                              0   \n",
       "478                     0                              0   \n",
       "479                     0                              1   \n",
       "\n",
       "     Hydrophobic_Interaction:HIS130B  Hydrophobic_Interaction:ILE167B  \\\n",
       "0                                  1                                0   \n",
       "1                                  0                                0   \n",
       "2                                  0                                1   \n",
       "3                                  1                                0   \n",
       "4                                  1                                0   \n",
       "..                               ...                              ...   \n",
       "475                                0                                0   \n",
       "476                                0                                0   \n",
       "477                                0                                0   \n",
       "478                                0                                0   \n",
       "479                                0                                0   \n",
       "\n",
       "     Hydrophobic_Interaction:ARG112B  Hydrophobic_Interaction:ILE126B  \\\n",
       "0                                  1                                0   \n",
       "1                                  0                                0   \n",
       "2                                  1                                0   \n",
       "3                                  0                                0   \n",
       "4                                  0                                0   \n",
       "..                               ...                              ...   \n",
       "475                                0                                0   \n",
       "476                                0                                0   \n",
       "477                                0                                0   \n",
       "478                                0                                0   \n",
       "479                                0                                0   \n",
       "\n",
       "        LABEL  \n",
       "0    inactive  \n",
       "1    inactive  \n",
       "2    inactive  \n",
       "3    inactive  \n",
       "4    inactive  \n",
       "..        ...  \n",
       "475  inactive  \n",
       "476  inactive  \n",
       "477  inactive  \n",
       "478  inactive  \n",
       "479  inactive  \n",
       "\n",
       "[480 rows x 143 columns]"
      ]
     },
     "execution_count": 5,
     "metadata": {},
     "output_type": "execute_result"
    }
   ],
   "source": [
    "data_train"
   ]
  },
  {
   "cell_type": "code",
   "execution_count": 6,
   "id": "legislative-conversion",
   "metadata": {},
   "outputs": [
    {
     "name": "stdout",
     "output_type": "stream",
     "text": [
      "Training dataset shape & Nr. of actives:\n",
      "(480, 143) 62\n"
     ]
    }
   ],
   "source": [
    "print(\"Training dataset shape & Nr. of actives:\")\n",
    "print(data_train.shape, len(data_train.loc[data_train[\"LABEL\"] == \"active\"]))"
   ]
  },
  {
   "cell_type": "code",
   "execution_count": 7,
   "id": "satisfied-parcel",
   "metadata": {},
   "outputs": [
    {
     "name": "stdout",
     "output_type": "stream",
     "text": [
      "Validation dataset shape & Nr. of actives:\n",
      "(120, 143) 10\n"
     ]
    }
   ],
   "source": [
    "print(\"Validation dataset shape & Nr. of actives:\")\n",
    "print(data_val.shape, len(data_val.loc[data_val[\"LABEL\"] == \"active\"]))"
   ]
  },
  {
   "cell_type": "code",
   "execution_count": 8,
   "id": "loaded-traveler",
   "metadata": {},
   "outputs": [
    {
     "name": "stdout",
     "output_type": "stream",
     "text": [
      "Test dataset shape & Nr. of actives:\n",
      "(150, 143) 9\n"
     ]
    }
   ],
   "source": [
    "print(\"Test dataset shape & Nr. of actives:\")\n",
    "print(data_test.shape, len(data_test.loc[data_test[\"LABEL\"] == \"active\"]))"
   ]
  },
  {
   "cell_type": "code",
   "execution_count": 9,
   "id": "smooth-physiology",
   "metadata": {},
   "outputs": [
    {
     "data": {
      "text/html": [
       "<div>\n",
       "<style scoped>\n",
       "    .dataframe tbody tr th:only-of-type {\n",
       "        vertical-align: middle;\n",
       "    }\n",
       "\n",
       "    .dataframe tbody tr th {\n",
       "        vertical-align: top;\n",
       "    }\n",
       "\n",
       "    .dataframe thead th {\n",
       "        text-align: right;\n",
       "    }\n",
       "</style>\n",
       "<table border=\"1\" class=\"dataframe\">\n",
       "  <thead>\n",
       "    <tr style=\"text-align: right;\">\n",
       "      <th></th>\n",
       "      <th>INDEX</th>\n",
       "      <th>INTERACTION</th>\n",
       "      <th>DIFFERENCE</th>\n",
       "      <th>ACTIVE_FREQUENCY</th>\n",
       "      <th>INACTIVE_FREQUENCY</th>\n",
       "    </tr>\n",
       "  </thead>\n",
       "  <tbody>\n",
       "    <tr>\n",
       "      <th>0</th>\n",
       "      <td>1</td>\n",
       "      <td>Pi-Cation_Interaction:ARG101B</td>\n",
       "      <td>0.696944</td>\n",
       "      <td>0.145161</td>\n",
       "      <td>0.842105</td>\n",
       "    </tr>\n",
       "    <tr>\n",
       "      <th>1</th>\n",
       "      <td>2</td>\n",
       "      <td>Hydrogen_Bond:ARG138B</td>\n",
       "      <td>0.604183</td>\n",
       "      <td>0.096774</td>\n",
       "      <td>0.700957</td>\n",
       "    </tr>\n",
       "    <tr>\n",
       "      <th>2</th>\n",
       "      <td>3</td>\n",
       "      <td>Hydrophobic_Interaction:VAL107B</td>\n",
       "      <td>0.553480</td>\n",
       "      <td>0.790323</td>\n",
       "      <td>0.236842</td>\n",
       "    </tr>\n",
       "    <tr>\n",
       "      <th>3</th>\n",
       "      <td>4</td>\n",
       "      <td>Hydrogen_Bond:VAL110B</td>\n",
       "      <td>0.476154</td>\n",
       "      <td>0.064516</td>\n",
       "      <td>0.540670</td>\n",
       "    </tr>\n",
       "    <tr>\n",
       "      <th>4</th>\n",
       "      <td>5</td>\n",
       "      <td>Hydrophobic_Interaction:VAL110B</td>\n",
       "      <td>0.455626</td>\n",
       "      <td>0.596774</td>\n",
       "      <td>0.141148</td>\n",
       "    </tr>\n",
       "    <tr>\n",
       "      <th>...</th>\n",
       "      <td>...</td>\n",
       "      <td>...</td>\n",
       "      <td>...</td>\n",
       "      <td>...</td>\n",
       "      <td>...</td>\n",
       "    </tr>\n",
       "    <tr>\n",
       "      <th>135</th>\n",
       "      <td>136</td>\n",
       "      <td>Hydrophobic_Interaction:ASP122B</td>\n",
       "      <td>0.002392</td>\n",
       "      <td>0.000000</td>\n",
       "      <td>0.002392</td>\n",
       "    </tr>\n",
       "    <tr>\n",
       "      <th>136</th>\n",
       "      <td>137</td>\n",
       "      <td>Halogen_Bond:HIS624B</td>\n",
       "      <td>0.002392</td>\n",
       "      <td>0.000000</td>\n",
       "      <td>0.002392</td>\n",
       "    </tr>\n",
       "    <tr>\n",
       "      <th>137</th>\n",
       "      <td>138</td>\n",
       "      <td>Halogen_Bond:TYR100B</td>\n",
       "      <td>0.002392</td>\n",
       "      <td>0.000000</td>\n",
       "      <td>0.002392</td>\n",
       "    </tr>\n",
       "    <tr>\n",
       "      <th>138</th>\n",
       "      <td>139</td>\n",
       "      <td>Salt_Bridge:ARG138B</td>\n",
       "      <td>0.001929</td>\n",
       "      <td>0.112903</td>\n",
       "      <td>0.114833</td>\n",
       "    </tr>\n",
       "    <tr>\n",
       "      <th>139</th>\n",
       "      <td>140</td>\n",
       "      <td>Salt_Bridge:ASP166B</td>\n",
       "      <td>0.000540</td>\n",
       "      <td>0.048387</td>\n",
       "      <td>0.047847</td>\n",
       "    </tr>\n",
       "  </tbody>\n",
       "</table>\n",
       "<p>140 rows × 5 columns</p>\n",
       "</div>"
      ],
      "text/plain": [
       "     INDEX                      INTERACTION  DIFFERENCE  ACTIVE_FREQUENCY  \\\n",
       "0        1    Pi-Cation_Interaction:ARG101B    0.696944          0.145161   \n",
       "1        2            Hydrogen_Bond:ARG138B    0.604183          0.096774   \n",
       "2        3  Hydrophobic_Interaction:VAL107B    0.553480          0.790323   \n",
       "3        4            Hydrogen_Bond:VAL110B    0.476154          0.064516   \n",
       "4        5  Hydrophobic_Interaction:VAL110B    0.455626          0.596774   \n",
       "..     ...                              ...         ...               ...   \n",
       "135    136  Hydrophobic_Interaction:ASP122B    0.002392          0.000000   \n",
       "136    137             Halogen_Bond:HIS624B    0.002392          0.000000   \n",
       "137    138             Halogen_Bond:TYR100B    0.002392          0.000000   \n",
       "138    139              Salt_Bridge:ARG138B    0.001929          0.112903   \n",
       "139    140              Salt_Bridge:ASP166B    0.000540          0.048387   \n",
       "\n",
       "     INACTIVE_FREQUENCY  \n",
       "0              0.842105  \n",
       "1              0.700957  \n",
       "2              0.236842  \n",
       "3              0.540670  \n",
       "4              0.141148  \n",
       "..                  ...  \n",
       "135            0.002392  \n",
       "136            0.002392  \n",
       "137            0.002392  \n",
       "138            0.114833  \n",
       "139            0.047847  \n",
       "\n",
       "[140 rows x 5 columns]"
      ]
     },
     "execution_count": 9,
     "metadata": {},
     "output_type": "execute_result"
    }
   ],
   "source": [
    "features"
   ]
  },
  {
   "cell_type": "markdown",
   "id": "still-report",
   "metadata": {},
   "source": [
    "#### **Extract relevant features:**"
   ]
  },
  {
   "cell_type": "code",
   "execution_count": 10,
   "id": "wound-rugby",
   "metadata": {},
   "outputs": [],
   "source": [
    "optimized_values = get_optimized_feature_thresholds(features, data_train)"
   ]
  },
  {
   "cell_type": "code",
   "execution_count": 11,
   "id": "herbal-democracy",
   "metadata": {},
   "outputs": [
    {
     "name": "stdout",
     "output_type": "stream",
     "text": [
      "Key: 0.0, 0.0, 0.0: strat3 Accuracy: 0.9395833333333333\n",
      "Key: 0.0, 0.0, 0.0: strat4 Accuracy: 0.9395833333333333\n",
      "Key: 0.05, 0.0, 0.0: strat4 Accuracy: 0.9333333333333333\n",
      "Key: 0.1, 0.0, 0.0: strat4 Accuracy: 0.9333333333333333\n",
      "Key: 0.15000000000000002, 0.0, 0.0: strat4 Accuracy: 0.9333333333333333\n"
     ]
    }
   ],
   "source": [
    "for item in islice(optimized_values[\"ACC\"].items(), 5):\n",
    "    print('Key: {} Accuracy: {}'.format(item[0], item[1]))"
   ]
  },
  {
   "cell_type": "code",
   "execution_count": 12,
   "id": "about-grain",
   "metadata": {},
   "outputs": [
    {
     "name": "stdout",
     "output_type": "stream",
     "text": [
      "Key: 0.15000000000000002, 0.0, 0.0: strat4 Area under the ROC curve: 0.9596002469516901\n",
      "Key: 0.15000000000000002, 0.05, 0.0: strat4 Area under the ROC curve: 0.9585198333076091\n",
      "Key: 0.1, 0.05, 0.0: strat4 Area under the ROC curve: 0.958249729896589\n",
      "Key: 0.1, 0.0, 0.0: strat4 Area under the ROC curve: 0.9574972989658898\n",
      "Key: 0.15000000000000002, 0.0, 0.0: strat3 Area under the ROC curve: 0.9571307300509339\n"
     ]
    }
   ],
   "source": [
    "for item in islice(optimized_values[\"AUC\"].items(), 5):\n",
    "    print('Key: {} Area under the ROC curve: {}'.format(item[0], item[1]))"
   ]
  },
  {
   "cell_type": "code",
   "execution_count": 13,
   "id": "fabulous-assist",
   "metadata": {},
   "outputs": [],
   "source": [
    "optimized_values_val = get_optimized_feature_thresholds(features, data_train, data_val)"
   ]
  },
  {
   "cell_type": "code",
   "execution_count": 14,
   "id": "guided-crack",
   "metadata": {},
   "outputs": [
    {
     "name": "stdout",
     "output_type": "stream",
     "text": [
      "Key: 0.05, 0.1, 0.15000000000000002: strat3 Accuracy: 0.9333333333333333\n",
      "Key: 0.0, 0.15000000000000002, 0.35000000000000003: strat4 Accuracy: 0.925\n",
      "Key: 0.0, 0.15000000000000002, 0.4: strat4 Accuracy: 0.925\n",
      "Key: 0.0, 0.2, 0.35000000000000003: strat4 Accuracy: 0.925\n",
      "Key: 0.0, 0.2, 0.4: strat4 Accuracy: 0.925\n"
     ]
    }
   ],
   "source": [
    "for item in islice(optimized_values_val[\"ACC\"].items(), 5):\n",
    "    print('Key: {} Accuracy: {}'.format(item[0], item[1]))"
   ]
  },
  {
   "cell_type": "code",
   "execution_count": 15,
   "id": "african-reality",
   "metadata": {},
   "outputs": [
    {
     "name": "stdout",
     "output_type": "stream",
     "text": [
      "Key: 0.05, 0.1, 0.0: strat2 Area under the ROC curve: 0.9036363636363636\n",
      "Key: 0.05, 0.0, 0.0: strat2 Area under the ROC curve: 0.9031818181818181\n",
      "Key: 0.05, 0.05, 0.0: strat2 Area under the ROC curve: 0.9031818181818181\n",
      "Key: 0.05, 0.0, 0.0: strat1 Area under the ROC curve: 0.8927272727272728\n",
      "Key: 0.05, 0.05, 0.0: strat1 Area under the ROC curve: 0.8927272727272728\n"
     ]
    }
   ],
   "source": [
    "for item in islice(optimized_values_val[\"AUC\"].items(), 5):\n",
    "    print('Key: {} Area under the ROC curve: {}'.format(item[0], item[1]))"
   ]
  },
  {
   "cell_type": "code",
   "execution_count": 16,
   "id": "automotive-incident",
   "metadata": {},
   "outputs": [
    {
     "data": {
      "text/html": [
       "<div>\n",
       "<style scoped>\n",
       "    .dataframe tbody tr th:only-of-type {\n",
       "        vertical-align: middle;\n",
       "    }\n",
       "\n",
       "    .dataframe tbody tr th {\n",
       "        vertical-align: top;\n",
       "    }\n",
       "\n",
       "    .dataframe thead th {\n",
       "        text-align: right;\n",
       "    }\n",
       "</style>\n",
       "<table border=\"1\" class=\"dataframe\">\n",
       "  <thead>\n",
       "    <tr style=\"text-align: right;\">\n",
       "      <th></th>\n",
       "      <th>INDEX</th>\n",
       "      <th>INTERACTION</th>\n",
       "      <th>DIFFERENCE</th>\n",
       "      <th>ACTIVE_FREQUENCY</th>\n",
       "      <th>INACTIVE_FREQUENCY</th>\n",
       "    </tr>\n",
       "  </thead>\n",
       "  <tbody>\n",
       "    <tr>\n",
       "      <th>0</th>\n",
       "      <td>1</td>\n",
       "      <td>Pi-Cation_Interaction:ARG101B</td>\n",
       "      <td>0.696944</td>\n",
       "      <td>0.145161</td>\n",
       "      <td>0.842105</td>\n",
       "    </tr>\n",
       "    <tr>\n",
       "      <th>2</th>\n",
       "      <td>3</td>\n",
       "      <td>Hydrophobic_Interaction:VAL107B</td>\n",
       "      <td>0.553480</td>\n",
       "      <td>0.790323</td>\n",
       "      <td>0.236842</td>\n",
       "    </tr>\n",
       "    <tr>\n",
       "      <th>6</th>\n",
       "      <td>7</td>\n",
       "      <td>Hydrophobic_Interaction:LYS133B</td>\n",
       "      <td>0.401682</td>\n",
       "      <td>0.693548</td>\n",
       "      <td>0.291866</td>\n",
       "    </tr>\n",
       "    <tr>\n",
       "      <th>13</th>\n",
       "      <td>14</td>\n",
       "      <td>Hydrogen_Bond:ARG101B</td>\n",
       "      <td>0.246334</td>\n",
       "      <td>0.935484</td>\n",
       "      <td>1.181818</td>\n",
       "    </tr>\n",
       "    <tr>\n",
       "      <th>14</th>\n",
       "      <td>15</td>\n",
       "      <td>Hydrophobic_Interaction:GLU134B</td>\n",
       "      <td>0.239466</td>\n",
       "      <td>0.806452</td>\n",
       "      <td>0.566986</td>\n",
       "    </tr>\n",
       "    <tr>\n",
       "      <th>19</th>\n",
       "      <td>20</td>\n",
       "      <td>Hydrophobic_Interaction:THR137B</td>\n",
       "      <td>0.172866</td>\n",
       "      <td>0.483871</td>\n",
       "      <td>0.311005</td>\n",
       "    </tr>\n",
       "    <tr>\n",
       "      <th>24</th>\n",
       "      <td>25</td>\n",
       "      <td>Hydrogen_Bond:ASP166B</td>\n",
       "      <td>0.118382</td>\n",
       "      <td>0.532258</td>\n",
       "      <td>0.413876</td>\n",
       "    </tr>\n",
       "    <tr>\n",
       "      <th>25</th>\n",
       "      <td>26</td>\n",
       "      <td>Salt_Bridge:ARG101B</td>\n",
       "      <td>0.116762</td>\n",
       "      <td>0.112903</td>\n",
       "      <td>0.229665</td>\n",
       "    </tr>\n",
       "    <tr>\n",
       "      <th>26</th>\n",
       "      <td>27</td>\n",
       "      <td>Hydrophobic_Interaction:TYR142B</td>\n",
       "      <td>0.113289</td>\n",
       "      <td>0.290323</td>\n",
       "      <td>0.177033</td>\n",
       "    </tr>\n",
       "    <tr>\n",
       "      <th>29</th>\n",
       "      <td>30</td>\n",
       "      <td>Hydrogen_Bond:THR137B</td>\n",
       "      <td>0.101868</td>\n",
       "      <td>0.161290</td>\n",
       "      <td>0.263158</td>\n",
       "    </tr>\n",
       "    <tr>\n",
       "      <th>34</th>\n",
       "      <td>35</td>\n",
       "      <td>Hydrogen_Bond:GLU108B</td>\n",
       "      <td>0.066600</td>\n",
       "      <td>0.322581</td>\n",
       "      <td>0.255981</td>\n",
       "    </tr>\n",
       "    <tr>\n",
       "      <th>38</th>\n",
       "      <td>39</td>\n",
       "      <td>Hydrophobic_Interaction:ALA388B</td>\n",
       "      <td>0.054715</td>\n",
       "      <td>0.241935</td>\n",
       "      <td>0.296651</td>\n",
       "    </tr>\n",
       "    <tr>\n",
       "      <th>40</th>\n",
       "      <td>41</td>\n",
       "      <td>Hydrogen_Bond:HIS130B</td>\n",
       "      <td>0.051011</td>\n",
       "      <td>0.145161</td>\n",
       "      <td>0.196172</td>\n",
       "    </tr>\n",
       "  </tbody>\n",
       "</table>\n",
       "</div>"
      ],
      "text/plain": [
       "    INDEX                      INTERACTION  DIFFERENCE  ACTIVE_FREQUENCY  \\\n",
       "0       1    Pi-Cation_Interaction:ARG101B    0.696944          0.145161   \n",
       "2       3  Hydrophobic_Interaction:VAL107B    0.553480          0.790323   \n",
       "6       7  Hydrophobic_Interaction:LYS133B    0.401682          0.693548   \n",
       "13     14            Hydrogen_Bond:ARG101B    0.246334          0.935484   \n",
       "14     15  Hydrophobic_Interaction:GLU134B    0.239466          0.806452   \n",
       "19     20  Hydrophobic_Interaction:THR137B    0.172866          0.483871   \n",
       "24     25            Hydrogen_Bond:ASP166B    0.118382          0.532258   \n",
       "25     26              Salt_Bridge:ARG101B    0.116762          0.112903   \n",
       "26     27  Hydrophobic_Interaction:TYR142B    0.113289          0.290323   \n",
       "29     30            Hydrogen_Bond:THR137B    0.101868          0.161290   \n",
       "34     35            Hydrogen_Bond:GLU108B    0.066600          0.322581   \n",
       "38     39  Hydrophobic_Interaction:ALA388B    0.054715          0.241935   \n",
       "40     41            Hydrogen_Bond:HIS130B    0.051011          0.145161   \n",
       "\n",
       "    INACTIVE_FREQUENCY  \n",
       "0             0.842105  \n",
       "2             0.236842  \n",
       "6             0.291866  \n",
       "13            1.181818  \n",
       "14            0.566986  \n",
       "19            0.311005  \n",
       "24            0.413876  \n",
       "25            0.229665  \n",
       "26            0.177033  \n",
       "29            0.263158  \n",
       "34            0.255981  \n",
       "38            0.296651  \n",
       "40            0.196172  "
      ]
     },
     "execution_count": 16,
     "metadata": {},
     "output_type": "execute_result"
    }
   ],
   "source": [
    "features_filtered = get_relevant_features(features, 0.05, 0.1, 0.15000000000000002)\n",
    "features_filtered"
   ]
  },
  {
   "cell_type": "code",
   "execution_count": 17,
   "id": "published-national",
   "metadata": {},
   "outputs": [],
   "source": [
    "# some error checking -- should print nothing\n",
    "for item in features_filtered[\"INTERACTION\"].to_list():\n",
    "    if item not in data_train.columns.to_list():\n",
    "        print(item)"
   ]
  },
  {
   "cell_type": "markdown",
   "id": "specific-pattern",
   "metadata": {},
   "source": [
    "#### **Get positive features (e.g. features that have a positive impact on activeness) and negative features:**"
   ]
  },
  {
   "cell_type": "code",
   "execution_count": 18,
   "id": "environmental-specification",
   "metadata": {},
   "outputs": [],
   "source": [
    "positives, negatives = get_feature_impact(features_filtered)"
   ]
  },
  {
   "cell_type": "code",
   "execution_count": 19,
   "id": "instant-storm",
   "metadata": {},
   "outputs": [
    {
     "data": {
      "text/plain": [
       "['Hydrophobic_Interaction:VAL107B',\n",
       " 'Hydrophobic_Interaction:LYS133B',\n",
       " 'Hydrophobic_Interaction:GLU134B',\n",
       " 'Hydrophobic_Interaction:THR137B',\n",
       " 'Hydrogen_Bond:ASP166B',\n",
       " 'Hydrophobic_Interaction:TYR142B',\n",
       " 'Hydrogen_Bond:GLU108B']"
      ]
     },
     "execution_count": 19,
     "metadata": {},
     "output_type": "execute_result"
    }
   ],
   "source": [
    "positives"
   ]
  },
  {
   "cell_type": "code",
   "execution_count": 20,
   "id": "editorial-brighton",
   "metadata": {},
   "outputs": [
    {
     "data": {
      "text/plain": [
       "['Pi-Cation_Interaction:ARG101B',\n",
       " 'Hydrogen_Bond:ARG101B',\n",
       " 'Salt_Bridge:ARG101B',\n",
       " 'Hydrogen_Bond:THR137B',\n",
       " 'Hydrophobic_Interaction:ALA388B',\n",
       " 'Hydrogen_Bond:HIS130B']"
      ]
     },
     "execution_count": 20,
     "metadata": {},
     "output_type": "execute_result"
    }
   ],
   "source": [
    "negatives"
   ]
  },
  {
   "cell_type": "markdown",
   "id": "concerned-administrator",
   "metadata": {},
   "source": [
    "#### **Score Compounds with different strategies & save results:**"
   ]
  },
  {
   "cell_type": "code",
   "execution_count": 21,
   "id": "stock-quest",
   "metadata": {},
   "outputs": [],
   "source": [
    "save = False\n",
    "\n",
    "# make data copies\n",
    "train_result_strat1 = data_train.copy()\n",
    "train_result_strat2 = data_train.copy()\n",
    "train_result_strat3 = data_train.copy()\n",
    "train_result_strat4 = data_train.copy()\n",
    "# calculate scores\n",
    "train_result_strat1[\"SCORE\"] = train_result_strat1.apply(lambda x: score(x, positives, negatives, \"+\"), axis = 1)\n",
    "train_result_strat2[\"SCORE\"] = train_result_strat2.apply(lambda x: score(x, positives, negatives, \"++\"), axis = 1)\n",
    "train_result_strat3[\"SCORE\"] = train_result_strat3.apply(lambda x: score(x, positives, negatives, \"+-\"), axis = 1)\n",
    "train_result_strat4[\"SCORE\"] = train_result_strat4.apply(lambda x: score(x, positives, negatives, \"++--\"), axis = 1)\n",
    "# sort data\n",
    "train_result_strat1_sorted = train_result_strat1.sort_values(by = \"SCORE\", ascending = False)\n",
    "train_result_strat2_sorted = train_result_strat2.sort_values(by = \"SCORE\", ascending = False)\n",
    "train_result_strat3_sorted = train_result_strat3.sort_values(by = \"SCORE\", ascending = False)\n",
    "train_result_strat4_sorted = train_result_strat4.sort_values(by = \"SCORE\", ascending = False)\n",
    "# save data\n",
    "if save:\n",
    "    train_result_strat1_sorted.to_csv(\"train_scores1.csv\")\n",
    "    train_result_strat2_sorted.to_csv(\"train_scores2.csv\")\n",
    "    train_result_strat3_sorted.to_csv(\"train_scores3.csv\")\n",
    "    train_result_strat4_sorted.to_csv(\"train_scores4.csv\")"
   ]
  },
  {
   "cell_type": "markdown",
   "id": "matched-douglas",
   "metadata": {},
   "source": [
    "#### **Find best cutoff value and print metrics:**"
   ]
  },
  {
   "cell_type": "markdown",
   "id": "stone-tomato",
   "metadata": {},
   "source": [
    "*cutoff/accuracy for different strategies:*"
   ]
  },
  {
   "cell_type": "code",
   "execution_count": 22,
   "id": "alleged-bubble",
   "metadata": {},
   "outputs": [
    {
     "name": "stdout",
     "output_type": "stream",
     "text": [
      "Strategy 1:  [7, 0.8770833333333333] \n",
      "Strategy 2:  [8, 0.8708333333333333] \n",
      "Strategy 3:  [4, 0.8770833333333333] \n",
      "Strategy 4:  [5, 0.8791666666666667]\n"
     ]
    }
   ],
   "source": [
    "print(\n",
    "\"Strategy 1: \",\n",
    "get_cutoff(train_result_strat1[\"LABEL\"].to_list(), train_result_strat1[\"SCORE\"].to_list()),\n",
    "\"\\nStrategy 2: \",\n",
    "get_cutoff(train_result_strat2[\"LABEL\"].to_list(), train_result_strat2[\"SCORE\"].to_list()),\n",
    "\"\\nStrategy 3: \",\n",
    "get_cutoff(train_result_strat3[\"LABEL\"].to_list(), train_result_strat3[\"SCORE\"].to_list()),\n",
    "\"\\nStrategy 4: \",\n",
    "get_cutoff(train_result_strat4[\"LABEL\"].to_list(), train_result_strat4[\"SCORE\"].to_list())\n",
    ")"
   ]
  },
  {
   "cell_type": "markdown",
   "id": "hindu-sleeping",
   "metadata": {},
   "source": [
    "*accuracy for best cutoff:*"
   ]
  },
  {
   "cell_type": "code",
   "execution_count": 23,
   "id": "helpful-steal",
   "metadata": {},
   "outputs": [
    {
     "name": "stdout",
     "output_type": "stream",
     "text": [
      "Strategy 1:  0.8770833333333333 \n",
      "Strategy 2:  0.8708333333333333 \n",
      "Strategy 3:  0.8770833333333333 \n",
      "Strategy 4:  0.8791666666666667\n"
     ]
    }
   ],
   "source": [
    "print(\n",
    "\"Strategy 1: \",\n",
    "test_cutoff(train_result_strat1[\"LABEL\"].to_list(), train_result_strat1[\"SCORE\"].to_list(), 7, \"accuracy\"),\n",
    "\"\\nStrategy 2: \",\n",
    "test_cutoff(train_result_strat2[\"LABEL\"].to_list(), train_result_strat2[\"SCORE\"].to_list(), 8, \"accuracy\"),\n",
    "\"\\nStrategy 3: \",\n",
    "test_cutoff(train_result_strat3[\"LABEL\"].to_list(), train_result_strat3[\"SCORE\"].to_list(), 4, \"accuracy\"),\n",
    "\"\\nStrategy 4: \",\n",
    "test_cutoff(train_result_strat4[\"LABEL\"].to_list(), train_result_strat4[\"SCORE\"].to_list(), 5, \"accuracy\")\n",
    ")"
   ]
  },
  {
   "cell_type": "markdown",
   "id": "practical-headline",
   "metadata": {},
   "source": [
    "*false positive rate for best cutoff:*"
   ]
  },
  {
   "cell_type": "code",
   "execution_count": 24,
   "id": "seven-sound",
   "metadata": {},
   "outputs": [
    {
     "name": "stdout",
     "output_type": "stream",
     "text": [
      "Strategy 1:  0.0 \n",
      "Strategy 2:  0.0023923444976076554 \n",
      "Strategy 3:  0.03110047846889952 \n",
      "Strategy 4:  0.004784688995215311\n"
     ]
    }
   ],
   "source": [
    "print(\n",
    "\"Strategy 1: \",\n",
    "test_cutoff(train_result_strat1[\"LABEL\"].to_list(), train_result_strat1[\"SCORE\"].to_list(), 7, \"fpr\"),\n",
    "\"\\nStrategy 2: \",\n",
    "test_cutoff(train_result_strat2[\"LABEL\"].to_list(), train_result_strat2[\"SCORE\"].to_list(), 8, \"fpr\"),\n",
    "\"\\nStrategy 3: \",\n",
    "test_cutoff(train_result_strat3[\"LABEL\"].to_list(), train_result_strat3[\"SCORE\"].to_list(), 4, \"fpr\"),\n",
    "\"\\nStrategy 4: \",\n",
    "test_cutoff(train_result_strat4[\"LABEL\"].to_list(), train_result_strat4[\"SCORE\"].to_list(), 5, \"fpr\")\n",
    ")"
   ]
  },
  {
   "cell_type": "markdown",
   "id": "reliable-trace",
   "metadata": {},
   "source": [
    "#### **Calculate validation and test results:**"
   ]
  },
  {
   "cell_type": "code",
   "execution_count": 25,
   "id": "matched-charm",
   "metadata": {},
   "outputs": [],
   "source": [
    "# make data copies\n",
    "val_result_strat1 = data_val.copy()\n",
    "val_result_strat2 = data_val.copy()\n",
    "val_result_strat3 = data_val.copy()\n",
    "val_result_strat4 = data_val.copy()\n",
    "# calculate scores\n",
    "val_result_strat1[\"SCORE\"] = val_result_strat1.apply(lambda x: score(x, positives, negatives, \"+\"), axis = 1)\n",
    "val_result_strat2[\"SCORE\"] = val_result_strat2.apply(lambda x: score(x, positives, negatives, \"++\"), axis = 1)\n",
    "val_result_strat3[\"SCORE\"] = val_result_strat3.apply(lambda x: score(x, positives, negatives, \"+-\"), axis = 1)\n",
    "val_result_strat4[\"SCORE\"] = val_result_strat4.apply(lambda x: score(x, positives, negatives, \"++--\"), axis = 1)\n",
    "# sort data\n",
    "val_result_strat1_sorted = val_result_strat1.sort_values(by = \"SCORE\", ascending = False)\n",
    "val_result_strat2_sorted = val_result_strat2.sort_values(by = \"SCORE\", ascending = False)\n",
    "val_result_strat3_sorted = val_result_strat3.sort_values(by = \"SCORE\", ascending = False)\n",
    "val_result_strat4_sorted = val_result_strat4.sort_values(by = \"SCORE\", ascending = False)"
   ]
  },
  {
   "cell_type": "code",
   "execution_count": 26,
   "id": "extra-sperm",
   "metadata": {},
   "outputs": [],
   "source": [
    "# make data copies\n",
    "test_result_strat1 = data_test.copy()\n",
    "test_result_strat2 = data_test.copy()\n",
    "test_result_strat3 = data_test.copy()\n",
    "test_result_strat4 = data_test.copy()\n",
    "# calculate scores\n",
    "test_result_strat1[\"SCORE\"] = test_result_strat1.apply(lambda x: score(x, positives, negatives, \"+\"), axis = 1)\n",
    "test_result_strat2[\"SCORE\"] = test_result_strat2.apply(lambda x: score(x, positives, negatives, \"++\"), axis = 1)\n",
    "test_result_strat3[\"SCORE\"] = test_result_strat3.apply(lambda x: score(x, positives, negatives, \"+-\"), axis = 1)\n",
    "test_result_strat4[\"SCORE\"] = test_result_strat4.apply(lambda x: score(x, positives, negatives, \"++--\"), axis = 1)\n",
    "# sort data\n",
    "test_result_strat1_sorted = test_result_strat1.sort_values(by = \"SCORE\", ascending = False)\n",
    "test_result_strat2_sorted = test_result_strat2.sort_values(by = \"SCORE\", ascending = False)\n",
    "test_result_strat3_sorted = test_result_strat3.sort_values(by = \"SCORE\", ascending = False)\n",
    "test_result_strat4_sorted = test_result_strat4.sort_values(by = \"SCORE\", ascending = False)"
   ]
  },
  {
   "cell_type": "markdown",
   "id": "adverse-watson",
   "metadata": {},
   "source": [
    "#### **Quality metrics for training and validation data:**"
   ]
  },
  {
   "cell_type": "markdown",
   "id": "incorporate-quilt",
   "metadata": {},
   "source": [
    "*training data:*"
   ]
  },
  {
   "cell_type": "code",
   "execution_count": 27,
   "id": "prostate-belly",
   "metadata": {},
   "outputs": [
    {
     "name": "stdout",
     "output_type": "stream",
     "text": [
      "Strategy 1:  {'ACC': 0.8770833333333333, 'FPR': 0.0, 'AUC': 0.8066638370118845, 'Ya': 1.0, 'EF': 7.741935483870967, 'REF': 100.0} \n",
      "Strategy 2:  {'ACC': 0.8708333333333333, 'FPR': 0.0023923444976076554, 'AUC': 0.7917695632041982, 'Ya': 0.5, 'EF': 3.8709677419354835, 'REF': 50.0} \n",
      "Strategy 3:  {'ACC': 0.8770833333333333, 'FPR': 0.03110047846889952, 'AUC': 0.8619578638678809, 'Ya': 0.5517241379310345, 'EF': 4.271412680756396, 'REF': 55.172413793103445} \n",
      "Strategy 4:  {'ACC': 0.8791666666666667, 'FPR': 0.004784688995215311, 'AUC': 0.8546650717703349, 'Ya': 0.75, 'EF': 5.806451612903225, 'REF': 75.0}\n"
     ]
    }
   ],
   "source": [
    "print(\n",
    "\"Strategy 1: \",\n",
    "get_metrics(train_result_strat1, 7, pretty_print = True),\n",
    "\"\\nStrategy 2: \",\n",
    "get_metrics(train_result_strat2, 8, pretty_print = True),\n",
    "\"\\nStrategy 3: \",\n",
    "get_metrics(train_result_strat3, 4, pretty_print = True),\n",
    "\"\\nStrategy 4: \",\n",
    "get_metrics(train_result_strat4, 5, pretty_print = True)\n",
    ")"
   ]
  },
  {
   "cell_type": "code",
   "execution_count": 28,
   "id": "desirable-copyright",
   "metadata": {},
   "outputs": [
    {
     "data": {
      "image/png": "[encoded data removed]",
      "text/plain": [
       "<Figure size 720x720 with 2 Axes>"
      ]
     },
     "metadata": {
      "needs_background": "light"
     },
     "output_type": "display_data"
    }
   ],
   "source": [
    "plot_confusion_matrix(get_metrics(train_result_strat3, 4)[\"CM\"], classes = [0, 1], filename = \"results/CM_train_strat3.png\");"
   ]
  },
  {
   "cell_type": "code",
   "execution_count": 29,
   "id": "organizational-ceremony",
   "metadata": {},
   "outputs": [
    {
     "data": {
      "image/png": "[encoded data removed]",
      "text/plain": [
       "<Figure size 720x720 with 1 Axes>"
      ]
     },
     "metadata": {
      "needs_background": "light"
     },
     "output_type": "display_data"
    }
   ],
   "source": [
    "roc = get_metrics(train_result_strat3, 4)[\"ROC\"]\n",
    "plot_ROC_curve(roc[\"fpr\"], roc[\"tpr\"], filename = \"results/ROC_train_strat3.png\");"
   ]
  },
  {
   "cell_type": "markdown",
   "id": "serial-egyptian",
   "metadata": {},
   "source": [
    "*validation data:*"
   ]
  },
  {
   "cell_type": "code",
   "execution_count": 34,
   "id": "living-heavy",
   "metadata": {},
   "outputs": [
    {
     "name": "stdout",
     "output_type": "stream",
     "text": [
      "Strategy 1:  \n",
      "Strategy 2:  \n",
      "Strategy 3:  {'ACC': 0.9333333333333333, 'FPR': 0.0, 'AUC': 0.7140909090909091, 'Ya': 1.0, 'EF': 12.0, 'REF': 100.0} \n",
      "Strategy 4: \n"
     ]
    }
   ],
   "source": [
    "print(\n",
    "\"Strategy 1: \",\n",
    "# get_metrics(val_result_strat1, 7, pretty_print = True),\n",
    "\"\\nStrategy 2: \",\n",
    "# get_metrics(val_result_strat2, 8, pretty_print = True),\n",
    "\"\\nStrategy 3: \",\n",
    "get_metrics(val_result_strat3, 4, pretty_print = True),\n",
    "\"\\nStrategy 4: \",\n",
    "# get_metrics(val_result_strat4, 5, pretty_print = True)\n",
    ")"
   ]
  },
  {
   "cell_type": "code",
   "execution_count": 35,
   "id": "auburn-consumer",
   "metadata": {},
   "outputs": [
    {
     "data": {
      "image/png": "[encoded data removed]",
      "text/plain": [
       "<Figure size 720x720 with 2 Axes>"
      ]
     },
     "metadata": {
      "needs_background": "light"
     },
     "output_type": "display_data"
    }
   ],
   "source": [
    "plot_confusion_matrix(get_metrics(val_result_strat3, 4)[\"CM\"], classes = [0, 1], filename = \"results/CM_val_strat3.png\");"
   ]
  },
  {
   "cell_type": "code",
   "execution_count": 36,
   "id": "under-novel",
   "metadata": {},
   "outputs": [
    {
     "data": {
      "image/png": "[encoded data removed]",
      "text/plain": [
       "<Figure size 720x720 with 1 Axes>"
      ]
     },
     "metadata": {
      "needs_background": "light"
     },
     "output_type": "display_data"
    }
   ],
   "source": [
    "roc = get_metrics(val_result_strat3, 4)[\"ROC\"]\n",
    "plot_ROC_curve(roc[\"fpr\"], roc[\"tpr\"], filename = \"results/ROC_val_strat3.png\");"
   ]
  },
  {
   "cell_type": "markdown",
   "id": "instructional-emission",
   "metadata": {},
   "source": [
    "*test data:*"
   ]
  },
  {
   "cell_type": "code",
   "execution_count": 39,
   "id": "reported-agenda",
   "metadata": {},
   "outputs": [
    {
     "name": "stdout",
     "output_type": "stream",
     "text": [
      "Strategy 1:  \n",
      "Strategy 2:  \n",
      "Strategy 3:  {'ACC': 0.92, 'FPR': 0.02127659574468085, 'AUC': 0.7100078802206462, 'Ya': 0.0, 'EF': 0.0, 'REF': 0.0} \n",
      "Strategy 4:  {'ACC': 0.9333333333333333, 'FPR': 0.0070921985815602835, 'AUC': 0.7194641449960599, 'Ya': 0.0, 'EF': 0.0, 'REF': 0.0}\n"
     ]
    }
   ],
   "source": [
    "print(\n",
    "\"Strategy 1: \",\n",
    "# get_metrics(test_result_strat1, 7, pretty_print = True),\n",
    "\"\\nStrategy 2: \",\n",
    "# get_metrics(test_result_strat2, 8, pretty_print = True),\n",
    "\"\\nStrategy 3: \",\n",
    "get_metrics(test_result_strat3, 4, pretty_print = True),\n",
    "\"\\nStrategy 4: \",\n",
    "get_metrics(test_result_strat4, 5, pretty_print = True)\n",
    ")"
   ]
  },
  {
   "cell_type": "code",
   "execution_count": 40,
   "id": "comic-pencil",
   "metadata": {},
   "outputs": [
    {
     "data": {
      "image/png": "[encoded data removed]",
      "text/plain": [
       "<Figure size 720x720 with 2 Axes>"
      ]
     },
     "metadata": {
      "needs_background": "light"
     },
     "output_type": "display_data"
    }
   ],
   "source": [
    "plot_confusion_matrix(get_metrics(test_result_strat3, 4)[\"CM\"], classes = [0, 1], filename = \"results/CM_test_strat3.png\");"
   ]
  },
  {
   "cell_type": "code",
   "execution_count": 41,
   "id": "sophisticated-enzyme",
   "metadata": {},
   "outputs": [
    {
     "data": {
      "image/png": "[encoded data removed]",
      "text/plain": [
       "<Figure size 720x720 with 1 Axes>"
      ]
     },
     "metadata": {
      "needs_background": "light"
     },
     "output_type": "display_data"
    }
   ],
   "source": [
    "roc = get_metrics(test_result_strat3, 4)[\"ROC\"]\n",
    "plot_ROC_curve(roc[\"fpr\"], roc[\"tpr\"], filename = \"results/ROC_test_strat3.png\");"
   ]
  },
  {
   "cell_type": "markdown",
   "id": "humanitarian-breakfast",
   "metadata": {},
   "source": [
    "#### **Clean up:**"
   ]
  },
  {
   "cell_type": "code",
   "execution_count": 42,
   "id": "champion-progress",
   "metadata": {},
   "outputs": [],
   "source": [
    "os.remove(\"scoring.py\")"
   ]
  },
  {
   "cell_type": "code",
   "execution_count": null,
   "id": "advised-atmosphere",
   "metadata": {},
   "outputs": [],
   "source": []
  }
 ],
 "metadata": {
  "kernelspec": {
   "display_name": "Python 3",
   "language": "python",
   "name": "python3"
  },
  "language_info": {
   "codemirror_mode": {
    "name": "ipython",
    "version": 3
   },
   "file_extension": ".py",
   "mimetype": "text/x-python",
   "name": "python",
   "nbconvert_exporter": "python",
   "pygments_lexer": "ipython3",
   "version": "3.8.8"
  }
 },
 "nbformat": 4,
 "nbformat_minor": 5
}
