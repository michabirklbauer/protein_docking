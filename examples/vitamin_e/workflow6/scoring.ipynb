{
 "cells": [
  {
   "cell_type": "markdown",
   "id": "golden-jimmy",
   "metadata": {},
   "source": [
    "## **SCORING - Vitamin E: Workflow 6**\n",
    "#### **Micha Birklbauer 2021-08-11**"
   ]
  },
  {
   "cell_type": "code",
   "execution_count": 1,
   "id": "median-windsor",
   "metadata": {},
   "outputs": [
    {
     "data": {
      "text/plain": [
       "'scoring.py'"
      ]
     },
     "execution_count": 1,
     "metadata": {},
     "output_type": "execute_result"
    }
   ],
   "source": [
    "import os\n",
    "from shutil import copyfile\n",
    "from itertools import islice\n",
    "copyfile(\"../../../scripts/python/scoring.py\", \"scoring.py\")"
   ]
  },
  {
   "cell_type": "code",
   "execution_count": 2,
   "id": "sized-newark",
   "metadata": {},
   "outputs": [],
   "source": [
    "import pandas as pd\n",
    "from scoring import *"
   ]
  },
  {
   "cell_type": "markdown",
   "id": "interpreted-regression",
   "metadata": {},
   "source": [
    "#### **Load data:**"
   ]
  },
  {
   "cell_type": "code",
   "execution_count": 3,
   "id": "comparative-summer",
   "metadata": {},
   "outputs": [],
   "source": [
    "data_train = pd.read_csv(\"data_train.csv\")\n",
    "data_val = pd.read_csv(\"data_val.csv\")\n",
    "data_test = pd.read_csv(\"data_test.csv\")\n",
    "features = pd.read_csv(\"features.csv\")"
   ]
  },
  {
   "cell_type": "code",
   "execution_count": 4,
   "id": "processed-concentration",
   "metadata": {},
   "outputs": [],
   "source": [
    "# data_train.info()"
   ]
  },
  {
   "cell_type": "code",
   "execution_count": 5,
   "id": "protecting-biography",
   "metadata": {},
   "outputs": [
    {
     "data": {
      "text/html": [
       "<div>\n",
       "<style scoped>\n",
       "    .dataframe tbody tr th:only-of-type {\n",
       "        vertical-align: middle;\n",
       "    }\n",
       "\n",
       "    .dataframe tbody tr th {\n",
       "        vertical-align: top;\n",
       "    }\n",
       "\n",
       "    .dataframe thead th {\n",
       "        text-align: right;\n",
       "    }\n",
       "</style>\n",
       "<table border=\"1\" class=\"dataframe\">\n",
       "  <thead>\n",
       "    <tr style=\"text-align: right;\">\n",
       "      <th></th>\n",
       "      <th>INDEX</th>\n",
       "      <th>NAME</th>\n",
       "      <th>Hydrogen_Bond:TYR142B</th>\n",
       "      <th>Hydrogen_Bond:VAL389B</th>\n",
       "      <th>Salt_Bridge:ARG101B</th>\n",
       "      <th>Hydrophobic_Interaction:ASP106B</th>\n",
       "      <th>Hydrogen_Bond:LYS133B</th>\n",
       "      <th>Hydrogen_Bond:GLN129B</th>\n",
       "      <th>Pi-Stacking:PHE393B</th>\n",
       "      <th>Hydrophobic_Interaction:PHE393B</th>\n",
       "      <th>...</th>\n",
       "      <th>Hydrophobic_Interaction:TYR383B</th>\n",
       "      <th>Hydrophobic_Interaction:GLU70B</th>\n",
       "      <th>Salt_Bridge:ARG68B</th>\n",
       "      <th>Hydrophobic_Interaction:THR137B</th>\n",
       "      <th>Hydrophobic_Interaction:VAL389B</th>\n",
       "      <th>Hydrophobic_Interaction:VAL110B</th>\n",
       "      <th>Hydrogen_Bond:ARG112B</th>\n",
       "      <th>Hydrophobic_Interaction:GLU134B</th>\n",
       "      <th>Hydrogen_Bond:GLY105B</th>\n",
       "      <th>LABEL</th>\n",
       "    </tr>\n",
       "  </thead>\n",
       "  <tbody>\n",
       "    <tr>\n",
       "      <th>0</th>\n",
       "      <td>1</td>\n",
       "      <td>101|VitaminE_allmin_active|sdf|101</td>\n",
       "      <td>0</td>\n",
       "      <td>0</td>\n",
       "      <td>0</td>\n",
       "      <td>0</td>\n",
       "      <td>0</td>\n",
       "      <td>0</td>\n",
       "      <td>0</td>\n",
       "      <td>0</td>\n",
       "      <td>...</td>\n",
       "      <td>0</td>\n",
       "      <td>0</td>\n",
       "      <td>1</td>\n",
       "      <td>0</td>\n",
       "      <td>1</td>\n",
       "      <td>1</td>\n",
       "      <td>0</td>\n",
       "      <td>1</td>\n",
       "      <td>0</td>\n",
       "      <td>active</td>\n",
       "    </tr>\n",
       "    <tr>\n",
       "      <th>1</th>\n",
       "      <td>2</td>\n",
       "      <td>111|VitaminE_allmin_decoy|sdf|111</td>\n",
       "      <td>0</td>\n",
       "      <td>0</td>\n",
       "      <td>0</td>\n",
       "      <td>0</td>\n",
       "      <td>0</td>\n",
       "      <td>0</td>\n",
       "      <td>0</td>\n",
       "      <td>0</td>\n",
       "      <td>...</td>\n",
       "      <td>0</td>\n",
       "      <td>0</td>\n",
       "      <td>1</td>\n",
       "      <td>0</td>\n",
       "      <td>0</td>\n",
       "      <td>1</td>\n",
       "      <td>0</td>\n",
       "      <td>1</td>\n",
       "      <td>0</td>\n",
       "      <td>inactive</td>\n",
       "    </tr>\n",
       "    <tr>\n",
       "      <th>2</th>\n",
       "      <td>3</td>\n",
       "      <td>98|VitaminE_allmin_decoy|sdf|98</td>\n",
       "      <td>0</td>\n",
       "      <td>0</td>\n",
       "      <td>0</td>\n",
       "      <td>0</td>\n",
       "      <td>0</td>\n",
       "      <td>0</td>\n",
       "      <td>0</td>\n",
       "      <td>0</td>\n",
       "      <td>...</td>\n",
       "      <td>0</td>\n",
       "      <td>0</td>\n",
       "      <td>1</td>\n",
       "      <td>1</td>\n",
       "      <td>1</td>\n",
       "      <td>0</td>\n",
       "      <td>1</td>\n",
       "      <td>1</td>\n",
       "      <td>0</td>\n",
       "      <td>inactive</td>\n",
       "    </tr>\n",
       "    <tr>\n",
       "      <th>3</th>\n",
       "      <td>4</td>\n",
       "      <td>110|VitaminE_allmin_active|sdf|110</td>\n",
       "      <td>0</td>\n",
       "      <td>0</td>\n",
       "      <td>0</td>\n",
       "      <td>0</td>\n",
       "      <td>0</td>\n",
       "      <td>1</td>\n",
       "      <td>0</td>\n",
       "      <td>0</td>\n",
       "      <td>...</td>\n",
       "      <td>0</td>\n",
       "      <td>0</td>\n",
       "      <td>0</td>\n",
       "      <td>1</td>\n",
       "      <td>0</td>\n",
       "      <td>1</td>\n",
       "      <td>1</td>\n",
       "      <td>1</td>\n",
       "      <td>0</td>\n",
       "      <td>active</td>\n",
       "    </tr>\n",
       "    <tr>\n",
       "      <th>4</th>\n",
       "      <td>5</td>\n",
       "      <td>120|VitaminE_allmin_decoy|sdf|120</td>\n",
       "      <td>0</td>\n",
       "      <td>0</td>\n",
       "      <td>0</td>\n",
       "      <td>0</td>\n",
       "      <td>0</td>\n",
       "      <td>0</td>\n",
       "      <td>0</td>\n",
       "      <td>0</td>\n",
       "      <td>...</td>\n",
       "      <td>0</td>\n",
       "      <td>0</td>\n",
       "      <td>0</td>\n",
       "      <td>1</td>\n",
       "      <td>0</td>\n",
       "      <td>1</td>\n",
       "      <td>0</td>\n",
       "      <td>1</td>\n",
       "      <td>0</td>\n",
       "      <td>inactive</td>\n",
       "    </tr>\n",
       "    <tr>\n",
       "      <th>...</th>\n",
       "      <td>...</td>\n",
       "      <td>...</td>\n",
       "      <td>...</td>\n",
       "      <td>...</td>\n",
       "      <td>...</td>\n",
       "      <td>...</td>\n",
       "      <td>...</td>\n",
       "      <td>...</td>\n",
       "      <td>...</td>\n",
       "      <td>...</td>\n",
       "      <td>...</td>\n",
       "      <td>...</td>\n",
       "      <td>...</td>\n",
       "      <td>...</td>\n",
       "      <td>...</td>\n",
       "      <td>...</td>\n",
       "      <td>...</td>\n",
       "      <td>...</td>\n",
       "      <td>...</td>\n",
       "      <td>...</td>\n",
       "      <td>...</td>\n",
       "    </tr>\n",
       "    <tr>\n",
       "      <th>84</th>\n",
       "      <td>85</td>\n",
       "      <td>114|VitaminE_allmin_active|sdf|114</td>\n",
       "      <td>0</td>\n",
       "      <td>0</td>\n",
       "      <td>0</td>\n",
       "      <td>0</td>\n",
       "      <td>0</td>\n",
       "      <td>0</td>\n",
       "      <td>0</td>\n",
       "      <td>0</td>\n",
       "      <td>...</td>\n",
       "      <td>0</td>\n",
       "      <td>0</td>\n",
       "      <td>0</td>\n",
       "      <td>1</td>\n",
       "      <td>0</td>\n",
       "      <td>1</td>\n",
       "      <td>0</td>\n",
       "      <td>1</td>\n",
       "      <td>0</td>\n",
       "      <td>active</td>\n",
       "    </tr>\n",
       "    <tr>\n",
       "      <th>85</th>\n",
       "      <td>86</td>\n",
       "      <td>127|VitaminE_allmin_active|sdf|127</td>\n",
       "      <td>0</td>\n",
       "      <td>0</td>\n",
       "      <td>0</td>\n",
       "      <td>0</td>\n",
       "      <td>0</td>\n",
       "      <td>0</td>\n",
       "      <td>0</td>\n",
       "      <td>0</td>\n",
       "      <td>...</td>\n",
       "      <td>0</td>\n",
       "      <td>0</td>\n",
       "      <td>0</td>\n",
       "      <td>1</td>\n",
       "      <td>1</td>\n",
       "      <td>1</td>\n",
       "      <td>0</td>\n",
       "      <td>1</td>\n",
       "      <td>0</td>\n",
       "      <td>active</td>\n",
       "    </tr>\n",
       "    <tr>\n",
       "      <th>86</th>\n",
       "      <td>87</td>\n",
       "      <td>103|VitaminE_allmin_active|sdf|103</td>\n",
       "      <td>0</td>\n",
       "      <td>0</td>\n",
       "      <td>0</td>\n",
       "      <td>0</td>\n",
       "      <td>0</td>\n",
       "      <td>0</td>\n",
       "      <td>0</td>\n",
       "      <td>0</td>\n",
       "      <td>...</td>\n",
       "      <td>0</td>\n",
       "      <td>0</td>\n",
       "      <td>0</td>\n",
       "      <td>0</td>\n",
       "      <td>0</td>\n",
       "      <td>1</td>\n",
       "      <td>0</td>\n",
       "      <td>1</td>\n",
       "      <td>0</td>\n",
       "      <td>active</td>\n",
       "    </tr>\n",
       "    <tr>\n",
       "      <th>87</th>\n",
       "      <td>88</td>\n",
       "      <td>106|VitaminE_allmin_decoy|sdf|106</td>\n",
       "      <td>0</td>\n",
       "      <td>0</td>\n",
       "      <td>0</td>\n",
       "      <td>0</td>\n",
       "      <td>0</td>\n",
       "      <td>0</td>\n",
       "      <td>0</td>\n",
       "      <td>0</td>\n",
       "      <td>...</td>\n",
       "      <td>0</td>\n",
       "      <td>0</td>\n",
       "      <td>0</td>\n",
       "      <td>1</td>\n",
       "      <td>0</td>\n",
       "      <td>1</td>\n",
       "      <td>0</td>\n",
       "      <td>1</td>\n",
       "      <td>0</td>\n",
       "      <td>inactive</td>\n",
       "    </tr>\n",
       "    <tr>\n",
       "      <th>88</th>\n",
       "      <td>89</td>\n",
       "      <td>128|VitaminE_allmin_decoy|sdf|128</td>\n",
       "      <td>0</td>\n",
       "      <td>0</td>\n",
       "      <td>0</td>\n",
       "      <td>0</td>\n",
       "      <td>0</td>\n",
       "      <td>0</td>\n",
       "      <td>0</td>\n",
       "      <td>0</td>\n",
       "      <td>...</td>\n",
       "      <td>0</td>\n",
       "      <td>0</td>\n",
       "      <td>0</td>\n",
       "      <td>1</td>\n",
       "      <td>0</td>\n",
       "      <td>1</td>\n",
       "      <td>0</td>\n",
       "      <td>1</td>\n",
       "      <td>0</td>\n",
       "      <td>inactive</td>\n",
       "    </tr>\n",
       "  </tbody>\n",
       "</table>\n",
       "<p>89 rows × 84 columns</p>\n",
       "</div>"
      ],
      "text/plain": [
       "    INDEX                                NAME  Hydrogen_Bond:TYR142B  \\\n",
       "0       1  101|VitaminE_allmin_active|sdf|101                      0   \n",
       "1       2   111|VitaminE_allmin_decoy|sdf|111                      0   \n",
       "2       3     98|VitaminE_allmin_decoy|sdf|98                      0   \n",
       "3       4  110|VitaminE_allmin_active|sdf|110                      0   \n",
       "4       5   120|VitaminE_allmin_decoy|sdf|120                      0   \n",
       "..    ...                                 ...                    ...   \n",
       "84     85  114|VitaminE_allmin_active|sdf|114                      0   \n",
       "85     86  127|VitaminE_allmin_active|sdf|127                      0   \n",
       "86     87  103|VitaminE_allmin_active|sdf|103                      0   \n",
       "87     88   106|VitaminE_allmin_decoy|sdf|106                      0   \n",
       "88     89   128|VitaminE_allmin_decoy|sdf|128                      0   \n",
       "\n",
       "    Hydrogen_Bond:VAL389B  Salt_Bridge:ARG101B  \\\n",
       "0                       0                    0   \n",
       "1                       0                    0   \n",
       "2                       0                    0   \n",
       "3                       0                    0   \n",
       "4                       0                    0   \n",
       "..                    ...                  ...   \n",
       "84                      0                    0   \n",
       "85                      0                    0   \n",
       "86                      0                    0   \n",
       "87                      0                    0   \n",
       "88                      0                    0   \n",
       "\n",
       "    Hydrophobic_Interaction:ASP106B  Hydrogen_Bond:LYS133B  \\\n",
       "0                                 0                      0   \n",
       "1                                 0                      0   \n",
       "2                                 0                      0   \n",
       "3                                 0                      0   \n",
       "4                                 0                      0   \n",
       "..                              ...                    ...   \n",
       "84                                0                      0   \n",
       "85                                0                      0   \n",
       "86                                0                      0   \n",
       "87                                0                      0   \n",
       "88                                0                      0   \n",
       "\n",
       "    Hydrogen_Bond:GLN129B  Pi-Stacking:PHE393B  \\\n",
       "0                       0                    0   \n",
       "1                       0                    0   \n",
       "2                       0                    0   \n",
       "3                       1                    0   \n",
       "4                       0                    0   \n",
       "..                    ...                  ...   \n",
       "84                      0                    0   \n",
       "85                      0                    0   \n",
       "86                      0                    0   \n",
       "87                      0                    0   \n",
       "88                      0                    0   \n",
       "\n",
       "    Hydrophobic_Interaction:PHE393B  ...  Hydrophobic_Interaction:TYR383B  \\\n",
       "0                                 0  ...                                0   \n",
       "1                                 0  ...                                0   \n",
       "2                                 0  ...                                0   \n",
       "3                                 0  ...                                0   \n",
       "4                                 0  ...                                0   \n",
       "..                              ...  ...                              ...   \n",
       "84                                0  ...                                0   \n",
       "85                                0  ...                                0   \n",
       "86                                0  ...                                0   \n",
       "87                                0  ...                                0   \n",
       "88                                0  ...                                0   \n",
       "\n",
       "    Hydrophobic_Interaction:GLU70B  Salt_Bridge:ARG68B  \\\n",
       "0                                0                   1   \n",
       "1                                0                   1   \n",
       "2                                0                   1   \n",
       "3                                0                   0   \n",
       "4                                0                   0   \n",
       "..                             ...                 ...   \n",
       "84                               0                   0   \n",
       "85                               0                   0   \n",
       "86                               0                   0   \n",
       "87                               0                   0   \n",
       "88                               0                   0   \n",
       "\n",
       "    Hydrophobic_Interaction:THR137B  Hydrophobic_Interaction:VAL389B  \\\n",
       "0                                 0                                1   \n",
       "1                                 0                                0   \n",
       "2                                 1                                1   \n",
       "3                                 1                                0   \n",
       "4                                 1                                0   \n",
       "..                              ...                              ...   \n",
       "84                                1                                0   \n",
       "85                                1                                1   \n",
       "86                                0                                0   \n",
       "87                                1                                0   \n",
       "88                                1                                0   \n",
       "\n",
       "    Hydrophobic_Interaction:VAL110B  Hydrogen_Bond:ARG112B  \\\n",
       "0                                 1                      0   \n",
       "1                                 1                      0   \n",
       "2                                 0                      1   \n",
       "3                                 1                      1   \n",
       "4                                 1                      0   \n",
       "..                              ...                    ...   \n",
       "84                                1                      0   \n",
       "85                                1                      0   \n",
       "86                                1                      0   \n",
       "87                                1                      0   \n",
       "88                                1                      0   \n",
       "\n",
       "    Hydrophobic_Interaction:GLU134B  Hydrogen_Bond:GLY105B     LABEL  \n",
       "0                                 1                      0    active  \n",
       "1                                 1                      0  inactive  \n",
       "2                                 1                      0  inactive  \n",
       "3                                 1                      0    active  \n",
       "4                                 1                      0  inactive  \n",
       "..                              ...                    ...       ...  \n",
       "84                                1                      0    active  \n",
       "85                                1                      0    active  \n",
       "86                                1                      0    active  \n",
       "87                                1                      0  inactive  \n",
       "88                                1                      0  inactive  \n",
       "\n",
       "[89 rows x 84 columns]"
      ]
     },
     "execution_count": 5,
     "metadata": {},
     "output_type": "execute_result"
    }
   ],
   "source": [
    "data_train"
   ]
  },
  {
   "cell_type": "code",
   "execution_count": 6,
   "id": "phantom-morocco",
   "metadata": {},
   "outputs": [
    {
     "name": "stdout",
     "output_type": "stream",
     "text": [
      "Training dataset shape & Nr. of actives:\n",
      "(89, 84) 61\n"
     ]
    }
   ],
   "source": [
    "print(\"Training dataset shape & Nr. of actives:\")\n",
    "print(data_train.shape, len(data_train.loc[data_train[\"LABEL\"] == \"active\"]))"
   ]
  },
  {
   "cell_type": "code",
   "execution_count": 7,
   "id": "sought-appointment",
   "metadata": {},
   "outputs": [
    {
     "name": "stdout",
     "output_type": "stream",
     "text": [
      "Validation dataset shape & Nr. of actives:\n",
      "(23, 84) 15\n"
     ]
    }
   ],
   "source": [
    "print(\"Validation dataset shape & Nr. of actives:\")\n",
    "print(data_val.shape, len(data_val.loc[data_val[\"LABEL\"] == \"active\"]))"
   ]
  },
  {
   "cell_type": "code",
   "execution_count": 8,
   "id": "removable-harmony",
   "metadata": {},
   "outputs": [
    {
     "name": "stdout",
     "output_type": "stream",
     "text": [
      "Test dataset shape & Nr. of actives:\n",
      "(29, 84) 18\n"
     ]
    }
   ],
   "source": [
    "print(\"Test dataset shape & Nr. of actives:\")\n",
    "print(data_test.shape, len(data_test.loc[data_test[\"LABEL\"] == \"active\"]))"
   ]
  },
  {
   "cell_type": "code",
   "execution_count": 9,
   "id": "saved-vietnamese",
   "metadata": {},
   "outputs": [
    {
     "data": {
      "text/html": [
       "<div>\n",
       "<style scoped>\n",
       "    .dataframe tbody tr th:only-of-type {\n",
       "        vertical-align: middle;\n",
       "    }\n",
       "\n",
       "    .dataframe tbody tr th {\n",
       "        vertical-align: top;\n",
       "    }\n",
       "\n",
       "    .dataframe thead th {\n",
       "        text-align: right;\n",
       "    }\n",
       "</style>\n",
       "<table border=\"1\" class=\"dataframe\">\n",
       "  <thead>\n",
       "    <tr style=\"text-align: right;\">\n",
       "      <th></th>\n",
       "      <th>INDEX</th>\n",
       "      <th>INTERACTION</th>\n",
       "      <th>DIFFERENCE</th>\n",
       "      <th>ACTIVE_FREQUENCY</th>\n",
       "      <th>INACTIVE_FREQUENCY</th>\n",
       "    </tr>\n",
       "  </thead>\n",
       "  <tbody>\n",
       "    <tr>\n",
       "      <th>0</th>\n",
       "      <td>1</td>\n",
       "      <td>Hydrogen_Bond:ARG138B</td>\n",
       "      <td>0.352459</td>\n",
       "      <td>0.147541</td>\n",
       "      <td>0.500000</td>\n",
       "    </tr>\n",
       "    <tr>\n",
       "      <th>1</th>\n",
       "      <td>2</td>\n",
       "      <td>Pi-Cation_Interaction:ARG101B</td>\n",
       "      <td>0.316745</td>\n",
       "      <td>0.147541</td>\n",
       "      <td>0.464286</td>\n",
       "    </tr>\n",
       "    <tr>\n",
       "      <th>2</th>\n",
       "      <td>3</td>\n",
       "      <td>Hydrogen_Bond:ARG101B</td>\n",
       "      <td>0.244145</td>\n",
       "      <td>1.065574</td>\n",
       "      <td>0.821429</td>\n",
       "    </tr>\n",
       "    <tr>\n",
       "      <th>3</th>\n",
       "      <td>4</td>\n",
       "      <td>Hydrophobic_Interaction:PRO164B</td>\n",
       "      <td>0.204333</td>\n",
       "      <td>0.311475</td>\n",
       "      <td>0.107143</td>\n",
       "    </tr>\n",
       "    <tr>\n",
       "      <th>4</th>\n",
       "      <td>5</td>\n",
       "      <td>Hydrophobic_Interaction:VAL110B</td>\n",
       "      <td>0.199063</td>\n",
       "      <td>0.770492</td>\n",
       "      <td>0.571429</td>\n",
       "    </tr>\n",
       "    <tr>\n",
       "      <th>...</th>\n",
       "      <td>...</td>\n",
       "      <td>...</td>\n",
       "      <td>...</td>\n",
       "      <td>...</td>\n",
       "      <td>...</td>\n",
       "    </tr>\n",
       "    <tr>\n",
       "      <th>76</th>\n",
       "      <td>77</td>\n",
       "      <td>Hydrophobic_Interaction:ASP166B</td>\n",
       "      <td>0.005855</td>\n",
       "      <td>0.065574</td>\n",
       "      <td>0.071429</td>\n",
       "    </tr>\n",
       "    <tr>\n",
       "      <th>77</th>\n",
       "      <td>78</td>\n",
       "      <td>Salt_Bridge:LYS394B</td>\n",
       "      <td>0.002927</td>\n",
       "      <td>0.032787</td>\n",
       "      <td>0.035714</td>\n",
       "    </tr>\n",
       "    <tr>\n",
       "      <th>78</th>\n",
       "      <td>79</td>\n",
       "      <td>Hydrophobic_Interaction:TYR383B</td>\n",
       "      <td>0.002927</td>\n",
       "      <td>0.032787</td>\n",
       "      <td>0.035714</td>\n",
       "    </tr>\n",
       "    <tr>\n",
       "      <th>79</th>\n",
       "      <td>80</td>\n",
       "      <td>Hydrogen_Bond:LYS394B</td>\n",
       "      <td>0.001756</td>\n",
       "      <td>0.180328</td>\n",
       "      <td>0.178571</td>\n",
       "    </tr>\n",
       "    <tr>\n",
       "      <th>80</th>\n",
       "      <td>81</td>\n",
       "      <td>Hydrophobic_Interaction:ALA388B</td>\n",
       "      <td>0.000585</td>\n",
       "      <td>0.393443</td>\n",
       "      <td>0.392857</td>\n",
       "    </tr>\n",
       "  </tbody>\n",
       "</table>\n",
       "<p>81 rows × 5 columns</p>\n",
       "</div>"
      ],
      "text/plain": [
       "    INDEX                      INTERACTION  DIFFERENCE  ACTIVE_FREQUENCY  \\\n",
       "0       1            Hydrogen_Bond:ARG138B    0.352459          0.147541   \n",
       "1       2    Pi-Cation_Interaction:ARG101B    0.316745          0.147541   \n",
       "2       3            Hydrogen_Bond:ARG101B    0.244145          1.065574   \n",
       "3       4  Hydrophobic_Interaction:PRO164B    0.204333          0.311475   \n",
       "4       5  Hydrophobic_Interaction:VAL110B    0.199063          0.770492   \n",
       "..    ...                              ...         ...               ...   \n",
       "76     77  Hydrophobic_Interaction:ASP166B    0.005855          0.065574   \n",
       "77     78              Salt_Bridge:LYS394B    0.002927          0.032787   \n",
       "78     79  Hydrophobic_Interaction:TYR383B    0.002927          0.032787   \n",
       "79     80            Hydrogen_Bond:LYS394B    0.001756          0.180328   \n",
       "80     81  Hydrophobic_Interaction:ALA388B    0.000585          0.393443   \n",
       "\n",
       "    INACTIVE_FREQUENCY  \n",
       "0             0.500000  \n",
       "1             0.464286  \n",
       "2             0.821429  \n",
       "3             0.107143  \n",
       "4             0.571429  \n",
       "..                 ...  \n",
       "76            0.071429  \n",
       "77            0.035714  \n",
       "78            0.035714  \n",
       "79            0.178571  \n",
       "80            0.392857  \n",
       "\n",
       "[81 rows x 5 columns]"
      ]
     },
     "execution_count": 9,
     "metadata": {},
     "output_type": "execute_result"
    }
   ],
   "source": [
    "features"
   ]
  },
  {
   "cell_type": "markdown",
   "id": "equivalent-circumstances",
   "metadata": {},
   "source": [
    "#### **Extract relevant features:**"
   ]
  },
  {
   "cell_type": "code",
   "execution_count": 10,
   "id": "cooked-quebec",
   "metadata": {},
   "outputs": [],
   "source": [
    "optimized_values = get_optimized_feature_thresholds(features, data_train)"
   ]
  },
  {
   "cell_type": "code",
   "execution_count": 11,
   "id": "disciplinary-clearing",
   "metadata": {},
   "outputs": [
    {
     "name": "stdout",
     "output_type": "stream",
     "text": [
      "Key: 0.05, 0.05, 0.0: strat4 Accuracy: 0.8764044943820225\n",
      "Key: 0.05, 0.0, 0.0: strat4 Accuracy: 0.8651685393258427\n",
      "Key: 0.05, 0.0, 0.0: strat3 Accuracy: 0.8539325842696629\n",
      "Key: 0.05, 0.05, 0.0: strat3 Accuracy: 0.8314606741573034\n",
      "Key: 0.05, 0.1, 0.0: strat3 Accuracy: 0.8202247191011236\n"
     ]
    }
   ],
   "source": [
    "for item in islice(optimized_values[\"ACC\"].items(), 5):\n",
    "    print('Key: {} Accuracy: {}'.format(item[0], item[1]))"
   ]
  },
  {
   "cell_type": "code",
   "execution_count": 12,
   "id": "interested-certification",
   "metadata": {},
   "outputs": [
    {
     "name": "stdout",
     "output_type": "stream",
     "text": [
      "Key: 0.05, 0.0, 0.0: strat3 Area under the ROC curve: 0.8858313817330211\n",
      "Key: 0.05, 0.0, 0.0: strat4 Area under the ROC curve: 0.8738290398126464\n",
      "Key: 0.1, 0.0, 0.0: strat3 Area under the ROC curve: 0.8679742388758783\n",
      "Key: 0.05, 0.0, 0.0: strat1 Area under the ROC curve: 0.8612412177985947\n",
      "Key: 0.05, 0.05, 0.0: strat1 Area under the ROC curve: 0.8612412177985947\n"
     ]
    }
   ],
   "source": [
    "for item in islice(optimized_values[\"AUC\"].items(), 5):\n",
    "    print('Key: {} Area under the ROC curve: {}'.format(item[0], item[1]))"
   ]
  },
  {
   "cell_type": "code",
   "execution_count": 13,
   "id": "continental-tuition",
   "metadata": {},
   "outputs": [],
   "source": [
    "optimized_values_val = get_optimized_feature_thresholds(features, data_train, data_val)"
   ]
  },
  {
   "cell_type": "code",
   "execution_count": 14,
   "id": "structured-string",
   "metadata": {},
   "outputs": [
    {
     "name": "stdout",
     "output_type": "stream",
     "text": [
      "Key: 0.0, 0.0, 0.15000000000000002: strat3 Accuracy: 0.7391304347826086\n",
      "Key: 0.0, 0.05, 0.15000000000000002: strat3 Accuracy: 0.7391304347826086\n",
      "Key: 0.0, 0.1, 0.15000000000000002: strat3 Accuracy: 0.7391304347826086\n",
      "Key: 0.2, 0.0, 0.0: strat4 Accuracy: 0.7391304347826086\n",
      "Key: 0.2, 0.0, 0.05: strat4 Accuracy: 0.7391304347826086\n"
     ]
    }
   ],
   "source": [
    "for item in islice(optimized_values_val[\"ACC\"].items(), 5):\n",
    "    print('Key: {} Accuracy: {}'.format(item[0], item[1]))"
   ]
  },
  {
   "cell_type": "code",
   "execution_count": 15,
   "id": "accompanied-olympus",
   "metadata": {},
   "outputs": [
    {
     "name": "stdout",
     "output_type": "stream",
     "text": [
      "Key: 0.0, 0.0, 0.2: strat1 Area under the ROC curve: 0.6833333333333333\n",
      "Key: 0.0, 0.05, 0.2: strat1 Area under the ROC curve: 0.6833333333333333\n",
      "Key: 0.0, 0.1, 0.2: strat1 Area under the ROC curve: 0.6833333333333333\n",
      "Key: 0.0, 0.15000000000000002, 0.2: strat1 Area under the ROC curve: 0.6833333333333333\n",
      "Key: 0.0, 0.2, 0.2: strat1 Area under the ROC curve: 0.6833333333333333\n"
     ]
    }
   ],
   "source": [
    "for item in islice(optimized_values_val[\"AUC\"].items(), 5):\n",
    "    print('Key: {} Area under the ROC curve: {}'.format(item[0], item[1]))"
   ]
  },
  {
   "cell_type": "code",
   "execution_count": 16,
   "id": "square-despite",
   "metadata": {},
   "outputs": [
    {
     "data": {
      "text/html": [
       "<div>\n",
       "<style scoped>\n",
       "    .dataframe tbody tr th:only-of-type {\n",
       "        vertical-align: middle;\n",
       "    }\n",
       "\n",
       "    .dataframe tbody tr th {\n",
       "        vertical-align: top;\n",
       "    }\n",
       "\n",
       "    .dataframe thead th {\n",
       "        text-align: right;\n",
       "    }\n",
       "</style>\n",
       "<table border=\"1\" class=\"dataframe\">\n",
       "  <thead>\n",
       "    <tr style=\"text-align: right;\">\n",
       "      <th></th>\n",
       "      <th>INDEX</th>\n",
       "      <th>INTERACTION</th>\n",
       "      <th>DIFFERENCE</th>\n",
       "      <th>ACTIVE_FREQUENCY</th>\n",
       "      <th>INACTIVE_FREQUENCY</th>\n",
       "    </tr>\n",
       "  </thead>\n",
       "  <tbody>\n",
       "    <tr>\n",
       "      <th>0</th>\n",
       "      <td>1</td>\n",
       "      <td>Hydrogen_Bond:ARG138B</td>\n",
       "      <td>0.352459</td>\n",
       "      <td>0.147541</td>\n",
       "      <td>0.500000</td>\n",
       "    </tr>\n",
       "    <tr>\n",
       "      <th>1</th>\n",
       "      <td>2</td>\n",
       "      <td>Pi-Cation_Interaction:ARG101B</td>\n",
       "      <td>0.316745</td>\n",
       "      <td>0.147541</td>\n",
       "      <td>0.464286</td>\n",
       "    </tr>\n",
       "    <tr>\n",
       "      <th>2</th>\n",
       "      <td>3</td>\n",
       "      <td>Hydrogen_Bond:ARG101B</td>\n",
       "      <td>0.244145</td>\n",
       "      <td>1.065574</td>\n",
       "      <td>0.821429</td>\n",
       "    </tr>\n",
       "    <tr>\n",
       "      <th>4</th>\n",
       "      <td>5</td>\n",
       "      <td>Hydrophobic_Interaction:VAL110B</td>\n",
       "      <td>0.199063</td>\n",
       "      <td>0.770492</td>\n",
       "      <td>0.571429</td>\n",
       "    </tr>\n",
       "    <tr>\n",
       "      <th>5</th>\n",
       "      <td>6</td>\n",
       "      <td>Hydrophobic_Interaction:LYS133B</td>\n",
       "      <td>0.185597</td>\n",
       "      <td>0.721311</td>\n",
       "      <td>0.535714</td>\n",
       "    </tr>\n",
       "    <tr>\n",
       "      <th>9</th>\n",
       "      <td>10</td>\n",
       "      <td>Hydrogen_Bond:GLU108B</td>\n",
       "      <td>0.116511</td>\n",
       "      <td>0.295082</td>\n",
       "      <td>0.178571</td>\n",
       "    </tr>\n",
       "    <tr>\n",
       "      <th>11</th>\n",
       "      <td>12</td>\n",
       "      <td>Hydrophobic_Interaction:GLU108B</td>\n",
       "      <td>0.097775</td>\n",
       "      <td>0.295082</td>\n",
       "      <td>0.392857</td>\n",
       "    </tr>\n",
       "    <tr>\n",
       "      <th>12</th>\n",
       "      <td>13</td>\n",
       "      <td>Hydrogen_Bond:HIS130B</td>\n",
       "      <td>0.091920</td>\n",
       "      <td>0.229508</td>\n",
       "      <td>0.321429</td>\n",
       "    </tr>\n",
       "    <tr>\n",
       "      <th>18</th>\n",
       "      <td>19</td>\n",
       "      <td>Hydrophobic_Interaction:VAL389B</td>\n",
       "      <td>0.067330</td>\n",
       "      <td>0.245902</td>\n",
       "      <td>0.178571</td>\n",
       "    </tr>\n",
       "    <tr>\n",
       "      <th>28</th>\n",
       "      <td>29</td>\n",
       "      <td>Hydrophobic_Interaction:GLU134B</td>\n",
       "      <td>0.053864</td>\n",
       "      <td>0.803279</td>\n",
       "      <td>0.857143</td>\n",
       "    </tr>\n",
       "    <tr>\n",
       "      <th>29</th>\n",
       "      <td>30</td>\n",
       "      <td>Hydrogen_Bond:ASP166B</td>\n",
       "      <td>0.051522</td>\n",
       "      <td>0.377049</td>\n",
       "      <td>0.428571</td>\n",
       "    </tr>\n",
       "    <tr>\n",
       "      <th>30</th>\n",
       "      <td>31</td>\n",
       "      <td>Hydrophobic_Interaction:VAL109B</td>\n",
       "      <td>0.050937</td>\n",
       "      <td>0.229508</td>\n",
       "      <td>0.178571</td>\n",
       "    </tr>\n",
       "    <tr>\n",
       "      <th>32</th>\n",
       "      <td>33</td>\n",
       "      <td>Hydrophobic_Interaction:TYR142B</td>\n",
       "      <td>0.039813</td>\n",
       "      <td>0.245902</td>\n",
       "      <td>0.285714</td>\n",
       "    </tr>\n",
       "    <tr>\n",
       "      <th>34</th>\n",
       "      <td>35</td>\n",
       "      <td>Hydrophobic_Interaction:GLN129B</td>\n",
       "      <td>0.036300</td>\n",
       "      <td>0.393443</td>\n",
       "      <td>0.357143</td>\n",
       "    </tr>\n",
       "    <tr>\n",
       "      <th>44</th>\n",
       "      <td>45</td>\n",
       "      <td>Hydrophobic_Interaction:THR137B</td>\n",
       "      <td>0.030445</td>\n",
       "      <td>0.540984</td>\n",
       "      <td>0.571429</td>\n",
       "    </tr>\n",
       "    <tr>\n",
       "      <th>46</th>\n",
       "      <td>47</td>\n",
       "      <td>Hydrophobic_Interaction:VAL107B</td>\n",
       "      <td>0.026347</td>\n",
       "      <td>0.704918</td>\n",
       "      <td>0.678571</td>\n",
       "    </tr>\n",
       "    <tr>\n",
       "      <th>47</th>\n",
       "      <td>48</td>\n",
       "      <td>Hydrophobic_Interaction:ILE126B</td>\n",
       "      <td>0.020492</td>\n",
       "      <td>0.229508</td>\n",
       "      <td>0.250000</td>\n",
       "    </tr>\n",
       "    <tr>\n",
       "      <th>48</th>\n",
       "      <td>49</td>\n",
       "      <td>Hydrophobic_Interaction:ARG112B</td>\n",
       "      <td>0.020492</td>\n",
       "      <td>0.229508</td>\n",
       "      <td>0.250000</td>\n",
       "    </tr>\n",
       "    <tr>\n",
       "      <th>54</th>\n",
       "      <td>55</td>\n",
       "      <td>Hydrophobic_Interaction:GLN141B</td>\n",
       "      <td>0.018735</td>\n",
       "      <td>0.409836</td>\n",
       "      <td>0.428571</td>\n",
       "    </tr>\n",
       "    <tr>\n",
       "      <th>55</th>\n",
       "      <td>56</td>\n",
       "      <td>Hydrogen_Bond:ARG112B</td>\n",
       "      <td>0.017564</td>\n",
       "      <td>0.196721</td>\n",
       "      <td>0.214286</td>\n",
       "    </tr>\n",
       "    <tr>\n",
       "      <th>65</th>\n",
       "      <td>66</td>\n",
       "      <td>Hydrogen_Bond:ARG165B</td>\n",
       "      <td>0.015222</td>\n",
       "      <td>0.229508</td>\n",
       "      <td>0.214286</td>\n",
       "    </tr>\n",
       "    <tr>\n",
       "      <th>66</th>\n",
       "      <td>67</td>\n",
       "      <td>Hydrophobic_Interaction:HIS130B</td>\n",
       "      <td>0.014052</td>\n",
       "      <td>0.442623</td>\n",
       "      <td>0.428571</td>\n",
       "    </tr>\n",
       "    <tr>\n",
       "      <th>71</th>\n",
       "      <td>72</td>\n",
       "      <td>Hydrophobic_Interaction:LEU66B</td>\n",
       "      <td>0.008197</td>\n",
       "      <td>0.508197</td>\n",
       "      <td>0.500000</td>\n",
       "    </tr>\n",
       "    <tr>\n",
       "      <th>79</th>\n",
       "      <td>80</td>\n",
       "      <td>Hydrogen_Bond:LYS394B</td>\n",
       "      <td>0.001756</td>\n",
       "      <td>0.180328</td>\n",
       "      <td>0.178571</td>\n",
       "    </tr>\n",
       "    <tr>\n",
       "      <th>80</th>\n",
       "      <td>81</td>\n",
       "      <td>Hydrophobic_Interaction:ALA388B</td>\n",
       "      <td>0.000585</td>\n",
       "      <td>0.393443</td>\n",
       "      <td>0.392857</td>\n",
       "    </tr>\n",
       "  </tbody>\n",
       "</table>\n",
       "</div>"
      ],
      "text/plain": [
       "    INDEX                      INTERACTION  DIFFERENCE  ACTIVE_FREQUENCY  \\\n",
       "0       1            Hydrogen_Bond:ARG138B    0.352459          0.147541   \n",
       "1       2    Pi-Cation_Interaction:ARG101B    0.316745          0.147541   \n",
       "2       3            Hydrogen_Bond:ARG101B    0.244145          1.065574   \n",
       "4       5  Hydrophobic_Interaction:VAL110B    0.199063          0.770492   \n",
       "5       6  Hydrophobic_Interaction:LYS133B    0.185597          0.721311   \n",
       "9      10            Hydrogen_Bond:GLU108B    0.116511          0.295082   \n",
       "11     12  Hydrophobic_Interaction:GLU108B    0.097775          0.295082   \n",
       "12     13            Hydrogen_Bond:HIS130B    0.091920          0.229508   \n",
       "18     19  Hydrophobic_Interaction:VAL389B    0.067330          0.245902   \n",
       "28     29  Hydrophobic_Interaction:GLU134B    0.053864          0.803279   \n",
       "29     30            Hydrogen_Bond:ASP166B    0.051522          0.377049   \n",
       "30     31  Hydrophobic_Interaction:VAL109B    0.050937          0.229508   \n",
       "32     33  Hydrophobic_Interaction:TYR142B    0.039813          0.245902   \n",
       "34     35  Hydrophobic_Interaction:GLN129B    0.036300          0.393443   \n",
       "44     45  Hydrophobic_Interaction:THR137B    0.030445          0.540984   \n",
       "46     47  Hydrophobic_Interaction:VAL107B    0.026347          0.704918   \n",
       "47     48  Hydrophobic_Interaction:ILE126B    0.020492          0.229508   \n",
       "48     49  Hydrophobic_Interaction:ARG112B    0.020492          0.229508   \n",
       "54     55  Hydrophobic_Interaction:GLN141B    0.018735          0.409836   \n",
       "55     56            Hydrogen_Bond:ARG112B    0.017564          0.196721   \n",
       "65     66            Hydrogen_Bond:ARG165B    0.015222          0.229508   \n",
       "66     67  Hydrophobic_Interaction:HIS130B    0.014052          0.442623   \n",
       "71     72   Hydrophobic_Interaction:LEU66B    0.008197          0.508197   \n",
       "79     80            Hydrogen_Bond:LYS394B    0.001756          0.180328   \n",
       "80     81  Hydrophobic_Interaction:ALA388B    0.000585          0.393443   \n",
       "\n",
       "    INACTIVE_FREQUENCY  \n",
       "0             0.500000  \n",
       "1             0.464286  \n",
       "2             0.821429  \n",
       "4             0.571429  \n",
       "5             0.535714  \n",
       "9             0.178571  \n",
       "11            0.392857  \n",
       "12            0.321429  \n",
       "18            0.178571  \n",
       "28            0.857143  \n",
       "29            0.428571  \n",
       "30            0.178571  \n",
       "32            0.285714  \n",
       "34            0.357143  \n",
       "44            0.571429  \n",
       "46            0.678571  \n",
       "47            0.250000  \n",
       "48            0.250000  \n",
       "54            0.428571  \n",
       "55            0.214286  \n",
       "65            0.214286  \n",
       "66            0.428571  \n",
       "71            0.500000  \n",
       "79            0.178571  \n",
       "80            0.392857  "
      ]
     },
     "execution_count": 16,
     "metadata": {},
     "output_type": "execute_result"
    }
   ],
   "source": [
    "features_filtered = get_relevant_features(features, 0.0, 0.1, 0.15000000000000002)\n",
    "features_filtered"
   ]
  },
  {
   "cell_type": "code",
   "execution_count": 17,
   "id": "hourly-welsh",
   "metadata": {},
   "outputs": [],
   "source": [
    "# some error checking -- should print nothing\n",
    "for item in features_filtered[\"INTERACTION\"].to_list():\n",
    "    if item not in data_train.columns.to_list():\n",
    "        print(item)"
   ]
  },
  {
   "cell_type": "markdown",
   "id": "steady-helicopter",
   "metadata": {},
   "source": [
    "#### **Get positive features (e.g. features that have a positive impact on activeness) and negative features:**"
   ]
  },
  {
   "cell_type": "code",
   "execution_count": 18,
   "id": "alive-dispute",
   "metadata": {},
   "outputs": [],
   "source": [
    "positives, negatives = get_feature_impact(features_filtered)"
   ]
  },
  {
   "cell_type": "code",
   "execution_count": 19,
   "id": "spoken-irrigation",
   "metadata": {},
   "outputs": [
    {
     "data": {
      "text/plain": [
       "['Hydrogen_Bond:ARG101B',\n",
       " 'Hydrophobic_Interaction:VAL110B',\n",
       " 'Hydrophobic_Interaction:LYS133B',\n",
       " 'Hydrogen_Bond:GLU108B',\n",
       " 'Hydrophobic_Interaction:VAL389B',\n",
       " 'Hydrophobic_Interaction:VAL109B',\n",
       " 'Hydrophobic_Interaction:GLN129B',\n",
       " 'Hydrophobic_Interaction:VAL107B',\n",
       " 'Hydrogen_Bond:ARG165B',\n",
       " 'Hydrophobic_Interaction:HIS130B',\n",
       " 'Hydrophobic_Interaction:LEU66B',\n",
       " 'Hydrogen_Bond:LYS394B',\n",
       " 'Hydrophobic_Interaction:ALA388B']"
      ]
     },
     "execution_count": 19,
     "metadata": {},
     "output_type": "execute_result"
    }
   ],
   "source": [
    "positives"
   ]
  },
  {
   "cell_type": "code",
   "execution_count": 20,
   "id": "lonely-capacity",
   "metadata": {},
   "outputs": [
    {
     "data": {
      "text/plain": [
       "['Hydrogen_Bond:ARG138B',\n",
       " 'Pi-Cation_Interaction:ARG101B',\n",
       " 'Hydrophobic_Interaction:GLU108B',\n",
       " 'Hydrogen_Bond:HIS130B',\n",
       " 'Hydrophobic_Interaction:GLU134B',\n",
       " 'Hydrogen_Bond:ASP166B',\n",
       " 'Hydrophobic_Interaction:TYR142B',\n",
       " 'Hydrophobic_Interaction:THR137B',\n",
       " 'Hydrophobic_Interaction:ILE126B',\n",
       " 'Hydrophobic_Interaction:ARG112B',\n",
       " 'Hydrophobic_Interaction:GLN141B',\n",
       " 'Hydrogen_Bond:ARG112B']"
      ]
     },
     "execution_count": 20,
     "metadata": {},
     "output_type": "execute_result"
    }
   ],
   "source": [
    "negatives"
   ]
  },
  {
   "cell_type": "markdown",
   "id": "personalized-warren",
   "metadata": {},
   "source": [
    "#### **Score Compounds with different strategies & save results:**"
   ]
  },
  {
   "cell_type": "code",
   "execution_count": 21,
   "id": "aerial-eclipse",
   "metadata": {},
   "outputs": [],
   "source": [
    "save = False\n",
    "\n",
    "# make data copies\n",
    "train_result_strat1 = data_train.copy()\n",
    "train_result_strat2 = data_train.copy()\n",
    "train_result_strat3 = data_train.copy()\n",
    "train_result_strat4 = data_train.copy()\n",
    "# calculate scores\n",
    "train_result_strat1[\"SCORE\"] = train_result_strat1.apply(lambda x: score(x, positives, negatives, \"+\"), axis = 1)\n",
    "train_result_strat2[\"SCORE\"] = train_result_strat2.apply(lambda x: score(x, positives, negatives, \"++\"), axis = 1)\n",
    "train_result_strat3[\"SCORE\"] = train_result_strat3.apply(lambda x: score(x, positives, negatives, \"+-\"), axis = 1)\n",
    "train_result_strat4[\"SCORE\"] = train_result_strat4.apply(lambda x: score(x, positives, negatives, \"++--\"), axis = 1)\n",
    "# sort data\n",
    "train_result_strat1_sorted = train_result_strat1.sort_values(by = \"SCORE\", ascending = False)\n",
    "train_result_strat2_sorted = train_result_strat2.sort_values(by = \"SCORE\", ascending = False)\n",
    "train_result_strat3_sorted = train_result_strat3.sort_values(by = \"SCORE\", ascending = False)\n",
    "train_result_strat4_sorted = train_result_strat4.sort_values(by = \"SCORE\", ascending = False)\n",
    "# save data\n",
    "if save:\n",
    "    train_result_strat1_sorted.to_csv(\"train_scores1.csv\")\n",
    "    train_result_strat2_sorted.to_csv(\"train_scores2.csv\")\n",
    "    train_result_strat3_sorted.to_csv(\"train_scores3.csv\")\n",
    "    train_result_strat4_sorted.to_csv(\"train_scores4.csv\")"
   ]
  },
  {
   "cell_type": "markdown",
   "id": "strange-council",
   "metadata": {},
   "source": [
    "#### **Find best cutoff value and print metrics:**"
   ]
  },
  {
   "cell_type": "markdown",
   "id": "expanded-addition",
   "metadata": {},
   "source": [
    "*cutoff/accuracy for different strategies:*"
   ]
  },
  {
   "cell_type": "code",
   "execution_count": 22,
   "id": "political-magnet",
   "metadata": {},
   "outputs": [
    {
     "name": "stdout",
     "output_type": "stream",
     "text": [
      "Strategy 1:  [4, 0.6966292134831461] \n",
      "Strategy 2:  [4, 0.7191011235955056] \n",
      "Strategy 3:  [-1, 0.7528089887640449] \n",
      "Strategy 4:  [-1, 0.7640449438202247]\n"
     ]
    }
   ],
   "source": [
    "print(\n",
    "\"Strategy 1: \",\n",
    "get_cutoff(train_result_strat1[\"LABEL\"].to_list(), train_result_strat1[\"SCORE\"].to_list()),\n",
    "\"\\nStrategy 2: \",\n",
    "get_cutoff(train_result_strat2[\"LABEL\"].to_list(), train_result_strat2[\"SCORE\"].to_list()),\n",
    "\"\\nStrategy 3: \",\n",
    "get_cutoff(train_result_strat3[\"LABEL\"].to_list(), train_result_strat3[\"SCORE\"].to_list()),\n",
    "\"\\nStrategy 4: \",\n",
    "get_cutoff(train_result_strat4[\"LABEL\"].to_list(), train_result_strat4[\"SCORE\"].to_list())\n",
    ")"
   ]
  },
  {
   "cell_type": "markdown",
   "id": "blessed-logistics",
   "metadata": {},
   "source": [
    "*accuracy for best cutoff:*"
   ]
  },
  {
   "cell_type": "code",
   "execution_count": 23,
   "id": "pretty-mainland",
   "metadata": {},
   "outputs": [
    {
     "name": "stdout",
     "output_type": "stream",
     "text": [
      "Strategy 1:  0.6966292134831461 \n",
      "Strategy 2:  0.7191011235955056 \n",
      "Strategy 3:  0.7528089887640449 \n",
      "Strategy 4:  0.7640449438202247\n"
     ]
    }
   ],
   "source": [
    "print(\n",
    "\"Strategy 1: \",\n",
    "test_cutoff(train_result_strat1[\"LABEL\"].to_list(), train_result_strat1[\"SCORE\"].to_list(), 4, \"accuracy\"),\n",
    "\"\\nStrategy 2: \",\n",
    "test_cutoff(train_result_strat2[\"LABEL\"].to_list(), train_result_strat2[\"SCORE\"].to_list(), 4, \"accuracy\"),\n",
    "\"\\nStrategy 3: \",\n",
    "test_cutoff(train_result_strat3[\"LABEL\"].to_list(), train_result_strat3[\"SCORE\"].to_list(), -1, \"accuracy\"),\n",
    "\"\\nStrategy 4: \",\n",
    "test_cutoff(train_result_strat4[\"LABEL\"].to_list(), train_result_strat4[\"SCORE\"].to_list(), -1, \"accuracy\")\n",
    ")"
   ]
  },
  {
   "cell_type": "markdown",
   "id": "marked-necessity",
   "metadata": {},
   "source": [
    "*false positive rate for best cutoff:*"
   ]
  },
  {
   "cell_type": "code",
   "execution_count": 24,
   "id": "alleged-blood",
   "metadata": {},
   "outputs": [
    {
     "name": "stdout",
     "output_type": "stream",
     "text": [
      "Strategy 1:  0.8214285714285714 \n",
      "Strategy 2:  0.8214285714285714 \n",
      "Strategy 3:  0.7142857142857143 \n",
      "Strategy 4:  0.6785714285714286\n"
     ]
    }
   ],
   "source": [
    "print(\n",
    "\"Strategy 1: \",\n",
    "test_cutoff(train_result_strat1[\"LABEL\"].to_list(), train_result_strat1[\"SCORE\"].to_list(), 4, \"fpr\"),\n",
    "\"\\nStrategy 2: \",\n",
    "test_cutoff(train_result_strat2[\"LABEL\"].to_list(), train_result_strat2[\"SCORE\"].to_list(), 4, \"fpr\"),\n",
    "\"\\nStrategy 3: \",\n",
    "test_cutoff(train_result_strat3[\"LABEL\"].to_list(), train_result_strat3[\"SCORE\"].to_list(), -1, \"fpr\"),\n",
    "\"\\nStrategy 4: \",\n",
    "test_cutoff(train_result_strat4[\"LABEL\"].to_list(), train_result_strat4[\"SCORE\"].to_list(), -1, \"fpr\")\n",
    ")"
   ]
  },
  {
   "cell_type": "markdown",
   "id": "compact-programmer",
   "metadata": {},
   "source": [
    "#### **Calculate validation and test results:**"
   ]
  },
  {
   "cell_type": "code",
   "execution_count": 25,
   "id": "found-butter",
   "metadata": {},
   "outputs": [],
   "source": [
    "# make data copies\n",
    "val_result_strat1 = data_val.copy()\n",
    "val_result_strat2 = data_val.copy()\n",
    "val_result_strat3 = data_val.copy()\n",
    "val_result_strat4 = data_val.copy()\n",
    "# calculate scores\n",
    "val_result_strat1[\"SCORE\"] = val_result_strat1.apply(lambda x: score(x, positives, negatives, \"+\"), axis = 1)\n",
    "val_result_strat2[\"SCORE\"] = val_result_strat2.apply(lambda x: score(x, positives, negatives, \"++\"), axis = 1)\n",
    "val_result_strat3[\"SCORE\"] = val_result_strat3.apply(lambda x: score(x, positives, negatives, \"+-\"), axis = 1)\n",
    "val_result_strat4[\"SCORE\"] = val_result_strat4.apply(lambda x: score(x, positives, negatives, \"++--\"), axis = 1)\n",
    "# sort data\n",
    "val_result_strat1_sorted = val_result_strat1.sort_values(by = \"SCORE\", ascending = False)\n",
    "val_result_strat2_sorted = val_result_strat2.sort_values(by = \"SCORE\", ascending = False)\n",
    "val_result_strat3_sorted = val_result_strat3.sort_values(by = \"SCORE\", ascending = False)\n",
    "val_result_strat4_sorted = val_result_strat4.sort_values(by = \"SCORE\", ascending = False)"
   ]
  },
  {
   "cell_type": "code",
   "execution_count": 26,
   "id": "sixth-ottawa",
   "metadata": {},
   "outputs": [],
   "source": [
    "# make data copies\n",
    "test_result_strat1 = data_test.copy()\n",
    "test_result_strat2 = data_test.copy()\n",
    "test_result_strat3 = data_test.copy()\n",
    "test_result_strat4 = data_test.copy()\n",
    "# calculate scores\n",
    "test_result_strat1[\"SCORE\"] = test_result_strat1.apply(lambda x: score(x, positives, negatives, \"+\"), axis = 1)\n",
    "test_result_strat2[\"SCORE\"] = test_result_strat2.apply(lambda x: score(x, positives, negatives, \"++\"), axis = 1)\n",
    "test_result_strat3[\"SCORE\"] = test_result_strat3.apply(lambda x: score(x, positives, negatives, \"+-\"), axis = 1)\n",
    "test_result_strat4[\"SCORE\"] = test_result_strat4.apply(lambda x: score(x, positives, negatives, \"++--\"), axis = 1)\n",
    "# sort data\n",
    "test_result_strat1_sorted = test_result_strat1.sort_values(by = \"SCORE\", ascending = False)\n",
    "test_result_strat2_sorted = test_result_strat2.sort_values(by = \"SCORE\", ascending = False)\n",
    "test_result_strat3_sorted = test_result_strat3.sort_values(by = \"SCORE\", ascending = False)\n",
    "test_result_strat4_sorted = test_result_strat4.sort_values(by = \"SCORE\", ascending = False)"
   ]
  },
  {
   "cell_type": "markdown",
   "id": "portable-pendant",
   "metadata": {},
   "source": [
    "#### **Quality metrics for training and validation data:**"
   ]
  },
  {
   "cell_type": "markdown",
   "id": "biological-caution",
   "metadata": {},
   "source": [
    "*training data:*"
   ]
  },
  {
   "cell_type": "code",
   "execution_count": 27,
   "id": "actual-instrumentation",
   "metadata": {},
   "outputs": [
    {
     "name": "stdout",
     "output_type": "stream",
     "text": [
      "Strategy 1:  {'ACC': 0.6966292134831461, 'FPR': 0.8214285714285714, 'AUC': 0.6370023419203746, 'Ya': 0.7125, 'EF': 1.039549180327869, 'REF': 93.44262295081967} \n",
      "Strategy 2:  {'ACC': 0.7191011235955056, 'FPR': 0.8214285714285714, 'AUC': 0.647248243559719, 'Ya': 0.7195121951219512, 'EF': 1.049780087964814, 'REF': 96.72131147540983} \n",
      "Strategy 3:  {'ACC': 0.7528089887640449, 'FPR': 0.7142857142857143, 'AUC': 0.6896955503512882, 'Ya': 0.7468354430379747, 'EF': 1.0896451545963892, 'REF': 96.72131147540983} \n",
      "Strategy 4:  {'ACC': 0.7640449438202247, 'FPR': 0.6785714285714286, 'AUC': 0.6920374707259953, 'Ya': 0.7564102564102564, 'EF': 1.1036149642707018, 'REF': 96.72131147540983}\n"
     ]
    }
   ],
   "source": [
    "print(\n",
    "\"Strategy 1: \",\n",
    "get_metrics(train_result_strat1, 4, pretty_print = True),\n",
    "\"\\nStrategy 2: \",\n",
    "get_metrics(train_result_strat2, 4, pretty_print = True),\n",
    "\"\\nStrategy 3: \",\n",
    "get_metrics(train_result_strat3, -1, pretty_print = True),\n",
    "\"\\nStrategy 4: \",\n",
    "get_metrics(train_result_strat4, -1, pretty_print = True)\n",
    ")"
   ]
  },
  {
   "cell_type": "code",
   "execution_count": 28,
   "id": "soviet-trade",
   "metadata": {},
   "outputs": [
    {
     "data": {
      "image/png": "[encoded data removed]",
      "text/plain": [
       "<Figure size 720x720 with 2 Axes>"
      ]
     },
     "metadata": {
      "needs_background": "light"
     },
     "output_type": "display_data"
    }
   ],
   "source": [
    "plot_confusion_matrix(get_metrics(train_result_strat3, -1)[\"CM\"], classes = [0, 1], filename = \"results/CM_train_strat3.png\");"
   ]
  },
  {
   "cell_type": "code",
   "execution_count": 29,
   "id": "departmental-paintball",
   "metadata": {},
   "outputs": [
    {
     "data": {
      "image/png": "[encoded data removed]",
      "text/plain": [
       "<Figure size 720x720 with 1 Axes>"
      ]
     },
     "metadata": {
      "needs_background": "light"
     },
     "output_type": "display_data"
    }
   ],
   "source": [
    "roc = get_metrics(train_result_strat3, -1)[\"ROC\"]\n",
    "plot_ROC_curve(roc[\"fpr\"], roc[\"tpr\"], filename = \"results/ROC_train_strat3.png\");"
   ]
  },
  {
   "cell_type": "markdown",
   "id": "embedded-being",
   "metadata": {},
   "source": [
    "*validation data:*"
   ]
  },
  {
   "cell_type": "code",
   "execution_count": 30,
   "id": "empirical-minister",
   "metadata": {},
   "outputs": [
    {
     "name": "stdout",
     "output_type": "stream",
     "text": [
      "Strategy 1:  {'ACC': 0.6521739130434783, 'FPR': 0.75, 'AUC': 0.6208333333333333, 'Ya': 0.6842105263157895, 'EF': 1.0491228070175438, 'REF': 86.66666666666667} \n",
      "Strategy 2:  {'ACC': 0.6521739130434783, 'FPR': 0.75, 'AUC': 0.5666666666666667, 'Ya': 0.6842105263157895, 'EF': 1.0491228070175438, 'REF': 86.66666666666667} \n",
      "Strategy 3:  {'ACC': 0.7391304347826086, 'FPR': 0.625, 'AUC': 0.5958333333333333, 'Ya': 0.7368421052631579, 'EF': 1.1298245614035087, 'REF': 93.33333333333333} \n",
      "Strategy 4:  {'ACC': 0.6956521739130435, 'FPR': 0.625, 'AUC': 0.5375000000000001, 'Ya': 0.7222222222222222, 'EF': 1.1074074074074074, 'REF': 86.66666666666667}\n"
     ]
    }
   ],
   "source": [
    "print(\n",
    "\"Strategy 1: \",\n",
    "get_metrics(val_result_strat1, 4, pretty_print = True),\n",
    "\"\\nStrategy 2: \",\n",
    "get_metrics(val_result_strat2, 4, pretty_print = True),\n",
    "\"\\nStrategy 3: \",\n",
    "get_metrics(val_result_strat3, -1, pretty_print = True),\n",
    "\"\\nStrategy 4: \",\n",
    "get_metrics(val_result_strat4, -1, pretty_print = True)\n",
    ")"
   ]
  },
  {
   "cell_type": "code",
   "execution_count": 31,
   "id": "israeli-siemens",
   "metadata": {},
   "outputs": [
    {
     "data": {
      "image/png": "[encoded data removed]",
      "text/plain": [
       "<Figure size 720x720 with 2 Axes>"
      ]
     },
     "metadata": {
      "needs_background": "light"
     },
     "output_type": "display_data"
    }
   ],
   "source": [
    "plot_confusion_matrix(get_metrics(val_result_strat3, -1)[\"CM\"], classes = [0, 1], filename = \"results/CM_val_strat3.png\");"
   ]
  },
  {
   "cell_type": "code",
   "execution_count": 32,
   "id": "brown-pride",
   "metadata": {},
   "outputs": [
    {
     "data": {
      "image/png": "[encoded data removed]",
      "text/plain": [
       "<Figure size 720x720 with 1 Axes>"
      ]
     },
     "metadata": {
      "needs_background": "light"
     },
     "output_type": "display_data"
    }
   ],
   "source": [
    "roc = get_metrics(val_result_strat3, -1)[\"ROC\"]\n",
    "plot_ROC_curve(roc[\"fpr\"], roc[\"tpr\"], filename = \"results/ROC_val_strat3.png\");"
   ]
  },
  {
   "cell_type": "markdown",
   "id": "analyzed-boxing",
   "metadata": {},
   "source": [
    "*test data:*"
   ]
  },
  {
   "cell_type": "code",
   "execution_count": 33,
   "id": "critical-alabama",
   "metadata": {},
   "outputs": [
    {
     "name": "stdout",
     "output_type": "stream",
     "text": [
      "Strategy 1:  {'ACC': 0.5517241379310345, 'FPR': 0.7272727272727273, 'AUC': 0.6439393939393939, 'Ya': 0.6190476190476191, 'EF': 0.9973544973544973, 'REF': 72.22222222222223} \n",
      "Strategy 2:  {'ACC': 0.5172413793103449, 'FPR': 0.9090909090909091, 'AUC': 0.601010101010101, 'Ya': 0.5833333333333334, 'EF': 0.9398148148148149, 'REF': 77.77777777777777} \n",
      "Strategy 3:  {'ACC': 0.4827586206896552, 'FPR': 0.9090909090909091, 'AUC': 0.5883838383838383, 'Ya': 0.5652173913043478, 'EF': 0.9106280193236714, 'REF': 72.22222222222223} \n",
      "Strategy 4:  {'ACC': 0.4482758620689655, 'FPR': 0.9090909090909091, 'AUC': 0.5505050505050505, 'Ya': 0.5454545454545454, 'EF': 0.8787878787878787, 'REF': 66.66666666666667}\n"
     ]
    }
   ],
   "source": [
    "print(\n",
    "\"Strategy 1: \",\n",
    "get_metrics(test_result_strat1, 4, pretty_print = True),\n",
    "\"\\nStrategy 2: \",\n",
    "get_metrics(test_result_strat2, 4, pretty_print = True),\n",
    "\"\\nStrategy 3: \",\n",
    "get_metrics(test_result_strat3, -1, pretty_print = True),\n",
    "\"\\nStrategy 4: \",\n",
    "get_metrics(test_result_strat4, -1, pretty_print = True)\n",
    ")"
   ]
  },
  {
   "cell_type": "code",
   "execution_count": 34,
   "id": "pacific-movie",
   "metadata": {},
   "outputs": [
    {
     "data": {
      "image/png": "[encoded data removed]",
      "text/plain": [
       "<Figure size 720x720 with 2 Axes>"
      ]
     },
     "metadata": {
      "needs_background": "light"
     },
     "output_type": "display_data"
    }
   ],
   "source": [
    "plot_confusion_matrix(get_metrics(test_result_strat3, -1)[\"CM\"], classes = [0, 1], filename = \"results/CM_test_strat3.png\");"
   ]
  },
  {
   "cell_type": "code",
   "execution_count": 35,
   "id": "removed-bunny",
   "metadata": {},
   "outputs": [
    {
     "data": {
      "image/png": "[encoded data removed]",
      "text/plain": [
       "<Figure size 720x720 with 1 Axes>"
      ]
     },
     "metadata": {
      "needs_background": "light"
     },
     "output_type": "display_data"
    }
   ],
   "source": [
    "roc = get_metrics(test_result_strat3, -1)[\"ROC\"]\n",
    "plot_ROC_curve(roc[\"fpr\"], roc[\"tpr\"], filename = \"results/ROC_test_strat3.png\");"
   ]
  },
  {
   "cell_type": "markdown",
   "id": "musical-danish",
   "metadata": {},
   "source": [
    "#### **Clean up:**"
   ]
  },
  {
   "cell_type": "code",
   "execution_count": 36,
   "id": "little-example",
   "metadata": {},
   "outputs": [],
   "source": [
    "os.remove(\"scoring.py\")"
   ]
  },
  {
   "cell_type": "code",
   "execution_count": null,
   "id": "bigger-patent",
   "metadata": {},
   "outputs": [],
   "source": []
  }
 ],
 "metadata": {
  "kernelspec": {
   "display_name": "Python 3",
   "language": "python",
   "name": "python3"
  },
  "language_info": {
   "codemirror_mode": {
    "name": "ipython",
    "version": 3
   },
   "file_extension": ".py",
   "mimetype": "text/x-python",
   "name": "python",
   "nbconvert_exporter": "python",
   "pygments_lexer": "ipython3",
   "version": "3.8.8"
  }
 },
 "nbformat": 4,
 "nbformat_minor": 5
}
