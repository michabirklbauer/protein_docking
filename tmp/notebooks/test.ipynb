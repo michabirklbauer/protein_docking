{
 "cells": [
  {
   "cell_type": "markdown",
   "id": "cardiovascular-usage",
   "metadata": {},
   "source": [
    "## **Some Test from the Documentation of Openbabel and PLIP**"
   ]
  },
  {
   "cell_type": "code",
   "execution_count": 1,
   "id": "legendary-course",
   "metadata": {},
   "outputs": [
    {
     "name": "stdout",
     "output_type": "stream",
     "text": [
      "\n",
      " OpenBabel03052104323D\n",
      "\n",
      "  7  6  0  0  0  0  0  0  0  0999 V2000\n",
      "    1.1125    0.0354   -0.0066 C   0  0  0  0  0  0  0  0  0  0  0  0\n",
      "    2.6089    0.0249    0.0213 C   0  0  0  0  0  0  0  0  0  0  0  0\n",
      "    3.2844   -0.3337    0.9753 O   0  0  0  0  0  0  0  0  0  0  0  0\n",
      "    3.5341    0.5985   -1.5047 Br  0  0  0  0  0  0  0  0  0  0  0  0\n",
      "    0.7298   -0.3251    0.9523 H   0  0  0  0  0  0  0  0  0  0  0  0\n",
      "    0.7499   -0.6240   -0.7992 H   0  0  0  0  0  0  0  0  0  0  0  0\n",
      "    0.7499    1.0536   -0.1686 H   0  0  0  0  0  0  0  0  0  0  0  0\n",
      "  1  2  1  0  0  0  0\n",
      "  1  5  1  0  0  0  0\n",
      "  1  6  1  0  0  0  0\n",
      "  1  7  1  0  0  0  0\n",
      "  2  3  2  0  0  0  0\n",
      "  2  4  1  0  0  0  0\n",
      "M  END\n",
      "$$$$\n",
      "\n"
     ]
    }
   ],
   "source": [
    "from openbabel import pybel\n",
    "\n",
    "mol = pybel.readstring(\"smi\", \"CC(=O)Br\")\n",
    "mol.make3D()\n",
    "print(mol.write(\"sdf\"))"
   ]
  },
  {
   "cell_type": "code",
   "execution_count": 2,
   "id": "aging-increase",
   "metadata": {},
   "outputs": [
    {
     "data": {
      "text/plain": [
       "('1EVE.pdb', <http.client.HTTPMessage at 0x1aa37d8c220>)"
      ]
     },
     "execution_count": 2,
     "metadata": {},
     "output_type": "execute_result"
    }
   ],
   "source": [
    "import urllib.request as ur\n",
    "ur.urlretrieve(\"https://files.rcsb.org/download/1EVE.pdb\", \"1EVE.pdb\")"
   ]
  },
  {
   "cell_type": "code",
   "execution_count": 3,
   "id": "ignored-connection",
   "metadata": {},
   "outputs": [],
   "source": [
    "from plip.structure.preparation import PDBComplex"
   ]
  },
  {
   "cell_type": "code",
   "execution_count": 4,
   "id": "loose-triumph",
   "metadata": {},
   "outputs": [
    {
     "name": "stdout",
     "output_type": "stream",
     "text": [
      "Protein structure 1eve with ligands:\n",
      "NAG:B:1\n",
      "NAG:A:3001\n",
      "NAG:A:3004\n",
      "NAG:A:3005\n",
      "E20:A:2001\n"
     ]
    }
   ],
   "source": [
    "my_mol = PDBComplex()\n",
    "my_mol.load_pdb(\"1EVE.pdb\") # Load the PDB file into PLIP class\n",
    "print(my_mol) # Shows name of structure and ligand binding sites"
   ]
  },
  {
   "cell_type": "code",
   "execution_count": 5,
   "id": "bridal-above",
   "metadata": {},
   "outputs": [
    {
     "name": "stdout",
     "output_type": "stream",
     "text": [
      "[84, 279]\n"
     ]
    }
   ],
   "source": [
    "my_bsid = 'E20:A:2001' # Unique binding site identifier (HetID:Chain:Position)\n",
    "my_mol.analyze()\n",
    "my_interactions = my_mol.interaction_sets[my_bsid] # Contains all interaction data\n",
    "\n",
    "# Now print numbers of all residues taking part in pi-stacking\n",
    "print([pistack.resnr for pistack in my_interactions.pistacking]) # Prints [84, 129]"
   ]
  },
  {
   "cell_type": "code",
   "execution_count": 1,
   "id": "clean-patio",
   "metadata": {},
   "outputs": [],
   "source": [
    "from plip.structure.preparation import PDBComplex"
   ]
  },
  {
   "cell_type": "code",
   "execution_count": 4,
   "id": "seeing-suite",
   "metadata": {},
   "outputs": [],
   "source": [
    "mol = PDBComplex()\n",
    "mol.load_pdb(\"1EVE.pdb\")"
   ]
  },
  {
   "cell_type": "code",
   "execution_count": 8,
   "id": "behind-techno",
   "metadata": {},
   "outputs": [
    {
     "name": "stdout",
     "output_type": "stream",
     "text": [
      "Protein structure 1eve with ligands:\n",
      "NAG:B:1\n",
      "NAG:A:3001\n",
      "NAG:A:3004\n",
      "NAG:A:3005\n",
      "E20:A:2001\n"
     ]
    }
   ],
   "source": [
    "print(mol)"
   ]
  },
  {
   "cell_type": "code",
   "execution_count": 9,
   "id": "minor-rescue",
   "metadata": {},
   "outputs": [],
   "source": [
    "for ligand in mol.ligands:\n",
    "        mol.characterize_complex(ligand)"
   ]
  },
  {
   "cell_type": "code",
   "execution_count": 10,
   "id": "political-breed",
   "metadata": {},
   "outputs": [],
   "source": [
    "from plip.exchange.report import StructureReport"
   ]
  },
  {
   "cell_type": "code",
   "execution_count": 11,
   "id": "possible-approach",
   "metadata": {},
   "outputs": [],
   "source": [
    "streport = StructureReport(mol, outputprefix=\"report\")"
   ]
  },
  {
   "cell_type": "code",
   "execution_count": 12,
   "id": "decent-institution",
   "metadata": {},
   "outputs": [
    {
     "data": {
      "text/plain": [
       "<plip.exchange.report.StructureReport at 0x1fa58daa340>"
      ]
     },
     "execution_count": 12,
     "metadata": {},
     "output_type": "execute_result"
    }
   ],
   "source": [
    "streport"
   ]
  },
  {
   "cell_type": "code",
   "execution_count": 13,
   "id": "convenient-royal",
   "metadata": {},
   "outputs": [
    {
     "name": "stdout",
     "output_type": "stream",
     "text": [
      "<plip.exchange.report.StructureReport object at 0x000001FA58DAA340>\n"
     ]
    }
   ],
   "source": [
    "print(streport)"
   ]
  },
  {
   "cell_type": "code",
   "execution_count": 14,
   "id": "stupid-jamaica",
   "metadata": {},
   "outputs": [
    {
     "data": {
      "text/plain": [
       "{'NAG:B:1': <plip.structure.preparation.PLInteraction at 0x1fa58a10fa0>,\n",
       " 'NAG:A:3001': <plip.structure.preparation.PLInteraction at 0x1fa58a72fa0>,\n",
       " 'NAG:A:3004': <plip.structure.preparation.PLInteraction at 0x1fa58b80f10>,\n",
       " 'NAG:A:3005': <plip.structure.preparation.PLInteraction at 0x1fa58c30fa0>,\n",
       " 'E20:A:2001': <plip.structure.preparation.PLInteraction at 0x1fa58cb4fa0>}"
      ]
     },
     "execution_count": 14,
     "metadata": {},
     "output_type": "execute_result"
    }
   ],
   "source": [
    "mol.interaction_sets"
   ]
  },
  {
   "cell_type": "code",
   "execution_count": 16,
   "id": "front-status",
   "metadata": {},
   "outputs": [
    {
     "data": {
      "text/plain": [
       "10"
      ]
     },
     "execution_count": 16,
     "metadata": {},
     "output_type": "execute_result"
    }
   ],
   "source": [
    "len(mol.interaction_sets[\"E20:A:2001\"].all_itypes)"
   ]
  },
  {
   "cell_type": "code",
   "execution_count": 22,
   "id": "grand-domestic",
   "metadata": {},
   "outputs": [
    {
     "data": {
      "text/plain": [
       "['331A', '279A', '84A', '121A', '288A', '334A', '330A']"
      ]
     },
     "execution_count": 22,
     "metadata": {},
     "output_type": "execute_result"
    }
   ],
   "source": [
    "mol.interaction_sets[\"E20:A:2001\"].interacting_res"
   ]
  },
  {
   "cell_type": "code",
   "execution_count": 27,
   "id": "critical-briefs",
   "metadata": {},
   "outputs": [],
   "source": [
    "interaction = mol.interaction_sets[\"E20:A:2001\"]\n",
    "# SALT BRIDGES\n",
    "tmp_salt_bridges = interaction.saltbridge_lneg + interaction.saltbridge_pneg\n",
    "Salt_Bridges = [''.join([str(i.resnr), str(i.reschain)]) for i in tmp_salt_bridges if i.restype not in ['LIG', 'HOH']]\n",
    "# HYDROGEN BONDS\n",
    "tmp_h_bonds = interaction.hbonds_pdon + interaction.hbonds_ldon\n",
    "Hydrogen_Bonds = [''.join([str(i.resnr), str(i.reschain)]) for i in tmp_h_bonds if i.restype not in ['LIG', 'HOH']]\n",
    "# PI STACKING\n",
    "Pi_Stacking = [''.join([str(i.resnr), str(i.reschain)]) for i in interaction.pistacking if i.restype not in ['LIG', 'HOH']]\n",
    "# PI CATION INTERACTION\n",
    "tmp_pication = interaction.pication_laro + interaction.pication_paro\n",
    "Pi_Cation_Interactions = [''.join([str(i.resnr), str(i.reschain)]) for i in tmp_pication if i.restype not in ['LIG', 'HOH']]\n",
    "# HYDROPHOBIC CONTACTS\n",
    "Hydrophobic_Contacts = [''.join([str(i.resnr), str(i.reschain)]) for i in interaction.hydrophobic_contacts if i.restype not in ['LIG', 'HOH']]\n",
    "# HALOGEN BONDS\n",
    "Halogen_Bonds = [''.join([str(i.resnr), str(i.reschain)]) for i in interaction.halogen_bonds if i.restype not in ['LIG', 'HOH']]\n",
    "# WATER BRIDGES\n",
    "Water_Bridges = [''.join([str(i.resnr), str(i.reschain)]) for i in interaction.water_bridges if i.restype not in ['LIG', 'HOH']]\n",
    "# METAL COMPLEXES\n",
    "Metal_Complexes = [''.join([str(i.resnr), str(i.reschain)]) for i in interaction.metal_complexes if i.restype not in ['LIG', 'HOH']]"
   ]
  },
  {
   "cell_type": "code",
   "execution_count": 28,
   "id": "opposed-cassette",
   "metadata": {},
   "outputs": [
    {
     "data": {
      "text/plain": [
       "['330A', '331A', '334A', '334A', '84A']"
      ]
     },
     "execution_count": 28,
     "metadata": {},
     "output_type": "execute_result"
    }
   ],
   "source": [
    "Hydrophobic_Contacts"
   ]
  },
  {
   "cell_type": "code",
   "execution_count": 25,
   "id": "generic-virtue",
   "metadata": {},
   "outputs": [],
   "source": [
    "from plip.basic.config import biolip_list"
   ]
  },
  {
   "cell_type": "code",
   "execution_count": 29,
   "id": "polished-motor",
   "metadata": {},
   "outputs": [
    {
     "data": {
      "text/plain": [
       "465"
      ]
     },
     "execution_count": 29,
     "metadata": {},
     "output_type": "execute_result"
    }
   ],
   "source": [
    "len(biolip_list)"
   ]
  },
  {
   "cell_type": "code",
   "execution_count": null,
   "id": "korean-retirement",
   "metadata": {},
   "outputs": [],
   "source": []
  }
 ],
 "metadata": {
  "kernelspec": {
   "display_name": "Python 3",
   "language": "python",
   "name": "python3"
  },
  "language_info": {
   "codemirror_mode": {
    "name": "ipython",
    "version": 3
   },
   "file_extension": ".py",
   "mimetype": "text/x-python",
   "name": "python",
   "nbconvert_exporter": "python",
   "pygments_lexer": "ipython3",
   "version": "3.8.8"
  }
 },
 "nbformat": 4,
 "nbformat_minor": 5
}
