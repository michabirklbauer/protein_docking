{
 "cells": [
  {
   "cell_type": "code",
   "execution_count": 1,
   "id": "specified-pregnancy",
   "metadata": {},
   "outputs": [
    {
     "name": "stdout",
     "output_type": "stream",
     "text": [
      "\n",
      " OpenBabel03052104323D\n",
      "\n",
      "  7  6  0  0  0  0  0  0  0  0999 V2000\n",
      "    1.1125    0.0354   -0.0066 C   0  0  0  0  0  0  0  0  0  0  0  0\n",
      "    2.6089    0.0249    0.0213 C   0  0  0  0  0  0  0  0  0  0  0  0\n",
      "    3.2844   -0.3337    0.9753 O   0  0  0  0  0  0  0  0  0  0  0  0\n",
      "    3.5341    0.5985   -1.5047 Br  0  0  0  0  0  0  0  0  0  0  0  0\n",
      "    0.7298   -0.3251    0.9523 H   0  0  0  0  0  0  0  0  0  0  0  0\n",
      "    0.7499   -0.6240   -0.7992 H   0  0  0  0  0  0  0  0  0  0  0  0\n",
      "    0.7499    1.0536   -0.1686 H   0  0  0  0  0  0  0  0  0  0  0  0\n",
      "  1  2  1  0  0  0  0\n",
      "  1  5  1  0  0  0  0\n",
      "  1  6  1  0  0  0  0\n",
      "  1  7  1  0  0  0  0\n",
      "  2  3  2  0  0  0  0\n",
      "  2  4  1  0  0  0  0\n",
      "M  END\n",
      "$$$$\n",
      "\n"
     ]
    }
   ],
   "source": [
    "from openbabel import pybel\n",
    "\n",
    "mol = pybel.readstring(\"smi\", \"CC(=O)Br\")\n",
    "mol.make3D()\n",
    "print(mol.write(\"sdf\"))"
   ]
  },
  {
   "cell_type": "code",
   "execution_count": 2,
   "id": "located-nicaragua",
   "metadata": {},
   "outputs": [
    {
     "data": {
      "text/plain": [
       "('1EVE.pdb', <http.client.HTTPMessage at 0x1aa37d8c220>)"
      ]
     },
     "execution_count": 2,
     "metadata": {},
     "output_type": "execute_result"
    }
   ],
   "source": [
    "import urllib.request as ur\n",
    "ur.urlretrieve(\"https://files.rcsb.org/download/1EVE.pdb\", \"1EVE.pdb\")"
   ]
  },
  {
   "cell_type": "code",
   "execution_count": 3,
   "id": "green-kazakhstan",
   "metadata": {},
   "outputs": [],
   "source": [
    "from plip.structure.preparation import PDBComplex"
   ]
  },
  {
   "cell_type": "code",
   "execution_count": 4,
   "id": "widespread-individual",
   "metadata": {},
   "outputs": [
    {
     "name": "stdout",
     "output_type": "stream",
     "text": [
      "Protein structure 1eve with ligands:\n",
      "NAG:B:1\n",
      "NAG:A:3001\n",
      "NAG:A:3004\n",
      "NAG:A:3005\n",
      "E20:A:2001\n"
     ]
    }
   ],
   "source": [
    "my_mol = PDBComplex()\n",
    "my_mol.load_pdb(\"1EVE.pdb\") # Load the PDB file into PLIP class\n",
    "print(my_mol) # Shows name of structure and ligand binding sites"
   ]
  },
  {
   "cell_type": "code",
   "execution_count": 5,
   "id": "accomplished-remains",
   "metadata": {},
   "outputs": [
    {
     "name": "stdout",
     "output_type": "stream",
     "text": [
      "[84, 279]\n"
     ]
    }
   ],
   "source": [
    "my_bsid = 'E20:A:2001' # Unique binding site identifier (HetID:Chain:Position)\n",
    "my_mol.analyze()\n",
    "my_interactions = my_mol.interaction_sets[my_bsid] # Contains all interaction data\n",
    "\n",
    "# Now print numbers of all residues taking part in pi-stacking\n",
    "print([pistack.resnr for pistack in my_interactions.pistacking]) # Prints [84, 129]"
   ]
  },
  {
   "cell_type": "code",
   "execution_count": null,
   "id": "favorite-recommendation",
   "metadata": {},
   "outputs": [],
   "source": []
  }
 ],
 "metadata": {
  "kernelspec": {
   "display_name": "Python 3",
   "language": "python",
   "name": "python3"
  },
  "language_info": {
   "codemirror_mode": {
    "name": "ipython",
    "version": 3
   },
   "file_extension": ".py",
   "mimetype": "text/x-python",
   "name": "python",
   "nbconvert_exporter": "python",
   "pygments_lexer": "ipython3",
   "version": "3.8.8"
  }
 },
 "nbformat": 4,
 "nbformat_minor": 5
}
