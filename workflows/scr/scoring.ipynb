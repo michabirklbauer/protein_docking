{
 "cells": [
  {
   "cell_type": "markdown",
   "id": "premier-routine",
   "metadata": {},
   "source": [
    "## **SCORING - Soluble Epoxide Hydrolase**\n",
    "#### **Micha Birklbauer 2021-07-05**"
   ]
  },
  {
   "cell_type": "code",
   "execution_count": 1,
   "id": "attractive-globe",
   "metadata": {},
   "outputs": [
    {
     "data": {
      "text/plain": [
       "'scoring.py'"
      ]
     },
     "execution_count": 1,
     "metadata": {},
     "output_type": "execute_result"
    }
   ],
   "source": [
    "import os\n",
    "from shutil import copyfile\n",
    "copyfile(\"../../scripts/python/scoring.py\", \"scoring.py\")"
   ]
  },
  {
   "cell_type": "code",
   "execution_count": 2,
   "id": "distributed-dryer",
   "metadata": {},
   "outputs": [],
   "source": [
    "import pandas as pd\n",
    "from scoring import *"
   ]
  },
  {
   "cell_type": "markdown",
   "id": "scheduled-period",
   "metadata": {},
   "source": [
    "#### **Load data:**"
   ]
  },
  {
   "cell_type": "code",
   "execution_count": 3,
   "id": "apparent-camcorder",
   "metadata": {},
   "outputs": [],
   "source": [
    "data_train = pd.read_csv(\"data_train.csv\")\n",
    "data_val = pd.read_csv(\"data_val.csv\")\n",
    "data_test = pd.read_csv(\"data_test.csv\")\n",
    "features = pd.read_csv(\"features.csv\")"
   ]
  },
  {
   "cell_type": "code",
   "execution_count": 4,
   "id": "bizarre-target",
   "metadata": {},
   "outputs": [],
   "source": [
    "# data_train.info()"
   ]
  },
  {
   "cell_type": "code",
   "execution_count": 5,
   "id": "cathedral-appearance",
   "metadata": {},
   "outputs": [
    {
     "data": {
      "text/html": [
       "<div>\n",
       "<style scoped>\n",
       "    .dataframe tbody tr th:only-of-type {\n",
       "        vertical-align: middle;\n",
       "    }\n",
       "\n",
       "    .dataframe tbody tr th {\n",
       "        vertical-align: top;\n",
       "    }\n",
       "\n",
       "    .dataframe thead th {\n",
       "        text-align: right;\n",
       "    }\n",
       "</style>\n",
       "<table border=\"1\" class=\"dataframe\">\n",
       "  <thead>\n",
       "    <tr style=\"text-align: right;\">\n",
       "      <th></th>\n",
       "      <th>INDEX</th>\n",
       "      <th>NAME</th>\n",
       "      <th>Hydrophobic_Interaction:PHE387A</th>\n",
       "      <th>Hydrogen_Bond:TYR466A</th>\n",
       "      <th>Hydrogen_Bond:TRP336A</th>\n",
       "      <th>Salt_Bridge:HIS524A</th>\n",
       "      <th>Hydrophobic_Interaction:ASN472A</th>\n",
       "      <th>Hydrogen_Bond:ASN472A</th>\n",
       "      <th>Water_Bridge:ALA365A</th>\n",
       "      <th>Pi-Cation_Interaction:HIS524A</th>\n",
       "      <th>...</th>\n",
       "      <th>Water_Bridge:PHE267A</th>\n",
       "      <th>Hydrophobic_Interaction:PRO371A</th>\n",
       "      <th>Hydrophobic_Interaction:LEU428A</th>\n",
       "      <th>Hydrophobic_Interaction:ALA365A</th>\n",
       "      <th>Hydrogen_Bond:LEU408A</th>\n",
       "      <th>Hydrogen_Bond:TYR383A</th>\n",
       "      <th>Hydrogen_Bond:TYR343A</th>\n",
       "      <th>Hydrophobic_Interaction:HIS524A</th>\n",
       "      <th>Halogen_Bond:ASN472A</th>\n",
       "      <th>LABEL</th>\n",
       "    </tr>\n",
       "  </thead>\n",
       "  <tbody>\n",
       "    <tr>\n",
       "      <th>0</th>\n",
       "      <td>1</td>\n",
       "      <td>IA_147.cdx|SeH_inactivess_minimized|sdf|48</td>\n",
       "      <td>1</td>\n",
       "      <td>1</td>\n",
       "      <td>1</td>\n",
       "      <td>0</td>\n",
       "      <td>0</td>\n",
       "      <td>0</td>\n",
       "      <td>0</td>\n",
       "      <td>0</td>\n",
       "      <td>...</td>\n",
       "      <td>0</td>\n",
       "      <td>0</td>\n",
       "      <td>0</td>\n",
       "      <td>0</td>\n",
       "      <td>0</td>\n",
       "      <td>2</td>\n",
       "      <td>0</td>\n",
       "      <td>0</td>\n",
       "      <td>1</td>\n",
       "      <td>inactive</td>\n",
       "    </tr>\n",
       "    <tr>\n",
       "      <th>1</th>\n",
       "      <td>2</td>\n",
       "      <td>IA_10|SeH_inactivess_minimized|sdf|1</td>\n",
       "      <td>0</td>\n",
       "      <td>1</td>\n",
       "      <td>0</td>\n",
       "      <td>1</td>\n",
       "      <td>0</td>\n",
       "      <td>0</td>\n",
       "      <td>0</td>\n",
       "      <td>0</td>\n",
       "      <td>...</td>\n",
       "      <td>2</td>\n",
       "      <td>0</td>\n",
       "      <td>0</td>\n",
       "      <td>0</td>\n",
       "      <td>0</td>\n",
       "      <td>2</td>\n",
       "      <td>0</td>\n",
       "      <td>0</td>\n",
       "      <td>0</td>\n",
       "      <td>inactive</td>\n",
       "    </tr>\n",
       "    <tr>\n",
       "      <th>2</th>\n",
       "      <td>3</td>\n",
       "      <td>A_103|SEH_inhibs_minimized|sdf|5</td>\n",
       "      <td>0</td>\n",
       "      <td>1</td>\n",
       "      <td>0</td>\n",
       "      <td>0</td>\n",
       "      <td>1</td>\n",
       "      <td>0</td>\n",
       "      <td>0</td>\n",
       "      <td>0</td>\n",
       "      <td>...</td>\n",
       "      <td>0</td>\n",
       "      <td>0</td>\n",
       "      <td>0</td>\n",
       "      <td>0</td>\n",
       "      <td>0</td>\n",
       "      <td>0</td>\n",
       "      <td>0</td>\n",
       "      <td>1</td>\n",
       "      <td>0</td>\n",
       "      <td>active</td>\n",
       "    </tr>\n",
       "    <tr>\n",
       "      <th>3</th>\n",
       "      <td>4</td>\n",
       "      <td>A_76|SEH_inhibs_minimized|sdf|46</td>\n",
       "      <td>0</td>\n",
       "      <td>1</td>\n",
       "      <td>1</td>\n",
       "      <td>0</td>\n",
       "      <td>0</td>\n",
       "      <td>0</td>\n",
       "      <td>0</td>\n",
       "      <td>0</td>\n",
       "      <td>...</td>\n",
       "      <td>0</td>\n",
       "      <td>0</td>\n",
       "      <td>0</td>\n",
       "      <td>0</td>\n",
       "      <td>0</td>\n",
       "      <td>0</td>\n",
       "      <td>1</td>\n",
       "      <td>0</td>\n",
       "      <td>0</td>\n",
       "      <td>active</td>\n",
       "    </tr>\n",
       "    <tr>\n",
       "      <th>4</th>\n",
       "      <td>5</td>\n",
       "      <td>IA_12|SeH_inactivess_minimized|sdf|22</td>\n",
       "      <td>0</td>\n",
       "      <td>1</td>\n",
       "      <td>0</td>\n",
       "      <td>1</td>\n",
       "      <td>1</td>\n",
       "      <td>0</td>\n",
       "      <td>0</td>\n",
       "      <td>0</td>\n",
       "      <td>...</td>\n",
       "      <td>1</td>\n",
       "      <td>1</td>\n",
       "      <td>0</td>\n",
       "      <td>0</td>\n",
       "      <td>0</td>\n",
       "      <td>0</td>\n",
       "      <td>0</td>\n",
       "      <td>0</td>\n",
       "      <td>0</td>\n",
       "      <td>inactive</td>\n",
       "    </tr>\n",
       "    <tr>\n",
       "      <th>...</th>\n",
       "      <td>...</td>\n",
       "      <td>...</td>\n",
       "      <td>...</td>\n",
       "      <td>...</td>\n",
       "      <td>...</td>\n",
       "      <td>...</td>\n",
       "      <td>...</td>\n",
       "      <td>...</td>\n",
       "      <td>...</td>\n",
       "      <td>...</td>\n",
       "      <td>...</td>\n",
       "      <td>...</td>\n",
       "      <td>...</td>\n",
       "      <td>...</td>\n",
       "      <td>...</td>\n",
       "      <td>...</td>\n",
       "      <td>...</td>\n",
       "      <td>...</td>\n",
       "      <td>...</td>\n",
       "      <td>...</td>\n",
       "      <td>...</td>\n",
       "    </tr>\n",
       "    <tr>\n",
       "      <th>145</th>\n",
       "      <td>146</td>\n",
       "      <td>A_21|SEH_inhibs_minimized|sdf|20</td>\n",
       "      <td>0</td>\n",
       "      <td>0</td>\n",
       "      <td>0</td>\n",
       "      <td>0</td>\n",
       "      <td>0</td>\n",
       "      <td>0</td>\n",
       "      <td>0</td>\n",
       "      <td>0</td>\n",
       "      <td>...</td>\n",
       "      <td>0</td>\n",
       "      <td>1</td>\n",
       "      <td>0</td>\n",
       "      <td>0</td>\n",
       "      <td>0</td>\n",
       "      <td>0</td>\n",
       "      <td>0</td>\n",
       "      <td>0</td>\n",
       "      <td>1</td>\n",
       "      <td>active</td>\n",
       "    </tr>\n",
       "    <tr>\n",
       "      <th>146</th>\n",
       "      <td>147</td>\n",
       "      <td>IA_51.cdx|SeH_inactivess_minimized|sdf|136</td>\n",
       "      <td>0</td>\n",
       "      <td>2</td>\n",
       "      <td>0</td>\n",
       "      <td>0</td>\n",
       "      <td>0</td>\n",
       "      <td>0</td>\n",
       "      <td>0</td>\n",
       "      <td>0</td>\n",
       "      <td>...</td>\n",
       "      <td>0</td>\n",
       "      <td>0</td>\n",
       "      <td>0</td>\n",
       "      <td>0</td>\n",
       "      <td>0</td>\n",
       "      <td>0</td>\n",
       "      <td>0</td>\n",
       "      <td>0</td>\n",
       "      <td>0</td>\n",
       "      <td>inactive</td>\n",
       "    </tr>\n",
       "    <tr>\n",
       "      <th>147</th>\n",
       "      <td>148</td>\n",
       "      <td>IA_179.cdx|SeH_inactivess_minimized|sdf|80</td>\n",
       "      <td>0</td>\n",
       "      <td>1</td>\n",
       "      <td>0</td>\n",
       "      <td>0</td>\n",
       "      <td>0</td>\n",
       "      <td>0</td>\n",
       "      <td>0</td>\n",
       "      <td>0</td>\n",
       "      <td>...</td>\n",
       "      <td>0</td>\n",
       "      <td>0</td>\n",
       "      <td>0</td>\n",
       "      <td>0</td>\n",
       "      <td>0</td>\n",
       "      <td>0</td>\n",
       "      <td>0</td>\n",
       "      <td>0</td>\n",
       "      <td>0</td>\n",
       "      <td>inactive</td>\n",
       "    </tr>\n",
       "    <tr>\n",
       "      <th>148</th>\n",
       "      <td>149</td>\n",
       "      <td>IA_70.cdx|SeH_inactivess_minimized|sdf|148</td>\n",
       "      <td>0</td>\n",
       "      <td>1</td>\n",
       "      <td>0</td>\n",
       "      <td>0</td>\n",
       "      <td>0</td>\n",
       "      <td>0</td>\n",
       "      <td>0</td>\n",
       "      <td>0</td>\n",
       "      <td>...</td>\n",
       "      <td>0</td>\n",
       "      <td>0</td>\n",
       "      <td>0</td>\n",
       "      <td>0</td>\n",
       "      <td>0</td>\n",
       "      <td>0</td>\n",
       "      <td>0</td>\n",
       "      <td>0</td>\n",
       "      <td>0</td>\n",
       "      <td>inactive</td>\n",
       "    </tr>\n",
       "    <tr>\n",
       "      <th>149</th>\n",
       "      <td>150</td>\n",
       "      <td>IA_72.cdx|SeH_inactivess_minimized|sdf|150</td>\n",
       "      <td>0</td>\n",
       "      <td>0</td>\n",
       "      <td>0</td>\n",
       "      <td>0</td>\n",
       "      <td>0</td>\n",
       "      <td>0</td>\n",
       "      <td>0</td>\n",
       "      <td>0</td>\n",
       "      <td>...</td>\n",
       "      <td>0</td>\n",
       "      <td>0</td>\n",
       "      <td>0</td>\n",
       "      <td>0</td>\n",
       "      <td>0</td>\n",
       "      <td>0</td>\n",
       "      <td>0</td>\n",
       "      <td>0</td>\n",
       "      <td>0</td>\n",
       "      <td>inactive</td>\n",
       "    </tr>\n",
       "  </tbody>\n",
       "</table>\n",
       "<p>150 rows × 78 columns</p>\n",
       "</div>"
      ],
      "text/plain": [
       "     INDEX                                        NAME  \\\n",
       "0        1  IA_147.cdx|SeH_inactivess_minimized|sdf|48   \n",
       "1        2        IA_10|SeH_inactivess_minimized|sdf|1   \n",
       "2        3            A_103|SEH_inhibs_minimized|sdf|5   \n",
       "3        4            A_76|SEH_inhibs_minimized|sdf|46   \n",
       "4        5       IA_12|SeH_inactivess_minimized|sdf|22   \n",
       "..     ...                                         ...   \n",
       "145    146            A_21|SEH_inhibs_minimized|sdf|20   \n",
       "146    147  IA_51.cdx|SeH_inactivess_minimized|sdf|136   \n",
       "147    148  IA_179.cdx|SeH_inactivess_minimized|sdf|80   \n",
       "148    149  IA_70.cdx|SeH_inactivess_minimized|sdf|148   \n",
       "149    150  IA_72.cdx|SeH_inactivess_minimized|sdf|150   \n",
       "\n",
       "     Hydrophobic_Interaction:PHE387A  Hydrogen_Bond:TYR466A  \\\n",
       "0                                  1                      1   \n",
       "1                                  0                      1   \n",
       "2                                  0                      1   \n",
       "3                                  0                      1   \n",
       "4                                  0                      1   \n",
       "..                               ...                    ...   \n",
       "145                                0                      0   \n",
       "146                                0                      2   \n",
       "147                                0                      1   \n",
       "148                                0                      1   \n",
       "149                                0                      0   \n",
       "\n",
       "     Hydrogen_Bond:TRP336A  Salt_Bridge:HIS524A  \\\n",
       "0                        1                    0   \n",
       "1                        0                    1   \n",
       "2                        0                    0   \n",
       "3                        1                    0   \n",
       "4                        0                    1   \n",
       "..                     ...                  ...   \n",
       "145                      0                    0   \n",
       "146                      0                    0   \n",
       "147                      0                    0   \n",
       "148                      0                    0   \n",
       "149                      0                    0   \n",
       "\n",
       "     Hydrophobic_Interaction:ASN472A  Hydrogen_Bond:ASN472A  \\\n",
       "0                                  0                      0   \n",
       "1                                  0                      0   \n",
       "2                                  1                      0   \n",
       "3                                  0                      0   \n",
       "4                                  1                      0   \n",
       "..                               ...                    ...   \n",
       "145                                0                      0   \n",
       "146                                0                      0   \n",
       "147                                0                      0   \n",
       "148                                0                      0   \n",
       "149                                0                      0   \n",
       "\n",
       "     Water_Bridge:ALA365A  Pi-Cation_Interaction:HIS524A  ...  \\\n",
       "0                       0                              0  ...   \n",
       "1                       0                              0  ...   \n",
       "2                       0                              0  ...   \n",
       "3                       0                              0  ...   \n",
       "4                       0                              0  ...   \n",
       "..                    ...                            ...  ...   \n",
       "145                     0                              0  ...   \n",
       "146                     0                              0  ...   \n",
       "147                     0                              0  ...   \n",
       "148                     0                              0  ...   \n",
       "149                     0                              0  ...   \n",
       "\n",
       "     Water_Bridge:PHE267A  Hydrophobic_Interaction:PRO371A  \\\n",
       "0                       0                                0   \n",
       "1                       2                                0   \n",
       "2                       0                                0   \n",
       "3                       0                                0   \n",
       "4                       1                                1   \n",
       "..                    ...                              ...   \n",
       "145                     0                                1   \n",
       "146                     0                                0   \n",
       "147                     0                                0   \n",
       "148                     0                                0   \n",
       "149                     0                                0   \n",
       "\n",
       "     Hydrophobic_Interaction:LEU428A  Hydrophobic_Interaction:ALA365A  \\\n",
       "0                                  0                                0   \n",
       "1                                  0                                0   \n",
       "2                                  0                                0   \n",
       "3                                  0                                0   \n",
       "4                                  0                                0   \n",
       "..                               ...                              ...   \n",
       "145                                0                                0   \n",
       "146                                0                                0   \n",
       "147                                0                                0   \n",
       "148                                0                                0   \n",
       "149                                0                                0   \n",
       "\n",
       "     Hydrogen_Bond:LEU408A  Hydrogen_Bond:TYR383A  Hydrogen_Bond:TYR343A  \\\n",
       "0                        0                      2                      0   \n",
       "1                        0                      2                      0   \n",
       "2                        0                      0                      0   \n",
       "3                        0                      0                      1   \n",
       "4                        0                      0                      0   \n",
       "..                     ...                    ...                    ...   \n",
       "145                      0                      0                      0   \n",
       "146                      0                      0                      0   \n",
       "147                      0                      0                      0   \n",
       "148                      0                      0                      0   \n",
       "149                      0                      0                      0   \n",
       "\n",
       "     Hydrophobic_Interaction:HIS524A  Halogen_Bond:ASN472A     LABEL  \n",
       "0                                  0                     1  inactive  \n",
       "1                                  0                     0  inactive  \n",
       "2                                  1                     0    active  \n",
       "3                                  0                     0    active  \n",
       "4                                  0                     0  inactive  \n",
       "..                               ...                   ...       ...  \n",
       "145                                0                     1    active  \n",
       "146                                0                     0  inactive  \n",
       "147                                0                     0  inactive  \n",
       "148                                0                     0  inactive  \n",
       "149                                0                     0  inactive  \n",
       "\n",
       "[150 rows x 78 columns]"
      ]
     },
     "execution_count": 5,
     "metadata": {},
     "output_type": "execute_result"
    }
   ],
   "source": [
    "data_train"
   ]
  },
  {
   "cell_type": "code",
   "execution_count": 6,
   "id": "august-wallet",
   "metadata": {},
   "outputs": [
    {
     "name": "stdout",
     "output_type": "stream",
     "text": [
      "Training dataset shape & Nr. of actives:\n",
      "(150, 78) 39\n"
     ]
    }
   ],
   "source": [
    "print(\"Training dataset shape & Nr. of actives:\")\n",
    "print(data_train.shape, len(data_train.loc[data_train[\"LABEL\"] == \"active\"]))"
   ]
  },
  {
   "cell_type": "code",
   "execution_count": 7,
   "id": "useful-ebony",
   "metadata": {},
   "outputs": [
    {
     "name": "stdout",
     "output_type": "stream",
     "text": [
      "Validation dataset shape & Nr. of actives:\n",
      "(38, 78) 8\n"
     ]
    }
   ],
   "source": [
    "print(\"Validation dataset shape & Nr. of actives:\")\n",
    "print(data_val.shape, len(data_val.loc[data_val[\"LABEL\"] == \"active\"]))"
   ]
  },
  {
   "cell_type": "code",
   "execution_count": 8,
   "id": "tired-receipt",
   "metadata": {},
   "outputs": [
    {
     "name": "stdout",
     "output_type": "stream",
     "text": [
      "Test dataset shape & Nr. of actives:\n",
      "(48, 78) 11\n"
     ]
    }
   ],
   "source": [
    "print(\"Test dataset shape & Nr. of actives:\")\n",
    "print(data_test.shape, len(data_test.loc[data_test[\"LABEL\"] == \"active\"]))"
   ]
  },
  {
   "cell_type": "code",
   "execution_count": 9,
   "id": "unlikely-retirement",
   "metadata": {},
   "outputs": [
    {
     "data": {
      "text/html": [
       "<div>\n",
       "<style scoped>\n",
       "    .dataframe tbody tr th:only-of-type {\n",
       "        vertical-align: middle;\n",
       "    }\n",
       "\n",
       "    .dataframe tbody tr th {\n",
       "        vertical-align: top;\n",
       "    }\n",
       "\n",
       "    .dataframe thead th {\n",
       "        text-align: right;\n",
       "    }\n",
       "</style>\n",
       "<table border=\"1\" class=\"dataframe\">\n",
       "  <thead>\n",
       "    <tr style=\"text-align: right;\">\n",
       "      <th></th>\n",
       "      <th>INDEX</th>\n",
       "      <th>INTERACTION</th>\n",
       "      <th>DIFFERENCE</th>\n",
       "      <th>ACTIVE_FREQUENCY</th>\n",
       "      <th>INACTIVE_FREQUENCY</th>\n",
       "    </tr>\n",
       "  </thead>\n",
       "  <tbody>\n",
       "    <tr>\n",
       "      <th>0</th>\n",
       "      <td>1</td>\n",
       "      <td>Hydrophobic_Interaction:LEU499A</td>\n",
       "      <td>0.280665</td>\n",
       "      <td>0.641026</td>\n",
       "      <td>0.360360</td>\n",
       "    </tr>\n",
       "    <tr>\n",
       "      <th>1</th>\n",
       "      <td>2</td>\n",
       "      <td>Hydrophobic_Interaction:TYR383A</td>\n",
       "      <td>0.252945</td>\n",
       "      <td>0.487179</td>\n",
       "      <td>0.234234</td>\n",
       "    </tr>\n",
       "    <tr>\n",
       "      <th>2</th>\n",
       "      <td>3</td>\n",
       "      <td>Hydrophobic_Interaction:TRP525A</td>\n",
       "      <td>0.211365</td>\n",
       "      <td>0.589744</td>\n",
       "      <td>0.378378</td>\n",
       "    </tr>\n",
       "    <tr>\n",
       "      <th>3</th>\n",
       "      <td>4</td>\n",
       "      <td>Hydrophobic_Interaction:TYR466A</td>\n",
       "      <td>0.198198</td>\n",
       "      <td>0.666667</td>\n",
       "      <td>0.468468</td>\n",
       "    </tr>\n",
       "    <tr>\n",
       "      <th>4</th>\n",
       "      <td>5</td>\n",
       "      <td>Hydrogen_Bond:TYR383A</td>\n",
       "      <td>0.176715</td>\n",
       "      <td>0.102564</td>\n",
       "      <td>0.279279</td>\n",
       "    </tr>\n",
       "    <tr>\n",
       "      <th>...</th>\n",
       "      <td>...</td>\n",
       "      <td>...</td>\n",
       "      <td>...</td>\n",
       "      <td>...</td>\n",
       "      <td>...</td>\n",
       "    </tr>\n",
       "    <tr>\n",
       "      <th>70</th>\n",
       "      <td>71</td>\n",
       "      <td>Halogen_Bond:ASP496A</td>\n",
       "      <td>0.007623</td>\n",
       "      <td>0.025641</td>\n",
       "      <td>0.018018</td>\n",
       "    </tr>\n",
       "    <tr>\n",
       "      <th>71</th>\n",
       "      <td>72</td>\n",
       "      <td>Hydrogen_Bond:LEU408A</td>\n",
       "      <td>0.007623</td>\n",
       "      <td>0.025641</td>\n",
       "      <td>0.018018</td>\n",
       "    </tr>\n",
       "    <tr>\n",
       "      <th>72</th>\n",
       "      <td>73</td>\n",
       "      <td>Halogen_Bond:ASN472A</td>\n",
       "      <td>0.007623</td>\n",
       "      <td>0.025641</td>\n",
       "      <td>0.018018</td>\n",
       "    </tr>\n",
       "    <tr>\n",
       "      <th>73</th>\n",
       "      <td>74</td>\n",
       "      <td>Hydrophobic_Interaction:PHE387A</td>\n",
       "      <td>0.006237</td>\n",
       "      <td>0.051282</td>\n",
       "      <td>0.045045</td>\n",
       "    </tr>\n",
       "    <tr>\n",
       "      <th>74</th>\n",
       "      <td>75</td>\n",
       "      <td>Hydrogen_Bond:VAL498A</td>\n",
       "      <td>0.006237</td>\n",
       "      <td>0.051282</td>\n",
       "      <td>0.045045</td>\n",
       "    </tr>\n",
       "  </tbody>\n",
       "</table>\n",
       "<p>75 rows × 5 columns</p>\n",
       "</div>"
      ],
      "text/plain": [
       "    INDEX                      INTERACTION  DIFFERENCE  ACTIVE_FREQUENCY  \\\n",
       "0       1  Hydrophobic_Interaction:LEU499A    0.280665          0.641026   \n",
       "1       2  Hydrophobic_Interaction:TYR383A    0.252945          0.487179   \n",
       "2       3  Hydrophobic_Interaction:TRP525A    0.211365          0.589744   \n",
       "3       4  Hydrophobic_Interaction:TYR466A    0.198198          0.666667   \n",
       "4       5            Hydrogen_Bond:TYR383A    0.176715          0.102564   \n",
       "..    ...                              ...         ...               ...   \n",
       "70     71             Halogen_Bond:ASP496A    0.007623          0.025641   \n",
       "71     72            Hydrogen_Bond:LEU408A    0.007623          0.025641   \n",
       "72     73             Halogen_Bond:ASN472A    0.007623          0.025641   \n",
       "73     74  Hydrophobic_Interaction:PHE387A    0.006237          0.051282   \n",
       "74     75            Hydrogen_Bond:VAL498A    0.006237          0.051282   \n",
       "\n",
       "    INACTIVE_FREQUENCY  \n",
       "0             0.360360  \n",
       "1             0.234234  \n",
       "2             0.378378  \n",
       "3             0.468468  \n",
       "4             0.279279  \n",
       "..                 ...  \n",
       "70            0.018018  \n",
       "71            0.018018  \n",
       "72            0.018018  \n",
       "73            0.045045  \n",
       "74            0.045045  \n",
       "\n",
       "[75 rows x 5 columns]"
      ]
     },
     "execution_count": 9,
     "metadata": {},
     "output_type": "execute_result"
    }
   ],
   "source": [
    "features"
   ]
  },
  {
   "cell_type": "markdown",
   "id": "round-soundtrack",
   "metadata": {},
   "source": [
    "#### **Extract relevant features:**"
   ]
  },
  {
   "cell_type": "code",
   "execution_count": 10,
   "id": "russian-winter",
   "metadata": {},
   "outputs": [
    {
     "data": {
      "text/html": [
       "<div>\n",
       "<style scoped>\n",
       "    .dataframe tbody tr th:only-of-type {\n",
       "        vertical-align: middle;\n",
       "    }\n",
       "\n",
       "    .dataframe tbody tr th {\n",
       "        vertical-align: top;\n",
       "    }\n",
       "\n",
       "    .dataframe thead th {\n",
       "        text-align: right;\n",
       "    }\n",
       "</style>\n",
       "<table border=\"1\" class=\"dataframe\">\n",
       "  <thead>\n",
       "    <tr style=\"text-align: right;\">\n",
       "      <th></th>\n",
       "      <th>INDEX</th>\n",
       "      <th>INTERACTION</th>\n",
       "      <th>DIFFERENCE</th>\n",
       "      <th>ACTIVE_FREQUENCY</th>\n",
       "      <th>INACTIVE_FREQUENCY</th>\n",
       "    </tr>\n",
       "  </thead>\n",
       "  <tbody>\n",
       "    <tr>\n",
       "      <th>0</th>\n",
       "      <td>1</td>\n",
       "      <td>Hydrophobic_Interaction:LEU499A</td>\n",
       "      <td>0.280665</td>\n",
       "      <td>0.641026</td>\n",
       "      <td>0.360360</td>\n",
       "    </tr>\n",
       "    <tr>\n",
       "      <th>1</th>\n",
       "      <td>2</td>\n",
       "      <td>Hydrophobic_Interaction:TYR383A</td>\n",
       "      <td>0.252945</td>\n",
       "      <td>0.487179</td>\n",
       "      <td>0.234234</td>\n",
       "    </tr>\n",
       "    <tr>\n",
       "      <th>2</th>\n",
       "      <td>3</td>\n",
       "      <td>Hydrophobic_Interaction:TRP525A</td>\n",
       "      <td>0.211365</td>\n",
       "      <td>0.589744</td>\n",
       "      <td>0.378378</td>\n",
       "    </tr>\n",
       "    <tr>\n",
       "      <th>3</th>\n",
       "      <td>4</td>\n",
       "      <td>Hydrophobic_Interaction:TYR466A</td>\n",
       "      <td>0.198198</td>\n",
       "      <td>0.666667</td>\n",
       "      <td>0.468468</td>\n",
       "    </tr>\n",
       "    <tr>\n",
       "      <th>4</th>\n",
       "      <td>5</td>\n",
       "      <td>Hydrogen_Bond:TYR383A</td>\n",
       "      <td>0.176715</td>\n",
       "      <td>0.102564</td>\n",
       "      <td>0.279279</td>\n",
       "    </tr>\n",
       "    <tr>\n",
       "      <th>5</th>\n",
       "      <td>6</td>\n",
       "      <td>Hydrophobic_Interaction:TRP336A</td>\n",
       "      <td>0.169092</td>\n",
       "      <td>0.871795</td>\n",
       "      <td>0.702703</td>\n",
       "    </tr>\n",
       "    <tr>\n",
       "      <th>7</th>\n",
       "      <td>8</td>\n",
       "      <td>Hydrophobic_Interaction:HIS524A</td>\n",
       "      <td>0.159390</td>\n",
       "      <td>0.384615</td>\n",
       "      <td>0.225225</td>\n",
       "    </tr>\n",
       "    <tr>\n",
       "      <th>8</th>\n",
       "      <td>9</td>\n",
       "      <td>Hydrogen_Bond:ASP335A</td>\n",
       "      <td>0.121275</td>\n",
       "      <td>0.743590</td>\n",
       "      <td>0.864865</td>\n",
       "    </tr>\n",
       "    <tr>\n",
       "      <th>11</th>\n",
       "      <td>12</td>\n",
       "      <td>Hydrophobic_Interaction:THR360A</td>\n",
       "      <td>0.105336</td>\n",
       "      <td>0.384615</td>\n",
       "      <td>0.279279</td>\n",
       "    </tr>\n",
       "    <tr>\n",
       "      <th>13</th>\n",
       "      <td>14</td>\n",
       "      <td>Hydrogen_Bond:TYR466A</td>\n",
       "      <td>0.101178</td>\n",
       "      <td>1.128205</td>\n",
       "      <td>1.027027</td>\n",
       "    </tr>\n",
       "    <tr>\n",
       "      <th>17</th>\n",
       "      <td>18</td>\n",
       "      <td>Pi-Stacking:HIS524A</td>\n",
       "      <td>0.074844</td>\n",
       "      <td>0.282051</td>\n",
       "      <td>0.207207</td>\n",
       "    </tr>\n",
       "    <tr>\n",
       "      <th>18</th>\n",
       "      <td>19</td>\n",
       "      <td>Hydrogen_Bond:HIS524A</td>\n",
       "      <td>0.073458</td>\n",
       "      <td>0.307692</td>\n",
       "      <td>0.234234</td>\n",
       "    </tr>\n",
       "    <tr>\n",
       "      <th>19</th>\n",
       "      <td>20</td>\n",
       "      <td>Hydrophobic_Interaction:MET339A</td>\n",
       "      <td>0.072072</td>\n",
       "      <td>0.333333</td>\n",
       "      <td>0.405405</td>\n",
       "    </tr>\n",
       "    <tr>\n",
       "      <th>21</th>\n",
       "      <td>22</td>\n",
       "      <td>Hydrophobic_Interaction:PHE267A</td>\n",
       "      <td>0.067221</td>\n",
       "      <td>0.256410</td>\n",
       "      <td>0.189189</td>\n",
       "    </tr>\n",
       "    <tr>\n",
       "      <th>22</th>\n",
       "      <td>23</td>\n",
       "      <td>Hydrogen_Bond:GLN384A</td>\n",
       "      <td>0.063756</td>\n",
       "      <td>0.512821</td>\n",
       "      <td>0.576577</td>\n",
       "    </tr>\n",
       "    <tr>\n",
       "      <th>24</th>\n",
       "      <td>25</td>\n",
       "      <td>Hydrophobic_Interaction:VAL498A</td>\n",
       "      <td>0.056133</td>\n",
       "      <td>0.461538</td>\n",
       "      <td>0.405405</td>\n",
       "    </tr>\n",
       "    <tr>\n",
       "      <th>26</th>\n",
       "      <td>27</td>\n",
       "      <td>Hydrophobic_Interaction:PRO371A</td>\n",
       "      <td>0.050589</td>\n",
       "      <td>0.230769</td>\n",
       "      <td>0.180180</td>\n",
       "    </tr>\n",
       "  </tbody>\n",
       "</table>\n",
       "</div>"
      ],
      "text/plain": [
       "    INDEX                      INTERACTION  DIFFERENCE  ACTIVE_FREQUENCY  \\\n",
       "0       1  Hydrophobic_Interaction:LEU499A    0.280665          0.641026   \n",
       "1       2  Hydrophobic_Interaction:TYR383A    0.252945          0.487179   \n",
       "2       3  Hydrophobic_Interaction:TRP525A    0.211365          0.589744   \n",
       "3       4  Hydrophobic_Interaction:TYR466A    0.198198          0.666667   \n",
       "4       5            Hydrogen_Bond:TYR383A    0.176715          0.102564   \n",
       "5       6  Hydrophobic_Interaction:TRP336A    0.169092          0.871795   \n",
       "7       8  Hydrophobic_Interaction:HIS524A    0.159390          0.384615   \n",
       "8       9            Hydrogen_Bond:ASP335A    0.121275          0.743590   \n",
       "11     12  Hydrophobic_Interaction:THR360A    0.105336          0.384615   \n",
       "13     14            Hydrogen_Bond:TYR466A    0.101178          1.128205   \n",
       "17     18              Pi-Stacking:HIS524A    0.074844          0.282051   \n",
       "18     19            Hydrogen_Bond:HIS524A    0.073458          0.307692   \n",
       "19     20  Hydrophobic_Interaction:MET339A    0.072072          0.333333   \n",
       "21     22  Hydrophobic_Interaction:PHE267A    0.067221          0.256410   \n",
       "22     23            Hydrogen_Bond:GLN384A    0.063756          0.512821   \n",
       "24     25  Hydrophobic_Interaction:VAL498A    0.056133          0.461538   \n",
       "26     27  Hydrophobic_Interaction:PRO371A    0.050589          0.230769   \n",
       "\n",
       "    INACTIVE_FREQUENCY  \n",
       "0             0.360360  \n",
       "1             0.234234  \n",
       "2             0.378378  \n",
       "3             0.468468  \n",
       "4             0.279279  \n",
       "5             0.702703  \n",
       "7             0.225225  \n",
       "8             0.864865  \n",
       "11            0.279279  \n",
       "13            1.027027  \n",
       "17            0.207207  \n",
       "18            0.234234  \n",
       "19            0.405405  \n",
       "21            0.189189  \n",
       "22            0.576577  \n",
       "24            0.405405  \n",
       "26            0.180180  "
      ]
     },
     "execution_count": 10,
     "metadata": {},
     "output_type": "execute_result"
    }
   ],
   "source": [
    "features_filtered = get_relevant_features(features)\n",
    "features_filtered"
   ]
  },
  {
   "cell_type": "code",
   "execution_count": 11,
   "id": "universal-relative",
   "metadata": {},
   "outputs": [],
   "source": [
    "# some error checking -- should print nothing\n",
    "for item in features_filtered[\"INTERACTION\"].to_list():\n",
    "    if item not in data_train.columns.to_list():\n",
    "        print(item)"
   ]
  },
  {
   "cell_type": "markdown",
   "id": "engaged-cabinet",
   "metadata": {},
   "source": [
    "#### **Get positive features (e.g. features that have a positive impact on activeness) and negative features:**"
   ]
  },
  {
   "cell_type": "code",
   "execution_count": 12,
   "id": "introductory-publicity",
   "metadata": {},
   "outputs": [],
   "source": [
    "positives, negatives = get_feature_impact(features_filtered)"
   ]
  },
  {
   "cell_type": "code",
   "execution_count": 13,
   "id": "outstanding-thumb",
   "metadata": {},
   "outputs": [
    {
     "data": {
      "text/plain": [
       "['Hydrophobic_Interaction:LEU499A',\n",
       " 'Hydrophobic_Interaction:TYR383A',\n",
       " 'Hydrophobic_Interaction:TRP525A',\n",
       " 'Hydrophobic_Interaction:TYR466A',\n",
       " 'Hydrophobic_Interaction:TRP336A',\n",
       " 'Hydrophobic_Interaction:HIS524A',\n",
       " 'Hydrophobic_Interaction:THR360A',\n",
       " 'Hydrogen_Bond:TYR466A',\n",
       " 'Pi-Stacking:HIS524A',\n",
       " 'Hydrogen_Bond:HIS524A',\n",
       " 'Hydrophobic_Interaction:PHE267A',\n",
       " 'Hydrophobic_Interaction:VAL498A',\n",
       " 'Hydrophobic_Interaction:PRO371A']"
      ]
     },
     "execution_count": 13,
     "metadata": {},
     "output_type": "execute_result"
    }
   ],
   "source": [
    "positives"
   ]
  },
  {
   "cell_type": "code",
   "execution_count": 14,
   "id": "continental-feelings",
   "metadata": {},
   "outputs": [
    {
     "data": {
      "text/plain": [
       "['Hydrogen_Bond:TYR383A',\n",
       " 'Hydrogen_Bond:ASP335A',\n",
       " 'Hydrophobic_Interaction:MET339A',\n",
       " 'Hydrogen_Bond:GLN384A']"
      ]
     },
     "execution_count": 14,
     "metadata": {},
     "output_type": "execute_result"
    }
   ],
   "source": [
    "negatives"
   ]
  },
  {
   "cell_type": "markdown",
   "id": "activated-collectible",
   "metadata": {},
   "source": [
    "#### **Score Compounds with different strategies & save results:**"
   ]
  },
  {
   "cell_type": "code",
   "execution_count": 15,
   "id": "lined-agent",
   "metadata": {},
   "outputs": [],
   "source": [
    "# make data copies\n",
    "train_result_strat1 = data_train.copy()\n",
    "train_result_strat2 = data_train.copy()\n",
    "train_result_strat3 = data_train.copy()\n",
    "train_result_strat4 = data_train.copy()\n",
    "# calculate scores\n",
    "train_result_strat1[\"SCORE\"] = train_result_strat1.apply(lambda x: score(x, positives, negatives, \"+\"), axis = 1)\n",
    "train_result_strat2[\"SCORE\"] = train_result_strat2.apply(lambda x: score(x, positives, negatives, \"++\"), axis = 1)\n",
    "train_result_strat3[\"SCORE\"] = train_result_strat3.apply(lambda x: score(x, positives, negatives, \"+-\"), axis = 1)\n",
    "train_result_strat4[\"SCORE\"] = train_result_strat4.apply(lambda x: score(x, positives, negatives, \"++--\"), axis = 1)\n",
    "# sort data\n",
    "train_result_strat1_sorted = train_result_strat1.sort_values(by = \"SCORE\", ascending = False)\n",
    "train_result_strat2_sorted = train_result_strat2.sort_values(by = \"SCORE\", ascending = False)\n",
    "train_result_strat3_sorted = train_result_strat3.sort_values(by = \"SCORE\", ascending = False)\n",
    "train_result_strat4_sorted = train_result_strat4.sort_values(by = \"SCORE\", ascending = False)\n",
    "# save data\n",
    "# train_result_strat1_sorted.to_csv(\"train_scores1.csv\")\n",
    "# train_result_strat2_sorted.to_csv(\"train_scores2.csv\")\n",
    "# train_result_strat3_sorted.to_csv(\"train_scores3.csv\")\n",
    "# train_result_strat4_sorted.to_csv(\"train_scores4.csv\")"
   ]
  },
  {
   "cell_type": "markdown",
   "id": "billion-uncle",
   "metadata": {},
   "source": [
    "#### **Find best cutoff value and print metrics:**"
   ]
  },
  {
   "cell_type": "markdown",
   "id": "regulated-quilt",
   "metadata": {},
   "source": [
    "*cutoff/accuracy for different strategies:*"
   ]
  },
  {
   "cell_type": "code",
   "execution_count": 16,
   "id": "military-protection",
   "metadata": {},
   "outputs": [
    {
     "name": "stdout",
     "output_type": "stream",
     "text": [
      "Strategy 1:  [7, 0.7866666666666666] \n",
      "Strategy 2:  [8, 0.7666666666666667] \n",
      "Strategy 3:  [6, 0.82] \n",
      "Strategy 4:  [8, 0.7733333333333333]\n"
     ]
    }
   ],
   "source": [
    "print(\n",
    "\"Strategy 1: \",\n",
    "get_cutoff(train_result_strat1[\"LABEL\"].to_list(), train_result_strat1[\"SCORE\"].to_list()),\n",
    "\"\\nStrategy 2: \",\n",
    "get_cutoff(train_result_strat2[\"LABEL\"].to_list(), train_result_strat2[\"SCORE\"].to_list()),\n",
    "\"\\nStrategy 3: \",\n",
    "get_cutoff(train_result_strat3[\"LABEL\"].to_list(), train_result_strat3[\"SCORE\"].to_list()),\n",
    "\"\\nStrategy 4: \",\n",
    "get_cutoff(train_result_strat4[\"LABEL\"].to_list(), train_result_strat4[\"SCORE\"].to_list())\n",
    ")"
   ]
  },
  {
   "cell_type": "markdown",
   "id": "further-measure",
   "metadata": {},
   "source": [
    "*accuracy for best cutoff:*"
   ]
  },
  {
   "cell_type": "code",
   "execution_count": 17,
   "id": "lyric-george",
   "metadata": {},
   "outputs": [
    {
     "name": "stdout",
     "output_type": "stream",
     "text": [
      "Strategy 1:  0.7866666666666666 \n",
      "Strategy 2:  0.7666666666666667 \n",
      "Strategy 3:  0.82 \n",
      "Strategy 4:  0.7733333333333333\n"
     ]
    }
   ],
   "source": [
    "print(\n",
    "\"Strategy 1: \",\n",
    "test_cutoff(train_result_strat1[\"LABEL\"].to_list(), train_result_strat1[\"SCORE\"].to_list(), 7, \"accuracy\"),\n",
    "\"\\nStrategy 2: \",\n",
    "test_cutoff(train_result_strat2[\"LABEL\"].to_list(), train_result_strat2[\"SCORE\"].to_list(), 8, \"accuracy\"),\n",
    "\"\\nStrategy 3: \",\n",
    "test_cutoff(train_result_strat3[\"LABEL\"].to_list(), train_result_strat3[\"SCORE\"].to_list(), 6, \"accuracy\"),\n",
    "\"\\nStrategy 4: \",\n",
    "test_cutoff(train_result_strat4[\"LABEL\"].to_list(), train_result_strat4[\"SCORE\"].to_list(), 8, \"accuracy\")\n",
    ")"
   ]
  },
  {
   "cell_type": "markdown",
   "id": "similar-excuse",
   "metadata": {},
   "source": [
    "*false positive rate for best cutoff:**false positive rate for best cutoff:*"
   ]
  },
  {
   "cell_type": "code",
   "execution_count": 18,
   "id": "successful-accordance",
   "metadata": {},
   "outputs": [
    {
     "name": "stdout",
     "output_type": "stream",
     "text": [
      "Strategy 1:  0.09009009009009009 \n",
      "Strategy 2:  0.08108108108108109 \n",
      "Strategy 3:  0.04504504504504504 \n",
      "Strategy 4:  0.02702702702702703\n"
     ]
    }
   ],
   "source": [
    "print(\n",
    "\"Strategy 1: \",\n",
    "test_cutoff(train_result_strat1[\"LABEL\"].to_list(), train_result_strat1[\"SCORE\"].to_list(), 7, \"fpr\"),\n",
    "\"\\nStrategy 2: \",\n",
    "test_cutoff(train_result_strat2[\"LABEL\"].to_list(), train_result_strat2[\"SCORE\"].to_list(), 8, \"fpr\"),\n",
    "\"\\nStrategy 3: \",\n",
    "test_cutoff(train_result_strat3[\"LABEL\"].to_list(), train_result_strat3[\"SCORE\"].to_list(), 6, \"fpr\"),\n",
    "\"\\nStrategy 4: \",\n",
    "test_cutoff(train_result_strat4[\"LABEL\"].to_list(), train_result_strat4[\"SCORE\"].to_list(), 8, \"fpr\")\n",
    ")"
   ]
  },
  {
   "cell_type": "markdown",
   "id": "conventional-joshua",
   "metadata": {},
   "source": [
    "#### **Validation results:**"
   ]
  },
  {
   "cell_type": "code",
   "execution_count": 19,
   "id": "instrumental-connectivity",
   "metadata": {},
   "outputs": [],
   "source": [
    "# make data copies\n",
    "val_result_strat1 = data_val.copy()\n",
    "val_result_strat2 = data_val.copy()\n",
    "val_result_strat3 = data_val.copy()\n",
    "val_result_strat4 = data_val.copy()\n",
    "# calculate scores\n",
    "val_result_strat1[\"SCORE\"] = val_result_strat1.apply(lambda x: score(x, positives, negatives, \"+\"), axis = 1)\n",
    "val_result_strat2[\"SCORE\"] = val_result_strat2.apply(lambda x: score(x, positives, negatives, \"++\"), axis = 1)\n",
    "val_result_strat3[\"SCORE\"] = val_result_strat3.apply(lambda x: score(x, positives, negatives, \"+-\"), axis = 1)\n",
    "val_result_strat4[\"SCORE\"] = val_result_strat4.apply(lambda x: score(x, positives, negatives, \"++--\"), axis = 1)\n",
    "# sort data\n",
    "val_result_strat1_sorted = val_result_strat1.sort_values(by = \"SCORE\", ascending = False)\n",
    "val_result_strat2_sorted = val_result_strat2.sort_values(by = \"SCORE\", ascending = False)\n",
    "val_result_strat3_sorted = val_result_strat3.sort_values(by = \"SCORE\", ascending = False)\n",
    "val_result_strat4_sorted = val_result_strat4.sort_values(by = \"SCORE\", ascending = False)"
   ]
  },
  {
   "cell_type": "markdown",
   "id": "still-suite",
   "metadata": {},
   "source": [
    "*accuracy for best cutoff:*"
   ]
  },
  {
   "cell_type": "code",
   "execution_count": 20,
   "id": "falling-heavy",
   "metadata": {},
   "outputs": [
    {
     "name": "stdout",
     "output_type": "stream",
     "text": [
      "Strategy 1:  0.7894736842105263 \n",
      "Strategy 2:  0.7894736842105263 \n",
      "Strategy 3:  0.7631578947368421 \n",
      "Strategy 4:  0.7894736842105263\n"
     ]
    }
   ],
   "source": [
    "print(\n",
    "\"Strategy 1: \",\n",
    "test_cutoff(val_result_strat1[\"LABEL\"].to_list(), val_result_strat1[\"SCORE\"].to_list(), 7, \"accuracy\"),\n",
    "\"\\nStrategy 2: \",\n",
    "test_cutoff(val_result_strat2[\"LABEL\"].to_list(), val_result_strat2[\"SCORE\"].to_list(), 8, \"accuracy\"),\n",
    "\"\\nStrategy 3: \",\n",
    "test_cutoff(val_result_strat3[\"LABEL\"].to_list(), val_result_strat3[\"SCORE\"].to_list(), 6, \"accuracy\"),\n",
    "\"\\nStrategy 4: \",\n",
    "test_cutoff(val_result_strat4[\"LABEL\"].to_list(), val_result_strat4[\"SCORE\"].to_list(), 8, \"accuracy\")\n",
    ")"
   ]
  },
  {
   "cell_type": "markdown",
   "id": "front-respondent",
   "metadata": {},
   "source": [
    "*false positive rate for best cutoff:*"
   ]
  },
  {
   "cell_type": "code",
   "execution_count": 21,
   "id": "front-dancing",
   "metadata": {},
   "outputs": [
    {
     "name": "stdout",
     "output_type": "stream",
     "text": [
      "Strategy 1:  0.13333333333333333 \n",
      "Strategy 2:  0.06666666666666667 \n",
      "Strategy 3:  0.13333333333333333 \n",
      "Strategy 4:  0.03333333333333333\n"
     ]
    }
   ],
   "source": [
    "print(\n",
    "\"Strategy 1: \",\n",
    "test_cutoff(val_result_strat1[\"LABEL\"].to_list(), val_result_strat1[\"SCORE\"].to_list(), 7, \"fpr\"),\n",
    "\"\\nStrategy 2: \",\n",
    "test_cutoff(val_result_strat2[\"LABEL\"].to_list(), val_result_strat2[\"SCORE\"].to_list(), 8, \"fpr\"),\n",
    "\"\\nStrategy 3: \",\n",
    "test_cutoff(val_result_strat3[\"LABEL\"].to_list(), val_result_strat3[\"SCORE\"].to_list(), 6, \"fpr\"),\n",
    "\"\\nStrategy 4: \",\n",
    "test_cutoff(val_result_strat4[\"LABEL\"].to_list(), val_result_strat4[\"SCORE\"].to_list(), 8, \"fpr\")\n",
    ")"
   ]
  },
  {
   "cell_type": "markdown",
   "id": "broad-present",
   "metadata": {},
   "source": [
    "#### **Quality metrics for training and validation data:**"
   ]
  },
  {
   "cell_type": "markdown",
   "id": "romance-bottom",
   "metadata": {},
   "source": [
    "*training data:*"
   ]
  },
  {
   "cell_type": "code",
   "execution_count": 22,
   "id": "arranged-benefit",
   "metadata": {},
   "outputs": [
    {
     "name": "stdout",
     "output_type": "stream",
     "text": [
      "Strategy 1:  {'Ya': 0.6296296296296297, 'EF': 2.421652421652422, 'REF': 62.96296296296296} \n",
      "Strategy 2:  {'Ya': 0.5909090909090909, 'EF': 2.272727272727273, 'REF': 59.09090909090909} \n",
      "Strategy 3:  {'Ya': 0.7727272727272727, 'EF': 2.9720279720279716, 'REF': 77.27272727272727} \n",
      "Strategy 4:  {'Ya': 0.7272727272727273, 'EF': 2.797202797202797, 'REF': 72.72727272727273}\n"
     ]
    }
   ],
   "source": [
    "print(\n",
    "\"Strategy 1: \",\n",
    "get_metrics(train_result_strat1, 7),\n",
    "\"\\nStrategy 2: \",\n",
    "get_metrics(train_result_strat2, 8),\n",
    "\"\\nStrategy 3: \",\n",
    "get_metrics(train_result_strat3, 6),\n",
    "\"\\nStrategy 4: \",\n",
    "get_metrics(train_result_strat4, 8)\n",
    ")"
   ]
  },
  {
   "cell_type": "markdown",
   "id": "selective-editing",
   "metadata": {},
   "source": [
    "*validation data:*"
   ]
  },
  {
   "cell_type": "code",
   "execution_count": 23,
   "id": "generous-doubt",
   "metadata": {},
   "outputs": [
    {
     "name": "stdout",
     "output_type": "stream",
     "text": [
      "Strategy 1:  {'Ya': 0.5, 'EF': 2.375, 'REF': 50.0} \n",
      "Strategy 2:  {'Ya': 0.5, 'EF': 2.375, 'REF': 50.0} \n",
      "Strategy 3:  {'Ya': 0.42857142857142855, 'EF': 2.0357142857142856, 'REF': 42.857142857142854} \n",
      "Strategy 4:  {'Ya': 0.5, 'EF': 2.375, 'REF': 50.0}\n"
     ]
    }
   ],
   "source": [
    "print(\n",
    "\"Strategy 1: \",\n",
    "get_metrics(val_result_strat1, 7),\n",
    "\"\\nStrategy 2: \",\n",
    "get_metrics(val_result_strat2, 8),\n",
    "\"\\nStrategy 3: \",\n",
    "get_metrics(val_result_strat3, 6),\n",
    "\"\\nStrategy 4: \",\n",
    "get_metrics(val_result_strat4, 8)\n",
    ")"
   ]
  },
  {
   "cell_type": "markdown",
   "id": "union-analyst",
   "metadata": {},
   "source": [
    "### **LOGISTIC REGRESSION**"
   ]
  },
  {
   "cell_type": "code",
   "execution_count": 24,
   "id": "italic-classics",
   "metadata": {},
   "outputs": [],
   "source": [
    "from sklearn.linear_model import LogisticRegression\n",
    "from sklearn.metrics import roc_curve, roc_auc_score, classification_report, accuracy_score, confusion_matrix"
   ]
  },
  {
   "cell_type": "markdown",
   "id": "trained-communist",
   "metadata": {},
   "source": [
    "#### **Format data:**"
   ]
  },
  {
   "cell_type": "code",
   "execution_count": 25,
   "id": "legal-abraham",
   "metadata": {},
   "outputs": [],
   "source": [
    "X_train = data_train.drop(columns = [\"INDEX\", \"NAME\", \"LABEL\"])[features_filtered[\"INTERACTION\"].to_list()]\n",
    "y_train = data_train[\"LABEL\"].apply(lambda x: 1 if x == \"active\" else 0).values\n",
    "X_val = data_val.drop(columns = [\"INDEX\", \"NAME\", \"LABEL\"])[features_filtered[\"INTERACTION\"].to_list()]\n",
    "y_val = data_val[\"LABEL\"].apply(lambda x: 1 if x == \"active\" else 0).values"
   ]
  },
  {
   "cell_type": "markdown",
   "id": "restricted-techno",
   "metadata": {},
   "source": [
    "#### **Fit logistic model:**"
   ]
  },
  {
   "cell_type": "code",
   "execution_count": 26,
   "id": "discrete-curve",
   "metadata": {},
   "outputs": [
    {
     "name": "stdout",
     "output_type": "stream",
     "text": [
      "convergence after 50 epochs took 0 seconds\n"
     ]
    },
    {
     "name": "stderr",
     "output_type": "stream",
     "text": [
      "[Parallel(n_jobs=1)]: Using backend SequentialBackend with 1 concurrent workers.\n",
      "[Parallel(n_jobs=1)]: Done   1 out of   1 | elapsed:    0.0s finished\n"
     ]
    },
    {
     "data": {
      "text/plain": [
       "LogisticRegression(class_weight='balanced', l1_ratio=0.5, max_iter=10000,\n",
       "                   penalty='elasticnet', solver='saga', verbose=1)"
      ]
     },
     "execution_count": 26,
     "metadata": {},
     "output_type": "execute_result"
    }
   ],
   "source": [
    "lr = LogisticRegression(penalty = \"elasticnet\", class_weight = \"balanced\", solver = \"saga\", max_iter = 10000, l1_ratio = 0.5, verbose = 1)\n",
    "lr.fit(X_train, y_train)"
   ]
  },
  {
   "cell_type": "markdown",
   "id": "accompanied-prefix",
   "metadata": {},
   "source": [
    "#### **Evaluate model on training data:**"
   ]
  },
  {
   "cell_type": "code",
   "execution_count": 27,
   "id": "greek-wedding",
   "metadata": {},
   "outputs": [
    {
     "name": "stdout",
     "output_type": "stream",
     "text": [
      "Confusion matrix: \n",
      " [[79 32]\n",
      " [ 8 31]]\n",
      "Training AUC:  0.8471933471933472\n",
      "Training ACC:  0.7333333333333333\n"
     ]
    }
   ],
   "source": [
    "y_train_predicted = lr.predict(X_train)\n",
    "y_train_predicted_probs = lr.predict_proba(X_train)[:,1] # see https://scikit-learn.org/stable/modules/generated/sklearn.metrics.roc_auc_score.html\n",
    "\n",
    "train_accuracy = accuracy_score(y_train, y_train_predicted)\n",
    "train_auc_roc = roc_auc_score(y_train, y_train_predicted_probs)\n",
    "\n",
    "print(\"Confusion matrix: \\n\", confusion_matrix(y_train, y_train_predicted))\n",
    "print(\"Training AUC: \", train_auc_roc)\n",
    "print(\"Training ACC: \", train_accuracy)"
   ]
  },
  {
   "cell_type": "code",
   "execution_count": 28,
   "id": "varied-belize",
   "metadata": {},
   "outputs": [
    {
     "data": {
      "image/png": "[encoded data removed]",
      "text/plain": [
       "<Figure size 432x288 with 2 Axes>"
      ]
     },
     "metadata": {
      "needs_background": "light"
     },
     "output_type": "display_data"
    }
   ],
   "source": [
    "plot_confusion_matrix(confusion_matrix(y_train, y_train_predicted), classes = [\"0\", \"1\"]);"
   ]
  },
  {
   "cell_type": "code",
   "execution_count": 29,
   "id": "efficient-handy",
   "metadata": {},
   "outputs": [],
   "source": [
    "# print(classification_report(y_train, y_train_predicted, digits=6))"
   ]
  },
  {
   "cell_type": "markdown",
   "id": "sharing-subdivision",
   "metadata": {},
   "source": [
    "#### **Evaluate model on validation data:**"
   ]
  },
  {
   "cell_type": "code",
   "execution_count": 30,
   "id": "worthy-angel",
   "metadata": {},
   "outputs": [
    {
     "name": "stdout",
     "output_type": "stream",
     "text": [
      "Confusion matrix: \n",
      " [[17 13]\n",
      " [ 3  5]]\n",
      "Validation AUC:  0.6541666666666667\n",
      "Validation ACC:  0.5789473684210527\n"
     ]
    }
   ],
   "source": [
    "y_val_predicted = lr.predict(X_val)\n",
    "y_val_predicted_probs = lr.predict_proba(X_val)[:,1] # see https://scikit-learn.org/stable/modules/generated/sklearn.metrics.roc_auc_score.html\n",
    "\n",
    "val_accuracy = accuracy_score(y_val, y_val_predicted)\n",
    "val_auc_roc = roc_auc_score(y_val, y_val_predicted_probs)\n",
    "\n",
    "print(\"Confusion matrix: \\n\", confusion_matrix(y_val, y_val_predicted))\n",
    "print(\"Validation AUC: \", val_auc_roc)\n",
    "print(\"Validation ACC: \", val_accuracy)"
   ]
  },
  {
   "cell_type": "code",
   "execution_count": 31,
   "id": "stupid-brooklyn",
   "metadata": {},
   "outputs": [
    {
     "data": {
      "image/png": "[encoded data removed]",
      "text/plain": [
       "<Figure size 432x288 with 2 Axes>"
      ]
     },
     "metadata": {
      "needs_background": "light"
     },
     "output_type": "display_data"
    }
   ],
   "source": [
    "plot_confusion_matrix(confusion_matrix(y_val, y_val_predicted), classes = [\"0\", \"1\"]);"
   ]
  },
  {
   "cell_type": "markdown",
   "id": "verbal-stable",
   "metadata": {},
   "source": [
    "#### **Clean up:**"
   ]
  },
  {
   "cell_type": "code",
   "execution_count": 32,
   "id": "dietary-balance",
   "metadata": {},
   "outputs": [],
   "source": [
    "os.remove(\"scoring.py\")"
   ]
  },
  {
   "cell_type": "code",
   "execution_count": null,
   "id": "digital-compromise",
   "metadata": {},
   "outputs": [],
   "source": []
  }
 ],
 "metadata": {
  "kernelspec": {
   "display_name": "Python 3",
   "language": "python",
   "name": "python3"
  },
  "language_info": {
   "codemirror_mode": {
    "name": "ipython",
    "version": 3
   },
   "file_extension": ".py",
   "mimetype": "text/x-python",
   "name": "python",
   "nbconvert_exporter": "python",
   "pygments_lexer": "ipython3",
   "version": "3.8.8"
  }
 },
 "nbformat": 4,
 "nbformat_minor": 5
}
