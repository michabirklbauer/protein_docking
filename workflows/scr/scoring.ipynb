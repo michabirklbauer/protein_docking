{
 "cells": [
  {
   "cell_type": "markdown",
   "id": "loaded-stone",
   "metadata": {},
   "source": [
    "## **SCORING - Soluble Epoxide Hydrolase**\n",
    "#### **Micha Birklbauer 2021-10-08**"
   ]
  },
  {
   "cell_type": "code",
   "execution_count": 1,
   "id": "floating-purpose",
   "metadata": {},
   "outputs": [
    {
     "data": {
      "text/plain": [
       "'PIAScore.py'"
      ]
     },
     "execution_count": 1,
     "metadata": {},
     "output_type": "execute_result"
    }
   ],
   "source": [
    "import os\n",
    "from shutil import copyfile\n",
    "from itertools import islice\n",
    "copyfile(\"../../scripts/python/PIAScore.py\", \"PIAScore.py\")"
   ]
  },
  {
   "cell_type": "code",
   "execution_count": 2,
   "id": "duplicate-civilian",
   "metadata": {},
   "outputs": [],
   "source": [
    "import pandas as pd\n",
    "from PIAScore import *"
   ]
  },
  {
   "cell_type": "markdown",
   "id": "judicial-gardening",
   "metadata": {},
   "source": [
    "#### **Load data:**"
   ]
  },
  {
   "cell_type": "code",
   "execution_count": 3,
   "id": "interracial-edmonton",
   "metadata": {},
   "outputs": [],
   "source": [
    "data_train = pd.read_csv(\"data_train.csv\")\n",
    "data_val = pd.read_csv(\"data_val.csv\")\n",
    "data_test = pd.read_csv(\"data_test.csv\")\n",
    "features = pd.read_csv(\"features.csv\")"
   ]
  },
  {
   "cell_type": "code",
   "execution_count": 4,
   "id": "round-happening",
   "metadata": {},
   "outputs": [],
   "source": [
    "# data_train.info()"
   ]
  },
  {
   "cell_type": "code",
   "execution_count": 5,
   "id": "chicken-climb",
   "metadata": {},
   "outputs": [
    {
     "data": {
      "text/html": [
       "<div>\n",
       "<style scoped>\n",
       "    .dataframe tbody tr th:only-of-type {\n",
       "        vertical-align: middle;\n",
       "    }\n",
       "\n",
       "    .dataframe tbody tr th {\n",
       "        vertical-align: top;\n",
       "    }\n",
       "\n",
       "    .dataframe thead th {\n",
       "        text-align: right;\n",
       "    }\n",
       "</style>\n",
       "<table border=\"1\" class=\"dataframe\">\n",
       "  <thead>\n",
       "    <tr style=\"text-align: right;\">\n",
       "      <th></th>\n",
       "      <th>INDEX</th>\n",
       "      <th>NAME</th>\n",
       "      <th>Halogen_Bond:SER370A</th>\n",
       "      <th>Hydrogen_Bond:TRP336A</th>\n",
       "      <th>Water_Bridge:HIS524A</th>\n",
       "      <th>Halogen_Bond:ASP496A</th>\n",
       "      <th>Salt_Bridge:HIS524A</th>\n",
       "      <th>Hydrogen_Bond:PHE497A</th>\n",
       "      <th>Salt_Bridge:ASP335A</th>\n",
       "      <th>Halogen_Bond:TYR343A</th>\n",
       "      <th>...</th>\n",
       "      <th>Hydrogen_Bond:TYR343A</th>\n",
       "      <th>Water_Bridge:TRP525A</th>\n",
       "      <th>Hydrogen_Bond:TYR466A</th>\n",
       "      <th>Halogen_Bond:MET369A</th>\n",
       "      <th>Halogen_Bond:ASN472A</th>\n",
       "      <th>Water_Bridge:PHE267A</th>\n",
       "      <th>Hydrophobic_Interaction:PHE362A</th>\n",
       "      <th>Halogen_Bond:ASN378A</th>\n",
       "      <th>Hydrophobic_Interaction:TYR466A</th>\n",
       "      <th>LABEL</th>\n",
       "    </tr>\n",
       "  </thead>\n",
       "  <tbody>\n",
       "    <tr>\n",
       "      <th>0</th>\n",
       "      <td>1</td>\n",
       "      <td>IA_40|SeH_inactivess_minimized|sdf|127</td>\n",
       "      <td>0</td>\n",
       "      <td>0</td>\n",
       "      <td>0</td>\n",
       "      <td>0</td>\n",
       "      <td>1</td>\n",
       "      <td>0</td>\n",
       "      <td>0</td>\n",
       "      <td>0</td>\n",
       "      <td>...</td>\n",
       "      <td>0</td>\n",
       "      <td>1</td>\n",
       "      <td>2</td>\n",
       "      <td>0</td>\n",
       "      <td>0</td>\n",
       "      <td>2</td>\n",
       "      <td>0</td>\n",
       "      <td>0</td>\n",
       "      <td>0</td>\n",
       "      <td>inactive</td>\n",
       "    </tr>\n",
       "    <tr>\n",
       "      <th>1</th>\n",
       "      <td>2</td>\n",
       "      <td>A_19|SEH_inhibs_minimized|sdf|18</td>\n",
       "      <td>0</td>\n",
       "      <td>0</td>\n",
       "      <td>0</td>\n",
       "      <td>0</td>\n",
       "      <td>0</td>\n",
       "      <td>0</td>\n",
       "      <td>0</td>\n",
       "      <td>0</td>\n",
       "      <td>...</td>\n",
       "      <td>1</td>\n",
       "      <td>0</td>\n",
       "      <td>1</td>\n",
       "      <td>0</td>\n",
       "      <td>0</td>\n",
       "      <td>0</td>\n",
       "      <td>1</td>\n",
       "      <td>0</td>\n",
       "      <td>1</td>\n",
       "      <td>active</td>\n",
       "    </tr>\n",
       "    <tr>\n",
       "      <th>2</th>\n",
       "      <td>3</td>\n",
       "      <td>IA_11|SeH_inactivess_minimized|sdf|12</td>\n",
       "      <td>0</td>\n",
       "      <td>1</td>\n",
       "      <td>0</td>\n",
       "      <td>0</td>\n",
       "      <td>0</td>\n",
       "      <td>0</td>\n",
       "      <td>0</td>\n",
       "      <td>0</td>\n",
       "      <td>...</td>\n",
       "      <td>0</td>\n",
       "      <td>0</td>\n",
       "      <td>1</td>\n",
       "      <td>0</td>\n",
       "      <td>0</td>\n",
       "      <td>0</td>\n",
       "      <td>0</td>\n",
       "      <td>0</td>\n",
       "      <td>0</td>\n",
       "      <td>inactive</td>\n",
       "    </tr>\n",
       "    <tr>\n",
       "      <th>3</th>\n",
       "      <td>4</td>\n",
       "      <td>IA_149.cdx|SeH_inactivess_minimized|sdf|50</td>\n",
       "      <td>0</td>\n",
       "      <td>0</td>\n",
       "      <td>0</td>\n",
       "      <td>0</td>\n",
       "      <td>0</td>\n",
       "      <td>0</td>\n",
       "      <td>0</td>\n",
       "      <td>0</td>\n",
       "      <td>...</td>\n",
       "      <td>0</td>\n",
       "      <td>0</td>\n",
       "      <td>0</td>\n",
       "      <td>0</td>\n",
       "      <td>0</td>\n",
       "      <td>0</td>\n",
       "      <td>0</td>\n",
       "      <td>0</td>\n",
       "      <td>0</td>\n",
       "      <td>inactive</td>\n",
       "    </tr>\n",
       "    <tr>\n",
       "      <th>4</th>\n",
       "      <td>5</td>\n",
       "      <td>A_103|SEH_inhibs_minimized|sdf|5</td>\n",
       "      <td>0</td>\n",
       "      <td>0</td>\n",
       "      <td>0</td>\n",
       "      <td>0</td>\n",
       "      <td>0</td>\n",
       "      <td>0</td>\n",
       "      <td>0</td>\n",
       "      <td>0</td>\n",
       "      <td>...</td>\n",
       "      <td>0</td>\n",
       "      <td>0</td>\n",
       "      <td>1</td>\n",
       "      <td>0</td>\n",
       "      <td>0</td>\n",
       "      <td>0</td>\n",
       "      <td>0</td>\n",
       "      <td>0</td>\n",
       "      <td>1</td>\n",
       "      <td>active</td>\n",
       "    </tr>\n",
       "    <tr>\n",
       "      <th>...</th>\n",
       "      <td>...</td>\n",
       "      <td>...</td>\n",
       "      <td>...</td>\n",
       "      <td>...</td>\n",
       "      <td>...</td>\n",
       "      <td>...</td>\n",
       "      <td>...</td>\n",
       "      <td>...</td>\n",
       "      <td>...</td>\n",
       "      <td>...</td>\n",
       "      <td>...</td>\n",
       "      <td>...</td>\n",
       "      <td>...</td>\n",
       "      <td>...</td>\n",
       "      <td>...</td>\n",
       "      <td>...</td>\n",
       "      <td>...</td>\n",
       "      <td>...</td>\n",
       "      <td>...</td>\n",
       "      <td>...</td>\n",
       "      <td>...</td>\n",
       "    </tr>\n",
       "    <tr>\n",
       "      <th>145</th>\n",
       "      <td>146</td>\n",
       "      <td>IA_55.cdx|SeH_inactivess_minimized|sdf|140</td>\n",
       "      <td>0</td>\n",
       "      <td>0</td>\n",
       "      <td>0</td>\n",
       "      <td>0</td>\n",
       "      <td>0</td>\n",
       "      <td>0</td>\n",
       "      <td>0</td>\n",
       "      <td>0</td>\n",
       "      <td>...</td>\n",
       "      <td>0</td>\n",
       "      <td>0</td>\n",
       "      <td>0</td>\n",
       "      <td>0</td>\n",
       "      <td>0</td>\n",
       "      <td>0</td>\n",
       "      <td>0</td>\n",
       "      <td>0</td>\n",
       "      <td>0</td>\n",
       "      <td>inactive</td>\n",
       "    </tr>\n",
       "    <tr>\n",
       "      <th>146</th>\n",
       "      <td>147</td>\n",
       "      <td>IA_95.cdx|SeH_inactivess_minimized|sdf|174</td>\n",
       "      <td>0</td>\n",
       "      <td>0</td>\n",
       "      <td>0</td>\n",
       "      <td>0</td>\n",
       "      <td>0</td>\n",
       "      <td>0</td>\n",
       "      <td>0</td>\n",
       "      <td>0</td>\n",
       "      <td>...</td>\n",
       "      <td>0</td>\n",
       "      <td>0</td>\n",
       "      <td>0</td>\n",
       "      <td>0</td>\n",
       "      <td>0</td>\n",
       "      <td>0</td>\n",
       "      <td>0</td>\n",
       "      <td>0</td>\n",
       "      <td>0</td>\n",
       "      <td>inactive</td>\n",
       "    </tr>\n",
       "    <tr>\n",
       "      <th>147</th>\n",
       "      <td>148</td>\n",
       "      <td>IA_179.cdx|SeH_inactivess_minimized|sdf|80</td>\n",
       "      <td>0</td>\n",
       "      <td>0</td>\n",
       "      <td>0</td>\n",
       "      <td>0</td>\n",
       "      <td>0</td>\n",
       "      <td>0</td>\n",
       "      <td>0</td>\n",
       "      <td>0</td>\n",
       "      <td>...</td>\n",
       "      <td>0</td>\n",
       "      <td>0</td>\n",
       "      <td>1</td>\n",
       "      <td>0</td>\n",
       "      <td>0</td>\n",
       "      <td>0</td>\n",
       "      <td>0</td>\n",
       "      <td>0</td>\n",
       "      <td>0</td>\n",
       "      <td>inactive</td>\n",
       "    </tr>\n",
       "    <tr>\n",
       "      <th>148</th>\n",
       "      <td>149</td>\n",
       "      <td>IA_70.cdx|SeH_inactivess_minimized|sdf|148</td>\n",
       "      <td>0</td>\n",
       "      <td>0</td>\n",
       "      <td>0</td>\n",
       "      <td>0</td>\n",
       "      <td>0</td>\n",
       "      <td>0</td>\n",
       "      <td>0</td>\n",
       "      <td>0</td>\n",
       "      <td>...</td>\n",
       "      <td>0</td>\n",
       "      <td>0</td>\n",
       "      <td>1</td>\n",
       "      <td>0</td>\n",
       "      <td>0</td>\n",
       "      <td>0</td>\n",
       "      <td>0</td>\n",
       "      <td>0</td>\n",
       "      <td>0</td>\n",
       "      <td>inactive</td>\n",
       "    </tr>\n",
       "    <tr>\n",
       "      <th>149</th>\n",
       "      <td>150</td>\n",
       "      <td>IA_72.cdx|SeH_inactivess_minimized|sdf|150</td>\n",
       "      <td>0</td>\n",
       "      <td>0</td>\n",
       "      <td>0</td>\n",
       "      <td>0</td>\n",
       "      <td>0</td>\n",
       "      <td>0</td>\n",
       "      <td>0</td>\n",
       "      <td>0</td>\n",
       "      <td>...</td>\n",
       "      <td>0</td>\n",
       "      <td>0</td>\n",
       "      <td>0</td>\n",
       "      <td>0</td>\n",
       "      <td>0</td>\n",
       "      <td>0</td>\n",
       "      <td>0</td>\n",
       "      <td>0</td>\n",
       "      <td>0</td>\n",
       "      <td>inactive</td>\n",
       "    </tr>\n",
       "  </tbody>\n",
       "</table>\n",
       "<p>150 rows × 82 columns</p>\n",
       "</div>"
      ],
      "text/plain": [
       "     INDEX                                        NAME  Halogen_Bond:SER370A  \\\n",
       "0        1      IA_40|SeH_inactivess_minimized|sdf|127                     0   \n",
       "1        2            A_19|SEH_inhibs_minimized|sdf|18                     0   \n",
       "2        3       IA_11|SeH_inactivess_minimized|sdf|12                     0   \n",
       "3        4  IA_149.cdx|SeH_inactivess_minimized|sdf|50                     0   \n",
       "4        5            A_103|SEH_inhibs_minimized|sdf|5                     0   \n",
       "..     ...                                         ...                   ...   \n",
       "145    146  IA_55.cdx|SeH_inactivess_minimized|sdf|140                     0   \n",
       "146    147  IA_95.cdx|SeH_inactivess_minimized|sdf|174                     0   \n",
       "147    148  IA_179.cdx|SeH_inactivess_minimized|sdf|80                     0   \n",
       "148    149  IA_70.cdx|SeH_inactivess_minimized|sdf|148                     0   \n",
       "149    150  IA_72.cdx|SeH_inactivess_minimized|sdf|150                     0   \n",
       "\n",
       "     Hydrogen_Bond:TRP336A  Water_Bridge:HIS524A  Halogen_Bond:ASP496A  \\\n",
       "0                        0                     0                     0   \n",
       "1                        0                     0                     0   \n",
       "2                        1                     0                     0   \n",
       "3                        0                     0                     0   \n",
       "4                        0                     0                     0   \n",
       "..                     ...                   ...                   ...   \n",
       "145                      0                     0                     0   \n",
       "146                      0                     0                     0   \n",
       "147                      0                     0                     0   \n",
       "148                      0                     0                     0   \n",
       "149                      0                     0                     0   \n",
       "\n",
       "     Salt_Bridge:HIS524A  Hydrogen_Bond:PHE497A  Salt_Bridge:ASP335A  \\\n",
       "0                      1                      0                    0   \n",
       "1                      0                      0                    0   \n",
       "2                      0                      0                    0   \n",
       "3                      0                      0                    0   \n",
       "4                      0                      0                    0   \n",
       "..                   ...                    ...                  ...   \n",
       "145                    0                      0                    0   \n",
       "146                    0                      0                    0   \n",
       "147                    0                      0                    0   \n",
       "148                    0                      0                    0   \n",
       "149                    0                      0                    0   \n",
       "\n",
       "     Halogen_Bond:TYR343A  ...  Hydrogen_Bond:TYR343A  Water_Bridge:TRP525A  \\\n",
       "0                       0  ...                      0                     1   \n",
       "1                       0  ...                      1                     0   \n",
       "2                       0  ...                      0                     0   \n",
       "3                       0  ...                      0                     0   \n",
       "4                       0  ...                      0                     0   \n",
       "..                    ...  ...                    ...                   ...   \n",
       "145                     0  ...                      0                     0   \n",
       "146                     0  ...                      0                     0   \n",
       "147                     0  ...                      0                     0   \n",
       "148                     0  ...                      0                     0   \n",
       "149                     0  ...                      0                     0   \n",
       "\n",
       "     Hydrogen_Bond:TYR466A  Halogen_Bond:MET369A  Halogen_Bond:ASN472A  \\\n",
       "0                        2                     0                     0   \n",
       "1                        1                     0                     0   \n",
       "2                        1                     0                     0   \n",
       "3                        0                     0                     0   \n",
       "4                        1                     0                     0   \n",
       "..                     ...                   ...                   ...   \n",
       "145                      0                     0                     0   \n",
       "146                      0                     0                     0   \n",
       "147                      1                     0                     0   \n",
       "148                      1                     0                     0   \n",
       "149                      0                     0                     0   \n",
       "\n",
       "     Water_Bridge:PHE267A  Hydrophobic_Interaction:PHE362A  \\\n",
       "0                       2                                0   \n",
       "1                       0                                1   \n",
       "2                       0                                0   \n",
       "3                       0                                0   \n",
       "4                       0                                0   \n",
       "..                    ...                              ...   \n",
       "145                     0                                0   \n",
       "146                     0                                0   \n",
       "147                     0                                0   \n",
       "148                     0                                0   \n",
       "149                     0                                0   \n",
       "\n",
       "     Halogen_Bond:ASN378A  Hydrophobic_Interaction:TYR466A     LABEL  \n",
       "0                       0                                0  inactive  \n",
       "1                       0                                1    active  \n",
       "2                       0                                0  inactive  \n",
       "3                       0                                0  inactive  \n",
       "4                       0                                1    active  \n",
       "..                    ...                              ...       ...  \n",
       "145                     0                                0  inactive  \n",
       "146                     0                                0  inactive  \n",
       "147                     0                                0  inactive  \n",
       "148                     0                                0  inactive  \n",
       "149                     0                                0  inactive  \n",
       "\n",
       "[150 rows x 82 columns]"
      ]
     },
     "execution_count": 5,
     "metadata": {},
     "output_type": "execute_result"
    }
   ],
   "source": [
    "data_train"
   ]
  },
  {
   "cell_type": "code",
   "execution_count": 6,
   "id": "convertible-depth",
   "metadata": {},
   "outputs": [
    {
     "name": "stdout",
     "output_type": "stream",
     "text": [
      "Training dataset shape & Nr. of actives:\n",
      "(150, 82) 37\n"
     ]
    }
   ],
   "source": [
    "print(\"Training dataset shape & Nr. of actives:\")\n",
    "print(data_train.shape, len(data_train.loc[data_train[\"LABEL\"] == \"active\"]))"
   ]
  },
  {
   "cell_type": "code",
   "execution_count": 7,
   "id": "processed-footwear",
   "metadata": {},
   "outputs": [
    {
     "name": "stdout",
     "output_type": "stream",
     "text": [
      "Validation dataset shape & Nr. of actives:\n",
      "(38, 82) 10\n"
     ]
    }
   ],
   "source": [
    "print(\"Validation dataset shape & Nr. of actives:\")\n",
    "print(data_val.shape, len(data_val.loc[data_val[\"LABEL\"] == \"active\"]))"
   ]
  },
  {
   "cell_type": "code",
   "execution_count": 8,
   "id": "median-mineral",
   "metadata": {},
   "outputs": [
    {
     "name": "stdout",
     "output_type": "stream",
     "text": [
      "Test dataset shape & Nr. of actives:\n",
      "(48, 82) 11\n"
     ]
    }
   ],
   "source": [
    "print(\"Test dataset shape & Nr. of actives:\")\n",
    "print(data_test.shape, len(data_test.loc[data_test[\"LABEL\"] == \"active\"]))"
   ]
  },
  {
   "cell_type": "code",
   "execution_count": 9,
   "id": "downtown-intensity",
   "metadata": {},
   "outputs": [
    {
     "data": {
      "text/html": [
       "<div>\n",
       "<style scoped>\n",
       "    .dataframe tbody tr th:only-of-type {\n",
       "        vertical-align: middle;\n",
       "    }\n",
       "\n",
       "    .dataframe tbody tr th {\n",
       "        vertical-align: top;\n",
       "    }\n",
       "\n",
       "    .dataframe thead th {\n",
       "        text-align: right;\n",
       "    }\n",
       "</style>\n",
       "<table border=\"1\" class=\"dataframe\">\n",
       "  <thead>\n",
       "    <tr style=\"text-align: right;\">\n",
       "      <th></th>\n",
       "      <th>INDEX</th>\n",
       "      <th>INTERACTION</th>\n",
       "      <th>DIFFERENCE</th>\n",
       "      <th>ACTIVE_FREQUENCY</th>\n",
       "      <th>INACTIVE_FREQUENCY</th>\n",
       "    </tr>\n",
       "  </thead>\n",
       "  <tbody>\n",
       "    <tr>\n",
       "      <th>0</th>\n",
       "      <td>1</td>\n",
       "      <td>Hydrophobic_Interaction:TRP525A</td>\n",
       "      <td>0.303516</td>\n",
       "      <td>0.648649</td>\n",
       "      <td>0.345133</td>\n",
       "    </tr>\n",
       "    <tr>\n",
       "      <th>1</th>\n",
       "      <td>2</td>\n",
       "      <td>Hydrogen_Bond:TYR466A</td>\n",
       "      <td>0.296819</td>\n",
       "      <td>1.270270</td>\n",
       "      <td>0.973451</td>\n",
       "    </tr>\n",
       "    <tr>\n",
       "      <th>2</th>\n",
       "      <td>3</td>\n",
       "      <td>Hydrophobic_Interaction:LEU499A</td>\n",
       "      <td>0.259268</td>\n",
       "      <td>0.648649</td>\n",
       "      <td>0.389381</td>\n",
       "    </tr>\n",
       "    <tr>\n",
       "      <th>3</th>\n",
       "      <td>4</td>\n",
       "      <td>Hydrophobic_Interaction:TYR466A</td>\n",
       "      <td>0.242526</td>\n",
       "      <td>0.702703</td>\n",
       "      <td>0.460177</td>\n",
       "    </tr>\n",
       "    <tr>\n",
       "      <th>4</th>\n",
       "      <td>5</td>\n",
       "      <td>Hydrophobic_Interaction:TYR383A</td>\n",
       "      <td>0.203301</td>\n",
       "      <td>0.486486</td>\n",
       "      <td>0.283186</td>\n",
       "    </tr>\n",
       "    <tr>\n",
       "      <th>...</th>\n",
       "      <td>...</td>\n",
       "      <td>...</td>\n",
       "      <td>...</td>\n",
       "      <td>...</td>\n",
       "      <td>...</td>\n",
       "    </tr>\n",
       "    <tr>\n",
       "      <th>74</th>\n",
       "      <td>75</td>\n",
       "      <td>Halogen_Bond:ASN472A</td>\n",
       "      <td>0.008850</td>\n",
       "      <td>0.000000</td>\n",
       "      <td>0.008850</td>\n",
       "    </tr>\n",
       "    <tr>\n",
       "      <th>75</th>\n",
       "      <td>76</td>\n",
       "      <td>Hydrophobic_Interaction:LEU417A</td>\n",
       "      <td>0.008371</td>\n",
       "      <td>0.027027</td>\n",
       "      <td>0.035398</td>\n",
       "    </tr>\n",
       "    <tr>\n",
       "      <th>76</th>\n",
       "      <td>77</td>\n",
       "      <td>Hydrogen_Bond:VAL498A</td>\n",
       "      <td>0.007893</td>\n",
       "      <td>0.054054</td>\n",
       "      <td>0.061947</td>\n",
       "    </tr>\n",
       "    <tr>\n",
       "      <th>77</th>\n",
       "      <td>78</td>\n",
       "      <td>Pi-Cation_Interaction:HIS524A</td>\n",
       "      <td>0.007414</td>\n",
       "      <td>0.081081</td>\n",
       "      <td>0.088496</td>\n",
       "    </tr>\n",
       "    <tr>\n",
       "      <th>78</th>\n",
       "      <td>79</td>\n",
       "      <td>Hydrogen_Bond:ASN472A</td>\n",
       "      <td>0.000478</td>\n",
       "      <td>0.027027</td>\n",
       "      <td>0.026549</td>\n",
       "    </tr>\n",
       "  </tbody>\n",
       "</table>\n",
       "<p>79 rows × 5 columns</p>\n",
       "</div>"
      ],
      "text/plain": [
       "    INDEX                      INTERACTION  DIFFERENCE  ACTIVE_FREQUENCY  \\\n",
       "0       1  Hydrophobic_Interaction:TRP525A    0.303516          0.648649   \n",
       "1       2            Hydrogen_Bond:TYR466A    0.296819          1.270270   \n",
       "2       3  Hydrophobic_Interaction:LEU499A    0.259268          0.648649   \n",
       "3       4  Hydrophobic_Interaction:TYR466A    0.242526          0.702703   \n",
       "4       5  Hydrophobic_Interaction:TYR383A    0.203301          0.486486   \n",
       "..    ...                              ...         ...               ...   \n",
       "74     75             Halogen_Bond:ASN472A    0.008850          0.000000   \n",
       "75     76  Hydrophobic_Interaction:LEU417A    0.008371          0.027027   \n",
       "76     77            Hydrogen_Bond:VAL498A    0.007893          0.054054   \n",
       "77     78    Pi-Cation_Interaction:HIS524A    0.007414          0.081081   \n",
       "78     79            Hydrogen_Bond:ASN472A    0.000478          0.027027   \n",
       "\n",
       "    INACTIVE_FREQUENCY  \n",
       "0             0.345133  \n",
       "1             0.973451  \n",
       "2             0.389381  \n",
       "3             0.460177  \n",
       "4             0.283186  \n",
       "..                 ...  \n",
       "74            0.008850  \n",
       "75            0.035398  \n",
       "76            0.061947  \n",
       "77            0.088496  \n",
       "78            0.026549  \n",
       "\n",
       "[79 rows x 5 columns]"
      ]
     },
     "execution_count": 9,
     "metadata": {},
     "output_type": "execute_result"
    }
   ],
   "source": [
    "features"
   ]
  },
  {
   "cell_type": "markdown",
   "id": "exempt-arrangement",
   "metadata": {},
   "source": [
    "#### **Extract relevant features:**"
   ]
  },
  {
   "cell_type": "code",
   "execution_count": 10,
   "id": "included-graph",
   "metadata": {},
   "outputs": [],
   "source": [
    "optimized_values = get_optimized_feature_thresholds(features, data_train)"
   ]
  },
  {
   "cell_type": "code",
   "execution_count": 11,
   "id": "imperial-ending",
   "metadata": {},
   "outputs": [
    {
     "name": "stdout",
     "output_type": "stream",
     "text": [
      "Key: 0.05, 0.0, 0.0: strat1 Accuracy: 0.88\n",
      "Key: 0.05, 0.05, 0.0: strat1 Accuracy: 0.88\n",
      "Key: 0.05, 0.1, 0.0: strat1 Accuracy: 0.88\n",
      "Key: 0.0, 0.0, 0.0: strat1 Accuracy: 0.8733333333333333\n",
      "Key: 0.0, 0.0, 0.0: strat3 Accuracy: 0.8666666666666667\n"
     ]
    }
   ],
   "source": [
    "for item in islice(optimized_values[\"ACC\"].items(), 5):\n",
    "    print('Key: {} Accuracy: {}'.format(item[0], item[1]))"
   ]
  },
  {
   "cell_type": "code",
   "execution_count": 12,
   "id": "retained-conditioning",
   "metadata": {},
   "outputs": [
    {
     "name": "stdout",
     "output_type": "stream",
     "text": [
      "Key: 0.0, 0.0, 0.0: strat1 Area under the ROC curve: 0.8911743602009089\n",
      "Key: 0.0, 0.0, 0.0: strat3 Area under the ROC curve: 0.8838794546759149\n",
      "Key: 0.1, 0.0, 0.0: strat3 Area under the ROC curve: 0.8788567328390336\n",
      "Key: 0.1, 0.05, 0.0: strat3 Area under the ROC curve: 0.8718010045443674\n",
      "Key: 0.0, 0.0, 0.0: strat4 Area under the ROC curve: 0.8639081559435542\n"
     ]
    }
   ],
   "source": [
    "for item in islice(optimized_values[\"AUC\"].items(), 5):\n",
    "    print('Key: {} Area under the ROC curve: {}'.format(item[0], item[1]))"
   ]
  },
  {
   "cell_type": "code",
   "execution_count": 13,
   "id": "foreign-fight",
   "metadata": {},
   "outputs": [],
   "source": [
    "optimized_values_val = get_optimized_feature_thresholds(features, data_train, data_val)"
   ]
  },
  {
   "cell_type": "code",
   "execution_count": 14,
   "id": "stuck-guard",
   "metadata": {},
   "outputs": [
    {
     "name": "stdout",
     "output_type": "stream",
     "text": [
      "Key: 0.05, 0.0, 0.1: strat3 Accuracy: 0.7894736842105263\n",
      "Key: 0.05, 0.05, 0.1: strat3 Accuracy: 0.7894736842105263\n",
      "Key: 0.0, 0.0, 0.05: strat3 Accuracy: 0.7631578947368421\n",
      "Key: 0.0, 0.0, 0.1: strat3 Accuracy: 0.7631578947368421\n",
      "Key: 0.0, 0.0, 0.15000000000000002: strat3 Accuracy: 0.7631578947368421\n"
     ]
    }
   ],
   "source": [
    "for item in islice(optimized_values_val[\"ACC\"].items(), 5):\n",
    "    print('Key: {} Accuracy: {}'.format(item[0], item[1]))"
   ]
  },
  {
   "cell_type": "code",
   "execution_count": 15,
   "id": "lucky-accessory",
   "metadata": {},
   "outputs": [
    {
     "name": "stdout",
     "output_type": "stream",
     "text": [
      "Key: 0.15000000000000002, 0.0, 0.1: strat1 Area under the ROC curve: 0.7\n",
      "Key: 0.15000000000000002, 0.0, 0.15000000000000002: strat1 Area under the ROC curve: 0.7\n",
      "Key: 0.15000000000000002, 0.05, 0.1: strat1 Area under the ROC curve: 0.7\n",
      "Key: 0.15000000000000002, 0.05, 0.1: strat3 Area under the ROC curve: 0.7\n",
      "Key: 0.15000000000000002, 0.05, 0.15000000000000002: strat1 Area under the ROC curve: 0.7\n"
     ]
    }
   ],
   "source": [
    "for item in islice(optimized_values_val[\"AUC\"].items(), 5):\n",
    "    print('Key: {} Area under the ROC curve: {}'.format(item[0], item[1]))"
   ]
  },
  {
   "cell_type": "code",
   "execution_count": 16,
   "id": "terminal-equivalent",
   "metadata": {},
   "outputs": [
    {
     "data": {
      "text/html": [
       "<div>\n",
       "<style scoped>\n",
       "    .dataframe tbody tr th:only-of-type {\n",
       "        vertical-align: middle;\n",
       "    }\n",
       "\n",
       "    .dataframe tbody tr th {\n",
       "        vertical-align: top;\n",
       "    }\n",
       "\n",
       "    .dataframe thead th {\n",
       "        text-align: right;\n",
       "    }\n",
       "</style>\n",
       "<table border=\"1\" class=\"dataframe\">\n",
       "  <thead>\n",
       "    <tr style=\"text-align: right;\">\n",
       "      <th></th>\n",
       "      <th>INDEX</th>\n",
       "      <th>INTERACTION</th>\n",
       "      <th>DIFFERENCE</th>\n",
       "      <th>ACTIVE_FREQUENCY</th>\n",
       "      <th>INACTIVE_FREQUENCY</th>\n",
       "    </tr>\n",
       "  </thead>\n",
       "  <tbody>\n",
       "    <tr>\n",
       "      <th>0</th>\n",
       "      <td>1</td>\n",
       "      <td>Hydrophobic_Interaction:TRP525A</td>\n",
       "      <td>0.303516</td>\n",
       "      <td>0.648649</td>\n",
       "      <td>0.345133</td>\n",
       "    </tr>\n",
       "    <tr>\n",
       "      <th>1</th>\n",
       "      <td>2</td>\n",
       "      <td>Hydrogen_Bond:TYR466A</td>\n",
       "      <td>0.296819</td>\n",
       "      <td>1.270270</td>\n",
       "      <td>0.973451</td>\n",
       "    </tr>\n",
       "    <tr>\n",
       "      <th>2</th>\n",
       "      <td>3</td>\n",
       "      <td>Hydrophobic_Interaction:LEU499A</td>\n",
       "      <td>0.259268</td>\n",
       "      <td>0.648649</td>\n",
       "      <td>0.389381</td>\n",
       "    </tr>\n",
       "    <tr>\n",
       "      <th>3</th>\n",
       "      <td>4</td>\n",
       "      <td>Hydrophobic_Interaction:TYR466A</td>\n",
       "      <td>0.242526</td>\n",
       "      <td>0.702703</td>\n",
       "      <td>0.460177</td>\n",
       "    </tr>\n",
       "    <tr>\n",
       "      <th>4</th>\n",
       "      <td>5</td>\n",
       "      <td>Hydrophobic_Interaction:TYR383A</td>\n",
       "      <td>0.203301</td>\n",
       "      <td>0.486486</td>\n",
       "      <td>0.283186</td>\n",
       "    </tr>\n",
       "    <tr>\n",
       "      <th>5</th>\n",
       "      <td>6</td>\n",
       "      <td>Hydrophobic_Interaction:HIS524A</td>\n",
       "      <td>0.202344</td>\n",
       "      <td>0.432432</td>\n",
       "      <td>0.230088</td>\n",
       "    </tr>\n",
       "    <tr>\n",
       "      <th>8</th>\n",
       "      <td>9</td>\n",
       "      <td>Pi-Stacking:HIS524A</td>\n",
       "      <td>0.156183</td>\n",
       "      <td>0.324324</td>\n",
       "      <td>0.168142</td>\n",
       "    </tr>\n",
       "    <tr>\n",
       "      <th>9</th>\n",
       "      <td>10</td>\n",
       "      <td>Hydrogen_Bond:TYR383A</td>\n",
       "      <td>0.149007</td>\n",
       "      <td>0.081081</td>\n",
       "      <td>0.230088</td>\n",
       "    </tr>\n",
       "    <tr>\n",
       "      <th>10</th>\n",
       "      <td>11</td>\n",
       "      <td>Hydrophobic_Interaction:TRP336A</td>\n",
       "      <td>0.148051</td>\n",
       "      <td>0.864865</td>\n",
       "      <td>0.716814</td>\n",
       "    </tr>\n",
       "    <tr>\n",
       "      <th>13</th>\n",
       "      <td>14</td>\n",
       "      <td>Pi-Stacking:TRP336A</td>\n",
       "      <td>0.125568</td>\n",
       "      <td>0.594595</td>\n",
       "      <td>0.469027</td>\n",
       "    </tr>\n",
       "    <tr>\n",
       "      <th>14</th>\n",
       "      <td>15</td>\n",
       "      <td>Water_Bridge:PHE267A</td>\n",
       "      <td>0.104281</td>\n",
       "      <td>0.108108</td>\n",
       "      <td>0.212389</td>\n",
       "    </tr>\n",
       "    <tr>\n",
       "      <th>15</th>\n",
       "      <td>16</td>\n",
       "      <td>Hydrogen_Bond:HIS524A</td>\n",
       "      <td>0.103085</td>\n",
       "      <td>0.324324</td>\n",
       "      <td>0.221239</td>\n",
       "    </tr>\n",
       "    <tr>\n",
       "      <th>16</th>\n",
       "      <td>17</td>\n",
       "      <td>Hydrophobic_Interaction:PRO371A</td>\n",
       "      <td>0.094475</td>\n",
       "      <td>0.162162</td>\n",
       "      <td>0.256637</td>\n",
       "    </tr>\n",
       "    <tr>\n",
       "      <th>17</th>\n",
       "      <td>18</td>\n",
       "      <td>Hydrophobic_Interaction:PHE267A</td>\n",
       "      <td>0.093279</td>\n",
       "      <td>0.270270</td>\n",
       "      <td>0.176991</td>\n",
       "    </tr>\n",
       "    <tr>\n",
       "      <th>19</th>\n",
       "      <td>20</td>\n",
       "      <td>Hydrophobic_Interaction:THR360A</td>\n",
       "      <td>0.077015</td>\n",
       "      <td>0.351351</td>\n",
       "      <td>0.274336</td>\n",
       "    </tr>\n",
       "    <tr>\n",
       "      <th>20</th>\n",
       "      <td>21</td>\n",
       "      <td>Hydrophobic_Interaction:MET339A</td>\n",
       "      <td>0.061229</td>\n",
       "      <td>0.459459</td>\n",
       "      <td>0.398230</td>\n",
       "    </tr>\n",
       "    <tr>\n",
       "      <th>21</th>\n",
       "      <td>22</td>\n",
       "      <td>Salt_Bridge:HIS524A</td>\n",
       "      <td>0.060990</td>\n",
       "      <td>0.054054</td>\n",
       "      <td>0.115044</td>\n",
       "    </tr>\n",
       "    <tr>\n",
       "      <th>22</th>\n",
       "      <td>23</td>\n",
       "      <td>Hydrogen_Bond:ASP496A</td>\n",
       "      <td>0.060990</td>\n",
       "      <td>0.054054</td>\n",
       "      <td>0.115044</td>\n",
       "    </tr>\n",
       "    <tr>\n",
       "      <th>25</th>\n",
       "      <td>26</td>\n",
       "      <td>Hydrogen_Bond:GLN384A</td>\n",
       "      <td>0.052858</td>\n",
       "      <td>0.513514</td>\n",
       "      <td>0.566372</td>\n",
       "    </tr>\n",
       "    <tr>\n",
       "      <th>26</th>\n",
       "      <td>27</td>\n",
       "      <td>Hydrophobic_Interaction:MET469A</td>\n",
       "      <td>0.052141</td>\n",
       "      <td>0.054054</td>\n",
       "      <td>0.106195</td>\n",
       "    </tr>\n",
       "  </tbody>\n",
       "</table>\n",
       "</div>"
      ],
      "text/plain": [
       "    INDEX                      INTERACTION  DIFFERENCE  ACTIVE_FREQUENCY  \\\n",
       "0       1  Hydrophobic_Interaction:TRP525A    0.303516          0.648649   \n",
       "1       2            Hydrogen_Bond:TYR466A    0.296819          1.270270   \n",
       "2       3  Hydrophobic_Interaction:LEU499A    0.259268          0.648649   \n",
       "3       4  Hydrophobic_Interaction:TYR466A    0.242526          0.702703   \n",
       "4       5  Hydrophobic_Interaction:TYR383A    0.203301          0.486486   \n",
       "5       6  Hydrophobic_Interaction:HIS524A    0.202344          0.432432   \n",
       "8       9              Pi-Stacking:HIS524A    0.156183          0.324324   \n",
       "9      10            Hydrogen_Bond:TYR383A    0.149007          0.081081   \n",
       "10     11  Hydrophobic_Interaction:TRP336A    0.148051          0.864865   \n",
       "13     14              Pi-Stacking:TRP336A    0.125568          0.594595   \n",
       "14     15             Water_Bridge:PHE267A    0.104281          0.108108   \n",
       "15     16            Hydrogen_Bond:HIS524A    0.103085          0.324324   \n",
       "16     17  Hydrophobic_Interaction:PRO371A    0.094475          0.162162   \n",
       "17     18  Hydrophobic_Interaction:PHE267A    0.093279          0.270270   \n",
       "19     20  Hydrophobic_Interaction:THR360A    0.077015          0.351351   \n",
       "20     21  Hydrophobic_Interaction:MET339A    0.061229          0.459459   \n",
       "21     22              Salt_Bridge:HIS524A    0.060990          0.054054   \n",
       "22     23            Hydrogen_Bond:ASP496A    0.060990          0.054054   \n",
       "25     26            Hydrogen_Bond:GLN384A    0.052858          0.513514   \n",
       "26     27  Hydrophobic_Interaction:MET469A    0.052141          0.054054   \n",
       "\n",
       "    INACTIVE_FREQUENCY  \n",
       "0             0.345133  \n",
       "1             0.973451  \n",
       "2             0.389381  \n",
       "3             0.460177  \n",
       "4             0.283186  \n",
       "5             0.230088  \n",
       "8             0.168142  \n",
       "9             0.230088  \n",
       "10            0.716814  \n",
       "13            0.469027  \n",
       "14            0.212389  \n",
       "15            0.221239  \n",
       "16            0.256637  \n",
       "17            0.176991  \n",
       "19            0.274336  \n",
       "20            0.398230  \n",
       "21            0.115044  \n",
       "22            0.115044  \n",
       "25            0.566372  \n",
       "26            0.106195  "
      ]
     },
     "execution_count": 16,
     "metadata": {},
     "output_type": "execute_result"
    }
   ],
   "source": [
    "features_filtered = get_relevant_features(features, 0.05, 0.05, 0.1)\n",
    "features_filtered"
   ]
  },
  {
   "cell_type": "code",
   "execution_count": 17,
   "id": "selective-garlic",
   "metadata": {},
   "outputs": [],
   "source": [
    "# some error checking -- should print nothing\n",
    "for item in features_filtered[\"INTERACTION\"].to_list():\n",
    "    if item not in data_train.columns.to_list():\n",
    "        print(item)"
   ]
  },
  {
   "cell_type": "markdown",
   "id": "serial-rouge",
   "metadata": {},
   "source": [
    "#### **Get positive features (e.g. features that have a positive impact on activeness) and negative features:**"
   ]
  },
  {
   "cell_type": "code",
   "execution_count": 18,
   "id": "bright-baker",
   "metadata": {},
   "outputs": [],
   "source": [
    "positives, negatives = get_feature_impact(features_filtered)"
   ]
  },
  {
   "cell_type": "code",
   "execution_count": 19,
   "id": "according-upgrade",
   "metadata": {},
   "outputs": [
    {
     "data": {
      "text/plain": [
       "['Hydrophobic_Interaction:TRP525A',\n",
       " 'Hydrogen_Bond:TYR466A',\n",
       " 'Hydrophobic_Interaction:LEU499A',\n",
       " 'Hydrophobic_Interaction:TYR466A',\n",
       " 'Hydrophobic_Interaction:TYR383A',\n",
       " 'Hydrophobic_Interaction:HIS524A',\n",
       " 'Pi-Stacking:HIS524A',\n",
       " 'Hydrophobic_Interaction:TRP336A',\n",
       " 'Pi-Stacking:TRP336A',\n",
       " 'Hydrogen_Bond:HIS524A',\n",
       " 'Hydrophobic_Interaction:PHE267A',\n",
       " 'Hydrophobic_Interaction:THR360A',\n",
       " 'Hydrophobic_Interaction:MET339A']"
      ]
     },
     "execution_count": 19,
     "metadata": {},
     "output_type": "execute_result"
    }
   ],
   "source": [
    "positives"
   ]
  },
  {
   "cell_type": "code",
   "execution_count": 20,
   "id": "overhead-heading",
   "metadata": {},
   "outputs": [
    {
     "data": {
      "text/plain": [
       "['Hydrogen_Bond:TYR383A',\n",
       " 'Water_Bridge:PHE267A',\n",
       " 'Hydrophobic_Interaction:PRO371A',\n",
       " 'Salt_Bridge:HIS524A',\n",
       " 'Hydrogen_Bond:ASP496A',\n",
       " 'Hydrogen_Bond:GLN384A',\n",
       " 'Hydrophobic_Interaction:MET469A']"
      ]
     },
     "execution_count": 20,
     "metadata": {},
     "output_type": "execute_result"
    }
   ],
   "source": [
    "negatives"
   ]
  },
  {
   "cell_type": "markdown",
   "id": "valid-bidding",
   "metadata": {},
   "source": [
    "#### **Score Compounds with different strategies & save results:**"
   ]
  },
  {
   "cell_type": "code",
   "execution_count": 21,
   "id": "laughing-dressing",
   "metadata": {},
   "outputs": [],
   "source": [
    "save = False\n",
    "\n",
    "# make data copies\n",
    "train_result_strat1 = data_train.copy()\n",
    "train_result_strat2 = data_train.copy()\n",
    "train_result_strat3 = data_train.copy()\n",
    "train_result_strat4 = data_train.copy()\n",
    "# calculate scores\n",
    "train_result_strat1[\"SCORE\"] = train_result_strat1.apply(lambda x: score(x, positives, negatives, \"+\"), axis = 1)\n",
    "train_result_strat2[\"SCORE\"] = train_result_strat2.apply(lambda x: score(x, positives, negatives, \"++\"), axis = 1)\n",
    "train_result_strat3[\"SCORE\"] = train_result_strat3.apply(lambda x: score(x, positives, negatives, \"+-\"), axis = 1)\n",
    "train_result_strat4[\"SCORE\"] = train_result_strat4.apply(lambda x: score(x, positives, negatives, \"++--\"), axis = 1)\n",
    "# sort data\n",
    "train_result_strat1_sorted = train_result_strat1.sort_values(by = \"SCORE\", ascending = False)\n",
    "train_result_strat2_sorted = train_result_strat2.sort_values(by = \"SCORE\", ascending = False)\n",
    "train_result_strat3_sorted = train_result_strat3.sort_values(by = \"SCORE\", ascending = False)\n",
    "train_result_strat4_sorted = train_result_strat4.sort_values(by = \"SCORE\", ascending = False)\n",
    "# save data\n",
    "if save:\n",
    "    train_result_strat1_sorted.to_csv(\"train_scores1.csv\")\n",
    "    train_result_strat2_sorted.to_csv(\"train_scores2.csv\")\n",
    "    train_result_strat3_sorted.to_csv(\"train_scores3.csv\")\n",
    "    train_result_strat4_sorted.to_csv(\"train_scores4.csv\")"
   ]
  },
  {
   "cell_type": "markdown",
   "id": "regulated-brunswick",
   "metadata": {},
   "source": [
    "#### **Find best cutoff value and print metrics:**"
   ]
  },
  {
   "cell_type": "markdown",
   "id": "architectural-cross",
   "metadata": {},
   "source": [
    "*cutoff/accuracy for different strategies:*"
   ]
  },
  {
   "cell_type": "code",
   "execution_count": 22,
   "id": "desperate-natural",
   "metadata": {},
   "outputs": [
    {
     "name": "stdout",
     "output_type": "stream",
     "text": [
      "Strategy 1:  [8, 0.84] \n",
      "Strategy 2:  [9, 0.8133333333333334] \n",
      "Strategy 3:  [7, 0.82] \n",
      "Strategy 4:  [8, 0.8066666666666666]\n"
     ]
    }
   ],
   "source": [
    "print(\n",
    "\"Strategy 1: \",\n",
    "get_cutoff(train_result_strat1[\"LABEL\"].to_list(), train_result_strat1[\"SCORE\"].to_list()),\n",
    "\"\\nStrategy 2: \",\n",
    "get_cutoff(train_result_strat2[\"LABEL\"].to_list(), train_result_strat2[\"SCORE\"].to_list()),\n",
    "\"\\nStrategy 3: \",\n",
    "get_cutoff(train_result_strat3[\"LABEL\"].to_list(), train_result_strat3[\"SCORE\"].to_list()),\n",
    "\"\\nStrategy 4: \",\n",
    "get_cutoff(train_result_strat4[\"LABEL\"].to_list(), train_result_strat4[\"SCORE\"].to_list())\n",
    ")"
   ]
  },
  {
   "cell_type": "markdown",
   "id": "recovered-ancient",
   "metadata": {},
   "source": [
    "*accuracy for best cutoff:*"
   ]
  },
  {
   "cell_type": "code",
   "execution_count": 23,
   "id": "ancient-flashing",
   "metadata": {},
   "outputs": [
    {
     "name": "stdout",
     "output_type": "stream",
     "text": [
      "Strategy 1:  0.84 \n",
      "Strategy 2:  0.8133333333333334 \n",
      "Strategy 3:  0.82 \n",
      "Strategy 4:  0.8066666666666666\n"
     ]
    }
   ],
   "source": [
    "print(\n",
    "\"Strategy 1: \",\n",
    "test_cutoff(train_result_strat1[\"LABEL\"].to_list(), train_result_strat1[\"SCORE\"].to_list(), 8, \"accuracy\"),\n",
    "\"\\nStrategy 2: \",\n",
    "test_cutoff(train_result_strat2[\"LABEL\"].to_list(), train_result_strat2[\"SCORE\"].to_list(), 9, \"accuracy\"),\n",
    "\"\\nStrategy 3: \",\n",
    "test_cutoff(train_result_strat3[\"LABEL\"].to_list(), train_result_strat3[\"SCORE\"].to_list(), 7, \"accuracy\"),\n",
    "\"\\nStrategy 4: \",\n",
    "test_cutoff(train_result_strat4[\"LABEL\"].to_list(), train_result_strat4[\"SCORE\"].to_list(), 8, \"accuracy\")\n",
    ")"
   ]
  },
  {
   "cell_type": "markdown",
   "id": "military-latest",
   "metadata": {},
   "source": [
    "*false positive rate for best cutoff:*"
   ]
  },
  {
   "cell_type": "code",
   "execution_count": 24,
   "id": "stone-helena",
   "metadata": {},
   "outputs": [
    {
     "name": "stdout",
     "output_type": "stream",
     "text": [
      "Strategy 1:  0.035398230088495575 \n",
      "Strategy 2:  0.05309734513274336 \n",
      "Strategy 3:  0.061946902654867256 \n",
      "Strategy 4:  0.07964601769911504\n"
     ]
    }
   ],
   "source": [
    "print(\n",
    "\"Strategy 1: \",\n",
    "test_cutoff(train_result_strat1[\"LABEL\"].to_list(), train_result_strat1[\"SCORE\"].to_list(), 8, \"fpr\"),\n",
    "\"\\nStrategy 2: \",\n",
    "test_cutoff(train_result_strat2[\"LABEL\"].to_list(), train_result_strat2[\"SCORE\"].to_list(), 9, \"fpr\"),\n",
    "\"\\nStrategy 3: \",\n",
    "test_cutoff(train_result_strat3[\"LABEL\"].to_list(), train_result_strat3[\"SCORE\"].to_list(), 7, \"fpr\"),\n",
    "\"\\nStrategy 4: \",\n",
    "test_cutoff(train_result_strat4[\"LABEL\"].to_list(), train_result_strat4[\"SCORE\"].to_list(), 8, \"fpr\")\n",
    ")"
   ]
  },
  {
   "cell_type": "markdown",
   "id": "alert-subcommittee",
   "metadata": {},
   "source": [
    "#### **Calculate validation and test results:**"
   ]
  },
  {
   "cell_type": "code",
   "execution_count": 25,
   "id": "agricultural-rabbit",
   "metadata": {},
   "outputs": [],
   "source": [
    "# make data copies\n",
    "val_result_strat1 = data_val.copy()\n",
    "val_result_strat2 = data_val.copy()\n",
    "val_result_strat3 = data_val.copy()\n",
    "val_result_strat4 = data_val.copy()\n",
    "# calculate scores\n",
    "val_result_strat1[\"SCORE\"] = val_result_strat1.apply(lambda x: score(x, positives, negatives, \"+\"), axis = 1)\n",
    "val_result_strat2[\"SCORE\"] = val_result_strat2.apply(lambda x: score(x, positives, negatives, \"++\"), axis = 1)\n",
    "val_result_strat3[\"SCORE\"] = val_result_strat3.apply(lambda x: score(x, positives, negatives, \"+-\"), axis = 1)\n",
    "val_result_strat4[\"SCORE\"] = val_result_strat4.apply(lambda x: score(x, positives, negatives, \"++--\"), axis = 1)\n",
    "# sort data\n",
    "val_result_strat1_sorted = val_result_strat1.sort_values(by = \"SCORE\", ascending = False)\n",
    "val_result_strat2_sorted = val_result_strat2.sort_values(by = \"SCORE\", ascending = False)\n",
    "val_result_strat3_sorted = val_result_strat3.sort_values(by = \"SCORE\", ascending = False)\n",
    "val_result_strat4_sorted = val_result_strat4.sort_values(by = \"SCORE\", ascending = False)"
   ]
  },
  {
   "cell_type": "code",
   "execution_count": 26,
   "id": "moderate-spectacular",
   "metadata": {},
   "outputs": [],
   "source": [
    "# make data copies\n",
    "test_result_strat1 = data_test.copy()\n",
    "test_result_strat2 = data_test.copy()\n",
    "test_result_strat3 = data_test.copy()\n",
    "test_result_strat4 = data_test.copy()\n",
    "# calculate scores\n",
    "test_result_strat1[\"SCORE\"] = test_result_strat1.apply(lambda x: score(x, positives, negatives, \"+\"), axis = 1)\n",
    "test_result_strat2[\"SCORE\"] = test_result_strat2.apply(lambda x: score(x, positives, negatives, \"++\"), axis = 1)\n",
    "test_result_strat3[\"SCORE\"] = test_result_strat3.apply(lambda x: score(x, positives, negatives, \"+-\"), axis = 1)\n",
    "test_result_strat4[\"SCORE\"] = test_result_strat4.apply(lambda x: score(x, positives, negatives, \"++--\"), axis = 1)\n",
    "# sort data\n",
    "test_result_strat1_sorted = test_result_strat1.sort_values(by = \"SCORE\", ascending = False)\n",
    "test_result_strat2_sorted = test_result_strat2.sort_values(by = \"SCORE\", ascending = False)\n",
    "test_result_strat3_sorted = test_result_strat3.sort_values(by = \"SCORE\", ascending = False)\n",
    "test_result_strat4_sorted = test_result_strat4.sort_values(by = \"SCORE\", ascending = False)"
   ]
  },
  {
   "cell_type": "markdown",
   "id": "solved-transportation",
   "metadata": {},
   "source": [
    "#### **Quality metrics for training and validation data:**"
   ]
  },
  {
   "cell_type": "markdown",
   "id": "attended-sudan",
   "metadata": {},
   "source": [
    "*training data:*"
   ]
  },
  {
   "cell_type": "code",
   "execution_count": 27,
   "id": "mathematical-ranch",
   "metadata": {},
   "outputs": [
    {
     "name": "stdout",
     "output_type": "stream",
     "text": [
      "Strategy 1:  {'ACC': 0.84, 'FPR': 0.035398230088495575, 'AUC': 0.785099258550586, 'Ya': 0.8095238095238095, 'EF': 3.281853281853282, 'REF': 80.95238095238095} \n",
      "Strategy 2:  {'ACC': 0.8133333333333334, 'FPR': 0.05309734513274336, 'AUC': 0.7618990672088016, 'Ya': 0.7142857142857143, 'EF': 2.8957528957528957, 'REF': 71.42857142857143} \n",
      "Strategy 3:  {'ACC': 0.82, 'FPR': 0.061946902654867256, 'AUC': 0.7774455871801005, 'Ya': 0.7083333333333334, 'EF': 2.8716216216216215, 'REF': 70.83333333333333} \n",
      "Strategy 4:  {'ACC': 0.8066666666666666, 'FPR': 0.07964601769911504, 'AUC': 0.7592681176751973, 'Ya': 0.6538461538461539, 'EF': 2.6507276507276507, 'REF': 65.38461538461539}\n"
     ]
    }
   ],
   "source": [
    "print(\n",
    "\"Strategy 1: \",\n",
    "get_metrics(train_result_strat1, 8, pretty_print = True),\n",
    "\"\\nStrategy 2: \",\n",
    "get_metrics(train_result_strat2, 9, pretty_print = True),\n",
    "\"\\nStrategy 3: \",\n",
    "get_metrics(train_result_strat3, 7, pretty_print = True),\n",
    "\"\\nStrategy 4: \",\n",
    "get_metrics(train_result_strat4, 8, pretty_print = True)\n",
    ")"
   ]
  },
  {
   "cell_type": "code",
   "execution_count": 28,
   "id": "federal-spice",
   "metadata": {},
   "outputs": [
    {
     "data": {
      "image/png": "[encoded data removed]",
      "text/plain": [
       "<Figure size 720x720 with 2 Axes>"
      ]
     },
     "metadata": {
      "needs_background": "light"
     },
     "output_type": "display_data"
    }
   ],
   "source": [
    "plot_confusion_matrix(get_metrics(train_result_strat3, 7)[\"CM\"], classes = [0, 1], filename = \"results/CM_train_strat3.png\");"
   ]
  },
  {
   "cell_type": "code",
   "execution_count": 29,
   "id": "southern-hands",
   "metadata": {},
   "outputs": [
    {
     "data": {
      "image/png": "[encoded data removed]",
      "text/plain": [
       "<Figure size 720x720 with 1 Axes>"
      ]
     },
     "metadata": {
      "needs_background": "light"
     },
     "output_type": "display_data"
    }
   ],
   "source": [
    "roc = get_metrics(train_result_strat3, 7)[\"ROC\"]\n",
    "plot_ROC_curve(roc[\"fpr\"], roc[\"tpr\"], filename = \"results/ROC_train_strat3.png\");"
   ]
  },
  {
   "cell_type": "markdown",
   "id": "hungarian-fight",
   "metadata": {},
   "source": [
    "*validation data:*"
   ]
  },
  {
   "cell_type": "code",
   "execution_count": 30,
   "id": "worthy-alexander",
   "metadata": {},
   "outputs": [
    {
     "name": "stdout",
     "output_type": "stream",
     "text": [
      "Strategy 1:  {'ACC': 0.7105263157894737, 'FPR': 0.07142857142857142, 'AUC': 0.6267857142857144, 'Ya': 0.3333333333333333, 'EF': 1.2666666666666666, 'REF': 33.333333333333336} \n",
      "Strategy 2:  {'ACC': 0.7105263157894737, 'FPR': 0.07142857142857142, 'AUC': 0.5946428571428571, 'Ya': 0.3333333333333333, 'EF': 1.2666666666666666, 'REF': 33.333333333333336} \n",
      "Strategy 3:  {'ACC': 0.7894736842105263, 'FPR': 0.03571428571428571, 'AUC': 0.5303571428571429, 'Ya': 0.75, 'EF': 2.85, 'REF': 75.0} \n",
      "Strategy 4:  {'ACC': 0.7631578947368421, 'FPR': 0.03571428571428571, 'AUC': 0.49464285714285716, 'Ya': 0.6666666666666666, 'EF': 2.533333333333333, 'REF': 66.66666666666667}\n"
     ]
    }
   ],
   "source": [
    "print(\n",
    "\"Strategy 1: \",\n",
    "get_metrics(val_result_strat1, 8, pretty_print = True),\n",
    "\"\\nStrategy 2: \",\n",
    "get_metrics(val_result_strat2, 9, pretty_print = True),\n",
    "\"\\nStrategy 3: \",\n",
    "get_metrics(val_result_strat3, 7, pretty_print = True),\n",
    "\"\\nStrategy 4: \",\n",
    "get_metrics(val_result_strat4, 8, pretty_print = True)\n",
    ")"
   ]
  },
  {
   "cell_type": "code",
   "execution_count": 31,
   "id": "dominican-desktop",
   "metadata": {},
   "outputs": [
    {
     "data": {
      "image/png": "[encoded data removed]",
      "text/plain": [
       "<Figure size 720x720 with 2 Axes>"
      ]
     },
     "metadata": {
      "needs_background": "light"
     },
     "output_type": "display_data"
    }
   ],
   "source": [
    "plot_confusion_matrix(get_metrics(val_result_strat3, 7)[\"CM\"], classes = [0, 1], filename = \"results/CM_val_strat3.png\");"
   ]
  },
  {
   "cell_type": "code",
   "execution_count": 32,
   "id": "primary-captain",
   "metadata": {},
   "outputs": [
    {
     "data": {
      "image/png": "[encoded data removed]",
      "text/plain": [
       "<Figure size 720x720 with 1 Axes>"
      ]
     },
     "metadata": {
      "needs_background": "light"
     },
     "output_type": "display_data"
    }
   ],
   "source": [
    "roc = get_metrics(val_result_strat3, 7)[\"ROC\"]\n",
    "plot_ROC_curve(roc[\"fpr\"], roc[\"tpr\"], filename = \"results/ROC_val_strat3.png\");"
   ]
  },
  {
   "cell_type": "markdown",
   "id": "religious-malawi",
   "metadata": {},
   "source": [
    "*test data:*"
   ]
  },
  {
   "cell_type": "code",
   "execution_count": 33,
   "id": "desperate-bradford",
   "metadata": {},
   "outputs": [
    {
     "name": "stdout",
     "output_type": "stream",
     "text": [
      "Strategy 1:  {'ACC': 0.7916666666666666, 'FPR': 0.05405405405405406, 'AUC': 0.6793611793611793, 'Ya': 0.6, 'EF': 2.618181818181818, 'REF': 60.0} \n",
      "Strategy 2:  {'ACC': 0.7708333333333334, 'FPR': 0.08108108108108109, 'AUC': 0.6547911547911547, 'Ya': 0.5, 'EF': 2.181818181818182, 'REF': 50.0} \n",
      "Strategy 3:  {'ACC': 0.8125, 'FPR': 0.05405405405405406, 'AUC': 0.7321867321867322, 'Ya': 0.6666666666666666, 'EF': 2.909090909090909, 'REF': 66.66666666666667} \n",
      "Strategy 4:  {'ACC': 0.7708333333333334, 'FPR': 0.08108108108108109, 'AUC': 0.7113022113022113, 'Ya': 0.5, 'EF': 2.181818181818182, 'REF': 50.0}\n"
     ]
    }
   ],
   "source": [
    "print(\n",
    "\"Strategy 1: \",\n",
    "get_metrics(test_result_strat1, 8, pretty_print = True),\n",
    "\"\\nStrategy 2: \",\n",
    "get_metrics(test_result_strat2, 9, pretty_print = True),\n",
    "\"\\nStrategy 3: \",\n",
    "get_metrics(test_result_strat3, 7, pretty_print = True),\n",
    "\"\\nStrategy 4: \",\n",
    "get_metrics(test_result_strat4, 8, pretty_print = True)\n",
    ")"
   ]
  },
  {
   "cell_type": "code",
   "execution_count": 34,
   "id": "southern-iceland",
   "metadata": {},
   "outputs": [
    {
     "data": {
      "image/png": "[encoded data removed]",
      "text/plain": [
       "<Figure size 720x720 with 2 Axes>"
      ]
     },
     "metadata": {
      "needs_background": "light"
     },
     "output_type": "display_data"
    }
   ],
   "source": [
    "plot_confusion_matrix(get_metrics(test_result_strat3, 7)[\"CM\"], classes = [0, 1], filename = \"results/CM_test_strat3.png\");"
   ]
  },
  {
   "cell_type": "code",
   "execution_count": 35,
   "id": "effective-waterproof",
   "metadata": {},
   "outputs": [
    {
     "data": {
      "image/png": "[encoded data removed]",
      "text/plain": [
       "<Figure size 720x720 with 1 Axes>"
      ]
     },
     "metadata": {
      "needs_background": "light"
     },
     "output_type": "display_data"
    }
   ],
   "source": [
    "roc = get_metrics(test_result_strat3, 7)[\"ROC\"]\n",
    "plot_ROC_curve(roc[\"fpr\"], roc[\"tpr\"], filename = \"results/ROC_test_strat3.png\");"
   ]
  },
  {
   "cell_type": "markdown",
   "id": "generic-index",
   "metadata": {},
   "source": [
    "#### **Clean up:**"
   ]
  },
  {
   "cell_type": "code",
   "execution_count": 36,
   "id": "green-japanese",
   "metadata": {},
   "outputs": [],
   "source": [
    "os.remove(\"PIAScore.py\")"
   ]
  },
  {
   "cell_type": "code",
   "execution_count": null,
   "id": "departmental-influence",
   "metadata": {},
   "outputs": [],
   "source": []
  }
 ],
 "metadata": {
  "kernelspec": {
   "display_name": "Python 3",
   "language": "python",
   "name": "python3"
  },
  "language_info": {
   "codemirror_mode": {
    "name": "ipython",
    "version": 3
   },
   "file_extension": ".py",
   "mimetype": "text/x-python",
   "name": "python",
   "nbconvert_exporter": "python",
   "pygments_lexer": "ipython3",
   "version": "3.8.8"
  }
 },
 "nbformat": 4,
 "nbformat_minor": 5
}
