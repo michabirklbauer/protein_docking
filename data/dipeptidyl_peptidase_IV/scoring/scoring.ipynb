{
 "cells": [
  {
   "cell_type": "markdown",
   "id": "parallel-fishing",
   "metadata": {},
   "source": [
    "## **SCORING - Dipeptidyl Peptidase IV**\n",
    "#### **Micha Birklbauer 2021-10-08**"
   ]
  },
  {
   "cell_type": "code",
   "execution_count": 1,
   "id": "completed-elite",
   "metadata": {},
   "outputs": [
    {
     "data": {
      "text/plain": [
       "'PIAScore.py'"
      ]
     },
     "execution_count": 1,
     "metadata": {},
     "output_type": "execute_result"
    }
   ],
   "source": [
    "import os\n",
    "from shutil import copyfile\n",
    "from itertools import islice\n",
    "copyfile(\"../../../scripts/python/PIAScore.py\", \"PIAScore.py\")"
   ]
  },
  {
   "cell_type": "code",
   "execution_count": 2,
   "id": "intimate-architect",
   "metadata": {},
   "outputs": [],
   "source": [
    "import pandas as pd\n",
    "from PIAScore import *"
   ]
  },
  {
   "cell_type": "markdown",
   "id": "herbal-timeline",
   "metadata": {},
   "source": [
    "#### **Load data:**"
   ]
  },
  {
   "cell_type": "code",
   "execution_count": 3,
   "id": "sensitive-prescription",
   "metadata": {},
   "outputs": [],
   "source": [
    "data_train = pd.read_csv(\"data_train.csv\")\n",
    "data_val = pd.read_csv(\"data_val.csv\")\n",
    "data_test = pd.read_csv(\"data_test.csv\")\n",
    "features = pd.read_csv(\"features.csv\")"
   ]
  },
  {
   "cell_type": "code",
   "execution_count": 4,
   "id": "signal-attendance",
   "metadata": {},
   "outputs": [],
   "source": [
    "# data_train.info()"
   ]
  },
  {
   "cell_type": "code",
   "execution_count": 5,
   "id": "caring-valuation",
   "metadata": {},
   "outputs": [
    {
     "data": {
      "text/html": [
       "<div>\n",
       "<style scoped>\n",
       "    .dataframe tbody tr th:only-of-type {\n",
       "        vertical-align: middle;\n",
       "    }\n",
       "\n",
       "    .dataframe tbody tr th {\n",
       "        vertical-align: top;\n",
       "    }\n",
       "\n",
       "    .dataframe thead th {\n",
       "        text-align: right;\n",
       "    }\n",
       "</style>\n",
       "<table border=\"1\" class=\"dataframe\">\n",
       "  <thead>\n",
       "    <tr style=\"text-align: right;\">\n",
       "      <th></th>\n",
       "      <th>INDEX</th>\n",
       "      <th>NAME</th>\n",
       "      <th>Pi-Cation_Interaction:HIS740A</th>\n",
       "      <th>Halogen_Bond:ASP709A</th>\n",
       "      <th>Halogen_Bond:VAL546A</th>\n",
       "      <th>Hydrogen_Bond:GLY741A</th>\n",
       "      <th>Water_Bridge:GLU204A</th>\n",
       "      <th>Water_Bridge:ARG125A</th>\n",
       "      <th>Halogen_Bond:ARG358A</th>\n",
       "      <th>Hydrophobic_Interaction:ALA743A</th>\n",
       "      <th>...</th>\n",
       "      <th>Hydrogen_Bond:ARG669A</th>\n",
       "      <th>Hydrogen_Bond:ASN710A</th>\n",
       "      <th>Hydrogen_Bond:GLU204A</th>\n",
       "      <th>Hydrophobic_Interaction:ARG125A</th>\n",
       "      <th>Halogen_Bond:SER630A</th>\n",
       "      <th>Water_Bridge:ASP739A</th>\n",
       "      <th>Salt_Bridge:ARG358A</th>\n",
       "      <th>Water_Bridge:GLU205A</th>\n",
       "      <th>Hydrophobic_Interaction:ASP739A</th>\n",
       "      <th>LABEL</th>\n",
       "    </tr>\n",
       "  </thead>\n",
       "  <tbody>\n",
       "    <tr>\n",
       "      <th>0</th>\n",
       "      <td>1</td>\n",
       "      <td>CHEMBL386369|actives_final|sdf|444</td>\n",
       "      <td>0</td>\n",
       "      <td>0</td>\n",
       "      <td>0</td>\n",
       "      <td>0</td>\n",
       "      <td>0</td>\n",
       "      <td>0</td>\n",
       "      <td>0</td>\n",
       "      <td>0</td>\n",
       "      <td>...</td>\n",
       "      <td>2</td>\n",
       "      <td>1</td>\n",
       "      <td>0</td>\n",
       "      <td>0</td>\n",
       "      <td>0</td>\n",
       "      <td>0</td>\n",
       "      <td>1</td>\n",
       "      <td>0</td>\n",
       "      <td>0</td>\n",
       "      <td>active</td>\n",
       "    </tr>\n",
       "    <tr>\n",
       "      <th>1</th>\n",
       "      <td>2</td>\n",
       "      <td>ZINC38935877|decoys_final|sdf|121</td>\n",
       "      <td>0</td>\n",
       "      <td>0</td>\n",
       "      <td>0</td>\n",
       "      <td>0</td>\n",
       "      <td>0</td>\n",
       "      <td>0</td>\n",
       "      <td>0</td>\n",
       "      <td>0</td>\n",
       "      <td>...</td>\n",
       "      <td>0</td>\n",
       "      <td>1</td>\n",
       "      <td>0</td>\n",
       "      <td>1</td>\n",
       "      <td>0</td>\n",
       "      <td>0</td>\n",
       "      <td>0</td>\n",
       "      <td>0</td>\n",
       "      <td>0</td>\n",
       "      <td>inactive</td>\n",
       "    </tr>\n",
       "    <tr>\n",
       "      <th>2</th>\n",
       "      <td>3</td>\n",
       "      <td>ZINC63159848|decoys_final|sdf|138</td>\n",
       "      <td>0</td>\n",
       "      <td>0</td>\n",
       "      <td>0</td>\n",
       "      <td>0</td>\n",
       "      <td>0</td>\n",
       "      <td>3</td>\n",
       "      <td>0</td>\n",
       "      <td>0</td>\n",
       "      <td>...</td>\n",
       "      <td>0</td>\n",
       "      <td>1</td>\n",
       "      <td>0</td>\n",
       "      <td>0</td>\n",
       "      <td>0</td>\n",
       "      <td>0</td>\n",
       "      <td>0</td>\n",
       "      <td>0</td>\n",
       "      <td>0</td>\n",
       "      <td>inactive</td>\n",
       "    </tr>\n",
       "    <tr>\n",
       "      <th>3</th>\n",
       "      <td>4</td>\n",
       "      <td>ZINC23079060|decoys_final|sdf|264</td>\n",
       "      <td>0</td>\n",
       "      <td>0</td>\n",
       "      <td>0</td>\n",
       "      <td>0</td>\n",
       "      <td>0</td>\n",
       "      <td>0</td>\n",
       "      <td>0</td>\n",
       "      <td>0</td>\n",
       "      <td>...</td>\n",
       "      <td>1</td>\n",
       "      <td>1</td>\n",
       "      <td>0</td>\n",
       "      <td>0</td>\n",
       "      <td>0</td>\n",
       "      <td>0</td>\n",
       "      <td>0</td>\n",
       "      <td>0</td>\n",
       "      <td>0</td>\n",
       "      <td>inactive</td>\n",
       "    </tr>\n",
       "    <tr>\n",
       "      <th>4</th>\n",
       "      <td>5</td>\n",
       "      <td>CHEMBL290337|actives_final|sdf|331</td>\n",
       "      <td>0</td>\n",
       "      <td>0</td>\n",
       "      <td>0</td>\n",
       "      <td>0</td>\n",
       "      <td>0</td>\n",
       "      <td>3</td>\n",
       "      <td>0</td>\n",
       "      <td>0</td>\n",
       "      <td>...</td>\n",
       "      <td>1</td>\n",
       "      <td>1</td>\n",
       "      <td>0</td>\n",
       "      <td>0</td>\n",
       "      <td>0</td>\n",
       "      <td>0</td>\n",
       "      <td>0</td>\n",
       "      <td>0</td>\n",
       "      <td>0</td>\n",
       "      <td>active</td>\n",
       "    </tr>\n",
       "    <tr>\n",
       "      <th>...</th>\n",
       "      <td>...</td>\n",
       "      <td>...</td>\n",
       "      <td>...</td>\n",
       "      <td>...</td>\n",
       "      <td>...</td>\n",
       "      <td>...</td>\n",
       "      <td>...</td>\n",
       "      <td>...</td>\n",
       "      <td>...</td>\n",
       "      <td>...</td>\n",
       "      <td>...</td>\n",
       "      <td>...</td>\n",
       "      <td>...</td>\n",
       "      <td>...</td>\n",
       "      <td>...</td>\n",
       "      <td>...</td>\n",
       "      <td>...</td>\n",
       "      <td>...</td>\n",
       "      <td>...</td>\n",
       "      <td>...</td>\n",
       "      <td>...</td>\n",
       "    </tr>\n",
       "    <tr>\n",
       "      <th>1286</th>\n",
       "      <td>1287</td>\n",
       "      <td>ZINC42735078|decoys_final|sdf|623</td>\n",
       "      <td>0</td>\n",
       "      <td>0</td>\n",
       "      <td>0</td>\n",
       "      <td>0</td>\n",
       "      <td>0</td>\n",
       "      <td>0</td>\n",
       "      <td>0</td>\n",
       "      <td>0</td>\n",
       "      <td>...</td>\n",
       "      <td>0</td>\n",
       "      <td>1</td>\n",
       "      <td>0</td>\n",
       "      <td>0</td>\n",
       "      <td>0</td>\n",
       "      <td>0</td>\n",
       "      <td>0</td>\n",
       "      <td>0</td>\n",
       "      <td>0</td>\n",
       "      <td>inactive</td>\n",
       "    </tr>\n",
       "    <tr>\n",
       "      <th>1287</th>\n",
       "      <td>1288</td>\n",
       "      <td>ZINC42118011|decoys_final|sdf|838</td>\n",
       "      <td>0</td>\n",
       "      <td>0</td>\n",
       "      <td>0</td>\n",
       "      <td>0</td>\n",
       "      <td>0</td>\n",
       "      <td>1</td>\n",
       "      <td>0</td>\n",
       "      <td>0</td>\n",
       "      <td>...</td>\n",
       "      <td>0</td>\n",
       "      <td>0</td>\n",
       "      <td>0</td>\n",
       "      <td>0</td>\n",
       "      <td>0</td>\n",
       "      <td>0</td>\n",
       "      <td>0</td>\n",
       "      <td>0</td>\n",
       "      <td>0</td>\n",
       "      <td>inactive</td>\n",
       "    </tr>\n",
       "    <tr>\n",
       "      <th>1288</th>\n",
       "      <td>1289</td>\n",
       "      <td>ZINC00124341|decoys_final|sdf|878</td>\n",
       "      <td>0</td>\n",
       "      <td>0</td>\n",
       "      <td>0</td>\n",
       "      <td>0</td>\n",
       "      <td>0</td>\n",
       "      <td>0</td>\n",
       "      <td>0</td>\n",
       "      <td>0</td>\n",
       "      <td>...</td>\n",
       "      <td>0</td>\n",
       "      <td>0</td>\n",
       "      <td>0</td>\n",
       "      <td>0</td>\n",
       "      <td>0</td>\n",
       "      <td>0</td>\n",
       "      <td>0</td>\n",
       "      <td>0</td>\n",
       "      <td>0</td>\n",
       "      <td>inactive</td>\n",
       "    </tr>\n",
       "    <tr>\n",
       "      <th>1289</th>\n",
       "      <td>1290</td>\n",
       "      <td>CHEMBL558956|actives_final|sdf|565</td>\n",
       "      <td>0</td>\n",
       "      <td>0</td>\n",
       "      <td>0</td>\n",
       "      <td>0</td>\n",
       "      <td>0</td>\n",
       "      <td>0</td>\n",
       "      <td>0</td>\n",
       "      <td>0</td>\n",
       "      <td>...</td>\n",
       "      <td>0</td>\n",
       "      <td>1</td>\n",
       "      <td>0</td>\n",
       "      <td>0</td>\n",
       "      <td>0</td>\n",
       "      <td>0</td>\n",
       "      <td>0</td>\n",
       "      <td>0</td>\n",
       "      <td>0</td>\n",
       "      <td>active</td>\n",
       "    </tr>\n",
       "    <tr>\n",
       "      <th>1290</th>\n",
       "      <td>1291</td>\n",
       "      <td>ZINC41460309|decoys_final|sdf|779</td>\n",
       "      <td>0</td>\n",
       "      <td>0</td>\n",
       "      <td>0</td>\n",
       "      <td>0</td>\n",
       "      <td>0</td>\n",
       "      <td>0</td>\n",
       "      <td>0</td>\n",
       "      <td>0</td>\n",
       "      <td>...</td>\n",
       "      <td>0</td>\n",
       "      <td>0</td>\n",
       "      <td>0</td>\n",
       "      <td>0</td>\n",
       "      <td>0</td>\n",
       "      <td>0</td>\n",
       "      <td>0</td>\n",
       "      <td>0</td>\n",
       "      <td>0</td>\n",
       "      <td>inactive</td>\n",
       "    </tr>\n",
       "  </tbody>\n",
       "</table>\n",
       "<p>1291 rows × 123 columns</p>\n",
       "</div>"
      ],
      "text/plain": [
       "      INDEX                                NAME  \\\n",
       "0         1  CHEMBL386369|actives_final|sdf|444   \n",
       "1         2   ZINC38935877|decoys_final|sdf|121   \n",
       "2         3   ZINC63159848|decoys_final|sdf|138   \n",
       "3         4   ZINC23079060|decoys_final|sdf|264   \n",
       "4         5  CHEMBL290337|actives_final|sdf|331   \n",
       "...     ...                                 ...   \n",
       "1286   1287   ZINC42735078|decoys_final|sdf|623   \n",
       "1287   1288   ZINC42118011|decoys_final|sdf|838   \n",
       "1288   1289   ZINC00124341|decoys_final|sdf|878   \n",
       "1289   1290  CHEMBL558956|actives_final|sdf|565   \n",
       "1290   1291   ZINC41460309|decoys_final|sdf|779   \n",
       "\n",
       "      Pi-Cation_Interaction:HIS740A  Halogen_Bond:ASP709A  \\\n",
       "0                                 0                     0   \n",
       "1                                 0                     0   \n",
       "2                                 0                     0   \n",
       "3                                 0                     0   \n",
       "4                                 0                     0   \n",
       "...                             ...                   ...   \n",
       "1286                              0                     0   \n",
       "1287                              0                     0   \n",
       "1288                              0                     0   \n",
       "1289                              0                     0   \n",
       "1290                              0                     0   \n",
       "\n",
       "      Halogen_Bond:VAL546A  Hydrogen_Bond:GLY741A  Water_Bridge:GLU204A  \\\n",
       "0                        0                      0                     0   \n",
       "1                        0                      0                     0   \n",
       "2                        0                      0                     0   \n",
       "3                        0                      0                     0   \n",
       "4                        0                      0                     0   \n",
       "...                    ...                    ...                   ...   \n",
       "1286                     0                      0                     0   \n",
       "1287                     0                      0                     0   \n",
       "1288                     0                      0                     0   \n",
       "1289                     0                      0                     0   \n",
       "1290                     0                      0                     0   \n",
       "\n",
       "      Water_Bridge:ARG125A  Halogen_Bond:ARG358A  \\\n",
       "0                        0                     0   \n",
       "1                        0                     0   \n",
       "2                        3                     0   \n",
       "3                        0                     0   \n",
       "4                        3                     0   \n",
       "...                    ...                   ...   \n",
       "1286                     0                     0   \n",
       "1287                     1                     0   \n",
       "1288                     0                     0   \n",
       "1289                     0                     0   \n",
       "1290                     0                     0   \n",
       "\n",
       "      Hydrophobic_Interaction:ALA743A  ...  Hydrogen_Bond:ARG669A  \\\n",
       "0                                   0  ...                      2   \n",
       "1                                   0  ...                      0   \n",
       "2                                   0  ...                      0   \n",
       "3                                   0  ...                      1   \n",
       "4                                   0  ...                      1   \n",
       "...                               ...  ...                    ...   \n",
       "1286                                0  ...                      0   \n",
       "1287                                0  ...                      0   \n",
       "1288                                0  ...                      0   \n",
       "1289                                0  ...                      0   \n",
       "1290                                0  ...                      0   \n",
       "\n",
       "      Hydrogen_Bond:ASN710A  Hydrogen_Bond:GLU204A  \\\n",
       "0                         1                      0   \n",
       "1                         1                      0   \n",
       "2                         1                      0   \n",
       "3                         1                      0   \n",
       "4                         1                      0   \n",
       "...                     ...                    ...   \n",
       "1286                      1                      0   \n",
       "1287                      0                      0   \n",
       "1288                      0                      0   \n",
       "1289                      1                      0   \n",
       "1290                      0                      0   \n",
       "\n",
       "      Hydrophobic_Interaction:ARG125A  Halogen_Bond:SER630A  \\\n",
       "0                                   0                     0   \n",
       "1                                   1                     0   \n",
       "2                                   0                     0   \n",
       "3                                   0                     0   \n",
       "4                                   0                     0   \n",
       "...                               ...                   ...   \n",
       "1286                                0                     0   \n",
       "1287                                0                     0   \n",
       "1288                                0                     0   \n",
       "1289                                0                     0   \n",
       "1290                                0                     0   \n",
       "\n",
       "      Water_Bridge:ASP739A  Salt_Bridge:ARG358A  Water_Bridge:GLU205A  \\\n",
       "0                        0                    1                     0   \n",
       "1                        0                    0                     0   \n",
       "2                        0                    0                     0   \n",
       "3                        0                    0                     0   \n",
       "4                        0                    0                     0   \n",
       "...                    ...                  ...                   ...   \n",
       "1286                     0                    0                     0   \n",
       "1287                     0                    0                     0   \n",
       "1288                     0                    0                     0   \n",
       "1289                     0                    0                     0   \n",
       "1290                     0                    0                     0   \n",
       "\n",
       "      Hydrophobic_Interaction:ASP739A     LABEL  \n",
       "0                                   0    active  \n",
       "1                                   0  inactive  \n",
       "2                                   0  inactive  \n",
       "3                                   0  inactive  \n",
       "4                                   0    active  \n",
       "...                               ...       ...  \n",
       "1286                                0  inactive  \n",
       "1287                                0  inactive  \n",
       "1288                                0  inactive  \n",
       "1289                                0    active  \n",
       "1290                                0  inactive  \n",
       "\n",
       "[1291 rows x 123 columns]"
      ]
     },
     "execution_count": 5,
     "metadata": {},
     "output_type": "execute_result"
    }
   ],
   "source": [
    "data_train"
   ]
  },
  {
   "cell_type": "code",
   "execution_count": 6,
   "id": "patent-punch",
   "metadata": {},
   "outputs": [
    {
     "name": "stdout",
     "output_type": "stream",
     "text": [
      "Training dataset shape & Nr. of actives:\n",
      "(1291, 123) 654\n"
     ]
    }
   ],
   "source": [
    "print(\"Training dataset shape & Nr. of actives:\")\n",
    "print(data_train.shape, len(data_train.loc[data_train[\"LABEL\"] == \"active\"]))"
   ]
  },
  {
   "cell_type": "code",
   "execution_count": 7,
   "id": "returning-personal",
   "metadata": {},
   "outputs": [
    {
     "name": "stdout",
     "output_type": "stream",
     "text": [
      "Validation dataset shape & Nr. of actives:\n",
      "(323, 123) 179\n"
     ]
    }
   ],
   "source": [
    "print(\"Validation dataset shape & Nr. of actives:\")\n",
    "print(data_val.shape, len(data_val.loc[data_val[\"LABEL\"] == \"active\"]))"
   ]
  },
  {
   "cell_type": "code",
   "execution_count": 8,
   "id": "pharmaceutical-raleigh",
   "metadata": {},
   "outputs": [
    {
     "name": "stdout",
     "output_type": "stream",
     "text": [
      "Test dataset shape & Nr. of actives:\n",
      "(404, 123) 210\n"
     ]
    }
   ],
   "source": [
    "print(\"Test dataset shape & Nr. of actives:\")\n",
    "print(data_test.shape, len(data_test.loc[data_test[\"LABEL\"] == \"active\"]))"
   ]
  },
  {
   "cell_type": "code",
   "execution_count": 9,
   "id": "guilty-donna",
   "metadata": {},
   "outputs": [
    {
     "data": {
      "text/html": [
       "<div>\n",
       "<style scoped>\n",
       "    .dataframe tbody tr th:only-of-type {\n",
       "        vertical-align: middle;\n",
       "    }\n",
       "\n",
       "    .dataframe tbody tr th {\n",
       "        vertical-align: top;\n",
       "    }\n",
       "\n",
       "    .dataframe thead th {\n",
       "        text-align: right;\n",
       "    }\n",
       "</style>\n",
       "<table border=\"1\" class=\"dataframe\">\n",
       "  <thead>\n",
       "    <tr style=\"text-align: right;\">\n",
       "      <th></th>\n",
       "      <th>INDEX</th>\n",
       "      <th>INTERACTION</th>\n",
       "      <th>DIFFERENCE</th>\n",
       "      <th>ACTIVE_FREQUENCY</th>\n",
       "      <th>INACTIVE_FREQUENCY</th>\n",
       "    </tr>\n",
       "  </thead>\n",
       "  <tbody>\n",
       "    <tr>\n",
       "      <th>0</th>\n",
       "      <td>1</td>\n",
       "      <td>Hydrogen_Bond:GLU205A</td>\n",
       "      <td>0.355496</td>\n",
       "      <td>1.267584</td>\n",
       "      <td>0.912088</td>\n",
       "    </tr>\n",
       "    <tr>\n",
       "      <th>1</th>\n",
       "      <td>2</td>\n",
       "      <td>Pi-Stacking:TYR666A</td>\n",
       "      <td>0.128570</td>\n",
       "      <td>0.229358</td>\n",
       "      <td>0.357928</td>\n",
       "    </tr>\n",
       "    <tr>\n",
       "      <th>2</th>\n",
       "      <td>3</td>\n",
       "      <td>Hydrogen_Bond:ASN710A</td>\n",
       "      <td>0.124799</td>\n",
       "      <td>0.735474</td>\n",
       "      <td>0.610675</td>\n",
       "    </tr>\n",
       "    <tr>\n",
       "      <th>3</th>\n",
       "      <td>4</td>\n",
       "      <td>Hydrogen_Bond:GLU206A</td>\n",
       "      <td>0.123808</td>\n",
       "      <td>0.360856</td>\n",
       "      <td>0.237049</td>\n",
       "    </tr>\n",
       "    <tr>\n",
       "      <th>4</th>\n",
       "      <td>5</td>\n",
       "      <td>Water_Bridge:ARG358A</td>\n",
       "      <td>0.121671</td>\n",
       "      <td>0.146789</td>\n",
       "      <td>0.025118</td>\n",
       "    </tr>\n",
       "    <tr>\n",
       "      <th>...</th>\n",
       "      <td>...</td>\n",
       "      <td>...</td>\n",
       "      <td>...</td>\n",
       "      <td>...</td>\n",
       "      <td>...</td>\n",
       "    </tr>\n",
       "    <tr>\n",
       "      <th>115</th>\n",
       "      <td>116</td>\n",
       "      <td>Pi-Cation_Interaction:ARG358A</td>\n",
       "      <td>0.001488</td>\n",
       "      <td>0.003058</td>\n",
       "      <td>0.001570</td>\n",
       "    </tr>\n",
       "    <tr>\n",
       "      <th>116</th>\n",
       "      <td>117</td>\n",
       "      <td>Halogen_Bond:ARG125A</td>\n",
       "      <td>0.001366</td>\n",
       "      <td>0.007645</td>\n",
       "      <td>0.006279</td>\n",
       "    </tr>\n",
       "    <tr>\n",
       "      <th>117</th>\n",
       "      <td>118</td>\n",
       "      <td>Halogen_Bond:HIS740A</td>\n",
       "      <td>0.000163</td>\n",
       "      <td>0.006116</td>\n",
       "      <td>0.006279</td>\n",
       "    </tr>\n",
       "    <tr>\n",
       "      <th>118</th>\n",
       "      <td>119</td>\n",
       "      <td>Hydrogen_Bond:GLY741A</td>\n",
       "      <td>0.000041</td>\n",
       "      <td>0.001529</td>\n",
       "      <td>0.001570</td>\n",
       "    </tr>\n",
       "    <tr>\n",
       "      <th>119</th>\n",
       "      <td>120</td>\n",
       "      <td>Pi-Cation_Interaction:PHE357A</td>\n",
       "      <td>0.000041</td>\n",
       "      <td>0.001529</td>\n",
       "      <td>0.001570</td>\n",
       "    </tr>\n",
       "  </tbody>\n",
       "</table>\n",
       "<p>120 rows × 5 columns</p>\n",
       "</div>"
      ],
      "text/plain": [
       "     INDEX                    INTERACTION  DIFFERENCE  ACTIVE_FREQUENCY  \\\n",
       "0        1          Hydrogen_Bond:GLU205A    0.355496          1.267584   \n",
       "1        2            Pi-Stacking:TYR666A    0.128570          0.229358   \n",
       "2        3          Hydrogen_Bond:ASN710A    0.124799          0.735474   \n",
       "3        4          Hydrogen_Bond:GLU206A    0.123808          0.360856   \n",
       "4        5           Water_Bridge:ARG358A    0.121671          0.146789   \n",
       "..     ...                            ...         ...               ...   \n",
       "115    116  Pi-Cation_Interaction:ARG358A    0.001488          0.003058   \n",
       "116    117           Halogen_Bond:ARG125A    0.001366          0.007645   \n",
       "117    118           Halogen_Bond:HIS740A    0.000163          0.006116   \n",
       "118    119          Hydrogen_Bond:GLY741A    0.000041          0.001529   \n",
       "119    120  Pi-Cation_Interaction:PHE357A    0.000041          0.001529   \n",
       "\n",
       "     INACTIVE_FREQUENCY  \n",
       "0              0.912088  \n",
       "1              0.357928  \n",
       "2              0.610675  \n",
       "3              0.237049  \n",
       "4              0.025118  \n",
       "..                  ...  \n",
       "115            0.001570  \n",
       "116            0.006279  \n",
       "117            0.006279  \n",
       "118            0.001570  \n",
       "119            0.001570  \n",
       "\n",
       "[120 rows x 5 columns]"
      ]
     },
     "execution_count": 9,
     "metadata": {},
     "output_type": "execute_result"
    }
   ],
   "source": [
    "features"
   ]
  },
  {
   "cell_type": "markdown",
   "id": "human-diversity",
   "metadata": {},
   "source": [
    "#### **Extract relevant features:**"
   ]
  },
  {
   "cell_type": "code",
   "execution_count": 10,
   "id": "empty-cutting",
   "metadata": {},
   "outputs": [],
   "source": [
    "optimized_values = get_optimized_feature_thresholds(features, data_train)"
   ]
  },
  {
   "cell_type": "code",
   "execution_count": 11,
   "id": "endless-delivery",
   "metadata": {},
   "outputs": [
    {
     "name": "stdout",
     "output_type": "stream",
     "text": [
      "Key: 0.0, 0.0, 0.0: strat4 Accuracy: 0.7141750580945004\n",
      "Key: 0.0, 0.0, 0.0: strat3 Accuracy: 0.6924864446165763\n",
      "Key: 0.05, 0.0, 0.0: strat4 Accuracy: 0.6808675445391169\n",
      "Key: 0.05, 0.0, 0.05: strat3 Accuracy: 0.6808675445391169\n",
      "Key: 0.05, 0.05, 0.0: strat4 Accuracy: 0.6808675445391169\n"
     ]
    }
   ],
   "source": [
    "for item in islice(optimized_values[\"ACC\"].items(), 5):\n",
    "    print('Key: {} Accuracy: {}'.format(item[0], item[1]))"
   ]
  },
  {
   "cell_type": "code",
   "execution_count": 12,
   "id": "conscious-conflict",
   "metadata": {},
   "outputs": [
    {
     "name": "stdout",
     "output_type": "stream",
     "text": [
      "Key: 0.0, 0.0, 0.0: strat4 Area under the ROC curve: 0.7718375988362882\n",
      "Key: 0.0, 0.0, 0.0: strat3 Area under the ROC curve: 0.7677557261436686\n",
      "Key: 0.05, 0.0, 0.0: strat4 Area under the ROC curve: 0.7465998396535748\n",
      "Key: 0.05, 0.05, 0.0: strat4 Area under the ROC curve: 0.7465998396535748\n",
      "Key: 0.05, 0.0, 0.0: strat3 Area under the ROC curve: 0.7446075113178652\n"
     ]
    }
   ],
   "source": [
    "for item in islice(optimized_values[\"AUC\"].items(), 5):\n",
    "    print('Key: {} Area under the ROC curve: {}'.format(item[0], item[1]))"
   ]
  },
  {
   "cell_type": "code",
   "execution_count": 13,
   "id": "bright-wedding",
   "metadata": {},
   "outputs": [],
   "source": [
    "optimized_values_val = get_optimized_feature_thresholds(features, data_train, data_val)"
   ]
  },
  {
   "cell_type": "code",
   "execution_count": 14,
   "id": "electoral-ancient",
   "metadata": {},
   "outputs": [
    {
     "name": "stdout",
     "output_type": "stream",
     "text": [
      "Key: 0.0, 0.0, 0.05: strat3 Accuracy: 0.7089783281733746\n",
      "Key: 0.0, 0.0, 0.05: strat4 Accuracy: 0.7058823529411765\n",
      "Key: 0.0, 0.05, 0.0: strat3 Accuracy: 0.6996904024767802\n",
      "Key: 0.0, 0.05, 0.05: strat4 Accuracy: 0.6996904024767802\n",
      "Key: 0.0, 0.1, 0.0: strat3 Accuracy: 0.6996904024767802\n"
     ]
    }
   ],
   "source": [
    "for item in islice(optimized_values_val[\"ACC\"].items(), 5):\n",
    "    print('Key: {} Accuracy: {}'.format(item[0], item[1]))"
   ]
  },
  {
   "cell_type": "code",
   "execution_count": 15,
   "id": "accurate-worse",
   "metadata": {},
   "outputs": [
    {
     "name": "stdout",
     "output_type": "stream",
     "text": [
      "Key: 0.0, 0.0, 0.0: strat3 Area under the ROC curve: 0.7504073556797021\n",
      "Key: 0.05, 0.0, 0.0: strat3 Area under the ROC curve: 0.7503297641216636\n",
      "Key: 0.05, 0.05, 0.0: strat3 Area under the ROC curve: 0.7503297641216636\n",
      "Key: 0.0, 0.0, 0.0: strat4 Area under the ROC curve: 0.750310366232154\n",
      "Key: 0.05, 0.0, 0.05: strat3 Area under the ROC curve: 0.7463919925512104\n"
     ]
    }
   ],
   "source": [
    "for item in islice(optimized_values_val[\"AUC\"].items(), 5):\n",
    "    print('Key: {} Area under the ROC curve: {}'.format(item[0], item[1]))"
   ]
  },
  {
   "cell_type": "code",
   "execution_count": 16,
   "id": "straight-anime",
   "metadata": {},
   "outputs": [
    {
     "data": {
      "text/html": [
       "<div>\n",
       "<style scoped>\n",
       "    .dataframe tbody tr th:only-of-type {\n",
       "        vertical-align: middle;\n",
       "    }\n",
       "\n",
       "    .dataframe tbody tr th {\n",
       "        vertical-align: top;\n",
       "    }\n",
       "\n",
       "    .dataframe thead th {\n",
       "        text-align: right;\n",
       "    }\n",
       "</style>\n",
       "<table border=\"1\" class=\"dataframe\">\n",
       "  <thead>\n",
       "    <tr style=\"text-align: right;\">\n",
       "      <th></th>\n",
       "      <th>INDEX</th>\n",
       "      <th>INTERACTION</th>\n",
       "      <th>DIFFERENCE</th>\n",
       "      <th>ACTIVE_FREQUENCY</th>\n",
       "      <th>INACTIVE_FREQUENCY</th>\n",
       "    </tr>\n",
       "  </thead>\n",
       "  <tbody>\n",
       "    <tr>\n",
       "      <th>0</th>\n",
       "      <td>1</td>\n",
       "      <td>Hydrogen_Bond:GLU205A</td>\n",
       "      <td>0.355496</td>\n",
       "      <td>1.267584</td>\n",
       "      <td>0.912088</td>\n",
       "    </tr>\n",
       "    <tr>\n",
       "      <th>1</th>\n",
       "      <td>2</td>\n",
       "      <td>Pi-Stacking:TYR666A</td>\n",
       "      <td>0.128570</td>\n",
       "      <td>0.229358</td>\n",
       "      <td>0.357928</td>\n",
       "    </tr>\n",
       "    <tr>\n",
       "      <th>2</th>\n",
       "      <td>3</td>\n",
       "      <td>Hydrogen_Bond:ASN710A</td>\n",
       "      <td>0.124799</td>\n",
       "      <td>0.735474</td>\n",
       "      <td>0.610675</td>\n",
       "    </tr>\n",
       "    <tr>\n",
       "      <th>3</th>\n",
       "      <td>4</td>\n",
       "      <td>Hydrogen_Bond:GLU206A</td>\n",
       "      <td>0.123808</td>\n",
       "      <td>0.360856</td>\n",
       "      <td>0.237049</td>\n",
       "    </tr>\n",
       "    <tr>\n",
       "      <th>5</th>\n",
       "      <td>6</td>\n",
       "      <td>Hydrogen_Bond:ARG125A</td>\n",
       "      <td>0.119393</td>\n",
       "      <td>0.879205</td>\n",
       "      <td>0.759812</td>\n",
       "    </tr>\n",
       "    <tr>\n",
       "      <th>6</th>\n",
       "      <td>7</td>\n",
       "      <td>Hydrogen_Bond:TYR547A</td>\n",
       "      <td>0.111450</td>\n",
       "      <td>0.529052</td>\n",
       "      <td>0.640502</td>\n",
       "    </tr>\n",
       "    <tr>\n",
       "      <th>7</th>\n",
       "      <td>8</td>\n",
       "      <td>Hydrophobic_Interaction:VAL711A</td>\n",
       "      <td>0.096078</td>\n",
       "      <td>0.458716</td>\n",
       "      <td>0.362637</td>\n",
       "    </tr>\n",
       "    <tr>\n",
       "      <th>8</th>\n",
       "      <td>9</td>\n",
       "      <td>Hydrophobic_Interaction:TRP659A</td>\n",
       "      <td>0.093848</td>\n",
       "      <td>0.163609</td>\n",
       "      <td>0.257457</td>\n",
       "    </tr>\n",
       "    <tr>\n",
       "      <th>10</th>\n",
       "      <td>11</td>\n",
       "      <td>Hydrophobic_Interaction:PHE357A</td>\n",
       "      <td>0.092996</td>\n",
       "      <td>0.633028</td>\n",
       "      <td>0.540031</td>\n",
       "    </tr>\n",
       "    <tr>\n",
       "      <th>11</th>\n",
       "      <td>12</td>\n",
       "      <td>Hydrogen_Bond:HIS740A</td>\n",
       "      <td>0.089271</td>\n",
       "      <td>0.360856</td>\n",
       "      <td>0.271586</td>\n",
       "    </tr>\n",
       "    <tr>\n",
       "      <th>12</th>\n",
       "      <td>13</td>\n",
       "      <td>Salt_Bridge:GLU206A</td>\n",
       "      <td>0.085773</td>\n",
       "      <td>0.096330</td>\n",
       "      <td>0.182104</td>\n",
       "    </tr>\n",
       "    <tr>\n",
       "      <th>13</th>\n",
       "      <td>14</td>\n",
       "      <td>Hydrogen_Bond:SER630A</td>\n",
       "      <td>0.082679</td>\n",
       "      <td>0.666667</td>\n",
       "      <td>0.583987</td>\n",
       "    </tr>\n",
       "    <tr>\n",
       "      <th>14</th>\n",
       "      <td>15</td>\n",
       "      <td>Pi-Cation_Interaction:ARG125A</td>\n",
       "      <td>0.078495</td>\n",
       "      <td>0.117737</td>\n",
       "      <td>0.196232</td>\n",
       "    </tr>\n",
       "    <tr>\n",
       "      <th>15</th>\n",
       "      <td>16</td>\n",
       "      <td>Water_Bridge:SER630A</td>\n",
       "      <td>0.076743</td>\n",
       "      <td>0.169725</td>\n",
       "      <td>0.246468</td>\n",
       "    </tr>\n",
       "    <tr>\n",
       "      <th>16</th>\n",
       "      <td>17</td>\n",
       "      <td>Hydrophobic_Interaction:TYR547A</td>\n",
       "      <td>0.075296</td>\n",
       "      <td>0.174312</td>\n",
       "      <td>0.249608</td>\n",
       "    </tr>\n",
       "    <tr>\n",
       "      <th>17</th>\n",
       "      <td>18</td>\n",
       "      <td>Water_Bridge:SER209A</td>\n",
       "      <td>0.062098</td>\n",
       "      <td>0.143731</td>\n",
       "      <td>0.081633</td>\n",
       "    </tr>\n",
       "    <tr>\n",
       "      <th>18</th>\n",
       "      <td>19</td>\n",
       "      <td>Hydrogen_Bond:SER209A</td>\n",
       "      <td>0.055615</td>\n",
       "      <td>0.151376</td>\n",
       "      <td>0.095761</td>\n",
       "    </tr>\n",
       "    <tr>\n",
       "      <th>19</th>\n",
       "      <td>20</td>\n",
       "      <td>Hydrophobic_Interaction:TRP629A</td>\n",
       "      <td>0.053678</td>\n",
       "      <td>0.165138</td>\n",
       "      <td>0.111460</td>\n",
       "    </tr>\n",
       "    <tr>\n",
       "      <th>20</th>\n",
       "      <td>21</td>\n",
       "      <td>Salt_Bridge:GLU205A</td>\n",
       "      <td>0.053397</td>\n",
       "      <td>0.059633</td>\n",
       "      <td>0.113030</td>\n",
       "    </tr>\n",
       "    <tr>\n",
       "      <th>21</th>\n",
       "      <td>22</td>\n",
       "      <td>Hydrophobic_Interaction:ARG358A</td>\n",
       "      <td>0.047379</td>\n",
       "      <td>0.107034</td>\n",
       "      <td>0.059655</td>\n",
       "    </tr>\n",
       "    <tr>\n",
       "      <th>23</th>\n",
       "      <td>24</td>\n",
       "      <td>Water_Bridge:HIS740A</td>\n",
       "      <td>0.042451</td>\n",
       "      <td>0.178899</td>\n",
       "      <td>0.221350</td>\n",
       "    </tr>\n",
       "    <tr>\n",
       "      <th>28</th>\n",
       "      <td>29</td>\n",
       "      <td>Hydrophobic_Interaction:TYR666A</td>\n",
       "      <td>0.029943</td>\n",
       "      <td>0.651376</td>\n",
       "      <td>0.681319</td>\n",
       "    </tr>\n",
       "    <tr>\n",
       "      <th>29</th>\n",
       "      <td>30</td>\n",
       "      <td>Water_Bridge:ARG669A</td>\n",
       "      <td>0.027936</td>\n",
       "      <td>0.223242</td>\n",
       "      <td>0.251177</td>\n",
       "    </tr>\n",
       "    <tr>\n",
       "      <th>30</th>\n",
       "      <td>31</td>\n",
       "      <td>Hydrophobic_Interaction:TYR631A</td>\n",
       "      <td>0.025761</td>\n",
       "      <td>0.446483</td>\n",
       "      <td>0.420722</td>\n",
       "    </tr>\n",
       "    <tr>\n",
       "      <th>34</th>\n",
       "      <td>35</td>\n",
       "      <td>Pi-Stacking:PHE357A</td>\n",
       "      <td>0.019386</td>\n",
       "      <td>0.155963</td>\n",
       "      <td>0.136578</td>\n",
       "    </tr>\n",
       "    <tr>\n",
       "      <th>35</th>\n",
       "      <td>36</td>\n",
       "      <td>Water_Bridge:ARG125A</td>\n",
       "      <td>0.019218</td>\n",
       "      <td>0.397554</td>\n",
       "      <td>0.378336</td>\n",
       "    </tr>\n",
       "    <tr>\n",
       "      <th>36</th>\n",
       "      <td>37</td>\n",
       "      <td>Hydrophobic_Interaction:TYR662A</td>\n",
       "      <td>0.018954</td>\n",
       "      <td>0.651376</td>\n",
       "      <td>0.670330</td>\n",
       "    </tr>\n",
       "    <tr>\n",
       "      <th>39</th>\n",
       "      <td>40</td>\n",
       "      <td>Hydrophobic_Interaction:VAL656A</td>\n",
       "      <td>0.018605</td>\n",
       "      <td>0.420489</td>\n",
       "      <td>0.401884</td>\n",
       "    </tr>\n",
       "    <tr>\n",
       "      <th>40</th>\n",
       "      <td>41</td>\n",
       "      <td>Pi-Stacking:TYR662A</td>\n",
       "      <td>0.018452</td>\n",
       "      <td>0.044343</td>\n",
       "      <td>0.062794</td>\n",
       "    </tr>\n",
       "    <tr>\n",
       "      <th>41</th>\n",
       "      <td>42</td>\n",
       "      <td>Water_Bridge:ASN710A</td>\n",
       "      <td>0.016476</td>\n",
       "      <td>0.146789</td>\n",
       "      <td>0.163265</td>\n",
       "    </tr>\n",
       "    <tr>\n",
       "      <th>42</th>\n",
       "      <td>43</td>\n",
       "      <td>Hydrogen_Bond:ARG669A</td>\n",
       "      <td>0.015816</td>\n",
       "      <td>0.230887</td>\n",
       "      <td>0.215071</td>\n",
       "    </tr>\n",
       "    <tr>\n",
       "      <th>57</th>\n",
       "      <td>58</td>\n",
       "      <td>Hydrogen_Bond:TYR631A</td>\n",
       "      <td>0.007220</td>\n",
       "      <td>0.152905</td>\n",
       "      <td>0.160126</td>\n",
       "    </tr>\n",
       "    <tr>\n",
       "      <th>62</th>\n",
       "      <td>63</td>\n",
       "      <td>Hydrogen_Bond:TYR662A</td>\n",
       "      <td>0.005480</td>\n",
       "      <td>0.206422</td>\n",
       "      <td>0.200942</td>\n",
       "    </tr>\n",
       "    <tr>\n",
       "      <th>72</th>\n",
       "      <td>73</td>\n",
       "      <td>Hydrophobic_Interaction:GLU205A</td>\n",
       "      <td>0.003953</td>\n",
       "      <td>0.087156</td>\n",
       "      <td>0.083203</td>\n",
       "    </tr>\n",
       "  </tbody>\n",
       "</table>\n",
       "</div>"
      ],
      "text/plain": [
       "    INDEX                      INTERACTION  DIFFERENCE  ACTIVE_FREQUENCY  \\\n",
       "0       1            Hydrogen_Bond:GLU205A    0.355496          1.267584   \n",
       "1       2              Pi-Stacking:TYR666A    0.128570          0.229358   \n",
       "2       3            Hydrogen_Bond:ASN710A    0.124799          0.735474   \n",
       "3       4            Hydrogen_Bond:GLU206A    0.123808          0.360856   \n",
       "5       6            Hydrogen_Bond:ARG125A    0.119393          0.879205   \n",
       "6       7            Hydrogen_Bond:TYR547A    0.111450          0.529052   \n",
       "7       8  Hydrophobic_Interaction:VAL711A    0.096078          0.458716   \n",
       "8       9  Hydrophobic_Interaction:TRP659A    0.093848          0.163609   \n",
       "10     11  Hydrophobic_Interaction:PHE357A    0.092996          0.633028   \n",
       "11     12            Hydrogen_Bond:HIS740A    0.089271          0.360856   \n",
       "12     13              Salt_Bridge:GLU206A    0.085773          0.096330   \n",
       "13     14            Hydrogen_Bond:SER630A    0.082679          0.666667   \n",
       "14     15    Pi-Cation_Interaction:ARG125A    0.078495          0.117737   \n",
       "15     16             Water_Bridge:SER630A    0.076743          0.169725   \n",
       "16     17  Hydrophobic_Interaction:TYR547A    0.075296          0.174312   \n",
       "17     18             Water_Bridge:SER209A    0.062098          0.143731   \n",
       "18     19            Hydrogen_Bond:SER209A    0.055615          0.151376   \n",
       "19     20  Hydrophobic_Interaction:TRP629A    0.053678          0.165138   \n",
       "20     21              Salt_Bridge:GLU205A    0.053397          0.059633   \n",
       "21     22  Hydrophobic_Interaction:ARG358A    0.047379          0.107034   \n",
       "23     24             Water_Bridge:HIS740A    0.042451          0.178899   \n",
       "28     29  Hydrophobic_Interaction:TYR666A    0.029943          0.651376   \n",
       "29     30             Water_Bridge:ARG669A    0.027936          0.223242   \n",
       "30     31  Hydrophobic_Interaction:TYR631A    0.025761          0.446483   \n",
       "34     35              Pi-Stacking:PHE357A    0.019386          0.155963   \n",
       "35     36             Water_Bridge:ARG125A    0.019218          0.397554   \n",
       "36     37  Hydrophobic_Interaction:TYR662A    0.018954          0.651376   \n",
       "39     40  Hydrophobic_Interaction:VAL656A    0.018605          0.420489   \n",
       "40     41              Pi-Stacking:TYR662A    0.018452          0.044343   \n",
       "41     42             Water_Bridge:ASN710A    0.016476          0.146789   \n",
       "42     43            Hydrogen_Bond:ARG669A    0.015816          0.230887   \n",
       "57     58            Hydrogen_Bond:TYR631A    0.007220          0.152905   \n",
       "62     63            Hydrogen_Bond:TYR662A    0.005480          0.206422   \n",
       "72     73  Hydrophobic_Interaction:GLU205A    0.003953          0.087156   \n",
       "\n",
       "    INACTIVE_FREQUENCY  \n",
       "0             0.912088  \n",
       "1             0.357928  \n",
       "2             0.610675  \n",
       "3             0.237049  \n",
       "5             0.759812  \n",
       "6             0.640502  \n",
       "7             0.362637  \n",
       "8             0.257457  \n",
       "10            0.540031  \n",
       "11            0.271586  \n",
       "12            0.182104  \n",
       "13            0.583987  \n",
       "14            0.196232  \n",
       "15            0.246468  \n",
       "16            0.249608  \n",
       "17            0.081633  \n",
       "18            0.095761  \n",
       "19            0.111460  \n",
       "20            0.113030  \n",
       "21            0.059655  \n",
       "23            0.221350  \n",
       "28            0.681319  \n",
       "29            0.251177  \n",
       "30            0.420722  \n",
       "34            0.136578  \n",
       "35            0.378336  \n",
       "36            0.670330  \n",
       "39            0.401884  \n",
       "40            0.062794  \n",
       "41            0.163265  \n",
       "42            0.215071  \n",
       "57            0.160126  \n",
       "62            0.200942  \n",
       "72            0.083203  "
      ]
     },
     "execution_count": 16,
     "metadata": {},
     "output_type": "execute_result"
    }
   ],
   "source": [
    "features_filtered = get_relevant_features(features, 0.0, 0.0, 0.05)\n",
    "features_filtered"
   ]
  },
  {
   "cell_type": "code",
   "execution_count": 17,
   "id": "metropolitan-expense",
   "metadata": {},
   "outputs": [],
   "source": [
    "# some error checking -- should print nothing\n",
    "for item in features_filtered[\"INTERACTION\"].to_list():\n",
    "    if item not in data_train.columns.to_list():\n",
    "        print(item)"
   ]
  },
  {
   "cell_type": "markdown",
   "id": "complex-scene",
   "metadata": {},
   "source": [
    "#### **Get positive features (e.g. features that have a positive impact on activeness) and negative features:**"
   ]
  },
  {
   "cell_type": "code",
   "execution_count": 18,
   "id": "green-schema",
   "metadata": {},
   "outputs": [],
   "source": [
    "positives, negatives = get_feature_impact(features_filtered)"
   ]
  },
  {
   "cell_type": "code",
   "execution_count": 19,
   "id": "affecting-earthquake",
   "metadata": {},
   "outputs": [
    {
     "data": {
      "text/plain": [
       "['Hydrogen_Bond:GLU205A',\n",
       " 'Hydrogen_Bond:ASN710A',\n",
       " 'Hydrogen_Bond:GLU206A',\n",
       " 'Hydrogen_Bond:ARG125A',\n",
       " 'Hydrophobic_Interaction:VAL711A',\n",
       " 'Hydrophobic_Interaction:PHE357A',\n",
       " 'Hydrogen_Bond:HIS740A',\n",
       " 'Hydrogen_Bond:SER630A',\n",
       " 'Water_Bridge:SER209A',\n",
       " 'Hydrogen_Bond:SER209A',\n",
       " 'Hydrophobic_Interaction:TRP629A',\n",
       " 'Hydrophobic_Interaction:ARG358A',\n",
       " 'Hydrophobic_Interaction:TYR631A',\n",
       " 'Pi-Stacking:PHE357A',\n",
       " 'Water_Bridge:ARG125A',\n",
       " 'Hydrophobic_Interaction:VAL656A',\n",
       " 'Hydrogen_Bond:ARG669A',\n",
       " 'Hydrogen_Bond:TYR662A',\n",
       " 'Hydrophobic_Interaction:GLU205A']"
      ]
     },
     "execution_count": 19,
     "metadata": {},
     "output_type": "execute_result"
    }
   ],
   "source": [
    "positives"
   ]
  },
  {
   "cell_type": "code",
   "execution_count": 20,
   "id": "female-oliver",
   "metadata": {},
   "outputs": [
    {
     "data": {
      "text/plain": [
       "['Pi-Stacking:TYR666A',\n",
       " 'Hydrogen_Bond:TYR547A',\n",
       " 'Hydrophobic_Interaction:TRP659A',\n",
       " 'Salt_Bridge:GLU206A',\n",
       " 'Pi-Cation_Interaction:ARG125A',\n",
       " 'Water_Bridge:SER630A',\n",
       " 'Hydrophobic_Interaction:TYR547A',\n",
       " 'Salt_Bridge:GLU205A',\n",
       " 'Water_Bridge:HIS740A',\n",
       " 'Hydrophobic_Interaction:TYR666A',\n",
       " 'Water_Bridge:ARG669A',\n",
       " 'Hydrophobic_Interaction:TYR662A',\n",
       " 'Pi-Stacking:TYR662A',\n",
       " 'Water_Bridge:ASN710A',\n",
       " 'Hydrogen_Bond:TYR631A']"
      ]
     },
     "execution_count": 20,
     "metadata": {},
     "output_type": "execute_result"
    }
   ],
   "source": [
    "negatives"
   ]
  },
  {
   "cell_type": "markdown",
   "id": "spare-roommate",
   "metadata": {},
   "source": [
    "#### **Score Compounds with different strategies & save results:**"
   ]
  },
  {
   "cell_type": "code",
   "execution_count": 21,
   "id": "vocational-three",
   "metadata": {},
   "outputs": [],
   "source": [
    "save = False\n",
    "\n",
    "# make data copies\n",
    "train_result_strat1 = data_train.copy()\n",
    "train_result_strat2 = data_train.copy()\n",
    "train_result_strat3 = data_train.copy()\n",
    "train_result_strat4 = data_train.copy()\n",
    "# calculate scores\n",
    "train_result_strat1[\"SCORE\"] = train_result_strat1.apply(lambda x: score(x, positives, negatives, \"+\"), axis = 1)\n",
    "train_result_strat2[\"SCORE\"] = train_result_strat2.apply(lambda x: score(x, positives, negatives, \"++\"), axis = 1)\n",
    "train_result_strat3[\"SCORE\"] = train_result_strat3.apply(lambda x: score(x, positives, negatives, \"+-\"), axis = 1)\n",
    "train_result_strat4[\"SCORE\"] = train_result_strat4.apply(lambda x: score(x, positives, negatives, \"++--\"), axis = 1)\n",
    "# sort data\n",
    "train_result_strat1_sorted = train_result_strat1.sort_values(by = \"SCORE\", ascending = False)\n",
    "train_result_strat2_sorted = train_result_strat2.sort_values(by = \"SCORE\", ascending = False)\n",
    "train_result_strat3_sorted = train_result_strat3.sort_values(by = \"SCORE\", ascending = False)\n",
    "train_result_strat4_sorted = train_result_strat4.sort_values(by = \"SCORE\", ascending = False)\n",
    "# save data\n",
    "if save:\n",
    "    train_result_strat1_sorted.to_csv(\"train_scores1.csv\")\n",
    "    train_result_strat2_sorted.to_csv(\"train_scores2.csv\")\n",
    "    train_result_strat3_sorted.to_csv(\"train_scores3.csv\")\n",
    "    train_result_strat4_sorted.to_csv(\"train_scores4.csv\")"
   ]
  },
  {
   "cell_type": "markdown",
   "id": "capable-adobe",
   "metadata": {},
   "source": [
    "#### **Find best cutoff value and print metrics:**"
   ]
  },
  {
   "cell_type": "markdown",
   "id": "portuguese-enterprise",
   "metadata": {},
   "source": [
    "*cutoff/accuracy for different strategies:*"
   ]
  },
  {
   "cell_type": "code",
   "execution_count": 22,
   "id": "terminal-oxide",
   "metadata": {},
   "outputs": [
    {
     "name": "stdout",
     "output_type": "stream",
     "text": [
      "Strategy 1:  [6, 0.6483346243222309] \n",
      "Strategy 2:  [7, 0.6421378776142526] \n",
      "Strategy 3:  [3, 0.6622773044151821] \n",
      "Strategy 4:  [4, 0.6700232378001549]\n"
     ]
    }
   ],
   "source": [
    "print(\n",
    "\"Strategy 1: \",\n",
    "get_cutoff(train_result_strat1[\"LABEL\"].to_list(), train_result_strat1[\"SCORE\"].to_list()),\n",
    "\"\\nStrategy 2: \",\n",
    "get_cutoff(train_result_strat2[\"LABEL\"].to_list(), train_result_strat2[\"SCORE\"].to_list()),\n",
    "\"\\nStrategy 3: \",\n",
    "get_cutoff(train_result_strat3[\"LABEL\"].to_list(), train_result_strat3[\"SCORE\"].to_list()),\n",
    "\"\\nStrategy 4: \",\n",
    "get_cutoff(train_result_strat4[\"LABEL\"].to_list(), train_result_strat4[\"SCORE\"].to_list())\n",
    ")"
   ]
  },
  {
   "cell_type": "markdown",
   "id": "parallel-shopping",
   "metadata": {},
   "source": [
    "*accuracy for best cutoff:*"
   ]
  },
  {
   "cell_type": "code",
   "execution_count": 23,
   "id": "beneficial-identifier",
   "metadata": {},
   "outputs": [
    {
     "name": "stdout",
     "output_type": "stream",
     "text": [
      "Strategy 1:  0.6483346243222309 \n",
      "Strategy 2:  0.6421378776142526 \n",
      "Strategy 3:  0.6622773044151821 \n",
      "Strategy 4:  0.6700232378001549\n"
     ]
    }
   ],
   "source": [
    "print(\n",
    "\"Strategy 1: \",\n",
    "test_cutoff(train_result_strat1[\"LABEL\"].to_list(), train_result_strat1[\"SCORE\"].to_list(), 6, \"accuracy\"),\n",
    "\"\\nStrategy 2: \",\n",
    "test_cutoff(train_result_strat2[\"LABEL\"].to_list(), train_result_strat2[\"SCORE\"].to_list(), 7, \"accuracy\"),\n",
    "\"\\nStrategy 3: \",\n",
    "test_cutoff(train_result_strat3[\"LABEL\"].to_list(), train_result_strat3[\"SCORE\"].to_list(), 3, \"accuracy\"),\n",
    "\"\\nStrategy 4: \",\n",
    "test_cutoff(train_result_strat4[\"LABEL\"].to_list(), train_result_strat4[\"SCORE\"].to_list(), 4, \"accuracy\")\n",
    ")"
   ]
  },
  {
   "cell_type": "markdown",
   "id": "hazardous-killer",
   "metadata": {},
   "source": [
    "*false positive rate for best cutoff:*"
   ]
  },
  {
   "cell_type": "code",
   "execution_count": 24,
   "id": "threatened-flower",
   "metadata": {},
   "outputs": [
    {
     "name": "stdout",
     "output_type": "stream",
     "text": [
      "Strategy 1:  0.5086342229199372 \n",
      "Strategy 2:  0.46781789638932497 \n",
      "Strategy 3:  0.3579277864992151 \n",
      "Strategy 4:  0.2778649921507064\n"
     ]
    }
   ],
   "source": [
    "print(\n",
    "\"Strategy 1: \",\n",
    "test_cutoff(train_result_strat1[\"LABEL\"].to_list(), train_result_strat1[\"SCORE\"].to_list(), 6, \"fpr\"),\n",
    "\"\\nStrategy 2: \",\n",
    "test_cutoff(train_result_strat2[\"LABEL\"].to_list(), train_result_strat2[\"SCORE\"].to_list(), 7, \"fpr\"),\n",
    "\"\\nStrategy 3: \",\n",
    "test_cutoff(train_result_strat3[\"LABEL\"].to_list(), train_result_strat3[\"SCORE\"].to_list(), 3, \"fpr\"),\n",
    "\"\\nStrategy 4: \",\n",
    "test_cutoff(train_result_strat4[\"LABEL\"].to_list(), train_result_strat4[\"SCORE\"].to_list(), 4, \"fpr\")\n",
    ")"
   ]
  },
  {
   "cell_type": "markdown",
   "id": "dressed-spelling",
   "metadata": {},
   "source": [
    "#### **Calculate validation and test results:**"
   ]
  },
  {
   "cell_type": "code",
   "execution_count": 25,
   "id": "spare-wrapping",
   "metadata": {},
   "outputs": [],
   "source": [
    "# make data copies\n",
    "val_result_strat1 = data_val.copy()\n",
    "val_result_strat2 = data_val.copy()\n",
    "val_result_strat3 = data_val.copy()\n",
    "val_result_strat4 = data_val.copy()\n",
    "# calculate scores\n",
    "val_result_strat1[\"SCORE\"] = val_result_strat1.apply(lambda x: score(x, positives, negatives, \"+\"), axis = 1)\n",
    "val_result_strat2[\"SCORE\"] = val_result_strat2.apply(lambda x: score(x, positives, negatives, \"++\"), axis = 1)\n",
    "val_result_strat3[\"SCORE\"] = val_result_strat3.apply(lambda x: score(x, positives, negatives, \"+-\"), axis = 1)\n",
    "val_result_strat4[\"SCORE\"] = val_result_strat4.apply(lambda x: score(x, positives, negatives, \"++--\"), axis = 1)\n",
    "# sort data\n",
    "val_result_strat1_sorted = val_result_strat1.sort_values(by = \"SCORE\", ascending = False)\n",
    "val_result_strat2_sorted = val_result_strat2.sort_values(by = \"SCORE\", ascending = False)\n",
    "val_result_strat3_sorted = val_result_strat3.sort_values(by = \"SCORE\", ascending = False)\n",
    "val_result_strat4_sorted = val_result_strat4.sort_values(by = \"SCORE\", ascending = False)"
   ]
  },
  {
   "cell_type": "code",
   "execution_count": 26,
   "id": "aging-polls",
   "metadata": {},
   "outputs": [],
   "source": [
    "# make data copies\n",
    "test_result_strat1 = data_test.copy()\n",
    "test_result_strat2 = data_test.copy()\n",
    "test_result_strat3 = data_test.copy()\n",
    "test_result_strat4 = data_test.copy()\n",
    "# calculate scores\n",
    "test_result_strat1[\"SCORE\"] = test_result_strat1.apply(lambda x: score(x, positives, negatives, \"+\"), axis = 1)\n",
    "test_result_strat2[\"SCORE\"] = test_result_strat2.apply(lambda x: score(x, positives, negatives, \"++\"), axis = 1)\n",
    "test_result_strat3[\"SCORE\"] = test_result_strat3.apply(lambda x: score(x, positives, negatives, \"+-\"), axis = 1)\n",
    "test_result_strat4[\"SCORE\"] = test_result_strat4.apply(lambda x: score(x, positives, negatives, \"++--\"), axis = 1)\n",
    "# sort data\n",
    "test_result_strat1_sorted = test_result_strat1.sort_values(by = \"SCORE\", ascending = False)\n",
    "test_result_strat2_sorted = test_result_strat2.sort_values(by = \"SCORE\", ascending = False)\n",
    "test_result_strat3_sorted = test_result_strat3.sort_values(by = \"SCORE\", ascending = False)\n",
    "test_result_strat4_sorted = test_result_strat4.sort_values(by = \"SCORE\", ascending = False)"
   ]
  },
  {
   "cell_type": "markdown",
   "id": "taken-prophet",
   "metadata": {},
   "source": [
    "#### **Quality metrics for training and validation data:**"
   ]
  },
  {
   "cell_type": "markdown",
   "id": "desperate-stomach",
   "metadata": {},
   "source": [
    "*training data:*"
   ]
  },
  {
   "cell_type": "code",
   "execution_count": 27,
   "id": "increased-montgomery",
   "metadata": {},
   "outputs": [
    {
     "name": "stdout",
     "output_type": "stream",
     "text": [
      "Strategy 1:  {'ACC': 0.6483346243222309, 'FPR': 0.5086342229199372, 'AUC': 0.6834682355652212, 'Ya': 0.6179245283018868, 'EF': 1.2197867982228376, 'REF': 80.1223241590214} \n",
      "Strategy 2:  {'ACC': 0.6421378776142526, 'FPR': 0.46781789638932497, 'AUC': 0.6785282214508951, 'Ya': 0.6218274111675127, 'EF': 1.2274911128704264, 'REF': 74.92354740061162} \n",
      "Strategy 3:  {'ACC': 0.6622773044151821, 'FPR': 0.3579277864992151, 'AUC': 0.7242689595245296, 'Ya': 0.6617210682492581, 'EF': 1.3062414359476946, 'REF': 68.19571865443424} \n",
      "Strategy 4:  {'ACC': 0.6700232378001549, 'FPR': 0.2778649921507064, 'AUC': 0.7273186621155167, 'Ya': 0.6958762886597938, 'EF': 1.3736640499385226, 'REF': 69.58762886597938}\n"
     ]
    }
   ],
   "source": [
    "print(\n",
    "\"Strategy 1: \",\n",
    "get_metrics(train_result_strat1, 6, pretty_print = True),\n",
    "\"\\nStrategy 2: \",\n",
    "get_metrics(train_result_strat2, 7, pretty_print = True),\n",
    "\"\\nStrategy 3: \",\n",
    "get_metrics(train_result_strat3, 3, pretty_print = True),\n",
    "\"\\nStrategy 4: \",\n",
    "get_metrics(train_result_strat4, 4, pretty_print = True)\n",
    ")"
   ]
  },
  {
   "cell_type": "code",
   "execution_count": 28,
   "id": "coordinated-orleans",
   "metadata": {},
   "outputs": [
    {
     "data": {
      "image/png": "[encoded data removed]",
      "text/plain": [
       "<Figure size 720x720 with 2 Axes>"
      ]
     },
     "metadata": {
      "needs_background": "light"
     },
     "output_type": "display_data"
    }
   ],
   "source": [
    "plot_confusion_matrix(get_metrics(train_result_strat3, 3)[\"CM\"], classes = [0, 1], filename = \"results/CM_train_strat3.png\");"
   ]
  },
  {
   "cell_type": "code",
   "execution_count": 29,
   "id": "exclusive-special",
   "metadata": {},
   "outputs": [
    {
     "data": {
      "image/png": "[encoded data removed]",
      "text/plain": [
       "<Figure size 720x720 with 1 Axes>"
      ]
     },
     "metadata": {
      "needs_background": "light"
     },
     "output_type": "display_data"
    }
   ],
   "source": [
    "roc = get_metrics(train_result_strat3, 3)[\"ROC\"]\n",
    "plot_ROC_curve(roc[\"fpr\"], roc[\"tpr\"], filename = \"results/ROC_train_strat3.png\");"
   ]
  },
  {
   "cell_type": "markdown",
   "id": "behind-processor",
   "metadata": {},
   "source": [
    "*validation data:*"
   ]
  },
  {
   "cell_type": "code",
   "execution_count": 30,
   "id": "grand-survival",
   "metadata": {},
   "outputs": [
    {
     "name": "stdout",
     "output_type": "stream",
     "text": [
      "Strategy 1:  {'ACC': 0.6780185758513931, 'FPR': 0.5, 'AUC': 0.6996818746120421, 'Ya': 0.6712328767123288, 'EF': 1.2112191015535319, 'REF': 82.12290502793296} \n",
      "Strategy 2:  {'ACC': 0.6687306501547987, 'FPR': 0.4583333333333333, 'AUC': 0.6984404096834265, 'Ya': 0.6764705882352942, 'EF': 1.2206703910614527, 'REF': 77.09497206703911} \n",
      "Strategy 3:  {'ACC': 0.7089783281733746, 'FPR': 0.2916666666666667, 'AUC': 0.7385552451893235, 'Ya': 0.7514792899408284, 'EF': 1.3560212885524445, 'REF': 75.14792899408285} \n",
      "Strategy 4:  {'ACC': 0.7058823529411765, 'FPR': 0.24305555555555555, 'AUC': 0.7394669459962756, 'Ya': 0.7727272727272727, 'EF': 1.394362620619604, 'REF': 77.27272727272727}\n"
     ]
    }
   ],
   "source": [
    "print(\n",
    "\"Strategy 1: \",\n",
    "get_metrics(val_result_strat1, 6, pretty_print = True),\n",
    "\"\\nStrategy 2: \",\n",
    "get_metrics(val_result_strat2, 7, pretty_print = True),\n",
    "\"\\nStrategy 3: \",\n",
    "get_metrics(val_result_strat3, 3, pretty_print = True),\n",
    "\"\\nStrategy 4: \",\n",
    "get_metrics(val_result_strat4, 4, pretty_print = True)\n",
    ")"
   ]
  },
  {
   "cell_type": "code",
   "execution_count": 31,
   "id": "novel-operator",
   "metadata": {},
   "outputs": [
    {
     "data": {
      "image/png": "[encoded data removed]",
      "text/plain": [
       "<Figure size 720x720 with 2 Axes>"
      ]
     },
     "metadata": {
      "needs_background": "light"
     },
     "output_type": "display_data"
    }
   ],
   "source": [
    "plot_confusion_matrix(get_metrics(val_result_strat3, 3)[\"CM\"], classes = [0, 1], filename = \"results/CM_val_strat3.png\");"
   ]
  },
  {
   "cell_type": "code",
   "execution_count": 32,
   "id": "former-michael",
   "metadata": {},
   "outputs": [
    {
     "data": {
      "image/png": "[encoded data removed]",
      "text/plain": [
       "<Figure size 720x720 with 1 Axes>"
      ]
     },
     "metadata": {
      "needs_background": "light"
     },
     "output_type": "display_data"
    }
   ],
   "source": [
    "roc = get_metrics(val_result_strat3, 3)[\"ROC\"]\n",
    "plot_ROC_curve(roc[\"fpr\"], roc[\"tpr\"], filename = \"results/ROC_val_strat3.png\");"
   ]
  },
  {
   "cell_type": "markdown",
   "id": "clinical-blocking",
   "metadata": {},
   "source": [
    "*test data:*"
   ]
  },
  {
   "cell_type": "code",
   "execution_count": 33,
   "id": "colored-horse",
   "metadata": {},
   "outputs": [
    {
     "name": "stdout",
     "output_type": "stream",
     "text": [
      "Strategy 1:  {'ACC': 0.6262376237623762, 'FPR': 0.5154639175257731, 'AUC': 0.6525650466372116, 'Ya': 0.6138996138996139, 'EF': 1.1810259238830667, 'REF': 75.71428571428571} \n",
      "Strategy 2:  {'ACC': 0.6138613861386139, 'FPR': 0.4536082474226804, 'AUC': 0.6439003436426116, 'Ya': 0.6173913043478261, 'EF': 1.1877432712215321, 'REF': 67.61904761904762} \n",
      "Strategy 3:  {'ACC': 0.650990099009901, 'FPR': 0.32989690721649484, 'AUC': 0.6852724594992636, 'Ya': 0.6751269035532995, 'EF': 1.2988155668358714, 'REF': 67.51269035532995} \n",
      "Strategy 4:  {'ACC': 0.6361386138613861, 'FPR': 0.26288659793814434, 'AUC': 0.6904761904761905, 'Ya': 0.6909090909090909, 'EF': 1.3291774891774892, 'REF': 69.0909090909091}\n"
     ]
    }
   ],
   "source": [
    "print(\n",
    "\"Strategy 1: \",\n",
    "get_metrics(test_result_strat1, 6, pretty_print = True),\n",
    "\"\\nStrategy 2: \",\n",
    "get_metrics(test_result_strat2, 7, pretty_print = True),\n",
    "\"\\nStrategy 3: \",\n",
    "get_metrics(test_result_strat3, 3, pretty_print = True),\n",
    "\"\\nStrategy 4: \",\n",
    "get_metrics(test_result_strat4, 4, pretty_print = True)\n",
    ")"
   ]
  },
  {
   "cell_type": "code",
   "execution_count": 34,
   "id": "polyphonic-elizabeth",
   "metadata": {},
   "outputs": [
    {
     "data": {
      "image/png": "[encoded data removed]",
      "text/plain": [
       "<Figure size 720x720 with 2 Axes>"
      ]
     },
     "metadata": {
      "needs_background": "light"
     },
     "output_type": "display_data"
    }
   ],
   "source": [
    "plot_confusion_matrix(get_metrics(test_result_strat3, 3)[\"CM\"], classes = [0, 1], filename = \"results/CM_test_strat3.png\");"
   ]
  },
  {
   "cell_type": "code",
   "execution_count": 35,
   "id": "efficient-painting",
   "metadata": {},
   "outputs": [
    {
     "data": {
      "image/png": "[encoded data removed]",
      "text/plain": [
       "<Figure size 720x720 with 1 Axes>"
      ]
     },
     "metadata": {
      "needs_background": "light"
     },
     "output_type": "display_data"
    }
   ],
   "source": [
    "roc = get_metrics(test_result_strat3, 3)[\"ROC\"]\n",
    "plot_ROC_curve(roc[\"fpr\"], roc[\"tpr\"], filename = \"results/ROC_test_strat3.png\");"
   ]
  },
  {
   "cell_type": "markdown",
   "id": "brilliant-shore",
   "metadata": {},
   "source": [
    "#### **Clean up:**"
   ]
  },
  {
   "cell_type": "code",
   "execution_count": 36,
   "id": "african-capability",
   "metadata": {},
   "outputs": [],
   "source": [
    "os.remove(\"PIAScore.py\")"
   ]
  },
  {
   "cell_type": "code",
   "execution_count": null,
   "id": "breeding-update",
   "metadata": {},
   "outputs": [],
   "source": []
  }
 ],
 "metadata": {
  "kernelspec": {
   "display_name": "Python 3",
   "language": "python",
   "name": "python3"
  },
  "language_info": {
   "codemirror_mode": {
    "name": "ipython",
    "version": 3
   },
   "file_extension": ".py",
   "mimetype": "text/x-python",
   "name": "python",
   "nbconvert_exporter": "python",
   "pygments_lexer": "ipython3",
   "version": "3.8.8"
  }
 },
 "nbformat": 4,
 "nbformat_minor": 5
}
