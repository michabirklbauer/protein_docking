{
 "cells": [
  {
   "cell_type": "markdown",
   "id": "opened-tourism",
   "metadata": {},
   "source": [
    "## **PLIP ANALYSIS**"
   ]
  },
  {
   "cell_type": "code",
   "execution_count": 17,
   "id": "focal-circuit",
   "metadata": {},
   "outputs": [],
   "source": [
    "import json\n",
    "import pandas as pd\n",
    "from matplotlib import pyplot as plt\n",
    "from plip_analysis import analyze_structures\n",
    "\n",
    "\n",
    "df = pd.read_csv(\"data_train.csv\")"
   ]
  },
  {
   "cell_type": "code",
   "execution_count": 3,
   "id": "alpine-stanley",
   "metadata": {},
   "outputs": [
    {
     "data": {
      "text/html": [
       "<div>\n",
       "<style scoped>\n",
       "    .dataframe tbody tr th:only-of-type {\n",
       "        vertical-align: middle;\n",
       "    }\n",
       "\n",
       "    .dataframe tbody tr th {\n",
       "        vertical-align: top;\n",
       "    }\n",
       "\n",
       "    .dataframe thead th {\n",
       "        text-align: right;\n",
       "    }\n",
       "</style>\n",
       "<table border=\"1\" class=\"dataframe\">\n",
       "  <thead>\n",
       "    <tr style=\"text-align: right;\">\n",
       "      <th></th>\n",
       "      <th>INDEX</th>\n",
       "      <th>NAME</th>\n",
       "      <th>EC_NR</th>\n",
       "      <th>PDB_ENTRY</th>\n",
       "      <th>PDB_ORGANISM</th>\n",
       "    </tr>\n",
       "  </thead>\n",
       "  <tbody>\n",
       "    <tr>\n",
       "      <th>0</th>\n",
       "      <td>55</td>\n",
       "      <td>Soluble Epoxide Hydrolase</td>\n",
       "      <td>3.3.2.10</td>\n",
       "      <td>5AK6</td>\n",
       "      <td>Homo sapiens</td>\n",
       "    </tr>\n",
       "    <tr>\n",
       "      <th>1</th>\n",
       "      <td>22</td>\n",
       "      <td>Soluble Epoxide Hydrolase</td>\n",
       "      <td>3.3.2.10</td>\n",
       "      <td>3WKE</td>\n",
       "      <td>Homo sapiens</td>\n",
       "    </tr>\n",
       "    <tr>\n",
       "      <th>2</th>\n",
       "      <td>76</td>\n",
       "      <td>Soluble Epoxide Hydrolase</td>\n",
       "      <td>3.3.2.10</td>\n",
       "      <td>5ALN</td>\n",
       "      <td>Homo sapiens</td>\n",
       "    </tr>\n",
       "    <tr>\n",
       "      <th>3</th>\n",
       "      <td>44</td>\n",
       "      <td>Soluble Epoxide Hydrolase</td>\n",
       "      <td>3.3.2.10</td>\n",
       "      <td>5AI4</td>\n",
       "      <td>Homo sapiens</td>\n",
       "    </tr>\n",
       "    <tr>\n",
       "      <th>4</th>\n",
       "      <td>72</td>\n",
       "      <td>Soluble Epoxide Hydrolase</td>\n",
       "      <td>3.3.2.10</td>\n",
       "      <td>5ALJ</td>\n",
       "      <td>Homo sapiens</td>\n",
       "    </tr>\n",
       "    <tr>\n",
       "      <th>...</th>\n",
       "      <td>...</td>\n",
       "      <td>...</td>\n",
       "      <td>...</td>\n",
       "      <td>...</td>\n",
       "      <td>...</td>\n",
       "    </tr>\n",
       "    <tr>\n",
       "      <th>78</th>\n",
       "      <td>71</td>\n",
       "      <td>Soluble Epoxide Hydrolase</td>\n",
       "      <td>3.3.2.10</td>\n",
       "      <td>5ALI</td>\n",
       "      <td>Homo sapiens</td>\n",
       "    </tr>\n",
       "    <tr>\n",
       "      <th>79</th>\n",
       "      <td>14</td>\n",
       "      <td>Soluble Epoxide Hydrolase</td>\n",
       "      <td>3.3.2.10</td>\n",
       "      <td>3WK6</td>\n",
       "      <td>Homo sapiens</td>\n",
       "    </tr>\n",
       "    <tr>\n",
       "      <th>80</th>\n",
       "      <td>92</td>\n",
       "      <td>Soluble Epoxide Hydrolase</td>\n",
       "      <td>3.3.2.10</td>\n",
       "      <td>5AM3</td>\n",
       "      <td>Homo sapiens</td>\n",
       "    </tr>\n",
       "    <tr>\n",
       "      <th>81</th>\n",
       "      <td>51</td>\n",
       "      <td>Soluble Epoxide Hydrolase</td>\n",
       "      <td>3.3.2.10</td>\n",
       "      <td>5AIC</td>\n",
       "      <td>Homo sapiens</td>\n",
       "    </tr>\n",
       "    <tr>\n",
       "      <th>82</th>\n",
       "      <td>102</td>\n",
       "      <td>Soluble Epoxide Hydrolase</td>\n",
       "      <td>3.3.2.10</td>\n",
       "      <td>6I5G</td>\n",
       "      <td>Homo sapiens</td>\n",
       "    </tr>\n",
       "  </tbody>\n",
       "</table>\n",
       "<p>83 rows × 5 columns</p>\n",
       "</div>"
      ],
      "text/plain": [
       "    INDEX                       NAME     EC_NR PDB_ENTRY  PDB_ORGANISM\n",
       "0      55  Soluble Epoxide Hydrolase  3.3.2.10      5AK6  Homo sapiens\n",
       "1      22  Soluble Epoxide Hydrolase  3.3.2.10      3WKE  Homo sapiens\n",
       "2      76  Soluble Epoxide Hydrolase  3.3.2.10      5ALN  Homo sapiens\n",
       "3      44  Soluble Epoxide Hydrolase  3.3.2.10      5AI4  Homo sapiens\n",
       "4      72  Soluble Epoxide Hydrolase  3.3.2.10      5ALJ  Homo sapiens\n",
       "..    ...                        ...       ...       ...           ...\n",
       "78     71  Soluble Epoxide Hydrolase  3.3.2.10      5ALI  Homo sapiens\n",
       "79     14  Soluble Epoxide Hydrolase  3.3.2.10      3WK6  Homo sapiens\n",
       "80     92  Soluble Epoxide Hydrolase  3.3.2.10      5AM3  Homo sapiens\n",
       "81     51  Soluble Epoxide Hydrolase  3.3.2.10      5AIC  Homo sapiens\n",
       "82    102  Soluble Epoxide Hydrolase  3.3.2.10      6I5G  Homo sapiens\n",
       "\n",
       "[83 rows x 5 columns]"
      ]
     },
     "execution_count": 3,
     "metadata": {},
     "output_type": "execute_result"
    }
   ],
   "source": [
    "df"
   ]
  },
  {
   "cell_type": "code",
   "execution_count": 5,
   "id": "hired-belize",
   "metadata": {},
   "outputs": [
    {
     "name": "stdout",
     "output_type": "stream",
     "text": [
      "['5AK6', '3WKE', '5ALN', '5AI4', '5ALJ']\n"
     ]
    }
   ],
   "source": [
    "PDB_ENTRIES = list(df[\"PDB_ENTRY\"])\n",
    "print(PDB_ENTRIES[:5])"
   ]
  },
  {
   "cell_type": "code",
   "execution_count": 7,
   "id": "criminal-amsterdam",
   "metadata": {},
   "outputs": [
    {
     "name": "stdout",
     "output_type": "stream",
     "text": [
      "Analyzing file:  structures/5AK6.pdb\n",
      "Analyzing file:  structures/3WKE.pdb\n",
      "Analyzing file:  structures/5ALN.pdb\n",
      "Analyzing file:  structures/5AI4.pdb\n",
      "Analyzing file:  structures/5ALJ.pdb\n",
      "Analyzing file:  structures/3WK7.pdb\n",
      "Analyzing file:  structures/4Y2Y.pdb\n",
      "Analyzing file:  structures/4Y2V.pdb\n",
      "Analyzing file:  structures/3KOO.pdb\n",
      "Analyzing file:  structures/5ALW.pdb\n",
      "Analyzing file:  structures/3PDC.pdb\n",
      "Analyzing file:  structures/6YL4.pdb\n",
      "Analyzing file:  structures/5ALP.pdb\n",
      "Analyzing file:  structures/4JNC.pdb\n",
      "Analyzing file:  structures/5ALQ.pdb\n",
      "Analyzing file:  structures/3ANS.pdb\n",
      "Analyzing file:  structures/5AKL.pdb\n",
      "Analyzing file:  structures/5AKE.pdb\n",
      "Analyzing file:  structures/4Y2U.pdb\n",
      "Analyzing file:  structures/4Y2Q.pdb\n",
      "Analyzing file:  structures/3WK8.pdb\n",
      "Analyzing file:  structures/5ALD.pdb\n",
      "Analyzing file:  structures/4Y2P.pdb\n",
      "Analyzing file:  structures/3I1Y.pdb\n",
      "Analyzing file:  structures/5AI0.pdb\n",
      "Analyzing file:  structures/5ALF.pdb\n",
      "Analyzing file:  structures/5ALG.pdb\n",
      "Analyzing file:  structures/4J03.pdb\n",
      "Analyzing file:  structures/3WKB.pdb\n",
      "Analyzing file:  structures/5ALV.pdb\n",
      "Analyzing file:  structures/4C4Z.pdb\n",
      "Analyzing file:  structures/5ALK.pdb\n",
      "Analyzing file:  structures/5AIA.pdb\n",
      "Analyzing file:  structures/3WK5.pdb\n",
      "Analyzing file:  structures/4C4Y.pdb\n",
      "Analyzing file:  structures/1ZD4.pdb\n",
      "Analyzing file:  structures/3WK9.pdb\n",
      "Analyzing file:  structures/4Y2T.pdb\n",
      "Analyzing file:  structures/3I28.pdb\n",
      "Analyzing file:  structures/5ALS.pdb\n",
      "Analyzing file:  structures/3ANT.pdb\n",
      "Analyzing file:  structures/5ALE.pdb\n",
      "Analyzing file:  structures/4Y2R.pdb\n",
      "Analyzing file:  structures/5AM1.pdb\n",
      "Analyzing file:  structures/5ALU.pdb\n",
      "Analyzing file:  structures/5AK5.pdb\n",
      "Analyzing file:  structures/5AIB.pdb\n",
      "Analyzing file:  structures/5ALH.pdb\n",
      "Analyzing file:  structures/5AI6.pdb\n",
      "Analyzing file:  structures/6HGV.pdb\n",
      "Analyzing file:  structures/5AKK.pdb\n",
      "Analyzing file:  structures/6HGW.pdb\n",
      "Analyzing file:  structures/5MWA.pdb\n",
      "Analyzing file:  structures/4Y2X.pdb\n",
      "Analyzing file:  structures/5AKH.pdb\n",
      "Analyzing file:  structures/5AI9.pdb\n",
      "Analyzing file:  structures/5AM0.pdb\n",
      "Analyzing file:  structures/5AKG.pdb\n",
      "Analyzing file:  structures/5ALM.pdb\n",
      "Analyzing file:  structures/4X6Y.pdb\n",
      "Analyzing file:  structures/6AUM.pdb\n",
      "Analyzing file:  structures/5AKI.pdb\n",
      "Analyzing file:  structures/5AKX.pdb\n",
      "Analyzing file:  structures/6HGX.pdb\n",
      "Analyzing file:  structures/4Y2S.pdb\n",
      "Analyzing file:  structures/4OCZ.pdb\n",
      "Analyzing file:  structures/1ZD2.pdb\n",
      "Analyzing file:  structures/5AK3.pdb\n",
      "Analyzing file:  structures/3WKD.pdb\n",
      "Analyzing file:  structures/1ZD3.pdb\n",
      "Analyzing file:  structures/4C4X.pdb\n",
      "Analyzing file:  structures/5ALY.pdb\n",
      "Analyzing file:  structures/5AM5.pdb\n",
      "Analyzing file:  structures/5ALL.pdb\n",
      "Analyzing file:  structures/5ALX.pdb\n",
      "Analyzing file:  structures/5ALT.pdb\n",
      "Analyzing file:  structures/3WKC.pdb\n",
      "Analyzing file:  structures/5AKJ.pdb\n",
      "Analyzing file:  structures/5ALI.pdb\n",
      "Analyzing file:  structures/3WK6.pdb\n",
      "Analyzing file:  structures/5AM3.pdb\n",
      "Analyzing file:  structures/5AIC.pdb\n",
      "Analyzing file:  structures/6I5G.pdb\n"
     ]
    }
   ],
   "source": [
    "result = analyze_structures(PDB_ENTRIES)"
   ]
  },
  {
   "cell_type": "code",
   "execution_count": 12,
   "id": "invisible-verification",
   "metadata": {},
   "outputs": [],
   "source": [
    "with open(\"results/result.json\", \"w\") as f:\n",
    "    json.dump(result, f)"
   ]
  },
  {
   "cell_type": "code",
   "execution_count": 18,
   "id": "changing-england",
   "metadata": {},
   "outputs": [],
   "source": [
    "result = dict(sorted(result.items(), key = lambda x:x[1], reverse = True))"
   ]
  },
  {
   "cell_type": "code",
   "execution_count": 26,
   "id": "distinct-franchise",
   "metadata": {},
   "outputs": [
    {
     "name": "stdout",
     "output_type": "stream",
     "text": [
      "Hydrophobic_Interaction:383A --- 52\n",
      "Hydrophobic_Interaction:525A --- 42\n",
      "Hydrophobic_Interaction:267A --- 39\n",
      "Hydrophobic_Interaction:408A --- 39\n",
      "Hydrogen_Bond:383A --- 36\n",
      "Hydrogen_Bond:335A --- 35\n",
      "Hydrophobic_Interaction:498A --- 35\n",
      "Hydrophobic_Interaction:336A --- 34\n",
      "Pi-Stacking:336A --- 32\n",
      "Pi-Stacking:524A --- 30\n",
      "Hydrogen_Bond:466A --- 28\n",
      "Hydrogen_Bond:384A --- 21\n",
      "Hydrophobic_Interaction:499A --- 19\n",
      "Hydrogen_Bond:496A --- 17\n",
      "Hydrophobic_Interaction:524A --- 17\n",
      "Hydrophobic_Interaction:381A --- 16\n",
      "Hydrogen_Bond:497A --- 13\n",
      "Hydrophobic_Interaction:363A --- 12\n",
      "Hydrophobic_Interaction:466A --- 12\n",
      "Hydrogen_Bond:498A --- 12\n"
     ]
    }
   ],
   "source": [
    "for key in list(result.keys())[:20]:\n",
    "    print(key, \"---\", result[key])"
   ]
  },
  {
   "cell_type": "code",
   "execution_count": 16,
   "id": "everyday-holocaust",
   "metadata": {},
   "outputs": [],
   "source": [
    "with open(\"results/result_sorted.json\", \"w\") as f:\n",
    "    json.dump(result, f)"
   ]
  },
  {
   "cell_type": "code",
   "execution_count": 29,
   "id": "central-iraqi",
   "metadata": {},
   "outputs": [],
   "source": [
    "res_csv = \"Interaction;Frequency\\n\"\n",
    "for key in result:\n",
    "    res_csv = res_csv + str(key) + \";\" + str(result[key]) + \"\\n\"\n",
    "    \n",
    "with open(\"results/result_sorted.csv\", \"w\") as f:\n",
    "    f.write(res_csv)"
   ]
  },
  {
   "cell_type": "markdown",
   "id": "portuguese-sending",
   "metadata": {},
   "source": [
    "## **All Interactions**"
   ]
  },
  {
   "cell_type": "markdown",
   "id": "orange-census",
   "metadata": {},
   "source": [
    "![Image1](results/Rplot1.png)"
   ]
  },
  {
   "cell_type": "markdown",
   "id": "incomplete-explanation",
   "metadata": {},
   "source": [
    "## **Interactions with Occurences >= 10**\n",
    "![Image2](results/Rplot3.png)"
   ]
  },
  {
   "cell_type": "code",
   "execution_count": null,
   "id": "legal-closure",
   "metadata": {},
   "outputs": [],
   "source": []
  }
 ],
 "metadata": {
  "kernelspec": {
   "display_name": "Python 3",
   "language": "python",
   "name": "python3"
  },
  "language_info": {
   "codemirror_mode": {
    "name": "ipython",
    "version": 3
   },
   "file_extension": ".py",
   "mimetype": "text/x-python",
   "name": "python",
   "nbconvert_exporter": "python",
   "pygments_lexer": "ipython3",
   "version": "3.8.8"
  }
 },
 "nbformat": 4,
 "nbformat_minor": 5
}
