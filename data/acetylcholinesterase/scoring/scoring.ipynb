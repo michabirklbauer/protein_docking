{
 "cells": [
  {
   "cell_type": "markdown",
   "id": "refined-static",
   "metadata": {},
   "source": [
    "## **SCORING - Acetylcholinesterase**\n",
    "#### **Micha Birklbauer 2021-07-08**"
   ]
  },
  {
   "cell_type": "code",
   "execution_count": 1,
   "id": "written-macedonia",
   "metadata": {},
   "outputs": [
    {
     "data": {
      "text/plain": [
       "'scoring.py'"
      ]
     },
     "execution_count": 1,
     "metadata": {},
     "output_type": "execute_result"
    }
   ],
   "source": [
    "import os\n",
    "from shutil import copyfile\n",
    "copyfile(\"../../../scripts/python/scoring.py\", \"scoring.py\")"
   ]
  },
  {
   "cell_type": "code",
   "execution_count": 2,
   "id": "capable-enforcement",
   "metadata": {},
   "outputs": [],
   "source": [
    "import pandas as pd\n",
    "from scoring import *"
   ]
  },
  {
   "cell_type": "markdown",
   "id": "broadband-technique",
   "metadata": {},
   "source": [
    "#### **Load data:**"
   ]
  },
  {
   "cell_type": "code",
   "execution_count": 3,
   "id": "third-jersey",
   "metadata": {},
   "outputs": [],
   "source": [
    "data_train = pd.read_csv(\"data_train.csv\")\n",
    "data_val = pd.read_csv(\"data_val.csv\")\n",
    "data_test = pd.read_csv(\"data_test.csv\")\n",
    "features = pd.read_csv(\"features.csv\")"
   ]
  },
  {
   "cell_type": "code",
   "execution_count": 4,
   "id": "logical-reserve",
   "metadata": {},
   "outputs": [],
   "source": [
    "# data_train.info()"
   ]
  },
  {
   "cell_type": "code",
   "execution_count": 5,
   "id": "natural-idaho",
   "metadata": {},
   "outputs": [
    {
     "data": {
      "text/html": [
       "<div>\n",
       "<style scoped>\n",
       "    .dataframe tbody tr th:only-of-type {\n",
       "        vertical-align: middle;\n",
       "    }\n",
       "\n",
       "    .dataframe tbody tr th {\n",
       "        vertical-align: top;\n",
       "    }\n",
       "\n",
       "    .dataframe thead th {\n",
       "        text-align: right;\n",
       "    }\n",
       "</style>\n",
       "<table border=\"1\" class=\"dataframe\">\n",
       "  <thead>\n",
       "    <tr style=\"text-align: right;\">\n",
       "      <th></th>\n",
       "      <th>INDEX</th>\n",
       "      <th>NAME</th>\n",
       "      <th>Hydrophobic_Interaction:PHE297A</th>\n",
       "      <th>Pi-Cation_Interaction:TRP86A</th>\n",
       "      <th>Water_Bridge:GLY120A</th>\n",
       "      <th>Pi-Stacking:TRP86A</th>\n",
       "      <th>Hydrophobic_Interaction:TYR341A</th>\n",
       "      <th>Halogen_Bond:THR75A</th>\n",
       "      <th>Halogen_Bond:TRP286A</th>\n",
       "      <th>Hydrogen_Bond:ASN87A</th>\n",
       "      <th>...</th>\n",
       "      <th>Water_Bridge:THR83A</th>\n",
       "      <th>Hydrogen_Bond:GLN291A</th>\n",
       "      <th>Halogen_Bond:GLY120A</th>\n",
       "      <th>Water_Bridge:THR75A</th>\n",
       "      <th>Pi-Cation_Interaction:TYR341A</th>\n",
       "      <th>Hydrogen_Bond:SER125A</th>\n",
       "      <th>Water_Bridge:ALA204A</th>\n",
       "      <th>Pi-Stacking:TYR124A</th>\n",
       "      <th>Hydrophobic_Interaction:GLU202A</th>\n",
       "      <th>LABEL</th>\n",
       "    </tr>\n",
       "  </thead>\n",
       "  <tbody>\n",
       "    <tr>\n",
       "      <th>0</th>\n",
       "      <td>1</td>\n",
       "      <td>ZINC39710553|decoys_final2|sdf|80</td>\n",
       "      <td>1</td>\n",
       "      <td>0</td>\n",
       "      <td>0</td>\n",
       "      <td>1</td>\n",
       "      <td>1</td>\n",
       "      <td>0</td>\n",
       "      <td>0</td>\n",
       "      <td>0</td>\n",
       "      <td>...</td>\n",
       "      <td>0</td>\n",
       "      <td>0</td>\n",
       "      <td>0</td>\n",
       "      <td>0</td>\n",
       "      <td>0</td>\n",
       "      <td>1</td>\n",
       "      <td>0</td>\n",
       "      <td>0</td>\n",
       "      <td>0</td>\n",
       "      <td>inactive</td>\n",
       "    </tr>\n",
       "    <tr>\n",
       "      <th>1</th>\n",
       "      <td>2</td>\n",
       "      <td>ZINC39711540|decoys_final2|sdf|89</td>\n",
       "      <td>1</td>\n",
       "      <td>0</td>\n",
       "      <td>0</td>\n",
       "      <td>1</td>\n",
       "      <td>1</td>\n",
       "      <td>0</td>\n",
       "      <td>0</td>\n",
       "      <td>0</td>\n",
       "      <td>...</td>\n",
       "      <td>0</td>\n",
       "      <td>0</td>\n",
       "      <td>0</td>\n",
       "      <td>0</td>\n",
       "      <td>0</td>\n",
       "      <td>0</td>\n",
       "      <td>1</td>\n",
       "      <td>0</td>\n",
       "      <td>0</td>\n",
       "      <td>inactive</td>\n",
       "    </tr>\n",
       "    <tr>\n",
       "      <th>2</th>\n",
       "      <td>3</td>\n",
       "      <td>ZINC39710360|decoys_final2|sdf|76</td>\n",
       "      <td>1</td>\n",
       "      <td>0</td>\n",
       "      <td>0</td>\n",
       "      <td>2</td>\n",
       "      <td>1</td>\n",
       "      <td>0</td>\n",
       "      <td>0</td>\n",
       "      <td>0</td>\n",
       "      <td>...</td>\n",
       "      <td>0</td>\n",
       "      <td>0</td>\n",
       "      <td>0</td>\n",
       "      <td>0</td>\n",
       "      <td>0</td>\n",
       "      <td>0</td>\n",
       "      <td>0</td>\n",
       "      <td>0</td>\n",
       "      <td>0</td>\n",
       "      <td>inactive</td>\n",
       "    </tr>\n",
       "    <tr>\n",
       "      <th>3</th>\n",
       "      <td>4</td>\n",
       "      <td>CHEMBL374981|actives_final|sdf|138</td>\n",
       "      <td>0</td>\n",
       "      <td>0</td>\n",
       "      <td>0</td>\n",
       "      <td>4</td>\n",
       "      <td>1</td>\n",
       "      <td>0</td>\n",
       "      <td>0</td>\n",
       "      <td>0</td>\n",
       "      <td>...</td>\n",
       "      <td>0</td>\n",
       "      <td>0</td>\n",
       "      <td>0</td>\n",
       "      <td>0</td>\n",
       "      <td>0</td>\n",
       "      <td>0</td>\n",
       "      <td>0</td>\n",
       "      <td>0</td>\n",
       "      <td>0</td>\n",
       "      <td>active</td>\n",
       "    </tr>\n",
       "    <tr>\n",
       "      <th>4</th>\n",
       "      <td>5</td>\n",
       "      <td>CHEMBL219264|actives_final|sdf|334</td>\n",
       "      <td>0</td>\n",
       "      <td>0</td>\n",
       "      <td>1</td>\n",
       "      <td>2</td>\n",
       "      <td>1</td>\n",
       "      <td>0</td>\n",
       "      <td>0</td>\n",
       "      <td>0</td>\n",
       "      <td>...</td>\n",
       "      <td>0</td>\n",
       "      <td>0</td>\n",
       "      <td>0</td>\n",
       "      <td>0</td>\n",
       "      <td>0</td>\n",
       "      <td>0</td>\n",
       "      <td>0</td>\n",
       "      <td>0</td>\n",
       "      <td>0</td>\n",
       "      <td>active</td>\n",
       "    </tr>\n",
       "    <tr>\n",
       "      <th>...</th>\n",
       "      <td>...</td>\n",
       "      <td>...</td>\n",
       "      <td>...</td>\n",
       "      <td>...</td>\n",
       "      <td>...</td>\n",
       "      <td>...</td>\n",
       "      <td>...</td>\n",
       "      <td>...</td>\n",
       "      <td>...</td>\n",
       "      <td>...</td>\n",
       "      <td>...</td>\n",
       "      <td>...</td>\n",
       "      <td>...</td>\n",
       "      <td>...</td>\n",
       "      <td>...</td>\n",
       "      <td>...</td>\n",
       "      <td>...</td>\n",
       "      <td>...</td>\n",
       "      <td>...</td>\n",
       "      <td>...</td>\n",
       "      <td>...</td>\n",
       "    </tr>\n",
       "    <tr>\n",
       "      <th>759</th>\n",
       "      <td>760</td>\n",
       "      <td>CHEMBL576005|actives_final|sdf|279</td>\n",
       "      <td>0</td>\n",
       "      <td>0</td>\n",
       "      <td>0</td>\n",
       "      <td>0</td>\n",
       "      <td>1</td>\n",
       "      <td>0</td>\n",
       "      <td>0</td>\n",
       "      <td>0</td>\n",
       "      <td>...</td>\n",
       "      <td>0</td>\n",
       "      <td>0</td>\n",
       "      <td>0</td>\n",
       "      <td>0</td>\n",
       "      <td>0</td>\n",
       "      <td>0</td>\n",
       "      <td>0</td>\n",
       "      <td>0</td>\n",
       "      <td>0</td>\n",
       "      <td>active</td>\n",
       "    </tr>\n",
       "    <tr>\n",
       "      <th>760</th>\n",
       "      <td>761</td>\n",
       "      <td>CHEMBL153865|actives_final|sdf|341</td>\n",
       "      <td>0</td>\n",
       "      <td>0</td>\n",
       "      <td>0</td>\n",
       "      <td>0</td>\n",
       "      <td>1</td>\n",
       "      <td>0</td>\n",
       "      <td>0</td>\n",
       "      <td>0</td>\n",
       "      <td>...</td>\n",
       "      <td>0</td>\n",
       "      <td>0</td>\n",
       "      <td>0</td>\n",
       "      <td>0</td>\n",
       "      <td>0</td>\n",
       "      <td>0</td>\n",
       "      <td>0</td>\n",
       "      <td>0</td>\n",
       "      <td>0</td>\n",
       "      <td>active</td>\n",
       "    </tr>\n",
       "    <tr>\n",
       "      <th>761</th>\n",
       "      <td>762</td>\n",
       "      <td>CHEMBL146674|actives_final|sdf|297</td>\n",
       "      <td>0</td>\n",
       "      <td>2</td>\n",
       "      <td>0</td>\n",
       "      <td>0</td>\n",
       "      <td>0</td>\n",
       "      <td>0</td>\n",
       "      <td>0</td>\n",
       "      <td>0</td>\n",
       "      <td>...</td>\n",
       "      <td>0</td>\n",
       "      <td>0</td>\n",
       "      <td>0</td>\n",
       "      <td>0</td>\n",
       "      <td>0</td>\n",
       "      <td>0</td>\n",
       "      <td>0</td>\n",
       "      <td>0</td>\n",
       "      <td>0</td>\n",
       "      <td>active</td>\n",
       "    </tr>\n",
       "    <tr>\n",
       "      <th>762</th>\n",
       "      <td>763</td>\n",
       "      <td>ZINC04195090|decoys_final2|sdf|324</td>\n",
       "      <td>0</td>\n",
       "      <td>0</td>\n",
       "      <td>0</td>\n",
       "      <td>0</td>\n",
       "      <td>0</td>\n",
       "      <td>0</td>\n",
       "      <td>0</td>\n",
       "      <td>0</td>\n",
       "      <td>...</td>\n",
       "      <td>0</td>\n",
       "      <td>0</td>\n",
       "      <td>0</td>\n",
       "      <td>0</td>\n",
       "      <td>0</td>\n",
       "      <td>0</td>\n",
       "      <td>0</td>\n",
       "      <td>0</td>\n",
       "      <td>0</td>\n",
       "      <td>inactive</td>\n",
       "    </tr>\n",
       "    <tr>\n",
       "      <th>763</th>\n",
       "      <td>764</td>\n",
       "      <td>CHEMBL134342|actives_final|sdf|478</td>\n",
       "      <td>1</td>\n",
       "      <td>0</td>\n",
       "      <td>0</td>\n",
       "      <td>0</td>\n",
       "      <td>1</td>\n",
       "      <td>0</td>\n",
       "      <td>0</td>\n",
       "      <td>0</td>\n",
       "      <td>...</td>\n",
       "      <td>0</td>\n",
       "      <td>0</td>\n",
       "      <td>0</td>\n",
       "      <td>0</td>\n",
       "      <td>0</td>\n",
       "      <td>0</td>\n",
       "      <td>0</td>\n",
       "      <td>0</td>\n",
       "      <td>0</td>\n",
       "      <td>active</td>\n",
       "    </tr>\n",
       "  </tbody>\n",
       "</table>\n",
       "<p>764 rows × 138 columns</p>\n",
       "</div>"
      ],
      "text/plain": [
       "     INDEX                                NAME  \\\n",
       "0        1   ZINC39710553|decoys_final2|sdf|80   \n",
       "1        2   ZINC39711540|decoys_final2|sdf|89   \n",
       "2        3   ZINC39710360|decoys_final2|sdf|76   \n",
       "3        4  CHEMBL374981|actives_final|sdf|138   \n",
       "4        5  CHEMBL219264|actives_final|sdf|334   \n",
       "..     ...                                 ...   \n",
       "759    760  CHEMBL576005|actives_final|sdf|279   \n",
       "760    761  CHEMBL153865|actives_final|sdf|341   \n",
       "761    762  CHEMBL146674|actives_final|sdf|297   \n",
       "762    763  ZINC04195090|decoys_final2|sdf|324   \n",
       "763    764  CHEMBL134342|actives_final|sdf|478   \n",
       "\n",
       "     Hydrophobic_Interaction:PHE297A  Pi-Cation_Interaction:TRP86A  \\\n",
       "0                                  1                             0   \n",
       "1                                  1                             0   \n",
       "2                                  1                             0   \n",
       "3                                  0                             0   \n",
       "4                                  0                             0   \n",
       "..                               ...                           ...   \n",
       "759                                0                             0   \n",
       "760                                0                             0   \n",
       "761                                0                             2   \n",
       "762                                0                             0   \n",
       "763                                1                             0   \n",
       "\n",
       "     Water_Bridge:GLY120A  Pi-Stacking:TRP86A  \\\n",
       "0                       0                   1   \n",
       "1                       0                   1   \n",
       "2                       0                   2   \n",
       "3                       0                   4   \n",
       "4                       1                   2   \n",
       "..                    ...                 ...   \n",
       "759                     0                   0   \n",
       "760                     0                   0   \n",
       "761                     0                   0   \n",
       "762                     0                   0   \n",
       "763                     0                   0   \n",
       "\n",
       "     Hydrophobic_Interaction:TYR341A  Halogen_Bond:THR75A  \\\n",
       "0                                  1                    0   \n",
       "1                                  1                    0   \n",
       "2                                  1                    0   \n",
       "3                                  1                    0   \n",
       "4                                  1                    0   \n",
       "..                               ...                  ...   \n",
       "759                                1                    0   \n",
       "760                                1                    0   \n",
       "761                                0                    0   \n",
       "762                                0                    0   \n",
       "763                                1                    0   \n",
       "\n",
       "     Halogen_Bond:TRP286A  Hydrogen_Bond:ASN87A  ...  Water_Bridge:THR83A  \\\n",
       "0                       0                     0  ...                    0   \n",
       "1                       0                     0  ...                    0   \n",
       "2                       0                     0  ...                    0   \n",
       "3                       0                     0  ...                    0   \n",
       "4                       0                     0  ...                    0   \n",
       "..                    ...                   ...  ...                  ...   \n",
       "759                     0                     0  ...                    0   \n",
       "760                     0                     0  ...                    0   \n",
       "761                     0                     0  ...                    0   \n",
       "762                     0                     0  ...                    0   \n",
       "763                     0                     0  ...                    0   \n",
       "\n",
       "     Hydrogen_Bond:GLN291A  Halogen_Bond:GLY120A  Water_Bridge:THR75A  \\\n",
       "0                        0                     0                    0   \n",
       "1                        0                     0                    0   \n",
       "2                        0                     0                    0   \n",
       "3                        0                     0                    0   \n",
       "4                        0                     0                    0   \n",
       "..                     ...                   ...                  ...   \n",
       "759                      0                     0                    0   \n",
       "760                      0                     0                    0   \n",
       "761                      0                     0                    0   \n",
       "762                      0                     0                    0   \n",
       "763                      0                     0                    0   \n",
       "\n",
       "     Pi-Cation_Interaction:TYR341A  Hydrogen_Bond:SER125A  \\\n",
       "0                                0                      1   \n",
       "1                                0                      0   \n",
       "2                                0                      0   \n",
       "3                                0                      0   \n",
       "4                                0                      0   \n",
       "..                             ...                    ...   \n",
       "759                              0                      0   \n",
       "760                              0                      0   \n",
       "761                              0                      0   \n",
       "762                              0                      0   \n",
       "763                              0                      0   \n",
       "\n",
       "     Water_Bridge:ALA204A  Pi-Stacking:TYR124A  \\\n",
       "0                       0                    0   \n",
       "1                       1                    0   \n",
       "2                       0                    0   \n",
       "3                       0                    0   \n",
       "4                       0                    0   \n",
       "..                    ...                  ...   \n",
       "759                     0                    0   \n",
       "760                     0                    0   \n",
       "761                     0                    0   \n",
       "762                     0                    0   \n",
       "763                     0                    0   \n",
       "\n",
       "     Hydrophobic_Interaction:GLU202A     LABEL  \n",
       "0                                  0  inactive  \n",
       "1                                  0  inactive  \n",
       "2                                  0  inactive  \n",
       "3                                  0    active  \n",
       "4                                  0    active  \n",
       "..                               ...       ...  \n",
       "759                                0    active  \n",
       "760                                0    active  \n",
       "761                                0    active  \n",
       "762                                0  inactive  \n",
       "763                                0    active  \n",
       "\n",
       "[764 rows x 138 columns]"
      ]
     },
     "execution_count": 5,
     "metadata": {},
     "output_type": "execute_result"
    }
   ],
   "source": [
    "data_train"
   ]
  },
  {
   "cell_type": "code",
   "execution_count": 6,
   "id": "marked-damage",
   "metadata": {},
   "outputs": [
    {
     "name": "stdout",
     "output_type": "stream",
     "text": [
      "Training dataset shape & Nr. of actives:\n",
      "(764, 138) 427\n"
     ]
    }
   ],
   "source": [
    "print(\"Training dataset shape & Nr. of actives:\")\n",
    "print(data_train.shape, len(data_train.loc[data_train[\"LABEL\"] == \"active\"]))"
   ]
  },
  {
   "cell_type": "code",
   "execution_count": 7,
   "id": "second-lawyer",
   "metadata": {},
   "outputs": [
    {
     "name": "stdout",
     "output_type": "stream",
     "text": [
      "Validation dataset shape & Nr. of actives:\n",
      "(192, 138) 104\n"
     ]
    }
   ],
   "source": [
    "print(\"Validation dataset shape & Nr. of actives:\")\n",
    "print(data_val.shape, len(data_val.loc[data_val[\"LABEL\"] == \"active\"]))"
   ]
  },
  {
   "cell_type": "code",
   "execution_count": 8,
   "id": "spanish-bacteria",
   "metadata": {},
   "outputs": [
    {
     "name": "stdout",
     "output_type": "stream",
     "text": [
      "Test dataset shape & Nr. of actives:\n",
      "(239, 138) 133\n"
     ]
    }
   ],
   "source": [
    "print(\"Test dataset shape & Nr. of actives:\")\n",
    "print(data_test.shape, len(data_test.loc[data_test[\"LABEL\"] == \"active\"]))"
   ]
  },
  {
   "cell_type": "code",
   "execution_count": 9,
   "id": "realistic-ending",
   "metadata": {},
   "outputs": [
    {
     "data": {
      "text/html": [
       "<div>\n",
       "<style scoped>\n",
       "    .dataframe tbody tr th:only-of-type {\n",
       "        vertical-align: middle;\n",
       "    }\n",
       "\n",
       "    .dataframe tbody tr th {\n",
       "        vertical-align: top;\n",
       "    }\n",
       "\n",
       "    .dataframe thead th {\n",
       "        text-align: right;\n",
       "    }\n",
       "</style>\n",
       "<table border=\"1\" class=\"dataframe\">\n",
       "  <thead>\n",
       "    <tr style=\"text-align: right;\">\n",
       "      <th></th>\n",
       "      <th>INDEX</th>\n",
       "      <th>INTERACTION</th>\n",
       "      <th>DIFFERENCE</th>\n",
       "      <th>ACTIVE_FREQUENCY</th>\n",
       "      <th>INACTIVE_FREQUENCY</th>\n",
       "    </tr>\n",
       "  </thead>\n",
       "  <tbody>\n",
       "    <tr>\n",
       "      <th>0</th>\n",
       "      <td>1</td>\n",
       "      <td>Water_Bridge:ASP74A</td>\n",
       "      <td>0.547036</td>\n",
       "      <td>1.337237</td>\n",
       "      <td>1.884273</td>\n",
       "    </tr>\n",
       "    <tr>\n",
       "      <th>1</th>\n",
       "      <td>2</td>\n",
       "      <td>Pi-Stacking:TRP286A</td>\n",
       "      <td>0.448127</td>\n",
       "      <td>0.822014</td>\n",
       "      <td>0.373887</td>\n",
       "    </tr>\n",
       "    <tr>\n",
       "      <th>2</th>\n",
       "      <td>3</td>\n",
       "      <td>Hydrogen_Bond:TYR124A</td>\n",
       "      <td>0.409753</td>\n",
       "      <td>0.323185</td>\n",
       "      <td>0.732938</td>\n",
       "    </tr>\n",
       "    <tr>\n",
       "      <th>3</th>\n",
       "      <td>4</td>\n",
       "      <td>Hydrophobic_Interaction:ASP74A</td>\n",
       "      <td>0.372518</td>\n",
       "      <td>0.117096</td>\n",
       "      <td>0.489614</td>\n",
       "    </tr>\n",
       "    <tr>\n",
       "      <th>4</th>\n",
       "      <td>5</td>\n",
       "      <td>Hydrophobic_Interaction:TYR124A</td>\n",
       "      <td>0.265096</td>\n",
       "      <td>0.203747</td>\n",
       "      <td>0.468843</td>\n",
       "    </tr>\n",
       "    <tr>\n",
       "      <th>...</th>\n",
       "      <td>...</td>\n",
       "      <td>...</td>\n",
       "      <td>...</td>\n",
       "      <td>...</td>\n",
       "      <td>...</td>\n",
       "    </tr>\n",
       "    <tr>\n",
       "      <th>130</th>\n",
       "      <td>131</td>\n",
       "      <td>Hydrophobic_Interaction:ARG296A</td>\n",
       "      <td>0.001091</td>\n",
       "      <td>0.007026</td>\n",
       "      <td>0.005935</td>\n",
       "    </tr>\n",
       "    <tr>\n",
       "      <th>131</th>\n",
       "      <td>132</td>\n",
       "      <td>Water_Bridge:GLY126A</td>\n",
       "      <td>0.000625</td>\n",
       "      <td>0.002342</td>\n",
       "      <td>0.002967</td>\n",
       "    </tr>\n",
       "    <tr>\n",
       "      <th>132</th>\n",
       "      <td>133</td>\n",
       "      <td>Hydrogen_Bond:TRP286A</td>\n",
       "      <td>0.000625</td>\n",
       "      <td>0.002342</td>\n",
       "      <td>0.002967</td>\n",
       "    </tr>\n",
       "    <tr>\n",
       "      <th>133</th>\n",
       "      <td>134</td>\n",
       "      <td>Water_Bridge:THR83A</td>\n",
       "      <td>0.000625</td>\n",
       "      <td>0.002342</td>\n",
       "      <td>0.002967</td>\n",
       "    </tr>\n",
       "    <tr>\n",
       "      <th>134</th>\n",
       "      <td>135</td>\n",
       "      <td>Hydrophobic_Interaction:TYR341A</td>\n",
       "      <td>0.000438</td>\n",
       "      <td>0.901639</td>\n",
       "      <td>0.902077</td>\n",
       "    </tr>\n",
       "  </tbody>\n",
       "</table>\n",
       "<p>135 rows × 5 columns</p>\n",
       "</div>"
      ],
      "text/plain": [
       "     INDEX                      INTERACTION  DIFFERENCE  ACTIVE_FREQUENCY  \\\n",
       "0        1              Water_Bridge:ASP74A    0.547036          1.337237   \n",
       "1        2              Pi-Stacking:TRP286A    0.448127          0.822014   \n",
       "2        3            Hydrogen_Bond:TYR124A    0.409753          0.323185   \n",
       "3        4   Hydrophobic_Interaction:ASP74A    0.372518          0.117096   \n",
       "4        5  Hydrophobic_Interaction:TYR124A    0.265096          0.203747   \n",
       "..     ...                              ...         ...               ...   \n",
       "130    131  Hydrophobic_Interaction:ARG296A    0.001091          0.007026   \n",
       "131    132             Water_Bridge:GLY126A    0.000625          0.002342   \n",
       "132    133            Hydrogen_Bond:TRP286A    0.000625          0.002342   \n",
       "133    134              Water_Bridge:THR83A    0.000625          0.002342   \n",
       "134    135  Hydrophobic_Interaction:TYR341A    0.000438          0.901639   \n",
       "\n",
       "     INACTIVE_FREQUENCY  \n",
       "0              1.884273  \n",
       "1              0.373887  \n",
       "2              0.732938  \n",
       "3              0.489614  \n",
       "4              0.468843  \n",
       "..                  ...  \n",
       "130            0.005935  \n",
       "131            0.002967  \n",
       "132            0.002967  \n",
       "133            0.002967  \n",
       "134            0.902077  \n",
       "\n",
       "[135 rows x 5 columns]"
      ]
     },
     "execution_count": 9,
     "metadata": {},
     "output_type": "execute_result"
    }
   ],
   "source": [
    "features"
   ]
  },
  {
   "cell_type": "markdown",
   "id": "mighty-procurement",
   "metadata": {},
   "source": [
    "#### **Extract relevant features:**"
   ]
  },
  {
   "cell_type": "code",
   "execution_count": 10,
   "id": "plain-destruction",
   "metadata": {},
   "outputs": [
    {
     "data": {
      "text/html": [
       "<div>\n",
       "<style scoped>\n",
       "    .dataframe tbody tr th:only-of-type {\n",
       "        vertical-align: middle;\n",
       "    }\n",
       "\n",
       "    .dataframe tbody tr th {\n",
       "        vertical-align: top;\n",
       "    }\n",
       "\n",
       "    .dataframe thead th {\n",
       "        text-align: right;\n",
       "    }\n",
       "</style>\n",
       "<table border=\"1\" class=\"dataframe\">\n",
       "  <thead>\n",
       "    <tr style=\"text-align: right;\">\n",
       "      <th></th>\n",
       "      <th>INDEX</th>\n",
       "      <th>INTERACTION</th>\n",
       "      <th>DIFFERENCE</th>\n",
       "      <th>ACTIVE_FREQUENCY</th>\n",
       "      <th>INACTIVE_FREQUENCY</th>\n",
       "    </tr>\n",
       "  </thead>\n",
       "  <tbody>\n",
       "    <tr>\n",
       "      <th>0</th>\n",
       "      <td>1</td>\n",
       "      <td>Water_Bridge:ASP74A</td>\n",
       "      <td>0.547036</td>\n",
       "      <td>1.337237</td>\n",
       "      <td>1.884273</td>\n",
       "    </tr>\n",
       "    <tr>\n",
       "      <th>1</th>\n",
       "      <td>2</td>\n",
       "      <td>Pi-Stacking:TRP286A</td>\n",
       "      <td>0.448127</td>\n",
       "      <td>0.822014</td>\n",
       "      <td>0.373887</td>\n",
       "    </tr>\n",
       "    <tr>\n",
       "      <th>2</th>\n",
       "      <td>3</td>\n",
       "      <td>Hydrogen_Bond:TYR124A</td>\n",
       "      <td>0.409753</td>\n",
       "      <td>0.323185</td>\n",
       "      <td>0.732938</td>\n",
       "    </tr>\n",
       "    <tr>\n",
       "      <th>3</th>\n",
       "      <td>4</td>\n",
       "      <td>Hydrophobic_Interaction:ASP74A</td>\n",
       "      <td>0.372518</td>\n",
       "      <td>0.117096</td>\n",
       "      <td>0.489614</td>\n",
       "    </tr>\n",
       "    <tr>\n",
       "      <th>4</th>\n",
       "      <td>5</td>\n",
       "      <td>Hydrophobic_Interaction:TYR124A</td>\n",
       "      <td>0.265096</td>\n",
       "      <td>0.203747</td>\n",
       "      <td>0.468843</td>\n",
       "    </tr>\n",
       "    <tr>\n",
       "      <th>6</th>\n",
       "      <td>7</td>\n",
       "      <td>Hydrogen_Bond:ASP74A</td>\n",
       "      <td>0.238987</td>\n",
       "      <td>0.117096</td>\n",
       "      <td>0.356083</td>\n",
       "    </tr>\n",
       "    <tr>\n",
       "      <th>9</th>\n",
       "      <td>10</td>\n",
       "      <td>Pi-Stacking:TYR337A</td>\n",
       "      <td>0.166360</td>\n",
       "      <td>0.100703</td>\n",
       "      <td>0.267062</td>\n",
       "    </tr>\n",
       "    <tr>\n",
       "      <th>10</th>\n",
       "      <td>11</td>\n",
       "      <td>Hydrophobic_Interaction:LEU289A</td>\n",
       "      <td>0.159181</td>\n",
       "      <td>0.381733</td>\n",
       "      <td>0.222552</td>\n",
       "    </tr>\n",
       "    <tr>\n",
       "      <th>11</th>\n",
       "      <td>12</td>\n",
       "      <td>Pi-Stacking:TYR341A</td>\n",
       "      <td>0.157659</td>\n",
       "      <td>0.245902</td>\n",
       "      <td>0.403561</td>\n",
       "    </tr>\n",
       "    <tr>\n",
       "      <th>13</th>\n",
       "      <td>14</td>\n",
       "      <td>Hydrogen_Bond:TYR341A</td>\n",
       "      <td>0.146839</td>\n",
       "      <td>0.105386</td>\n",
       "      <td>0.252226</td>\n",
       "    </tr>\n",
       "    <tr>\n",
       "      <th>15</th>\n",
       "      <td>16</td>\n",
       "      <td>Hydrophobic_Interaction:PHE297A</td>\n",
       "      <td>0.110355</td>\n",
       "      <td>0.302108</td>\n",
       "      <td>0.412463</td>\n",
       "    </tr>\n",
       "    <tr>\n",
       "      <th>16</th>\n",
       "      <td>17</td>\n",
       "      <td>Hydrophobic_Interaction:TYR72A</td>\n",
       "      <td>0.094761</td>\n",
       "      <td>0.377049</td>\n",
       "      <td>0.471810</td>\n",
       "    </tr>\n",
       "    <tr>\n",
       "      <th>20</th>\n",
       "      <td>21</td>\n",
       "      <td>Hydrogen_Bond:PHE295A</td>\n",
       "      <td>0.081432</td>\n",
       "      <td>0.295082</td>\n",
       "      <td>0.213650</td>\n",
       "    </tr>\n",
       "    <tr>\n",
       "      <th>23</th>\n",
       "      <td>24</td>\n",
       "      <td>Hydrogen_Bond:SER203A</td>\n",
       "      <td>0.078784</td>\n",
       "      <td>0.271663</td>\n",
       "      <td>0.192878</td>\n",
       "    </tr>\n",
       "    <tr>\n",
       "      <th>24</th>\n",
       "      <td>25</td>\n",
       "      <td>Hydrophobic_Interaction:TRP86A</td>\n",
       "      <td>0.078027</td>\n",
       "      <td>0.803279</td>\n",
       "      <td>0.881306</td>\n",
       "    </tr>\n",
       "    <tr>\n",
       "      <th>26</th>\n",
       "      <td>27</td>\n",
       "      <td>Hydrophobic_Interaction:PHE338A</td>\n",
       "      <td>0.074399</td>\n",
       "      <td>0.810304</td>\n",
       "      <td>0.735905</td>\n",
       "    </tr>\n",
       "    <tr>\n",
       "      <th>27</th>\n",
       "      <td>28</td>\n",
       "      <td>Pi-Stacking:TRP86A</td>\n",
       "      <td>0.064406</td>\n",
       "      <td>0.803279</td>\n",
       "      <td>0.738872</td>\n",
       "    </tr>\n",
       "    <tr>\n",
       "      <th>29</th>\n",
       "      <td>30</td>\n",
       "      <td>Hydrogen_Bond:HIS447A</td>\n",
       "      <td>0.062725</td>\n",
       "      <td>0.187354</td>\n",
       "      <td>0.124629</td>\n",
       "    </tr>\n",
       "    <tr>\n",
       "      <th>30</th>\n",
       "      <td>31</td>\n",
       "      <td>Hydrophobic_Interaction:TRP286A</td>\n",
       "      <td>0.061779</td>\n",
       "      <td>0.786885</td>\n",
       "      <td>0.848665</td>\n",
       "    </tr>\n",
       "    <tr>\n",
       "      <th>34</th>\n",
       "      <td>35</td>\n",
       "      <td>Hydrogen_Bond:GLY121A</td>\n",
       "      <td>0.050084</td>\n",
       "      <td>0.156909</td>\n",
       "      <td>0.106825</td>\n",
       "    </tr>\n",
       "  </tbody>\n",
       "</table>\n",
       "</div>"
      ],
      "text/plain": [
       "    INDEX                      INTERACTION  DIFFERENCE  ACTIVE_FREQUENCY  \\\n",
       "0       1              Water_Bridge:ASP74A    0.547036          1.337237   \n",
       "1       2              Pi-Stacking:TRP286A    0.448127          0.822014   \n",
       "2       3            Hydrogen_Bond:TYR124A    0.409753          0.323185   \n",
       "3       4   Hydrophobic_Interaction:ASP74A    0.372518          0.117096   \n",
       "4       5  Hydrophobic_Interaction:TYR124A    0.265096          0.203747   \n",
       "6       7             Hydrogen_Bond:ASP74A    0.238987          0.117096   \n",
       "9      10              Pi-Stacking:TYR337A    0.166360          0.100703   \n",
       "10     11  Hydrophobic_Interaction:LEU289A    0.159181          0.381733   \n",
       "11     12              Pi-Stacking:TYR341A    0.157659          0.245902   \n",
       "13     14            Hydrogen_Bond:TYR341A    0.146839          0.105386   \n",
       "15     16  Hydrophobic_Interaction:PHE297A    0.110355          0.302108   \n",
       "16     17   Hydrophobic_Interaction:TYR72A    0.094761          0.377049   \n",
       "20     21            Hydrogen_Bond:PHE295A    0.081432          0.295082   \n",
       "23     24            Hydrogen_Bond:SER203A    0.078784          0.271663   \n",
       "24     25   Hydrophobic_Interaction:TRP86A    0.078027          0.803279   \n",
       "26     27  Hydrophobic_Interaction:PHE338A    0.074399          0.810304   \n",
       "27     28               Pi-Stacking:TRP86A    0.064406          0.803279   \n",
       "29     30            Hydrogen_Bond:HIS447A    0.062725          0.187354   \n",
       "30     31  Hydrophobic_Interaction:TRP286A    0.061779          0.786885   \n",
       "34     35            Hydrogen_Bond:GLY121A    0.050084          0.156909   \n",
       "\n",
       "    INACTIVE_FREQUENCY  \n",
       "0             1.884273  \n",
       "1             0.373887  \n",
       "2             0.732938  \n",
       "3             0.489614  \n",
       "4             0.468843  \n",
       "6             0.356083  \n",
       "9             0.267062  \n",
       "10            0.222552  \n",
       "11            0.403561  \n",
       "13            0.252226  \n",
       "15            0.412463  \n",
       "16            0.471810  \n",
       "20            0.213650  \n",
       "23            0.192878  \n",
       "24            0.881306  \n",
       "26            0.735905  \n",
       "27            0.738872  \n",
       "29            0.124629  \n",
       "30            0.848665  \n",
       "34            0.106825  "
      ]
     },
     "execution_count": 10,
     "metadata": {},
     "output_type": "execute_result"
    }
   ],
   "source": [
    "features_filtered = get_relevant_features(features)\n",
    "features_filtered"
   ]
  },
  {
   "cell_type": "code",
   "execution_count": 11,
   "id": "verbal-inspiration",
   "metadata": {},
   "outputs": [],
   "source": [
    "# some error checking -- should print nothing\n",
    "for item in features_filtered[\"INTERACTION\"].to_list():\n",
    "    if item not in data_train.columns.to_list():\n",
    "        print(item)"
   ]
  },
  {
   "cell_type": "markdown",
   "id": "changed-dispatch",
   "metadata": {},
   "source": [
    "#### **Get positive features (e.g. features that have a positive impact on activeness) and negative features:**"
   ]
  },
  {
   "cell_type": "code",
   "execution_count": 12,
   "id": "juvenile-regulation",
   "metadata": {},
   "outputs": [],
   "source": [
    "positives, negatives = get_feature_impact(features_filtered)"
   ]
  },
  {
   "cell_type": "code",
   "execution_count": 13,
   "id": "happy-privilege",
   "metadata": {},
   "outputs": [
    {
     "data": {
      "text/plain": [
       "['Pi-Stacking:TRP286A',\n",
       " 'Hydrophobic_Interaction:LEU289A',\n",
       " 'Hydrogen_Bond:PHE295A',\n",
       " 'Hydrogen_Bond:SER203A',\n",
       " 'Hydrophobic_Interaction:PHE338A',\n",
       " 'Pi-Stacking:TRP86A',\n",
       " 'Hydrogen_Bond:HIS447A',\n",
       " 'Hydrogen_Bond:GLY121A']"
      ]
     },
     "execution_count": 13,
     "metadata": {},
     "output_type": "execute_result"
    }
   ],
   "source": [
    "positives"
   ]
  },
  {
   "cell_type": "code",
   "execution_count": 14,
   "id": "grand-negotiation",
   "metadata": {},
   "outputs": [
    {
     "data": {
      "text/plain": [
       "['Water_Bridge:ASP74A',\n",
       " 'Hydrogen_Bond:TYR124A',\n",
       " 'Hydrophobic_Interaction:ASP74A',\n",
       " 'Hydrophobic_Interaction:TYR124A',\n",
       " 'Hydrogen_Bond:ASP74A',\n",
       " 'Pi-Stacking:TYR337A',\n",
       " 'Pi-Stacking:TYR341A',\n",
       " 'Hydrogen_Bond:TYR341A',\n",
       " 'Hydrophobic_Interaction:PHE297A',\n",
       " 'Hydrophobic_Interaction:TYR72A',\n",
       " 'Hydrophobic_Interaction:TRP86A',\n",
       " 'Hydrophobic_Interaction:TRP286A']"
      ]
     },
     "execution_count": 14,
     "metadata": {},
     "output_type": "execute_result"
    }
   ],
   "source": [
    "negatives"
   ]
  },
  {
   "cell_type": "markdown",
   "id": "australian-bridges",
   "metadata": {},
   "source": [
    "#### **Score Compounds with different strategies & save results:**"
   ]
  },
  {
   "cell_type": "code",
   "execution_count": 15,
   "id": "comic-credits",
   "metadata": {},
   "outputs": [],
   "source": [
    "# make data copies\n",
    "train_result_strat1 = data_train.copy()\n",
    "train_result_strat2 = data_train.copy()\n",
    "train_result_strat3 = data_train.copy()\n",
    "train_result_strat4 = data_train.copy()\n",
    "# calculate scores\n",
    "train_result_strat1[\"SCORE\"] = train_result_strat1.apply(lambda x: score(x, positives, negatives, \"+\"), axis = 1)\n",
    "train_result_strat2[\"SCORE\"] = train_result_strat2.apply(lambda x: score(x, positives, negatives, \"++\"), axis = 1)\n",
    "train_result_strat3[\"SCORE\"] = train_result_strat3.apply(lambda x: score(x, positives, negatives, \"+-\"), axis = 1)\n",
    "train_result_strat4[\"SCORE\"] = train_result_strat4.apply(lambda x: score(x, positives, negatives, \"++--\"), axis = 1)\n",
    "# sort data\n",
    "train_result_strat1_sorted = train_result_strat1.sort_values(by = \"SCORE\", ascending = False)\n",
    "train_result_strat2_sorted = train_result_strat2.sort_values(by = \"SCORE\", ascending = False)\n",
    "train_result_strat3_sorted = train_result_strat3.sort_values(by = \"SCORE\", ascending = False)\n",
    "train_result_strat4_sorted = train_result_strat4.sort_values(by = \"SCORE\", ascending = False)\n",
    "# save data\n",
    "# train_result_strat1_sorted.to_csv(\"train_scores1.csv\")\n",
    "# train_result_strat2_sorted.to_csv(\"train_scores2.csv\")\n",
    "# train_result_strat3_sorted.to_csv(\"train_scores3.csv\")\n",
    "# train_result_strat4_sorted.to_csv(\"train_scores4.csv\")"
   ]
  },
  {
   "cell_type": "markdown",
   "id": "continuing-dependence",
   "metadata": {},
   "source": [
    "#### **Find best cutoff value and print metrics:**"
   ]
  },
  {
   "cell_type": "markdown",
   "id": "provincial-arbitration",
   "metadata": {},
   "source": [
    "*cutoff/accuracy for different strategies:*"
   ]
  },
  {
   "cell_type": "code",
   "execution_count": 16,
   "id": "packed-covering",
   "metadata": {},
   "outputs": [
    {
     "name": "stdout",
     "output_type": "stream",
     "text": [
      "Strategy 1:  [3, 0.643979057591623] \n",
      "Strategy 2:  [4, 0.6413612565445026] \n",
      "Strategy 3:  [0, 0.6413612565445026] \n",
      "Strategy 4:  [0, 0.6583769633507853]\n"
     ]
    }
   ],
   "source": [
    "print(\n",
    "\"Strategy 1: \",\n",
    "get_cutoff(train_result_strat1[\"LABEL\"].to_list(), train_result_strat1[\"SCORE\"].to_list()),\n",
    "\"\\nStrategy 2: \",\n",
    "get_cutoff(train_result_strat2[\"LABEL\"].to_list(), train_result_strat2[\"SCORE\"].to_list()),\n",
    "\"\\nStrategy 3: \",\n",
    "get_cutoff(train_result_strat3[\"LABEL\"].to_list(), train_result_strat3[\"SCORE\"].to_list()),\n",
    "\"\\nStrategy 4: \",\n",
    "get_cutoff(train_result_strat4[\"LABEL\"].to_list(), train_result_strat4[\"SCORE\"].to_list())\n",
    ")"
   ]
  },
  {
   "cell_type": "markdown",
   "id": "successful-senator",
   "metadata": {},
   "source": [
    "*accuracy for best cutoff:*"
   ]
  },
  {
   "cell_type": "code",
   "execution_count": 17,
   "id": "covered-collaboration",
   "metadata": {},
   "outputs": [
    {
     "name": "stdout",
     "output_type": "stream",
     "text": [
      "Strategy 1:  0.643979057591623 \n",
      "Strategy 2:  0.6413612565445026 \n",
      "Strategy 3:  0.6413612565445026 \n",
      "Strategy 4:  0.6583769633507853\n"
     ]
    }
   ],
   "source": [
    "print(\n",
    "\"Strategy 1: \",\n",
    "test_cutoff(train_result_strat1[\"LABEL\"].to_list(), train_result_strat1[\"SCORE\"].to_list(), 3, \"accuracy\"),\n",
    "\"\\nStrategy 2: \",\n",
    "test_cutoff(train_result_strat2[\"LABEL\"].to_list(), train_result_strat2[\"SCORE\"].to_list(), 4, \"accuracy\"),\n",
    "\"\\nStrategy 3: \",\n",
    "test_cutoff(train_result_strat3[\"LABEL\"].to_list(), train_result_strat3[\"SCORE\"].to_list(), 0, \"accuracy\"),\n",
    "\"\\nStrategy 4: \",\n",
    "test_cutoff(train_result_strat4[\"LABEL\"].to_list(), train_result_strat4[\"SCORE\"].to_list(), 0, \"accuracy\")\n",
    ")"
   ]
  },
  {
   "cell_type": "markdown",
   "id": "egyptian-black",
   "metadata": {},
   "source": [
    "*false positive rate for best cutoff:*"
   ]
  },
  {
   "cell_type": "code",
   "execution_count": 18,
   "id": "sharp-blanket",
   "metadata": {},
   "outputs": [
    {
     "name": "stdout",
     "output_type": "stream",
     "text": [
      "Strategy 1:  0.3560830860534125 \n",
      "Strategy 2:  0.26409495548961426 \n",
      "Strategy 3:  0.09198813056379822 \n",
      "Strategy 4:  0.10979228486646884\n"
     ]
    }
   ],
   "source": [
    "print(\n",
    "\"Strategy 1: \",\n",
    "test_cutoff(train_result_strat1[\"LABEL\"].to_list(), train_result_strat1[\"SCORE\"].to_list(), 3, \"fpr\"),\n",
    "\"\\nStrategy 2: \",\n",
    "test_cutoff(train_result_strat2[\"LABEL\"].to_list(), train_result_strat2[\"SCORE\"].to_list(), 4, \"fpr\"),\n",
    "\"\\nStrategy 3: \",\n",
    "test_cutoff(train_result_strat3[\"LABEL\"].to_list(), train_result_strat3[\"SCORE\"].to_list(), 0, \"fpr\"),\n",
    "\"\\nStrategy 4: \",\n",
    "test_cutoff(train_result_strat4[\"LABEL\"].to_list(), train_result_strat4[\"SCORE\"].to_list(), 0, \"fpr\")\n",
    ")"
   ]
  },
  {
   "cell_type": "markdown",
   "id": "painted-warren",
   "metadata": {},
   "source": [
    "#### **Calculate validation and test results:**"
   ]
  },
  {
   "cell_type": "code",
   "execution_count": 19,
   "id": "provincial-rouge",
   "metadata": {},
   "outputs": [],
   "source": [
    "# make data copies\n",
    "val_result_strat1 = data_val.copy()\n",
    "val_result_strat2 = data_val.copy()\n",
    "val_result_strat3 = data_val.copy()\n",
    "val_result_strat4 = data_val.copy()\n",
    "# calculate scores\n",
    "val_result_strat1[\"SCORE\"] = val_result_strat1.apply(lambda x: score(x, positives, negatives, \"+\"), axis = 1)\n",
    "val_result_strat2[\"SCORE\"] = val_result_strat2.apply(lambda x: score(x, positives, negatives, \"++\"), axis = 1)\n",
    "val_result_strat3[\"SCORE\"] = val_result_strat3.apply(lambda x: score(x, positives, negatives, \"+-\"), axis = 1)\n",
    "val_result_strat4[\"SCORE\"] = val_result_strat4.apply(lambda x: score(x, positives, negatives, \"++--\"), axis = 1)\n",
    "# sort data\n",
    "val_result_strat1_sorted = val_result_strat1.sort_values(by = \"SCORE\", ascending = False)\n",
    "val_result_strat2_sorted = val_result_strat2.sort_values(by = \"SCORE\", ascending = False)\n",
    "val_result_strat3_sorted = val_result_strat3.sort_values(by = \"SCORE\", ascending = False)\n",
    "val_result_strat4_sorted = val_result_strat4.sort_values(by = \"SCORE\", ascending = False)"
   ]
  },
  {
   "cell_type": "code",
   "execution_count": 20,
   "id": "endless-today",
   "metadata": {},
   "outputs": [],
   "source": [
    "# make data copies\n",
    "test_result_strat1 = data_test.copy()\n",
    "test_result_strat2 = data_test.copy()\n",
    "test_result_strat3 = data_test.copy()\n",
    "test_result_strat4 = data_test.copy()\n",
    "# calculate scores\n",
    "test_result_strat1[\"SCORE\"] = test_result_strat1.apply(lambda x: score(x, positives, negatives, \"+\"), axis = 1)\n",
    "test_result_strat2[\"SCORE\"] = test_result_strat2.apply(lambda x: score(x, positives, negatives, \"++\"), axis = 1)\n",
    "test_result_strat3[\"SCORE\"] = test_result_strat3.apply(lambda x: score(x, positives, negatives, \"+-\"), axis = 1)\n",
    "test_result_strat4[\"SCORE\"] = test_result_strat4.apply(lambda x: score(x, positives, negatives, \"++--\"), axis = 1)\n",
    "# sort data\n",
    "test_result_strat1_sorted = test_result_strat1.sort_values(by = \"SCORE\", ascending = False)\n",
    "test_result_strat2_sorted = test_result_strat2.sort_values(by = \"SCORE\", ascending = False)\n",
    "test_result_strat3_sorted = test_result_strat3.sort_values(by = \"SCORE\", ascending = False)\n",
    "test_result_strat4_sorted = test_result_strat4.sort_values(by = \"SCORE\", ascending = False)"
   ]
  },
  {
   "cell_type": "markdown",
   "id": "discrete-twenty",
   "metadata": {},
   "source": [
    "#### **Quality metrics for training and validation data:**"
   ]
  },
  {
   "cell_type": "markdown",
   "id": "blessed-adolescent",
   "metadata": {},
   "source": [
    "*training data:*"
   ]
  },
  {
   "cell_type": "code",
   "execution_count": 21,
   "id": "skilled-house",
   "metadata": {},
   "outputs": [
    {
     "name": "stdout",
     "output_type": "stream",
     "text": [
      "Strategy 1:  {'ACC': 0.643979057591623, 'FPR': 0.3560830860534125, 'AUC': 0.6515194685161119, 'Ya': 0.6962025316455697, 'EF': 1.245664482850621, 'REF': 69.62025316455696} \n",
      "Strategy 2:  {'ACC': 0.6413612565445026, 'FPR': 0.26409495548961426, 'AUC': 0.6653625112057763, 'Ya': 0.7311178247734139, 'EF': 1.3081358738334619, 'REF': 73.1117824773414} \n",
      "Strategy 3:  {'ACC': 0.6413612565445026, 'FPR': 0.09198813056379822, 'AUC': 0.7945190724049507, 'Ya': 0.8558139534883721, 'EF': 1.5312455748597569, 'REF': 85.5813953488372} \n",
      "Strategy 4:  {'ACC': 0.6583769633507853, 'FPR': 0.10979228486646884, 'AUC': 0.7945190724049507, 'Ya': 0.8458333333333333, 'EF': 1.5133879781420763, 'REF': 84.58333333333333}\n"
     ]
    }
   ],
   "source": [
    "print(\n",
    "\"Strategy 1: \",\n",
    "get_metrics(train_result_strat1, 3, pretty_print = True),\n",
    "\"\\nStrategy 2: \",\n",
    "get_metrics(train_result_strat2, 4, pretty_print = True),\n",
    "\"\\nStrategy 3: \",\n",
    "get_metrics(train_result_strat3, 0, pretty_print = True),\n",
    "\"\\nStrategy 4: \",\n",
    "get_metrics(train_result_strat4, 0, pretty_print = True)\n",
    ")"
   ]
  },
  {
   "cell_type": "code",
   "execution_count": 22,
   "id": "protective-advocate",
   "metadata": {},
   "outputs": [
    {
     "data": {
      "image/png": "[encoded data removed]",
      "text/plain": [
       "<Figure size 720x720 with 2 Axes>"
      ]
     },
     "metadata": {
      "needs_background": "light"
     },
     "output_type": "display_data"
    }
   ],
   "source": [
    "plot_confusion_matrix(get_metrics(train_result_strat3, 0)[\"CM\"], classes = [0, 1], filename = \"results/CM_train_strat3.png\");"
   ]
  },
  {
   "cell_type": "code",
   "execution_count": 23,
   "id": "owned-compatibility",
   "metadata": {},
   "outputs": [
    {
     "data": {
      "image/png": "[encoded data removed]",
      "text/plain": [
       "<Figure size 720x720 with 1 Axes>"
      ]
     },
     "metadata": {
      "needs_background": "light"
     },
     "output_type": "display_data"
    }
   ],
   "source": [
    "roc = get_metrics(train_result_strat3, 0)[\"ROC\"]\n",
    "plot_ROC_curve(roc[\"fpr\"], roc[\"tpr\"], filename = \"results/ROC_train_strat3.png\");"
   ]
  },
  {
   "cell_type": "markdown",
   "id": "distributed-advisory",
   "metadata": {},
   "source": [
    "*validation data:*"
   ]
  },
  {
   "cell_type": "code",
   "execution_count": 24,
   "id": "cardiovascular-edinburgh",
   "metadata": {},
   "outputs": [
    {
     "name": "stdout",
     "output_type": "stream",
     "text": [
      "Strategy 1:  {'ACC': 0.6510416666666666, 'FPR': 0.4090909090909091, 'AUC': 0.683402534965035, 'Ya': 0.6697247706422018, 'EF': 1.2364149611856035, 'REF': 70.1923076923077} \n",
      "Strategy 2:  {'ACC': 0.6041666666666666, 'FPR': 0.3977272727272727, 'AUC': 0.6863527097902098, 'Ya': 0.6428571428571429, 'EF': 1.186813186813187, 'REF': 64.28571428571429} \n",
      "Strategy 3:  {'ACC': 0.6510416666666666, 'FPR': 0.14772727272727273, 'AUC': 0.7742569930069931, 'Ya': 0.7936507936507936, 'EF': 1.4652014652014653, 'REF': 79.36507936507937} \n",
      "Strategy 4:  {'ACC': 0.6979166666666666, 'FPR': 0.1590909090909091, 'AUC': 0.7618006993006993, 'Ya': 0.8108108108108109, 'EF': 1.496881496881497, 'REF': 81.08108108108108}\n"
     ]
    }
   ],
   "source": [
    "print(\n",
    "\"Strategy 1: \",\n",
    "get_metrics(val_result_strat1, 3, pretty_print = True),\n",
    "\"\\nStrategy 2: \",\n",
    "get_metrics(val_result_strat2, 4, pretty_print = True),\n",
    "\"\\nStrategy 3: \",\n",
    "get_metrics(val_result_strat3, 0, pretty_print = True),\n",
    "\"\\nStrategy 4: \",\n",
    "get_metrics(val_result_strat4, 0, pretty_print = True)\n",
    ")"
   ]
  },
  {
   "cell_type": "code",
   "execution_count": 25,
   "id": "sufficient-switzerland",
   "metadata": {},
   "outputs": [
    {
     "data": {
      "image/png": "[encoded data removed]",
      "text/plain": [
       "<Figure size 720x720 with 2 Axes>"
      ]
     },
     "metadata": {
      "needs_background": "light"
     },
     "output_type": "display_data"
    }
   ],
   "source": [
    "plot_confusion_matrix(get_metrics(val_result_strat3, 0)[\"CM\"], classes = [0, 1], filename = \"results/CM_val_strat3.png\");"
   ]
  },
  {
   "cell_type": "code",
   "execution_count": 26,
   "id": "modern-mechanics",
   "metadata": {},
   "outputs": [
    {
     "data": {
      "image/png": "[encoded data removed]",
      "text/plain": [
       "<Figure size 720x720 with 1 Axes>"
      ]
     },
     "metadata": {
      "needs_background": "light"
     },
     "output_type": "display_data"
    }
   ],
   "source": [
    "roc = get_metrics(val_result_strat3, 0)[\"ROC\"]\n",
    "plot_ROC_curve(roc[\"fpr\"], roc[\"tpr\"], filename = \"results/ROC_val_strat3.png\");"
   ]
  },
  {
   "cell_type": "markdown",
   "id": "flush-ontario",
   "metadata": {},
   "source": [
    "*test data:*"
   ]
  },
  {
   "cell_type": "code",
   "execution_count": 27,
   "id": "blocked-consistency",
   "metadata": {},
   "outputs": [
    {
     "name": "stdout",
     "output_type": "stream",
     "text": [
      "Strategy 1:  {'ACC': 0.6150627615062761, 'FPR': 0.41509433962264153, 'AUC': 0.6099446730032629, 'Ya': 0.6589147286821705, 'EF': 1.18406481319578, 'REF': 65.89147286821705} \n",
      "Strategy 2:  {'ACC': 0.6150627615062761, 'FPR': 0.32075471698113206, 'AUC': 0.6398425308554404, 'Ya': 0.6880733944954128, 'EF': 1.2364627164240878, 'REF': 68.80733944954129} \n",
      "Strategy 3:  {'ACC': 0.6359832635983264, 'FPR': 0.1320754716981132, 'AUC': 0.7520215633423181, 'Ya': 0.8108108108108109, 'EF': 1.4570209307051414, 'REF': 81.08108108108108} \n",
      "Strategy 4:  {'ACC': 0.6485355648535565, 'FPR': 0.1320754716981132, 'AUC': 0.7505319903532416, 'Ya': 0.8181818181818182, 'EF': 1.4702665755297337, 'REF': 81.81818181818181}\n"
     ]
    }
   ],
   "source": [
    "print(\n",
    "\"Strategy 1: \",\n",
    "get_metrics(test_result_strat1, 3, pretty_print = True),\n",
    "\"\\nStrategy 2: \",\n",
    "get_metrics(test_result_strat2, 4, pretty_print = True),\n",
    "\"\\nStrategy 3: \",\n",
    "get_metrics(test_result_strat3, 0, pretty_print = True),\n",
    "\"\\nStrategy 4: \",\n",
    "get_metrics(test_result_strat4, 0, pretty_print = True)\n",
    ")"
   ]
  },
  {
   "cell_type": "code",
   "execution_count": 28,
   "id": "cordless-appointment",
   "metadata": {},
   "outputs": [
    {
     "data": {
      "image/png": "[encoded data removed]",
      "text/plain": [
       "<Figure size 720x720 with 2 Axes>"
      ]
     },
     "metadata": {
      "needs_background": "light"
     },
     "output_type": "display_data"
    }
   ],
   "source": [
    "plot_confusion_matrix(get_metrics(test_result_strat3, 0)[\"CM\"], classes = [0, 1], filename = \"results/CM_test_strat3.png\");"
   ]
  },
  {
   "cell_type": "code",
   "execution_count": 29,
   "id": "specialized-mapping",
   "metadata": {},
   "outputs": [
    {
     "data": {
      "image/png": "[encoded data removed]",
      "text/plain": [
       "<Figure size 720x720 with 1 Axes>"
      ]
     },
     "metadata": {
      "needs_background": "light"
     },
     "output_type": "display_data"
    }
   ],
   "source": [
    "roc = get_metrics(test_result_strat3, 0)[\"ROC\"]\n",
    "plot_ROC_curve(roc[\"fpr\"], roc[\"tpr\"], filename = \"results/ROC_test_strat3.png\");"
   ]
  },
  {
   "cell_type": "markdown",
   "id": "literary-fifth",
   "metadata": {},
   "source": [
    "#### **Clean up:**"
   ]
  },
  {
   "cell_type": "code",
   "execution_count": 30,
   "id": "embedded-opposition",
   "metadata": {},
   "outputs": [],
   "source": [
    "os.remove(\"scoring.py\")"
   ]
  },
  {
   "cell_type": "code",
   "execution_count": null,
   "id": "differential-trustee",
   "metadata": {},
   "outputs": [],
   "source": []
  }
 ],
 "metadata": {
  "kernelspec": {
   "display_name": "Python 3",
   "language": "python",
   "name": "python3"
  },
  "language_info": {
   "codemirror_mode": {
    "name": "ipython",
    "version": 3
   },
   "file_extension": ".py",
   "mimetype": "text/x-python",
   "name": "python",
   "nbconvert_exporter": "python",
   "pygments_lexer": "ipython3",
   "version": "3.8.8"
  }
 },
 "nbformat": 4,
 "nbformat_minor": 5
}
