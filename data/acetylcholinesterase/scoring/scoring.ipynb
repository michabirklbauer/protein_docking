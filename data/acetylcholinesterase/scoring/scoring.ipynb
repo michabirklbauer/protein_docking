{
 "cells": [
  {
   "cell_type": "markdown",
   "id": "packed-machine",
   "metadata": {},
   "source": [
    "## **SCORING - Acetylcholinesterase**\n",
    "#### **Micha Birklbauer 2021-10-08**"
   ]
  },
  {
   "cell_type": "code",
   "execution_count": 1,
   "id": "warming-insured",
   "metadata": {},
   "outputs": [
    {
     "data": {
      "text/plain": [
       "'PIAScore.py'"
      ]
     },
     "execution_count": 1,
     "metadata": {},
     "output_type": "execute_result"
    }
   ],
   "source": [
    "import os\n",
    "from shutil import copyfile\n",
    "from itertools import islice\n",
    "copyfile(\"../../../scripts/python/PIAScore.py\", \"PIAScore.py\")"
   ]
  },
  {
   "cell_type": "code",
   "execution_count": 2,
   "id": "graphic-offense",
   "metadata": {},
   "outputs": [],
   "source": [
    "import pandas as pd\n",
    "from PIAScore import *"
   ]
  },
  {
   "cell_type": "markdown",
   "id": "spare-times",
   "metadata": {},
   "source": [
    "#### **Load data:**"
   ]
  },
  {
   "cell_type": "code",
   "execution_count": 3,
   "id": "invalid-shade",
   "metadata": {},
   "outputs": [],
   "source": [
    "data_train = pd.read_csv(\"data_train.csv\")\n",
    "data_val = pd.read_csv(\"data_val.csv\")\n",
    "data_test = pd.read_csv(\"data_test.csv\")\n",
    "features = pd.read_csv(\"features.csv\")"
   ]
  },
  {
   "cell_type": "code",
   "execution_count": 4,
   "id": "blank-familiar",
   "metadata": {},
   "outputs": [],
   "source": [
    "# data_train.info()"
   ]
  },
  {
   "cell_type": "code",
   "execution_count": 5,
   "id": "filled-characteristic",
   "metadata": {},
   "outputs": [
    {
     "data": {
      "text/html": [
       "<div>\n",
       "<style scoped>\n",
       "    .dataframe tbody tr th:only-of-type {\n",
       "        vertical-align: middle;\n",
       "    }\n",
       "\n",
       "    .dataframe tbody tr th {\n",
       "        vertical-align: top;\n",
       "    }\n",
       "\n",
       "    .dataframe thead th {\n",
       "        text-align: right;\n",
       "    }\n",
       "</style>\n",
       "<table border=\"1\" class=\"dataframe\">\n",
       "  <thead>\n",
       "    <tr style=\"text-align: right;\">\n",
       "      <th></th>\n",
       "      <th>INDEX</th>\n",
       "      <th>NAME</th>\n",
       "      <th>Hydrophobic_Interaction:PHE297A</th>\n",
       "      <th>Pi-Cation_Interaction:TRP86A</th>\n",
       "      <th>Water_Bridge:GLY120A</th>\n",
       "      <th>Pi-Stacking:TRP86A</th>\n",
       "      <th>Hydrophobic_Interaction:TYR341A</th>\n",
       "      <th>Halogen_Bond:THR75A</th>\n",
       "      <th>Halogen_Bond:TRP286A</th>\n",
       "      <th>Hydrogen_Bond:ASN87A</th>\n",
       "      <th>...</th>\n",
       "      <th>Water_Bridge:THR83A</th>\n",
       "      <th>Hydrogen_Bond:GLN291A</th>\n",
       "      <th>Halogen_Bond:GLY120A</th>\n",
       "      <th>Water_Bridge:THR75A</th>\n",
       "      <th>Pi-Cation_Interaction:TYR341A</th>\n",
       "      <th>Hydrogen_Bond:SER125A</th>\n",
       "      <th>Water_Bridge:ALA204A</th>\n",
       "      <th>Pi-Stacking:TYR124A</th>\n",
       "      <th>Hydrophobic_Interaction:GLU202A</th>\n",
       "      <th>LABEL</th>\n",
       "    </tr>\n",
       "  </thead>\n",
       "  <tbody>\n",
       "    <tr>\n",
       "      <th>0</th>\n",
       "      <td>1</td>\n",
       "      <td>ZINC39710553|decoys_final2|sdf|80</td>\n",
       "      <td>1</td>\n",
       "      <td>0</td>\n",
       "      <td>0</td>\n",
       "      <td>1</td>\n",
       "      <td>1</td>\n",
       "      <td>0</td>\n",
       "      <td>0</td>\n",
       "      <td>0</td>\n",
       "      <td>...</td>\n",
       "      <td>0</td>\n",
       "      <td>0</td>\n",
       "      <td>0</td>\n",
       "      <td>0</td>\n",
       "      <td>0</td>\n",
       "      <td>1</td>\n",
       "      <td>0</td>\n",
       "      <td>0</td>\n",
       "      <td>0</td>\n",
       "      <td>inactive</td>\n",
       "    </tr>\n",
       "    <tr>\n",
       "      <th>1</th>\n",
       "      <td>2</td>\n",
       "      <td>ZINC39711540|decoys_final2|sdf|89</td>\n",
       "      <td>1</td>\n",
       "      <td>0</td>\n",
       "      <td>0</td>\n",
       "      <td>1</td>\n",
       "      <td>1</td>\n",
       "      <td>0</td>\n",
       "      <td>0</td>\n",
       "      <td>0</td>\n",
       "      <td>...</td>\n",
       "      <td>0</td>\n",
       "      <td>0</td>\n",
       "      <td>0</td>\n",
       "      <td>0</td>\n",
       "      <td>0</td>\n",
       "      <td>0</td>\n",
       "      <td>1</td>\n",
       "      <td>0</td>\n",
       "      <td>0</td>\n",
       "      <td>inactive</td>\n",
       "    </tr>\n",
       "    <tr>\n",
       "      <th>2</th>\n",
       "      <td>3</td>\n",
       "      <td>ZINC39710360|decoys_final2|sdf|76</td>\n",
       "      <td>1</td>\n",
       "      <td>0</td>\n",
       "      <td>0</td>\n",
       "      <td>2</td>\n",
       "      <td>1</td>\n",
       "      <td>0</td>\n",
       "      <td>0</td>\n",
       "      <td>0</td>\n",
       "      <td>...</td>\n",
       "      <td>0</td>\n",
       "      <td>0</td>\n",
       "      <td>0</td>\n",
       "      <td>0</td>\n",
       "      <td>0</td>\n",
       "      <td>0</td>\n",
       "      <td>0</td>\n",
       "      <td>0</td>\n",
       "      <td>0</td>\n",
       "      <td>inactive</td>\n",
       "    </tr>\n",
       "    <tr>\n",
       "      <th>3</th>\n",
       "      <td>4</td>\n",
       "      <td>CHEMBL374981|actives_final|sdf|138</td>\n",
       "      <td>0</td>\n",
       "      <td>0</td>\n",
       "      <td>0</td>\n",
       "      <td>4</td>\n",
       "      <td>1</td>\n",
       "      <td>0</td>\n",
       "      <td>0</td>\n",
       "      <td>0</td>\n",
       "      <td>...</td>\n",
       "      <td>0</td>\n",
       "      <td>0</td>\n",
       "      <td>0</td>\n",
       "      <td>0</td>\n",
       "      <td>0</td>\n",
       "      <td>0</td>\n",
       "      <td>0</td>\n",
       "      <td>0</td>\n",
       "      <td>0</td>\n",
       "      <td>active</td>\n",
       "    </tr>\n",
       "    <tr>\n",
       "      <th>4</th>\n",
       "      <td>5</td>\n",
       "      <td>CHEMBL219264|actives_final|sdf|334</td>\n",
       "      <td>0</td>\n",
       "      <td>0</td>\n",
       "      <td>1</td>\n",
       "      <td>2</td>\n",
       "      <td>1</td>\n",
       "      <td>0</td>\n",
       "      <td>0</td>\n",
       "      <td>0</td>\n",
       "      <td>...</td>\n",
       "      <td>0</td>\n",
       "      <td>0</td>\n",
       "      <td>0</td>\n",
       "      <td>0</td>\n",
       "      <td>0</td>\n",
       "      <td>0</td>\n",
       "      <td>0</td>\n",
       "      <td>0</td>\n",
       "      <td>0</td>\n",
       "      <td>active</td>\n",
       "    </tr>\n",
       "    <tr>\n",
       "      <th>...</th>\n",
       "      <td>...</td>\n",
       "      <td>...</td>\n",
       "      <td>...</td>\n",
       "      <td>...</td>\n",
       "      <td>...</td>\n",
       "      <td>...</td>\n",
       "      <td>...</td>\n",
       "      <td>...</td>\n",
       "      <td>...</td>\n",
       "      <td>...</td>\n",
       "      <td>...</td>\n",
       "      <td>...</td>\n",
       "      <td>...</td>\n",
       "      <td>...</td>\n",
       "      <td>...</td>\n",
       "      <td>...</td>\n",
       "      <td>...</td>\n",
       "      <td>...</td>\n",
       "      <td>...</td>\n",
       "      <td>...</td>\n",
       "      <td>...</td>\n",
       "    </tr>\n",
       "    <tr>\n",
       "      <th>759</th>\n",
       "      <td>760</td>\n",
       "      <td>CHEMBL576005|actives_final|sdf|279</td>\n",
       "      <td>0</td>\n",
       "      <td>0</td>\n",
       "      <td>0</td>\n",
       "      <td>0</td>\n",
       "      <td>1</td>\n",
       "      <td>0</td>\n",
       "      <td>0</td>\n",
       "      <td>0</td>\n",
       "      <td>...</td>\n",
       "      <td>0</td>\n",
       "      <td>0</td>\n",
       "      <td>0</td>\n",
       "      <td>0</td>\n",
       "      <td>0</td>\n",
       "      <td>0</td>\n",
       "      <td>0</td>\n",
       "      <td>0</td>\n",
       "      <td>0</td>\n",
       "      <td>active</td>\n",
       "    </tr>\n",
       "    <tr>\n",
       "      <th>760</th>\n",
       "      <td>761</td>\n",
       "      <td>CHEMBL153865|actives_final|sdf|341</td>\n",
       "      <td>0</td>\n",
       "      <td>0</td>\n",
       "      <td>0</td>\n",
       "      <td>0</td>\n",
       "      <td>1</td>\n",
       "      <td>0</td>\n",
       "      <td>0</td>\n",
       "      <td>0</td>\n",
       "      <td>...</td>\n",
       "      <td>0</td>\n",
       "      <td>0</td>\n",
       "      <td>0</td>\n",
       "      <td>0</td>\n",
       "      <td>0</td>\n",
       "      <td>0</td>\n",
       "      <td>0</td>\n",
       "      <td>0</td>\n",
       "      <td>0</td>\n",
       "      <td>active</td>\n",
       "    </tr>\n",
       "    <tr>\n",
       "      <th>761</th>\n",
       "      <td>762</td>\n",
       "      <td>CHEMBL146674|actives_final|sdf|297</td>\n",
       "      <td>0</td>\n",
       "      <td>2</td>\n",
       "      <td>0</td>\n",
       "      <td>0</td>\n",
       "      <td>0</td>\n",
       "      <td>0</td>\n",
       "      <td>0</td>\n",
       "      <td>0</td>\n",
       "      <td>...</td>\n",
       "      <td>0</td>\n",
       "      <td>0</td>\n",
       "      <td>0</td>\n",
       "      <td>0</td>\n",
       "      <td>0</td>\n",
       "      <td>0</td>\n",
       "      <td>0</td>\n",
       "      <td>0</td>\n",
       "      <td>0</td>\n",
       "      <td>active</td>\n",
       "    </tr>\n",
       "    <tr>\n",
       "      <th>762</th>\n",
       "      <td>763</td>\n",
       "      <td>ZINC04195090|decoys_final2|sdf|324</td>\n",
       "      <td>0</td>\n",
       "      <td>0</td>\n",
       "      <td>0</td>\n",
       "      <td>0</td>\n",
       "      <td>0</td>\n",
       "      <td>0</td>\n",
       "      <td>0</td>\n",
       "      <td>0</td>\n",
       "      <td>...</td>\n",
       "      <td>0</td>\n",
       "      <td>0</td>\n",
       "      <td>0</td>\n",
       "      <td>0</td>\n",
       "      <td>0</td>\n",
       "      <td>0</td>\n",
       "      <td>0</td>\n",
       "      <td>0</td>\n",
       "      <td>0</td>\n",
       "      <td>inactive</td>\n",
       "    </tr>\n",
       "    <tr>\n",
       "      <th>763</th>\n",
       "      <td>764</td>\n",
       "      <td>CHEMBL134342|actives_final|sdf|478</td>\n",
       "      <td>1</td>\n",
       "      <td>0</td>\n",
       "      <td>0</td>\n",
       "      <td>0</td>\n",
       "      <td>1</td>\n",
       "      <td>0</td>\n",
       "      <td>0</td>\n",
       "      <td>0</td>\n",
       "      <td>...</td>\n",
       "      <td>0</td>\n",
       "      <td>0</td>\n",
       "      <td>0</td>\n",
       "      <td>0</td>\n",
       "      <td>0</td>\n",
       "      <td>0</td>\n",
       "      <td>0</td>\n",
       "      <td>0</td>\n",
       "      <td>0</td>\n",
       "      <td>active</td>\n",
       "    </tr>\n",
       "  </tbody>\n",
       "</table>\n",
       "<p>764 rows × 138 columns</p>\n",
       "</div>"
      ],
      "text/plain": [
       "     INDEX                                NAME  \\\n",
       "0        1   ZINC39710553|decoys_final2|sdf|80   \n",
       "1        2   ZINC39711540|decoys_final2|sdf|89   \n",
       "2        3   ZINC39710360|decoys_final2|sdf|76   \n",
       "3        4  CHEMBL374981|actives_final|sdf|138   \n",
       "4        5  CHEMBL219264|actives_final|sdf|334   \n",
       "..     ...                                 ...   \n",
       "759    760  CHEMBL576005|actives_final|sdf|279   \n",
       "760    761  CHEMBL153865|actives_final|sdf|341   \n",
       "761    762  CHEMBL146674|actives_final|sdf|297   \n",
       "762    763  ZINC04195090|decoys_final2|sdf|324   \n",
       "763    764  CHEMBL134342|actives_final|sdf|478   \n",
       "\n",
       "     Hydrophobic_Interaction:PHE297A  Pi-Cation_Interaction:TRP86A  \\\n",
       "0                                  1                             0   \n",
       "1                                  1                             0   \n",
       "2                                  1                             0   \n",
       "3                                  0                             0   \n",
       "4                                  0                             0   \n",
       "..                               ...                           ...   \n",
       "759                                0                             0   \n",
       "760                                0                             0   \n",
       "761                                0                             2   \n",
       "762                                0                             0   \n",
       "763                                1                             0   \n",
       "\n",
       "     Water_Bridge:GLY120A  Pi-Stacking:TRP86A  \\\n",
       "0                       0                   1   \n",
       "1                       0                   1   \n",
       "2                       0                   2   \n",
       "3                       0                   4   \n",
       "4                       1                   2   \n",
       "..                    ...                 ...   \n",
       "759                     0                   0   \n",
       "760                     0                   0   \n",
       "761                     0                   0   \n",
       "762                     0                   0   \n",
       "763                     0                   0   \n",
       "\n",
       "     Hydrophobic_Interaction:TYR341A  Halogen_Bond:THR75A  \\\n",
       "0                                  1                    0   \n",
       "1                                  1                    0   \n",
       "2                                  1                    0   \n",
       "3                                  1                    0   \n",
       "4                                  1                    0   \n",
       "..                               ...                  ...   \n",
       "759                                1                    0   \n",
       "760                                1                    0   \n",
       "761                                0                    0   \n",
       "762                                0                    0   \n",
       "763                                1                    0   \n",
       "\n",
       "     Halogen_Bond:TRP286A  Hydrogen_Bond:ASN87A  ...  Water_Bridge:THR83A  \\\n",
       "0                       0                     0  ...                    0   \n",
       "1                       0                     0  ...                    0   \n",
       "2                       0                     0  ...                    0   \n",
       "3                       0                     0  ...                    0   \n",
       "4                       0                     0  ...                    0   \n",
       "..                    ...                   ...  ...                  ...   \n",
       "759                     0                     0  ...                    0   \n",
       "760                     0                     0  ...                    0   \n",
       "761                     0                     0  ...                    0   \n",
       "762                     0                     0  ...                    0   \n",
       "763                     0                     0  ...                    0   \n",
       "\n",
       "     Hydrogen_Bond:GLN291A  Halogen_Bond:GLY120A  Water_Bridge:THR75A  \\\n",
       "0                        0                     0                    0   \n",
       "1                        0                     0                    0   \n",
       "2                        0                     0                    0   \n",
       "3                        0                     0                    0   \n",
       "4                        0                     0                    0   \n",
       "..                     ...                   ...                  ...   \n",
       "759                      0                     0                    0   \n",
       "760                      0                     0                    0   \n",
       "761                      0                     0                    0   \n",
       "762                      0                     0                    0   \n",
       "763                      0                     0                    0   \n",
       "\n",
       "     Pi-Cation_Interaction:TYR341A  Hydrogen_Bond:SER125A  \\\n",
       "0                                0                      1   \n",
       "1                                0                      0   \n",
       "2                                0                      0   \n",
       "3                                0                      0   \n",
       "4                                0                      0   \n",
       "..                             ...                    ...   \n",
       "759                              0                      0   \n",
       "760                              0                      0   \n",
       "761                              0                      0   \n",
       "762                              0                      0   \n",
       "763                              0                      0   \n",
       "\n",
       "     Water_Bridge:ALA204A  Pi-Stacking:TYR124A  \\\n",
       "0                       0                    0   \n",
       "1                       1                    0   \n",
       "2                       0                    0   \n",
       "3                       0                    0   \n",
       "4                       0                    0   \n",
       "..                    ...                  ...   \n",
       "759                     0                    0   \n",
       "760                     0                    0   \n",
       "761                     0                    0   \n",
       "762                     0                    0   \n",
       "763                     0                    0   \n",
       "\n",
       "     Hydrophobic_Interaction:GLU202A     LABEL  \n",
       "0                                  0  inactive  \n",
       "1                                  0  inactive  \n",
       "2                                  0  inactive  \n",
       "3                                  0    active  \n",
       "4                                  0    active  \n",
       "..                               ...       ...  \n",
       "759                                0    active  \n",
       "760                                0    active  \n",
       "761                                0    active  \n",
       "762                                0  inactive  \n",
       "763                                0    active  \n",
       "\n",
       "[764 rows x 138 columns]"
      ]
     },
     "execution_count": 5,
     "metadata": {},
     "output_type": "execute_result"
    }
   ],
   "source": [
    "data_train"
   ]
  },
  {
   "cell_type": "code",
   "execution_count": 6,
   "id": "fifteen-opinion",
   "metadata": {},
   "outputs": [
    {
     "name": "stdout",
     "output_type": "stream",
     "text": [
      "Training dataset shape & Nr. of actives:\n",
      "(764, 138) 427\n"
     ]
    }
   ],
   "source": [
    "print(\"Training dataset shape & Nr. of actives:\")\n",
    "print(data_train.shape, len(data_train.loc[data_train[\"LABEL\"] == \"active\"]))"
   ]
  },
  {
   "cell_type": "code",
   "execution_count": 7,
   "id": "extended-delay",
   "metadata": {},
   "outputs": [
    {
     "name": "stdout",
     "output_type": "stream",
     "text": [
      "Validation dataset shape & Nr. of actives:\n",
      "(192, 138) 104\n"
     ]
    }
   ],
   "source": [
    "print(\"Validation dataset shape & Nr. of actives:\")\n",
    "print(data_val.shape, len(data_val.loc[data_val[\"LABEL\"] == \"active\"]))"
   ]
  },
  {
   "cell_type": "code",
   "execution_count": 8,
   "id": "quiet-ordinance",
   "metadata": {},
   "outputs": [
    {
     "name": "stdout",
     "output_type": "stream",
     "text": [
      "Test dataset shape & Nr. of actives:\n",
      "(239, 138) 133\n"
     ]
    }
   ],
   "source": [
    "print(\"Test dataset shape & Nr. of actives:\")\n",
    "print(data_test.shape, len(data_test.loc[data_test[\"LABEL\"] == \"active\"]))"
   ]
  },
  {
   "cell_type": "code",
   "execution_count": 9,
   "id": "medieval-terminology",
   "metadata": {},
   "outputs": [
    {
     "data": {
      "text/html": [
       "<div>\n",
       "<style scoped>\n",
       "    .dataframe tbody tr th:only-of-type {\n",
       "        vertical-align: middle;\n",
       "    }\n",
       "\n",
       "    .dataframe tbody tr th {\n",
       "        vertical-align: top;\n",
       "    }\n",
       "\n",
       "    .dataframe thead th {\n",
       "        text-align: right;\n",
       "    }\n",
       "</style>\n",
       "<table border=\"1\" class=\"dataframe\">\n",
       "  <thead>\n",
       "    <tr style=\"text-align: right;\">\n",
       "      <th></th>\n",
       "      <th>INDEX</th>\n",
       "      <th>INTERACTION</th>\n",
       "      <th>DIFFERENCE</th>\n",
       "      <th>ACTIVE_FREQUENCY</th>\n",
       "      <th>INACTIVE_FREQUENCY</th>\n",
       "    </tr>\n",
       "  </thead>\n",
       "  <tbody>\n",
       "    <tr>\n",
       "      <th>0</th>\n",
       "      <td>1</td>\n",
       "      <td>Water_Bridge:ASP74A</td>\n",
       "      <td>0.547036</td>\n",
       "      <td>1.337237</td>\n",
       "      <td>1.884273</td>\n",
       "    </tr>\n",
       "    <tr>\n",
       "      <th>1</th>\n",
       "      <td>2</td>\n",
       "      <td>Pi-Stacking:TRP286A</td>\n",
       "      <td>0.448127</td>\n",
       "      <td>0.822014</td>\n",
       "      <td>0.373887</td>\n",
       "    </tr>\n",
       "    <tr>\n",
       "      <th>2</th>\n",
       "      <td>3</td>\n",
       "      <td>Hydrogen_Bond:TYR124A</td>\n",
       "      <td>0.409753</td>\n",
       "      <td>0.323185</td>\n",
       "      <td>0.732938</td>\n",
       "    </tr>\n",
       "    <tr>\n",
       "      <th>3</th>\n",
       "      <td>4</td>\n",
       "      <td>Hydrophobic_Interaction:ASP74A</td>\n",
       "      <td>0.372518</td>\n",
       "      <td>0.117096</td>\n",
       "      <td>0.489614</td>\n",
       "    </tr>\n",
       "    <tr>\n",
       "      <th>4</th>\n",
       "      <td>5</td>\n",
       "      <td>Hydrophobic_Interaction:TYR124A</td>\n",
       "      <td>0.265096</td>\n",
       "      <td>0.203747</td>\n",
       "      <td>0.468843</td>\n",
       "    </tr>\n",
       "    <tr>\n",
       "      <th>...</th>\n",
       "      <td>...</td>\n",
       "      <td>...</td>\n",
       "      <td>...</td>\n",
       "      <td>...</td>\n",
       "      <td>...</td>\n",
       "    </tr>\n",
       "    <tr>\n",
       "      <th>130</th>\n",
       "      <td>131</td>\n",
       "      <td>Hydrophobic_Interaction:ARG296A</td>\n",
       "      <td>0.001091</td>\n",
       "      <td>0.007026</td>\n",
       "      <td>0.005935</td>\n",
       "    </tr>\n",
       "    <tr>\n",
       "      <th>131</th>\n",
       "      <td>132</td>\n",
       "      <td>Water_Bridge:GLY126A</td>\n",
       "      <td>0.000625</td>\n",
       "      <td>0.002342</td>\n",
       "      <td>0.002967</td>\n",
       "    </tr>\n",
       "    <tr>\n",
       "      <th>132</th>\n",
       "      <td>133</td>\n",
       "      <td>Hydrogen_Bond:TRP286A</td>\n",
       "      <td>0.000625</td>\n",
       "      <td>0.002342</td>\n",
       "      <td>0.002967</td>\n",
       "    </tr>\n",
       "    <tr>\n",
       "      <th>133</th>\n",
       "      <td>134</td>\n",
       "      <td>Water_Bridge:THR83A</td>\n",
       "      <td>0.000625</td>\n",
       "      <td>0.002342</td>\n",
       "      <td>0.002967</td>\n",
       "    </tr>\n",
       "    <tr>\n",
       "      <th>134</th>\n",
       "      <td>135</td>\n",
       "      <td>Hydrophobic_Interaction:TYR341A</td>\n",
       "      <td>0.000438</td>\n",
       "      <td>0.901639</td>\n",
       "      <td>0.902077</td>\n",
       "    </tr>\n",
       "  </tbody>\n",
       "</table>\n",
       "<p>135 rows × 5 columns</p>\n",
       "</div>"
      ],
      "text/plain": [
       "     INDEX                      INTERACTION  DIFFERENCE  ACTIVE_FREQUENCY  \\\n",
       "0        1              Water_Bridge:ASP74A    0.547036          1.337237   \n",
       "1        2              Pi-Stacking:TRP286A    0.448127          0.822014   \n",
       "2        3            Hydrogen_Bond:TYR124A    0.409753          0.323185   \n",
       "3        4   Hydrophobic_Interaction:ASP74A    0.372518          0.117096   \n",
       "4        5  Hydrophobic_Interaction:TYR124A    0.265096          0.203747   \n",
       "..     ...                              ...         ...               ...   \n",
       "130    131  Hydrophobic_Interaction:ARG296A    0.001091          0.007026   \n",
       "131    132             Water_Bridge:GLY126A    0.000625          0.002342   \n",
       "132    133            Hydrogen_Bond:TRP286A    0.000625          0.002342   \n",
       "133    134              Water_Bridge:THR83A    0.000625          0.002342   \n",
       "134    135  Hydrophobic_Interaction:TYR341A    0.000438          0.901639   \n",
       "\n",
       "     INACTIVE_FREQUENCY  \n",
       "0              1.884273  \n",
       "1              0.373887  \n",
       "2              0.732938  \n",
       "3              0.489614  \n",
       "4              0.468843  \n",
       "..                  ...  \n",
       "130            0.005935  \n",
       "131            0.002967  \n",
       "132            0.002967  \n",
       "133            0.002967  \n",
       "134            0.902077  \n",
       "\n",
       "[135 rows x 5 columns]"
      ]
     },
     "execution_count": 9,
     "metadata": {},
     "output_type": "execute_result"
    }
   ],
   "source": [
    "features"
   ]
  },
  {
   "cell_type": "markdown",
   "id": "civic-glucose",
   "metadata": {},
   "source": [
    "#### **Extract relevant features:**"
   ]
  },
  {
   "cell_type": "code",
   "execution_count": 10,
   "id": "blond-module",
   "metadata": {},
   "outputs": [],
   "source": [
    "optimized_values = get_optimized_feature_thresholds(features, data_train)"
   ]
  },
  {
   "cell_type": "code",
   "execution_count": 11,
   "id": "antique-combine",
   "metadata": {},
   "outputs": [
    {
     "name": "stdout",
     "output_type": "stream",
     "text": [
      "Key: 0.0, 0.0, 0.0: strat4 Accuracy: 0.7814136125654451\n",
      "Key: 0.0, 0.0, 0.0: strat3 Accuracy: 0.7774869109947644\n",
      "Key: 0.0, 0.05, 0.0: strat3 Accuracy: 0.768324607329843\n",
      "Key: 0.05, 0.0, 0.0: strat3 Accuracy: 0.7657068062827225\n",
      "Key: 0.15000000000000002, 0.0, 0.0: strat3 Accuracy: 0.7657068062827225\n"
     ]
    }
   ],
   "source": [
    "for item in islice(optimized_values[\"ACC\"].items(), 5):\n",
    "    print('Key: {} Accuracy: {}'.format(item[0], item[1]))"
   ]
  },
  {
   "cell_type": "code",
   "execution_count": 12,
   "id": "minute-immigration",
   "metadata": {},
   "outputs": [
    {
     "name": "stdout",
     "output_type": "stream",
     "text": [
      "Key: 0.0, 0.0, 0.0: strat3 Area under the ROC curve: 0.8514409412157139\n",
      "Key: 0.0, 0.0, 0.0: strat4 Area under the ROC curve: 0.8495437772326424\n",
      "Key: 0.05, 0.0, 0.0: strat3 Area under the ROC curve: 0.8412532401198062\n",
      "Key: 0.05, 0.05, 0.0: strat3 Area under the ROC curve: 0.8372400086171551\n",
      "Key: 0.05, 0.0, 0.0: strat4 Area under the ROC curve: 0.8372295846392261\n"
     ]
    }
   ],
   "source": [
    "for item in islice(optimized_values[\"AUC\"].items(), 5):\n",
    "    print('Key: {} Area under the ROC curve: {}'.format(item[0], item[1]))"
   ]
  },
  {
   "cell_type": "code",
   "execution_count": 13,
   "id": "cathedral-median",
   "metadata": {},
   "outputs": [],
   "source": [
    "optimized_values_val = get_optimized_feature_thresholds(features, data_train, data_val)"
   ]
  },
  {
   "cell_type": "code",
   "execution_count": 14,
   "id": "interim-divide",
   "metadata": {},
   "outputs": [
    {
     "name": "stdout",
     "output_type": "stream",
     "text": [
      "Key: 0.1, 0.0, 0.05: strat3 Accuracy: 0.765625\n",
      "Key: 0.1, 0.05, 0.05: strat3 Accuracy: 0.765625\n",
      "Key: 0.1, 0.0, 0.1: strat3 Accuracy: 0.7604166666666666\n",
      "Key: 0.1, 0.0, 0.15000000000000002: strat3 Accuracy: 0.7604166666666666\n",
      "Key: 0.1, 0.0, 0.2: strat3 Accuracy: 0.7604166666666666\n"
     ]
    }
   ],
   "source": [
    "for item in islice(optimized_values_val[\"ACC\"].items(), 5):\n",
    "    print('Key: {} Accuracy: {}'.format(item[0], item[1]))"
   ]
  },
  {
   "cell_type": "code",
   "execution_count": 15,
   "id": "proved-terrace",
   "metadata": {},
   "outputs": [
    {
     "name": "stdout",
     "output_type": "stream",
     "text": [
      "Key: 0.0, 0.0, 0.0: strat3 Area under the ROC curve: 0.8558784965034965\n",
      "Key: 0.0, 0.0, 0.05: strat3 Area under the ROC curve: 0.8438592657342657\n",
      "Key: 0.0, 0.0, 0.0: strat4 Area under the ROC curve: 0.8377950174825175\n",
      "Key: 0.0, 0.05, 0.0: strat3 Area under the ROC curve: 0.8358828671328672\n",
      "Key: 0.0, 0.05, 0.05: strat3 Area under the ROC curve: 0.8330965909090908\n"
     ]
    }
   ],
   "source": [
    "for item in islice(optimized_values_val[\"AUC\"].items(), 5):\n",
    "    print('Key: {} Area under the ROC curve: {}'.format(item[0], item[1]))"
   ]
  },
  {
   "cell_type": "code",
   "execution_count": 16,
   "id": "twelve-harvey",
   "metadata": {},
   "outputs": [
    {
     "data": {
      "text/html": [
       "<div>\n",
       "<style scoped>\n",
       "    .dataframe tbody tr th:only-of-type {\n",
       "        vertical-align: middle;\n",
       "    }\n",
       "\n",
       "    .dataframe tbody tr th {\n",
       "        vertical-align: top;\n",
       "    }\n",
       "\n",
       "    .dataframe thead th {\n",
       "        text-align: right;\n",
       "    }\n",
       "</style>\n",
       "<table border=\"1\" class=\"dataframe\">\n",
       "  <thead>\n",
       "    <tr style=\"text-align: right;\">\n",
       "      <th></th>\n",
       "      <th>INDEX</th>\n",
       "      <th>INTERACTION</th>\n",
       "      <th>DIFFERENCE</th>\n",
       "      <th>ACTIVE_FREQUENCY</th>\n",
       "      <th>INACTIVE_FREQUENCY</th>\n",
       "    </tr>\n",
       "  </thead>\n",
       "  <tbody>\n",
       "    <tr>\n",
       "      <th>0</th>\n",
       "      <td>1</td>\n",
       "      <td>Water_Bridge:ASP74A</td>\n",
       "      <td>0.547036</td>\n",
       "      <td>1.337237</td>\n",
       "      <td>1.884273</td>\n",
       "    </tr>\n",
       "    <tr>\n",
       "      <th>1</th>\n",
       "      <td>2</td>\n",
       "      <td>Pi-Stacking:TRP286A</td>\n",
       "      <td>0.448127</td>\n",
       "      <td>0.822014</td>\n",
       "      <td>0.373887</td>\n",
       "    </tr>\n",
       "    <tr>\n",
       "      <th>2</th>\n",
       "      <td>3</td>\n",
       "      <td>Hydrogen_Bond:TYR124A</td>\n",
       "      <td>0.409753</td>\n",
       "      <td>0.323185</td>\n",
       "      <td>0.732938</td>\n",
       "    </tr>\n",
       "    <tr>\n",
       "      <th>3</th>\n",
       "      <td>4</td>\n",
       "      <td>Hydrophobic_Interaction:ASP74A</td>\n",
       "      <td>0.372518</td>\n",
       "      <td>0.117096</td>\n",
       "      <td>0.489614</td>\n",
       "    </tr>\n",
       "    <tr>\n",
       "      <th>4</th>\n",
       "      <td>5</td>\n",
       "      <td>Hydrophobic_Interaction:TYR124A</td>\n",
       "      <td>0.265096</td>\n",
       "      <td>0.203747</td>\n",
       "      <td>0.468843</td>\n",
       "    </tr>\n",
       "    <tr>\n",
       "      <th>5</th>\n",
       "      <td>6</td>\n",
       "      <td>Water_Bridge:SER293A</td>\n",
       "      <td>0.261642</td>\n",
       "      <td>0.353630</td>\n",
       "      <td>0.091988</td>\n",
       "    </tr>\n",
       "    <tr>\n",
       "      <th>6</th>\n",
       "      <td>7</td>\n",
       "      <td>Hydrogen_Bond:ASP74A</td>\n",
       "      <td>0.238987</td>\n",
       "      <td>0.117096</td>\n",
       "      <td>0.356083</td>\n",
       "    </tr>\n",
       "    <tr>\n",
       "      <th>8</th>\n",
       "      <td>9</td>\n",
       "      <td>Water_Bridge:SER125A</td>\n",
       "      <td>0.193532</td>\n",
       "      <td>0.091335</td>\n",
       "      <td>0.284866</td>\n",
       "    </tr>\n",
       "    <tr>\n",
       "      <th>9</th>\n",
       "      <td>10</td>\n",
       "      <td>Pi-Stacking:TYR337A</td>\n",
       "      <td>0.166360</td>\n",
       "      <td>0.100703</td>\n",
       "      <td>0.267062</td>\n",
       "    </tr>\n",
       "    <tr>\n",
       "      <th>10</th>\n",
       "      <td>11</td>\n",
       "      <td>Hydrophobic_Interaction:LEU289A</td>\n",
       "      <td>0.159181</td>\n",
       "      <td>0.381733</td>\n",
       "      <td>0.222552</td>\n",
       "    </tr>\n",
       "    <tr>\n",
       "      <th>11</th>\n",
       "      <td>12</td>\n",
       "      <td>Pi-Stacking:TYR341A</td>\n",
       "      <td>0.157659</td>\n",
       "      <td>0.245902</td>\n",
       "      <td>0.403561</td>\n",
       "    </tr>\n",
       "    <tr>\n",
       "      <th>12</th>\n",
       "      <td>13</td>\n",
       "      <td>Pi-Cation_Interaction:TRP86A</td>\n",
       "      <td>0.150015</td>\n",
       "      <td>0.227166</td>\n",
       "      <td>0.077151</td>\n",
       "    </tr>\n",
       "    <tr>\n",
       "      <th>13</th>\n",
       "      <td>14</td>\n",
       "      <td>Hydrogen_Bond:TYR341A</td>\n",
       "      <td>0.146839</td>\n",
       "      <td>0.105386</td>\n",
       "      <td>0.252226</td>\n",
       "    </tr>\n",
       "    <tr>\n",
       "      <th>14</th>\n",
       "      <td>15</td>\n",
       "      <td>Hydrogen_Bond:SER125A</td>\n",
       "      <td>0.131842</td>\n",
       "      <td>0.093677</td>\n",
       "      <td>0.225519</td>\n",
       "    </tr>\n",
       "    <tr>\n",
       "      <th>15</th>\n",
       "      <td>16</td>\n",
       "      <td>Hydrophobic_Interaction:PHE297A</td>\n",
       "      <td>0.110355</td>\n",
       "      <td>0.302108</td>\n",
       "      <td>0.412463</td>\n",
       "    </tr>\n",
       "  </tbody>\n",
       "</table>\n",
       "</div>"
      ],
      "text/plain": [
       "    INDEX                      INTERACTION  DIFFERENCE  ACTIVE_FREQUENCY  \\\n",
       "0       1              Water_Bridge:ASP74A    0.547036          1.337237   \n",
       "1       2              Pi-Stacking:TRP286A    0.448127          0.822014   \n",
       "2       3            Hydrogen_Bond:TYR124A    0.409753          0.323185   \n",
       "3       4   Hydrophobic_Interaction:ASP74A    0.372518          0.117096   \n",
       "4       5  Hydrophobic_Interaction:TYR124A    0.265096          0.203747   \n",
       "5       6             Water_Bridge:SER293A    0.261642          0.353630   \n",
       "6       7             Hydrogen_Bond:ASP74A    0.238987          0.117096   \n",
       "8       9             Water_Bridge:SER125A    0.193532          0.091335   \n",
       "9      10              Pi-Stacking:TYR337A    0.166360          0.100703   \n",
       "10     11  Hydrophobic_Interaction:LEU289A    0.159181          0.381733   \n",
       "11     12              Pi-Stacking:TYR341A    0.157659          0.245902   \n",
       "12     13     Pi-Cation_Interaction:TRP86A    0.150015          0.227166   \n",
       "13     14            Hydrogen_Bond:TYR341A    0.146839          0.105386   \n",
       "14     15            Hydrogen_Bond:SER125A    0.131842          0.093677   \n",
       "15     16  Hydrophobic_Interaction:PHE297A    0.110355          0.302108   \n",
       "\n",
       "    INACTIVE_FREQUENCY  \n",
       "0             1.884273  \n",
       "1             0.373887  \n",
       "2             0.732938  \n",
       "3             0.489614  \n",
       "4             0.468843  \n",
       "5             0.091988  \n",
       "6             0.356083  \n",
       "8             0.284866  \n",
       "9             0.267062  \n",
       "10            0.222552  \n",
       "11            0.403561  \n",
       "12            0.077151  \n",
       "13            0.252226  \n",
       "14            0.225519  \n",
       "15            0.412463  "
      ]
     },
     "execution_count": 16,
     "metadata": {},
     "output_type": "execute_result"
    }
   ],
   "source": [
    "features_filtered = get_relevant_features(features, 0.1, 0.05, 0.05)\n",
    "features_filtered"
   ]
  },
  {
   "cell_type": "code",
   "execution_count": 17,
   "id": "reliable-wales",
   "metadata": {},
   "outputs": [],
   "source": [
    "# some error checking -- should print nothing\n",
    "for item in features_filtered[\"INTERACTION\"].to_list():\n",
    "    if item not in data_train.columns.to_list():\n",
    "        print(item)"
   ]
  },
  {
   "cell_type": "markdown",
   "id": "attended-actor",
   "metadata": {},
   "source": [
    "#### **Get positive features (e.g. features that have a positive impact on activeness) and negative features:**"
   ]
  },
  {
   "cell_type": "code",
   "execution_count": 18,
   "id": "lyric-factor",
   "metadata": {},
   "outputs": [],
   "source": [
    "positives, negatives = get_feature_impact(features_filtered)"
   ]
  },
  {
   "cell_type": "code",
   "execution_count": 19,
   "id": "conceptual-precipitation",
   "metadata": {},
   "outputs": [
    {
     "data": {
      "text/plain": [
       "['Pi-Stacking:TRP286A',\n",
       " 'Water_Bridge:SER293A',\n",
       " 'Hydrophobic_Interaction:LEU289A',\n",
       " 'Pi-Cation_Interaction:TRP86A']"
      ]
     },
     "execution_count": 19,
     "metadata": {},
     "output_type": "execute_result"
    }
   ],
   "source": [
    "positives"
   ]
  },
  {
   "cell_type": "code",
   "execution_count": 20,
   "id": "adopted-payment",
   "metadata": {},
   "outputs": [
    {
     "data": {
      "text/plain": [
       "['Water_Bridge:ASP74A',\n",
       " 'Hydrogen_Bond:TYR124A',\n",
       " 'Hydrophobic_Interaction:ASP74A',\n",
       " 'Hydrophobic_Interaction:TYR124A',\n",
       " 'Hydrogen_Bond:ASP74A',\n",
       " 'Water_Bridge:SER125A',\n",
       " 'Pi-Stacking:TYR337A',\n",
       " 'Pi-Stacking:TYR341A',\n",
       " 'Hydrogen_Bond:TYR341A',\n",
       " 'Hydrogen_Bond:SER125A',\n",
       " 'Hydrophobic_Interaction:PHE297A']"
      ]
     },
     "execution_count": 20,
     "metadata": {},
     "output_type": "execute_result"
    }
   ],
   "source": [
    "negatives"
   ]
  },
  {
   "cell_type": "markdown",
   "id": "employed-intranet",
   "metadata": {},
   "source": [
    "#### **Score Compounds with different strategies & save results:**"
   ]
  },
  {
   "cell_type": "code",
   "execution_count": 21,
   "id": "adapted-invasion",
   "metadata": {},
   "outputs": [],
   "source": [
    "save = False\n",
    "\n",
    "# make data copies\n",
    "train_result_strat1 = data_train.copy()\n",
    "train_result_strat2 = data_train.copy()\n",
    "train_result_strat3 = data_train.copy()\n",
    "train_result_strat4 = data_train.copy()\n",
    "# calculate scores\n",
    "train_result_strat1[\"SCORE\"] = train_result_strat1.apply(lambda x: score(x, positives, negatives, \"+\"), axis = 1)\n",
    "train_result_strat2[\"SCORE\"] = train_result_strat2.apply(lambda x: score(x, positives, negatives, \"++\"), axis = 1)\n",
    "train_result_strat3[\"SCORE\"] = train_result_strat3.apply(lambda x: score(x, positives, negatives, \"+-\"), axis = 1)\n",
    "train_result_strat4[\"SCORE\"] = train_result_strat4.apply(lambda x: score(x, positives, negatives, \"++--\"), axis = 1)\n",
    "# sort data\n",
    "train_result_strat1_sorted = train_result_strat1.sort_values(by = \"SCORE\", ascending = False)\n",
    "train_result_strat2_sorted = train_result_strat2.sort_values(by = \"SCORE\", ascending = False)\n",
    "train_result_strat3_sorted = train_result_strat3.sort_values(by = \"SCORE\", ascending = False)\n",
    "train_result_strat4_sorted = train_result_strat4.sort_values(by = \"SCORE\", ascending = False)\n",
    "# save data\n",
    "if save:\n",
    "    train_result_strat1_sorted.to_csv(\"train_scores1.csv\")\n",
    "    train_result_strat2_sorted.to_csv(\"train_scores2.csv\")\n",
    "    train_result_strat3_sorted.to_csv(\"train_scores3.csv\")\n",
    "    train_result_strat4_sorted.to_csv(\"train_scores4.csv\")"
   ]
  },
  {
   "cell_type": "markdown",
   "id": "demonstrated-consultation",
   "metadata": {},
   "source": [
    "#### **Find best cutoff value and print metrics:**"
   ]
  },
  {
   "cell_type": "markdown",
   "id": "sized-momentum",
   "metadata": {},
   "source": [
    "*cutoff/accuracy for different strategies:*"
   ]
  },
  {
   "cell_type": "code",
   "execution_count": 22,
   "id": "sized-crowd",
   "metadata": {},
   "outputs": [
    {
     "name": "stdout",
     "output_type": "stream",
     "text": [
      "Strategy 1:  [1, 0.6400523560209425] \n",
      "Strategy 2:  [2, 0.6518324607329843] \n",
      "Strategy 3:  [-2, 0.7486910994764397] \n",
      "Strategy 4:  [-2, 0.7369109947643979]\n"
     ]
    }
   ],
   "source": [
    "print(\n",
    "\"Strategy 1: \",\n",
    "get_cutoff(train_result_strat1[\"LABEL\"].to_list(), train_result_strat1[\"SCORE\"].to_list()),\n",
    "\"\\nStrategy 2: \",\n",
    "get_cutoff(train_result_strat2[\"LABEL\"].to_list(), train_result_strat2[\"SCORE\"].to_list()),\n",
    "\"\\nStrategy 3: \",\n",
    "get_cutoff(train_result_strat3[\"LABEL\"].to_list(), train_result_strat3[\"SCORE\"].to_list()),\n",
    "\"\\nStrategy 4: \",\n",
    "get_cutoff(train_result_strat4[\"LABEL\"].to_list(), train_result_strat4[\"SCORE\"].to_list())\n",
    ")"
   ]
  },
  {
   "cell_type": "markdown",
   "id": "novel-communications",
   "metadata": {},
   "source": [
    "*accuracy for best cutoff:*"
   ]
  },
  {
   "cell_type": "code",
   "execution_count": 23,
   "id": "mathematical-limitation",
   "metadata": {},
   "outputs": [
    {
     "name": "stdout",
     "output_type": "stream",
     "text": [
      "Strategy 1:  0.6400523560209425 \n",
      "Strategy 2:  0.6518324607329843 \n",
      "Strategy 3:  0.7486910994764397 \n",
      "Strategy 4:  0.7369109947643979\n"
     ]
    }
   ],
   "source": [
    "print(\n",
    "\"Strategy 1: \",\n",
    "test_cutoff(train_result_strat1[\"LABEL\"].to_list(), train_result_strat1[\"SCORE\"].to_list(), 1, \"accuracy\"),\n",
    "\"\\nStrategy 2: \",\n",
    "test_cutoff(train_result_strat2[\"LABEL\"].to_list(), train_result_strat2[\"SCORE\"].to_list(), 2, \"accuracy\"),\n",
    "\"\\nStrategy 3: \",\n",
    "test_cutoff(train_result_strat3[\"LABEL\"].to_list(), train_result_strat3[\"SCORE\"].to_list(), -2, \"accuracy\"),\n",
    "\"\\nStrategy 4: \",\n",
    "test_cutoff(train_result_strat4[\"LABEL\"].to_list(), train_result_strat4[\"SCORE\"].to_list(), -2, \"accuracy\")\n",
    ")"
   ]
  },
  {
   "cell_type": "markdown",
   "id": "complex-equality",
   "metadata": {},
   "source": [
    "*false positive rate for best cutoff:*"
   ]
  },
  {
   "cell_type": "code",
   "execution_count": 24,
   "id": "fifteen-money",
   "metadata": {},
   "outputs": [
    {
     "name": "stdout",
     "output_type": "stream",
     "text": [
      "Strategy 1:  0.4836795252225519 \n",
      "Strategy 2:  0.18397626112759644 \n",
      "Strategy 3:  0.3056379821958457 \n",
      "Strategy 4:  0.2195845697329377\n"
     ]
    }
   ],
   "source": [
    "print(\n",
    "\"Strategy 1: \",\n",
    "test_cutoff(train_result_strat1[\"LABEL\"].to_list(), train_result_strat1[\"SCORE\"].to_list(), 1, \"fpr\"),\n",
    "\"\\nStrategy 2: \",\n",
    "test_cutoff(train_result_strat2[\"LABEL\"].to_list(), train_result_strat2[\"SCORE\"].to_list(), 2, \"fpr\"),\n",
    "\"\\nStrategy 3: \",\n",
    "test_cutoff(train_result_strat3[\"LABEL\"].to_list(), train_result_strat3[\"SCORE\"].to_list(), -2, \"fpr\"),\n",
    "\"\\nStrategy 4: \",\n",
    "test_cutoff(train_result_strat4[\"LABEL\"].to_list(), train_result_strat4[\"SCORE\"].to_list(), -2, \"fpr\")\n",
    ")"
   ]
  },
  {
   "cell_type": "markdown",
   "id": "faced-newark",
   "metadata": {},
   "source": [
    "#### **Calculate validation and test results:**"
   ]
  },
  {
   "cell_type": "code",
   "execution_count": 25,
   "id": "union-catalyst",
   "metadata": {},
   "outputs": [],
   "source": [
    "# make data copies\n",
    "val_result_strat1 = data_val.copy()\n",
    "val_result_strat2 = data_val.copy()\n",
    "val_result_strat3 = data_val.copy()\n",
    "val_result_strat4 = data_val.copy()\n",
    "# calculate scores\n",
    "val_result_strat1[\"SCORE\"] = val_result_strat1.apply(lambda x: score(x, positives, negatives, \"+\"), axis = 1)\n",
    "val_result_strat2[\"SCORE\"] = val_result_strat2.apply(lambda x: score(x, positives, negatives, \"++\"), axis = 1)\n",
    "val_result_strat3[\"SCORE\"] = val_result_strat3.apply(lambda x: score(x, positives, negatives, \"+-\"), axis = 1)\n",
    "val_result_strat4[\"SCORE\"] = val_result_strat4.apply(lambda x: score(x, positives, negatives, \"++--\"), axis = 1)\n",
    "# sort data\n",
    "val_result_strat1_sorted = val_result_strat1.sort_values(by = \"SCORE\", ascending = False)\n",
    "val_result_strat2_sorted = val_result_strat2.sort_values(by = \"SCORE\", ascending = False)\n",
    "val_result_strat3_sorted = val_result_strat3.sort_values(by = \"SCORE\", ascending = False)\n",
    "val_result_strat4_sorted = val_result_strat4.sort_values(by = \"SCORE\", ascending = False)"
   ]
  },
  {
   "cell_type": "code",
   "execution_count": 26,
   "id": "metallic-auckland",
   "metadata": {},
   "outputs": [],
   "source": [
    "# make data copies\n",
    "test_result_strat1 = data_test.copy()\n",
    "test_result_strat2 = data_test.copy()\n",
    "test_result_strat3 = data_test.copy()\n",
    "test_result_strat4 = data_test.copy()\n",
    "# calculate scores\n",
    "test_result_strat1[\"SCORE\"] = test_result_strat1.apply(lambda x: score(x, positives, negatives, \"+\"), axis = 1)\n",
    "test_result_strat2[\"SCORE\"] = test_result_strat2.apply(lambda x: score(x, positives, negatives, \"++\"), axis = 1)\n",
    "test_result_strat3[\"SCORE\"] = test_result_strat3.apply(lambda x: score(x, positives, negatives, \"+-\"), axis = 1)\n",
    "test_result_strat4[\"SCORE\"] = test_result_strat4.apply(lambda x: score(x, positives, negatives, \"++--\"), axis = 1)\n",
    "# sort data\n",
    "test_result_strat1_sorted = test_result_strat1.sort_values(by = \"SCORE\", ascending = False)\n",
    "test_result_strat2_sorted = test_result_strat2.sort_values(by = \"SCORE\", ascending = False)\n",
    "test_result_strat3_sorted = test_result_strat3.sort_values(by = \"SCORE\", ascending = False)\n",
    "test_result_strat4_sorted = test_result_strat4.sort_values(by = \"SCORE\", ascending = False)"
   ]
  },
  {
   "cell_type": "markdown",
   "id": "absolute-trinidad",
   "metadata": {},
   "source": [
    "#### **Quality metrics for training and validation data:**"
   ]
  },
  {
   "cell_type": "markdown",
   "id": "ordinary-rabbit",
   "metadata": {},
   "source": [
    "*training data:*"
   ]
  },
  {
   "cell_type": "code",
   "execution_count": 27,
   "id": "electrical-lottery",
   "metadata": {},
   "outputs": [
    {
     "name": "stdout",
     "output_type": "stream",
     "text": [
      "Strategy 1:  {'ACC': 0.6400523560209425, 'FPR': 0.4836795252225519, 'AUC': 0.6844835613868061, 'Ya': 0.6589958158995816, 'EF': 1.1790932162699772, 'REF': 73.77049180327869} \n",
      "Strategy 2:  {'ACC': 0.6518324607329843, 'FPR': 0.18397626112759644, 'AUC': 0.6973606487883864, 'Ya': 0.7824561403508772, 'EF': 1.3999917827355273, 'REF': 78.24561403508773} \n",
      "Strategy 3:  {'ACC': 0.7486910994764397, 'FPR': 0.3056379821958457, 'AUC': 0.8188104156387467, 'Ya': 0.7664399092970522, 'EF': 1.3713351070326647, 'REF': 79.15690866510539} \n",
      "Strategy 4:  {'ACC': 0.7369109947643979, 'FPR': 0.2195845697329377, 'AUC': 0.8133864724563756, 'Ya': 0.8021390374331551, 'EF': 1.4352089569061601, 'REF': 80.21390374331551}\n"
     ]
    }
   ],
   "source": [
    "print(\n",
    "\"Strategy 1: \",\n",
    "get_metrics(train_result_strat1, 1, pretty_print = True),\n",
    "\"\\nStrategy 2: \",\n",
    "get_metrics(train_result_strat2, 2, pretty_print = True),\n",
    "\"\\nStrategy 3: \",\n",
    "get_metrics(train_result_strat3, -2, pretty_print = True),\n",
    "\"\\nStrategy 4: \",\n",
    "get_metrics(train_result_strat4, -2, pretty_print = True)\n",
    ")"
   ]
  },
  {
   "cell_type": "code",
   "execution_count": 28,
   "id": "coordinate-standard",
   "metadata": {},
   "outputs": [
    {
     "data": {
      "image/png": "[encoded data removed]",
      "text/plain": [
       "<Figure size 720x720 with 2 Axes>"
      ]
     },
     "metadata": {
      "needs_background": "light"
     },
     "output_type": "display_data"
    }
   ],
   "source": [
    "plot_confusion_matrix(get_metrics(train_result_strat3, -2)[\"CM\"], classes = [0, 1], filename = \"results/CM_train_strat3.png\");"
   ]
  },
  {
   "cell_type": "code",
   "execution_count": 29,
   "id": "typical-rabbit",
   "metadata": {},
   "outputs": [
    {
     "data": {
      "image/png": "[encoded data removed]",
      "text/plain": [
       "<Figure size 720x720 with 1 Axes>"
      ]
     },
     "metadata": {
      "needs_background": "light"
     },
     "output_type": "display_data"
    }
   ],
   "source": [
    "roc = get_metrics(train_result_strat3, -2)[\"ROC\"]\n",
    "plot_ROC_curve(roc[\"fpr\"], roc[\"tpr\"], filename = \"results/ROC_train_strat3.png\");"
   ]
  },
  {
   "cell_type": "markdown",
   "id": "sound-visitor",
   "metadata": {},
   "source": [
    "*validation data:*"
   ]
  },
  {
   "cell_type": "code",
   "execution_count": 30,
   "id": "protected-mongolia",
   "metadata": {},
   "outputs": [
    {
     "name": "stdout",
     "output_type": "stream",
     "text": [
      "Strategy 1:  {'ACC': 0.703125, 'FPR': 0.42045454545454547, 'AUC': 0.7507102272727273, 'Ya': 0.6942148760330579, 'EF': 1.2816274634456455, 'REF': 80.76923076923077} \n",
      "Strategy 2:  {'ACC': 0.6614583333333334, 'FPR': 0.20454545454545456, 'AUC': 0.7488527097902098, 'Ya': 0.76, 'EF': 1.403076923076923, 'REF': 76.0} \n",
      "Strategy 3:  {'ACC': 0.765625, 'FPR': 0.3181818181818182, 'AUC': 0.8309659090909092, 'Ya': 0.7565217391304347, 'EF': 1.396655518394649, 'REF': 83.65384615384616} \n",
      "Strategy 4:  {'ACC': 0.734375, 'FPR': 0.2727272727272727, 'AUC': 0.8117351398601398, 'Ya': 0.7623762376237624, 'EF': 1.4074638233054075, 'REF': 76.23762376237623}\n"
     ]
    }
   ],
   "source": [
    "print(\n",
    "\"Strategy 1: \",\n",
    "get_metrics(val_result_strat1, 1, pretty_print = True),\n",
    "\"\\nStrategy 2: \",\n",
    "get_metrics(val_result_strat2, 2, pretty_print = True),\n",
    "\"\\nStrategy 3: \",\n",
    "get_metrics(val_result_strat3, -2, pretty_print = True),\n",
    "\"\\nStrategy 4: \",\n",
    "get_metrics(val_result_strat4, -2, pretty_print = True)\n",
    ")"
   ]
  },
  {
   "cell_type": "code",
   "execution_count": 31,
   "id": "prerequisite-catering",
   "metadata": {},
   "outputs": [
    {
     "data": {
      "image/png": "[encoded data removed]",
      "text/plain": [
       "<Figure size 720x720 with 2 Axes>"
      ]
     },
     "metadata": {
      "needs_background": "light"
     },
     "output_type": "display_data"
    }
   ],
   "source": [
    "plot_confusion_matrix(get_metrics(val_result_strat3, -2)[\"CM\"], classes = [0, 1], filename = \"results/CM_val_strat3.png\");"
   ]
  },
  {
   "cell_type": "code",
   "execution_count": 32,
   "id": "identified-merchant",
   "metadata": {},
   "outputs": [
    {
     "data": {
      "image/png": "[encoded data removed]",
      "text/plain": [
       "<Figure size 720x720 with 1 Axes>"
      ]
     },
     "metadata": {
      "needs_background": "light"
     },
     "output_type": "display_data"
    }
   ],
   "source": [
    "roc = get_metrics(val_result_strat3, -2)[\"ROC\"]\n",
    "plot_ROC_curve(roc[\"fpr\"], roc[\"tpr\"], filename = \"results/ROC_val_strat3.png\");"
   ]
  },
  {
   "cell_type": "markdown",
   "id": "backed-nickel",
   "metadata": {},
   "source": [
    "*test data:*"
   ]
  },
  {
   "cell_type": "code",
   "execution_count": 33,
   "id": "academic-edition",
   "metadata": {},
   "outputs": [
    {
     "name": "stdout",
     "output_type": "stream",
     "text": [
      "Strategy 1:  {'ACC': 0.6903765690376569, 'FPR': 0.4716981132075472, 'AUC': 0.732657114484324, 'Ya': 0.6855345911949685, 'EF': 1.231900505981936, 'REF': 81.95488721804512} \n",
      "Strategy 2:  {'ACC': 0.6652719665271967, 'FPR': 0.20754716981132076, 'AUC': 0.7471981841395943, 'Ya': 0.7731958762886598, 'EF': 1.3894271761878927, 'REF': 77.31958762886597} \n",
      "Strategy 3:  {'ACC': 0.7489539748953975, 'FPR': 0.3018867924528302, 'AUC': 0.8311817279046674, 'Ya': 0.7664233576642335, 'EF': 1.3772570111409912, 'REF': 78.94736842105263} \n",
      "Strategy 4:  {'ACC': 0.7447698744769874, 'FPR': 0.22641509433962265, 'AUC': 0.812278337352816, 'Ya': 0.8, 'EF': 1.4375939849624062, 'REF': 80.0}\n"
     ]
    }
   ],
   "source": [
    "print(\n",
    "\"Strategy 1: \",\n",
    "get_metrics(test_result_strat1, 1, pretty_print = True),\n",
    "\"\\nStrategy 2: \",\n",
    "get_metrics(test_result_strat2, 2, pretty_print = True),\n",
    "\"\\nStrategy 3: \",\n",
    "get_metrics(test_result_strat3, -2, pretty_print = True),\n",
    "\"\\nStrategy 4: \",\n",
    "get_metrics(test_result_strat4, -2, pretty_print = True)\n",
    ")"
   ]
  },
  {
   "cell_type": "code",
   "execution_count": 34,
   "id": "handmade-blackberry",
   "metadata": {},
   "outputs": [
    {
     "data": {
      "image/png": "[encoded data removed]",
      "text/plain": [
       "<Figure size 720x720 with 2 Axes>"
      ]
     },
     "metadata": {
      "needs_background": "light"
     },
     "output_type": "display_data"
    }
   ],
   "source": [
    "plot_confusion_matrix(get_metrics(test_result_strat3, -2)[\"CM\"], classes = [0, 1], filename = \"results/CM_test_strat3.png\");"
   ]
  },
  {
   "cell_type": "code",
   "execution_count": 35,
   "id": "israeli-quarterly",
   "metadata": {},
   "outputs": [
    {
     "data": {
      "image/png": "[encoded data removed]",
      "text/plain": [
       "<Figure size 720x720 with 1 Axes>"
      ]
     },
     "metadata": {
      "needs_background": "light"
     },
     "output_type": "display_data"
    }
   ],
   "source": [
    "roc = get_metrics(test_result_strat3, -2)[\"ROC\"]\n",
    "plot_ROC_curve(roc[\"fpr\"], roc[\"tpr\"], filename = \"results/ROC_test_strat3.png\");"
   ]
  },
  {
   "cell_type": "markdown",
   "id": "finnish-birmingham",
   "metadata": {},
   "source": [
    "#### **Clean up:**"
   ]
  },
  {
   "cell_type": "code",
   "execution_count": 36,
   "id": "municipal-stuart",
   "metadata": {},
   "outputs": [],
   "source": [
    "os.remove(\"PIAScore.py\")"
   ]
  },
  {
   "cell_type": "code",
   "execution_count": null,
   "id": "interim-wedding",
   "metadata": {},
   "outputs": [],
   "source": []
  }
 ],
 "metadata": {
  "kernelspec": {
   "display_name": "Python 3",
   "language": "python",
   "name": "python3"
  },
  "language_info": {
   "codemirror_mode": {
    "name": "ipython",
    "version": 3
   },
   "file_extension": ".py",
   "mimetype": "text/x-python",
   "name": "python",
   "nbconvert_exporter": "python",
   "pygments_lexer": "ipython3",
   "version": "3.8.8"
  }
 },
 "nbformat": 4,
 "nbformat_minor": 5
}
